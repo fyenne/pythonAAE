{
 "cells": [
  {
   "cell_type": "code",
   "execution_count": 1,
   "metadata": {
    "ExecuteTime": {
     "end_time": "2021-01-05T01:43:40.300269Z",
     "start_time": "2021-01-05T01:43:39.328701Z"
    }
   },
   "outputs": [],
   "source": [
    "import pandas as pd\n",
    "import numpy as np\n",
    "import array\n",
    "import matplotlib\n",
    "import matplotlib.pyplot as plt\n",
    "\n",
    "# from plotnine import ggplot, aes, geom_bar, geom_text"
   ]
  },
  {
   "cell_type": "code",
   "execution_count": 179,
   "metadata": {
    "ExecuteTime": {
     "end_time": "2021-01-05T07:22:14.724705Z",
     "start_time": "2021-01-05T07:22:14.696752Z"
    }
   },
   "outputs": [],
   "source": [
    "data = pd.read_csv(\"../6361/wage2.csv\")"
   ]
  },
  {
   "cell_type": "markdown",
   "metadata": {},
   "source": [
    "## Catagorise one col into several"
   ]
  },
  {
   "cell_type": "code",
   "execution_count": 180,
   "metadata": {
    "ExecuteTime": {
     "end_time": "2021-01-05T07:22:19.331596Z",
     "start_time": "2021-01-05T07:22:19.310484Z"
    }
   },
   "outputs": [],
   "source": [
    "data.insert(2, \"highdrop\", data.educ <12)\n",
    "# https://www.geeksforgeeks.org/adding-new-column-to-existing-dataframe-in-pandas/"
   ]
  },
  {
   "cell_type": "code",
   "execution_count": 181,
   "metadata": {
    "ExecuteTime": {
     "end_time": "2021-01-05T07:22:19.936231Z",
     "start_time": "2021-01-05T07:22:19.921221Z"
    }
   },
   "outputs": [],
   "source": [
    "data[\"highdrop\"] = data[\"highdrop\"].astype(int)"
   ]
  },
  {
   "cell_type": "code",
   "execution_count": 182,
   "metadata": {
    "ExecuteTime": {
     "end_time": "2021-01-05T07:22:20.306015Z",
     "start_time": "2021-01-05T07:22:20.300990Z"
    }
   },
   "outputs": [],
   "source": [
    "data.insert(2, \"high\", data.educ == 12)\n",
    "data[\"high\"] = data[\"high\"].astype(int)"
   ]
  },
  {
   "cell_type": "code",
   "execution_count": 183,
   "metadata": {
    "ExecuteTime": {
     "end_time": "2021-01-05T07:22:20.739226Z",
     "start_time": "2021-01-05T07:22:20.721977Z"
    }
   },
   "outputs": [],
   "source": [
    "data.insert(2, \"somcoll\",((data.educ < 16) & (data.educ > 12)))\n",
    "data[\"somcoll\"] = data[\"somcoll\"].astype(int)"
   ]
  },
  {
   "cell_type": "code",
   "execution_count": 184,
   "metadata": {
    "ExecuteTime": {
     "end_time": "2021-01-05T07:22:21.176264Z",
     "start_time": "2021-01-05T07:22:21.169255Z"
    }
   },
   "outputs": [],
   "source": [
    "data.insert(2, \"colgrad\",((data.educ > 15)))\n",
    "data[\"colgrad\"] = data[\"colgrad\"].astype(int)"
   ]
  },
  {
   "cell_type": "code",
   "execution_count": 185,
   "metadata": {
    "ExecuteTime": {
     "end_time": "2021-01-05T07:22:22.597745Z",
     "start_time": "2021-01-05T07:22:22.567826Z"
    },
    "collapsed": true
   },
   "outputs": [
    {
     "data": {
      "text/html": [
       "<div>\n",
       "<style scoped>\n",
       "    .dataframe tbody tr th:only-of-type {\n",
       "        vertical-align: middle;\n",
       "    }\n",
       "\n",
       "    .dataframe tbody tr th {\n",
       "        vertical-align: top;\n",
       "    }\n",
       "\n",
       "    .dataframe thead th {\n",
       "        text-align: right;\n",
       "    }\n",
       "</style>\n",
       "<table border=\"1\" class=\"dataframe\">\n",
       "  <thead>\n",
       "    <tr style=\"text-align: right;\">\n",
       "      <th></th>\n",
       "      <th>Unnamed: 0</th>\n",
       "      <th>wage</th>\n",
       "      <th>colgrad</th>\n",
       "      <th>somcoll</th>\n",
       "      <th>high</th>\n",
       "      <th>highdrop</th>\n",
       "      <th>hours</th>\n",
       "      <th>IQ</th>\n",
       "      <th>KWW</th>\n",
       "      <th>educ</th>\n",
       "      <th>...</th>\n",
       "      <th>age</th>\n",
       "      <th>married</th>\n",
       "      <th>black</th>\n",
       "      <th>south</th>\n",
       "      <th>urban</th>\n",
       "      <th>sibs</th>\n",
       "      <th>brthord</th>\n",
       "      <th>meduc</th>\n",
       "      <th>feduc</th>\n",
       "      <th>lwage</th>\n",
       "    </tr>\n",
       "  </thead>\n",
       "  <tbody>\n",
       "    <tr>\n",
       "      <th>0</th>\n",
       "      <td>1</td>\n",
       "      <td>769</td>\n",
       "      <td>0</td>\n",
       "      <td>0</td>\n",
       "      <td>1</td>\n",
       "      <td>0</td>\n",
       "      <td>40</td>\n",
       "      <td>93</td>\n",
       "      <td>35</td>\n",
       "      <td>12</td>\n",
       "      <td>...</td>\n",
       "      <td>31</td>\n",
       "      <td>1</td>\n",
       "      <td>0</td>\n",
       "      <td>0</td>\n",
       "      <td>1</td>\n",
       "      <td>1</td>\n",
       "      <td>2.0</td>\n",
       "      <td>8.0</td>\n",
       "      <td>8.0</td>\n",
       "      <td>6.645091</td>\n",
       "    </tr>\n",
       "    <tr>\n",
       "      <th>1</th>\n",
       "      <td>2</td>\n",
       "      <td>808</td>\n",
       "      <td>1</td>\n",
       "      <td>0</td>\n",
       "      <td>0</td>\n",
       "      <td>0</td>\n",
       "      <td>50</td>\n",
       "      <td>119</td>\n",
       "      <td>41</td>\n",
       "      <td>18</td>\n",
       "      <td>...</td>\n",
       "      <td>37</td>\n",
       "      <td>1</td>\n",
       "      <td>0</td>\n",
       "      <td>0</td>\n",
       "      <td>1</td>\n",
       "      <td>1</td>\n",
       "      <td>NaN</td>\n",
       "      <td>14.0</td>\n",
       "      <td>14.0</td>\n",
       "      <td>6.694562</td>\n",
       "    </tr>\n",
       "    <tr>\n",
       "      <th>2</th>\n",
       "      <td>3</td>\n",
       "      <td>825</td>\n",
       "      <td>0</td>\n",
       "      <td>1</td>\n",
       "      <td>0</td>\n",
       "      <td>0</td>\n",
       "      <td>40</td>\n",
       "      <td>108</td>\n",
       "      <td>46</td>\n",
       "      <td>14</td>\n",
       "      <td>...</td>\n",
       "      <td>33</td>\n",
       "      <td>1</td>\n",
       "      <td>0</td>\n",
       "      <td>0</td>\n",
       "      <td>1</td>\n",
       "      <td>1</td>\n",
       "      <td>2.0</td>\n",
       "      <td>14.0</td>\n",
       "      <td>14.0</td>\n",
       "      <td>6.715384</td>\n",
       "    </tr>\n",
       "    <tr>\n",
       "      <th>3</th>\n",
       "      <td>4</td>\n",
       "      <td>650</td>\n",
       "      <td>0</td>\n",
       "      <td>0</td>\n",
       "      <td>1</td>\n",
       "      <td>0</td>\n",
       "      <td>40</td>\n",
       "      <td>96</td>\n",
       "      <td>32</td>\n",
       "      <td>12</td>\n",
       "      <td>...</td>\n",
       "      <td>32</td>\n",
       "      <td>1</td>\n",
       "      <td>0</td>\n",
       "      <td>0</td>\n",
       "      <td>1</td>\n",
       "      <td>4</td>\n",
       "      <td>3.0</td>\n",
       "      <td>12.0</td>\n",
       "      <td>12.0</td>\n",
       "      <td>6.476973</td>\n",
       "    </tr>\n",
       "    <tr>\n",
       "      <th>4</th>\n",
       "      <td>5</td>\n",
       "      <td>562</td>\n",
       "      <td>0</td>\n",
       "      <td>0</td>\n",
       "      <td>0</td>\n",
       "      <td>1</td>\n",
       "      <td>40</td>\n",
       "      <td>74</td>\n",
       "      <td>27</td>\n",
       "      <td>11</td>\n",
       "      <td>...</td>\n",
       "      <td>34</td>\n",
       "      <td>1</td>\n",
       "      <td>0</td>\n",
       "      <td>0</td>\n",
       "      <td>1</td>\n",
       "      <td>10</td>\n",
       "      <td>6.0</td>\n",
       "      <td>6.0</td>\n",
       "      <td>11.0</td>\n",
       "      <td>6.331502</td>\n",
       "    </tr>\n",
       "    <tr>\n",
       "      <th>...</th>\n",
       "      <td>...</td>\n",
       "      <td>...</td>\n",
       "      <td>...</td>\n",
       "      <td>...</td>\n",
       "      <td>...</td>\n",
       "      <td>...</td>\n",
       "      <td>...</td>\n",
       "      <td>...</td>\n",
       "      <td>...</td>\n",
       "      <td>...</td>\n",
       "      <td>...</td>\n",
       "      <td>...</td>\n",
       "      <td>...</td>\n",
       "      <td>...</td>\n",
       "      <td>...</td>\n",
       "      <td>...</td>\n",
       "      <td>...</td>\n",
       "      <td>...</td>\n",
       "      <td>...</td>\n",
       "      <td>...</td>\n",
       "      <td>...</td>\n",
       "    </tr>\n",
       "    <tr>\n",
       "      <th>930</th>\n",
       "      <td>931</td>\n",
       "      <td>520</td>\n",
       "      <td>1</td>\n",
       "      <td>0</td>\n",
       "      <td>0</td>\n",
       "      <td>0</td>\n",
       "      <td>40</td>\n",
       "      <td>79</td>\n",
       "      <td>28</td>\n",
       "      <td>16</td>\n",
       "      <td>...</td>\n",
       "      <td>30</td>\n",
       "      <td>1</td>\n",
       "      <td>1</td>\n",
       "      <td>1</td>\n",
       "      <td>0</td>\n",
       "      <td>0</td>\n",
       "      <td>1.0</td>\n",
       "      <td>11.0</td>\n",
       "      <td>NaN</td>\n",
       "      <td>6.253829</td>\n",
       "    </tr>\n",
       "    <tr>\n",
       "      <th>931</th>\n",
       "      <td>932</td>\n",
       "      <td>1202</td>\n",
       "      <td>0</td>\n",
       "      <td>1</td>\n",
       "      <td>0</td>\n",
       "      <td>0</td>\n",
       "      <td>40</td>\n",
       "      <td>102</td>\n",
       "      <td>32</td>\n",
       "      <td>13</td>\n",
       "      <td>...</td>\n",
       "      <td>31</td>\n",
       "      <td>1</td>\n",
       "      <td>0</td>\n",
       "      <td>1</td>\n",
       "      <td>1</td>\n",
       "      <td>7</td>\n",
       "      <td>7.0</td>\n",
       "      <td>8.0</td>\n",
       "      <td>6.0</td>\n",
       "      <td>7.091742</td>\n",
       "    </tr>\n",
       "    <tr>\n",
       "      <th>932</th>\n",
       "      <td>933</td>\n",
       "      <td>538</td>\n",
       "      <td>0</td>\n",
       "      <td>0</td>\n",
       "      <td>1</td>\n",
       "      <td>0</td>\n",
       "      <td>45</td>\n",
       "      <td>77</td>\n",
       "      <td>22</td>\n",
       "      <td>12</td>\n",
       "      <td>...</td>\n",
       "      <td>28</td>\n",
       "      <td>1</td>\n",
       "      <td>1</td>\n",
       "      <td>1</td>\n",
       "      <td>0</td>\n",
       "      <td>9</td>\n",
       "      <td>NaN</td>\n",
       "      <td>7.0</td>\n",
       "      <td>NaN</td>\n",
       "      <td>6.287858</td>\n",
       "    </tr>\n",
       "    <tr>\n",
       "      <th>933</th>\n",
       "      <td>934</td>\n",
       "      <td>873</td>\n",
       "      <td>0</td>\n",
       "      <td>0</td>\n",
       "      <td>1</td>\n",
       "      <td>0</td>\n",
       "      <td>44</td>\n",
       "      <td>109</td>\n",
       "      <td>25</td>\n",
       "      <td>12</td>\n",
       "      <td>...</td>\n",
       "      <td>28</td>\n",
       "      <td>1</td>\n",
       "      <td>0</td>\n",
       "      <td>1</td>\n",
       "      <td>0</td>\n",
       "      <td>1</td>\n",
       "      <td>1.0</td>\n",
       "      <td>NaN</td>\n",
       "      <td>11.0</td>\n",
       "      <td>6.771935</td>\n",
       "    </tr>\n",
       "    <tr>\n",
       "      <th>934</th>\n",
       "      <td>935</td>\n",
       "      <td>1000</td>\n",
       "      <td>0</td>\n",
       "      <td>0</td>\n",
       "      <td>1</td>\n",
       "      <td>0</td>\n",
       "      <td>40</td>\n",
       "      <td>107</td>\n",
       "      <td>32</td>\n",
       "      <td>12</td>\n",
       "      <td>...</td>\n",
       "      <td>35</td>\n",
       "      <td>1</td>\n",
       "      <td>0</td>\n",
       "      <td>1</td>\n",
       "      <td>0</td>\n",
       "      <td>5</td>\n",
       "      <td>1.0</td>\n",
       "      <td>NaN</td>\n",
       "      <td>NaN</td>\n",
       "      <td>6.907755</td>\n",
       "    </tr>\n",
       "  </tbody>\n",
       "</table>\n",
       "<p>935 rows × 22 columns</p>\n",
       "</div>"
      ],
      "text/plain": [
       "     Unnamed: 0  wage  colgrad  somcoll  high  highdrop  hours   IQ  KWW  \\\n",
       "0             1   769        0        0     1         0     40   93   35   \n",
       "1             2   808        1        0     0         0     50  119   41   \n",
       "2             3   825        0        1     0         0     40  108   46   \n",
       "3             4   650        0        0     1         0     40   96   32   \n",
       "4             5   562        0        0     0         1     40   74   27   \n",
       "..          ...   ...      ...      ...   ...       ...    ...  ...  ...   \n",
       "930         931   520        1        0     0         0     40   79   28   \n",
       "931         932  1202        0        1     0         0     40  102   32   \n",
       "932         933   538        0        0     1         0     45   77   22   \n",
       "933         934   873        0        0     1         0     44  109   25   \n",
       "934         935  1000        0        0     1         0     40  107   32   \n",
       "\n",
       "     educ  ...  age  married  black  south  urban  sibs  brthord  meduc  \\\n",
       "0      12  ...   31        1      0      0      1     1      2.0    8.0   \n",
       "1      18  ...   37        1      0      0      1     1      NaN   14.0   \n",
       "2      14  ...   33        1      0      0      1     1      2.0   14.0   \n",
       "3      12  ...   32        1      0      0      1     4      3.0   12.0   \n",
       "4      11  ...   34        1      0      0      1    10      6.0    6.0   \n",
       "..    ...  ...  ...      ...    ...    ...    ...   ...      ...    ...   \n",
       "930    16  ...   30        1      1      1      0     0      1.0   11.0   \n",
       "931    13  ...   31        1      0      1      1     7      7.0    8.0   \n",
       "932    12  ...   28        1      1      1      0     9      NaN    7.0   \n",
       "933    12  ...   28        1      0      1      0     1      1.0    NaN   \n",
       "934    12  ...   35        1      0      1      0     5      1.0    NaN   \n",
       "\n",
       "     feduc     lwage  \n",
       "0      8.0  6.645091  \n",
       "1     14.0  6.694562  \n",
       "2     14.0  6.715384  \n",
       "3     12.0  6.476973  \n",
       "4     11.0  6.331502  \n",
       "..     ...       ...  \n",
       "930    NaN  6.253829  \n",
       "931    6.0  7.091742  \n",
       "932    NaN  6.287858  \n",
       "933   11.0  6.771935  \n",
       "934    NaN  6.907755  \n",
       "\n",
       "[935 rows x 22 columns]"
      ]
     },
     "execution_count": 185,
     "metadata": {},
     "output_type": "execute_result"
    }
   ],
   "source": [
    "data"
   ]
  },
  {
   "cell_type": "markdown",
   "metadata": {},
   "source": [
    "## calculate numbes"
   ]
  },
  {
   "cell_type": "code",
   "execution_count": 30,
   "metadata": {
    "ExecuteTime": {
     "end_time": "2021-01-05T02:01:36.502929Z",
     "start_time": "2021-01-05T02:01:36.495893Z"
    }
   },
   "outputs": [
    {
     "data": {
      "text/plain": [
       "323.9766376165801"
      ]
     },
     "execution_count": 30,
     "metadata": {},
     "output_type": "execute_result"
    }
   ],
   "source": [
    "np.std(data[data.high == 1].wage)\n"
   ]
  },
  {
   "cell_type": "code",
   "execution_count": 31,
   "metadata": {
    "ExecuteTime": {
     "end_time": "2021-01-05T02:03:36.506697Z",
     "start_time": "2021-01-05T02:03:36.488769Z"
    }
   },
   "outputs": [
    {
     "data": {
      "text/plain": [
       "862.6717557251908"
      ]
     },
     "execution_count": 31,
     "metadata": {},
     "output_type": "execute_result"
    }
   ],
   "source": [
    "np.mean(data[data.high == 1].wage)"
   ]
  },
  {
   "cell_type": "code",
   "execution_count": 32,
   "metadata": {
    "ExecuteTime": {
     "end_time": "2021-01-05T02:08:23.619477Z",
     "start_time": "2021-01-05T02:08:23.613493Z"
    }
   },
   "outputs": [],
   "source": [
    "a = data[data.high == 1].wage"
   ]
  },
  {
   "cell_type": "markdown",
   "metadata": {
    "ExecuteTime": {
     "end_time": "2021-01-05T02:08:53.776495Z",
     "start_time": "2021-01-05T02:08:53.773505Z"
    }
   },
   "source": [
    "### confidence interval"
   ]
  },
  {
   "cell_type": "code",
   "execution_count": 33,
   "metadata": {
    "ExecuteTime": {
     "end_time": "2021-01-05T02:08:27.861819Z",
     "start_time": "2021-01-05T02:08:27.174832Z"
    }
   },
   "outputs": [
    {
     "data": {
      "text/plain": [
       "(830.500967032594, 894.8425444177876)"
      ]
     },
     "execution_count": 33,
     "metadata": {},
     "output_type": "execute_result"
    }
   ],
   "source": [
    "import numpy as np, scipy.stats as st\n",
    "\n",
    "st.t.interval(0.95, len(a)-1, loc=np.mean(a), scale=st.sem(a))"
   ]
  },
  {
   "cell_type": "code",
   "execution_count": 34,
   "metadata": {
    "ExecuteTime": {
     "end_time": "2021-01-05T02:08:37.936031Z",
     "start_time": "2021-01-05T02:08:37.772336Z"
    }
   },
   "outputs": [
    {
     "data": {
      "text/plain": [
       "(830.5009670325938, 894.8425444177877)"
      ]
     },
     "execution_count": 34,
     "metadata": {},
     "output_type": "execute_result"
    }
   ],
   "source": [
    "import statsmodels.stats.api as sms\n",
    "\n",
    "sms.DescrStatsW(a).tconfint_mean()"
   ]
  },
  {
   "cell_type": "code",
   "execution_count": 37,
   "metadata": {
    "ExecuteTime": {
     "end_time": "2021-01-05T02:15:53.195964Z",
     "start_time": "2021-01-05T02:15:53.189980Z"
    }
   },
   "outputs": [
    {
     "data": {
      "text/plain": [
       "393"
      ]
     },
     "execution_count": 37,
     "metadata": {},
     "output_type": "execute_result"
    }
   ],
   "source": [
    "len(data[data.high == 1].wage)"
   ]
  },
  {
   "cell_type": "code",
   "execution_count": 40,
   "metadata": {
    "ExecuteTime": {
     "end_time": "2021-01-05T02:16:46.441318Z",
     "start_time": "2021-01-05T02:16:46.436370Z"
    }
   },
   "outputs": [
    {
     "data": {
      "text/plain": [
       "32.03122071082753"
      ]
     },
     "execution_count": 40,
     "metadata": {},
     "output_type": "execute_result"
    }
   ],
   "source": [
    "1.96/np.sqrt(393)*323.9766376165801"
   ]
  },
  {
   "cell_type": "code",
   "execution_count": 43,
   "metadata": {
    "ExecuteTime": {
     "end_time": "2021-01-05T02:17:20.954220Z",
     "start_time": "2021-01-05T02:17:20.947273Z"
    },
    "scrolled": true
   },
   "outputs": [
    {
     "data": {
      "text/plain": [
       "(894.7029764360183, 830.6405350143633)"
      ]
     },
     "execution_count": 43,
     "metadata": {},
     "output_type": "execute_result"
    }
   ],
   "source": [
    "(862.6717557251908+32.03122071082753,\n",
    "862.6717557251908-32.03122071082753)\n",
    "\n"
   ]
  },
  {
   "cell_type": "markdown",
   "metadata": {},
   "source": [
    "$CI = {1.96\\over n} \\times \\sqrt{(\\sigma)}$"
   ]
  },
  {
   "cell_type": "markdown",
   "metadata": {},
   "source": [
    "### hypothesis testing"
   ]
  },
  {
   "cell_type": "code",
   "execution_count": 44,
   "metadata": {
    "ExecuteTime": {
     "end_time": "2021-01-05T02:34:45.647515Z",
     "start_time": "2021-01-05T02:34:45.641531Z"
    },
    "collapsed": true
   },
   "outputs": [
    {
     "data": {
      "text/plain": [
       "1       808\n",
       "5      1400\n",
       "7      1081\n",
       "10      930\n",
       "13     1318\n",
       "       ... \n",
       "919    1562\n",
       "922     566\n",
       "924    1442\n",
       "929     664\n",
       "930     520\n",
       "Name: wage, Length: 247, dtype: int64"
      ]
     },
     "execution_count": 44,
     "metadata": {},
     "output_type": "execute_result"
    }
   ],
   "source": [
    "data[data.colgrad == 1].wage"
   ]
  },
  {
   "cell_type": "code",
   "execution_count": 52,
   "metadata": {
    "ExecuteTime": {
     "end_time": "2021-01-05T02:39:20.483628Z",
     "start_time": "2021-01-05T02:39:20.479611Z"
    }
   },
   "outputs": [],
   "source": [
    "from scipy.stats import ttest_ind"
   ]
  },
  {
   "cell_type": "code",
   "execution_count": 112,
   "metadata": {
    "ExecuteTime": {
     "end_time": "2021-01-05T03:01:23.347679Z",
     "start_time": "2021-01-05T03:01:23.340697Z"
    }
   },
   "outputs": [
    {
     "data": {
      "text/plain": [
       "Ttest_indResult(statistic=1.5464327753112466, pvalue=0.12264435049852264)"
      ]
     },
     "execution_count": 112,
     "metadata": {},
     "output_type": "execute_result"
    }
   ],
   "source": [
    "ttest_ind(data[data.colgrad == 1].wage, np.array(np.repeat(1100,246)).tolist())"
   ]
  },
  {
   "cell_type": "code",
   "execution_count": 111,
   "metadata": {
    "ExecuteTime": {
     "end_time": "2021-01-05T03:01:17.025231Z",
     "start_time": "2021-01-05T03:01:17.019250Z"
    },
    "scrolled": true
   },
   "outputs": [
    {
     "data": {
      "text/plain": [
       "247"
      ]
     },
     "execution_count": 111,
     "metadata": {},
     "output_type": "execute_result"
    }
   ],
   "source": [
    "len(data[data.colgrad == 1].wage)"
   ]
  },
  {
   "cell_type": "code",
   "execution_count": 108,
   "metadata": {
    "ExecuteTime": {
     "end_time": "2021-01-05T02:55:52.693411Z",
     "start_time": "2021-01-05T02:55:52.685432Z"
    },
    "collapsed": true
   },
   "outputs": [
    {
     "data": {
      "text/plain": [
       "[1100,\n",
       " 1100,\n",
       " 1100,\n",
       " 1100,\n",
       " 1100,\n",
       " 1100,\n",
       " 1100,\n",
       " 1100,\n",
       " 1100,\n",
       " 1100,\n",
       " 1100,\n",
       " 1100,\n",
       " 1100,\n",
       " 1100,\n",
       " 1100,\n",
       " 1100,\n",
       " 1100,\n",
       " 1100,\n",
       " 1100,\n",
       " 1100,\n",
       " 1100,\n",
       " 1100,\n",
       " 1100,\n",
       " 1100,\n",
       " 1100,\n",
       " 1100,\n",
       " 1100,\n",
       " 1100,\n",
       " 1100,\n",
       " 1100,\n",
       " 1100,\n",
       " 1100,\n",
       " 1100,\n",
       " 1100,\n",
       " 1100,\n",
       " 1100,\n",
       " 1100,\n",
       " 1100,\n",
       " 1100,\n",
       " 1100,\n",
       " 1100,\n",
       " 1100,\n",
       " 1100,\n",
       " 1100,\n",
       " 1100,\n",
       " 1100,\n",
       " 1100,\n",
       " 1100,\n",
       " 1100,\n",
       " 1100,\n",
       " 1100,\n",
       " 1100,\n",
       " 1100,\n",
       " 1100,\n",
       " 1100,\n",
       " 1100,\n",
       " 1100,\n",
       " 1100,\n",
       " 1100,\n",
       " 1100,\n",
       " 1100,\n",
       " 1100,\n",
       " 1100,\n",
       " 1100,\n",
       " 1100,\n",
       " 1100,\n",
       " 1100,\n",
       " 1100,\n",
       " 1100,\n",
       " 1100,\n",
       " 1100,\n",
       " 1100,\n",
       " 1100,\n",
       " 1100,\n",
       " 1100,\n",
       " 1100,\n",
       " 1100,\n",
       " 1100,\n",
       " 1100,\n",
       " 1100,\n",
       " 1100,\n",
       " 1100,\n",
       " 1100,\n",
       " 1100,\n",
       " 1100,\n",
       " 1100,\n",
       " 1100,\n",
       " 1100,\n",
       " 1100,\n",
       " 1100,\n",
       " 1100,\n",
       " 1100,\n",
       " 1100,\n",
       " 1100,\n",
       " 1100,\n",
       " 1100,\n",
       " 1100,\n",
       " 1100,\n",
       " 1100,\n",
       " 1100,\n",
       " 1100,\n",
       " 1100,\n",
       " 1100,\n",
       " 1100,\n",
       " 1100,\n",
       " 1100,\n",
       " 1100,\n",
       " 1100,\n",
       " 1100,\n",
       " 1100,\n",
       " 1100,\n",
       " 1100,\n",
       " 1100,\n",
       " 1100,\n",
       " 1100,\n",
       " 1100,\n",
       " 1100,\n",
       " 1100,\n",
       " 1100,\n",
       " 1100,\n",
       " 1100,\n",
       " 1100,\n",
       " 1100,\n",
       " 1100,\n",
       " 1100,\n",
       " 1100,\n",
       " 1100,\n",
       " 1100,\n",
       " 1100,\n",
       " 1100,\n",
       " 1100,\n",
       " 1100,\n",
       " 1100,\n",
       " 1100,\n",
       " 1100,\n",
       " 1100,\n",
       " 1100,\n",
       " 1100,\n",
       " 1100,\n",
       " 1100,\n",
       " 1100,\n",
       " 1100,\n",
       " 1100,\n",
       " 1100,\n",
       " 1100,\n",
       " 1100,\n",
       " 1100,\n",
       " 1100,\n",
       " 1100,\n",
       " 1100,\n",
       " 1100,\n",
       " 1100,\n",
       " 1100,\n",
       " 1100,\n",
       " 1100,\n",
       " 1100,\n",
       " 1100,\n",
       " 1100,\n",
       " 1100,\n",
       " 1100,\n",
       " 1100,\n",
       " 1100,\n",
       " 1100,\n",
       " 1100,\n",
       " 1100,\n",
       " 1100,\n",
       " 1100,\n",
       " 1100,\n",
       " 1100,\n",
       " 1100,\n",
       " 1100,\n",
       " 1100,\n",
       " 1100,\n",
       " 1100,\n",
       " 1100,\n",
       " 1100,\n",
       " 1100,\n",
       " 1100,\n",
       " 1100,\n",
       " 1100,\n",
       " 1100,\n",
       " 1100,\n",
       " 1100,\n",
       " 1100,\n",
       " 1100,\n",
       " 1100,\n",
       " 1100,\n",
       " 1100,\n",
       " 1100,\n",
       " 1100,\n",
       " 1100,\n",
       " 1100,\n",
       " 1100,\n",
       " 1100,\n",
       " 1100,\n",
       " 1100,\n",
       " 1100,\n",
       " 1100,\n",
       " 1100,\n",
       " 1100,\n",
       " 1100,\n",
       " 1100,\n",
       " 1100,\n",
       " 1100,\n",
       " 1100,\n",
       " 1100,\n",
       " 1100,\n",
       " 1100,\n",
       " 1100,\n",
       " 1100,\n",
       " 1100,\n",
       " 1100,\n",
       " 1100,\n",
       " 1100,\n",
       " 1100,\n",
       " 1100,\n",
       " 1100,\n",
       " 1100,\n",
       " 1100,\n",
       " 1100,\n",
       " 1100,\n",
       " 1100,\n",
       " 1100,\n",
       " 1100,\n",
       " 1100,\n",
       " 1100,\n",
       " 1100,\n",
       " 1100,\n",
       " 1100,\n",
       " 1100,\n",
       " 1100,\n",
       " 1100,\n",
       " 1100,\n",
       " 1100,\n",
       " 1100,\n",
       " 1100,\n",
       " 1100,\n",
       " 1100,\n",
       " 1100,\n",
       " 1100]"
      ]
     },
     "execution_count": 108,
     "metadata": {},
     "output_type": "execute_result"
    }
   ],
   "source": [
    "# np.array(np.repeat(1100,240)).tolist()\n",
    "# change array type to list type"
   ]
  },
  {
   "cell_type": "markdown",
   "metadata": {},
   "source": [
    "## some plot"
   ]
  },
  {
   "cell_type": "code",
   "execution_count": 131,
   "metadata": {
    "ExecuteTime": {
     "end_time": "2021-01-05T03:21:09.047365Z",
     "start_time": "2021-01-05T03:21:08.877310Z"
    }
   },
   "outputs": [
    {
     "name": "stderr",
     "output_type": "stream",
     "text": [
      "No handles with labels found to put in legend.\n"
     ]
    },
    {
     "data": {
      "image/png": "[encoded data removed]",
      "text/plain": [
       "<Figure size 432x288 with 1 Axes>"
      ]
     },
     "metadata": {
      "needs_background": "light"
     },
     "output_type": "display_data"
    }
   ],
   "source": [
    "fig, axs = plt.subplots()\n",
    "axs.scatter(list(data.exper), list(data.wage))\n",
    "\n",
    "# axs.legend()\n",
    "fig.suptitle('py plot')\n",
    "plt.show()"
   ]
  },
  {
   "cell_type": "code",
   "execution_count": 125,
   "metadata": {
    "ExecuteTime": {
     "end_time": "2021-01-05T03:18:41.766684Z",
     "start_time": "2021-01-05T03:18:41.761674Z"
    }
   },
   "outputs": [],
   "source": [
    "from plotnine import ggplot, aes, geom_point,geom_smooth"
   ]
  },
  {
   "cell_type": "code",
   "execution_count": 128,
   "metadata": {
    "ExecuteTime": {
     "end_time": "2021-01-05T03:19:08.531697Z",
     "start_time": "2021-01-05T03:19:08.148772Z"
    }
   },
   "outputs": [
    {
     "data": {
      "image/png": "[encoded data removed]",
      "text/plain": [
       "<Figure size 640x480 with 1 Axes>"
      ]
     },
     "metadata": {},
     "output_type": "display_data"
    },
    {
     "data": {
      "text/plain": [
       "<ggplot: (160869277968)>"
      ]
     },
     "execution_count": 128,
     "metadata": {},
     "output_type": "execute_result"
    }
   ],
   "source": [
    "(ggplot(data) + aes(x = data.exper, y = data.wage) + geom_point()) + geom_smooth(method= 'lm')"
   ]
  },
  {
   "cell_type": "code",
   "execution_count": 138,
   "metadata": {
    "ExecuteTime": {
     "end_time": "2021-01-05T06:40:53.372360Z",
     "start_time": "2021-01-05T06:40:53.369104Z"
    }
   },
   "outputs": [],
   "source": [
    "import seaborn as sb\n",
    "sb.set_style()"
   ]
  },
  {
   "cell_type": "code",
   "execution_count": 148,
   "metadata": {
    "ExecuteTime": {
     "end_time": "2021-01-05T06:51:59.385547Z",
     "start_time": "2021-01-05T06:51:57.944005Z"
    }
   },
   "outputs": [
    {
     "data": {
      "image/png": "[encoded data removed]",
      "text/plain": [
       "<Figure size 407.25x360 with 1 Axes>"
      ]
     },
     "metadata": {},
     "output_type": "display_data"
    }
   ],
   "source": [
    "sb.relplot(\n",
    "    data=data,\n",
    "    x=\"exper\", y=\"wage\",\n",
    "    hue=\"age\",\n",
    "#     style=\"age\", size=\"age\",\n",
    ")\n",
    "sb.regplot(x = 'exper', \n",
    "           y = 'wage', \n",
    "           data = (data),\n",
    "          scatter = False,\n",
    "           color = 'lightgreen'\n",
    ")\n",
    "\n",
    "plt.savefig('saving-a-high-resolution-seaborn-plot.png', dpi=300)\n",
    "\n",
    "# pretty good ha\n"
   ]
  },
  {
   "cell_type": "markdown",
   "metadata": {},
   "source": [
    "## regression "
   ]
  },
  {
   "cell_type": "markdown",
   "metadata": {},
   "source": [
    "### statsmodel.api"
   ]
  },
  {
   "cell_type": "code",
   "execution_count": 239,
   "metadata": {
    "ExecuteTime": {
     "end_time": "2021-01-05T07:58:09.426343Z",
     "start_time": "2021-01-05T07:58:09.363541Z"
    }
   },
   "outputs": [
    {
     "data": {
      "text/html": [
       "<table class=\"simpletable\">\n",
       "<caption>OLS Regression Results</caption>\n",
       "<tr>\n",
       "  <th>Dep. Variable:</th>          <td>wage</td>       <th>  R-squared:         </th> <td>   0.000</td> \n",
       "</tr>\n",
       "<tr>\n",
       "  <th>Model:</th>                   <td>OLS</td>       <th>  Adj. R-squared:    </th> <td>  -0.001</td> \n",
       "</tr>\n",
       "<tr>\n",
       "  <th>Method:</th>             <td>Least Squares</td>  <th>  F-statistic:       </th> <td>0.004474</td> \n",
       "</tr>\n",
       "<tr>\n",
       "  <th>Date:</th>             <td>Tue, 05 Jan 2021</td> <th>  Prob (F-statistic):</th>  <td> 0.947</td>  \n",
       "</tr>\n",
       "<tr>\n",
       "  <th>Time:</th>                 <td>01:58:09</td>     <th>  Log-Likelihood:    </th> <td> -6938.4</td> \n",
       "</tr>\n",
       "<tr>\n",
       "  <th>No. Observations:</th>      <td>   935</td>      <th>  AIC:               </th> <td>1.388e+04</td>\n",
       "</tr>\n",
       "<tr>\n",
       "  <th>Df Residuals:</th>          <td>   933</td>      <th>  BIC:               </th> <td>1.389e+04</td>\n",
       "</tr>\n",
       "<tr>\n",
       "  <th>Df Model:</th>              <td>     1</td>      <th>                     </th>     <td> </td>    \n",
       "</tr>\n",
       "<tr>\n",
       "  <th>Covariance Type:</th>      <td>nonrobust</td>    <th>                     </th>     <td> </td>    \n",
       "</tr>\n",
       "</table>\n",
       "<table class=\"simpletable\">\n",
       "<tr>\n",
       "    <td></td>       <th>coef</th>     <th>std err</th>      <th>t</th>      <th>P>|t|</th>  <th>[0.025</th>    <th>0.975]</th>  \n",
       "</tr>\n",
       "<tr>\n",
       "  <th>const</th> <td>  955.6049</td> <td>   37.411</td> <td>   25.543</td> <td> 0.000</td> <td>  882.185</td> <td> 1029.025</td>\n",
       "</tr>\n",
       "<tr>\n",
       "  <th>exper</th> <td>    0.2024</td> <td>    3.026</td> <td>    0.067</td> <td> 0.947</td> <td>   -5.736</td> <td>    6.141</td>\n",
       "</tr>\n",
       "</table>\n",
       "<table class=\"simpletable\">\n",
       "<tr>\n",
       "  <th>Omnibus:</th>       <td>211.466</td> <th>  Durbin-Watson:     </th> <td>   1.730</td> \n",
       "</tr>\n",
       "<tr>\n",
       "  <th>Prob(Omnibus):</th> <td> 0.000</td>  <th>  Jarque-Bera (JB):  </th> <td> 507.991</td> \n",
       "</tr>\n",
       "<tr>\n",
       "  <th>Skew:</th>          <td> 1.200</td>  <th>  Prob(JB):          </th> <td>4.91e-111</td>\n",
       "</tr>\n",
       "<tr>\n",
       "  <th>Kurtosis:</th>      <td> 5.698</td>  <th>  Cond. No.          </th> <td>    35.2</td> \n",
       "</tr>\n",
       "</table><br/><br/>Notes:<br/>[1] Standard Errors assume that the covariance matrix of the errors is correctly specified."
      ],
      "text/plain": [
       "<class 'statsmodels.iolib.summary.Summary'>\n",
       "\"\"\"\n",
       "                            OLS Regression Results                            \n",
       "==============================================================================\n",
       "Dep. Variable:                   wage   R-squared:                       0.000\n",
       "Model:                            OLS   Adj. R-squared:                 -0.001\n",
       "Method:                 Least Squares   F-statistic:                  0.004474\n",
       "Date:                Tue, 05 Jan 2021   Prob (F-statistic):              0.947\n",
       "Time:                        01:58:09   Log-Likelihood:                -6938.4\n",
       "No. Observations:                 935   AIC:                         1.388e+04\n",
       "Df Residuals:                     933   BIC:                         1.389e+04\n",
       "Df Model:                           1                                         \n",
       "Covariance Type:            nonrobust                                         \n",
       "==============================================================================\n",
       "                 coef    std err          t      P>|t|      [0.025      0.975]\n",
       "------------------------------------------------------------------------------\n",
       "const        955.6049     37.411     25.543      0.000     882.185    1029.025\n",
       "exper          0.2024      3.026      0.067      0.947      -5.736       6.141\n",
       "==============================================================================\n",
       "Omnibus:                      211.466   Durbin-Watson:                   1.730\n",
       "Prob(Omnibus):                  0.000   Jarque-Bera (JB):              507.991\n",
       "Skew:                           1.200   Prob(JB):                    4.91e-111\n",
       "Kurtosis:                       5.698   Cond. No.                         35.2\n",
       "==============================================================================\n",
       "\n",
       "Notes:\n",
       "[1] Standard Errors assume that the covariance matrix of the errors is correctly specified.\n",
       "\"\"\""
      ]
     },
     "execution_count": 239,
     "metadata": {},
     "output_type": "execute_result"
    }
   ],
   "source": [
    "import statsmodels.api as sm\n",
    "\n",
    "\n",
    "X = data.exper\n",
    "y = data.wage\n",
    "X = sm.add_constant(X)\n",
    "# Note the difference in argument order\n",
    "model = sm.OLS(y, X).fit()\n",
    "# Print out the statistics\n",
    "model.summary()"
   ]
  },
  {
   "cell_type": "code",
   "execution_count": 150,
   "metadata": {
    "ExecuteTime": {
     "end_time": "2021-01-05T07:04:40.828995Z",
     "start_time": "2021-01-05T07:04:40.826000Z"
    }
   },
   "outputs": [],
   "source": [
    "predictions = model.predict(data.exper) # make the predictions by the model"
   ]
  },
  {
   "cell_type": "markdown",
   "metadata": {},
   "source": [
    "### sklearn"
   ]
  },
  {
   "cell_type": "code",
   "execution_count": 277,
   "metadata": {
    "ExecuteTime": {
     "end_time": "2021-01-05T08:40:21.546044Z",
     "start_time": "2021-01-05T08:40:21.529920Z"
    }
   },
   "outputs": [],
   "source": [
    "from sklearn import linear_model\n",
    "from sklearn.linear_model import LinearRegression"
   ]
  },
  {
   "cell_type": "code",
   "execution_count": 249,
   "metadata": {
    "ExecuteTime": {
     "end_time": "2021-01-05T08:09:44.025366Z",
     "start_time": "2021-01-05T08:09:44.019326Z"
    }
   },
   "outputs": [],
   "source": [
    "data = pd.read_csv('../6361/wage2.csv')"
   ]
  },
  {
   "cell_type": "code",
   "execution_count": 219,
   "metadata": {
    "ExecuteTime": {
     "end_time": "2021-01-05T07:34:51.490414Z",
     "start_time": "2021-01-05T07:34:51.485566Z"
    }
   },
   "outputs": [],
   "source": [
    "data = data[data.wage.notnull() & \n",
    "    data.exper.notnull()]"
   ]
  },
  {
   "cell_type": "code",
   "execution_count": 250,
   "metadata": {
    "ExecuteTime": {
     "end_time": "2021-01-05T08:09:48.685324Z",
     "start_time": "2021-01-05T08:09:48.681582Z"
    }
   },
   "outputs": [],
   "source": [
    "dfwage = pd.DataFrame(data.wage)"
   ]
  },
  {
   "cell_type": "code",
   "execution_count": 251,
   "metadata": {
    "ExecuteTime": {
     "end_time": "2021-01-05T08:09:50.432641Z",
     "start_time": "2021-01-05T08:09:50.412819Z"
    }
   },
   "outputs": [],
   "source": [
    "dfother = data.drop('wage', 1)"
   ]
  },
  {
   "cell_type": "code",
   "execution_count": 279,
   "metadata": {
    "ExecuteTime": {
     "end_time": "2021-01-05T08:42:03.882222Z",
     "start_time": "2021-01-05T08:42:03.836330Z"
    }
   },
   "outputs": [
    {
     "data": {
      "text/plain": [
       "LinearRegression()"
      ]
     },
     "execution_count": 279,
     "metadata": {},
     "output_type": "execute_result"
    }
   ],
   "source": [
    "lm = linear_model.LinearRegression(fit_intercept=True)\n",
    "lm.fit(X = np.array(dfother.exper).reshape((-1,1)), y = np.array(dfwage))\n",
    "\n",
    "# print(predictions)[0:5]"
   ]
  },
  {
   "cell_type": "markdown",
   "metadata": {
    "ExecuteTime": {
     "end_time": "2021-01-05T07:11:31.198319Z",
     "start_time": "2021-01-05T07:11:31.192917Z"
    }
   },
   "source": [
    "#### <div class=\"mark\">-----sep-------------------------------------</div><i class=\"fa fa-lightbulb-o \"></i>"
   ]
  },
  {
   "cell_type": "code",
   "execution_count": 280,
   "metadata": {
    "ExecuteTime": {
     "end_time": "2021-01-05T08:42:08.276018Z",
     "start_time": "2021-01-05T08:42:08.258340Z"
    }
   },
   "outputs": [
    {
     "data": {
      "text/plain": [
       "(array([[0.20240309]]), array([955.60493882]))"
      ]
     },
     "execution_count": 280,
     "metadata": {},
     "output_type": "execute_result"
    }
   ],
   "source": [
    "(lm.coef_, lm.intercept_)"
   ]
  },
  {
   "cell_type": "code",
   "execution_count": 258,
   "metadata": {
    "ExecuteTime": {
     "end_time": "2021-01-05T08:12:42.737722Z",
     "start_time": "2021-01-05T08:12:42.721554Z"
    }
   },
   "outputs": [],
   "source": [
    "?lm.fit"
   ]
  },
  {
   "cell_type": "code",
   "execution_count": null,
   "metadata": {},
   "outputs": [],
   "source": []
  }
 ],
 "metadata": {
  "kernelspec": {
   "display_name": "Python 3",
   "language": "python",
   "name": "python3"
  },
  "language_info": {
   "codemirror_mode": {
    "name": "ipython",
    "version": 3
   },
   "file_extension": ".py",
   "mimetype": "text/x-python",
   "name": "python",
   "nbconvert_exporter": "python",
   "pygments_lexer": "ipython3",
   "version": "3.8.5"
  },
  "latex_envs": {
   "LaTeX_envs_menu_present": true,
   "autoclose": false,
   "autocomplete": true,
   "bibliofile": "biblio.bib",
   "cite_by": "apalike",
   "current_citInitial": 1,
   "eqLabelWithNumbers": true,
   "eqNumInitial": 1,
   "hotkeys": {
    "equation": "Ctrl-E",
    "itemize": "Ctrl-I"
   },
   "labels_anchors": false,
   "latex_user_defs": false,
   "report_style_numbering": false,
   "user_envs_cfg": false
  },
  "nbTranslate": {
   "displayLangs": [
    "*"
   ],
   "hotkey": "alt-t",
   "langInMainMenu": true,
   "sourceLang": "en",
   "targetLang": "fr",
   "useGoogleTranslate": true
  },
  "toc": {
   "base_numbering": 1,
   "nav_menu": {},
   "number_sections": true,
   "sideBar": true,
   "skip_h1_title": false,
   "title_cell": "Table of Contents",
   "title_sidebar": "Contents",
   "toc_cell": false,
   "toc_position": {
    "height": "calc(100% - 180px)",
    "left": "10px",
    "top": "150px",
    "width": "188px"
   },
   "toc_section_display": true,
   "toc_window_display": true
  },
  "varInspector": {
   "cols": {
    "lenName": 16,
    "lenType": 16,
    "lenVar": 40
   },
   "kernels_config": {
    "python": {
     "delete_cmd_postfix": "",
     "delete_cmd_prefix": "del ",
     "library": "var_list.py",
     "varRefreshCmd": "print(var_dic_list())"
    },
    "r": {
     "delete_cmd_postfix": ") ",
     "delete_cmd_prefix": "rm(",
     "library": "var_list.r",
     "varRefreshCmd": "cat(var_dic_list()) "
    }
   },
   "types_to_exclude": [
    "module",
    "function",
    "builtin_function_or_method",
    "instance",
    "_Feature"
   ],
   "window_display": false
  }
 },
 "nbformat": 4,
 "nbformat_minor": 4
}
