{
 "metadata": {
  "language_info": {
   "codemirror_mode": {
    "name": "ipython",
    "version": 3
   },
   "file_extension": ".py",
   "mimetype": "text/x-python",
   "name": "python",
   "nbconvert_exporter": "python",
   "pygments_lexer": "ipython3",
   "version": "3.8.8"
  },
  "orig_nbformat": 2,
  "kernelspec": {
   "name": "python3",
   "display_name": "Python 3.8.8 64-bit ('siming': conda)"
  },
  "interpreter": {
   "hash": "c28cd10e5274be7696b07727116619a4bffa994b0fabbc00d11628a94e4dc7ef"
  }
 },
 "nbformat": 4,
 "nbformat_minor": 2,
 "cells": [
  {
   "cell_type": "code",
   "execution_count": 7,
   "metadata": {},
   "outputs": [],
   "source": [
    "# https://zhuanlan.zhihu.com/p/120843170"
   ]
  },
  {
   "cell_type": "code",
   "execution_count": 14,
   "metadata": {},
   "outputs": [],
   "source": [
    "import pygame,sys,random,time\n",
    "from pygame.locals import *   #从pygame模块导入常用的函数和常量\n",
    "#定义颜色变量\n",
    "black_colour = pygame.Color(0,0,0)\n",
    "white_colour = pygame.Color(255,255,255)\n",
    "red_colour = pygame.Color(255,0,0)\n",
    "grey_colour = pygame.Color(150,150,150)\n",
    "#定义游戏结束函数\n",
    "def GameOver(gamesurface):\n",
    "    #设置提示字体的格式\n",
    "    GameOver_font = pygame.font.SysFont(\"MicrosoftYaHei\", 22)\n",
    "    #设置提示字体的颜色\n",
    "    GameOver_colour = GameOver_font.render('Game Over',True,grey_colour)\n",
    "    GameWin_colour = GameOver_font.render('You win! \"\\n\" click to next level',True,grey_colour)\n",
    "    #设置提示位置\n",
    "    GameOver_location = GameOver_colour.get_rect()\n",
    "    GameOver_location.midtop = (320,150)\n",
    "    #绑定以上设置到句柄\n",
    "    gamesurface.blit(GameOver_colour,GameOver_location)\n",
    "    #提示运行信息\n",
    "    pygame.display.flip()\n",
    "    #休眠5秒\n",
    "    time.sleep(5)\n",
    "    #退出游戏\n",
    "    pygame.quit()\n",
    "    #退出程序\n",
    "    sys.exit()"
   ]
  },
  {
   "cell_type": "code",
   "execution_count": 16,
   "metadata": {},
   "outputs": [
    {
     "output_type": "stream",
     "name": "stdout",
     "text": [
      "[120]\n",
      "[120, 140]\n",
      "[120, 140, 160]\n",
      "[120, 140, 160, 180]\n",
      "[120, 140, 160, 180, 200]\n",
      "[120, 140, 160, 180, 200, 220]\n",
      "[120, 140, 160, 180, 200, 220, 240]\n",
      "[120, 140, 160, 180, 200, 220, 240, 260]\n",
      "[120, 140, 160, 180, 200, 220, 240, 260, 280]\n",
      "[120, 140, 160, 180, 200, 220, 240, 260, 280, 300]\n",
      "[120, 140, 160, 180, 200, 220, 240, 260, 280, 300, 320]\n",
      "[120, 140, 160, 180, 200, 220, 240, 260, 280, 300, 320, 340]\n",
      "[120, 140, 160, 180, 200, 220, 240, 260, 280, 300, 320, 340, 360]\n",
      "[120, 140, 160, 180, 200, 220, 240, 260, 280, 300, 320, 340, 360, 380]\n",
      "[120, 140, 160, 180, 200, 220, 240, 260, 280, 300, 320, 340, 360, 380, 400]\n",
      "[120, 140, 160, 180, 200, 220, 240, 260, 280, 300, 320, 340, 360, 380, 400, 420]\n",
      "[120, 140, 160, 180, 200, 220, 240, 260, 280, 300, 320, 340, 360, 380, 400, 420, 440]\n",
      "[120, 140, 160, 180, 200, 220, 240, 260, 280, 300, 320, 340, 360, 380, 400, 420, 440, 460]\n"
     ]
    },
    {
     "output_type": "error",
     "ename": "SystemExit",
     "evalue": "",
     "traceback": [
      "An exception has occurred, use %tb to see the full traceback.\n",
      "\u001b[1;31mSystemExit\u001b[0m\n"
     ]
    }
   ],
   "source": [
    "def main():\n",
    "    #初始化pygame，为使用硬件做准备\n",
    "    pygame.init()\n",
    "    pygame.time.Clock()\n",
    "    ftpsClock = pygame.time.Clock()\n",
    "    #创建一个窗口\n",
    "    gamesurface = pygame.display.set_mode((640,480))\n",
    "    #设置窗口的标题\n",
    "    pygame.display.set_caption('cc_opened')\n",
    "    #初始化变量\n",
    "    #初始化贪吃蛇的起始位置\n",
    "    snakeposition = [280,100]\n",
    "    #初始化贪吃蛇的长度\n",
    "    snakelength = [[280,100],[280,80],[280,60]]\n",
    "    #初始化目标方块的位置\n",
    "    square_purpose = [280,300]\n",
    "    #初始化一个数来判断目标方块是否存在\n",
    "    square_position = 1\n",
    "    #初始化方向，用来使贪吃蛇移动\n",
    "    derection = \"down\"\n",
    "    change_derection = derection\n",
    "    # siming draw\n",
    "    pic = []\n",
    "    #进行游戏主循环\n",
    "    while True:\n",
    "        #检测按键等pygame事件\n",
    "        for event in pygame.event.get():\n",
    "            if event.type==QUIT:\n",
    "                #接收到退出事件后，退出程序\n",
    "                pygame.quit()\n",
    "                sys.exit()\n",
    "            elif event.type==KEYDOWN:\n",
    "                #判断键盘事件,用w,s,a,d来表示上下左右\n",
    "                if event.key==K_RIGHT or event.key==ord('d'):\n",
    "                    change_derection = \"right\"\n",
    "                if event.key==K_LEFT or event.key==ord('a'):\n",
    "                    change_derection = \"left\"\n",
    "                if event.key==K_UP or event.key==ord('w'):\n",
    "                    change_derection = \"up\"\n",
    "                if event.key==K_DOWN or event.key==ord('s'):\n",
    "                    change_derection = \"down\"\n",
    "                if event.key==K_ESCAPE:\n",
    "                    pygame.event.post(pygame.event.Event(QUIT))\n",
    "        #判断移动的方向是否相反\n",
    "        if change_derection =='left'and not derection =='right':\n",
    "            derection = change_derection\n",
    "        if change_derection =='right'and not derection =='left':\n",
    "            derection = change_derection\n",
    "        if change_derection == 'up' and not derection =='down':\n",
    "            derection = change_derection\n",
    "        if change_derection == 'down' and not derection == 'up':\n",
    "            derection = change_derection\n",
    "        #根据方向，改变坐标\n",
    "        if derection == 'left':\n",
    "            snakeposition[0] -= 20\n",
    "        if derection == 'right':\n",
    "            snakeposition[0] += 20\n",
    "        if derection == 'up':\n",
    "            snakeposition[1] -= 20\n",
    "        if derection == 'down':\n",
    "            snakeposition[1] += 20\n",
    "        #增加蛇的长度\n",
    "        snakelength.insert(0,list(snakeposition))\n",
    "        #判断是否吃掉目标方块\n",
    "        if snakeposition[0]==square_purpose[0] and snakeposition[1]==square_purpose[1]:\n",
    "            square_position = 0\n",
    "        else:\n",
    "            snakelength.pop()\n",
    "        #重新生成目标方块\n",
    "        if square_position ==0:\n",
    "        #     #随机生成x,y,扩大二十倍，在窗口范围内\n",
    "            # x = 300\n",
    "            # y = 100\n",
    "            square_purpose = [320,100]\n",
    "            square_position = 1\n",
    "        #绘制pygame显示层\n",
    "        gamesurface.fill(black_colour)\n",
    "        for position in snakelength:\n",
    "            pygame.draw.rect(gamesurface,\n",
    "            white_colour,Rect(position[0],position[1],20,20))\n",
    "            pygame.draw.rect(gamesurface,red_colour,\n",
    "            Rect(square_purpose[0],square_purpose[1],20,20))\n",
    "            \n",
    "        #刷新pygame显示层\n",
    "        pygame.display.flip()\n",
    "        #判断是否死亡\n",
    "        if snakeposition[0]<0 or snakeposition[0]>620:\n",
    "            GameOver(gamesurface)\n",
    "        if snakeposition[1]<0 or snakeposition[1]>460:\n",
    "            GameOver(gamesurface)\n",
    "        for snakebody in snakelength[1:]:\n",
    "            if snakeposition[0]==snakebody[0] and snakeposition[1]==snakebody[1]:\n",
    "                GameOver(gamesurface)\n",
    "        # snake data record\n",
    "        if snakeposition[0]!=0:\n",
    "        #    pygame.time.get_ticks() \n",
    "           pic.append(snakelength[0][1])\n",
    "        #控制游戏速度\n",
    "        ftpsClock.tick(2)\n",
    "\n",
    "        print(pic)\n",
    "            \n",
    "if __name__ == \"__main__\":\n",
    "    main()"
   ]
  },
  {
   "cell_type": "code",
   "execution_count": 2,
   "metadata": {},
   "outputs": [
    {
     "output_type": "execute_result",
     "data": {
      "text/plain": [
       "1107"
      ]
     },
     "metadata": {},
     "execution_count": 2
    }
   ],
   "source": [
    "pygame.init()\n",
    "\n",
    "ftpsClock = pygame.time.Clock()\n",
    "ftpsClock.tick(3)\n",
    "pygame.time.get_ticks()\n"
   ]
  },
  {
   "cell_type": "code",
   "execution_count": null,
   "metadata": {},
   "outputs": [],
   "source": []
  },
  {
   "cell_type": "code",
   "execution_count": null,
   "metadata": {},
   "outputs": [],
   "source": [
    "pygame.get_time()"
   ]
  },
  {
   "cell_type": "code",
   "execution_count": null,
   "metadata": {},
   "outputs": [],
   "source": []
  }
 ]
}