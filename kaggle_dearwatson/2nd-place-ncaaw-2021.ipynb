{
 "cells": [
  {
   "cell_type": "markdown",
   "metadata": {
    "papermill": {
     "duration": 0.049421,
     "end_time": "2021-04-05T10:03:50.760053",
     "exception": false,
     "start_time": "2021-04-05T10:03:50.710632",
     "status": "completed"
    },
    "tags": []
   },
   "source": [
    "# 2nd place solution of the 2021 NCAAW Competition\n",
    "\n",
    "Solution write-up is available here : https://www.kaggle.com/c/ncaaw-march-mania-2021/discussion/230705"
   ]
  },
  {
   "cell_type": "code",
   "execution_count": 1,
   "metadata": {
    "_cell_guid": "b1076dfc-b9ad-4769-8c92-a6c4dae69d19",
    "_uuid": "8f2839f25d086af736a60e9eeb907d3b93b6e0e5",
    "execution": {
     "iopub.execute_input": "2021-04-05T10:03:50.855835Z",
     "iopub.status.busy": "2021-04-05T10:03:50.854881Z",
     "iopub.status.idle": "2021-04-05T10:03:52.191959Z",
     "shell.execute_reply": "2021-04-05T10:03:52.190433Z"
    },
    "papermill": {
     "duration": 1.385832,
     "end_time": "2021-04-05T10:03:52.192286",
     "exception": false,
     "start_time": "2021-04-05T10:03:50.806454",
     "status": "completed"
    },
    "tags": []
   },
   "outputs": [],
   "source": [
    "import os\n",
    "import re\n",
    "import sklearn\n",
    "import numpy as np \n",
    "import pandas as pd\n",
    "import seaborn as sns\n",
    "import matplotlib.pyplot as plt\n",
    "\n",
    "from collections import Counter\n",
    "from sklearn.metrics import *\n",
    "from sklearn.linear_model import *\n",
    "from sklearn.model_selection import *\n",
    "\n",
    "pd.set_option('display.max_columns', None)"
   ]
  },
  {
   "cell_type": "code",
   "execution_count": 2,
   "metadata": {
    "execution": {
     "iopub.execute_input": "2021-04-05T10:03:52.294700Z",
     "iopub.status.busy": "2021-04-05T10:03:52.294060Z",
     "iopub.status.idle": "2021-04-05T10:03:52.305894Z",
     "shell.execute_reply": "2021-04-05T10:03:52.304862Z"
    },
    "papermill": {
     "duration": 0.061982,
     "end_time": "2021-04-05T10:03:52.306059",
     "exception": false,
     "start_time": "2021-04-05T10:03:52.244077",
     "status": "completed"
    },
    "tags": []
   },
   "outputs": [
    {
     "name": "stdout",
     "output_type": "stream",
     "text": [
      "Conferences.csv\n",
      "WNCAATourneyDetailedResults.csv\n",
      "WRegularSeasonCompactResults.csv\n",
      "WGameCities.csv\n",
      "WNCAATourneySlots.csv\n",
      "Cities.csv\n",
      "WTeams.csv\n",
      "WNCAATourneyCompactResults.csv\n",
      "WSeasons.csv\n",
      "WNCAATourneySeeds.csv\n",
      "WRegularSeasonDetailedResults.csv\n",
      "WSampleSubmissionStage2.csv\n",
      "WTeamSpellings.csv\n",
      "WTeamConferences.csv\n"
     ]
    }
   ],
   "source": [
    "DATA_PATH = '../input/ncaaw-march-mania-2021/WDataFiles_Stage2/'\n",
    "\n",
    "for filename in os.listdir(DATA_PATH):\n",
    "    print(filename)"
   ]
  },
  {
   "cell_type": "markdown",
   "metadata": {
    "papermill": {
     "duration": 0.045662,
     "end_time": "2021-04-05T10:03:52.399412",
     "exception": false,
     "start_time": "2021-04-05T10:03:52.353750",
     "status": "completed"
    },
    "tags": []
   },
   "source": [
    "# Data preparation"
   ]
  },
  {
   "cell_type": "markdown",
   "metadata": {
    "papermill": {
     "duration": 0.046101,
     "end_time": "2021-04-05T10:03:52.491894",
     "exception": false,
     "start_time": "2021-04-05T10:03:52.445793",
     "status": "completed"
    },
    "tags": []
   },
   "source": [
    "## Seeds\n",
    "> This file identifies the seeds for all teams in each NCAA® tournament, for all seasons of historical data. Thus, there are between 64-68 rows for each year, depending on whether there were any play-in games and how many there were. In recent years the structure has settled at 68 total teams, with four \"play-in\" games leading to the final field of 64 teams entering Round 1 on Thursday of the first week (by definition, that is DayNum=136 each season). We will not know the seeds of the respective tournament teams, or even exactly which 68 teams it will be, until Selection Sunday on March 15, 2020 (DayNum=132).\n",
    "\n",
    "> The seed is a 3/4-character :\n",
    "- First character : Region (W, X, Y, or Z)\n",
    "- Next two digits : Seed within the region (01 to 16)\n",
    "- Last character (optional): Distinguishes teams between play-ins ( a or b)"
   ]
  },
  {
   "cell_type": "code",
   "execution_count": 3,
   "metadata": {
    "execution": {
     "iopub.execute_input": "2021-04-05T10:03:52.589588Z",
     "iopub.status.busy": "2021-04-05T10:03:52.588975Z",
     "iopub.status.idle": "2021-04-05T10:03:52.625865Z",
     "shell.execute_reply": "2021-04-05T10:03:52.625247Z"
    },
    "papermill": {
     "duration": 0.087467,
     "end_time": "2021-04-05T10:03:52.626009",
     "exception": false,
     "start_time": "2021-04-05T10:03:52.538542",
     "status": "completed"
    },
    "tags": []
   },
   "outputs": [
    {
     "data": {
      "text/html": [
       "<div>\n",
       "<style scoped>\n",
       "    .dataframe tbody tr th:only-of-type {\n",
       "        vertical-align: middle;\n",
       "    }\n",
       "\n",
       "    .dataframe tbody tr th {\n",
       "        vertical-align: top;\n",
       "    }\n",
       "\n",
       "    .dataframe thead th {\n",
       "        text-align: right;\n",
       "    }\n",
       "</style>\n",
       "<table border=\"1\" class=\"dataframe\">\n",
       "  <thead>\n",
       "    <tr style=\"text-align: right;\">\n",
       "      <th></th>\n",
       "      <th>Season</th>\n",
       "      <th>Seed</th>\n",
       "      <th>TeamID</th>\n",
       "    </tr>\n",
       "  </thead>\n",
       "  <tbody>\n",
       "    <tr>\n",
       "      <th>0</th>\n",
       "      <td>1998</td>\n",
       "      <td>W01</td>\n",
       "      <td>3330</td>\n",
       "    </tr>\n",
       "    <tr>\n",
       "      <th>1</th>\n",
       "      <td>1998</td>\n",
       "      <td>W02</td>\n",
       "      <td>3163</td>\n",
       "    </tr>\n",
       "    <tr>\n",
       "      <th>2</th>\n",
       "      <td>1998</td>\n",
       "      <td>W03</td>\n",
       "      <td>3112</td>\n",
       "    </tr>\n",
       "    <tr>\n",
       "      <th>3</th>\n",
       "      <td>1998</td>\n",
       "      <td>W04</td>\n",
       "      <td>3301</td>\n",
       "    </tr>\n",
       "    <tr>\n",
       "      <th>4</th>\n",
       "      <td>1998</td>\n",
       "      <td>W05</td>\n",
       "      <td>3272</td>\n",
       "    </tr>\n",
       "  </tbody>\n",
       "</table>\n",
       "</div>"
      ],
      "text/plain": [
       "   Season Seed  TeamID\n",
       "0    1998  W01    3330\n",
       "1    1998  W02    3163\n",
       "2    1998  W03    3112\n",
       "3    1998  W04    3301\n",
       "4    1998  W05    3272"
      ]
     },
     "execution_count": 3,
     "metadata": {},
     "output_type": "execute_result"
    }
   ],
   "source": [
    "df_seeds = pd.read_csv(DATA_PATH + \"WNCAATourneySeeds.csv\")\n",
    "df_seeds.head()"
   ]
  },
  {
   "cell_type": "markdown",
   "metadata": {
    "papermill": {
     "duration": 0.046909,
     "end_time": "2021-04-05T10:03:52.721107",
     "exception": false,
     "start_time": "2021-04-05T10:03:52.674198",
     "status": "completed"
    },
    "tags": []
   },
   "source": [
    "## Season results\n",
    "> This file identifies the game-by-game results for many seasons of historical data, starting with the 1985 season (the first year the NCAA® had a 64-team tournament). For each season, the file includes all games played from DayNum 0 through 132. It is important to realize that the \"Regular Season\" games are simply defined to be all games played on DayNum=132 or earlier (DayNum=132 is Selection Sunday, and there are always a few conference tournament finals actually played early in the day on Selection Sunday itself). Thus a game played on or before Selection Sunday will show up here whether it was a pre-season tournament, a non-conference game, a regular conference game, a conference tournament game, or whatever."
   ]
  },
  {
   "cell_type": "code",
   "execution_count": 4,
   "metadata": {
    "execution": {
     "iopub.execute_input": "2021-04-05T10:03:52.822365Z",
     "iopub.status.busy": "2021-04-05T10:03:52.821632Z",
     "iopub.status.idle": "2021-04-05T10:03:52.949244Z",
     "shell.execute_reply": "2021-04-05T10:03:52.949805Z"
    },
    "papermill": {
     "duration": 0.181699,
     "end_time": "2021-04-05T10:03:52.949991",
     "exception": false,
     "start_time": "2021-04-05T10:03:52.768292",
     "status": "completed"
    },
    "tags": []
   },
   "outputs": [],
   "source": [
    "df_season_results = pd.read_csv(DATA_PATH + \"WRegularSeasonCompactResults.csv\")\n",
    "df_season_results.drop(['NumOT', 'WLoc'], axis=1, inplace=True)"
   ]
  },
  {
   "cell_type": "code",
   "execution_count": 5,
   "metadata": {
    "execution": {
     "iopub.execute_input": "2021-04-05T10:03:53.048974Z",
     "iopub.status.busy": "2021-04-05T10:03:53.048345Z",
     "iopub.status.idle": "2021-04-05T10:03:53.074498Z",
     "shell.execute_reply": "2021-04-05T10:03:53.073687Z"
    },
    "papermill": {
     "duration": 0.075996,
     "end_time": "2021-04-05T10:03:53.074696",
     "exception": false,
     "start_time": "2021-04-05T10:03:52.998700",
     "status": "completed"
    },
    "tags": []
   },
   "outputs": [],
   "source": [
    "df_season_results['ScoreGap'] = df_season_results['WScore'] - df_season_results['LScore']"
   ]
  },
  {
   "cell_type": "code",
   "execution_count": 6,
   "metadata": {
    "execution": {
     "iopub.execute_input": "2021-04-05T10:03:53.181206Z",
     "iopub.status.busy": "2021-04-05T10:03:53.180513Z",
     "iopub.status.idle": "2021-04-05T10:03:53.183180Z",
     "shell.execute_reply": "2021-04-05T10:03:53.183666Z"
    },
    "papermill": {
     "duration": 0.060954,
     "end_time": "2021-04-05T10:03:53.183831",
     "exception": false,
     "start_time": "2021-04-05T10:03:53.122877",
     "status": "completed"
    },
    "tags": []
   },
   "outputs": [
    {
     "data": {
      "text/html": [
       "<div>\n",
       "<style scoped>\n",
       "    .dataframe tbody tr th:only-of-type {\n",
       "        vertical-align: middle;\n",
       "    }\n",
       "\n",
       "    .dataframe tbody tr th {\n",
       "        vertical-align: top;\n",
       "    }\n",
       "\n",
       "    .dataframe thead th {\n",
       "        text-align: right;\n",
       "    }\n",
       "</style>\n",
       "<table border=\"1\" class=\"dataframe\">\n",
       "  <thead>\n",
       "    <tr style=\"text-align: right;\">\n",
       "      <th></th>\n",
       "      <th>Season</th>\n",
       "      <th>DayNum</th>\n",
       "      <th>WTeamID</th>\n",
       "      <th>WScore</th>\n",
       "      <th>LTeamID</th>\n",
       "      <th>LScore</th>\n",
       "      <th>ScoreGap</th>\n",
       "    </tr>\n",
       "  </thead>\n",
       "  <tbody>\n",
       "    <tr>\n",
       "      <th>0</th>\n",
       "      <td>1998</td>\n",
       "      <td>18</td>\n",
       "      <td>3104</td>\n",
       "      <td>91</td>\n",
       "      <td>3202</td>\n",
       "      <td>41</td>\n",
       "      <td>50</td>\n",
       "    </tr>\n",
       "    <tr>\n",
       "      <th>1</th>\n",
       "      <td>1998</td>\n",
       "      <td>18</td>\n",
       "      <td>3163</td>\n",
       "      <td>87</td>\n",
       "      <td>3221</td>\n",
       "      <td>76</td>\n",
       "      <td>11</td>\n",
       "    </tr>\n",
       "    <tr>\n",
       "      <th>2</th>\n",
       "      <td>1998</td>\n",
       "      <td>18</td>\n",
       "      <td>3222</td>\n",
       "      <td>66</td>\n",
       "      <td>3261</td>\n",
       "      <td>59</td>\n",
       "      <td>7</td>\n",
       "    </tr>\n",
       "    <tr>\n",
       "      <th>3</th>\n",
       "      <td>1998</td>\n",
       "      <td>18</td>\n",
       "      <td>3307</td>\n",
       "      <td>69</td>\n",
       "      <td>3365</td>\n",
       "      <td>62</td>\n",
       "      <td>7</td>\n",
       "    </tr>\n",
       "    <tr>\n",
       "      <th>4</th>\n",
       "      <td>1998</td>\n",
       "      <td>18</td>\n",
       "      <td>3349</td>\n",
       "      <td>115</td>\n",
       "      <td>3411</td>\n",
       "      <td>35</td>\n",
       "      <td>80</td>\n",
       "    </tr>\n",
       "  </tbody>\n",
       "</table>\n",
       "</div>"
      ],
      "text/plain": [
       "   Season  DayNum  WTeamID  WScore  LTeamID  LScore  ScoreGap\n",
       "0    1998      18     3104      91     3202      41        50\n",
       "1    1998      18     3163      87     3221      76        11\n",
       "2    1998      18     3222      66     3261      59         7\n",
       "3    1998      18     3307      69     3365      62         7\n",
       "4    1998      18     3349     115     3411      35        80"
      ]
     },
     "execution_count": 6,
     "metadata": {},
     "output_type": "execute_result"
    }
   ],
   "source": [
    "df_season_results.head()"
   ]
  },
  {
   "cell_type": "markdown",
   "metadata": {
    "papermill": {
     "duration": 0.047621,
     "end_time": "2021-04-05T10:03:53.282115",
     "exception": false,
     "start_time": "2021-04-05T10:03:53.234494",
     "status": "completed"
    },
    "tags": []
   },
   "source": [
    "### Features \n",
    "For each team at each season, I compute : \n",
    "- Number of wins\n",
    "- Number of losses\n",
    "- Average score gap of wins\n",
    "- Average score gap of losses\n",
    "\n",
    "And use the following features : \n",
    "- Win Ratio\n",
    "- Average score gap"
   ]
  },
  {
   "cell_type": "code",
   "execution_count": 7,
   "metadata": {
    "execution": {
     "iopub.execute_input": "2021-04-05T10:03:53.381253Z",
     "iopub.status.busy": "2021-04-05T10:03:53.380596Z",
     "iopub.status.idle": "2021-04-05T10:03:53.414140Z",
     "shell.execute_reply": "2021-04-05T10:03:53.413548Z"
    },
    "papermill": {
     "duration": 0.084322,
     "end_time": "2021-04-05T10:03:53.414296",
     "exception": false,
     "start_time": "2021-04-05T10:03:53.329974",
     "status": "completed"
    },
    "tags": []
   },
   "outputs": [],
   "source": [
    "num_win = df_season_results.groupby(['Season', 'WTeamID']).count()\n",
    "num_win = num_win.reset_index()[['Season', 'WTeamID', 'DayNum']].rename(columns={\"DayNum\": \"NumWins\", \"WTeamID\": \"TeamID\"})"
   ]
  },
  {
   "cell_type": "code",
   "execution_count": 8,
   "metadata": {
    "execution": {
     "iopub.execute_input": "2021-04-05T10:03:53.518387Z",
     "iopub.status.busy": "2021-04-05T10:03:53.517362Z",
     "iopub.status.idle": "2021-04-05T10:03:53.532411Z",
     "shell.execute_reply": "2021-04-05T10:03:53.531867Z"
    },
    "papermill": {
     "duration": 0.070018,
     "end_time": "2021-04-05T10:03:53.532553",
     "exception": false,
     "start_time": "2021-04-05T10:03:53.462535",
     "status": "completed"
    },
    "tags": []
   },
   "outputs": [],
   "source": [
    "num_loss = df_season_results.groupby(['Season', 'LTeamID']).count()\n",
    "num_loss = num_loss.reset_index()[['Season', 'LTeamID', 'DayNum']].rename(columns={\"DayNum\": \"NumLosses\", \"LTeamID\": \"TeamID\"})"
   ]
  },
  {
   "cell_type": "code",
   "execution_count": 9,
   "metadata": {
    "execution": {
     "iopub.execute_input": "2021-04-05T10:03:53.642743Z",
     "iopub.status.busy": "2021-04-05T10:03:53.641799Z",
     "iopub.status.idle": "2021-04-05T10:03:53.671259Z",
     "shell.execute_reply": "2021-04-05T10:03:53.671903Z"
    },
    "papermill": {
     "duration": 0.09085,
     "end_time": "2021-04-05T10:03:53.672087",
     "exception": false,
     "start_time": "2021-04-05T10:03:53.581237",
     "status": "completed"
    },
    "tags": []
   },
   "outputs": [],
   "source": [
    "gap_win = df_season_results.groupby(['Season', 'WTeamID']).mean().reset_index()\n",
    "gap_win = gap_win[['Season', 'WTeamID', 'ScoreGap']].rename(columns={\"ScoreGap\": \"GapWins\", \"WTeamID\": \"TeamID\"})"
   ]
  },
  {
   "cell_type": "code",
   "execution_count": 10,
   "metadata": {
    "execution": {
     "iopub.execute_input": "2021-04-05T10:03:53.784374Z",
     "iopub.status.busy": "2021-04-05T10:03:53.783729Z",
     "iopub.status.idle": "2021-04-05T10:03:53.811911Z",
     "shell.execute_reply": "2021-04-05T10:03:53.811040Z"
    },
    "papermill": {
     "duration": 0.086922,
     "end_time": "2021-04-05T10:03:53.812121",
     "exception": false,
     "start_time": "2021-04-05T10:03:53.725199",
     "status": "completed"
    },
    "tags": []
   },
   "outputs": [],
   "source": [
    "gap_loss = df_season_results.groupby(['Season', 'LTeamID']).mean().reset_index()\n",
    "gap_loss = gap_loss[['Season', 'LTeamID', 'ScoreGap']].rename(columns={\"ScoreGap\": \"GapLosses\", \"LTeamID\": \"TeamID\"})"
   ]
  },
  {
   "cell_type": "markdown",
   "metadata": {
    "papermill": {
     "duration": 0.050841,
     "end_time": "2021-04-05T10:03:53.917802",
     "exception": false,
     "start_time": "2021-04-05T10:03:53.866961",
     "status": "completed"
    },
    "tags": []
   },
   "source": [
    "Merge"
   ]
  },
  {
   "cell_type": "code",
   "execution_count": 11,
   "metadata": {
    "execution": {
     "iopub.execute_input": "2021-04-05T10:03:54.050674Z",
     "iopub.status.busy": "2021-04-05T10:03:54.049493Z",
     "iopub.status.idle": "2021-04-05T10:03:54.076546Z",
     "shell.execute_reply": "2021-04-05T10:03:54.076040Z"
    },
    "papermill": {
     "duration": 0.090357,
     "end_time": "2021-04-05T10:03:54.076737",
     "exception": false,
     "start_time": "2021-04-05T10:03:53.986380",
     "status": "completed"
    },
    "tags": []
   },
   "outputs": [],
   "source": [
    "df_features_season_w = df_season_results.groupby(['Season', 'WTeamID']).count().reset_index()[['Season', 'WTeamID']].rename(columns={\"WTeamID\": \"TeamID\"})\n",
    "df_features_season_l = df_season_results.groupby(['Season', 'LTeamID']).count().reset_index()[['Season', 'LTeamID']].rename(columns={\"LTeamID\": \"TeamID\"})"
   ]
  },
  {
   "cell_type": "code",
   "execution_count": 12,
   "metadata": {
    "execution": {
     "iopub.execute_input": "2021-04-05T10:03:54.181913Z",
     "iopub.status.busy": "2021-04-05T10:03:54.180900Z",
     "iopub.status.idle": "2021-04-05T10:03:54.192961Z",
     "shell.execute_reply": "2021-04-05T10:03:54.192361Z"
    },
    "papermill": {
     "duration": 0.067381,
     "end_time": "2021-04-05T10:03:54.193114",
     "exception": false,
     "start_time": "2021-04-05T10:03:54.125733",
     "status": "completed"
    },
    "tags": []
   },
   "outputs": [],
   "source": [
    "df_features_season = pd.concat([df_features_season_w, df_features_season_l], 0).drop_duplicates().sort_values(['Season', 'TeamID']).reset_index(drop=True)"
   ]
  },
  {
   "cell_type": "code",
   "execution_count": 13,
   "metadata": {
    "execution": {
     "iopub.execute_input": "2021-04-05T10:03:54.349068Z",
     "iopub.status.busy": "2021-04-05T10:03:54.347892Z",
     "iopub.status.idle": "2021-04-05T10:03:54.380313Z",
     "shell.execute_reply": "2021-04-05T10:03:54.380898Z"
    },
    "papermill": {
     "duration": 0.115433,
     "end_time": "2021-04-05T10:03:54.381136",
     "exception": false,
     "start_time": "2021-04-05T10:03:54.265703",
     "status": "completed"
    },
    "tags": []
   },
   "outputs": [],
   "source": [
    "df_features_season = df_features_season.merge(num_win, on=['Season', 'TeamID'], how='left')\n",
    "df_features_season = df_features_season.merge(num_loss, on=['Season', 'TeamID'], how='left')\n",
    "df_features_season = df_features_season.merge(gap_win, on=['Season', 'TeamID'], how='left')\n",
    "df_features_season = df_features_season.merge(gap_loss, on=['Season', 'TeamID'], how='left')"
   ]
  },
  {
   "cell_type": "code",
   "execution_count": 14,
   "metadata": {
    "execution": {
     "iopub.execute_input": "2021-04-05T10:03:54.496441Z",
     "iopub.status.busy": "2021-04-05T10:03:54.495832Z",
     "iopub.status.idle": "2021-04-05T10:03:54.499972Z",
     "shell.execute_reply": "2021-04-05T10:03:54.500455Z"
    },
    "papermill": {
     "duration": 0.068994,
     "end_time": "2021-04-05T10:03:54.500653",
     "exception": false,
     "start_time": "2021-04-05T10:03:54.431659",
     "status": "completed"
    },
    "tags": []
   },
   "outputs": [],
   "source": [
    "df_features_season.fillna(0, inplace=True)  "
   ]
  },
  {
   "cell_type": "markdown",
   "metadata": {
    "papermill": {
     "duration": 0.048379,
     "end_time": "2021-04-05T10:03:54.598366",
     "exception": false,
     "start_time": "2021-04-05T10:03:54.549987",
     "status": "completed"
    },
    "tags": []
   },
   "source": [
    "Compute features"
   ]
  },
  {
   "cell_type": "code",
   "execution_count": 15,
   "metadata": {
    "execution": {
     "iopub.execute_input": "2021-04-05T10:03:54.700326Z",
     "iopub.status.busy": "2021-04-05T10:03:54.699702Z",
     "iopub.status.idle": "2021-04-05T10:03:54.707160Z",
     "shell.execute_reply": "2021-04-05T10:03:54.707723Z"
    },
    "papermill": {
     "duration": 0.060742,
     "end_time": "2021-04-05T10:03:54.707909",
     "exception": false,
     "start_time": "2021-04-05T10:03:54.647167",
     "status": "completed"
    },
    "tags": []
   },
   "outputs": [],
   "source": [
    "df_features_season['WinRatio'] = df_features_season['NumWins'] / (df_features_season['NumWins'] + df_features_season['NumLosses'])\n",
    "df_features_season['GapAvg'] = (\n",
    "    (df_features_season['NumWins'] * df_features_season['GapWins'] - \n",
    "    df_features_season['NumLosses'] * df_features_season['GapLosses'])\n",
    "    / (df_features_season['NumWins'] + df_features_season['NumLosses'])\n",
    ")"
   ]
  },
  {
   "cell_type": "code",
   "execution_count": 16,
   "metadata": {
    "execution": {
     "iopub.execute_input": "2021-04-05T10:03:54.809041Z",
     "iopub.status.busy": "2021-04-05T10:03:54.808428Z",
     "iopub.status.idle": "2021-04-05T10:03:54.813872Z",
     "shell.execute_reply": "2021-04-05T10:03:54.814373Z"
    },
    "papermill": {
     "duration": 0.057629,
     "end_time": "2021-04-05T10:03:54.814540",
     "exception": false,
     "start_time": "2021-04-05T10:03:54.756911",
     "status": "completed"
    },
    "tags": []
   },
   "outputs": [],
   "source": [
    "df_features_season.drop(['NumWins', 'NumLosses', 'GapWins', 'GapLosses'], axis=1, inplace=True)"
   ]
  },
  {
   "cell_type": "markdown",
   "metadata": {
    "papermill": {
     "duration": 0.048956,
     "end_time": "2021-04-05T10:03:54.913820",
     "exception": false,
     "start_time": "2021-04-05T10:03:54.864864",
     "status": "completed"
    },
    "tags": []
   },
   "source": [
    "## Tourney results\n",
    "\n",
    "> This file identifies the game-by-game NCAA® tournament results for all seasons of historical data. The data is formatted exactly like the MRegularSeasonCompactResults data. All games will show up as neutral site (so WLoc is always N). Note that this tournament game data also includes the play-in games (which always occurred on day 134/135) for those years that had play-in games. Thus each season you will see between 63 and 67 games listed, depending on how many play-in games there were."
   ]
  },
  {
   "cell_type": "code",
   "execution_count": 17,
   "metadata": {
    "execution": {
     "iopub.execute_input": "2021-04-05T10:03:55.016373Z",
     "iopub.status.busy": "2021-04-05T10:03:55.015724Z",
     "iopub.status.idle": "2021-04-05T10:03:55.031191Z",
     "shell.execute_reply": "2021-04-05T10:03:55.030521Z"
    },
    "papermill": {
     "duration": 0.06766,
     "end_time": "2021-04-05T10:03:55.031341",
     "exception": false,
     "start_time": "2021-04-05T10:03:54.963681",
     "status": "completed"
    },
    "tags": []
   },
   "outputs": [],
   "source": [
    "df_tourney_results = pd.read_csv(DATA_PATH + \"WNCAATourneyCompactResults.csv\")\n",
    "df_tourney_results.drop(['NumOT', 'WLoc'], axis=1, inplace=True)"
   ]
  },
  {
   "cell_type": "markdown",
   "metadata": {
    "papermill": {
     "duration": 0.0492,
     "end_time": "2021-04-05T10:03:55.130482",
     "exception": false,
     "start_time": "2021-04-05T10:03:55.081282",
     "status": "completed"
    },
    "tags": []
   },
   "source": [
    "## FiveThirtyEight Ratings\n",
    "> Thanks to Raddar ! https://www.kaggle.com/raddar/ncaa-women-538-team-ratings"
   ]
  },
  {
   "cell_type": "code",
   "execution_count": 18,
   "metadata": {
    "execution": {
     "iopub.execute_input": "2021-04-05T10:03:55.235167Z",
     "iopub.status.busy": "2021-04-05T10:03:55.234411Z",
     "iopub.status.idle": "2021-04-05T10:03:55.261848Z",
     "shell.execute_reply": "2021-04-05T10:03:55.262307Z"
    },
    "papermill": {
     "duration": 0.082405,
     "end_time": "2021-04-05T10:03:55.262480",
     "exception": false,
     "start_time": "2021-04-05T10:03:55.180075",
     "status": "completed"
    },
    "tags": []
   },
   "outputs": [
    {
     "data": {
      "text/html": [
       "<div>\n",
       "<style scoped>\n",
       "    .dataframe tbody tr th:only-of-type {\n",
       "        vertical-align: middle;\n",
       "    }\n",
       "\n",
       "    .dataframe tbody tr th {\n",
       "        vertical-align: top;\n",
       "    }\n",
       "\n",
       "    .dataframe thead th {\n",
       "        text-align: right;\n",
       "    }\n",
       "</style>\n",
       "<table border=\"1\" class=\"dataframe\">\n",
       "  <thead>\n",
       "    <tr style=\"text-align: right;\">\n",
       "      <th></th>\n",
       "      <th>Season</th>\n",
       "      <th>TeamID</th>\n",
       "      <th>538rating</th>\n",
       "    </tr>\n",
       "  </thead>\n",
       "  <tbody>\n",
       "    <tr>\n",
       "      <th>0</th>\n",
       "      <td>2016</td>\n",
       "      <td>3163</td>\n",
       "      <td>113.09</td>\n",
       "    </tr>\n",
       "    <tr>\n",
       "      <th>1</th>\n",
       "      <td>2016</td>\n",
       "      <td>3124</td>\n",
       "      <td>101.59</td>\n",
       "    </tr>\n",
       "    <tr>\n",
       "      <th>2</th>\n",
       "      <td>2016</td>\n",
       "      <td>3323</td>\n",
       "      <td>101.07</td>\n",
       "    </tr>\n",
       "    <tr>\n",
       "      <th>3</th>\n",
       "      <td>2016</td>\n",
       "      <td>3376</td>\n",
       "      <td>101.07</td>\n",
       "    </tr>\n",
       "    <tr>\n",
       "      <th>4</th>\n",
       "      <td>2016</td>\n",
       "      <td>3268</td>\n",
       "      <td>99.01</td>\n",
       "    </tr>\n",
       "  </tbody>\n",
       "</table>\n",
       "</div>"
      ],
      "text/plain": [
       "   Season  TeamID  538rating\n",
       "0    2016    3163     113.09\n",
       "1    2016    3124     101.59\n",
       "2    2016    3323     101.07\n",
       "3    2016    3376     101.07\n",
       "4    2016    3268      99.01"
      ]
     },
     "execution_count": 18,
     "metadata": {},
     "output_type": "execute_result"
    }
   ],
   "source": [
    "df_538 = pd.read_csv(\"../input/ncaa-women-538-team-ratings/538ratingsWomen.csv\")\n",
    "df_538.drop('TeamName', axis=1, inplace=True)\n",
    "\n",
    "df_538.head()"
   ]
  },
  {
   "cell_type": "markdown",
   "metadata": {
    "papermill": {
     "duration": 0.04993,
     "end_time": "2021-04-05T10:03:55.363211",
     "exception": false,
     "start_time": "2021-04-05T10:03:55.313281",
     "status": "completed"
    },
    "tags": []
   },
   "source": [
    "# Feature Engineering"
   ]
  },
  {
   "cell_type": "markdown",
   "metadata": {
    "papermill": {
     "duration": 0.049482,
     "end_time": "2021-04-05T10:03:55.462354",
     "exception": false,
     "start_time": "2021-04-05T10:03:55.412872",
     "status": "completed"
    },
    "tags": []
   },
   "source": [
    "## Train data"
   ]
  },
  {
   "cell_type": "code",
   "execution_count": 19,
   "metadata": {
    "execution": {
     "iopub.execute_input": "2021-04-05T10:03:55.574002Z",
     "iopub.status.busy": "2021-04-05T10:03:55.570874Z",
     "iopub.status.idle": "2021-04-05T10:03:55.578509Z",
     "shell.execute_reply": "2021-04-05T10:03:55.577973Z"
    },
    "papermill": {
     "duration": 0.06624,
     "end_time": "2021-04-05T10:03:55.578677",
     "exception": false,
     "start_time": "2021-04-05T10:03:55.512437",
     "status": "completed"
    },
    "tags": []
   },
   "outputs": [
    {
     "data": {
      "text/html": [
       "<div>\n",
       "<style scoped>\n",
       "    .dataframe tbody tr th:only-of-type {\n",
       "        vertical-align: middle;\n",
       "    }\n",
       "\n",
       "    .dataframe tbody tr th {\n",
       "        vertical-align: top;\n",
       "    }\n",
       "\n",
       "    .dataframe thead th {\n",
       "        text-align: right;\n",
       "    }\n",
       "</style>\n",
       "<table border=\"1\" class=\"dataframe\">\n",
       "  <thead>\n",
       "    <tr style=\"text-align: right;\">\n",
       "      <th></th>\n",
       "      <th>Season</th>\n",
       "      <th>DayNum</th>\n",
       "      <th>WTeamID</th>\n",
       "      <th>WScore</th>\n",
       "      <th>LTeamID</th>\n",
       "      <th>LScore</th>\n",
       "    </tr>\n",
       "  </thead>\n",
       "  <tbody>\n",
       "    <tr>\n",
       "      <th>0</th>\n",
       "      <td>2016</td>\n",
       "      <td>137</td>\n",
       "      <td>3107</td>\n",
       "      <td>61</td>\n",
       "      <td>3196</td>\n",
       "      <td>59</td>\n",
       "    </tr>\n",
       "    <tr>\n",
       "      <th>1</th>\n",
       "      <td>2016</td>\n",
       "      <td>137</td>\n",
       "      <td>3113</td>\n",
       "      <td>74</td>\n",
       "      <td>3308</td>\n",
       "      <td>52</td>\n",
       "    </tr>\n",
       "    <tr>\n",
       "      <th>2</th>\n",
       "      <td>2016</td>\n",
       "      <td>137</td>\n",
       "      <td>3120</td>\n",
       "      <td>68</td>\n",
       "      <td>3385</td>\n",
       "      <td>57</td>\n",
       "    </tr>\n",
       "    <tr>\n",
       "      <th>3</th>\n",
       "      <td>2016</td>\n",
       "      <td>137</td>\n",
       "      <td>3124</td>\n",
       "      <td>89</td>\n",
       "      <td>3225</td>\n",
       "      <td>59</td>\n",
       "    </tr>\n",
       "    <tr>\n",
       "      <th>4</th>\n",
       "      <td>2016</td>\n",
       "      <td>137</td>\n",
       "      <td>3177</td>\n",
       "      <td>97</td>\n",
       "      <td>3241</td>\n",
       "      <td>67</td>\n",
       "    </tr>\n",
       "  </tbody>\n",
       "</table>\n",
       "</div>"
      ],
      "text/plain": [
       "   Season  DayNum  WTeamID  WScore  LTeamID  LScore\n",
       "0    2016     137     3107      61     3196      59\n",
       "1    2016     137     3113      74     3308      52\n",
       "2    2016     137     3120      68     3385      57\n",
       "3    2016     137     3124      89     3225      59\n",
       "4    2016     137     3177      97     3241      67"
      ]
     },
     "execution_count": 19,
     "metadata": {},
     "output_type": "execute_result"
    }
   ],
   "source": [
    "df = df_tourney_results.copy()\n",
    "df = df[df['Season'] >= 2016].reset_index(drop=True)\n",
    "\n",
    "df.head()"
   ]
  },
  {
   "cell_type": "markdown",
   "metadata": {
    "papermill": {
     "duration": 0.051509,
     "end_time": "2021-04-05T10:03:55.680977",
     "exception": false,
     "start_time": "2021-04-05T10:03:55.629468",
     "status": "completed"
    },
    "tags": []
   },
   "source": [
    "### Seeds\n",
    "- `SeedW` is the seed of the winning team\n",
    "- `SeedL` is the seed of the losing team"
   ]
  },
  {
   "cell_type": "code",
   "execution_count": 20,
   "metadata": {
    "execution": {
     "iopub.execute_input": "2021-04-05T10:03:55.802715Z",
     "iopub.status.busy": "2021-04-05T10:03:55.802021Z",
     "iopub.status.idle": "2021-04-05T10:03:55.809699Z",
     "shell.execute_reply": "2021-04-05T10:03:55.809119Z"
    },
    "papermill": {
     "duration": 0.078444,
     "end_time": "2021-04-05T10:03:55.809847",
     "exception": false,
     "start_time": "2021-04-05T10:03:55.731403",
     "status": "completed"
    },
    "tags": []
   },
   "outputs": [],
   "source": [
    "df = pd.merge(\n",
    "    df, \n",
    "    df_seeds, \n",
    "    how='left', \n",
    "    left_on=['Season', 'WTeamID'], \n",
    "    right_on=['Season', 'TeamID']\n",
    ").drop('TeamID', axis=1).rename(columns={'Seed': 'SeedW'})"
   ]
  },
  {
   "cell_type": "code",
   "execution_count": 21,
   "metadata": {
    "execution": {
     "iopub.execute_input": "2021-04-05T10:03:55.919541Z",
     "iopub.status.busy": "2021-04-05T10:03:55.918837Z",
     "iopub.status.idle": "2021-04-05T10:03:55.925639Z",
     "shell.execute_reply": "2021-04-05T10:03:55.924973Z"
    },
    "papermill": {
     "duration": 0.065435,
     "end_time": "2021-04-05T10:03:55.925787",
     "exception": false,
     "start_time": "2021-04-05T10:03:55.860352",
     "status": "completed"
    },
    "tags": []
   },
   "outputs": [],
   "source": [
    "df = pd.merge(\n",
    "    df, \n",
    "    df_seeds, \n",
    "    how='left', \n",
    "    left_on=['Season', 'LTeamID'], \n",
    "    right_on=['Season', 'TeamID']\n",
    ").drop('TeamID', axis=1).rename(columns={'Seed': 'SeedL'})"
   ]
  },
  {
   "cell_type": "code",
   "execution_count": 22,
   "metadata": {
    "execution": {
     "iopub.execute_input": "2021-04-05T10:03:56.033449Z",
     "iopub.status.busy": "2021-04-05T10:03:56.032525Z",
     "iopub.status.idle": "2021-04-05T10:03:56.035727Z",
     "shell.execute_reply": "2021-04-05T10:03:56.035204Z"
    },
    "papermill": {
     "duration": 0.05898,
     "end_time": "2021-04-05T10:03:56.035872",
     "exception": false,
     "start_time": "2021-04-05T10:03:55.976892",
     "status": "completed"
    },
    "tags": []
   },
   "outputs": [],
   "source": [
    "def treat_seed(seed):\n",
    "    return int(re.sub(\"[^0-9]\", \"\", seed))"
   ]
  },
  {
   "cell_type": "code",
   "execution_count": 23,
   "metadata": {
    "execution": {
     "iopub.execute_input": "2021-04-05T10:03:56.147169Z",
     "iopub.status.busy": "2021-04-05T10:03:56.146464Z",
     "iopub.status.idle": "2021-04-05T10:03:56.149533Z",
     "shell.execute_reply": "2021-04-05T10:03:56.148988Z"
    },
    "papermill": {
     "duration": 0.06243,
     "end_time": "2021-04-05T10:03:56.149690",
     "exception": false,
     "start_time": "2021-04-05T10:03:56.087260",
     "status": "completed"
    },
    "tags": []
   },
   "outputs": [],
   "source": [
    "df['SeedW'] = df['SeedW'].apply(treat_seed)\n",
    "df['SeedL'] = df['SeedL'].apply(treat_seed)"
   ]
  },
  {
   "cell_type": "code",
   "execution_count": 24,
   "metadata": {
    "execution": {
     "iopub.execute_input": "2021-04-05T10:03:56.261315Z",
     "iopub.status.busy": "2021-04-05T10:03:56.260650Z",
     "iopub.status.idle": "2021-04-05T10:03:56.267490Z",
     "shell.execute_reply": "2021-04-05T10:03:56.267977Z"
    },
    "papermill": {
     "duration": 0.065984,
     "end_time": "2021-04-05T10:03:56.268141",
     "exception": false,
     "start_time": "2021-04-05T10:03:56.202157",
     "status": "completed"
    },
    "tags": []
   },
   "outputs": [
    {
     "data": {
      "text/html": [
       "<div>\n",
       "<style scoped>\n",
       "    .dataframe tbody tr th:only-of-type {\n",
       "        vertical-align: middle;\n",
       "    }\n",
       "\n",
       "    .dataframe tbody tr th {\n",
       "        vertical-align: top;\n",
       "    }\n",
       "\n",
       "    .dataframe thead th {\n",
       "        text-align: right;\n",
       "    }\n",
       "</style>\n",
       "<table border=\"1\" class=\"dataframe\">\n",
       "  <thead>\n",
       "    <tr style=\"text-align: right;\">\n",
       "      <th></th>\n",
       "      <th>Season</th>\n",
       "      <th>DayNum</th>\n",
       "      <th>WTeamID</th>\n",
       "      <th>WScore</th>\n",
       "      <th>LTeamID</th>\n",
       "      <th>LScore</th>\n",
       "      <th>SeedW</th>\n",
       "      <th>SeedL</th>\n",
       "    </tr>\n",
       "  </thead>\n",
       "  <tbody>\n",
       "    <tr>\n",
       "      <th>0</th>\n",
       "      <td>2016</td>\n",
       "      <td>137</td>\n",
       "      <td>3107</td>\n",
       "      <td>61</td>\n",
       "      <td>3196</td>\n",
       "      <td>59</td>\n",
       "      <td>12</td>\n",
       "      <td>5</td>\n",
       "    </tr>\n",
       "    <tr>\n",
       "      <th>1</th>\n",
       "      <td>2016</td>\n",
       "      <td>137</td>\n",
       "      <td>3113</td>\n",
       "      <td>74</td>\n",
       "      <td>3308</td>\n",
       "      <td>52</td>\n",
       "      <td>2</td>\n",
       "      <td>15</td>\n",
       "    </tr>\n",
       "    <tr>\n",
       "      <th>2</th>\n",
       "      <td>2016</td>\n",
       "      <td>137</td>\n",
       "      <td>3120</td>\n",
       "      <td>68</td>\n",
       "      <td>3385</td>\n",
       "      <td>57</td>\n",
       "      <td>9</td>\n",
       "      <td>8</td>\n",
       "    </tr>\n",
       "    <tr>\n",
       "      <th>3</th>\n",
       "      <td>2016</td>\n",
       "      <td>137</td>\n",
       "      <td>3124</td>\n",
       "      <td>89</td>\n",
       "      <td>3225</td>\n",
       "      <td>59</td>\n",
       "      <td>1</td>\n",
       "      <td>16</td>\n",
       "    </tr>\n",
       "    <tr>\n",
       "      <th>4</th>\n",
       "      <td>2016</td>\n",
       "      <td>137</td>\n",
       "      <td>3177</td>\n",
       "      <td>97</td>\n",
       "      <td>3241</td>\n",
       "      <td>67</td>\n",
       "      <td>6</td>\n",
       "      <td>11</td>\n",
       "    </tr>\n",
       "  </tbody>\n",
       "</table>\n",
       "</div>"
      ],
      "text/plain": [
       "   Season  DayNum  WTeamID  WScore  LTeamID  LScore  SeedW  SeedL\n",
       "0    2016     137     3107      61     3196      59     12      5\n",
       "1    2016     137     3113      74     3308      52      2     15\n",
       "2    2016     137     3120      68     3385      57      9      8\n",
       "3    2016     137     3124      89     3225      59      1     16\n",
       "4    2016     137     3177      97     3241      67      6     11"
      ]
     },
     "execution_count": 24,
     "metadata": {},
     "output_type": "execute_result"
    }
   ],
   "source": [
    "df.head()"
   ]
  },
  {
   "cell_type": "markdown",
   "metadata": {
    "papermill": {
     "duration": 0.051583,
     "end_time": "2021-04-05T10:03:56.371374",
     "exception": false,
     "start_time": "2021-04-05T10:03:56.319791",
     "status": "completed"
    },
    "tags": []
   },
   "source": [
    "### Season Stats\n",
    "- `WinRatioW` is the win ratio of the winning team during the season\n",
    "- `WinRatioL` is the win ratio of the losing team during the season"
   ]
  },
  {
   "cell_type": "code",
   "execution_count": 25,
   "metadata": {
    "execution": {
     "iopub.execute_input": "2021-04-05T10:03:56.478276Z",
     "iopub.status.busy": "2021-04-05T10:03:56.477625Z",
     "iopub.status.idle": "2021-04-05T10:03:56.488502Z",
     "shell.execute_reply": "2021-04-05T10:03:56.489039Z"
    },
    "papermill": {
     "duration": 0.066118,
     "end_time": "2021-04-05T10:03:56.489225",
     "exception": false,
     "start_time": "2021-04-05T10:03:56.423107",
     "status": "completed"
    },
    "tags": []
   },
   "outputs": [],
   "source": [
    "df = pd.merge(\n",
    "    df,\n",
    "    df_features_season,\n",
    "    how='left',\n",
    "    left_on=['Season', 'WTeamID'],\n",
    "    right_on=['Season', 'TeamID']\n",
    ").rename(columns={\n",
    "    'NumWins': 'NumWinsW',\n",
    "    'NumLosses': 'NumLossesW',\n",
    "    'GapWins': 'GapWinsW',\n",
    "    'GapLosses': 'GapLossesW',\n",
    "    'WinRatio': 'WinRatioW',\n",
    "    'GapAvg': 'GapAvgW',\n",
    "}).drop(columns='TeamID', axis=1)"
   ]
  },
  {
   "cell_type": "code",
   "execution_count": 26,
   "metadata": {
    "execution": {
     "iopub.execute_input": "2021-04-05T10:03:56.597006Z",
     "iopub.status.busy": "2021-04-05T10:03:56.596353Z",
     "iopub.status.idle": "2021-04-05T10:03:56.607327Z",
     "shell.execute_reply": "2021-04-05T10:03:56.607890Z"
    },
    "papermill": {
     "duration": 0.066896,
     "end_time": "2021-04-05T10:03:56.608066",
     "exception": false,
     "start_time": "2021-04-05T10:03:56.541170",
     "status": "completed"
    },
    "tags": []
   },
   "outputs": [],
   "source": [
    "df = pd.merge(\n",
    "    df,\n",
    "    df_features_season,\n",
    "    how='left',\n",
    "    left_on=['Season', 'LTeamID'],\n",
    "    right_on=['Season', 'TeamID']\n",
    ").rename(columns={\n",
    "    'NumWins': 'NumWinsL',\n",
    "    'NumLosses': 'NumLossesL',\n",
    "    'GapWins': 'GapWinsL',\n",
    "    'GapLosses': 'GapLossesL',\n",
    "    'WinRatio': 'WinRatioL',\n",
    "    'GapAvg': 'GapAvgL',\n",
    "}).drop(columns='TeamID', axis=1)"
   ]
  },
  {
   "cell_type": "code",
   "execution_count": 27,
   "metadata": {
    "execution": {
     "iopub.execute_input": "2021-04-05T10:03:56.716080Z",
     "iopub.status.busy": "2021-04-05T10:03:56.715461Z",
     "iopub.status.idle": "2021-04-05T10:03:56.730450Z",
     "shell.execute_reply": "2021-04-05T10:03:56.730978Z"
    },
    "papermill": {
     "duration": 0.071191,
     "end_time": "2021-04-05T10:03:56.731213",
     "exception": false,
     "start_time": "2021-04-05T10:03:56.660022",
     "status": "completed"
    },
    "tags": []
   },
   "outputs": [
    {
     "data": {
      "text/html": [
       "<div>\n",
       "<style scoped>\n",
       "    .dataframe tbody tr th:only-of-type {\n",
       "        vertical-align: middle;\n",
       "    }\n",
       "\n",
       "    .dataframe tbody tr th {\n",
       "        vertical-align: top;\n",
       "    }\n",
       "\n",
       "    .dataframe thead th {\n",
       "        text-align: right;\n",
       "    }\n",
       "</style>\n",
       "<table border=\"1\" class=\"dataframe\">\n",
       "  <thead>\n",
       "    <tr style=\"text-align: right;\">\n",
       "      <th></th>\n",
       "      <th>Season</th>\n",
       "      <th>DayNum</th>\n",
       "      <th>WTeamID</th>\n",
       "      <th>WScore</th>\n",
       "      <th>LTeamID</th>\n",
       "      <th>LScore</th>\n",
       "      <th>SeedW</th>\n",
       "      <th>SeedL</th>\n",
       "      <th>WinRatioW</th>\n",
       "      <th>GapAvgW</th>\n",
       "      <th>WinRatioL</th>\n",
       "      <th>GapAvgL</th>\n",
       "    </tr>\n",
       "  </thead>\n",
       "  <tbody>\n",
       "    <tr>\n",
       "      <th>0</th>\n",
       "      <td>2016</td>\n",
       "      <td>137</td>\n",
       "      <td>3107</td>\n",
       "      <td>61</td>\n",
       "      <td>3196</td>\n",
       "      <td>59</td>\n",
       "      <td>12</td>\n",
       "      <td>5</td>\n",
       "      <td>0.870968</td>\n",
       "      <td>18.677419</td>\n",
       "      <td>0.733333</td>\n",
       "      <td>8.700000</td>\n",
       "    </tr>\n",
       "    <tr>\n",
       "      <th>1</th>\n",
       "      <td>2016</td>\n",
       "      <td>137</td>\n",
       "      <td>3113</td>\n",
       "      <td>74</td>\n",
       "      <td>3308</td>\n",
       "      <td>52</td>\n",
       "      <td>2</td>\n",
       "      <td>15</td>\n",
       "      <td>0.806452</td>\n",
       "      <td>9.258065</td>\n",
       "      <td>0.857143</td>\n",
       "      <td>8.964286</td>\n",
       "    </tr>\n",
       "    <tr>\n",
       "      <th>2</th>\n",
       "      <td>2016</td>\n",
       "      <td>137</td>\n",
       "      <td>3120</td>\n",
       "      <td>68</td>\n",
       "      <td>3385</td>\n",
       "      <td>57</td>\n",
       "      <td>9</td>\n",
       "      <td>8</td>\n",
       "      <td>0.612903</td>\n",
       "      <td>3.032258</td>\n",
       "      <td>0.718750</td>\n",
       "      <td>6.812500</td>\n",
       "    </tr>\n",
       "    <tr>\n",
       "      <th>3</th>\n",
       "      <td>2016</td>\n",
       "      <td>137</td>\n",
       "      <td>3124</td>\n",
       "      <td>89</td>\n",
       "      <td>3225</td>\n",
       "      <td>59</td>\n",
       "      <td>1</td>\n",
       "      <td>16</td>\n",
       "      <td>0.970588</td>\n",
       "      <td>24.617647</td>\n",
       "      <td>0.709677</td>\n",
       "      <td>10.612903</td>\n",
       "    </tr>\n",
       "    <tr>\n",
       "      <th>4</th>\n",
       "      <td>2016</td>\n",
       "      <td>137</td>\n",
       "      <td>3177</td>\n",
       "      <td>97</td>\n",
       "      <td>3241</td>\n",
       "      <td>67</td>\n",
       "      <td>6</td>\n",
       "      <td>11</td>\n",
       "      <td>0.757576</td>\n",
       "      <td>16.272727</td>\n",
       "      <td>0.843750</td>\n",
       "      <td>15.406250</td>\n",
       "    </tr>\n",
       "  </tbody>\n",
       "</table>\n",
       "</div>"
      ],
      "text/plain": [
       "   Season  DayNum  WTeamID  WScore  LTeamID  LScore  SeedW  SeedL  WinRatioW  \\\n",
       "0    2016     137     3107      61     3196      59     12      5   0.870968   \n",
       "1    2016     137     3113      74     3308      52      2     15   0.806452   \n",
       "2    2016     137     3120      68     3385      57      9      8   0.612903   \n",
       "3    2016     137     3124      89     3225      59      1     16   0.970588   \n",
       "4    2016     137     3177      97     3241      67      6     11   0.757576   \n",
       "\n",
       "     GapAvgW  WinRatioL    GapAvgL  \n",
       "0  18.677419   0.733333   8.700000  \n",
       "1   9.258065   0.857143   8.964286  \n",
       "2   3.032258   0.718750   6.812500  \n",
       "3  24.617647   0.709677  10.612903  \n",
       "4  16.272727   0.843750  15.406250  "
      ]
     },
     "execution_count": 27,
     "metadata": {},
     "output_type": "execute_result"
    }
   ],
   "source": [
    "df.head()"
   ]
  },
  {
   "cell_type": "markdown",
   "metadata": {
    "papermill": {
     "duration": 0.053157,
     "end_time": "2021-04-05T10:03:56.839247",
     "exception": false,
     "start_time": "2021-04-05T10:03:56.786090",
     "status": "completed"
    },
    "tags": []
   },
   "source": [
    "### FiveThirtyEight Ratings\n",
    "- `538ratingW` is the rating of the winning team during the season\n",
    "- `538ratingL` is the rating of the losing team during the season"
   ]
  },
  {
   "cell_type": "code",
   "execution_count": 28,
   "metadata": {
    "execution": {
     "iopub.execute_input": "2021-04-05T10:03:56.949102Z",
     "iopub.status.busy": "2021-04-05T10:03:56.948451Z",
     "iopub.status.idle": "2021-04-05T10:03:56.958226Z",
     "shell.execute_reply": "2021-04-05T10:03:56.958771Z"
    },
    "papermill": {
     "duration": 0.066412,
     "end_time": "2021-04-05T10:03:56.958948",
     "exception": false,
     "start_time": "2021-04-05T10:03:56.892536",
     "status": "completed"
    },
    "tags": []
   },
   "outputs": [],
   "source": [
    "df = pd.merge(\n",
    "    df,\n",
    "    df_538,\n",
    "    how='left',\n",
    "    left_on=['Season', 'WTeamID'],\n",
    "    right_on=['Season', 'TeamID']\n",
    ").drop('TeamID', axis=1).rename(columns={'538rating': '538ratingW'})"
   ]
  },
  {
   "cell_type": "code",
   "execution_count": 29,
   "metadata": {
    "execution": {
     "iopub.execute_input": "2021-04-05T10:03:57.068884Z",
     "iopub.status.busy": "2021-04-05T10:03:57.068217Z",
     "iopub.status.idle": "2021-04-05T10:03:57.077708Z",
     "shell.execute_reply": "2021-04-05T10:03:57.078217Z"
    },
    "papermill": {
     "duration": 0.066134,
     "end_time": "2021-04-05T10:03:57.078392",
     "exception": false,
     "start_time": "2021-04-05T10:03:57.012258",
     "status": "completed"
    },
    "tags": []
   },
   "outputs": [],
   "source": [
    "df = pd.merge(\n",
    "    df, \n",
    "    df_538, \n",
    "    how='left', \n",
    "    left_on=['Season', 'LTeamID'], \n",
    "    right_on=['Season', 'TeamID']\n",
    ").drop('TeamID', axis=1).rename(columns={'538rating': '538ratingL'})"
   ]
  },
  {
   "cell_type": "code",
   "execution_count": 30,
   "metadata": {
    "execution": {
     "iopub.execute_input": "2021-04-05T10:03:57.187775Z",
     "iopub.status.busy": "2021-04-05T10:03:57.187110Z",
     "iopub.status.idle": "2021-04-05T10:03:57.206120Z",
     "shell.execute_reply": "2021-04-05T10:03:57.206725Z"
    },
    "papermill": {
     "duration": 0.075503,
     "end_time": "2021-04-05T10:03:57.206902",
     "exception": false,
     "start_time": "2021-04-05T10:03:57.131399",
     "status": "completed"
    },
    "tags": []
   },
   "outputs": [
    {
     "data": {
      "text/html": [
       "<div>\n",
       "<style scoped>\n",
       "    .dataframe tbody tr th:only-of-type {\n",
       "        vertical-align: middle;\n",
       "    }\n",
       "\n",
       "    .dataframe tbody tr th {\n",
       "        vertical-align: top;\n",
       "    }\n",
       "\n",
       "    .dataframe thead th {\n",
       "        text-align: right;\n",
       "    }\n",
       "</style>\n",
       "<table border=\"1\" class=\"dataframe\">\n",
       "  <thead>\n",
       "    <tr style=\"text-align: right;\">\n",
       "      <th></th>\n",
       "      <th>Season</th>\n",
       "      <th>DayNum</th>\n",
       "      <th>WTeamID</th>\n",
       "      <th>WScore</th>\n",
       "      <th>LTeamID</th>\n",
       "      <th>LScore</th>\n",
       "      <th>SeedW</th>\n",
       "      <th>SeedL</th>\n",
       "      <th>WinRatioW</th>\n",
       "      <th>GapAvgW</th>\n",
       "      <th>WinRatioL</th>\n",
       "      <th>GapAvgL</th>\n",
       "      <th>538ratingW</th>\n",
       "      <th>538ratingL</th>\n",
       "    </tr>\n",
       "  </thead>\n",
       "  <tbody>\n",
       "    <tr>\n",
       "      <th>0</th>\n",
       "      <td>2016</td>\n",
       "      <td>137</td>\n",
       "      <td>3107</td>\n",
       "      <td>61</td>\n",
       "      <td>3196</td>\n",
       "      <td>59</td>\n",
       "      <td>12</td>\n",
       "      <td>5</td>\n",
       "      <td>0.870968</td>\n",
       "      <td>18.677419</td>\n",
       "      <td>0.733333</td>\n",
       "      <td>8.700000</td>\n",
       "      <td>80.90</td>\n",
       "      <td>83.36</td>\n",
       "    </tr>\n",
       "    <tr>\n",
       "      <th>1</th>\n",
       "      <td>2016</td>\n",
       "      <td>137</td>\n",
       "      <td>3113</td>\n",
       "      <td>74</td>\n",
       "      <td>3308</td>\n",
       "      <td>52</td>\n",
       "      <td>2</td>\n",
       "      <td>15</td>\n",
       "      <td>0.806452</td>\n",
       "      <td>9.258065</td>\n",
       "      <td>0.857143</td>\n",
       "      <td>8.964286</td>\n",
       "      <td>91.32</td>\n",
       "      <td>71.42</td>\n",
       "    </tr>\n",
       "    <tr>\n",
       "      <th>2</th>\n",
       "      <td>2016</td>\n",
       "      <td>137</td>\n",
       "      <td>3120</td>\n",
       "      <td>68</td>\n",
       "      <td>3385</td>\n",
       "      <td>57</td>\n",
       "      <td>9</td>\n",
       "      <td>8</td>\n",
       "      <td>0.612903</td>\n",
       "      <td>3.032258</td>\n",
       "      <td>0.718750</td>\n",
       "      <td>6.812500</td>\n",
       "      <td>80.17</td>\n",
       "      <td>82.19</td>\n",
       "    </tr>\n",
       "    <tr>\n",
       "      <th>3</th>\n",
       "      <td>2016</td>\n",
       "      <td>137</td>\n",
       "      <td>3124</td>\n",
       "      <td>89</td>\n",
       "      <td>3225</td>\n",
       "      <td>59</td>\n",
       "      <td>1</td>\n",
       "      <td>16</td>\n",
       "      <td>0.970588</td>\n",
       "      <td>24.617647</td>\n",
       "      <td>0.709677</td>\n",
       "      <td>10.612903</td>\n",
       "      <td>101.59</td>\n",
       "      <td>72.69</td>\n",
       "    </tr>\n",
       "    <tr>\n",
       "      <th>4</th>\n",
       "      <td>2016</td>\n",
       "      <td>137</td>\n",
       "      <td>3177</td>\n",
       "      <td>97</td>\n",
       "      <td>3241</td>\n",
       "      <td>67</td>\n",
       "      <td>6</td>\n",
       "      <td>11</td>\n",
       "      <td>0.757576</td>\n",
       "      <td>16.272727</td>\n",
       "      <td>0.843750</td>\n",
       "      <td>15.406250</td>\n",
       "      <td>90.08</td>\n",
       "      <td>83.04</td>\n",
       "    </tr>\n",
       "  </tbody>\n",
       "</table>\n",
       "</div>"
      ],
      "text/plain": [
       "   Season  DayNum  WTeamID  WScore  LTeamID  LScore  SeedW  SeedL  WinRatioW  \\\n",
       "0    2016     137     3107      61     3196      59     12      5   0.870968   \n",
       "1    2016     137     3113      74     3308      52      2     15   0.806452   \n",
       "2    2016     137     3120      68     3385      57      9      8   0.612903   \n",
       "3    2016     137     3124      89     3225      59      1     16   0.970588   \n",
       "4    2016     137     3177      97     3241      67      6     11   0.757576   \n",
       "\n",
       "     GapAvgW  WinRatioL    GapAvgL  538ratingW  538ratingL  \n",
       "0  18.677419   0.733333   8.700000       80.90       83.36  \n",
       "1   9.258065   0.857143   8.964286       91.32       71.42  \n",
       "2   3.032258   0.718750   6.812500       80.17       82.19  \n",
       "3  24.617647   0.709677  10.612903      101.59       72.69  \n",
       "4  16.272727   0.843750  15.406250       90.08       83.04  "
      ]
     },
     "execution_count": 30,
     "metadata": {},
     "output_type": "execute_result"
    }
   ],
   "source": [
    "df.head()"
   ]
  },
  {
   "cell_type": "markdown",
   "metadata": {
    "papermill": {
     "duration": 0.054005,
     "end_time": "2021-04-05T10:03:57.315790",
     "exception": false,
     "start_time": "2021-04-05T10:03:57.261785",
     "status": "completed"
    },
    "tags": []
   },
   "source": [
    "### Add symetrical\n",
    "- Right now our data only consists of won matches\n",
    "- We duplicate our data, get rid of the winner loser "
   ]
  },
  {
   "cell_type": "code",
   "execution_count": 31,
   "metadata": {
    "execution": {
     "iopub.execute_input": "2021-04-05T10:03:57.433350Z",
     "iopub.status.busy": "2021-04-05T10:03:57.432638Z",
     "iopub.status.idle": "2021-04-05T10:03:57.435550Z",
     "shell.execute_reply": "2021-04-05T10:03:57.435050Z"
    },
    "papermill": {
     "duration": 0.066286,
     "end_time": "2021-04-05T10:03:57.435719",
     "exception": false,
     "start_time": "2021-04-05T10:03:57.369433",
     "status": "completed"
    },
    "tags": []
   },
   "outputs": [],
   "source": [
    "def add_loosing_matches(df):\n",
    "    win_rename = {\n",
    "        \"WTeamID\": \"TeamIdA\", \n",
    "        \"WScore\" : \"ScoreA\", \n",
    "        \"LTeamID\" : \"TeamIdB\",\n",
    "        \"LScore\": \"ScoreB\",\n",
    "     }\n",
    "    win_rename.update({c : c[:-1] + \"A\" for c in df.columns if c.endswith('W')})\n",
    "    win_rename.update({c : c[:-1] + \"B\" for c in df.columns if c.endswith('L')})\n",
    "    \n",
    "    lose_rename = {\n",
    "        \"WTeamID\": \"TeamIdB\", \n",
    "        \"WScore\" : \"ScoreB\", \n",
    "        \"LTeamID\" : \"TeamIdA\",\n",
    "        \"LScore\": \"ScoreA\",\n",
    "    }\n",
    "    lose_rename.update({c : c[:-1] + \"B\" for c in df.columns if c.endswith('W')})\n",
    "    lose_rename.update({c : c[:-1] + \"A\" for c in df.columns if c.endswith('L')})\n",
    "    \n",
    "    win_df = df.copy()\n",
    "    lose_df = df.copy()\n",
    "    \n",
    "    win_df = win_df.rename(columns=win_rename)\n",
    "    lose_df = lose_df.rename(columns=lose_rename)\n",
    "    \n",
    "    return pd.concat([win_df, lose_df], 0, sort=False)"
   ]
  },
  {
   "cell_type": "code",
   "execution_count": 32,
   "metadata": {
    "execution": {
     "iopub.execute_input": "2021-04-05T10:03:57.551794Z",
     "iopub.status.busy": "2021-04-05T10:03:57.551085Z",
     "iopub.status.idle": "2021-04-05T10:03:57.554027Z",
     "shell.execute_reply": "2021-04-05T10:03:57.553484Z"
    },
    "papermill": {
     "duration": 0.064289,
     "end_time": "2021-04-05T10:03:57.554196",
     "exception": false,
     "start_time": "2021-04-05T10:03:57.489907",
     "status": "completed"
    },
    "tags": []
   },
   "outputs": [],
   "source": [
    "df = add_loosing_matches(df)"
   ]
  },
  {
   "cell_type": "code",
   "execution_count": 33,
   "metadata": {
    "execution": {
     "iopub.execute_input": "2021-04-05T10:03:57.682751Z",
     "iopub.status.busy": "2021-04-05T10:03:57.682045Z",
     "iopub.status.idle": "2021-04-05T10:03:57.685545Z",
     "shell.execute_reply": "2021-04-05T10:03:57.686067Z"
    },
    "papermill": {
     "duration": 0.076918,
     "end_time": "2021-04-05T10:03:57.686286",
     "exception": false,
     "start_time": "2021-04-05T10:03:57.609368",
     "status": "completed"
    },
    "tags": []
   },
   "outputs": [
    {
     "data": {
      "text/html": [
       "<div>\n",
       "<style scoped>\n",
       "    .dataframe tbody tr th:only-of-type {\n",
       "        vertical-align: middle;\n",
       "    }\n",
       "\n",
       "    .dataframe tbody tr th {\n",
       "        vertical-align: top;\n",
       "    }\n",
       "\n",
       "    .dataframe thead th {\n",
       "        text-align: right;\n",
       "    }\n",
       "</style>\n",
       "<table border=\"1\" class=\"dataframe\">\n",
       "  <thead>\n",
       "    <tr style=\"text-align: right;\">\n",
       "      <th></th>\n",
       "      <th>Season</th>\n",
       "      <th>DayNum</th>\n",
       "      <th>TeamIdA</th>\n",
       "      <th>ScoreA</th>\n",
       "      <th>TeamIdB</th>\n",
       "      <th>ScoreB</th>\n",
       "      <th>SeedA</th>\n",
       "      <th>SeedB</th>\n",
       "      <th>WinRatioA</th>\n",
       "      <th>GapAvgA</th>\n",
       "      <th>WinRatioB</th>\n",
       "      <th>GapAvgB</th>\n",
       "      <th>538ratingA</th>\n",
       "      <th>538ratingB</th>\n",
       "    </tr>\n",
       "  </thead>\n",
       "  <tbody>\n",
       "    <tr>\n",
       "      <th>0</th>\n",
       "      <td>2016</td>\n",
       "      <td>137</td>\n",
       "      <td>3107</td>\n",
       "      <td>61</td>\n",
       "      <td>3196</td>\n",
       "      <td>59</td>\n",
       "      <td>12</td>\n",
       "      <td>5</td>\n",
       "      <td>0.870968</td>\n",
       "      <td>18.677419</td>\n",
       "      <td>0.733333</td>\n",
       "      <td>8.700000</td>\n",
       "      <td>80.90</td>\n",
       "      <td>83.36</td>\n",
       "    </tr>\n",
       "    <tr>\n",
       "      <th>1</th>\n",
       "      <td>2016</td>\n",
       "      <td>137</td>\n",
       "      <td>3113</td>\n",
       "      <td>74</td>\n",
       "      <td>3308</td>\n",
       "      <td>52</td>\n",
       "      <td>2</td>\n",
       "      <td>15</td>\n",
       "      <td>0.806452</td>\n",
       "      <td>9.258065</td>\n",
       "      <td>0.857143</td>\n",
       "      <td>8.964286</td>\n",
       "      <td>91.32</td>\n",
       "      <td>71.42</td>\n",
       "    </tr>\n",
       "    <tr>\n",
       "      <th>2</th>\n",
       "      <td>2016</td>\n",
       "      <td>137</td>\n",
       "      <td>3120</td>\n",
       "      <td>68</td>\n",
       "      <td>3385</td>\n",
       "      <td>57</td>\n",
       "      <td>9</td>\n",
       "      <td>8</td>\n",
       "      <td>0.612903</td>\n",
       "      <td>3.032258</td>\n",
       "      <td>0.718750</td>\n",
       "      <td>6.812500</td>\n",
       "      <td>80.17</td>\n",
       "      <td>82.19</td>\n",
       "    </tr>\n",
       "    <tr>\n",
       "      <th>3</th>\n",
       "      <td>2016</td>\n",
       "      <td>137</td>\n",
       "      <td>3124</td>\n",
       "      <td>89</td>\n",
       "      <td>3225</td>\n",
       "      <td>59</td>\n",
       "      <td>1</td>\n",
       "      <td>16</td>\n",
       "      <td>0.970588</td>\n",
       "      <td>24.617647</td>\n",
       "      <td>0.709677</td>\n",
       "      <td>10.612903</td>\n",
       "      <td>101.59</td>\n",
       "      <td>72.69</td>\n",
       "    </tr>\n",
       "    <tr>\n",
       "      <th>4</th>\n",
       "      <td>2016</td>\n",
       "      <td>137</td>\n",
       "      <td>3177</td>\n",
       "      <td>97</td>\n",
       "      <td>3241</td>\n",
       "      <td>67</td>\n",
       "      <td>6</td>\n",
       "      <td>11</td>\n",
       "      <td>0.757576</td>\n",
       "      <td>16.272727</td>\n",
       "      <td>0.843750</td>\n",
       "      <td>15.406250</td>\n",
       "      <td>90.08</td>\n",
       "      <td>83.04</td>\n",
       "    </tr>\n",
       "  </tbody>\n",
       "</table>\n",
       "</div>"
      ],
      "text/plain": [
       "   Season  DayNum  TeamIdA  ScoreA  TeamIdB  ScoreB  SeedA  SeedB  WinRatioA  \\\n",
       "0    2016     137     3107      61     3196      59     12      5   0.870968   \n",
       "1    2016     137     3113      74     3308      52      2     15   0.806452   \n",
       "2    2016     137     3120      68     3385      57      9      8   0.612903   \n",
       "3    2016     137     3124      89     3225      59      1     16   0.970588   \n",
       "4    2016     137     3177      97     3241      67      6     11   0.757576   \n",
       "\n",
       "     GapAvgA  WinRatioB    GapAvgB  538ratingA  538ratingB  \n",
       "0  18.677419   0.733333   8.700000       80.90       83.36  \n",
       "1   9.258065   0.857143   8.964286       91.32       71.42  \n",
       "2   3.032258   0.718750   6.812500       80.17       82.19  \n",
       "3  24.617647   0.709677  10.612903      101.59       72.69  \n",
       "4  16.272727   0.843750  15.406250       90.08       83.04  "
      ]
     },
     "execution_count": 33,
     "metadata": {},
     "output_type": "execute_result"
    }
   ],
   "source": [
    "df.head()"
   ]
  },
  {
   "cell_type": "markdown",
   "metadata": {
    "papermill": {
     "duration": 0.056486,
     "end_time": "2021-04-05T10:03:57.800333",
     "exception": false,
     "start_time": "2021-04-05T10:03:57.743847",
     "status": "completed"
    },
    "tags": []
   },
   "source": [
    "### Differences\n",
    "- We compute the difference between the team for each feature.\n",
    "- This helps further assessing how better (or worse) team A is from team B"
   ]
  },
  {
   "cell_type": "code",
   "execution_count": 34,
   "metadata": {
    "execution": {
     "iopub.execute_input": "2021-04-05T10:03:57.914049Z",
     "iopub.status.busy": "2021-04-05T10:03:57.913403Z",
     "iopub.status.idle": "2021-04-05T10:03:57.921158Z",
     "shell.execute_reply": "2021-04-05T10:03:57.921747Z"
    },
    "papermill": {
     "duration": 0.065712,
     "end_time": "2021-04-05T10:03:57.921928",
     "exception": false,
     "start_time": "2021-04-05T10:03:57.856216",
     "status": "completed"
    },
    "tags": []
   },
   "outputs": [],
   "source": [
    "cols_to_diff = [\n",
    "    'Seed', 'WinRatio', 'GapAvg', '538rating'\n",
    "]\n",
    "\n",
    "for col in cols_to_diff:\n",
    "    df[col + 'Diff'] = df[col + 'A'] - df[col + 'B']"
   ]
  },
  {
   "cell_type": "markdown",
   "metadata": {
    "papermill": {
     "duration": 0.05459,
     "end_time": "2021-04-05T10:03:58.031061",
     "exception": false,
     "start_time": "2021-04-05T10:03:57.976471",
     "status": "completed"
    },
    "tags": []
   },
   "source": [
    "## Test Data"
   ]
  },
  {
   "cell_type": "markdown",
   "metadata": {
    "papermill": {
     "duration": 0.054539,
     "end_time": "2021-04-05T10:03:58.141049",
     "exception": false,
     "start_time": "2021-04-05T10:03:58.086510",
     "status": "completed"
    },
    "tags": []
   },
   "source": [
    "### Preparing"
   ]
  },
  {
   "cell_type": "code",
   "execution_count": 35,
   "metadata": {
    "execution": {
     "iopub.execute_input": "2021-04-05T10:03:58.253562Z",
     "iopub.status.busy": "2021-04-05T10:03:58.252930Z",
     "iopub.status.idle": "2021-04-05T10:03:58.266432Z",
     "shell.execute_reply": "2021-04-05T10:03:58.266988Z"
    },
    "papermill": {
     "duration": 0.071445,
     "end_time": "2021-04-05T10:03:58.267179",
     "exception": false,
     "start_time": "2021-04-05T10:03:58.195734",
     "status": "completed"
    },
    "tags": []
   },
   "outputs": [],
   "source": [
    "df_test = pd.read_csv(DATA_PATH + \"WSampleSubmissionStage2.csv\")"
   ]
  },
  {
   "cell_type": "code",
   "execution_count": 36,
   "metadata": {
    "execution": {
     "iopub.execute_input": "2021-04-05T10:03:58.380837Z",
     "iopub.status.busy": "2021-04-05T10:03:58.380131Z",
     "iopub.status.idle": "2021-04-05T10:03:58.394690Z",
     "shell.execute_reply": "2021-04-05T10:03:58.395188Z"
    },
    "papermill": {
     "duration": 0.072866,
     "end_time": "2021-04-05T10:03:58.395370",
     "exception": false,
     "start_time": "2021-04-05T10:03:58.322504",
     "status": "completed"
    },
    "tags": []
   },
   "outputs": [],
   "source": [
    "df_test['Season'] = df_test['ID'].apply(lambda x: int(x.split('_')[0]))\n",
    "df_test['TeamIdA'] = df_test['ID'].apply(lambda x: int(x.split('_')[1]))\n",
    "df_test['TeamIdB'] = df_test['ID'].apply(lambda x: int(x.split('_')[2]))"
   ]
  },
  {
   "cell_type": "code",
   "execution_count": 37,
   "metadata": {
    "execution": {
     "iopub.execute_input": "2021-04-05T10:03:58.508338Z",
     "iopub.status.busy": "2021-04-05T10:03:58.507743Z",
     "iopub.status.idle": "2021-04-05T10:03:58.519479Z",
     "shell.execute_reply": "2021-04-05T10:03:58.520060Z"
    },
    "papermill": {
     "duration": 0.069766,
     "end_time": "2021-04-05T10:03:58.520227",
     "exception": false,
     "start_time": "2021-04-05T10:03:58.450461",
     "status": "completed"
    },
    "tags": []
   },
   "outputs": [
    {
     "data": {
      "text/html": [
       "<div>\n",
       "<style scoped>\n",
       "    .dataframe tbody tr th:only-of-type {\n",
       "        vertical-align: middle;\n",
       "    }\n",
       "\n",
       "    .dataframe tbody tr th {\n",
       "        vertical-align: top;\n",
       "    }\n",
       "\n",
       "    .dataframe thead th {\n",
       "        text-align: right;\n",
       "    }\n",
       "</style>\n",
       "<table border=\"1\" class=\"dataframe\">\n",
       "  <thead>\n",
       "    <tr style=\"text-align: right;\">\n",
       "      <th></th>\n",
       "      <th>ID</th>\n",
       "      <th>Pred</th>\n",
       "      <th>Season</th>\n",
       "      <th>TeamIdA</th>\n",
       "      <th>TeamIdB</th>\n",
       "    </tr>\n",
       "  </thead>\n",
       "  <tbody>\n",
       "    <tr>\n",
       "      <th>0</th>\n",
       "      <td>2021_3104_3112</td>\n",
       "      <td>0.5</td>\n",
       "      <td>2021</td>\n",
       "      <td>3104</td>\n",
       "      <td>3112</td>\n",
       "    </tr>\n",
       "    <tr>\n",
       "      <th>1</th>\n",
       "      <td>2021_3104_3116</td>\n",
       "      <td>0.5</td>\n",
       "      <td>2021</td>\n",
       "      <td>3104</td>\n",
       "      <td>3116</td>\n",
       "    </tr>\n",
       "    <tr>\n",
       "      <th>2</th>\n",
       "      <td>2021_3104_3124</td>\n",
       "      <td>0.5</td>\n",
       "      <td>2021</td>\n",
       "      <td>3104</td>\n",
       "      <td>3124</td>\n",
       "    </tr>\n",
       "    <tr>\n",
       "      <th>3</th>\n",
       "      <td>2021_3104_3125</td>\n",
       "      <td>0.5</td>\n",
       "      <td>2021</td>\n",
       "      <td>3104</td>\n",
       "      <td>3125</td>\n",
       "    </tr>\n",
       "    <tr>\n",
       "      <th>4</th>\n",
       "      <td>2021_3104_3133</td>\n",
       "      <td>0.5</td>\n",
       "      <td>2021</td>\n",
       "      <td>3104</td>\n",
       "      <td>3133</td>\n",
       "    </tr>\n",
       "  </tbody>\n",
       "</table>\n",
       "</div>"
      ],
      "text/plain": [
       "               ID  Pred  Season  TeamIdA  TeamIdB\n",
       "0  2021_3104_3112   0.5    2021     3104     3112\n",
       "1  2021_3104_3116   0.5    2021     3104     3116\n",
       "2  2021_3104_3124   0.5    2021     3104     3124\n",
       "3  2021_3104_3125   0.5    2021     3104     3125\n",
       "4  2021_3104_3133   0.5    2021     3104     3133"
      ]
     },
     "execution_count": 37,
     "metadata": {},
     "output_type": "execute_result"
    }
   ],
   "source": [
    "df_test.head()"
   ]
  },
  {
   "cell_type": "markdown",
   "metadata": {
    "papermill": {
     "duration": 0.05653,
     "end_time": "2021-04-05T10:03:58.632631",
     "exception": false,
     "start_time": "2021-04-05T10:03:58.576101",
     "status": "completed"
    },
    "tags": []
   },
   "source": [
    "### Seeds"
   ]
  },
  {
   "cell_type": "code",
   "execution_count": 38,
   "metadata": {
    "execution": {
     "iopub.execute_input": "2021-04-05T10:03:58.752488Z",
     "iopub.status.busy": "2021-04-05T10:03:58.751488Z",
     "iopub.status.idle": "2021-04-05T10:03:58.760016Z",
     "shell.execute_reply": "2021-04-05T10:03:58.760465Z"
    },
    "papermill": {
     "duration": 0.071836,
     "end_time": "2021-04-05T10:03:58.760660",
     "exception": false,
     "start_time": "2021-04-05T10:03:58.688824",
     "status": "completed"
    },
    "tags": []
   },
   "outputs": [],
   "source": [
    "df_test = pd.merge(\n",
    "    df_test,\n",
    "    df_seeds,\n",
    "    how='left',\n",
    "    left_on=['Season', 'TeamIdA'],\n",
    "    right_on=['Season', 'TeamID']\n",
    ").drop('TeamID', axis=1).rename(columns={'Seed': 'SeedA'})"
   ]
  },
  {
   "cell_type": "code",
   "execution_count": 39,
   "metadata": {
    "execution": {
     "iopub.execute_input": "2021-04-05T10:03:58.881047Z",
     "iopub.status.busy": "2021-04-05T10:03:58.880043Z",
     "iopub.status.idle": "2021-04-05T10:03:58.888931Z",
     "shell.execute_reply": "2021-04-05T10:03:58.888381Z"
    },
    "papermill": {
     "duration": 0.072643,
     "end_time": "2021-04-05T10:03:58.889070",
     "exception": false,
     "start_time": "2021-04-05T10:03:58.816427",
     "status": "completed"
    },
    "tags": []
   },
   "outputs": [],
   "source": [
    "df_test = pd.merge(\n",
    "    df_test, \n",
    "    df_seeds, \n",
    "    how='left', \n",
    "    left_on=['Season', 'TeamIdB'], \n",
    "    right_on=['Season', 'TeamID']\n",
    ").drop('TeamID', axis=1).rename(columns={'Seed': 'SeedB'})"
   ]
  },
  {
   "cell_type": "code",
   "execution_count": 40,
   "metadata": {
    "execution": {
     "iopub.execute_input": "2021-04-05T10:03:59.004550Z",
     "iopub.status.busy": "2021-04-05T10:03:59.003947Z",
     "iopub.status.idle": "2021-04-05T10:03:59.020219Z",
     "shell.execute_reply": "2021-04-05T10:03:59.020706Z"
    },
    "papermill": {
     "duration": 0.075961,
     "end_time": "2021-04-05T10:03:59.020919",
     "exception": false,
     "start_time": "2021-04-05T10:03:58.944958",
     "status": "completed"
    },
    "tags": []
   },
   "outputs": [],
   "source": [
    "df_test['SeedA'] = df_test['SeedA'].apply(treat_seed)\n",
    "df_test['SeedB'] = df_test['SeedB'].apply(treat_seed)"
   ]
  },
  {
   "cell_type": "markdown",
   "metadata": {
    "papermill": {
     "duration": 0.055482,
     "end_time": "2021-04-05T10:03:59.132542",
     "exception": false,
     "start_time": "2021-04-05T10:03:59.077060",
     "status": "completed"
    },
    "tags": []
   },
   "source": [
    "### Season Stats"
   ]
  },
  {
   "cell_type": "code",
   "execution_count": 41,
   "metadata": {
    "execution": {
     "iopub.execute_input": "2021-04-05T10:03:59.247903Z",
     "iopub.status.busy": "2021-04-05T10:03:59.247234Z",
     "iopub.status.idle": "2021-04-05T10:03:59.259969Z",
     "shell.execute_reply": "2021-04-05T10:03:59.260491Z"
    },
    "papermill": {
     "duration": 0.072236,
     "end_time": "2021-04-05T10:03:59.260731",
     "exception": false,
     "start_time": "2021-04-05T10:03:59.188495",
     "status": "completed"
    },
    "tags": []
   },
   "outputs": [],
   "source": [
    "df_test = pd.merge(\n",
    "    df_test,\n",
    "    df_features_season,\n",
    "    how='left',\n",
    "    left_on=['Season', 'TeamIdA'],\n",
    "    right_on=['Season', 'TeamID']\n",
    ").rename(columns={\n",
    "    'NumWins': 'NumWinsA',\n",
    "    'NumLosses': 'NumLossesA',\n",
    "    'GapWins': 'GapWinsA',\n",
    "    'GapLosses': 'GapLossesA',\n",
    "    'WinRatio': 'WinRatioA',\n",
    "    'GapAvg': 'GapAvgA',\n",
    "}).drop(columns='TeamID', axis=1)"
   ]
  },
  {
   "cell_type": "code",
   "execution_count": 42,
   "metadata": {
    "execution": {
     "iopub.execute_input": "2021-04-05T10:03:59.381956Z",
     "iopub.status.busy": "2021-04-05T10:03:59.381257Z",
     "iopub.status.idle": "2021-04-05T10:03:59.390534Z",
     "shell.execute_reply": "2021-04-05T10:03:59.389955Z"
    },
    "papermill": {
     "duration": 0.073614,
     "end_time": "2021-04-05T10:03:59.390708",
     "exception": false,
     "start_time": "2021-04-05T10:03:59.317094",
     "status": "completed"
    },
    "tags": []
   },
   "outputs": [],
   "source": [
    "df_test = pd.merge(\n",
    "    df_test,\n",
    "    df_features_season,\n",
    "    how='left',\n",
    "    left_on=['Season', 'TeamIdB'],\n",
    "    right_on=['Season', 'TeamID']\n",
    ").rename(columns={\n",
    "    'NumWins': 'NumWinsB',\n",
    "    'NumLosses': 'NumLossesB',\n",
    "    'GapWins': 'GapWinsB',\n",
    "    'GapLosses': 'GapLossesB',\n",
    "    'WinRatio': 'WinRatioB',\n",
    "    'GapAvg': 'GapAvgB',\n",
    "}).drop(columns='TeamID', axis=1)"
   ]
  },
  {
   "cell_type": "markdown",
   "metadata": {
    "papermill": {
     "duration": 0.056208,
     "end_time": "2021-04-05T10:03:59.503015",
     "exception": false,
     "start_time": "2021-04-05T10:03:59.446807",
     "status": "completed"
    },
    "tags": []
   },
   "source": [
    "### Ratings"
   ]
  },
  {
   "cell_type": "code",
   "execution_count": 43,
   "metadata": {
    "execution": {
     "iopub.execute_input": "2021-04-05T10:03:59.623977Z",
     "iopub.status.busy": "2021-04-05T10:03:59.622666Z",
     "iopub.status.idle": "2021-04-05T10:03:59.631173Z",
     "shell.execute_reply": "2021-04-05T10:03:59.630478Z"
    },
    "papermill": {
     "duration": 0.07223,
     "end_time": "2021-04-05T10:03:59.631317",
     "exception": false,
     "start_time": "2021-04-05T10:03:59.559087",
     "status": "completed"
    },
    "tags": []
   },
   "outputs": [],
   "source": [
    "df_test = pd.merge(\n",
    "    df_test,\n",
    "    df_538,\n",
    "    how='left',\n",
    "    left_on=['Season', 'TeamIdA'],\n",
    "    right_on=['Season', 'TeamID']\n",
    ").drop('TeamID', axis=1).rename(columns={'538rating': '538ratingA'})"
   ]
  },
  {
   "cell_type": "code",
   "execution_count": 44,
   "metadata": {
    "execution": {
     "iopub.execute_input": "2021-04-05T10:03:59.752280Z",
     "iopub.status.busy": "2021-04-05T10:03:59.751468Z",
     "iopub.status.idle": "2021-04-05T10:03:59.759643Z",
     "shell.execute_reply": "2021-04-05T10:03:59.758972Z"
    },
    "papermill": {
     "duration": 0.072012,
     "end_time": "2021-04-05T10:03:59.759834",
     "exception": false,
     "start_time": "2021-04-05T10:03:59.687822",
     "status": "completed"
    },
    "tags": []
   },
   "outputs": [],
   "source": [
    "df_test = pd.merge(\n",
    "    df_test,\n",
    "    df_538,\n",
    "    how='left',\n",
    "    left_on=['Season', 'TeamIdB'],\n",
    "    right_on=['Season', 'TeamID']\n",
    ").drop('TeamID', axis=1).rename(columns={'538rating': '538ratingB'})"
   ]
  },
  {
   "cell_type": "markdown",
   "metadata": {
    "papermill": {
     "duration": 0.055891,
     "end_time": "2021-04-05T10:03:59.872136",
     "exception": false,
     "start_time": "2021-04-05T10:03:59.816245",
     "status": "completed"
    },
    "tags": []
   },
   "source": [
    "### Differences"
   ]
  },
  {
   "cell_type": "code",
   "execution_count": 45,
   "metadata": {
    "execution": {
     "iopub.execute_input": "2021-04-05T10:03:59.996785Z",
     "iopub.status.busy": "2021-04-05T10:03:59.995993Z",
     "iopub.status.idle": "2021-04-05T10:03:59.999058Z",
     "shell.execute_reply": "2021-04-05T10:03:59.998494Z"
    },
    "papermill": {
     "duration": 0.069084,
     "end_time": "2021-04-05T10:03:59.999201",
     "exception": false,
     "start_time": "2021-04-05T10:03:59.930117",
     "status": "completed"
    },
    "tags": []
   },
   "outputs": [],
   "source": [
    "for col in cols_to_diff:\n",
    "    df_test[col + 'Diff'] = df_test[col + 'A'] - df_test[col + 'B']"
   ]
  },
  {
   "cell_type": "code",
   "execution_count": 46,
   "metadata": {
    "execution": {
     "iopub.execute_input": "2021-04-05T10:04:00.137380Z",
     "iopub.status.busy": "2021-04-05T10:04:00.134427Z",
     "iopub.status.idle": "2021-04-05T10:04:00.141872Z",
     "shell.execute_reply": "2021-04-05T10:04:00.142369Z"
    },
    "papermill": {
     "duration": 0.08557,
     "end_time": "2021-04-05T10:04:00.142545",
     "exception": false,
     "start_time": "2021-04-05T10:04:00.056975",
     "status": "completed"
    },
    "tags": []
   },
   "outputs": [
    {
     "data": {
      "text/html": [
       "<div>\n",
       "<style scoped>\n",
       "    .dataframe tbody tr th:only-of-type {\n",
       "        vertical-align: middle;\n",
       "    }\n",
       "\n",
       "    .dataframe tbody tr th {\n",
       "        vertical-align: top;\n",
       "    }\n",
       "\n",
       "    .dataframe thead th {\n",
       "        text-align: right;\n",
       "    }\n",
       "</style>\n",
       "<table border=\"1\" class=\"dataframe\">\n",
       "  <thead>\n",
       "    <tr style=\"text-align: right;\">\n",
       "      <th></th>\n",
       "      <th>ID</th>\n",
       "      <th>Pred</th>\n",
       "      <th>Season</th>\n",
       "      <th>TeamIdA</th>\n",
       "      <th>TeamIdB</th>\n",
       "      <th>SeedA</th>\n",
       "      <th>SeedB</th>\n",
       "      <th>WinRatioA</th>\n",
       "      <th>GapAvgA</th>\n",
       "      <th>WinRatioB</th>\n",
       "      <th>GapAvgB</th>\n",
       "      <th>538ratingA</th>\n",
       "      <th>538ratingB</th>\n",
       "      <th>SeedDiff</th>\n",
       "      <th>WinRatioDiff</th>\n",
       "      <th>GapAvgDiff</th>\n",
       "      <th>538ratingDiff</th>\n",
       "    </tr>\n",
       "  </thead>\n",
       "  <tbody>\n",
       "    <tr>\n",
       "      <th>0</th>\n",
       "      <td>2021_3104_3112</td>\n",
       "      <td>0.5</td>\n",
       "      <td>2021</td>\n",
       "      <td>3104</td>\n",
       "      <td>3112</td>\n",
       "      <td>7</td>\n",
       "      <td>3</td>\n",
       "      <td>0.64</td>\n",
       "      <td>4.76</td>\n",
       "      <td>0.761905</td>\n",
       "      <td>10.523810</td>\n",
       "      <td>84.22</td>\n",
       "      <td>93.87</td>\n",
       "      <td>4</td>\n",
       "      <td>-0.121905</td>\n",
       "      <td>-5.763810</td>\n",
       "      <td>-9.65</td>\n",
       "    </tr>\n",
       "    <tr>\n",
       "      <th>1</th>\n",
       "      <td>2021_3104_3116</td>\n",
       "      <td>0.5</td>\n",
       "      <td>2021</td>\n",
       "      <td>3104</td>\n",
       "      <td>3116</td>\n",
       "      <td>7</td>\n",
       "      <td>4</td>\n",
       "      <td>0.64</td>\n",
       "      <td>4.76</td>\n",
       "      <td>0.703704</td>\n",
       "      <td>9.000000</td>\n",
       "      <td>84.22</td>\n",
       "      <td>89.61</td>\n",
       "      <td>3</td>\n",
       "      <td>-0.063704</td>\n",
       "      <td>-4.240000</td>\n",
       "      <td>-5.39</td>\n",
       "    </tr>\n",
       "    <tr>\n",
       "      <th>2</th>\n",
       "      <td>2021_3104_3124</td>\n",
       "      <td>0.5</td>\n",
       "      <td>2021</td>\n",
       "      <td>3104</td>\n",
       "      <td>3124</td>\n",
       "      <td>7</td>\n",
       "      <td>2</td>\n",
       "      <td>0.64</td>\n",
       "      <td>4.76</td>\n",
       "      <td>0.925926</td>\n",
       "      <td>27.111111</td>\n",
       "      <td>84.22</td>\n",
       "      <td>100.75</td>\n",
       "      <td>5</td>\n",
       "      <td>-0.285926</td>\n",
       "      <td>-22.351111</td>\n",
       "      <td>-16.53</td>\n",
       "    </tr>\n",
       "    <tr>\n",
       "      <th>3</th>\n",
       "      <td>2021_3104_3125</td>\n",
       "      <td>0.5</td>\n",
       "      <td>2021</td>\n",
       "      <td>3104</td>\n",
       "      <td>3125</td>\n",
       "      <td>7</td>\n",
       "      <td>12</td>\n",
       "      <td>0.64</td>\n",
       "      <td>4.76</td>\n",
       "      <td>0.800000</td>\n",
       "      <td>12.320000</td>\n",
       "      <td>84.22</td>\n",
       "      <td>75.93</td>\n",
       "      <td>-5</td>\n",
       "      <td>-0.160000</td>\n",
       "      <td>-7.560000</td>\n",
       "      <td>8.29</td>\n",
       "    </tr>\n",
       "    <tr>\n",
       "      <th>4</th>\n",
       "      <td>2021_3104_3133</td>\n",
       "      <td>0.5</td>\n",
       "      <td>2021</td>\n",
       "      <td>3104</td>\n",
       "      <td>3133</td>\n",
       "      <td>7</td>\n",
       "      <td>11</td>\n",
       "      <td>0.64</td>\n",
       "      <td>4.76</td>\n",
       "      <td>0.592593</td>\n",
       "      <td>4.592593</td>\n",
       "      <td>84.22</td>\n",
       "      <td>76.78</td>\n",
       "      <td>-4</td>\n",
       "      <td>0.047407</td>\n",
       "      <td>0.167407</td>\n",
       "      <td>7.44</td>\n",
       "    </tr>\n",
       "  </tbody>\n",
       "</table>\n",
       "</div>"
      ],
      "text/plain": [
       "               ID  Pred  Season  TeamIdA  TeamIdB  SeedA  SeedB  WinRatioA  \\\n",
       "0  2021_3104_3112   0.5    2021     3104     3112      7      3       0.64   \n",
       "1  2021_3104_3116   0.5    2021     3104     3116      7      4       0.64   \n",
       "2  2021_3104_3124   0.5    2021     3104     3124      7      2       0.64   \n",
       "3  2021_3104_3125   0.5    2021     3104     3125      7     12       0.64   \n",
       "4  2021_3104_3133   0.5    2021     3104     3133      7     11       0.64   \n",
       "\n",
       "   GapAvgA  WinRatioB    GapAvgB  538ratingA  538ratingB  SeedDiff  \\\n",
       "0     4.76   0.761905  10.523810       84.22       93.87         4   \n",
       "1     4.76   0.703704   9.000000       84.22       89.61         3   \n",
       "2     4.76   0.925926  27.111111       84.22      100.75         5   \n",
       "3     4.76   0.800000  12.320000       84.22       75.93        -5   \n",
       "4     4.76   0.592593   4.592593       84.22       76.78        -4   \n",
       "\n",
       "   WinRatioDiff  GapAvgDiff  538ratingDiff  \n",
       "0     -0.121905   -5.763810          -9.65  \n",
       "1     -0.063704   -4.240000          -5.39  \n",
       "2     -0.285926  -22.351111         -16.53  \n",
       "3     -0.160000   -7.560000           8.29  \n",
       "4      0.047407    0.167407           7.44  "
      ]
     },
     "execution_count": 46,
     "metadata": {},
     "output_type": "execute_result"
    }
   ],
   "source": [
    "df_test.head()"
   ]
  },
  {
   "cell_type": "markdown",
   "metadata": {
    "papermill": {
     "duration": 0.057419,
     "end_time": "2021-04-05T10:04:00.258195",
     "exception": false,
     "start_time": "2021-04-05T10:04:00.200776",
     "status": "completed"
    },
    "tags": []
   },
   "source": [
    "## Target"
   ]
  },
  {
   "cell_type": "code",
   "execution_count": 47,
   "metadata": {
    "execution": {
     "iopub.execute_input": "2021-04-05T10:04:00.380512Z",
     "iopub.status.busy": "2021-04-05T10:04:00.379890Z",
     "iopub.status.idle": "2021-04-05T10:04:00.382743Z",
     "shell.execute_reply": "2021-04-05T10:04:00.382052Z"
    },
    "papermill": {
     "duration": 0.067107,
     "end_time": "2021-04-05T10:04:00.382883",
     "exception": false,
     "start_time": "2021-04-05T10:04:00.315776",
     "status": "completed"
    },
    "tags": []
   },
   "outputs": [],
   "source": [
    "df['ScoreDiff'] = df['ScoreA'] - df['ScoreB']\n",
    "df['WinA'] = (df['ScoreDiff'] > 0).astype(int)"
   ]
  },
  {
   "cell_type": "markdown",
   "metadata": {
    "papermill": {
     "duration": 0.056902,
     "end_time": "2021-04-05T10:04:00.497388",
     "exception": false,
     "start_time": "2021-04-05T10:04:00.440486",
     "status": "completed"
    },
    "tags": []
   },
   "source": [
    "# Modeling"
   ]
  },
  {
   "cell_type": "code",
   "execution_count": 48,
   "metadata": {
    "execution": {
     "iopub.execute_input": "2021-04-05T10:04:00.616835Z",
     "iopub.status.busy": "2021-04-05T10:04:00.616229Z",
     "iopub.status.idle": "2021-04-05T10:04:00.618408Z",
     "shell.execute_reply": "2021-04-05T10:04:00.618980Z"
    },
    "papermill": {
     "duration": 0.064262,
     "end_time": "2021-04-05T10:04:00.619145",
     "exception": false,
     "start_time": "2021-04-05T10:04:00.554883",
     "status": "completed"
    },
    "tags": []
   },
   "outputs": [],
   "source": [
    "features = [\n",
    "    'SeedDiff',\n",
    "    '538ratingDiff',\n",
    "    'WinRatioDiff', \n",
    "    'GapAvgDiff', \n",
    "]"
   ]
  },
  {
   "cell_type": "code",
   "execution_count": 49,
   "metadata": {
    "execution": {
     "iopub.execute_input": "2021-04-05T10:04:00.738050Z",
     "iopub.status.busy": "2021-04-05T10:04:00.737439Z",
     "iopub.status.idle": "2021-04-05T10:04:00.743383Z",
     "shell.execute_reply": "2021-04-05T10:04:00.743991Z"
    },
    "papermill": {
     "duration": 0.067474,
     "end_time": "2021-04-05T10:04:00.744240",
     "exception": false,
     "start_time": "2021-04-05T10:04:00.676766",
     "status": "completed"
    },
    "tags": []
   },
   "outputs": [],
   "source": [
    "def rescale(features, df_train, df_val, df_test=None):\n",
    "    min_ = df_train[features].min()\n",
    "    max_ = df_train[features].max()\n",
    "    \n",
    "    df_train[features] = (df_train[features] - min_) / (max_ - min_)\n",
    "    df_val[features] = (df_val[features] - min_) / (max_ - min_)\n",
    "    \n",
    "    if df_test is not None:\n",
    "        df_test[features] = (df_test[features] - min_) / (max_ - min_)\n",
    "        \n",
    "    return df_train, df_val, df_test"
   ]
  },
  {
   "cell_type": "markdown",
   "metadata": {
    "papermill": {
     "duration": 0.061375,
     "end_time": "2021-04-05T10:04:00.863341",
     "exception": false,
     "start_time": "2021-04-05T10:04:00.801966",
     "status": "completed"
    },
    "tags": []
   },
   "source": [
    "### Cross Validation\n",
    "- Validate on season `n`, for `n` in the 3 last seasons. \n",
    "- Train on earlier seasons. First available season is 2016 because of the FiveThirtyEight ratings.\n",
    "- Pipeline support classification (predict the team that wins) and regression (predict the score gap), but classification worked better on CV."
   ]
  },
  {
   "cell_type": "code",
   "execution_count": 50,
   "metadata": {
    "execution": {
     "iopub.execute_input": "2021-04-05T10:04:00.982067Z",
     "iopub.status.busy": "2021-04-05T10:04:00.981408Z",
     "iopub.status.idle": "2021-04-05T10:04:00.996322Z",
     "shell.execute_reply": "2021-04-05T10:04:00.996855Z"
    },
    "papermill": {
     "duration": 0.076119,
     "end_time": "2021-04-05T10:04:00.997025",
     "exception": false,
     "start_time": "2021-04-05T10:04:00.920906",
     "status": "completed"
    },
    "tags": []
   },
   "outputs": [],
   "source": [
    "def kfold(df, df_test_=None, plot=False, verbose=0, mode=\"reg\"):\n",
    "    seasons = df['Season'].unique()\n",
    "    cvs = []\n",
    "    pred_tests = []\n",
    "    target = \"ScoreDiff\" if mode == \"reg\" else \"WinA\"\n",
    "    \n",
    "    for season in seasons[1:]:\n",
    "        if verbose:\n",
    "            print(f'\\nValidating on season {season}')\n",
    "        \n",
    "        df_train = df[df['Season'] < season].reset_index(drop=True).copy()\n",
    "        df_val = df[df['Season'] == season].reset_index(drop=True).copy()\n",
    "        df_test = df_test_.copy()\n",
    "        \n",
    "        df_train, df_val, df_test = rescale(features, df_train, df_val, df_test)\n",
    "        \n",
    "        if mode == \"reg\":\n",
    "            model = ElasticNet(alpha=1, l1_ratio=0.5)\n",
    "        else:\n",
    "            model = LogisticRegression(C=100)\n",
    "\n",
    "        model.fit(df_train[features], df_train[target])\n",
    "        \n",
    "        if mode == \"reg\":\n",
    "            pred = model.predict(df_val[features])\n",
    "            pred = (pred - pred.min()) / (pred.max() - pred.min())\n",
    "        else:\n",
    "            pred = model.predict_proba(df_val[features])[:, 1]\n",
    "        \n",
    "        if df_test is not None:\n",
    "            if mode == \"reg\":\n",
    "                pred_test = model.predict(df_test[features])\n",
    "                pred_test = (pred_test - pred_test.min()) / (pred_test.max() - pred_test.min())\n",
    "            else:\n",
    "                pred_test = model.predict_proba(df_test[features])[:, 1]\n",
    "                \n",
    "            pred_tests.append(pred_test)\n",
    "            \n",
    "        if plot:\n",
    "            plt.figure(figsize=(15, 6))\n",
    "            plt.subplot(1, 2, 1)\n",
    "            plt.scatter(pred, df_val['ScoreDiff'].values, s=5)\n",
    "            plt.grid(True)\n",
    "            plt.subplot(1, 2, 2)\n",
    "            sns.histplot(pred)\n",
    "            plt.show()\n",
    "        \n",
    "        loss = log_loss(df_val['WinA'].values, pred)\n",
    "        cvs.append(loss)\n",
    "\n",
    "        if verbose:\n",
    "            print(f'\\t -> Scored {loss:.3f}')\n",
    "        \n",
    "    print(f'\\n Local CV is {np.mean(cvs):.3f}')\n",
    "    \n",
    "    return pred_tests"
   ]
  },
  {
   "cell_type": "code",
   "execution_count": 51,
   "metadata": {
    "execution": {
     "iopub.execute_input": "2021-04-05T10:04:01.115765Z",
     "iopub.status.busy": "2021-04-05T10:04:01.115116Z",
     "iopub.status.idle": "2021-04-05T10:04:01.211427Z",
     "shell.execute_reply": "2021-04-05T10:04:01.210915Z"
    },
    "papermill": {
     "duration": 0.156681,
     "end_time": "2021-04-05T10:04:01.211591",
     "exception": false,
     "start_time": "2021-04-05T10:04:01.054910",
     "status": "completed"
    },
    "tags": []
   },
   "outputs": [
    {
     "name": "stdout",
     "output_type": "stream",
     "text": [
      "\n",
      "Validating on season 2017\n",
      "\t -> Scored 0.404\n",
      "\n",
      "Validating on season 2018\n",
      "\t -> Scored 0.487\n",
      "\n",
      "Validating on season 2019\n",
      "\t -> Scored 0.358\n",
      "\n",
      " Local CV is 0.416\n"
     ]
    }
   ],
   "source": [
    "pred_tests = kfold(df, df_test, plot=False, verbose=1, mode=\"cls\")"
   ]
  },
  {
   "cell_type": "code",
   "execution_count": 52,
   "metadata": {
    "execution": {
     "iopub.execute_input": "2021-04-05T10:04:01.340179Z",
     "iopub.status.busy": "2021-04-05T10:04:01.335797Z",
     "iopub.status.idle": "2021-04-05T10:04:01.602370Z",
     "shell.execute_reply": "2021-04-05T10:04:01.602906Z"
    },
    "papermill": {
     "duration": 0.33312,
     "end_time": "2021-04-05T10:04:01.603081",
     "exception": false,
     "start_time": "2021-04-05T10:04:01.269961",
     "status": "completed"
    },
    "tags": []
   },
   "outputs": [
    {
     "data": {
      "image/png": "[encoded data removed]",
      "text/plain": [
       "<Figure size 360x360 with 1 Axes>"
      ]
     },
     "metadata": {
      "needs_background": "light"
     },
     "output_type": "display_data"
    }
   ],
   "source": [
    "pred_test = np.mean(pred_tests, 0)\n",
    "\n",
    "_ = sns.displot(pred_test)"
   ]
  },
  {
   "cell_type": "markdown",
   "metadata": {
    "papermill": {
     "duration": 0.059659,
     "end_time": "2021-04-05T10:04:01.721921",
     "exception": false,
     "start_time": "2021-04-05T10:04:01.662262",
     "status": "completed"
    },
    "tags": []
   },
   "source": [
    "# Overriding predictions"
   ]
  },
  {
   "cell_type": "markdown",
   "metadata": {
    "papermill": {
     "duration": 0.05936,
     "end_time": "2021-04-05T10:04:01.840484",
     "exception": false,
     "start_time": "2021-04-05T10:04:01.781124",
     "status": "completed"
    },
    "tags": []
   },
   "source": [
    "## Prepare"
   ]
  },
  {
   "cell_type": "code",
   "execution_count": 53,
   "metadata": {
    "execution": {
     "iopub.execute_input": "2021-04-05T10:04:01.964237Z",
     "iopub.status.busy": "2021-04-05T10:04:01.963621Z",
     "iopub.status.idle": "2021-04-05T10:04:01.969853Z",
     "shell.execute_reply": "2021-04-05T10:04:01.970359Z"
    },
    "papermill": {
     "duration": 0.070453,
     "end_time": "2021-04-05T10:04:01.970531",
     "exception": false,
     "start_time": "2021-04-05T10:04:01.900078",
     "status": "completed"
    },
    "tags": []
   },
   "outputs": [],
   "source": [
    "sub = df_test[['ID', 'Pred', 'TeamIdA', 'TeamIdB', 'SeedA', 'SeedB']].copy()\n",
    "sub['Pred'] = pred_test"
   ]
  },
  {
   "cell_type": "code",
   "execution_count": 54,
   "metadata": {
    "execution": {
     "iopub.execute_input": "2021-04-05T10:04:02.092443Z",
     "iopub.status.busy": "2021-04-05T10:04:02.091841Z",
     "iopub.status.idle": "2021-04-05T10:04:02.115521Z",
     "shell.execute_reply": "2021-04-05T10:04:02.114964Z"
    },
    "papermill": {
     "duration": 0.085506,
     "end_time": "2021-04-05T10:04:02.115681",
     "exception": false,
     "start_time": "2021-04-05T10:04:02.030175",
     "status": "completed"
    },
    "tags": []
   },
   "outputs": [],
   "source": [
    "df_teams = pd.read_csv(DATA_PATH + \"WTeams.csv\")\n",
    "sub = sub.merge(df_teams, left_on=\"TeamIdA\", right_on=\"TeamID\").drop('TeamID', axis=1).rename(columns={\"TeamName\": \"TeamA\"})\n",
    "sub = sub.merge(df_teams, left_on=\"TeamIdB\", right_on=\"TeamID\").drop('TeamID', axis=1).rename(columns={\"TeamName\": \"TeamB\"})"
   ]
  },
  {
   "cell_type": "code",
   "execution_count": 55,
   "metadata": {
    "execution": {
     "iopub.execute_input": "2021-04-05T10:04:02.249535Z",
     "iopub.status.busy": "2021-04-05T10:04:02.247539Z",
     "iopub.status.idle": "2021-04-05T10:04:02.261340Z",
     "shell.execute_reply": "2021-04-05T10:04:02.260779Z"
    },
    "papermill": {
     "duration": 0.085817,
     "end_time": "2021-04-05T10:04:02.261481",
     "exception": false,
     "start_time": "2021-04-05T10:04:02.175664",
     "status": "completed"
    },
    "tags": []
   },
   "outputs": [],
   "source": [
    "if 'Season' in df_seeds.keys():\n",
    "    df_seeds = df_seeds[df_seeds['Season'] == 2021].drop(\"Season\", axis=1)\n",
    "df_seeds['Seed'] = df_seeds['Seed'].apply(lambda x:x[0])\n",
    "\n",
    "sub = sub.merge(df_seeds, left_on=\"TeamIdA\", right_on=\"TeamID\").drop('TeamID', axis=1).rename(columns={\"Seed\": \"RegionA\"})\n",
    "sub = sub.merge(df_seeds, left_on=\"TeamIdB\", right_on=\"TeamID\").drop('TeamID', axis=1).rename(columns={\"Seed\": \"RegionB\"})"
   ]
  },
  {
   "cell_type": "markdown",
   "metadata": {
    "papermill": {
     "duration": 0.059503,
     "end_time": "2021-04-05T10:04:02.382235",
     "exception": false,
     "start_time": "2021-04-05T10:04:02.322732",
     "status": "completed"
    },
    "tags": []
   },
   "source": [
    "## Strategies\n",
    "\n",
    "#### Risky strategy\n",
    "\n",
    "- Picked 11 teams that would win their first match\n",
    "- Stanford and Baylor beat every team seeded 3 or higher\n",
    "- Connecticut and South Carolina  beat every team seeded 4 or higher\n",
    "- Maryland wins beats every team seeded 7 or higher\n",
    "- use p=0.99999 for overriding\n",
    "\n",
    "#### Safe strategy\n",
    "\n",
    "- Picked 7 teams that would win their first match\n",
    "- Stanford, Connecticut and South Carolina beat every team seeded 6 or higher\n",
    "- Baylor wins beats every team seeded 7 or higher\n",
    "- use p=0.99 for overriding"
   ]
  },
  {
   "cell_type": "code",
   "execution_count": 56,
   "metadata": {
    "execution": {
     "iopub.execute_input": "2021-04-05T10:04:02.507192Z",
     "iopub.status.busy": "2021-04-05T10:04:02.506331Z",
     "iopub.status.idle": "2021-04-05T10:04:02.509683Z",
     "shell.execute_reply": "2021-04-05T10:04:02.509056Z"
    },
    "papermill": {
     "duration": 0.067937,
     "end_time": "2021-04-05T10:04:02.509819",
     "exception": false,
     "start_time": "2021-04-05T10:04:02.441882",
     "status": "completed"
    },
    "tags": []
   },
   "outputs": [],
   "source": [
    "best_teams = ['Stanford', 'South Carolina', 'Connecticut', 'Baylor', 'Maryland']  # considered for buff\n",
    "\n",
    "strong_teams_safe = best_teams + ['NC State', 'Louisville']  # win 1st round\n",
    "strong_teams_risky = strong_teams_safe + ['Texas A&M', 'Arizona', 'Georgia', 'UCLA']  # win 1st round"
   ]
  },
  {
   "cell_type": "code",
   "execution_count": 57,
   "metadata": {
    "execution": {
     "iopub.execute_input": "2021-04-05T10:04:02.642014Z",
     "iopub.status.busy": "2021-04-05T10:04:02.641353Z",
     "iopub.status.idle": "2021-04-05T10:04:02.644276Z",
     "shell.execute_reply": "2021-04-05T10:04:02.643792Z"
    },
    "papermill": {
     "duration": 0.074753,
     "end_time": "2021-04-05T10:04:02.644416",
     "exception": false,
     "start_time": "2021-04-05T10:04:02.569663",
     "status": "completed"
    },
    "tags": []
   },
   "outputs": [],
   "source": [
    "def overwrite_pred_risky(sub, eps=1e-5):\n",
    "\n",
    "    new_sub = []\n",
    "    \n",
    "    for i, row in sub.iterrows():\n",
    "        \n",
    "        # Buff Stanford\n",
    "        if row['TeamA'] == 'Stanford' and row['SeedB'] >= 3:\n",
    "            row['Pred'] = 1 - eps\n",
    "        elif row['TeamB'] == 'Stanford' and row['SeedA'] >= 3:\n",
    "            row['Pred'] = eps\n",
    "    \n",
    "        # Buff South Carolina\n",
    "        if row['TeamA'] == 'South Carolina' and row['SeedB'] >= 4:\n",
    "            row['Pred'] = 1 - eps\n",
    "        elif row['TeamB'] == 'South Carolina' and row['SeedA'] >= 4:\n",
    "            row['Pred'] = eps\n",
    "            \n",
    "        # Buff Connecticut\n",
    "        if row['TeamA'] == 'Connecticut' and row['SeedB'] >= 4:\n",
    "            row['Pred'] = 1 - eps\n",
    "        elif row['TeamB'] == 'Connecticut' and row['SeedA'] >= 4:\n",
    "            row['Pred'] = eps\n",
    "            \n",
    "        # Buff Baylor\n",
    "        if row['TeamA'] == 'Baylor' and row['SeedB'] >= 3:\n",
    "            row['Pred'] = 1 - eps\n",
    "        elif row['TeamB'] == 'Baylor' and row['SeedA'] >= 3:\n",
    "            row['Pred'] = eps\n",
    "            \n",
    "        # Buff Maryland\n",
    "        if row['TeamA'] == 'Maryland' and row['SeedB'] >= 7:\n",
    "            row['Pred'] = 1 - eps\n",
    "        elif row['TeamB'] == 'Maryland' and row['SeedA'] >= 7:\n",
    "            row['Pred'] = eps\n",
    "        \n",
    "        # Strong teams (risky) win their first round\n",
    "        if row['TeamA'] in strong_teams_risky and row['SeedB'] >= 13:\n",
    "            row['Pred'] = 1 - eps\n",
    "        elif row['TeamB'] in strong_teams_risky and row['SeedA'] >= 13:\n",
    "            row['Pred'] = eps\n",
    "\n",
    "        new_sub.append(row)\n",
    "        \n",
    "    return pd.DataFrame(np.array(new_sub), columns=sub.columns)"
   ]
  },
  {
   "cell_type": "code",
   "execution_count": 58,
   "metadata": {
    "execution": {
     "iopub.execute_input": "2021-04-05T10:04:02.777857Z",
     "iopub.status.busy": "2021-04-05T10:04:02.777178Z",
     "iopub.status.idle": "2021-04-05T10:04:02.782058Z",
     "shell.execute_reply": "2021-04-05T10:04:02.781420Z"
    },
    "papermill": {
     "duration": 0.077415,
     "end_time": "2021-04-05T10:04:02.782208",
     "exception": false,
     "start_time": "2021-04-05T10:04:02.704793",
     "status": "completed"
    },
    "tags": []
   },
   "outputs": [],
   "source": [
    "def overwrite_pred_safe(sub, eps=1e-2):    \n",
    "    new_sub = []\n",
    "    \n",
    "    for i, row in sub.iterrows():\n",
    "        row['Pred'] = np.clip(row['Pred'], 0.1, 0.9) # clip for safety\n",
    "        \n",
    "        # Buff Stanford\n",
    "        if row['TeamA'] == 'Stanford' and row['SeedB'] >= 6:\n",
    "            row['Pred'] = 1 - eps\n",
    "        elif row['TeamB'] == 'Stanford' and row['SeedA'] >= 6:\n",
    "            row['Pred'] = eps\n",
    "    \n",
    "        # Buff South Carolina\n",
    "        if row['TeamA'] == 'South Carolina' and row['SeedB'] >= 6:\n",
    "            row['Pred'] = 1 - eps\n",
    "        elif row['TeamB'] == 'South Carolina' and row['SeedA'] >= 6:\n",
    "            row['Pred'] = eps\n",
    "            \n",
    "        # Buff Connecticut\n",
    "        if row['TeamA'] == 'Connecticut' and row['SeedB'] >= 6:\n",
    "            row['Pred'] = 1 - eps\n",
    "        elif row['TeamB'] == 'Connecticut' and row['SeedA'] >= 6:\n",
    "            row['Pred'] = eps\n",
    "\n",
    "        # Buff Baylor\n",
    "        if row['TeamA'] == 'Baylor' and row['SeedB'] >= 7:\n",
    "            row['Pred'] = 1 - eps\n",
    "        elif row['TeamB'] == 'Baylor' and row['SeedA'] >= 7:\n",
    "            row['Pred'] = eps\n",
    "        \n",
    "        # Strong teams (safe) win their first rounds\n",
    "        if row['TeamA'] in strong_teams_safe and row['SeedB'] >= 13:\n",
    "            row['Pred'] = 1 - eps\n",
    "        elif row['TeamB'] in strong_teams_safe and row['SeedA'] >= 13:\n",
    "            row['Pred'] = eps\n",
    "\n",
    "        new_sub.append(row)\n",
    "        \n",
    "    return pd.DataFrame(np.array(new_sub), columns=sub.columns)"
   ]
  },
  {
   "cell_type": "code",
   "execution_count": 59,
   "metadata": {
    "execution": {
     "iopub.execute_input": "2021-04-05T10:04:02.922289Z",
     "iopub.status.busy": "2021-04-05T10:04:02.917203Z",
     "iopub.status.idle": "2021-04-05T10:04:03.287358Z",
     "shell.execute_reply": "2021-04-05T10:04:03.286798Z"
    },
    "papermill": {
     "duration": 0.445324,
     "end_time": "2021-04-05T10:04:03.287512",
     "exception": false,
     "start_time": "2021-04-05T10:04:02.842188",
     "status": "completed"
    },
    "tags": []
   },
   "outputs": [],
   "source": [
    "# sub_pp = overwrite_pred_safe(sub)\n",
    "sub_pp = overwrite_pred_risky(sub)"
   ]
  },
  {
   "cell_type": "markdown",
   "metadata": {
    "papermill": {
     "duration": 0.059746,
     "end_time": "2021-04-05T10:04:03.407752",
     "exception": false,
     "start_time": "2021-04-05T10:04:03.348006",
     "status": "completed"
    },
    "tags": []
   },
   "source": [
    "## Submission"
   ]
  },
  {
   "cell_type": "code",
   "execution_count": 60,
   "metadata": {
    "execution": {
     "iopub.execute_input": "2021-04-05T10:04:03.534143Z",
     "iopub.status.busy": "2021-04-05T10:04:03.533493Z",
     "iopub.status.idle": "2021-04-05T10:04:03.547054Z",
     "shell.execute_reply": "2021-04-05T10:04:03.546375Z"
    },
    "papermill": {
     "duration": 0.079409,
     "end_time": "2021-04-05T10:04:03.547196",
     "exception": false,
     "start_time": "2021-04-05T10:04:03.467787",
     "status": "completed"
    },
    "tags": []
   },
   "outputs": [],
   "source": [
    "final_sub = sub_pp[['ID', 'Pred']].copy()\n",
    "final_sub.to_csv('submission.csv', index=False)"
   ]
  },
  {
   "cell_type": "code",
   "execution_count": 61,
   "metadata": {
    "execution": {
     "iopub.execute_input": "2021-04-05T10:04:03.677172Z",
     "iopub.status.busy": "2021-04-05T10:04:03.676190Z",
     "iopub.status.idle": "2021-04-05T10:04:03.680211Z",
     "shell.execute_reply": "2021-04-05T10:04:03.680731Z"
    },
    "papermill": {
     "duration": 0.073487,
     "end_time": "2021-04-05T10:04:03.680935",
     "exception": false,
     "start_time": "2021-04-05T10:04:03.607448",
     "status": "completed"
    },
    "tags": []
   },
   "outputs": [
    {
     "data": {
      "text/html": [
       "<div>\n",
       "<style scoped>\n",
       "    .dataframe tbody tr th:only-of-type {\n",
       "        vertical-align: middle;\n",
       "    }\n",
       "\n",
       "    .dataframe tbody tr th {\n",
       "        vertical-align: top;\n",
       "    }\n",
       "\n",
       "    .dataframe thead th {\n",
       "        text-align: right;\n",
       "    }\n",
       "</style>\n",
       "<table border=\"1\" class=\"dataframe\">\n",
       "  <thead>\n",
       "    <tr style=\"text-align: right;\">\n",
       "      <th></th>\n",
       "      <th>ID</th>\n",
       "      <th>Pred</th>\n",
       "    </tr>\n",
       "  </thead>\n",
       "  <tbody>\n",
       "    <tr>\n",
       "      <th>0</th>\n",
       "      <td>2021_3104_3112</td>\n",
       "      <td>0.248928</td>\n",
       "    </tr>\n",
       "    <tr>\n",
       "      <th>1</th>\n",
       "      <td>2021_3104_3116</td>\n",
       "      <td>0.337936</td>\n",
       "    </tr>\n",
       "    <tr>\n",
       "      <th>2</th>\n",
       "      <td>2021_3112_3116</td>\n",
       "      <td>0.606634</td>\n",
       "    </tr>\n",
       "    <tr>\n",
       "      <th>3</th>\n",
       "      <td>2021_3104_3124</td>\n",
       "      <td>0.000010</td>\n",
       "    </tr>\n",
       "    <tr>\n",
       "      <th>4</th>\n",
       "      <td>2021_3112_3124</td>\n",
       "      <td>0.000010</td>\n",
       "    </tr>\n",
       "  </tbody>\n",
       "</table>\n",
       "</div>"
      ],
      "text/plain": [
       "               ID      Pred\n",
       "0  2021_3104_3112  0.248928\n",
       "1  2021_3104_3116  0.337936\n",
       "2  2021_3112_3116  0.606634\n",
       "3  2021_3104_3124  0.000010\n",
       "4  2021_3112_3124  0.000010"
      ]
     },
     "execution_count": 61,
     "metadata": {},
     "output_type": "execute_result"
    }
   ],
   "source": [
    "final_sub.head()"
   ]
  }
 ],
 "metadata": {
  "kernelspec": {
   "display_name": "Python 3",
   "language": "python",
   "name": "python3"
  },
  "language_info": {
   "codemirror_mode": {
    "name": "ipython",
    "version": 3
   },
   "file_extension": ".py",
   "mimetype": "text/x-python",
   "name": "python",
   "nbconvert_exporter": "python",
   "pygments_lexer": "ipython3",
   "version": "3.7.9"
  },
  "papermill": {
   "default_parameters": {},
   "duration": 19.604472,
   "end_time": "2021-04-05T10:04:04.352071",
   "environment_variables": {},
   "exception": null,
   "input_path": "__notebook__.ipynb",
   "output_path": "__notebook__.ipynb",
   "parameters": {},
   "start_time": "2021-04-05T10:03:44.747599",
   "version": "2.2.2"
  }
 },
 "nbformat": 4,
 "nbformat_minor": 4
}
