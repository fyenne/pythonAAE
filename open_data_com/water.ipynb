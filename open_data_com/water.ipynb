{
 "metadata": {
  "language_info": {
   "codemirror_mode": {
    "name": "ipython",
    "version": 3
   },
   "file_extension": ".py",
   "mimetype": "text/x-python",
   "name": "python",
   "nbconvert_exporter": "python",
   "pygments_lexer": "ipython3",
   "version": "3.8.6"
  },
  "orig_nbformat": 2,
  "kernelspec": {
   "name": "python386jvsc74a57bd0ce909994499a62a89f8945d91d57c51a920a5cb8f3e61b9dc99d2a0ea5862498",
   "display_name": "Python 3.8.6 64-bit ('siming': conda)"
  },
  "metadata": {
   "interpreter": {
    "hash": "ce909994499a62a89f8945d91d57c51a920a5cb8f3e61b9dc99d2a0ea5862498"
   }
  }
 },
 "nbformat": 4,
 "nbformat_minor": 2,
 "cells": [
  {
   "cell_type": "code",
   "execution_count": 5,
   "metadata": {},
   "outputs": [],
   "source": [
    "import pandas as pd\n",
    "import numpy as np\n",
    "from sklearn.linear_model import LogisticRegression\n",
    "import matplotlib.pyplot as plt\n",
    "from sklearn.utils import shuffle\n",
    "from sklearn.model_selection import GridSearchCV"
   ]
  },
  {
   "cell_type": "code",
   "execution_count": 1,
   "metadata": {},
   "outputs": [
    {
     "output_type": "stream",
     "name": "stdout",
     "text": [
      "/Users/fyenne/miniforge3/envs/siming/bin/python\n"
     ]
    }
   ],
   "source": [
    "!which python"
   ]
  },
  {
   "source": [
    "---"
   ],
   "cell_type": "markdown",
   "metadata": {}
  },
  {
   "cell_type": "code",
   "execution_count": 128,
   "metadata": {},
   "outputs": [],
   "source": [
    "path = '/Users/fyenne/Downloads/booooks/semester5/pythonAAE/open_data_com/data'\n",
    "train = pd.read_csv(path+'/train.csv')\n",
    "tests = pd.read_csv(path+'/test.csv')\n",
    "sub = pd.read_csv(path+'/sub.csv')"
   ]
  },
  {
   "cell_type": "code",
   "execution_count": 146,
   "metadata": {},
   "outputs": [
    {
     "output_type": "execute_result",
     "data": {
      "text/plain": [
       "              日期        A厂        B厂  year month date       sum\n",
       "1030  2020/10/27  281198.0  241711.0  2020    10   27  522909.0\n",
       "1031  2020/10/28  275598.0  240281.0  2020    10   28  515879.0\n",
       "1032  2020/10/29  268544.0  237466.0  2020    10   29  506010.0\n",
       "1033  2020/10/30  285484.0  237611.0  2020    10   30  523095.0\n",
       "1034  2020/10/31  275130.0  236154.0  2020    10   31  511284.0"
      ],
      "text/html": "<div>\n<style scoped>\n    .dataframe tbody tr th:only-of-type {\n        vertical-align: middle;\n    }\n\n    .dataframe tbody tr th {\n        vertical-align: top;\n    }\n\n    .dataframe thead th {\n        text-align: right;\n    }\n</style>\n<table border=\"1\" class=\"dataframe\">\n  <thead>\n    <tr style=\"text-align: right;\">\n      <th></th>\n      <th>日期</th>\n      <th>A厂</th>\n      <th>B厂</th>\n      <th>year</th>\n      <th>month</th>\n      <th>date</th>\n      <th>sum</th>\n    </tr>\n  </thead>\n  <tbody>\n    <tr>\n      <th>1030</th>\n      <td>2020/10/27</td>\n      <td>281198.0</td>\n      <td>241711.0</td>\n      <td>2020</td>\n      <td>10</td>\n      <td>27</td>\n      <td>522909.0</td>\n    </tr>\n    <tr>\n      <th>1031</th>\n      <td>2020/10/28</td>\n      <td>275598.0</td>\n      <td>240281.0</td>\n      <td>2020</td>\n      <td>10</td>\n      <td>28</td>\n      <td>515879.0</td>\n    </tr>\n    <tr>\n      <th>1032</th>\n      <td>2020/10/29</td>\n      <td>268544.0</td>\n      <td>237466.0</td>\n      <td>2020</td>\n      <td>10</td>\n      <td>29</td>\n      <td>506010.0</td>\n    </tr>\n    <tr>\n      <th>1033</th>\n      <td>2020/10/30</td>\n      <td>285484.0</td>\n      <td>237611.0</td>\n      <td>2020</td>\n      <td>10</td>\n      <td>30</td>\n      <td>523095.0</td>\n    </tr>\n    <tr>\n      <th>1034</th>\n      <td>2020/10/31</td>\n      <td>275130.0</td>\n      <td>236154.0</td>\n      <td>2020</td>\n      <td>10</td>\n      <td>31</td>\n      <td>511284.0</td>\n    </tr>\n  </tbody>\n</table>\n</div>"
     },
     "metadata": {},
     "execution_count": 146
    }
   ],
   "source": [
    "train.head();train.tail()"
   ]
  },
  {
   "cell_type": "code",
   "execution_count": 147,
   "metadata": {},
   "outputs": [
    {
     "output_type": "execute_result",
     "data": {
      "text/plain": [
       "             日期   A厂   B厂  year month date   sum\n",
       "146  2021/03/27  202  941  2021    03   27  1143\n",
       "147  2021/03/28  853  985  2021    03   28  1838\n",
       "148  2021/03/29  623  901  2021    03   29  1524\n",
       "149  2021/03/30  893  692  2021    03   30  1585\n",
       "150  2021/03/31  572  885  2021    03   31  1457"
      ],
      "text/html": "<div>\n<style scoped>\n    .dataframe tbody tr th:only-of-type {\n        vertical-align: middle;\n    }\n\n    .dataframe tbody tr th {\n        vertical-align: top;\n    }\n\n    .dataframe thead th {\n        text-align: right;\n    }\n</style>\n<table border=\"1\" class=\"dataframe\">\n  <thead>\n    <tr style=\"text-align: right;\">\n      <th></th>\n      <th>日期</th>\n      <th>A厂</th>\n      <th>B厂</th>\n      <th>year</th>\n      <th>month</th>\n      <th>date</th>\n      <th>sum</th>\n    </tr>\n  </thead>\n  <tbody>\n    <tr>\n      <th>146</th>\n      <td>2021/03/27</td>\n      <td>202</td>\n      <td>941</td>\n      <td>2021</td>\n      <td>03</td>\n      <td>27</td>\n      <td>1143</td>\n    </tr>\n    <tr>\n      <th>147</th>\n      <td>2021/03/28</td>\n      <td>853</td>\n      <td>985</td>\n      <td>2021</td>\n      <td>03</td>\n      <td>28</td>\n      <td>1838</td>\n    </tr>\n    <tr>\n      <th>148</th>\n      <td>2021/03/29</td>\n      <td>623</td>\n      <td>901</td>\n      <td>2021</td>\n      <td>03</td>\n      <td>29</td>\n      <td>1524</td>\n    </tr>\n    <tr>\n      <th>149</th>\n      <td>2021/03/30</td>\n      <td>893</td>\n      <td>692</td>\n      <td>2021</td>\n      <td>03</td>\n      <td>30</td>\n      <td>1585</td>\n    </tr>\n    <tr>\n      <th>150</th>\n      <td>2021/03/31</td>\n      <td>572</td>\n      <td>885</td>\n      <td>2021</td>\n      <td>03</td>\n      <td>31</td>\n      <td>1457</td>\n    </tr>\n  </tbody>\n</table>\n</div>"
     },
     "metadata": {},
     "execution_count": 147
    }
   ],
   "source": [
    "tests.head();tests.tail()"
   ]
  },
  {
   "cell_type": "code",
   "execution_count": 137,
   "metadata": {},
   "outputs": [],
   "source": [
    "train['year'], train['month'], train['date'] = 0,0,0\n",
    "tests['year'], tests['month'], tests['date'] = 0,0,0\n",
    "train.iloc[:,3:6] = pd.DataFrame([i.split('/') for i in train['日期']])\n",
    "tests.iloc[:,3:6] = pd.DataFrame([i.split('/') for i in tests['日期']])\n"
   ]
  },
  {
   "cell_type": "code",
   "execution_count": 148,
   "metadata": {},
   "outputs": [],
   "source": [
    "train['sum'] = train['A厂'] + train['B厂']\n",
    "tests['sum'] = tests['A厂'] + tests['B厂']\n",
    "train['frac_a'] = train['A厂']/train['sum']\n",
    "tests['frac_a'] = tests['A厂']/tests['sum']\n",
    "train['frac_b'] = train['B厂']/train['sum']\n",
    "tests['frac_b'] = tests['B厂']/tests['sum']"
   ]
  },
  {
   "cell_type": "code",
   "execution_count": 187,
   "metadata": {},
   "outputs": [],
   "source": [
    "train = train.drop('日期', axis = 1)\n",
    "tests = tests.drop('日期', axis = 1)"
   ]
  },
  {
   "cell_type": "code",
   "execution_count": 206,
   "metadata": {},
   "outputs": [
    {
     "output_type": "execute_result",
     "data": {
      "text/plain": [
       "set()"
      ]
     },
     "metadata": {},
     "execution_count": 206
    }
   ],
   "source": [
    "dif_col = set(train.columns.to_list()) - set(pd.DataFrame(train.describe()).columns.to_list())"
   ]
  },
  {
   "cell_type": "code",
   "execution_count": 205,
   "metadata": {},
   "outputs": [],
   "source": [
    "train['year'], train['month'], train['date'] = [train[i].astype(int) for i in list(dif_col)]\n",
    "tests['year'], tests['month'], tests['date'] = [tests[i].astype(int) for i in list(dif_col)]"
   ]
  },
  {
   "source": [
    "---\n",
    "# baseline"
   ],
   "cell_type": "markdown",
   "metadata": {}
  },
  {
   "cell_type": "code",
   "execution_count": 357,
   "metadata": {},
   "outputs": [],
   "source": [
    "bs_train = train.iloc[:,0:5]\n",
    "bs_tests = tests.iloc[:,2:5]"
   ]
  },
  {
   "cell_type": "code",
   "execution_count": 358,
   "metadata": {},
   "outputs": [],
   "source": [
    "bs_tar = bs_train.iloc[:, 0:2]\n",
    "bs_train = bs_train.iloc[:, 2:]"
   ]
  },
  {
   "cell_type": "code",
   "execution_count": 359,
   "metadata": {},
   "outputs": [],
   "source": [
    "from sklearn.linear_model import Ridge, LinearRegression\n",
    "from sklearn import model_selection\n",
    "cv_split = model_selection.ShuffleSplit(n_splits = 5, test_size = .2, train_size = .8, random_state = 1026529)"
   ]
  },
  {
   "cell_type": "code",
   "execution_count": 360,
   "metadata": {},
   "outputs": [
    {
     "output_type": "execute_result",
     "data": {
      "text/plain": [
       "-0.14551133194229993"
      ]
     },
     "metadata": {},
     "execution_count": 360
    }
   ],
   "source": [
    "alg1 = LinearRegression()\n",
    "cv_results_1 = model_selection.cross_validate(alg1, bs_train, bs_tar, cv  = cv_split, scoring='neg_mean_absolute_percentage_error')\n",
    "cv_results_1['test_score'].mean()"
   ]
  },
  {
   "cell_type": "code",
   "execution_count": 361,
   "metadata": {},
   "outputs": [
    {
     "output_type": "execute_result",
     "data": {
      "text/plain": [
       "-0.1455161156470318"
      ]
     },
     "metadata": {},
     "execution_count": 361
    }
   ],
   "source": [
    "alg2 = Ridge()\n",
    "cv_results_2 = model_selection.cross_validate(alg2, bs_train, bs_tar, cv  = cv_split, scoring='neg_mean_absolute_percentage_error')\n",
    "cv_results_2['test_score'].mean()"
   ]
  },
  {
   "cell_type": "code",
   "execution_count": 364,
   "metadata": {},
   "outputs": [],
   "source": [
    "bs_mode=alg2.fit(bs_train, y = bs_tar)"
   ]
  },
  {
   "cell_type": "code",
   "execution_count": 373,
   "metadata": {},
   "outputs": [],
   "source": [
    "sub.iloc[:,1:3] = pd.DataFrame(bs_mode.predict(bs_tests))/100"
   ]
  },
  {
   "cell_type": "code",
   "execution_count": 374,
   "metadata": {},
   "outputs": [],
   "source": [
    "sub.to_csv('./data/baseline_sub.csv', index=False)"
   ]
  },
  {
   "source": [
    "---\n",
    "\n",
    "## test 2 , the pseudo data"
   ],
   "cell_type": "markdown",
   "metadata": {}
  },
  {
   "cell_type": "code",
   "execution_count": 27,
   "metadata": {},
   "outputs": [],
   "source": [
    "import pandas as pd\n",
    "import numpy as np\n",
    "path = '/Users/fyenne/Downloads/booooks/semester5/pythonAAE/open_data_com/data'\n",
    "train = pd.read_csv(path+'/train.csv')\n",
    "tests = pd.read_csv(path+'/test.csv')\n",
    "bssub = pd.read_csv(path+'/baseline_sub.csv')"
   ]
  },
  {
   "cell_type": "code",
   "execution_count": 3,
   "metadata": {},
   "outputs": [],
   "source": [
    "tests.iloc[:, 1:] = bssub.iloc[:, 1:]\n",
    "train['year'], train['month'], train['date'] = 0,0,0\n",
    "tests['year'], tests['month'], tests['date'] = 0,0,0\n",
    "train.iloc[:,3:6] = pd.DataFrame([i.split('/') for i in train['日期']])\n",
    "tests.iloc[:,3:6] = pd.DataFrame([i.split('/') for i in tests['日期']])\n",
    "train['sum'] = train['A厂'] + train['B厂']\n",
    "tests['sum'] = tests['A厂'] + tests['B厂']\n",
    "train['frac_a'] = train['A厂']/train['sum']\n",
    "tests['frac_a'] = tests['A厂']/tests['sum']\n",
    "train['frac_b'] = train['B厂']/train['sum']\n",
    "tests['frac_b'] = tests['B厂']/tests['sum']\n",
    "train = train.drop('日期', axis = 1)\n",
    "tests = tests.drop('日期', axis = 1)\n",
    "dif_col = set(train.columns.to_list()) - set(pd.DataFrame(train.describe()).columns.to_list())\n",
    "train['year'], train['month'], train['date'] = [train[i].astype(int) for i in list(dif_col)]\n",
    "tests['year'], tests['month'], tests['date'] = [tests[i].astype(int) for i in list(dif_col)]"
   ]
  },
  {
   "cell_type": "code",
   "execution_count": 5,
   "metadata": {},
   "outputs": [
    {
     "output_type": "execute_result",
     "data": {
      "text/plain": [
       "            A厂        B厂  year  month  date       sum    frac_a    frac_b\n",
       "0     200692.0  189490.0     1      1  2018  390182.0  0.514355  0.485645\n",
       "1     218365.0  211147.0     1      2  2018  429512.0  0.508403  0.491597\n",
       "2     224501.0  217767.0     1      3  2018  442268.0  0.507613  0.492387\n",
       "3     216431.0  212636.0     1      4  2018  429067.0  0.504422  0.495578\n",
       "4     200447.0  209427.0     1      5  2018  409874.0  0.489045  0.510955\n",
       "...        ...       ...   ...    ...   ...       ...       ...       ...\n",
       "1030  281198.0  241711.0    10     27  2020  522909.0  0.537757  0.462243\n",
       "1031  275598.0  240281.0    10     28  2020  515879.0  0.534230  0.465770\n",
       "1032  268544.0  237466.0    10     29  2020  506010.0  0.530709  0.469291\n",
       "1033  285484.0  237611.0    10     30  2020  523095.0  0.545759  0.454241\n",
       "1034  275130.0  236154.0    10     31  2020  511284.0  0.538116  0.461884\n",
       "\n",
       "[1035 rows x 8 columns]"
      ],
      "text/html": "<div>\n<style scoped>\n    .dataframe tbody tr th:only-of-type {\n        vertical-align: middle;\n    }\n\n    .dataframe tbody tr th {\n        vertical-align: top;\n    }\n\n    .dataframe thead th {\n        text-align: right;\n    }\n</style>\n<table border=\"1\" class=\"dataframe\">\n  <thead>\n    <tr style=\"text-align: right;\">\n      <th></th>\n      <th>A厂</th>\n      <th>B厂</th>\n      <th>year</th>\n      <th>month</th>\n      <th>date</th>\n      <th>sum</th>\n      <th>frac_a</th>\n      <th>frac_b</th>\n    </tr>\n  </thead>\n  <tbody>\n    <tr>\n      <th>0</th>\n      <td>200692.0</td>\n      <td>189490.0</td>\n      <td>1</td>\n      <td>1</td>\n      <td>2018</td>\n      <td>390182.0</td>\n      <td>0.514355</td>\n      <td>0.485645</td>\n    </tr>\n    <tr>\n      <th>1</th>\n      <td>218365.0</td>\n      <td>211147.0</td>\n      <td>1</td>\n      <td>2</td>\n      <td>2018</td>\n      <td>429512.0</td>\n      <td>0.508403</td>\n      <td>0.491597</td>\n    </tr>\n    <tr>\n      <th>2</th>\n      <td>224501.0</td>\n      <td>217767.0</td>\n      <td>1</td>\n      <td>3</td>\n      <td>2018</td>\n      <td>442268.0</td>\n      <td>0.507613</td>\n      <td>0.492387</td>\n    </tr>\n    <tr>\n      <th>3</th>\n      <td>216431.0</td>\n      <td>212636.0</td>\n      <td>1</td>\n      <td>4</td>\n      <td>2018</td>\n      <td>429067.0</td>\n      <td>0.504422</td>\n      <td>0.495578</td>\n    </tr>\n    <tr>\n      <th>4</th>\n      <td>200447.0</td>\n      <td>209427.0</td>\n      <td>1</td>\n      <td>5</td>\n      <td>2018</td>\n      <td>409874.0</td>\n      <td>0.489045</td>\n      <td>0.510955</td>\n    </tr>\n    <tr>\n      <th>...</th>\n      <td>...</td>\n      <td>...</td>\n      <td>...</td>\n      <td>...</td>\n      <td>...</td>\n      <td>...</td>\n      <td>...</td>\n      <td>...</td>\n    </tr>\n    <tr>\n      <th>1030</th>\n      <td>281198.0</td>\n      <td>241711.0</td>\n      <td>10</td>\n      <td>27</td>\n      <td>2020</td>\n      <td>522909.0</td>\n      <td>0.537757</td>\n      <td>0.462243</td>\n    </tr>\n    <tr>\n      <th>1031</th>\n      <td>275598.0</td>\n      <td>240281.0</td>\n      <td>10</td>\n      <td>28</td>\n      <td>2020</td>\n      <td>515879.0</td>\n      <td>0.534230</td>\n      <td>0.465770</td>\n    </tr>\n    <tr>\n      <th>1032</th>\n      <td>268544.0</td>\n      <td>237466.0</td>\n      <td>10</td>\n      <td>29</td>\n      <td>2020</td>\n      <td>506010.0</td>\n      <td>0.530709</td>\n      <td>0.469291</td>\n    </tr>\n    <tr>\n      <th>1033</th>\n      <td>285484.0</td>\n      <td>237611.0</td>\n      <td>10</td>\n      <td>30</td>\n      <td>2020</td>\n      <td>523095.0</td>\n      <td>0.545759</td>\n      <td>0.454241</td>\n    </tr>\n    <tr>\n      <th>1034</th>\n      <td>275130.0</td>\n      <td>236154.0</td>\n      <td>10</td>\n      <td>31</td>\n      <td>2020</td>\n      <td>511284.0</td>\n      <td>0.538116</td>\n      <td>0.461884</td>\n    </tr>\n  </tbody>\n</table>\n<p>1035 rows × 8 columns</p>\n</div>"
     },
     "metadata": {},
     "execution_count": 5
    }
   ],
   "source": [
    "# train.to_csv(\"./data/train_modified_yan.csv\", index = False)\n",
    "# tests.to_csv(\"./data/tests_modified_yan.csv\", index = False)\n"
   ]
  },
  {
   "cell_type": "code",
   "execution_count": 5,
   "metadata": {},
   "outputs": [],
   "source": [
    "# from sklearn.preprocessing import StandardScaler\n",
    "# ss = StandardScaler()\n",
    "# R_train = pd.read_csv(\"./data/R_train_modified_yan.csv\")\n",
    "# R_tests = pd.read_csv(\"./data/R_tests_modified_yan.csv\")"
   ]
  },
  {
   "cell_type": "code",
   "execution_count": 18,
   "metadata": {},
   "outputs": [],
   "source": [
    "wee = list(list(np.repeat(1, 5))+list(np.repeat(0,2)))\n",
    "wee = wee*148\n",
    "train['wee'] = wee[0:1035]\n",
    "train3 = pd.concat([train, train], axis = 0)\n",
    "train3.iloc[1035:,0] = train3.iloc[:1035,1] # move B chang\n",
    "train3.iloc[:1035,1] = 0\n",
    "train3.iloc[1035:,1] = 1"
   ]
  },
  {
   "cell_type": "code",
   "execution_count": 39,
   "metadata": {},
   "outputs": [],
   "source": [
    "# tests # sunday start\n",
    "wee = list([0,1,1,1,1,1,0])\n",
    "wee = wee*22\n",
    "tests['wee'] = wee[0:151]\n",
    "\n",
    "tests3 = pd.concat([tests, tests], axis = 0)\n",
    "tests3.iloc[151:,0] = tests3.iloc[:151,1] # move B chang\n",
    "tests3.iloc[:151,1] = 0\n",
    "tests3.iloc[151:,1] = 1"
   ]
  },
  {
   "cell_type": "code",
   "execution_count": 41,
   "metadata": {},
   "outputs": [],
   "source": [
    "train3 = train3.drop(['sum', 'frac_a', 'frac_b'], axis = 1)\n",
    "tests3 = tests3.drop(['sum', 'frac_a', 'frac_b'], axis = 1)"
   ]
  },
  {
   "cell_type": "code",
   "execution_count": 46,
   "metadata": {},
   "outputs": [],
   "source": [
    "train3.to_csv('./data/raw_train.csv', index = False)\n",
    "tests3.to_csv('./data/raw_tests.csv', index=False)"
   ]
  },
  {
   "cell_type": "code",
   "execution_count": 48,
   "metadata": {},
   "outputs": [],
   "source": [
    "import optuna"
   ]
  },
  {
   "source": [
    "---\n",
    "\n",
    "# tensorflow"
   ],
   "cell_type": "markdown",
   "metadata": {}
  },
  {
   "cell_type": "code",
   "execution_count": 3,
   "metadata": {},
   "outputs": [],
   "source": [
    "target_train = train.iloc[:,0:2]\n",
    "target_test  = tests.iloc[:,0:2]\n",
    "tensor_train = train.iloc[:,2:]\n",
    "tensor_test  = tests.iloc[:,2:]"
   ]
  },
  {
   "cell_type": "code",
   "execution_count": 4,
   "metadata": {},
   "outputs": [],
   "source": [
    "from sklearn.model_selection import train_test_split\n",
    "x_train, x_valid, y_train, y_valid = train_test_split(tensor_train, target_train, test_size=0.25, random_state=1026529)"
   ]
  },
  {
   "cell_type": "code",
   "execution_count": 5,
   "metadata": {},
   "outputs": [],
   "source": [
    "# x_train\n",
    "input_shape =  [7]\n",
    "import tensorflow as tf\n",
    "from tensorflow import keras\n",
    "from tensorflow.keras import layers\n",
    "from tensorflow.keras.callbacks import EarlyStopping\n",
    "import kerastuner as kt\n",
    "early_stopping = EarlyStopping(\n",
    "    min_delta=0.001, # minimium amount of change to count as an improvement\n",
    "    patience=10, # how many epochs to wait before stopping\n",
    "    restore_best_weights=True,\n",
    ")"
   ]
  },
  {
   "cell_type": "code",
   "execution_count": 6,
   "metadata": {},
   "outputs": [],
   "source": [
    "# def model_builder():\n",
    "#     model = keras.Sequential()\n",
    "#     layers.Dense(1186, activation='relu', input_shape=input_shape),\n",
    "\n",
    "#     # hp_units  = hp.Int('units', min_value=593, max_value=1186, step=32)\n",
    "#     # model.add(keras.layers.Dense(units=hp_units, activation='relu'))\n",
    "#     # model.add(keras.layers.BatchNormalization()),\n",
    "#     model.add(keras.layers.Dense(units=593, activation='relu'))\n",
    "#     model.add(keras.layers.BatchNormalization()),\n",
    "\n",
    "#     model.add(keras.layers.Dense(units=593, activation='relu'))\n",
    "#     model.add(keras.layers.BatchNormalization()),\n",
    "#     model.add(keras.layers.Dense(2))\n",
    "\n",
    "#     # hp_learning_rate = hp.Choice('learning_rate', values=[1e-1, 1e-2, 1e-3])\n",
    "#     model.compile(optimizer=keras.optimizers.SGD(learning_rate=1e-1),\n",
    "#                 loss=keras.losses.MeanAbsolutePercentageError())\n",
    "# # tf.keras.losses.MeanAbsoluteError\n",
    "#     return model"
   ]
  },
  {
   "cell_type": "code",
   "execution_count": 7,
   "metadata": {},
   "outputs": [],
   "source": [
    "model = tf.keras.Sequential([\n",
    "      layers.Dense(1186, activation='relu', input_shape=input_shape),\n",
    "      keras.layers.Dense(units=593, activation='relu'),\n",
    "      keras.layers.BatchNormalization(),\n",
    "      keras.layers.Dense(units=593, activation='relu'),\n",
    "      keras.layers.BatchNormalization(),\n",
    "      keras.layers.Dense(1)\n",
    "  ])\n",
    "# model.add()\n",
    "model.compile(optimizer=keras.optimizers.SGD(learning_rate=1e-1),\n",
    "                loss=keras.losses.MeanAbsolutePercentageError())"
   ]
  },
  {
   "cell_type": "code",
   "execution_count": 8,
   "metadata": {},
   "outputs": [],
   "source": [
    "model.fit(tensor_train, epochs=120)"
   ]
  },
  {
   "cell_type": "code",
   "execution_count": 42,
   "metadata": {},
   "outputs": [],
   "source": [
    "# model.predict(tensor_test)"
   ]
  },
  {
   "source": [
    "# H2o"
   ],
   "cell_type": "markdown",
   "metadata": {}
  },
  {
   "cell_type": "code",
   "execution_count": 31,
   "metadata": {},
   "outputs": [
    {
     "output_type": "execute_result",
     "data": {
      "text/plain": [
       "         A厂        B厂  year  month  date       sum    frac_a    frac_b  \\\n",
       "0  200692.0  189490.0     1   2018     1  390182.0  0.514355  0.485645   \n",
       "1  218365.0  211147.0     1   2018     2  429512.0  0.508403  0.491597   \n",
       "2  224501.0  217767.0     1   2018     3  442268.0  0.507613  0.492387   \n",
       "3  216431.0  212636.0     1   2018     4  429067.0  0.504422  0.495578   \n",
       "4  200447.0  209427.0     1   2018     5  409874.0  0.489045  0.510955   \n",
       "\n",
       "              A厂             B厂  year  month  date            sum    frac_a  \\\n",
       "0  291977.094734  203717.476400    11   2020     1  495694.571134  0.589026   \n",
       "1  291979.053666  203718.602221    11   2020     2  495697.655887  0.589026   \n",
       "2  291981.012598  203719.728042    11   2020     3  495700.740640  0.589027   \n",
       "3  291982.971531  203720.853862    11   2020     4  495703.825393  0.589027   \n",
       "4  291984.930463  203721.979683    11   2020     5  495706.910146  0.589027   \n",
       "\n",
       "     frac_b  \n",
       "0  0.410974  \n",
       "1  0.410974  \n",
       "2  0.410973  \n",
       "3  0.410973  \n",
       "4  0.410973  "
      ],
      "text/html": "<div>\n<style scoped>\n    .dataframe tbody tr th:only-of-type {\n        vertical-align: middle;\n    }\n\n    .dataframe tbody tr th {\n        vertical-align: top;\n    }\n\n    .dataframe thead th {\n        text-align: right;\n    }\n</style>\n<table border=\"1\" class=\"dataframe\">\n  <thead>\n    <tr style=\"text-align: right;\">\n      <th></th>\n      <th>A厂</th>\n      <th>B厂</th>\n      <th>year</th>\n      <th>month</th>\n      <th>date</th>\n      <th>sum</th>\n      <th>frac_a</th>\n      <th>frac_b</th>\n      <th>A厂</th>\n      <th>B厂</th>\n      <th>year</th>\n      <th>month</th>\n      <th>date</th>\n      <th>sum</th>\n      <th>frac_a</th>\n      <th>frac_b</th>\n    </tr>\n  </thead>\n  <tbody>\n    <tr>\n      <th>0</th>\n      <td>200692.0</td>\n      <td>189490.0</td>\n      <td>1</td>\n      <td>2018</td>\n      <td>1</td>\n      <td>390182.0</td>\n      <td>0.514355</td>\n      <td>0.485645</td>\n      <td>291977.094734</td>\n      <td>203717.476400</td>\n      <td>11</td>\n      <td>2020</td>\n      <td>1</td>\n      <td>495694.571134</td>\n      <td>0.589026</td>\n      <td>0.410974</td>\n    </tr>\n    <tr>\n      <th>1</th>\n      <td>218365.0</td>\n      <td>211147.0</td>\n      <td>1</td>\n      <td>2018</td>\n      <td>2</td>\n      <td>429512.0</td>\n      <td>0.508403</td>\n      <td>0.491597</td>\n      <td>291979.053666</td>\n      <td>203718.602221</td>\n      <td>11</td>\n      <td>2020</td>\n      <td>2</td>\n      <td>495697.655887</td>\n      <td>0.589026</td>\n      <td>0.410974</td>\n    </tr>\n    <tr>\n      <th>2</th>\n      <td>224501.0</td>\n      <td>217767.0</td>\n      <td>1</td>\n      <td>2018</td>\n      <td>3</td>\n      <td>442268.0</td>\n      <td>0.507613</td>\n      <td>0.492387</td>\n      <td>291981.012598</td>\n      <td>203719.728042</td>\n      <td>11</td>\n      <td>2020</td>\n      <td>3</td>\n      <td>495700.740640</td>\n      <td>0.589027</td>\n      <td>0.410973</td>\n    </tr>\n    <tr>\n      <th>3</th>\n      <td>216431.0</td>\n      <td>212636.0</td>\n      <td>1</td>\n      <td>2018</td>\n      <td>4</td>\n      <td>429067.0</td>\n      <td>0.504422</td>\n      <td>0.495578</td>\n      <td>291982.971531</td>\n      <td>203720.853862</td>\n      <td>11</td>\n      <td>2020</td>\n      <td>4</td>\n      <td>495703.825393</td>\n      <td>0.589027</td>\n      <td>0.410973</td>\n    </tr>\n    <tr>\n      <th>4</th>\n      <td>200447.0</td>\n      <td>209427.0</td>\n      <td>1</td>\n      <td>2018</td>\n      <td>5</td>\n      <td>409874.0</td>\n      <td>0.489045</td>\n      <td>0.510955</td>\n      <td>291984.930463</td>\n      <td>203721.979683</td>\n      <td>11</td>\n      <td>2020</td>\n      <td>5</td>\n      <td>495706.910146</td>\n      <td>0.589027</td>\n      <td>0.410973</td>\n    </tr>\n  </tbody>\n</table>\n</div>"
     },
     "metadata": {},
     "execution_count": 31
    }
   ],
   "source": [
    "pd.concat([train.head(), tests.head()], axis = 1)"
   ]
  },
  {
   "cell_type": "code",
   "execution_count": 12,
   "metadata": {},
   "outputs": [
    {
     "output_type": "execute_result",
     "data": {
      "text/plain": [
       "            A厂  year  month  date       sum    frac_a    frac_b\n",
       "0     200692.0     1   2018     1  390182.0  0.514355  0.485645\n",
       "1     218365.0     1   2018     2  429512.0  0.508403  0.491597\n",
       "2     224501.0     1   2018     3  442268.0  0.507613  0.492387\n",
       "3     216431.0     1   2018     4  429067.0  0.504422  0.495578\n",
       "4     200447.0     1   2018     5  409874.0  0.489045  0.510955\n",
       "...        ...   ...    ...   ...       ...       ...       ...\n",
       "1030  281198.0    10   2020    27  522909.0  0.537757  0.462243\n",
       "1031  275598.0    10   2020    28  515879.0  0.534230  0.465770\n",
       "1032  268544.0    10   2020    29  506010.0  0.530709  0.469291\n",
       "1033  285484.0    10   2020    30  523095.0  0.545759  0.454241\n",
       "1034  275130.0    10   2020    31  511284.0  0.538116  0.461884\n",
       "\n",
       "[1035 rows x 7 columns]"
      ],
      "text/html": "<div>\n<style scoped>\n    .dataframe tbody tr th:only-of-type {\n        vertical-align: middle;\n    }\n\n    .dataframe tbody tr th {\n        vertical-align: top;\n    }\n\n    .dataframe thead th {\n        text-align: right;\n    }\n</style>\n<table border=\"1\" class=\"dataframe\">\n  <thead>\n    <tr style=\"text-align: right;\">\n      <th></th>\n      <th>A厂</th>\n      <th>year</th>\n      <th>month</th>\n      <th>date</th>\n      <th>sum</th>\n      <th>frac_a</th>\n      <th>frac_b</th>\n    </tr>\n  </thead>\n  <tbody>\n    <tr>\n      <th>0</th>\n      <td>200692.0</td>\n      <td>1</td>\n      <td>2018</td>\n      <td>1</td>\n      <td>390182.0</td>\n      <td>0.514355</td>\n      <td>0.485645</td>\n    </tr>\n    <tr>\n      <th>1</th>\n      <td>218365.0</td>\n      <td>1</td>\n      <td>2018</td>\n      <td>2</td>\n      <td>429512.0</td>\n      <td>0.508403</td>\n      <td>0.491597</td>\n    </tr>\n    <tr>\n      <th>2</th>\n      <td>224501.0</td>\n      <td>1</td>\n      <td>2018</td>\n      <td>3</td>\n      <td>442268.0</td>\n      <td>0.507613</td>\n      <td>0.492387</td>\n    </tr>\n    <tr>\n      <th>3</th>\n      <td>216431.0</td>\n      <td>1</td>\n      <td>2018</td>\n      <td>4</td>\n      <td>429067.0</td>\n      <td>0.504422</td>\n      <td>0.495578</td>\n    </tr>\n    <tr>\n      <th>4</th>\n      <td>200447.0</td>\n      <td>1</td>\n      <td>2018</td>\n      <td>5</td>\n      <td>409874.0</td>\n      <td>0.489045</td>\n      <td>0.510955</td>\n    </tr>\n    <tr>\n      <th>...</th>\n      <td>...</td>\n      <td>...</td>\n      <td>...</td>\n      <td>...</td>\n      <td>...</td>\n      <td>...</td>\n      <td>...</td>\n    </tr>\n    <tr>\n      <th>1030</th>\n      <td>281198.0</td>\n      <td>10</td>\n      <td>2020</td>\n      <td>27</td>\n      <td>522909.0</td>\n      <td>0.537757</td>\n      <td>0.462243</td>\n    </tr>\n    <tr>\n      <th>1031</th>\n      <td>275598.0</td>\n      <td>10</td>\n      <td>2020</td>\n      <td>28</td>\n      <td>515879.0</td>\n      <td>0.534230</td>\n      <td>0.465770</td>\n    </tr>\n    <tr>\n      <th>1032</th>\n      <td>268544.0</td>\n      <td>10</td>\n      <td>2020</td>\n      <td>29</td>\n      <td>506010.0</td>\n      <td>0.530709</td>\n      <td>0.469291</td>\n    </tr>\n    <tr>\n      <th>1033</th>\n      <td>285484.0</td>\n      <td>10</td>\n      <td>2020</td>\n      <td>30</td>\n      <td>523095.0</td>\n      <td>0.545759</td>\n      <td>0.454241</td>\n    </tr>\n    <tr>\n      <th>1034</th>\n      <td>275130.0</td>\n      <td>10</td>\n      <td>2020</td>\n      <td>31</td>\n      <td>511284.0</td>\n      <td>0.538116</td>\n      <td>0.461884</td>\n    </tr>\n  </tbody>\n</table>\n<p>1035 rows × 7 columns</p>\n</div>"
     },
     "metadata": {},
     "execution_count": 12
    }
   ],
   "source": [
    "train.drop('B厂', axis=1)"
   ]
  },
  {
   "cell_type": "code",
   "execution_count": 5,
   "metadata": {},
   "outputs": [],
   "source": [
    "train3 = pd.concat([train.drop('B厂', axis=1), train.drop('A厂', axis=1)], axis = 0, ignore_index=True)"
   ]
  },
  {
   "cell_type": "code",
   "execution_count": 6,
   "metadata": {},
   "outputs": [],
   "source": [
    "train3.iloc[:1035,7] = False\n",
    "train3.iloc[1035:,0] = train3.iloc[1035:,7]\n",
    "train3.iloc[1035:,7] = True"
   ]
  },
  {
   "cell_type": "code",
   "execution_count": 8,
   "metadata": {},
   "outputs": [
    {
     "output_type": "execute_result",
     "data": {
      "text/plain": [
       "            A厂  year  month  date       sum    frac_a    frac_b     B厂\n",
       "0     200692.0  2018      1     1  390182.0  0.514355  0.485645  False\n",
       "1     218365.0  2018      1     2  429512.0  0.508403  0.491597  False\n",
       "2     224501.0  2018      1     3  442268.0  0.507613  0.492387  False\n",
       "3     216431.0  2018      1     4  429067.0  0.504422  0.495578  False\n",
       "4     200447.0  2018      1     5  409874.0  0.489045  0.510955  False\n",
       "...        ...   ...    ...   ...       ...       ...       ...    ...\n",
       "2065  241711.0  2020     10    27  522909.0  0.537757  0.462243   True\n",
       "2066  240281.0  2020     10    28  515879.0  0.534230  0.465770   True\n",
       "2067  237466.0  2020     10    29  506010.0  0.530709  0.469291   True\n",
       "2068  237611.0  2020     10    30  523095.0  0.545759  0.454241   True\n",
       "2069  236154.0  2020     10    31  511284.0  0.538116  0.461884   True\n",
       "\n",
       "[2070 rows x 8 columns]"
      ],
      "text/html": "<div>\n<style scoped>\n    .dataframe tbody tr th:only-of-type {\n        vertical-align: middle;\n    }\n\n    .dataframe tbody tr th {\n        vertical-align: top;\n    }\n\n    .dataframe thead th {\n        text-align: right;\n    }\n</style>\n<table border=\"1\" class=\"dataframe\">\n  <thead>\n    <tr style=\"text-align: right;\">\n      <th></th>\n      <th>A厂</th>\n      <th>year</th>\n      <th>month</th>\n      <th>date</th>\n      <th>sum</th>\n      <th>frac_a</th>\n      <th>frac_b</th>\n      <th>B厂</th>\n    </tr>\n  </thead>\n  <tbody>\n    <tr>\n      <th>0</th>\n      <td>200692.0</td>\n      <td>2018</td>\n      <td>1</td>\n      <td>1</td>\n      <td>390182.0</td>\n      <td>0.514355</td>\n      <td>0.485645</td>\n      <td>False</td>\n    </tr>\n    <tr>\n      <th>1</th>\n      <td>218365.0</td>\n      <td>2018</td>\n      <td>1</td>\n      <td>2</td>\n      <td>429512.0</td>\n      <td>0.508403</td>\n      <td>0.491597</td>\n      <td>False</td>\n    </tr>\n    <tr>\n      <th>2</th>\n      <td>224501.0</td>\n      <td>2018</td>\n      <td>1</td>\n      <td>3</td>\n      <td>442268.0</td>\n      <td>0.507613</td>\n      <td>0.492387</td>\n      <td>False</td>\n    </tr>\n    <tr>\n      <th>3</th>\n      <td>216431.0</td>\n      <td>2018</td>\n      <td>1</td>\n      <td>4</td>\n      <td>429067.0</td>\n      <td>0.504422</td>\n      <td>0.495578</td>\n      <td>False</td>\n    </tr>\n    <tr>\n      <th>4</th>\n      <td>200447.0</td>\n      <td>2018</td>\n      <td>1</td>\n      <td>5</td>\n      <td>409874.0</td>\n      <td>0.489045</td>\n      <td>0.510955</td>\n      <td>False</td>\n    </tr>\n    <tr>\n      <th>...</th>\n      <td>...</td>\n      <td>...</td>\n      <td>...</td>\n      <td>...</td>\n      <td>...</td>\n      <td>...</td>\n      <td>...</td>\n      <td>...</td>\n    </tr>\n    <tr>\n      <th>2065</th>\n      <td>241711.0</td>\n      <td>2020</td>\n      <td>10</td>\n      <td>27</td>\n      <td>522909.0</td>\n      <td>0.537757</td>\n      <td>0.462243</td>\n      <td>True</td>\n    </tr>\n    <tr>\n      <th>2066</th>\n      <td>240281.0</td>\n      <td>2020</td>\n      <td>10</td>\n      <td>28</td>\n      <td>515879.0</td>\n      <td>0.534230</td>\n      <td>0.465770</td>\n      <td>True</td>\n    </tr>\n    <tr>\n      <th>2067</th>\n      <td>237466.0</td>\n      <td>2020</td>\n      <td>10</td>\n      <td>29</td>\n      <td>506010.0</td>\n      <td>0.530709</td>\n      <td>0.469291</td>\n      <td>True</td>\n    </tr>\n    <tr>\n      <th>2068</th>\n      <td>237611.0</td>\n      <td>2020</td>\n      <td>10</td>\n      <td>30</td>\n      <td>523095.0</td>\n      <td>0.545759</td>\n      <td>0.454241</td>\n      <td>True</td>\n    </tr>\n    <tr>\n      <th>2069</th>\n      <td>236154.0</td>\n      <td>2020</td>\n      <td>10</td>\n      <td>31</td>\n      <td>511284.0</td>\n      <td>0.538116</td>\n      <td>0.461884</td>\n      <td>True</td>\n    </tr>\n  </tbody>\n</table>\n<p>2070 rows × 8 columns</p>\n</div>"
     },
     "metadata": {},
     "execution_count": 8
    }
   ],
   "source": [
    "train3"
   ]
  },
  {
   "cell_type": "code",
   "execution_count": 7,
   "metadata": {},
   "outputs": [],
   "source": [
    "train3.to_csv('./data/full_train.csv', index = False)"
   ]
  },
  {
   "cell_type": "code",
   "execution_count": 1,
   "metadata": {},
   "outputs": [],
   "source": [
    "!MYENV='siming' "
   ]
  },
  {
   "cell_type": "code",
   "execution_count": 2,
   "metadata": {},
   "outputs": [],
   "source": [
    "# !git clone https://github.com/jenv/jenv.git ~/.jenv \n",
    "!source ~/.bash_profile"
   ]
  },
  {
   "cell_type": "code",
   "execution_count": 3,
   "metadata": {},
   "outputs": [
    {
     "output_type": "stream",
     "name": "stdout",
     "text": [
      "zsh:source:1: no such file or directory: activate\n"
     ]
    }
   ],
   "source": [
    "!source activate siming"
   ]
  },
  {
   "cell_type": "code",
   "execution_count": 4,
   "metadata": {},
   "outputs": [
    {
     "output_type": "stream",
     "name": "stdout",
     "text": [
      "/usr/local/bin/python\n"
     ]
    }
   ],
   "source": [
    "# %env\n",
    "!which python"
   ]
  },
  {
   "cell_type": "code",
   "execution_count": 18,
   "metadata": {},
   "outputs": [
    {
     "output_type": "stream",
     "name": "stdout",
     "text": [
      "Available kernels:\n  pycharm-cc37a424                                                                         /Users/fyenne/Library/Jupyter/kernels/pycharm-cc37a424\n  python374jvsc74a57bd0e774977668b7c0ae8309835a5187aa7fbf7669e7d0bb59755bc63e573643edcd    /Users/fyenne/Library/Jupyter/kernels/python374jvsc74a57bd0e774977668b7c0ae8309835a5187aa7fbf7669e7d0bb59755bc63e573643edcd\n  python386jvsc74a57bd0ce909994499a62a89f8945d91d57c51a920a5cb8f3e61b9dc99d2a0ea5862498    /Users/fyenne/Library/Jupyter/kernels/python386jvsc74a57bd0ce909994499a62a89f8945d91d57c51a920a5cb8f3e61b9dc99d2a0ea5862498\n  python386jvsc74a57bd0ff684bfe6bac5aee95fe25613146015247c6b1b77f36ee2373fa7468888d9e66    /Users/fyenne/Library/Jupyter/kernels/python386jvsc74a57bd0ff684bfe6bac5aee95fe25613146015247c6b1b77f36ee2373fa7468888d9e66\n  python392jvsc74a57bd057c1e8c2cf22d1afad147312b0d4064398b1b8f3e9dbd8f3a3abf6cddbe75da1    /Users/fyenne/Library/Jupyter/kernels/python392jvsc74a57bd057c1e8c2cf22d1afad147312b0d4064398b1b8f3e9dbd8f3a3abf6cddbe75da1\n  siming                                                                                   /Users/fyenne/Library/Jupyter/kernels/siming\n  python3                                                                                  /Users/fyenne/miniforge3/share/jupyter/kernels/python3\n"
     ]
    }
   ],
   "source": [
    "!jupyter kernelspec list"
   ]
  },
  {
   "cell_type": "code",
   "execution_count": 5,
   "metadata": {},
   "outputs": [
    {
     "output_type": "stream",
     "name": "stdout",
     "text": [
      "env: PATH=/Users/fyenne/miniforge3/bin:/usr/local/bin:/usr/bin:/bin:/usr/sbin:/sbin\n"
     ]
    }
   ],
   "source": [
    "%env PATH=/Users/fyenne/miniforge3/bin:/usr/local/bin:/usr/bin:/bin:/usr/sbin:/sbin"
   ]
  },
  {
   "cell_type": "code",
   "execution_count": 2,
   "metadata": {},
   "outputs": [
    {
     "output_type": "stream",
     "name": "stdout",
     "text": [
      "java version \"14.0.2\" 2020-07-14\nJava(TM) SE Runtime Environment (build 14.0.2+12-46)\nJava HotSpot(TM) 64-Bit Server VM (build 14.0.2+12-46, mixed mode, sharing)\n"
     ]
    }
   ],
   "source": [
    "!java -version"
   ]
  },
  {
   "cell_type": "code",
   "execution_count": 20,
   "metadata": {},
   "outputs": [
    {
     "output_type": "stream",
     "name": "stdout",
     "text": [
      "Matching Java Virtual Machines (7):\n    16 (arm64) \"UNDEFINED\" - \"OpenJDK 16\" /opt/homebrew/Cellar/openjdk/15.0.2/libexec/openjdk.jdk/Contents/Home\n    14.0.2 (x86_64) \"Oracle Corporation\" - \"Java SE 14.0.2\" /Library/Java/JavaVirtualMachines/jdk-14.0.2.jdk/Contents/Home\n    11.0.2 (x86_64) \"Oracle Corporation\" - \"Java SE 11.0.2\" /Library/Java/JavaVirtualMachines/jdk-11.0.2.jdk/Contents/Home\n    1.8.291.10 (x86_64) \"Oracle Corporation\" - \"Java\" /Library/Internet Plug-Ins/JavaAppletPlugin.plugin/Contents/Home\n    1.8.0_291 (x86_64) \"Oracle Corporation\" - \"Java SE 8\" /Library/Java/JavaVirtualMachines/jdk1.8.0_291.jdk/Contents/Home\n    1.8.0_251 (x86_64) \"Oracle Corporation\" - \"Java SE 8\" /Library/Java/JavaVirtualMachines/jdk1.8.0_251.jdk/Contents/Home\n    1.8.0_201 (x86_64) \"Oracle Corporation\" - \"Java SE 8\" /Library/Java/JavaVirtualMachines/jdk1.8.0_201.jdk/Contents/Home\n/opt/homebrew/Cellar/openjdk/15.0.2/libexec/openjdk.jdk/Contents/Home\n"
     ]
    }
   ],
   "source": [
    "!/usr/libexec/java_home -V"
   ]
  },
  {
   "cell_type": "code",
   "execution_count": 26,
   "metadata": {},
   "outputs": [],
   "source": [
    "# !source activate siming\n",
    "!source ~/.bash_profile"
   ]
  },
  {
   "cell_type": "code",
   "execution_count": 27,
   "metadata": {},
   "outputs": [
    {
     "output_type": "stream",
     "name": "stdout",
     "text": [
      "zsh:1: command not found: jenv\n"
     ]
    }
   ],
   "source": [
    "!jenv add /Library/Java/JavaVirtualMachines/jdk-14.0.2.jdk/Contents/Home"
   ]
  },
  {
   "cell_type": "code",
   "execution_count": 28,
   "metadata": {},
   "outputs": [
    {
     "output_type": "stream",
     "name": "stdout",
     "text": [
      "zsh:1: command not found: jenv\n"
     ]
    }
   ],
   "source": [
    "!jenv global 14.0"
   ]
  },
  {
   "cell_type": "code",
   "execution_count": 29,
   "metadata": {},
   "outputs": [],
   "source": [
    "!export JAVA_HOME=`/usr/libexec/java_home -v 1.8.0_291`"
   ]
  },
  {
   "source": [
    "---"
   ],
   "cell_type": "markdown",
   "metadata": {}
  },
  {
   "cell_type": "code",
   "execution_count": 3,
   "metadata": {},
   "outputs": [
    {
     "output_type": "stream",
     "name": "stdout",
     "text": [
      "Checking whether there is an H2O instance running at http://localhost:54321 ..... not found.\n",
      "Attempting to start a local H2O server...\n",
      "  Java Version: java version \"14.0.2\" 2020-07-14; Java(TM) SE Runtime Environment (build 14.0.2+12-46); Java HotSpot(TM) 64-Bit Server VM (build 14.0.2+12-46, mixed mode, sharing)\n",
      "  Starting server from /Users/fyenne/miniforge3/envs/siming/lib/python3.8/site-packages/h2o/backend/bin/h2o.jar\n",
      "  Ice root: /var/folders/3g/xmfmfdws08g7_rv6hwgr8dpw0000gn/T/tmpfgb4jns4\n",
      "  JVM stdout: /var/folders/3g/xmfmfdws08g7_rv6hwgr8dpw0000gn/T/tmpfgb4jns4/h2o_fyenne_started_from_python.out\n",
      "  JVM stderr: /var/folders/3g/xmfmfdws08g7_rv6hwgr8dpw0000gn/T/tmpfgb4jns4/h2o_fyenne_started_from_python.err\n",
      "  Server is running at http://127.0.0.1:54321\n",
      "Connecting to H2O server at http://127.0.0.1:54321 ... successful.\n"
     ]
    },
    {
     "output_type": "display_data",
     "data": {
      "text/plain": "--------------------------  ------------------------------------------------------------------\nH2O_cluster_uptime:         03 secs\nH2O_cluster_timezone:       Asia/Shanghai\nH2O_data_parsing_timezone:  UTC\nH2O_cluster_version:        3.32.0.4\nH2O_cluster_version_age:    3 months and 2 days\nH2O_cluster_name:           H2O_from_python_fyenne_kzvwor\nH2O_cluster_total_nodes:    1\nH2O_cluster_free_memory:    8 Gb\nH2O_cluster_total_cores:    8\nH2O_cluster_allowed_cores:  8\nH2O_cluster_status:         accepting new members, healthy\nH2O_connection_url:         http://127.0.0.1:54321\nH2O_connection_proxy:       {\"http\": null, \"https\": null}\nH2O_internal_security:      False\nH2O_API_Extensions:         Amazon S3, XGBoost, Algos, AutoML, Core V3, TargetEncoder, Core V4\nPython_version:             3.8.6 final\n--------------------------  ------------------------------------------------------------------",
      "text/html": "<div style=\"overflow:auto\"><table style=\"width:50%\"><tr><td>H2O_cluster_uptime:</td>\n<td>03 secs</td></tr>\n<tr><td>H2O_cluster_timezone:</td>\n<td>Asia/Shanghai</td></tr>\n<tr><td>H2O_data_parsing_timezone:</td>\n<td>UTC</td></tr>\n<tr><td>H2O_cluster_version:</td>\n<td>3.32.0.4</td></tr>\n<tr><td>H2O_cluster_version_age:</td>\n<td>3 months and 2 days </td></tr>\n<tr><td>H2O_cluster_name:</td>\n<td>H2O_from_python_fyenne_kzvwor</td></tr>\n<tr><td>H2O_cluster_total_nodes:</td>\n<td>1</td></tr>\n<tr><td>H2O_cluster_free_memory:</td>\n<td>8 Gb</td></tr>\n<tr><td>H2O_cluster_total_cores:</td>\n<td>8</td></tr>\n<tr><td>H2O_cluster_allowed_cores:</td>\n<td>8</td></tr>\n<tr><td>H2O_cluster_status:</td>\n<td>accepting new members, healthy</td></tr>\n<tr><td>H2O_connection_url:</td>\n<td>http://127.0.0.1:54321</td></tr>\n<tr><td>H2O_connection_proxy:</td>\n<td>{\"http\": null, \"https\": null}</td></tr>\n<tr><td>H2O_internal_security:</td>\n<td>False</td></tr>\n<tr><td>H2O_API_Extensions:</td>\n<td>Amazon S3, XGBoost, Algos, AutoML, Core V3, TargetEncoder, Core V4</td></tr>\n<tr><td>Python_version:</td>\n<td>3.8.6 final</td></tr></table></div>"
     },
     "metadata": {}
    }
   ],
   "source": [
    "import h2o\n",
    "h2o.init(nthreads=-1, max_mem_size = \"8G\")"
   ]
  },
  {
   "cell_type": "code",
   "execution_count": 23,
   "metadata": {},
   "outputs": [],
   "source": [
    "train_raw = pd.read_csv('/Users/fyenne/Downloads/booooks/semester5/pythonAAE/open_data_com/data/raw_train.csv')\n",
    "tests_raw = pd.read_csv('/Users/fyenne/Downloads/booooks/semester5/pythonAAE/open_data_com/data/raw_tests.csv')"
   ]
  },
  {
   "cell_type": "code",
   "execution_count": 24,
   "metadata": {},
   "outputs": [
    {
     "output_type": "execute_result",
     "data": {
      "text/plain": [
       "            A厂   B厂  year  month  date  wee\n",
       "0     200692.0  0.0     1      1  2018    1\n",
       "1     218365.0  0.0     1      2  2018    1\n",
       "2     224501.0  0.0     1      3  2018    1\n",
       "3     216431.0  0.0     1      4  2018    1\n",
       "4     200447.0  0.0     1      5  2018    1\n",
       "...        ...  ...   ...    ...   ...  ...\n",
       "2065  241711.0  1.0    10     27  2020    1\n",
       "2066  240281.0  1.0    10     28  2020    1\n",
       "2067  237466.0  1.0    10     29  2020    1\n",
       "2068  237611.0  1.0    10     30  2020    1\n",
       "2069  236154.0  1.0    10     31  2020    0\n",
       "\n",
       "[2070 rows x 6 columns]"
      ],
      "text/html": "<div>\n<style scoped>\n    .dataframe tbody tr th:only-of-type {\n        vertical-align: middle;\n    }\n\n    .dataframe tbody tr th {\n        vertical-align: top;\n    }\n\n    .dataframe thead th {\n        text-align: right;\n    }\n</style>\n<table border=\"1\" class=\"dataframe\">\n  <thead>\n    <tr style=\"text-align: right;\">\n      <th></th>\n      <th>A厂</th>\n      <th>B厂</th>\n      <th>year</th>\n      <th>month</th>\n      <th>date</th>\n      <th>wee</th>\n    </tr>\n  </thead>\n  <tbody>\n    <tr>\n      <th>0</th>\n      <td>200692.0</td>\n      <td>0.0</td>\n      <td>1</td>\n      <td>1</td>\n      <td>2018</td>\n      <td>1</td>\n    </tr>\n    <tr>\n      <th>1</th>\n      <td>218365.0</td>\n      <td>0.0</td>\n      <td>1</td>\n      <td>2</td>\n      <td>2018</td>\n      <td>1</td>\n    </tr>\n    <tr>\n      <th>2</th>\n      <td>224501.0</td>\n      <td>0.0</td>\n      <td>1</td>\n      <td>3</td>\n      <td>2018</td>\n      <td>1</td>\n    </tr>\n    <tr>\n      <th>3</th>\n      <td>216431.0</td>\n      <td>0.0</td>\n      <td>1</td>\n      <td>4</td>\n      <td>2018</td>\n      <td>1</td>\n    </tr>\n    <tr>\n      <th>4</th>\n      <td>200447.0</td>\n      <td>0.0</td>\n      <td>1</td>\n      <td>5</td>\n      <td>2018</td>\n      <td>1</td>\n    </tr>\n    <tr>\n      <th>...</th>\n      <td>...</td>\n      <td>...</td>\n      <td>...</td>\n      <td>...</td>\n      <td>...</td>\n      <td>...</td>\n    </tr>\n    <tr>\n      <th>2065</th>\n      <td>241711.0</td>\n      <td>1.0</td>\n      <td>10</td>\n      <td>27</td>\n      <td>2020</td>\n      <td>1</td>\n    </tr>\n    <tr>\n      <th>2066</th>\n      <td>240281.0</td>\n      <td>1.0</td>\n      <td>10</td>\n      <td>28</td>\n      <td>2020</td>\n      <td>1</td>\n    </tr>\n    <tr>\n      <th>2067</th>\n      <td>237466.0</td>\n      <td>1.0</td>\n      <td>10</td>\n      <td>29</td>\n      <td>2020</td>\n      <td>1</td>\n    </tr>\n    <tr>\n      <th>2068</th>\n      <td>237611.0</td>\n      <td>1.0</td>\n      <td>10</td>\n      <td>30</td>\n      <td>2020</td>\n      <td>1</td>\n    </tr>\n    <tr>\n      <th>2069</th>\n      <td>236154.0</td>\n      <td>1.0</td>\n      <td>10</td>\n      <td>31</td>\n      <td>2020</td>\n      <td>0</td>\n    </tr>\n  </tbody>\n</table>\n<p>2070 rows × 6 columns</p>\n</div>"
     },
     "metadata": {},
     "execution_count": 24
    }
   ],
   "source": [
    "train_raw"
   ]
  },
  {
   "cell_type": "code",
   "execution_count": 25,
   "metadata": {},
   "outputs": [
    {
     "output_type": "stream",
     "name": "stdout",
     "text": [
      "Parse progress: |█████████████████████████████████████████████████████████| 100%\n"
     ]
    }
   ],
   "source": [
    "train_list=list(train_raw.columns)[:-1]\n",
    "train_1=h2o.H2OFrame(train_raw)\n",
    "train_raw['A厂']=train_raw['A厂']"
   ]
  },
  {
   "cell_type": "code",
   "execution_count": 26,
   "metadata": {},
   "outputs": [
    {
     "output_type": "stream",
     "name": "stderr",
     "text": [
      "/Users/fyenne/miniforge3/envs/siming/lib/python3.8/site-packages/h2o/estimators/estimator_base.py:200: RuntimeWarning: Stopping metric is ignored for _stopping_rounds=0.\n",
      "  warnings.warn(mesg[\"message\"], RuntimeWarning)\n",
      "xgboost Model Build progress: |███████████████████████████████████████████| 100%\n"
     ]
    }
   ],
   "source": [
    "param = {\n",
    "      \"ntrees\" : 2000\n",
    "    , \"max_depth\" : 20\n",
    "    , \"learn_rate\" : 0.02\n",
    "    , \"sample_rate\" : 0.7\n",
    "    , \"col_sample_rate_per_tree\" : 0.9\n",
    "    , \"min_rows\" : 5\n",
    "    , \"seed\": 4240\n",
    "    , \"score_tree_interval\": 100\n",
    "    ,\"stopping_metric\" :\"MSE\"\n",
    "    ,\"nfolds\":8\n",
    "    ,\"fold_assignment\":\"AUTO\"\n",
    "    ,\"keep_cross_validation_predictions\" : True\n",
    "    ,\"booster\":\"dart\"\n",
    "}\n",
    "\n",
    "from h2o.estimators import H2OXGBoostEstimator\n",
    "model_xgb = H2OXGBoostEstimator(**param)\n",
    "model_xgb.train(x = train_list, y = 'A厂', training_frame = train_1)\n",
    "param={\n",
    "    \"ntrees\" : 1060\n",
    "    , \"max_depth\" : 15\n",
    "    , \"learn_rate\" : 0.02\n",
    "    , \"sample_rate\" : 0.7\n",
    "    , \"col_sample_rate_per_tree\" : 0.9\n",
    "    , \"min_rows\" : 5\n",
    "    , \"seed\": 4240\n",
    "    , \"score_tree_interval\": 100\n",
    "    , \"stopping_metric\" :\"RMSE\"\n",
    "    , \"nfolds\":8\n",
    "    , \"fold_assignment\":\"AUTO\"\n",
    "    , \"keep_cross_validation_predictions\" : True\n",
    " }"
   ]
  },
  {
   "cell_type": "code",
   "execution_count": 28,
   "metadata": {},
   "outputs": [
    {
     "output_type": "stream",
     "name": "stderr",
     "text": [
      "/Users/fyenne/miniforge3/envs/siming/lib/python3.8/site-packages/h2o/estimators/estimator_base.py:200: RuntimeWarning: Stopping metric is ignored for _stopping_rounds=0.\n",
      "  warnings.warn(mesg[\"message\"], RuntimeWarning)\n",
      "gbm Model Build progress: |███████████████████████████████████████████████| 100%\n"
     ]
    }
   ],
   "source": [
    "from h2o.estimators.gbm import H2OGradientBoostingEstimator  # import gbm estimator\n",
    "model_gbm = H2OGradientBoostingEstimator(**param)\n",
    "model_gbm.train(x = train_list, y = 'A厂', training_frame = train_1)"
   ]
  },
  {
   "cell_type": "code",
   "execution_count": 29,
   "metadata": {},
   "outputs": [
    {
     "output_type": "stream",
     "name": "stdout",
     "text": [
      "stackedensemble Model Build progress: |███████████████████████████████████| 100%\n"
     ]
    }
   ],
   "source": [
    "from h2o.estimators import H2OStackedEnsembleEstimator\n",
    "stack = H2OStackedEnsembleEstimator(model_id=\"ensemble11\",\n",
    "                                       training_frame=train_1,\n",
    "                                       #validation_frame=test,\n",
    "                                       base_models=[model_xgb.model_id,model_gbm.model_id],\n",
    "                                    metalearner_algorithm=\"glm\")\n",
    "stack.train(x=train_list, y=\"A厂\", training_frame=train_1)"
   ]
  },
  {
   "cell_type": "code",
   "execution_count": 30,
   "metadata": {},
   "outputs": [
    {
     "output_type": "stream",
     "name": "stdout",
     "text": [
      "Parse progress: |█████████████████████████████████████████████████████████| 100%\n",
      "xgboost prediction progress: |████████████████████████████████████████████| 100%\n",
      "gbm prediction progress: |████████████████████████████████████████████████| 100%\n"
     ]
    }
   ],
   "source": [
    "test_1=h2o.H2OFrame(tests_raw)\n",
    "pred1=model_xgb.predict(test_1)\n",
    "pred2=model_gbm.predict(test_1)\n",
    "pred_df1=pred1.as_data_frame()\n",
    "pred_df2=pred2.as_data_frame()\n",
    "\n",
    "weights = {\n",
    "    'lgb_model': 9,\n",
    "    'xgb_model': 1\n",
    "}\n",
    "\n",
    "final_preds = (pred2 * weights['lgb_model'] + pred1 * weights['xgb_model']) / (weights['lgb_model'] + weights['xgb_model'])"
   ]
  },
  {
   "cell_type": "code",
   "execution_count": 36,
   "metadata": {},
   "outputs": [],
   "source": [
    "h2o_predict = h2o.as_list(final_preds)"
   ]
  },
  {
   "source": [
    "---"
   ],
   "cell_type": "markdown",
   "metadata": {}
  },
  {
   "cell_type": "code",
   "execution_count": 37,
   "metadata": {},
   "outputs": [],
   "source": [
    "bssub['A厂'] = h2o_predict[:151]\n",
    "bssub['B厂'] = h2o_predict[151:]"
   ]
  },
  {
   "cell_type": "code",
   "execution_count": 40,
   "metadata": {},
   "outputs": [
    {
     "output_type": "execute_result",
     "data": {
      "text/plain": [
       "0      199823.773842\n",
       "1      196823.395150\n",
       "2      199363.146432\n",
       "3      202675.465865\n",
       "4      206669.623678\n",
       "           ...      \n",
       "146    174893.540555\n",
       "147    168494.034719\n",
       "148    169770.433207\n",
       "149    173562.280240\n",
       "150    172089.361208\n",
       "Name: B厂, Length: 151, dtype: float64"
      ]
     },
     "metadata": {},
     "execution_count": 40
    }
   ],
   "source": [
    "bssub['B厂'] = np.array(h2o_predict[151:]);bssub['B厂']"
   ]
  },
  {
   "cell_type": "code",
   "execution_count": 42,
   "metadata": {},
   "outputs": [],
   "source": [
    "bssub.to_csv('./data/h2o_sub.csv', index=False)"
   ]
  },
  {
   "cell_type": "code",
   "execution_count": null,
   "metadata": {},
   "outputs": [],
   "source": []
  }
 ]
}