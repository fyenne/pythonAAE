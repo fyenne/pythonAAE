{
 "metadata": {
  "language_info": {
   "codemirror_mode": {
    "name": "ipython",
    "version": 3
   },
   "file_extension": ".py",
   "mimetype": "text/x-python",
   "name": "python",
   "nbconvert_exporter": "python",
   "pygments_lexer": "ipython3",
   "version": "3.8.6"
  },
  "orig_nbformat": 2,
  "kernelspec": {
   "name": "python386jvsc74a57bd0ce909994499a62a89f8945d91d57c51a920a5cb8f3e61b9dc99d2a0ea5862498",
   "display_name": "Python 3.8.6 64-bit"
  },
  "metadata": {
   "interpreter": {
    "hash": "ce909994499a62a89f8945d91d57c51a920a5cb8f3e61b9dc99d2a0ea5862498"
   }
  }
 },
 "nbformat": 4,
 "nbformat_minor": 2,
 "cells": [
  {
   "cell_type": "code",
   "execution_count": 30,
   "metadata": {},
   "outputs": [],
   "source": [
    "import pandas as pd\n",
    "import numpy as np\n",
    "import requests\n",
    "import urllib3"
   ]
  },
  {
   "cell_type": "code",
   "execution_count": 12,
   "metadata": {},
   "outputs": [],
   "source": [
    "http = urllib3.PoolManager()\n",
    "response = http.request('get',\"https://www.sodic.com.cn/competitions?raceId=26\",headers={'User-Agent': 'ABCDE'})\n"
   ]
  },
  {
   "cell_type": "code",
   "execution_count": 27,
   "metadata": {},
   "outputs": [],
   "source": [
    "# print(response.data.decode('utf-8')) \n",
    "# text = response.data.decode('utf-8')\n",
    "import re\n",
    "from bs4 import BeautifulSoup\n",
    "soup = BeautifulSoup(text, 'lxml')#传入解析器：lxml\n",
    "# print(soup.prettify())#格式化代码，自动补全\n",
    "# print(soup.title.string)#得到title标签里的内容"
   ]
  },
  {
   "source": [
    "---"
   ],
   "cell_type": "markdown",
   "metadata": {}
  },
  {
   "cell_type": "code",
   "execution_count": 40,
   "metadata": {},
   "outputs": [],
   "source": [
    "game = pd.DataFrame({'city_water': ['https://www.sodic.com.cn/competitions/900009', '深圳市是全国严重缺水城市之一，80%以上供水需花费高昂成本从东江引入。深圳市2019年总供水量20.62亿m³，其中外部引水量17.61亿m³，占比达85%以上，全市水资源面临“淡水资源少、对外依赖严重、供求关系紧张”的严峻形势。准确预测未来一段时间内的城市需水量，对全市供水调度计划制定和供水稳定运行具有重要意义。', 'reg'], 'nlp': ['https://www.sodic.com.cn/competitions/900010', '企业自主填报安全生产隐患，对于将风险消除在事故萌芽阶段具有重要意义。企业在填报隐患时，往往存在不认真填报的情况，“虚报、假报”隐患内容，增大了企业监管的难度。采用大数据手段分析隐患内容，找出不切实履行主体责任的企业，向监管部门进行推送，实现精准执法，能够提高监管手段的有效性，增强企业安全责任意识。', 'classification'], 'hr':['https://www.sodic.com.cn/competitions/900008', '企业招聘需求日益多元化、精细化，招聘服务的开展难度正面临日益严峻的挑战。本赛题期望选手通过自然语言处理、机器学习等前沿技术手段，建立海量企业招聘岗位画像、个人用户画像，在人才推荐、岗位推荐等方向提供数据智能服务，从而提高企业人才招聘效率。', 'mul']}, index = range(3))\n",
    "game.to_csv('./game_title.csv', index=False)"
   ]
  },
  {
   "cell_type": "code",
   "execution_count": 41,
   "metadata": {},
   "outputs": [
    {
     "output_type": "execute_result",
     "data": {
      "text/plain": [
       "                                          city_water  \\\n",
       "0       https://www.sodic.com.cn/competitions/900009   \n",
       "1  深圳市是全国严重缺水城市之一，80%以上供水需花费高昂成本从东江引入。深圳市2019年总供水...   \n",
       "2                                                reg   \n",
       "\n",
       "                                                 nlp  \\\n",
       "0       https://www.sodic.com.cn/competitions/900010   \n",
       "1  企业自主填报安全生产隐患，对于将风险消除在事故萌芽阶段具有重要意义。企业在填报隐患时，往往存...   \n",
       "2                                     classification   \n",
       "\n",
       "                                                  hr  \n",
       "0       https://www.sodic.com.cn/competitions/900008  \n",
       "1  企业招聘需求日益多元化、精细化，招聘服务的开展难度正面临日益严峻的挑战。本赛题期望选手通过自...  \n",
       "2                                                mul  "
      ],
      "text/html": "<div>\n<style scoped>\n    .dataframe tbody tr th:only-of-type {\n        vertical-align: middle;\n    }\n\n    .dataframe tbody tr th {\n        vertical-align: top;\n    }\n\n    .dataframe thead th {\n        text-align: right;\n    }\n</style>\n<table border=\"1\" class=\"dataframe\">\n  <thead>\n    <tr style=\"text-align: right;\">\n      <th></th>\n      <th>city_water</th>\n      <th>nlp</th>\n      <th>hr</th>\n    </tr>\n  </thead>\n  <tbody>\n    <tr>\n      <th>0</th>\n      <td>https://www.sodic.com.cn/competitions/900009</td>\n      <td>https://www.sodic.com.cn/competitions/900010</td>\n      <td>https://www.sodic.com.cn/competitions/900008</td>\n    </tr>\n    <tr>\n      <th>1</th>\n      <td>深圳市是全国严重缺水城市之一，80%以上供水需花费高昂成本从东江引入。深圳市2019年总供水...</td>\n      <td>企业自主填报安全生产隐患，对于将风险消除在事故萌芽阶段具有重要意义。企业在填报隐患时，往往存...</td>\n      <td>企业招聘需求日益多元化、精细化，招聘服务的开展难度正面临日益严峻的挑战。本赛题期望选手通过自...</td>\n    </tr>\n    <tr>\n      <th>2</th>\n      <td>reg</td>\n      <td>classification</td>\n      <td>mul</td>\n    </tr>\n  </tbody>\n</table>\n</div>"
     },
     "metadata": {},
     "execution_count": 41
    }
   ],
   "source": [
    "game"
   ]
  },
  {
   "cell_type": "code",
   "execution_count": null,
   "metadata": {},
   "outputs": [],
   "source": []
  }
 ]
}