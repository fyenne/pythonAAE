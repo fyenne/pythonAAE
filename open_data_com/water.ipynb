{
 "metadata": {
  "language_info": {
   "codemirror_mode": {
    "name": "ipython",
    "version": 3
   },
   "file_extension": ".py",
   "mimetype": "text/x-python",
   "name": "python",
   "nbconvert_exporter": "python",
   "pygments_lexer": "ipython3",
   "version": "3.8.6"
  },
  "orig_nbformat": 2,
  "kernelspec": {
   "name": "python386jvsc74a57bd0ff684bfe6bac5aee95fe25613146015247c6b1b77f36ee2373fa7468888d9e66",
   "display_name": "Python 3.8.6 64-bit ('siming': conda)"
  },
  "metadata": {
   "interpreter": {
    "hash": "ce909994499a62a89f8945d91d57c51a920a5cb8f3e61b9dc99d2a0ea5862498"
   }
  }
 },
 "nbformat": 4,
 "nbformat_minor": 2,
 "cells": [
  {
   "cell_type": "code",
   "execution_count": 1,
   "metadata": {},
   "outputs": [],
   "source": [
    "import pandas as pd\n",
    "import numpy as np\n",
    "from sklearn.linear_model import LogisticRegression\n",
    "import matplotlib.pyplot as plt\n",
    "from sklearn.utils import shuffle\n",
    "from sklearn.model_selection import GridSearchCV"
   ]
  },
  {
   "source": [
    "---"
   ],
   "cell_type": "markdown",
   "metadata": {}
  },
  {
   "cell_type": "code",
   "execution_count": 128,
   "metadata": {},
   "outputs": [],
   "source": [
    "path = '/Users/fyenne/Downloads/booooks/semester5/pythonAAE/open_data_com/data'\n",
    "train = pd.read_csv(path+'/train.csv')\n",
    "tests = pd.read_csv(path+'/test.csv')\n",
    "sub = pd.read_csv(path+'/sub.csv')"
   ]
  },
  {
   "cell_type": "code",
   "execution_count": 146,
   "metadata": {},
   "outputs": [
    {
     "output_type": "execute_result",
     "data": {
      "text/plain": [
       "              日期        A厂        B厂  year month date       sum\n",
       "1030  2020/10/27  281198.0  241711.0  2020    10   27  522909.0\n",
       "1031  2020/10/28  275598.0  240281.0  2020    10   28  515879.0\n",
       "1032  2020/10/29  268544.0  237466.0  2020    10   29  506010.0\n",
       "1033  2020/10/30  285484.0  237611.0  2020    10   30  523095.0\n",
       "1034  2020/10/31  275130.0  236154.0  2020    10   31  511284.0"
      ],
      "text/html": "<div>\n<style scoped>\n    .dataframe tbody tr th:only-of-type {\n        vertical-align: middle;\n    }\n\n    .dataframe tbody tr th {\n        vertical-align: top;\n    }\n\n    .dataframe thead th {\n        text-align: right;\n    }\n</style>\n<table border=\"1\" class=\"dataframe\">\n  <thead>\n    <tr style=\"text-align: right;\">\n      <th></th>\n      <th>日期</th>\n      <th>A厂</th>\n      <th>B厂</th>\n      <th>year</th>\n      <th>month</th>\n      <th>date</th>\n      <th>sum</th>\n    </tr>\n  </thead>\n  <tbody>\n    <tr>\n      <th>1030</th>\n      <td>2020/10/27</td>\n      <td>281198.0</td>\n      <td>241711.0</td>\n      <td>2020</td>\n      <td>10</td>\n      <td>27</td>\n      <td>522909.0</td>\n    </tr>\n    <tr>\n      <th>1031</th>\n      <td>2020/10/28</td>\n      <td>275598.0</td>\n      <td>240281.0</td>\n      <td>2020</td>\n      <td>10</td>\n      <td>28</td>\n      <td>515879.0</td>\n    </tr>\n    <tr>\n      <th>1032</th>\n      <td>2020/10/29</td>\n      <td>268544.0</td>\n      <td>237466.0</td>\n      <td>2020</td>\n      <td>10</td>\n      <td>29</td>\n      <td>506010.0</td>\n    </tr>\n    <tr>\n      <th>1033</th>\n      <td>2020/10/30</td>\n      <td>285484.0</td>\n      <td>237611.0</td>\n      <td>2020</td>\n      <td>10</td>\n      <td>30</td>\n      <td>523095.0</td>\n    </tr>\n    <tr>\n      <th>1034</th>\n      <td>2020/10/31</td>\n      <td>275130.0</td>\n      <td>236154.0</td>\n      <td>2020</td>\n      <td>10</td>\n      <td>31</td>\n      <td>511284.0</td>\n    </tr>\n  </tbody>\n</table>\n</div>"
     },
     "metadata": {},
     "execution_count": 146
    }
   ],
   "source": [
    "train.head();train.tail()"
   ]
  },
  {
   "cell_type": "code",
   "execution_count": 147,
   "metadata": {},
   "outputs": [
    {
     "output_type": "execute_result",
     "data": {
      "text/plain": [
       "             日期   A厂   B厂  year month date   sum\n",
       "146  2021/03/27  202  941  2021    03   27  1143\n",
       "147  2021/03/28  853  985  2021    03   28  1838\n",
       "148  2021/03/29  623  901  2021    03   29  1524\n",
       "149  2021/03/30  893  692  2021    03   30  1585\n",
       "150  2021/03/31  572  885  2021    03   31  1457"
      ],
      "text/html": "<div>\n<style scoped>\n    .dataframe tbody tr th:only-of-type {\n        vertical-align: middle;\n    }\n\n    .dataframe tbody tr th {\n        vertical-align: top;\n    }\n\n    .dataframe thead th {\n        text-align: right;\n    }\n</style>\n<table border=\"1\" class=\"dataframe\">\n  <thead>\n    <tr style=\"text-align: right;\">\n      <th></th>\n      <th>日期</th>\n      <th>A厂</th>\n      <th>B厂</th>\n      <th>year</th>\n      <th>month</th>\n      <th>date</th>\n      <th>sum</th>\n    </tr>\n  </thead>\n  <tbody>\n    <tr>\n      <th>146</th>\n      <td>2021/03/27</td>\n      <td>202</td>\n      <td>941</td>\n      <td>2021</td>\n      <td>03</td>\n      <td>27</td>\n      <td>1143</td>\n    </tr>\n    <tr>\n      <th>147</th>\n      <td>2021/03/28</td>\n      <td>853</td>\n      <td>985</td>\n      <td>2021</td>\n      <td>03</td>\n      <td>28</td>\n      <td>1838</td>\n    </tr>\n    <tr>\n      <th>148</th>\n      <td>2021/03/29</td>\n      <td>623</td>\n      <td>901</td>\n      <td>2021</td>\n      <td>03</td>\n      <td>29</td>\n      <td>1524</td>\n    </tr>\n    <tr>\n      <th>149</th>\n      <td>2021/03/30</td>\n      <td>893</td>\n      <td>692</td>\n      <td>2021</td>\n      <td>03</td>\n      <td>30</td>\n      <td>1585</td>\n    </tr>\n    <tr>\n      <th>150</th>\n      <td>2021/03/31</td>\n      <td>572</td>\n      <td>885</td>\n      <td>2021</td>\n      <td>03</td>\n      <td>31</td>\n      <td>1457</td>\n    </tr>\n  </tbody>\n</table>\n</div>"
     },
     "metadata": {},
     "execution_count": 147
    }
   ],
   "source": [
    "tests.head();tests.tail()"
   ]
  },
  {
   "cell_type": "code",
   "execution_count": 137,
   "metadata": {},
   "outputs": [],
   "source": [
    "train['year'], train['month'], train['date'] = 0,0,0\n",
    "tests['year'], tests['month'], tests['date'] = 0,0,0\n",
    "train.iloc[:,3:6] = pd.DataFrame([i.split('/') for i in train['日期']])\n",
    "tests.iloc[:,3:6] = pd.DataFrame([i.split('/') for i in tests['日期']])\n"
   ]
  },
  {
   "cell_type": "code",
   "execution_count": 148,
   "metadata": {},
   "outputs": [],
   "source": [
    "train['sum'] = train['A厂'] + train['B厂']\n",
    "tests['sum'] = tests['A厂'] + tests['B厂']\n",
    "train['frac_a'] = train['A厂']/train['sum']\n",
    "tests['frac_a'] = tests['A厂']/tests['sum']\n",
    "train['frac_b'] = train['B厂']/train['sum']\n",
    "tests['frac_b'] = tests['B厂']/tests['sum']"
   ]
  },
  {
   "cell_type": "code",
   "execution_count": 187,
   "metadata": {},
   "outputs": [],
   "source": [
    "train = train.drop('日期', axis = 1)\n",
    "tests = tests.drop('日期', axis = 1)"
   ]
  },
  {
   "cell_type": "code",
   "execution_count": 206,
   "metadata": {},
   "outputs": [
    {
     "output_type": "execute_result",
     "data": {
      "text/plain": [
       "set()"
      ]
     },
     "metadata": {},
     "execution_count": 206
    }
   ],
   "source": [
    "dif_col = set(train.columns.to_list()) - set(pd.DataFrame(train.describe()).columns.to_list())"
   ]
  },
  {
   "cell_type": "code",
   "execution_count": 205,
   "metadata": {},
   "outputs": [],
   "source": [
    "train['year'], train['month'], train['date'] = [train[i].astype(int) for i in list(dif_col)]\n",
    "tests['year'], tests['month'], tests['date'] = [tests[i].astype(int) for i in list(dif_col)]"
   ]
  },
  {
   "source": [
    "---\n",
    "# baseline"
   ],
   "cell_type": "markdown",
   "metadata": {}
  },
  {
   "cell_type": "code",
   "execution_count": 357,
   "metadata": {},
   "outputs": [],
   "source": [
    "bs_train = train.iloc[:,0:5]\n",
    "bs_tests = tests.iloc[:,2:5]"
   ]
  },
  {
   "cell_type": "code",
   "execution_count": 358,
   "metadata": {},
   "outputs": [],
   "source": [
    "bs_tar = bs_train.iloc[:, 0:2]\n",
    "bs_train = bs_train.iloc[:, 2:]"
   ]
  },
  {
   "cell_type": "code",
   "execution_count": 359,
   "metadata": {},
   "outputs": [],
   "source": [
    "from sklearn.linear_model import Ridge, LinearRegression\n",
    "from sklearn import model_selection\n",
    "cv_split = model_selection.ShuffleSplit(n_splits = 5, test_size = .2, train_size = .8, random_state = 1026529)"
   ]
  },
  {
   "cell_type": "code",
   "execution_count": 360,
   "metadata": {},
   "outputs": [
    {
     "output_type": "execute_result",
     "data": {
      "text/plain": [
       "-0.14551133194229993"
      ]
     },
     "metadata": {},
     "execution_count": 360
    }
   ],
   "source": [
    "alg1 = LinearRegression()\n",
    "cv_results_1 = model_selection.cross_validate(alg1, bs_train, bs_tar, cv  = cv_split, scoring='neg_mean_absolute_percentage_error')\n",
    "cv_results_1['test_score'].mean()"
   ]
  },
  {
   "cell_type": "code",
   "execution_count": 361,
   "metadata": {},
   "outputs": [
    {
     "output_type": "execute_result",
     "data": {
      "text/plain": [
       "-0.1455161156470318"
      ]
     },
     "metadata": {},
     "execution_count": 361
    }
   ],
   "source": [
    "alg2 = Ridge()\n",
    "cv_results_2 = model_selection.cross_validate(alg2, bs_train, bs_tar, cv  = cv_split, scoring='neg_mean_absolute_percentage_error')\n",
    "cv_results_2['test_score'].mean()"
   ]
  },
  {
   "cell_type": "code",
   "execution_count": 364,
   "metadata": {},
   "outputs": [],
   "source": [
    "bs_mode=alg2.fit(bs_train, y = bs_tar)"
   ]
  },
  {
   "cell_type": "code",
   "execution_count": 373,
   "metadata": {},
   "outputs": [],
   "source": [
    "sub.iloc[:,1:3] = pd.DataFrame(bs_mode.predict(bs_tests))/100"
   ]
  },
  {
   "cell_type": "code",
   "execution_count": 374,
   "metadata": {},
   "outputs": [],
   "source": [
    "sub.to_csv('./data/baseline_sub.csv', index=False)"
   ]
  },
  {
   "source": [
    "---\n",
    "\n",
    "## test 2 , the pseudo data"
   ],
   "cell_type": "markdown",
   "metadata": {}
  },
  {
   "cell_type": "code",
   "execution_count": 2,
   "metadata": {},
   "outputs": [],
   "source": [
    "import pandas as pd\n",
    "import numpy as np\n",
    "path = '/Users/fyenne/Downloads/booooks/semester5/pythonAAE/open_data_com/data'\n",
    "train = pd.read_csv(path+'/train.csv')\n",
    "tests = pd.read_csv(path+'/test.csv')\n",
    "bssub = pd.read_csv(path+'/baseline_sub.csv')"
   ]
  },
  {
   "cell_type": "code",
   "execution_count": 3,
   "metadata": {},
   "outputs": [],
   "source": [
    "tests.iloc[:, 1:] = bssub.iloc[:, 1:]\n",
    "train['year'], train['month'], train['date'] = 0,0,0\n",
    "tests['year'], tests['month'], tests['date'] = 0,0,0\n",
    "train.iloc[:,3:6] = pd.DataFrame([i.split('/') for i in train['日期']])\n",
    "tests.iloc[:,3:6] = pd.DataFrame([i.split('/') for i in tests['日期']])\n",
    "train['sum'] = train['A厂'] + train['B厂']\n",
    "tests['sum'] = tests['A厂'] + tests['B厂']\n",
    "train['frac_a'] = train['A厂']/train['sum']\n",
    "tests['frac_a'] = tests['A厂']/tests['sum']\n",
    "train['frac_b'] = train['B厂']/train['sum']\n",
    "tests['frac_b'] = tests['B厂']/tests['sum']\n",
    "train = train.drop('日期', axis = 1)\n",
    "tests = tests.drop('日期', axis = 1)\n",
    "dif_col = set(train.columns.to_list()) - set(pd.DataFrame(train.describe()).columns.to_list())\n",
    "train['year'], train['month'], train['date'] = [train[i].astype(int) for i in list(dif_col)]\n",
    "tests['year'], tests['month'], tests['date'] = [tests[i].astype(int) for i in list(dif_col)]"
   ]
  },
  {
   "cell_type": "code",
   "execution_count": 5,
   "metadata": {},
   "outputs": [
    {
     "output_type": "execute_result",
     "data": {
      "text/plain": [
       "            A厂        B厂  year  month  date       sum    frac_a    frac_b\n",
       "0     200692.0  189490.0     1      1  2018  390182.0  0.514355  0.485645\n",
       "1     218365.0  211147.0     1      2  2018  429512.0  0.508403  0.491597\n",
       "2     224501.0  217767.0     1      3  2018  442268.0  0.507613  0.492387\n",
       "3     216431.0  212636.0     1      4  2018  429067.0  0.504422  0.495578\n",
       "4     200447.0  209427.0     1      5  2018  409874.0  0.489045  0.510955\n",
       "...        ...       ...   ...    ...   ...       ...       ...       ...\n",
       "1030  281198.0  241711.0    10     27  2020  522909.0  0.537757  0.462243\n",
       "1031  275598.0  240281.0    10     28  2020  515879.0  0.534230  0.465770\n",
       "1032  268544.0  237466.0    10     29  2020  506010.0  0.530709  0.469291\n",
       "1033  285484.0  237611.0    10     30  2020  523095.0  0.545759  0.454241\n",
       "1034  275130.0  236154.0    10     31  2020  511284.0  0.538116  0.461884\n",
       "\n",
       "[1035 rows x 8 columns]"
      ],
      "text/html": "<div>\n<style scoped>\n    .dataframe tbody tr th:only-of-type {\n        vertical-align: middle;\n    }\n\n    .dataframe tbody tr th {\n        vertical-align: top;\n    }\n\n    .dataframe thead th {\n        text-align: right;\n    }\n</style>\n<table border=\"1\" class=\"dataframe\">\n  <thead>\n    <tr style=\"text-align: right;\">\n      <th></th>\n      <th>A厂</th>\n      <th>B厂</th>\n      <th>year</th>\n      <th>month</th>\n      <th>date</th>\n      <th>sum</th>\n      <th>frac_a</th>\n      <th>frac_b</th>\n    </tr>\n  </thead>\n  <tbody>\n    <tr>\n      <th>0</th>\n      <td>200692.0</td>\n      <td>189490.0</td>\n      <td>1</td>\n      <td>1</td>\n      <td>2018</td>\n      <td>390182.0</td>\n      <td>0.514355</td>\n      <td>0.485645</td>\n    </tr>\n    <tr>\n      <th>1</th>\n      <td>218365.0</td>\n      <td>211147.0</td>\n      <td>1</td>\n      <td>2</td>\n      <td>2018</td>\n      <td>429512.0</td>\n      <td>0.508403</td>\n      <td>0.491597</td>\n    </tr>\n    <tr>\n      <th>2</th>\n      <td>224501.0</td>\n      <td>217767.0</td>\n      <td>1</td>\n      <td>3</td>\n      <td>2018</td>\n      <td>442268.0</td>\n      <td>0.507613</td>\n      <td>0.492387</td>\n    </tr>\n    <tr>\n      <th>3</th>\n      <td>216431.0</td>\n      <td>212636.0</td>\n      <td>1</td>\n      <td>4</td>\n      <td>2018</td>\n      <td>429067.0</td>\n      <td>0.504422</td>\n      <td>0.495578</td>\n    </tr>\n    <tr>\n      <th>4</th>\n      <td>200447.0</td>\n      <td>209427.0</td>\n      <td>1</td>\n      <td>5</td>\n      <td>2018</td>\n      <td>409874.0</td>\n      <td>0.489045</td>\n      <td>0.510955</td>\n    </tr>\n    <tr>\n      <th>...</th>\n      <td>...</td>\n      <td>...</td>\n      <td>...</td>\n      <td>...</td>\n      <td>...</td>\n      <td>...</td>\n      <td>...</td>\n      <td>...</td>\n    </tr>\n    <tr>\n      <th>1030</th>\n      <td>281198.0</td>\n      <td>241711.0</td>\n      <td>10</td>\n      <td>27</td>\n      <td>2020</td>\n      <td>522909.0</td>\n      <td>0.537757</td>\n      <td>0.462243</td>\n    </tr>\n    <tr>\n      <th>1031</th>\n      <td>275598.0</td>\n      <td>240281.0</td>\n      <td>10</td>\n      <td>28</td>\n      <td>2020</td>\n      <td>515879.0</td>\n      <td>0.534230</td>\n      <td>0.465770</td>\n    </tr>\n    <tr>\n      <th>1032</th>\n      <td>268544.0</td>\n      <td>237466.0</td>\n      <td>10</td>\n      <td>29</td>\n      <td>2020</td>\n      <td>506010.0</td>\n      <td>0.530709</td>\n      <td>0.469291</td>\n    </tr>\n    <tr>\n      <th>1033</th>\n      <td>285484.0</td>\n      <td>237611.0</td>\n      <td>10</td>\n      <td>30</td>\n      <td>2020</td>\n      <td>523095.0</td>\n      <td>0.545759</td>\n      <td>0.454241</td>\n    </tr>\n    <tr>\n      <th>1034</th>\n      <td>275130.0</td>\n      <td>236154.0</td>\n      <td>10</td>\n      <td>31</td>\n      <td>2020</td>\n      <td>511284.0</td>\n      <td>0.538116</td>\n      <td>0.461884</td>\n    </tr>\n  </tbody>\n</table>\n<p>1035 rows × 8 columns</p>\n</div>"
     },
     "metadata": {},
     "execution_count": 5
    }
   ],
   "source": [
    "# train.to_csv(\"./data/train_modified_yan.csv\", index = False)\n",
    "# tests.to_csv(\"./data/tests_modified_yan.csv\", index = False)\n"
   ]
  },
  {
   "cell_type": "code",
   "execution_count": 5,
   "metadata": {},
   "outputs": [],
   "source": [
    "# from sklearn.preprocessing import StandardScaler\n",
    "# ss = StandardScaler()\n",
    "# R_train = pd.read_csv(\"./data/R_train_modified_yan.csv\")\n",
    "# R_tests = pd.read_csv(\"./data/R_tests_modified_yan.csv\")"
   ]
  },
  {
   "cell_type": "code",
   "execution_count": 18,
   "metadata": {},
   "outputs": [],
   "source": [
    "wee = list(list(np.repeat(1, 5))+list(np.repeat(0,2)))\n",
    "wee = wee*148\n",
    "train['wee'] = wee[0:1035]\n",
    "train3 = pd.concat([train, train], axis = 0)\n",
    "train3.iloc[1035:,0] = train3.iloc[:1035,1] # move B chang\n",
    "train3.iloc[:1035,1] = 0\n",
    "train3.iloc[1035:,1] = 1"
   ]
  },
  {
   "cell_type": "code",
   "execution_count": 39,
   "metadata": {},
   "outputs": [],
   "source": [
    "# tests # sunday start\n",
    "wee = list([0,1,1,1,1,1,0])\n",
    "wee = wee*22\n",
    "tests['wee'] = wee[0:151]\n",
    "\n",
    "tests3 = pd.concat([tests, tests], axis = 0)\n",
    "tests3.iloc[151:,0] = tests3.iloc[:151,1] # move B chang\n",
    "tests3.iloc[:151,1] = 0\n",
    "tests3.iloc[151:,1] = 1"
   ]
  },
  {
   "cell_type": "code",
   "execution_count": 41,
   "metadata": {},
   "outputs": [],
   "source": [
    "train3 = train3.drop(['sum', 'frac_a', 'frac_b'], axis = 1)\n",
    "tests3 = tests3.drop(['sum', 'frac_a', 'frac_b'], axis = 1)"
   ]
  },
  {
   "cell_type": "code",
   "execution_count": 46,
   "metadata": {},
   "outputs": [],
   "source": [
    "train3.to_csv('./data/raw_train.csv', index = False)\n",
    "tests3.to_csv('./data/raw_tests.csv', index=False)"
   ]
  },
  {
   "cell_type": "code",
   "execution_count": 48,
   "metadata": {},
   "outputs": [],
   "source": [
    "import optuna"
   ]
  },
  {
   "source": [
    "---\n",
    "\n",
    "# tensorflow"
   ],
   "cell_type": "markdown",
   "metadata": {}
  },
  {
   "cell_type": "code",
   "execution_count": 3,
   "metadata": {},
   "outputs": [],
   "source": [
    "target_train = train.iloc[:,0:2]\n",
    "target_test  = tests.iloc[:,0:2]\n",
    "tensor_train = train.iloc[:,2:]\n",
    "tensor_test  = tests.iloc[:,2:]"
   ]
  },
  {
   "cell_type": "code",
   "execution_count": 4,
   "metadata": {},
   "outputs": [],
   "source": [
    "from sklearn.model_selection import train_test_split\n",
    "x_train, x_valid, y_train, y_valid = train_test_split(tensor_train, target_train, test_size=0.25, random_state=1026529)"
   ]
  },
  {
   "cell_type": "code",
   "execution_count": 5,
   "metadata": {},
   "outputs": [],
   "source": [
    "# x_train\n",
    "input_shape =  [7]\n",
    "import tensorflow as tf\n",
    "from tensorflow import keras\n",
    "from tensorflow.keras import layers\n",
    "from tensorflow.keras.callbacks import EarlyStopping\n",
    "import kerastuner as kt\n",
    "early_stopping = EarlyStopping(\n",
    "    min_delta=0.001, # minimium amount of change to count as an improvement\n",
    "    patience=10, # how many epochs to wait before stopping\n",
    "    restore_best_weights=True,\n",
    ")"
   ]
  },
  {
   "cell_type": "code",
   "execution_count": 6,
   "metadata": {},
   "outputs": [],
   "source": [
    "# def model_builder():\n",
    "#     model = keras.Sequential()\n",
    "#     layers.Dense(1186, activation='relu', input_shape=input_shape),\n",
    "\n",
    "#     # hp_units  = hp.Int('units', min_value=593, max_value=1186, step=32)\n",
    "#     # model.add(keras.layers.Dense(units=hp_units, activation='relu'))\n",
    "#     # model.add(keras.layers.BatchNormalization()),\n",
    "#     model.add(keras.layers.Dense(units=593, activation='relu'))\n",
    "#     model.add(keras.layers.BatchNormalization()),\n",
    "\n",
    "#     model.add(keras.layers.Dense(units=593, activation='relu'))\n",
    "#     model.add(keras.layers.BatchNormalization()),\n",
    "#     model.add(keras.layers.Dense(2))\n",
    "\n",
    "#     # hp_learning_rate = hp.Choice('learning_rate', values=[1e-1, 1e-2, 1e-3])\n",
    "#     model.compile(optimizer=keras.optimizers.SGD(learning_rate=1e-1),\n",
    "#                 loss=keras.losses.MeanAbsolutePercentageError())\n",
    "# # tf.keras.losses.MeanAbsoluteError\n",
    "#     return model"
   ]
  },
  {
   "cell_type": "code",
   "execution_count": 7,
   "metadata": {},
   "outputs": [],
   "source": [
    "model = tf.keras.Sequential([\n",
    "      layers.Dense(1186, activation='relu', input_shape=input_shape),\n",
    "      keras.layers.Dense(units=593, activation='relu'),\n",
    "      keras.layers.BatchNormalization(),\n",
    "      keras.layers.Dense(units=593, activation='relu'),\n",
    "      keras.layers.BatchNormalization(),\n",
    "      keras.layers.Dense(1)\n",
    "  ])\n",
    "# model.add()\n",
    "model.compile(optimizer=keras.optimizers.SGD(learning_rate=1e-1),\n",
    "                loss=keras.losses.MeanAbsolutePercentageError())"
   ]
  },
  {
   "cell_type": "code",
   "execution_count": 8,
   "metadata": {},
   "outputs": [],
   "source": [
    "model.fit(tensor_train, epochs=120)"
   ]
  },
  {
   "cell_type": "code",
   "execution_count": 42,
   "metadata": {},
   "outputs": [],
   "source": [
    "# model.predict(tensor_test)"
   ]
  },
  {
   "source": [
    "# H2o"
   ],
   "cell_type": "markdown",
   "metadata": {}
  },
  {
   "cell_type": "code",
   "execution_count": 31,
   "metadata": {},
   "outputs": [
    {
     "output_type": "execute_result",
     "data": {
      "text/plain": [
       "         A厂        B厂  year  month  date       sum    frac_a    frac_b  \\\n",
       "0  200692.0  189490.0     1   2018     1  390182.0  0.514355  0.485645   \n",
       "1  218365.0  211147.0     1   2018     2  429512.0  0.508403  0.491597   \n",
       "2  224501.0  217767.0     1   2018     3  442268.0  0.507613  0.492387   \n",
       "3  216431.0  212636.0     1   2018     4  429067.0  0.504422  0.495578   \n",
       "4  200447.0  209427.0     1   2018     5  409874.0  0.489045  0.510955   \n",
       "\n",
       "              A厂             B厂  year  month  date            sum    frac_a  \\\n",
       "0  291977.094734  203717.476400    11   2020     1  495694.571134  0.589026   \n",
       "1  291979.053666  203718.602221    11   2020     2  495697.655887  0.589026   \n",
       "2  291981.012598  203719.728042    11   2020     3  495700.740640  0.589027   \n",
       "3  291982.971531  203720.853862    11   2020     4  495703.825393  0.589027   \n",
       "4  291984.930463  203721.979683    11   2020     5  495706.910146  0.589027   \n",
       "\n",
       "     frac_b  \n",
       "0  0.410974  \n",
       "1  0.410974  \n",
       "2  0.410973  \n",
       "3  0.410973  \n",
       "4  0.410973  "
      ],
      "text/html": "<div>\n<style scoped>\n    .dataframe tbody tr th:only-of-type {\n        vertical-align: middle;\n    }\n\n    .dataframe tbody tr th {\n        vertical-align: top;\n    }\n\n    .dataframe thead th {\n        text-align: right;\n    }\n</style>\n<table border=\"1\" class=\"dataframe\">\n  <thead>\n    <tr style=\"text-align: right;\">\n      <th></th>\n      <th>A厂</th>\n      <th>B厂</th>\n      <th>year</th>\n      <th>month</th>\n      <th>date</th>\n      <th>sum</th>\n      <th>frac_a</th>\n      <th>frac_b</th>\n      <th>A厂</th>\n      <th>B厂</th>\n      <th>year</th>\n      <th>month</th>\n      <th>date</th>\n      <th>sum</th>\n      <th>frac_a</th>\n      <th>frac_b</th>\n    </tr>\n  </thead>\n  <tbody>\n    <tr>\n      <th>0</th>\n      <td>200692.0</td>\n      <td>189490.0</td>\n      <td>1</td>\n      <td>2018</td>\n      <td>1</td>\n      <td>390182.0</td>\n      <td>0.514355</td>\n      <td>0.485645</td>\n      <td>291977.094734</td>\n      <td>203717.476400</td>\n      <td>11</td>\n      <td>2020</td>\n      <td>1</td>\n      <td>495694.571134</td>\n      <td>0.589026</td>\n      <td>0.410974</td>\n    </tr>\n    <tr>\n      <th>1</th>\n      <td>218365.0</td>\n      <td>211147.0</td>\n      <td>1</td>\n      <td>2018</td>\n      <td>2</td>\n      <td>429512.0</td>\n      <td>0.508403</td>\n      <td>0.491597</td>\n      <td>291979.053666</td>\n      <td>203718.602221</td>\n      <td>11</td>\n      <td>2020</td>\n      <td>2</td>\n      <td>495697.655887</td>\n      <td>0.589026</td>\n      <td>0.410974</td>\n    </tr>\n    <tr>\n      <th>2</th>\n      <td>224501.0</td>\n      <td>217767.0</td>\n      <td>1</td>\n      <td>2018</td>\n      <td>3</td>\n      <td>442268.0</td>\n      <td>0.507613</td>\n      <td>0.492387</td>\n      <td>291981.012598</td>\n      <td>203719.728042</td>\n      <td>11</td>\n      <td>2020</td>\n      <td>3</td>\n      <td>495700.740640</td>\n      <td>0.589027</td>\n      <td>0.410973</td>\n    </tr>\n    <tr>\n      <th>3</th>\n      <td>216431.0</td>\n      <td>212636.0</td>\n      <td>1</td>\n      <td>2018</td>\n      <td>4</td>\n      <td>429067.0</td>\n      <td>0.504422</td>\n      <td>0.495578</td>\n      <td>291982.971531</td>\n      <td>203720.853862</td>\n      <td>11</td>\n      <td>2020</td>\n      <td>4</td>\n      <td>495703.825393</td>\n      <td>0.589027</td>\n      <td>0.410973</td>\n    </tr>\n    <tr>\n      <th>4</th>\n      <td>200447.0</td>\n      <td>209427.0</td>\n      <td>1</td>\n      <td>2018</td>\n      <td>5</td>\n      <td>409874.0</td>\n      <td>0.489045</td>\n      <td>0.510955</td>\n      <td>291984.930463</td>\n      <td>203721.979683</td>\n      <td>11</td>\n      <td>2020</td>\n      <td>5</td>\n      <td>495706.910146</td>\n      <td>0.589027</td>\n      <td>0.410973</td>\n    </tr>\n  </tbody>\n</table>\n</div>"
     },
     "metadata": {},
     "execution_count": 31
    }
   ],
   "source": [
    "pd.concat([train.head(), tests.head()], axis = 1)"
   ]
  },
  {
   "cell_type": "code",
   "execution_count": 12,
   "metadata": {},
   "outputs": [
    {
     "output_type": "execute_result",
     "data": {
      "text/plain": [
       "            A厂  year  month  date       sum    frac_a    frac_b\n",
       "0     200692.0     1   2018     1  390182.0  0.514355  0.485645\n",
       "1     218365.0     1   2018     2  429512.0  0.508403  0.491597\n",
       "2     224501.0     1   2018     3  442268.0  0.507613  0.492387\n",
       "3     216431.0     1   2018     4  429067.0  0.504422  0.495578\n",
       "4     200447.0     1   2018     5  409874.0  0.489045  0.510955\n",
       "...        ...   ...    ...   ...       ...       ...       ...\n",
       "1030  281198.0    10   2020    27  522909.0  0.537757  0.462243\n",
       "1031  275598.0    10   2020    28  515879.0  0.534230  0.465770\n",
       "1032  268544.0    10   2020    29  506010.0  0.530709  0.469291\n",
       "1033  285484.0    10   2020    30  523095.0  0.545759  0.454241\n",
       "1034  275130.0    10   2020    31  511284.0  0.538116  0.461884\n",
       "\n",
       "[1035 rows x 7 columns]"
      ],
      "text/html": "<div>\n<style scoped>\n    .dataframe tbody tr th:only-of-type {\n        vertical-align: middle;\n    }\n\n    .dataframe tbody tr th {\n        vertical-align: top;\n    }\n\n    .dataframe thead th {\n        text-align: right;\n    }\n</style>\n<table border=\"1\" class=\"dataframe\">\n  <thead>\n    <tr style=\"text-align: right;\">\n      <th></th>\n      <th>A厂</th>\n      <th>year</th>\n      <th>month</th>\n      <th>date</th>\n      <th>sum</th>\n      <th>frac_a</th>\n      <th>frac_b</th>\n    </tr>\n  </thead>\n  <tbody>\n    <tr>\n      <th>0</th>\n      <td>200692.0</td>\n      <td>1</td>\n      <td>2018</td>\n      <td>1</td>\n      <td>390182.0</td>\n      <td>0.514355</td>\n      <td>0.485645</td>\n    </tr>\n    <tr>\n      <th>1</th>\n      <td>218365.0</td>\n      <td>1</td>\n      <td>2018</td>\n      <td>2</td>\n      <td>429512.0</td>\n      <td>0.508403</td>\n      <td>0.491597</td>\n    </tr>\n    <tr>\n      <th>2</th>\n      <td>224501.0</td>\n      <td>1</td>\n      <td>2018</td>\n      <td>3</td>\n      <td>442268.0</td>\n      <td>0.507613</td>\n      <td>0.492387</td>\n    </tr>\n    <tr>\n      <th>3</th>\n      <td>216431.0</td>\n      <td>1</td>\n      <td>2018</td>\n      <td>4</td>\n      <td>429067.0</td>\n      <td>0.504422</td>\n      <td>0.495578</td>\n    </tr>\n    <tr>\n      <th>4</th>\n      <td>200447.0</td>\n      <td>1</td>\n      <td>2018</td>\n      <td>5</td>\n      <td>409874.0</td>\n      <td>0.489045</td>\n      <td>0.510955</td>\n    </tr>\n    <tr>\n      <th>...</th>\n      <td>...</td>\n      <td>...</td>\n      <td>...</td>\n      <td>...</td>\n      <td>...</td>\n      <td>...</td>\n      <td>...</td>\n    </tr>\n    <tr>\n      <th>1030</th>\n      <td>281198.0</td>\n      <td>10</td>\n      <td>2020</td>\n      <td>27</td>\n      <td>522909.0</td>\n      <td>0.537757</td>\n      <td>0.462243</td>\n    </tr>\n    <tr>\n      <th>1031</th>\n      <td>275598.0</td>\n      <td>10</td>\n      <td>2020</td>\n      <td>28</td>\n      <td>515879.0</td>\n      <td>0.534230</td>\n      <td>0.465770</td>\n    </tr>\n    <tr>\n      <th>1032</th>\n      <td>268544.0</td>\n      <td>10</td>\n      <td>2020</td>\n      <td>29</td>\n      <td>506010.0</td>\n      <td>0.530709</td>\n      <td>0.469291</td>\n    </tr>\n    <tr>\n      <th>1033</th>\n      <td>285484.0</td>\n      <td>10</td>\n      <td>2020</td>\n      <td>30</td>\n      <td>523095.0</td>\n      <td>0.545759</td>\n      <td>0.454241</td>\n    </tr>\n    <tr>\n      <th>1034</th>\n      <td>275130.0</td>\n      <td>10</td>\n      <td>2020</td>\n      <td>31</td>\n      <td>511284.0</td>\n      <td>0.538116</td>\n      <td>0.461884</td>\n    </tr>\n  </tbody>\n</table>\n<p>1035 rows × 7 columns</p>\n</div>"
     },
     "metadata": {},
     "execution_count": 12
    }
   ],
   "source": [
    "train.drop('B厂', axis=1)"
   ]
  },
  {
   "cell_type": "code",
   "execution_count": 5,
   "metadata": {},
   "outputs": [],
   "source": [
    "train3 = pd.concat([train.drop('B厂', axis=1), train.drop('A厂', axis=1)], axis = 0, ignore_index=True)"
   ]
  },
  {
   "cell_type": "code",
   "execution_count": 6,
   "metadata": {},
   "outputs": [],
   "source": [
    "train3.iloc[:1035,7] = False\n",
    "train3.iloc[1035:,0] = train3.iloc[1035:,7]\n",
    "train3.iloc[1035:,7] = True"
   ]
  },
  {
   "cell_type": "code",
   "execution_count": 8,
   "metadata": {},
   "outputs": [
    {
     "output_type": "execute_result",
     "data": {
      "text/plain": [
       "            A厂  year  month  date       sum    frac_a    frac_b     B厂\n",
       "0     200692.0  2018      1     1  390182.0  0.514355  0.485645  False\n",
       "1     218365.0  2018      1     2  429512.0  0.508403  0.491597  False\n",
       "2     224501.0  2018      1     3  442268.0  0.507613  0.492387  False\n",
       "3     216431.0  2018      1     4  429067.0  0.504422  0.495578  False\n",
       "4     200447.0  2018      1     5  409874.0  0.489045  0.510955  False\n",
       "...        ...   ...    ...   ...       ...       ...       ...    ...\n",
       "2065  241711.0  2020     10    27  522909.0  0.537757  0.462243   True\n",
       "2066  240281.0  2020     10    28  515879.0  0.534230  0.465770   True\n",
       "2067  237466.0  2020     10    29  506010.0  0.530709  0.469291   True\n",
       "2068  237611.0  2020     10    30  523095.0  0.545759  0.454241   True\n",
       "2069  236154.0  2020     10    31  511284.0  0.538116  0.461884   True\n",
       "\n",
       "[2070 rows x 8 columns]"
      ],
      "text/html": "<div>\n<style scoped>\n    .dataframe tbody tr th:only-of-type {\n        vertical-align: middle;\n    }\n\n    .dataframe tbody tr th {\n        vertical-align: top;\n    }\n\n    .dataframe thead th {\n        text-align: right;\n    }\n</style>\n<table border=\"1\" class=\"dataframe\">\n  <thead>\n    <tr style=\"text-align: right;\">\n      <th></th>\n      <th>A厂</th>\n      <th>year</th>\n      <th>month</th>\n      <th>date</th>\n      <th>sum</th>\n      <th>frac_a</th>\n      <th>frac_b</th>\n      <th>B厂</th>\n    </tr>\n  </thead>\n  <tbody>\n    <tr>\n      <th>0</th>\n      <td>200692.0</td>\n      <td>2018</td>\n      <td>1</td>\n      <td>1</td>\n      <td>390182.0</td>\n      <td>0.514355</td>\n      <td>0.485645</td>\n      <td>False</td>\n    </tr>\n    <tr>\n      <th>1</th>\n      <td>218365.0</td>\n      <td>2018</td>\n      <td>1</td>\n      <td>2</td>\n      <td>429512.0</td>\n      <td>0.508403</td>\n      <td>0.491597</td>\n      <td>False</td>\n    </tr>\n    <tr>\n      <th>2</th>\n      <td>224501.0</td>\n      <td>2018</td>\n      <td>1</td>\n      <td>3</td>\n      <td>442268.0</td>\n      <td>0.507613</td>\n      <td>0.492387</td>\n      <td>False</td>\n    </tr>\n    <tr>\n      <th>3</th>\n      <td>216431.0</td>\n      <td>2018</td>\n      <td>1</td>\n      <td>4</td>\n      <td>429067.0</td>\n      <td>0.504422</td>\n      <td>0.495578</td>\n      <td>False</td>\n    </tr>\n    <tr>\n      <th>4</th>\n      <td>200447.0</td>\n      <td>2018</td>\n      <td>1</td>\n      <td>5</td>\n      <td>409874.0</td>\n      <td>0.489045</td>\n      <td>0.510955</td>\n      <td>False</td>\n    </tr>\n    <tr>\n      <th>...</th>\n      <td>...</td>\n      <td>...</td>\n      <td>...</td>\n      <td>...</td>\n      <td>...</td>\n      <td>...</td>\n      <td>...</td>\n      <td>...</td>\n    </tr>\n    <tr>\n      <th>2065</th>\n      <td>241711.0</td>\n      <td>2020</td>\n      <td>10</td>\n      <td>27</td>\n      <td>522909.0</td>\n      <td>0.537757</td>\n      <td>0.462243</td>\n      <td>True</td>\n    </tr>\n    <tr>\n      <th>2066</th>\n      <td>240281.0</td>\n      <td>2020</td>\n      <td>10</td>\n      <td>28</td>\n      <td>515879.0</td>\n      <td>0.534230</td>\n      <td>0.465770</td>\n      <td>True</td>\n    </tr>\n    <tr>\n      <th>2067</th>\n      <td>237466.0</td>\n      <td>2020</td>\n      <td>10</td>\n      <td>29</td>\n      <td>506010.0</td>\n      <td>0.530709</td>\n      <td>0.469291</td>\n      <td>True</td>\n    </tr>\n    <tr>\n      <th>2068</th>\n      <td>237611.0</td>\n      <td>2020</td>\n      <td>10</td>\n      <td>30</td>\n      <td>523095.0</td>\n      <td>0.545759</td>\n      <td>0.454241</td>\n      <td>True</td>\n    </tr>\n    <tr>\n      <th>2069</th>\n      <td>236154.0</td>\n      <td>2020</td>\n      <td>10</td>\n      <td>31</td>\n      <td>511284.0</td>\n      <td>0.538116</td>\n      <td>0.461884</td>\n      <td>True</td>\n    </tr>\n  </tbody>\n</table>\n<p>2070 rows × 8 columns</p>\n</div>"
     },
     "metadata": {},
     "execution_count": 8
    }
   ],
   "source": [
    "train3"
   ]
  },
  {
   "cell_type": "code",
   "execution_count": 7,
   "metadata": {},
   "outputs": [],
   "source": [
    "train3.to_csv('./data/full_train.csv', index = False)"
   ]
  },
  {
   "cell_type": "code",
   "execution_count": 2,
   "metadata": {},
   "outputs": [
    {
     "output_type": "execute_result",
     "data": {
      "text/plain": [
       "{'ELECTRON_RUN_AS_NODE': '1',\n",
       " 'USER': 'fyenne',\n",
       " '__CFBundleIdentifier': 'com.microsoft.VSCode',\n",
       " 'COMMAND_MODE': 'unix2003',\n",
       " 'LOGNAME': 'fyenne',\n",
       " 'PATH': '/opt/homebrew/bin:/Users/fyenne/anaconda3/bin:/Users/fyenne/anaconda3/condabin:/Users/fyenne/.pyenv/plugins/pyenv-virtualenv/shims:/Users/fyenne/.pyenv/shims:/Users/fyenne/.pyenv/plugins/pyenv-virtualenv/shims:/Library/Frameworks/Python.framework/Versions/3.9/bin:/usr/local/bin:/usr/bin:/bin:/usr/sbin:/sbin:/Users/fyenne/anaconda3/bin/python:/Users/fyenne/python_online/chromedriver:/Library/TeX/texbin:/usr/local/go/bin:/usr/local/aria2/bin:/usr/local/share/dotnet:/opt/X11/bin:~/.dotnet/tools',\n",
       " 'SSH_AUTH_SOCK': '/private/tmp/com.apple.launchd.zbLQxgWwzT/Listeners',\n",
       " 'SHELL': '/bin/zsh',\n",
       " 'HOME': '/Users/fyenne',\n",
       " '__CF_USER_TEXT_ENCODING': '0x1F5:0x0:0x0',\n",
       " 'TMPDIR': '/var/folders/3g/xmfmfdws08g7_rv6hwgr8dpw0000gn/T/',\n",
       " 'XPC_SERVICE_NAME': 'application.com.microsoft.VSCode.12993742.12993748',\n",
       " 'XPC_FLAGS': '0x0',\n",
       " 'ORIGINAL_XDG_CURRENT_DESKTOP': 'undefined',\n",
       " 'VSCODE_CWD': '/',\n",
       " 'VSCODE_NLS_CONFIG': '{\"locale\":\"en-us\",\"availableLanguages\":{},\"_languagePackSupport\":true}',\n",
       " 'VSCODE_NODE_CACHED_DATA_DIR': '/Users/fyenne/Library/Application Support/Code/CachedData/3c4e3df9e89829dce27b7b5c24508306b151f30d',\n",
       " 'VSCODE_IPC_HOOK': '/Users/fyenne/Library/Application Support/Code/1.55.2-main.sock',\n",
       " 'VSCODE_PID': '1609',\n",
       " 'SHLVL': '0',\n",
       " 'PWD': '/',\n",
       " 'OLDPWD': '/',\n",
       " 'PYENV_SHELL': 'zsh',\n",
       " 'CONDA_EXE': '/Users/fyenne/miniforge3/bin/conda',\n",
       " '_CE_M': '',\n",
       " '_CE_CONDA': '',\n",
       " 'CONDA_PYTHON_EXE': '/Users/fyenne/miniforge3/bin/python',\n",
       " 'CONDA_SHLVL': '1',\n",
       " 'CONDA_PREFIX': '/Users/fyenne/miniforge3',\n",
       " 'CONDA_DEFAULT_ENV': 'base',\n",
       " 'CONDA_PROMPT_MODIFIER': '(base) ',\n",
       " '_': '/Applications/Visual Studio Code.app/Contents/MacOS/Electron',\n",
       " 'VSCODE_AMD_ENTRYPOINT': 'vs/workbench/services/extensions/node/extensionHostProcess',\n",
       " 'VSCODE_PIPE_LOGGING': 'true',\n",
       " 'VSCODE_VERBOSE_LOGGING': 'true',\n",
       " 'VSCODE_LOG_NATIVE': 'false',\n",
       " 'VSCODE_IPC_HOOK_EXTHOST': '/var/folders/3g/xmfmfdws08g7_rv6hwgr8dpw0000gn/T/vscode-ipc-68d86b53-649f-42d7-8b0a-b88b91e80b35.sock',\n",
       " 'VSCODE_HANDLES_UNCAUGHT_ERRORS': 'true',\n",
       " 'VSCODE_LOG_STACK': 'false',\n",
       " 'APPLICATION_INSIGHTS_NO_DIAGNOSTIC_CHANNEL': 'true',\n",
       " 'PYTHONPATH': '/Users/fyenne/.vscode/extensions/ms-toolsai.jupyter-2021.5.745244803/pythonFiles:/Users/fyenne/.vscode/extensions/ms-toolsai.jupyter-2021.5.745244803/pythonFiles/lib/python',\n",
       " 'PYTHONUNBUFFERED': '1',\n",
       " 'PYTHONIOENCODING': 'utf-8',\n",
       " 'LC_CTYPE': 'UTF-8',\n",
       " 'JPY_PARENT_PID': '15016',\n",
       " 'TERM': 'xterm-color',\n",
       " 'CLICOLOR': '1',\n",
       " 'PAGER': 'cat',\n",
       " 'GIT_PAGER': 'cat',\n",
       " 'MPLBACKEND': 'module://ipykernel.pylab.backend_inline',\n",
       " 'KMP_DUPLICATE_LIB_OK': 'True',\n",
       " 'KMP_INIT_AT_FORK': 'FALSE'}"
      ]
     },
     "metadata": {},
     "execution_count": 2
    }
   ],
   "source": [
    "%env"
   ]
  },
  {
   "cell_type": "code",
   "execution_count": 19,
   "metadata": {},
   "outputs": [
    {
     "output_type": "stream",
     "name": "stdout",
     "text": [
      "env: PATH=/Users/fyenne/miniforge3/bin:/usr/local/bin:/usr/bin:/bin:/usr/sbin:/sbin:/usr/libexec/java_home -v 14.0\n"
     ]
    }
   ],
   "source": [
    "%env PATH=/Users/fyenne/miniforge3/bin:/usr/local/bin:/usr/bin:/bin:/usr/sbin:/sbin:/usr/libexec/java_home -v 14.0"
   ]
  },
  {
   "cell_type": "code",
   "execution_count": 6,
   "metadata": {},
   "outputs": [
    {
     "output_type": "stream",
     "name": "stdout",
     "text": [
      "openjdk version \"16\" 2021-03-16\nOpenJDK Runtime Environment (build 16+14)\nOpenJDK 64-Bit Server VM (build 16+14, mixed mode)\n"
     ]
    }
   ],
   "source": [
    "!java -version"
   ]
  },
  {
   "cell_type": "code",
   "execution_count": 21,
   "metadata": {},
   "outputs": [
    {
     "output_type": "stream",
     "name": "stdout",
     "text": [
      "/Users/fyenne/miniforge3/bin/python\n"
     ]
    }
   ],
   "source": [
    "!which python"
   ]
  },
  {
   "cell_type": "code",
   "execution_count": 5,
   "metadata": {},
   "outputs": [],
   "source": [
    "!export JAVA_HOME=`/usr/libexec/java_home -v 14.0.2`"
   ]
  },
  {
   "cell_type": "code",
   "execution_count": 4,
   "metadata": {},
   "outputs": [
    {
     "output_type": "stream",
     "name": "stdout",
     "text": [
      "Checking whether there is an H2O instance running at http://localhost:54321 ..... not found.\n",
      "Attempting to start a local H2O server...\n",
      "  Java Version: openjdk version \"16\" 2021-03-16; OpenJDK Runtime Environment (build 16+14); OpenJDK 64-Bit Server VM (build 16+14, mixed mode)\n",
      "  Starting server from /Users/fyenne/miniforge3/envs/siming/lib/python3.8/site-packages/h2o/backend/bin/h2o.jar\n",
      "  Ice root: /var/folders/3g/xmfmfdws08g7_rv6hwgr8dpw0000gn/T/tmpela4373v\n",
      "  JVM stdout: /var/folders/3g/xmfmfdws08g7_rv6hwgr8dpw0000gn/T/tmpela4373v/h2o_fyenne_started_from_python.out\n",
      "  JVM stderr: /var/folders/3g/xmfmfdws08g7_rv6hwgr8dpw0000gn/T/tmpela4373v/h2o_fyenne_started_from_python.err\n"
     ]
    },
    {
     "output_type": "error",
     "ename": "H2OServerError",
     "evalue": "Server process terminated because of unsupported Java version: Only Java versions 8-14 are supported, system version is 16\n",
     "traceback": [
      "\u001b[0;31m---------------------------------------------------------------------------\u001b[0m",
      "\u001b[0;31mH2OConnectionError\u001b[0m                        Traceback (most recent call last)",
      "\u001b[0;32m~/miniforge3/envs/siming/lib/python3.8/site-packages/h2o/h2o.py\u001b[0m in \u001b[0;36minit\u001b[0;34m(url, ip, port, name, https, cacert, insecure, username, password, cookies, proxy, start_h2o, nthreads, ice_root, log_dir, log_level, max_log_file_size, enable_assertions, max_mem_size, min_mem_size, strict_version_check, ignore_config, extra_classpath, jvm_custom_args, bind_to_localhost, **kwargs)\u001b[0m\n\u001b[1;32m    284\u001b[0m     \u001b[0;32mtry\u001b[0m\u001b[0;34m:\u001b[0m\u001b[0;34m\u001b[0m\u001b[0;34m\u001b[0m\u001b[0m\n\u001b[0;32m--> 285\u001b[0;31m         h2oconn = H2OConnection.open(url=url, ip=ip, port=port, name=name, https=https,\n\u001b[0m\u001b[1;32m    286\u001b[0m                                      \u001b[0mverify_ssl_certificates\u001b[0m\u001b[0;34m=\u001b[0m\u001b[0mverify_ssl_certificates\u001b[0m\u001b[0;34m,\u001b[0m \u001b[0mcacert\u001b[0m\u001b[0;34m=\u001b[0m\u001b[0mcacert\u001b[0m\u001b[0;34m,\u001b[0m\u001b[0;34m\u001b[0m\u001b[0;34m\u001b[0m\u001b[0m\n",
      "\u001b[0;32m~/miniforge3/envs/siming/lib/python3.8/site-packages/h2o/backend/connection.py\u001b[0m in \u001b[0;36mopen\u001b[0;34m(server, url, ip, port, name, https, auth, verify_ssl_certificates, cacert, proxy, cookies, verbose, _msgs)\u001b[0m\n\u001b[1;32m    383\u001b[0m             \u001b[0mconn\u001b[0m\u001b[0;34m.\u001b[0m\u001b[0m_timeout\u001b[0m \u001b[0;34m=\u001b[0m \u001b[0;36m3.0\u001b[0m\u001b[0;34m\u001b[0m\u001b[0;34m\u001b[0m\u001b[0m\n\u001b[0;32m--> 384\u001b[0;31m             \u001b[0mconn\u001b[0m\u001b[0;34m.\u001b[0m\u001b[0m_cluster\u001b[0m \u001b[0;34m=\u001b[0m \u001b[0mconn\u001b[0m\u001b[0;34m.\u001b[0m\u001b[0m_test_connection\u001b[0m\u001b[0;34m(\u001b[0m\u001b[0mretries\u001b[0m\u001b[0;34m,\u001b[0m \u001b[0mmessages\u001b[0m\u001b[0;34m=\u001b[0m\u001b[0m_msgs\u001b[0m\u001b[0;34m)\u001b[0m\u001b[0;34m\u001b[0m\u001b[0;34m\u001b[0m\u001b[0m\n\u001b[0m\u001b[1;32m    385\u001b[0m             \u001b[0;31m# If a server is unable to respond within 1s, it should be considered a bug. However we disable this\u001b[0m\u001b[0;34m\u001b[0m\u001b[0;34m\u001b[0m\u001b[0;34m\u001b[0m\u001b[0m\n",
      "\u001b[0;32m~/miniforge3/envs/siming/lib/python3.8/site-packages/h2o/backend/connection.py\u001b[0m in \u001b[0;36m_test_connection\u001b[0;34m(self, max_retries, messages)\u001b[0m\n\u001b[1;32m    682\u001b[0m         \u001b[0;32melse\u001b[0m\u001b[0;34m:\u001b[0m\u001b[0;34m\u001b[0m\u001b[0;34m\u001b[0m\u001b[0m\n\u001b[0;32m--> 683\u001b[0;31m             raise H2OConnectionError(\"Could not establish link to the H2O cloud %s after %d retries\\n%s\"\n\u001b[0m\u001b[1;32m    684\u001b[0m                                      % (self._base_url, max_retries, \"\\n\".join(errors)))\n",
      "\u001b[0;31mH2OConnectionError\u001b[0m: Could not establish link to the H2O cloud http://localhost:54321 after 5 retries\n[59:01.07] H2OConnectionError: Unexpected HTTP error: HTTPConnectionPool(host='localhost', port=54321): Max retries exceeded with url: /3/Cloud (Caused by NewConnectionError('<urllib3.connection.HTTPConnection object at 0x11c98dfa0>: Failed to establish a new connection: [Errno 61] Connection refused'))\n[59:01.27] H2OConnectionError: Unexpected HTTP error: HTTPConnectionPool(host='localhost', port=54321): Max retries exceeded with url: /3/Cloud (Caused by NewConnectionError('<urllib3.connection.HTTPConnection object at 0x11c9ac7c0>: Failed to establish a new connection: [Errno 61] Connection refused'))\n[59:01.47] H2OConnectionError: Unexpected HTTP error: HTTPConnectionPool(host='localhost', port=54321): Max retries exceeded with url: /3/Cloud (Caused by NewConnectionError('<urllib3.connection.HTTPConnection object at 0x11c9ac5e0>: Failed to establish a new connection: [Errno 61] Connection refused'))\n[59:01.67] H2OConnectionError: Unexpected HTTP error: HTTPConnectionPool(host='localhost', port=54321): Max retries exceeded with url: /3/Cloud (Caused by NewConnectionError('<urllib3.connection.HTTPConnection object at 0x11c9acfd0>: Failed to establish a new connection: [Errno 61] Connection refused'))\n[59:01.88] H2OConnectionError: Unexpected HTTP error: HTTPConnectionPool(host='localhost', port=54321): Max retries exceeded with url: /3/Cloud (Caused by NewConnectionError('<urllib3.connection.HTTPConnection object at 0x11c9bd820>: Failed to establish a new connection: [Errno 61] Connection refused'))",
      "\nDuring handling of the above exception, another exception occurred:\n",
      "\u001b[0;31mH2OServerError\u001b[0m                            Traceback (most recent call last)",
      "\u001b[0;32m<ipython-input-4-d2b124bbbc6f>\u001b[0m in \u001b[0;36m<module>\u001b[0;34m\u001b[0m\n\u001b[1;32m      1\u001b[0m \u001b[0;32mimport\u001b[0m \u001b[0mh2o\u001b[0m\u001b[0;34m\u001b[0m\u001b[0;34m\u001b[0m\u001b[0m\n\u001b[0;32m----> 2\u001b[0;31m \u001b[0mh2o\u001b[0m\u001b[0;34m.\u001b[0m\u001b[0minit\u001b[0m\u001b[0;34m(\u001b[0m\u001b[0mnthreads\u001b[0m\u001b[0;34m=\u001b[0m\u001b[0;34m-\u001b[0m\u001b[0;36m1\u001b[0m\u001b[0;34m,\u001b[0m \u001b[0mmax_mem_size\u001b[0m \u001b[0;34m=\u001b[0m \u001b[0;34m\"8G\"\u001b[0m\u001b[0;34m)\u001b[0m\u001b[0;34m\u001b[0m\u001b[0;34m\u001b[0m\u001b[0m\n\u001b[0m",
      "\u001b[0;32m~/miniforge3/envs/siming/lib/python3.8/site-packages/h2o/h2o.py\u001b[0m in \u001b[0;36minit\u001b[0;34m(url, ip, port, name, https, cacert, insecure, username, password, cookies, proxy, start_h2o, nthreads, ice_root, log_dir, log_level, max_log_file_size, enable_assertions, max_mem_size, min_mem_size, strict_version_check, ignore_config, extra_classpath, jvm_custom_args, bind_to_localhost, **kwargs)\u001b[0m\n\u001b[1;32m    299\u001b[0m                                      \u001b[0;34m' instance of H2O with https manually '\u001b[0m\u001b[0;34m\u001b[0m\u001b[0;34m\u001b[0m\u001b[0m\n\u001b[1;32m    300\u001b[0m                                      '(https://docs.h2o.ai/h2o/latest-stable/h2o-docs/welcome.html#new-user-quick-start).')\n\u001b[0;32m--> 301\u001b[0;31m         hs = H2OLocalServer.start(nthreads=nthreads, enable_assertions=enable_assertions, max_mem_size=mmax,\n\u001b[0m\u001b[1;32m    302\u001b[0m                                   \u001b[0mmin_mem_size\u001b[0m\u001b[0;34m=\u001b[0m\u001b[0mmmin\u001b[0m\u001b[0;34m,\u001b[0m \u001b[0mice_root\u001b[0m\u001b[0;34m=\u001b[0m\u001b[0mice_root\u001b[0m\u001b[0;34m,\u001b[0m \u001b[0mlog_dir\u001b[0m\u001b[0;34m=\u001b[0m\u001b[0mlog_dir\u001b[0m\u001b[0;34m,\u001b[0m \u001b[0mlog_level\u001b[0m\u001b[0;34m=\u001b[0m\u001b[0mlog_level\u001b[0m\u001b[0;34m,\u001b[0m\u001b[0;34m\u001b[0m\u001b[0;34m\u001b[0m\u001b[0m\n\u001b[1;32m    303\u001b[0m                                   \u001b[0mmax_log_file_size\u001b[0m\u001b[0;34m=\u001b[0m\u001b[0mmax_log_file_size\u001b[0m\u001b[0;34m,\u001b[0m \u001b[0mport\u001b[0m\u001b[0;34m=\u001b[0m\u001b[0mport\u001b[0m\u001b[0;34m,\u001b[0m \u001b[0mname\u001b[0m\u001b[0;34m=\u001b[0m\u001b[0mname\u001b[0m\u001b[0;34m,\u001b[0m\u001b[0;34m\u001b[0m\u001b[0;34m\u001b[0m\u001b[0m\n",
      "\u001b[0;32m~/miniforge3/envs/siming/lib/python3.8/site-packages/h2o/backend/server.py\u001b[0m in \u001b[0;36mstart\u001b[0;34m(jar_path, nthreads, enable_assertions, max_mem_size, min_mem_size, ice_root, log_dir, log_level, max_log_file_size, port, name, extra_classpath, verbose, jvm_custom_args, bind_to_localhost)\u001b[0m\n\u001b[1;32m    139\u001b[0m \u001b[0;34m\u001b[0m\u001b[0m\n\u001b[1;32m    140\u001b[0m         \u001b[0;32mif\u001b[0m \u001b[0mverbose\u001b[0m\u001b[0;34m:\u001b[0m \u001b[0mprint\u001b[0m\u001b[0;34m(\u001b[0m\u001b[0;34m\"Attempting to start a local H2O server...\"\u001b[0m\u001b[0;34m)\u001b[0m\u001b[0;34m\u001b[0m\u001b[0;34m\u001b[0m\u001b[0m\n\u001b[0;32m--> 141\u001b[0;31m         hs._launch_server(port=port, baseport=baseport, nthreads=int(nthreads), ea=enable_assertions,\n\u001b[0m\u001b[1;32m    142\u001b[0m                           \u001b[0mmmax\u001b[0m\u001b[0;34m=\u001b[0m\u001b[0mmax_mem_size\u001b[0m\u001b[0;34m,\u001b[0m \u001b[0mmmin\u001b[0m\u001b[0;34m=\u001b[0m\u001b[0mmin_mem_size\u001b[0m\u001b[0;34m,\u001b[0m \u001b[0mjvm_custom_args\u001b[0m\u001b[0;34m=\u001b[0m\u001b[0mjvm_custom_args\u001b[0m\u001b[0;34m,\u001b[0m\u001b[0;34m\u001b[0m\u001b[0;34m\u001b[0m\u001b[0m\n\u001b[1;32m    143\u001b[0m                           bind_to_localhost=bind_to_localhost, log_dir=log_dir, log_level=log_level, max_log_file_size=max_log_file_size)\n",
      "\u001b[0;32m~/miniforge3/envs/siming/lib/python3.8/site-packages/h2o/backend/server.py\u001b[0m in \u001b[0;36m_launch_server\u001b[0;34m(self, port, baseport, mmax, mmin, ea, nthreads, jvm_custom_args, bind_to_localhost, log_dir, log_level, max_log_file_size)\u001b[0m\n\u001b[1;32m    360\u001b[0m                 \u001b[0;32melse\u001b[0m\u001b[0;34m:\u001b[0m\u001b[0;34m\u001b[0m\u001b[0;34m\u001b[0m\u001b[0m\n\u001b[1;32m    361\u001b[0m                     \u001b[0merror_message\u001b[0m \u001b[0;34m+=\u001b[0m \u001b[0;34m\".\"\u001b[0m\u001b[0;34m\u001b[0m\u001b[0;34m\u001b[0m\u001b[0m\n\u001b[0;32m--> 362\u001b[0;31m                 \u001b[0;32mraise\u001b[0m \u001b[0mH2OServerError\u001b[0m\u001b[0;34m(\u001b[0m\u001b[0merror_message\u001b[0m\u001b[0;34m)\u001b[0m\u001b[0;34m\u001b[0m\u001b[0;34m\u001b[0m\u001b[0m\n\u001b[0m\u001b[1;32m    363\u001b[0m             \u001b[0mret\u001b[0m \u001b[0;34m=\u001b[0m \u001b[0mself\u001b[0m\u001b[0;34m.\u001b[0m\u001b[0m_get_server_info_from_logs\u001b[0m\u001b[0;34m(\u001b[0m\u001b[0;34m)\u001b[0m\u001b[0;34m\u001b[0m\u001b[0;34m\u001b[0m\u001b[0m\n\u001b[1;32m    364\u001b[0m             \u001b[0;32mif\u001b[0m \u001b[0mret\u001b[0m\u001b[0;34m:\u001b[0m\u001b[0;34m\u001b[0m\u001b[0;34m\u001b[0m\u001b[0m\n",
      "\u001b[0;31mH2OServerError\u001b[0m: Server process terminated because of unsupported Java version: Only Java versions 8-14 are supported, system version is 16\n"
     ]
    }
   ],
   "source": [
    "import h2o\n",
    "h2o.init(nthreads=-1, max_mem_size = \"8G\")"
   ]
  },
  {
   "cell_type": "code",
   "execution_count": 7,
   "metadata": {},
   "outputs": [],
   "source": [
    "import time"
   ]
  },
  {
   "cell_type": "code",
   "execution_count": 54,
   "metadata": {},
   "outputs": [],
   "source": [
    "kag = pd.read_csv('/Users/fyenne/Downloads/booooks/semester5/pythonAAE/open_data_com/data/kag.csv')"
   ]
  },
  {
   "cell_type": "code",
   "execution_count": 55,
   "metadata": {},
   "outputs": [],
   "source": [
    "# kag[:151],kag[151:]"
   ]
  },
  {
   "cell_type": "code",
   "execution_count": 56,
   "metadata": {},
   "outputs": [],
   "source": [
    "bssub['A厂'] = kag[:151]\n",
    "bssub['B厂'] = kag[151:]"
   ]
  },
  {
   "cell_type": "code",
   "execution_count": 57,
   "metadata": {},
   "outputs": [
    {
     "output_type": "execute_result",
     "data": {
      "text/plain": [
       "0      176371.60\n",
       "1      173606.33\n",
       "2      169540.97\n",
       "3      180147.70\n",
       "4      181904.92\n",
       "         ...    \n",
       "146    157364.86\n",
       "147    153134.97\n",
       "148    153084.25\n",
       "149    152379.23\n",
       "150    158839.22\n",
       "Name: B厂, Length: 151, dtype: float64"
      ]
     },
     "metadata": {},
     "execution_count": 57
    }
   ],
   "source": [
    "bssub['B厂'] = np.array(kag[151:]);bssub['B厂']"
   ]
  },
  {
   "cell_type": "code",
   "execution_count": 58,
   "metadata": {},
   "outputs": [],
   "source": [
    "bssub.to_csv('kag_sub.csv', index=False)"
   ]
  },
  {
   "cell_type": "code",
   "execution_count": null,
   "metadata": {},
   "outputs": [],
   "source": []
  }
 ]
}