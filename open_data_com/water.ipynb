{
 "metadata": {
  "language_info": {
   "codemirror_mode": {
    "name": "ipython",
    "version": 3
   },
   "file_extension": ".py",
   "mimetype": "text/x-python",
   "name": "python",
   "nbconvert_exporter": "python",
   "pygments_lexer": "ipython3",
   "version": "3.8.6"
  },
  "orig_nbformat": 2,
  "kernelspec": {
   "name": "python386jvsc74a57bd0ce909994499a62a89f8945d91d57c51a920a5cb8f3e61b9dc99d2a0ea5862498",
   "display_name": "Python 3.8.6 64-bit"
  },
  "metadata": {
   "interpreter": {
    "hash": "ce909994499a62a89f8945d91d57c51a920a5cb8f3e61b9dc99d2a0ea5862498"
   }
  }
 },
 "nbformat": 4,
 "nbformat_minor": 2,
 "cells": [
  {
   "cell_type": "code",
   "execution_count": 4,
   "metadata": {},
   "outputs": [],
   "source": [
    "import pandas as pd\n",
    "import numpy as np\n",
    "from sklearn.linear_model import LogisticRegression\n",
    "import matplotlib.pyplot as plt\n",
    "from sklearn.utils import shuffle\n",
    "from sklearn.model_selection import GridSearchCV"
   ]
  },
  {
   "cell_type": "code",
   "execution_count": 1,
   "metadata": {},
   "outputs": [
    {
     "output_type": "stream",
     "name": "stdout",
     "text": [
      "/Users/fyenne/miniforge3/envs/siming/bin/python\n"
     ]
    }
   ],
   "source": [
    "!which python"
   ]
  },
  {
   "source": [
    "---"
   ],
   "cell_type": "markdown",
   "metadata": {}
  },
  {
   "cell_type": "code",
   "execution_count": 2,
   "metadata": {},
   "outputs": [],
   "source": [
    "path = '/Users/fyenne/Downloads/booooks/semester5/pythonAAE/open_data_com/data'\n",
    "train = pd.read_csv(path+'/train.csv')\n",
    "tests = pd.read_csv(path+'/test.csv')\n",
    "sub = pd.read_csv(path+'/sub.csv')\n",
    "\n",
    "train['year'], train['month'], train['date'] = 0,0,0\n",
    "tests['year'], tests['month'], tests['date'] = 0,0,0\n",
    "train.iloc[:,3:6] = pd.DataFrame([i.split('/') for i in train['日期']])\n",
    "tests.iloc[:,3:6] = pd.DataFrame([i.split('/') for i in tests['日期']])\n",
    "train['sum'] = train['A厂'] + train['B厂']\n",
    "tests['sum'] = tests['A厂'] + tests['B厂']\n",
    "train['frac_a'] = train['A厂']/train['sum']\n",
    "tests['frac_a'] = tests['A厂']/tests['sum']\n",
    "train['frac_b'] = train['B厂']/train['sum']\n",
    "tests['frac_b'] = tests['B厂']/tests['sum']\n",
    "train = train.drop('日期', axis = 1)\n",
    "tests = tests.drop('日期', axis = 1)"
   ]
  },
  {
   "cell_type": "code",
   "execution_count": 3,
   "metadata": {},
   "outputs": [],
   "source": [
    "dif_col = set(train.columns.to_list()) - set(pd.DataFrame(train.describe()).columns.to_list())"
   ]
  },
  {
   "cell_type": "code",
   "execution_count": 4,
   "metadata": {},
   "outputs": [],
   "source": [
    "train['year'], train['month'], train['date'] = [train[i].astype(int) for i in list(dif_col)]\n",
    "tests['year'], tests['month'], tests['date'] = [tests[i].astype(int) for i in list(dif_col)]"
   ]
  },
  {
   "source": [
    "---\n",
    "# baseline"
   ],
   "cell_type": "markdown",
   "metadata": {}
  },
  {
   "cell_type": "code",
   "execution_count": 357,
   "metadata": {},
   "outputs": [],
   "source": [
    "bs_train = train.iloc[:,0:5]\n",
    "bs_tests = tests.iloc[:,2:5]"
   ]
  },
  {
   "cell_type": "code",
   "execution_count": 358,
   "metadata": {},
   "outputs": [],
   "source": [
    "bs_tar = bs_train.iloc[:, 0:2]\n",
    "bs_train = bs_train.iloc[:, 2:]"
   ]
  },
  {
   "cell_type": "code",
   "execution_count": 35,
   "metadata": {},
   "outputs": [],
   "source": [
    "from sklearn.linear_model import Ridge, LinearRegression\n",
    "from sklearn import model_selection\n",
    "cv_split = model_selection.ShuffleSplit(n_splits = 5, test_size = .2, train_size = .8, random_state = 1026529)\n"
   ]
  },
  {
   "cell_type": "code",
   "execution_count": 360,
   "metadata": {},
   "outputs": [
    {
     "output_type": "execute_result",
     "data": {
      "text/plain": [
       "-0.14551133194229993"
      ]
     },
     "metadata": {},
     "execution_count": 360
    }
   ],
   "source": [
    "alg1 = LinearRegression()\n",
    "cv_results_1 = model_selection.cross_validate(alg1, bs_train, bs_tar, cv  = cv_split, scoring='neg_mean_absolute_percentage_error')\n",
    "cv_results_1['test_score'].mean()"
   ]
  },
  {
   "cell_type": "code",
   "execution_count": 361,
   "metadata": {},
   "outputs": [
    {
     "output_type": "execute_result",
     "data": {
      "text/plain": [
       "-0.1455161156470318"
      ]
     },
     "metadata": {},
     "execution_count": 361
    }
   ],
   "source": [
    "alg2 = Ridge()\n",
    "cv_results_2 = model_selection.cross_validate(alg2, bs_train, bs_tar, cv  = cv_split, scoring='neg_mean_absolute_percentage_error')\n",
    "cv_results_2['test_score'].mean()"
   ]
  },
  {
   "cell_type": "code",
   "execution_count": 364,
   "metadata": {},
   "outputs": [],
   "source": [
    "bs_mode=alg2.fit(bs_train, y = bs_tar)"
   ]
  },
  {
   "cell_type": "code",
   "execution_count": 373,
   "metadata": {},
   "outputs": [],
   "source": [
    "sub.iloc[:,1:3] = pd.DataFrame(bs_mode.predict(bs_tests))/100"
   ]
  },
  {
   "cell_type": "code",
   "execution_count": 374,
   "metadata": {},
   "outputs": [],
   "source": [
    "sub.to_csv('./data/baseline_sub.csv', index=False)"
   ]
  },
  {
   "source": [
    "---\n",
    "\n",
    "## test 2 , the pseudo data"
   ],
   "cell_type": "markdown",
   "metadata": {}
  },
  {
   "cell_type": "code",
   "execution_count": 27,
   "metadata": {},
   "outputs": [],
   "source": [
    "import pandas as pd\n",
    "import numpy as np\n",
    "path = '/Users/fyenne/Downloads/booooks/semester5/pythonAAE/open_data_com/data'\n",
    "train = pd.read_csv(path+'/train.csv')\n",
    "tests = pd.read_csv(path+'/test.csv')\n",
    "bssub = pd.read_csv(path+'/baseline_sub.csv')"
   ]
  },
  {
   "cell_type": "code",
   "execution_count": 3,
   "metadata": {},
   "outputs": [],
   "source": [
    "tests.iloc[:, 1:] = bssub.iloc[:, 1:]\n",
    "train['year'], train['month'], train['date'] = 0,0,0\n",
    "tests['year'], tests['month'], tests['date'] = 0,0,0\n",
    "train.iloc[:,3:6] = pd.DataFrame([i.split('/') for i in train['日期']])\n",
    "tests.iloc[:,3:6] = pd.DataFrame([i.split('/') for i in tests['日期']])\n",
    "train['sum'] = train['A厂'] + train['B厂']\n",
    "tests['sum'] = tests['A厂'] + tests['B厂']\n",
    "train['frac_a'] = train['A厂']/train['sum']\n",
    "tests['frac_a'] = tests['A厂']/tests['sum']\n",
    "train['frac_b'] = train['B厂']/train['sum']\n",
    "tests['frac_b'] = tests['B厂']/tests['sum']\n",
    "train = train.drop('日期', axis = 1)\n",
    "tests = tests.drop('日期', axis = 1)\n",
    "dif_col = set(train.columns.to_list()) - set(pd.DataFrame(train.describe()).columns.to_list())\n",
    "train['year'], train['month'], train['date'] = [train[i].astype(int) for i in list(dif_col)]\n",
    "tests['year'], tests['month'], tests['date'] = [tests[i].astype(int) for i in list(dif_col)]"
   ]
  },
  {
   "cell_type": "code",
   "execution_count": 5,
   "metadata": {},
   "outputs": [
    {
     "output_type": "execute_result",
     "data": {
      "text/plain": [
       "            A厂        B厂  year  month  date       sum    frac_a    frac_b\n",
       "0     200692.0  189490.0     1      1  2018  390182.0  0.514355  0.485645\n",
       "1     218365.0  211147.0     1      2  2018  429512.0  0.508403  0.491597\n",
       "2     224501.0  217767.0     1      3  2018  442268.0  0.507613  0.492387\n",
       "3     216431.0  212636.0     1      4  2018  429067.0  0.504422  0.495578\n",
       "4     200447.0  209427.0     1      5  2018  409874.0  0.489045  0.510955\n",
       "...        ...       ...   ...    ...   ...       ...       ...       ...\n",
       "1030  281198.0  241711.0    10     27  2020  522909.0  0.537757  0.462243\n",
       "1031  275598.0  240281.0    10     28  2020  515879.0  0.534230  0.465770\n",
       "1032  268544.0  237466.0    10     29  2020  506010.0  0.530709  0.469291\n",
       "1033  285484.0  237611.0    10     30  2020  523095.0  0.545759  0.454241\n",
       "1034  275130.0  236154.0    10     31  2020  511284.0  0.538116  0.461884\n",
       "\n",
       "[1035 rows x 8 columns]"
      ],
      "text/html": "<div>\n<style scoped>\n    .dataframe tbody tr th:only-of-type {\n        vertical-align: middle;\n    }\n\n    .dataframe tbody tr th {\n        vertical-align: top;\n    }\n\n    .dataframe thead th {\n        text-align: right;\n    }\n</style>\n<table border=\"1\" class=\"dataframe\">\n  <thead>\n    <tr style=\"text-align: right;\">\n      <th></th>\n      <th>A厂</th>\n      <th>B厂</th>\n      <th>year</th>\n      <th>month</th>\n      <th>date</th>\n      <th>sum</th>\n      <th>frac_a</th>\n      <th>frac_b</th>\n    </tr>\n  </thead>\n  <tbody>\n    <tr>\n      <th>0</th>\n      <td>200692.0</td>\n      <td>189490.0</td>\n      <td>1</td>\n      <td>1</td>\n      <td>2018</td>\n      <td>390182.0</td>\n      <td>0.514355</td>\n      <td>0.485645</td>\n    </tr>\n    <tr>\n      <th>1</th>\n      <td>218365.0</td>\n      <td>211147.0</td>\n      <td>1</td>\n      <td>2</td>\n      <td>2018</td>\n      <td>429512.0</td>\n      <td>0.508403</td>\n      <td>0.491597</td>\n    </tr>\n    <tr>\n      <th>2</th>\n      <td>224501.0</td>\n      <td>217767.0</td>\n      <td>1</td>\n      <td>3</td>\n      <td>2018</td>\n      <td>442268.0</td>\n      <td>0.507613</td>\n      <td>0.492387</td>\n    </tr>\n    <tr>\n      <th>3</th>\n      <td>216431.0</td>\n      <td>212636.0</td>\n      <td>1</td>\n      <td>4</td>\n      <td>2018</td>\n      <td>429067.0</td>\n      <td>0.504422</td>\n      <td>0.495578</td>\n    </tr>\n    <tr>\n      <th>4</th>\n      <td>200447.0</td>\n      <td>209427.0</td>\n      <td>1</td>\n      <td>5</td>\n      <td>2018</td>\n      <td>409874.0</td>\n      <td>0.489045</td>\n      <td>0.510955</td>\n    </tr>\n    <tr>\n      <th>...</th>\n      <td>...</td>\n      <td>...</td>\n      <td>...</td>\n      <td>...</td>\n      <td>...</td>\n      <td>...</td>\n      <td>...</td>\n      <td>...</td>\n    </tr>\n    <tr>\n      <th>1030</th>\n      <td>281198.0</td>\n      <td>241711.0</td>\n      <td>10</td>\n      <td>27</td>\n      <td>2020</td>\n      <td>522909.0</td>\n      <td>0.537757</td>\n      <td>0.462243</td>\n    </tr>\n    <tr>\n      <th>1031</th>\n      <td>275598.0</td>\n      <td>240281.0</td>\n      <td>10</td>\n      <td>28</td>\n      <td>2020</td>\n      <td>515879.0</td>\n      <td>0.534230</td>\n      <td>0.465770</td>\n    </tr>\n    <tr>\n      <th>1032</th>\n      <td>268544.0</td>\n      <td>237466.0</td>\n      <td>10</td>\n      <td>29</td>\n      <td>2020</td>\n      <td>506010.0</td>\n      <td>0.530709</td>\n      <td>0.469291</td>\n    </tr>\n    <tr>\n      <th>1033</th>\n      <td>285484.0</td>\n      <td>237611.0</td>\n      <td>10</td>\n      <td>30</td>\n      <td>2020</td>\n      <td>523095.0</td>\n      <td>0.545759</td>\n      <td>0.454241</td>\n    </tr>\n    <tr>\n      <th>1034</th>\n      <td>275130.0</td>\n      <td>236154.0</td>\n      <td>10</td>\n      <td>31</td>\n      <td>2020</td>\n      <td>511284.0</td>\n      <td>0.538116</td>\n      <td>0.461884</td>\n    </tr>\n  </tbody>\n</table>\n<p>1035 rows × 8 columns</p>\n</div>"
     },
     "metadata": {},
     "execution_count": 5
    }
   ],
   "source": [
    "# train.to_csv(\"./data/train_modified_yan.csv\", index = False)\n",
    "# tests.to_csv(\"./data/tests_modified_yan.csv\", index = False)\n"
   ]
  },
  {
   "cell_type": "code",
   "execution_count": 5,
   "metadata": {},
   "outputs": [],
   "source": [
    "# from sklearn.preprocessing import StandardScaler\n",
    "# ss = StandardScaler()\n",
    "# R_train = pd.read_csv(\"./data/R_train_modified_yan.csv\")\n",
    "# R_tests = pd.read_csv(\"./data/R_tests_modified_yan.csv\")"
   ]
  },
  {
   "cell_type": "code",
   "execution_count": 18,
   "metadata": {},
   "outputs": [],
   "source": [
    "wee = list(list(np.repeat(1, 5))+list(np.repeat(0,2)))\n",
    "wee = wee*148\n",
    "train['wee'] = wee[0:1035]\n",
    "train3 = pd.concat([train, train], axis = 0)\n",
    "train3.iloc[1035:,0] = train3.iloc[:1035,1] # move B chang\n",
    "train3.iloc[:1035,1] = 0\n",
    "train3.iloc[1035:,1] = 1"
   ]
  },
  {
   "cell_type": "code",
   "execution_count": 39,
   "metadata": {},
   "outputs": [],
   "source": [
    "# tests # sunday start\n",
    "wee = list([0,1,1,1,1,1,0])\n",
    "wee = wee*22\n",
    "tests['wee'] = wee[0:151]\n",
    "\n",
    "tests3 = pd.concat([tests, tests], axis = 0)\n",
    "tests3.iloc[151:,0] = tests3.iloc[:151,1] # move B chang\n",
    "tests3.iloc[:151,1] = 0\n",
    "tests3.iloc[151:,1] = 1"
   ]
  },
  {
   "cell_type": "code",
   "execution_count": 41,
   "metadata": {},
   "outputs": [],
   "source": [
    "train3 = train3.drop(['sum', 'frac_a', 'frac_b'], axis = 1)\n",
    "tests3 = tests3.drop(['sum', 'frac_a', 'frac_b'], axis = 1)"
   ]
  },
  {
   "cell_type": "code",
   "execution_count": 46,
   "metadata": {},
   "outputs": [],
   "source": [
    "train3.to_csv('./data/raw_train.csv', index = False)\n",
    "tests3.to_csv('./data/raw_tests.csv', index=False)"
   ]
  },
  {
   "cell_type": "code",
   "execution_count": 48,
   "metadata": {},
   "outputs": [],
   "source": [
    "import optuna"
   ]
  },
  {
   "source": [
    "---\n",
    "\n",
    "# tensorflow"
   ],
   "cell_type": "markdown",
   "metadata": {}
  },
  {
   "cell_type": "code",
   "execution_count": 3,
   "metadata": {},
   "outputs": [],
   "source": [
    "target_train = train.iloc[:,0:2]\n",
    "target_test  = tests.iloc[:,0:2]\n",
    "tensor_train = train.iloc[:,2:]\n",
    "tensor_test  = tests.iloc[:,2:]"
   ]
  },
  {
   "cell_type": "code",
   "execution_count": 4,
   "metadata": {},
   "outputs": [],
   "source": [
    "from sklearn.model_selection import train_test_split\n",
    "x_train, x_valid, y_train, y_valid = train_test_split(tensor_train, target_train, test_size=0.25, random_state=1026529)"
   ]
  },
  {
   "cell_type": "code",
   "execution_count": 5,
   "metadata": {},
   "outputs": [],
   "source": [
    "# x_train\n",
    "input_shape =  [7]\n",
    "import tensorflow as tf\n",
    "from tensorflow import keras\n",
    "from tensorflow.keras import layers\n",
    "from tensorflow.keras.callbacks import EarlyStopping\n",
    "import kerastuner as kt\n",
    "early_stopping = EarlyStopping(\n",
    "    min_delta=0.001, # minimium amount of change to count as an improvement\n",
    "    patience=10, # how many epochs to wait before stopping\n",
    "    restore_best_weights=True,\n",
    ")"
   ]
  },
  {
   "cell_type": "code",
   "execution_count": 6,
   "metadata": {},
   "outputs": [],
   "source": [
    "# def model_builder():\n",
    "#     model = keras.Sequential()\n",
    "#     layers.Dense(1186, activation='relu', input_shape=input_shape),\n",
    "\n",
    "#     # hp_units  = hp.Int('units', min_value=593, max_value=1186, step=32)\n",
    "#     # model.add(keras.layers.Dense(units=hp_units, activation='relu'))\n",
    "#     # model.add(keras.layers.BatchNormalization()),\n",
    "#     model.add(keras.layers.Dense(units=593, activation='relu'))\n",
    "#     model.add(keras.layers.BatchNormalization()),\n",
    "\n",
    "#     model.add(keras.layers.Dense(units=593, activation='relu'))\n",
    "#     model.add(keras.layers.BatchNormalization()),\n",
    "#     model.add(keras.layers.Dense(2))\n",
    "\n",
    "#     # hp_learning_rate = hp.Choice('learning_rate', values=[1e-1, 1e-2, 1e-3])\n",
    "#     model.compile(optimizer=keras.optimizers.SGD(learning_rate=1e-1),\n",
    "#                 loss=keras.losses.MeanAbsolutePercentageError())\n",
    "# # tf.keras.losses.MeanAbsoluteError\n",
    "#     return model"
   ]
  },
  {
   "cell_type": "code",
   "execution_count": 7,
   "metadata": {},
   "outputs": [],
   "source": [
    "model = tf.keras.Sequential([\n",
    "      layers.Dense(1186, activation='relu', input_shape=input_shape),\n",
    "      keras.layers.Dense(units=593, activation='relu'),\n",
    "      keras.layers.BatchNormalization(),\n",
    "      keras.layers.Dense(units=593, activation='relu'),\n",
    "      keras.layers.BatchNormalization(),\n",
    "      keras.layers.Dense(1)\n",
    "  ])\n",
    "# model.add()\n",
    "model.compile(optimizer=keras.optimizers.SGD(learning_rate=1e-1),\n",
    "                loss=keras.losses.MeanAbsolutePercentageError())"
   ]
  },
  {
   "cell_type": "code",
   "execution_count": 8,
   "metadata": {},
   "outputs": [],
   "source": [
    "model.fit(tensor_train, epochs=120)"
   ]
  },
  {
   "cell_type": "code",
   "execution_count": 42,
   "metadata": {},
   "outputs": [],
   "source": [
    "# model.predict(tensor_test)"
   ]
  },
  {
   "source": [
    "# H2o"
   ],
   "cell_type": "markdown",
   "metadata": {}
  },
  {
   "cell_type": "code",
   "execution_count": 5,
   "metadata": {},
   "outputs": [],
   "source": [
    "train3 = pd.concat([train.drop('B厂', axis=1), train.drop('A厂', axis=1)], axis = 0, ignore_index=True)"
   ]
  },
  {
   "cell_type": "code",
   "execution_count": 6,
   "metadata": {},
   "outputs": [],
   "source": [
    "train3.iloc[:1035,7] = False\n",
    "train3.iloc[1035:,0] = train3.iloc[1035:,7]\n",
    "train3.iloc[1035:,7] = True"
   ]
  },
  {
   "cell_type": "code",
   "execution_count": 8,
   "metadata": {},
   "outputs": [
    {
     "output_type": "execute_result",
     "data": {
      "text/plain": [
       "            A厂  year  month  date       sum    frac_a    frac_b     B厂\n",
       "0     200692.0  2018      1     1  390182.0  0.514355  0.485645  False\n",
       "1     218365.0  2018      1     2  429512.0  0.508403  0.491597  False\n",
       "2     224501.0  2018      1     3  442268.0  0.507613  0.492387  False\n",
       "3     216431.0  2018      1     4  429067.0  0.504422  0.495578  False\n",
       "4     200447.0  2018      1     5  409874.0  0.489045  0.510955  False\n",
       "...        ...   ...    ...   ...       ...       ...       ...    ...\n",
       "2065  241711.0  2020     10    27  522909.0  0.537757  0.462243   True\n",
       "2066  240281.0  2020     10    28  515879.0  0.534230  0.465770   True\n",
       "2067  237466.0  2020     10    29  506010.0  0.530709  0.469291   True\n",
       "2068  237611.0  2020     10    30  523095.0  0.545759  0.454241   True\n",
       "2069  236154.0  2020     10    31  511284.0  0.538116  0.461884   True\n",
       "\n",
       "[2070 rows x 8 columns]"
      ],
      "text/html": "<div>\n<style scoped>\n    .dataframe tbody tr th:only-of-type {\n        vertical-align: middle;\n    }\n\n    .dataframe tbody tr th {\n        vertical-align: top;\n    }\n\n    .dataframe thead th {\n        text-align: right;\n    }\n</style>\n<table border=\"1\" class=\"dataframe\">\n  <thead>\n    <tr style=\"text-align: right;\">\n      <th></th>\n      <th>A厂</th>\n      <th>year</th>\n      <th>month</th>\n      <th>date</th>\n      <th>sum</th>\n      <th>frac_a</th>\n      <th>frac_b</th>\n      <th>B厂</th>\n    </tr>\n  </thead>\n  <tbody>\n    <tr>\n      <th>0</th>\n      <td>200692.0</td>\n      <td>2018</td>\n      <td>1</td>\n      <td>1</td>\n      <td>390182.0</td>\n      <td>0.514355</td>\n      <td>0.485645</td>\n      <td>False</td>\n    </tr>\n    <tr>\n      <th>1</th>\n      <td>218365.0</td>\n      <td>2018</td>\n      <td>1</td>\n      <td>2</td>\n      <td>429512.0</td>\n      <td>0.508403</td>\n      <td>0.491597</td>\n      <td>False</td>\n    </tr>\n    <tr>\n      <th>2</th>\n      <td>224501.0</td>\n      <td>2018</td>\n      <td>1</td>\n      <td>3</td>\n      <td>442268.0</td>\n      <td>0.507613</td>\n      <td>0.492387</td>\n      <td>False</td>\n    </tr>\n    <tr>\n      <th>3</th>\n      <td>216431.0</td>\n      <td>2018</td>\n      <td>1</td>\n      <td>4</td>\n      <td>429067.0</td>\n      <td>0.504422</td>\n      <td>0.495578</td>\n      <td>False</td>\n    </tr>\n    <tr>\n      <th>4</th>\n      <td>200447.0</td>\n      <td>2018</td>\n      <td>1</td>\n      <td>5</td>\n      <td>409874.0</td>\n      <td>0.489045</td>\n      <td>0.510955</td>\n      <td>False</td>\n    </tr>\n    <tr>\n      <th>...</th>\n      <td>...</td>\n      <td>...</td>\n      <td>...</td>\n      <td>...</td>\n      <td>...</td>\n      <td>...</td>\n      <td>...</td>\n      <td>...</td>\n    </tr>\n    <tr>\n      <th>2065</th>\n      <td>241711.0</td>\n      <td>2020</td>\n      <td>10</td>\n      <td>27</td>\n      <td>522909.0</td>\n      <td>0.537757</td>\n      <td>0.462243</td>\n      <td>True</td>\n    </tr>\n    <tr>\n      <th>2066</th>\n      <td>240281.0</td>\n      <td>2020</td>\n      <td>10</td>\n      <td>28</td>\n      <td>515879.0</td>\n      <td>0.534230</td>\n      <td>0.465770</td>\n      <td>True</td>\n    </tr>\n    <tr>\n      <th>2067</th>\n      <td>237466.0</td>\n      <td>2020</td>\n      <td>10</td>\n      <td>29</td>\n      <td>506010.0</td>\n      <td>0.530709</td>\n      <td>0.469291</td>\n      <td>True</td>\n    </tr>\n    <tr>\n      <th>2068</th>\n      <td>237611.0</td>\n      <td>2020</td>\n      <td>10</td>\n      <td>30</td>\n      <td>523095.0</td>\n      <td>0.545759</td>\n      <td>0.454241</td>\n      <td>True</td>\n    </tr>\n    <tr>\n      <th>2069</th>\n      <td>236154.0</td>\n      <td>2020</td>\n      <td>10</td>\n      <td>31</td>\n      <td>511284.0</td>\n      <td>0.538116</td>\n      <td>0.461884</td>\n      <td>True</td>\n    </tr>\n  </tbody>\n</table>\n<p>2070 rows × 8 columns</p>\n</div>"
     },
     "metadata": {},
     "execution_count": 8
    }
   ],
   "source": [
    "train3"
   ]
  },
  {
   "cell_type": "code",
   "execution_count": 7,
   "metadata": {},
   "outputs": [],
   "source": [
    "train3.to_csv('./data/full_train.csv', index = False)"
   ]
  },
  {
   "cell_type": "code",
   "execution_count": 1,
   "metadata": {},
   "outputs": [],
   "source": [
    "!MYENV='siming' "
   ]
  },
  {
   "cell_type": "code",
   "execution_count": 2,
   "metadata": {},
   "outputs": [],
   "source": [
    "# !git clone https://github.com/jenv/jenv.git ~/.jenv \n",
    "!source ~/.bash_profile"
   ]
  },
  {
   "cell_type": "code",
   "execution_count": 3,
   "metadata": {},
   "outputs": [
    {
     "output_type": "stream",
     "name": "stdout",
     "text": [
      "zsh:source:1: no such file or directory: activate\n"
     ]
    }
   ],
   "source": [
    "!source activate siming"
   ]
  },
  {
   "cell_type": "code",
   "execution_count": 4,
   "metadata": {},
   "outputs": [
    {
     "output_type": "stream",
     "name": "stdout",
     "text": [
      "/usr/local/bin/python\n"
     ]
    }
   ],
   "source": [
    "# %env\n",
    "!which python"
   ]
  },
  {
   "cell_type": "code",
   "execution_count": 18,
   "metadata": {},
   "outputs": [
    {
     "output_type": "stream",
     "name": "stdout",
     "text": [
      "Available kernels:\n  pycharm-cc37a424                                                                         /Users/fyenne/Library/Jupyter/kernels/pycharm-cc37a424\n  python374jvsc74a57bd0e774977668b7c0ae8309835a5187aa7fbf7669e7d0bb59755bc63e573643edcd    /Users/fyenne/Library/Jupyter/kernels/python374jvsc74a57bd0e774977668b7c0ae8309835a5187aa7fbf7669e7d0bb59755bc63e573643edcd\n  python386jvsc74a57bd0ce909994499a62a89f8945d91d57c51a920a5cb8f3e61b9dc99d2a0ea5862498    /Users/fyenne/Library/Jupyter/kernels/python386jvsc74a57bd0ce909994499a62a89f8945d91d57c51a920a5cb8f3e61b9dc99d2a0ea5862498\n  python386jvsc74a57bd0ff684bfe6bac5aee95fe25613146015247c6b1b77f36ee2373fa7468888d9e66    /Users/fyenne/Library/Jupyter/kernels/python386jvsc74a57bd0ff684bfe6bac5aee95fe25613146015247c6b1b77f36ee2373fa7468888d9e66\n  python392jvsc74a57bd057c1e8c2cf22d1afad147312b0d4064398b1b8f3e9dbd8f3a3abf6cddbe75da1    /Users/fyenne/Library/Jupyter/kernels/python392jvsc74a57bd057c1e8c2cf22d1afad147312b0d4064398b1b8f3e9dbd8f3a3abf6cddbe75da1\n  siming                                                                                   /Users/fyenne/Library/Jupyter/kernels/siming\n  python3                                                                                  /Users/fyenne/miniforge3/share/jupyter/kernels/python3\n"
     ]
    }
   ],
   "source": [
    "!jupyter kernelspec list"
   ]
  },
  {
   "cell_type": "code",
   "execution_count": 5,
   "metadata": {},
   "outputs": [
    {
     "output_type": "stream",
     "name": "stdout",
     "text": [
      "env: PATH=/Users/fyenne/miniforge3/bin:/usr/local/bin:/usr/bin:/bin:/usr/sbin:/sbin\n"
     ]
    }
   ],
   "source": [
    "%env PATH=/Users/fyenne/miniforge3/bin:/usr/local/bin:/usr/bin:/bin:/usr/sbin:/sbin"
   ]
  },
  {
   "cell_type": "code",
   "execution_count": 2,
   "metadata": {},
   "outputs": [
    {
     "output_type": "stream",
     "name": "stdout",
     "text": [
      "java version \"14.0.2\" 2020-07-14\nJava(TM) SE Runtime Environment (build 14.0.2+12-46)\nJava HotSpot(TM) 64-Bit Server VM (build 14.0.2+12-46, mixed mode, sharing)\n"
     ]
    }
   ],
   "source": [
    "!java -version"
   ]
  },
  {
   "cell_type": "code",
   "execution_count": 20,
   "metadata": {},
   "outputs": [
    {
     "output_type": "stream",
     "name": "stdout",
     "text": [
      "Matching Java Virtual Machines (7):\n    16 (arm64) \"UNDEFINED\" - \"OpenJDK 16\" /opt/homebrew/Cellar/openjdk/15.0.2/libexec/openjdk.jdk/Contents/Home\n    14.0.2 (x86_64) \"Oracle Corporation\" - \"Java SE 14.0.2\" /Library/Java/JavaVirtualMachines/jdk-14.0.2.jdk/Contents/Home\n    11.0.2 (x86_64) \"Oracle Corporation\" - \"Java SE 11.0.2\" /Library/Java/JavaVirtualMachines/jdk-11.0.2.jdk/Contents/Home\n    1.8.291.10 (x86_64) \"Oracle Corporation\" - \"Java\" /Library/Internet Plug-Ins/JavaAppletPlugin.plugin/Contents/Home\n    1.8.0_291 (x86_64) \"Oracle Corporation\" - \"Java SE 8\" /Library/Java/JavaVirtualMachines/jdk1.8.0_291.jdk/Contents/Home\n    1.8.0_251 (x86_64) \"Oracle Corporation\" - \"Java SE 8\" /Library/Java/JavaVirtualMachines/jdk1.8.0_251.jdk/Contents/Home\n    1.8.0_201 (x86_64) \"Oracle Corporation\" - \"Java SE 8\" /Library/Java/JavaVirtualMachines/jdk1.8.0_201.jdk/Contents/Home\n/opt/homebrew/Cellar/openjdk/15.0.2/libexec/openjdk.jdk/Contents/Home\n"
     ]
    }
   ],
   "source": [
    "!/usr/libexec/java_home -V"
   ]
  },
  {
   "cell_type": "code",
   "execution_count": 26,
   "metadata": {},
   "outputs": [],
   "source": [
    "# !source activate siming\n",
    "!source ~/.bash_profile"
   ]
  },
  {
   "cell_type": "code",
   "execution_count": 27,
   "metadata": {},
   "outputs": [
    {
     "output_type": "stream",
     "name": "stdout",
     "text": [
      "zsh:1: command not found: jenv\n"
     ]
    }
   ],
   "source": [
    "!jenv add /Library/Java/JavaVirtualMachines/jdk-14.0.2.jdk/Contents/Home"
   ]
  },
  {
   "cell_type": "code",
   "execution_count": 28,
   "metadata": {},
   "outputs": [
    {
     "output_type": "stream",
     "name": "stdout",
     "text": [
      "zsh:1: command not found: jenv\n"
     ]
    }
   ],
   "source": [
    "!jenv global 14.0"
   ]
  },
  {
   "cell_type": "code",
   "execution_count": 29,
   "metadata": {},
   "outputs": [],
   "source": [
    "!export JAVA_HOME=`/usr/libexec/java_home -v 1.8.0_291`"
   ]
  },
  {
   "source": [
    "---"
   ],
   "cell_type": "markdown",
   "metadata": {}
  },
  {
   "cell_type": "code",
   "execution_count": 1,
   "metadata": {},
   "outputs": [
    {
     "output_type": "stream",
     "name": "stdout",
     "text": [
      "Checking whether there is an H2O instance running at http://localhost:54321 . connected.\n"
     ]
    },
    {
     "output_type": "display_data",
     "data": {
      "text/plain": "--------------------------  ------------------------------------------------------------------\nH2O_cluster_uptime:         30 mins 59 secs\nH2O_cluster_timezone:       Asia/Shanghai\nH2O_data_parsing_timezone:  UTC\nH2O_cluster_version:        3.32.0.4\nH2O_cluster_version_age:    3 months and 3 days\nH2O_cluster_name:           H2O_from_python_fyenne_do6pnu\nH2O_cluster_total_nodes:    1\nH2O_cluster_free_memory:    8 Gb\nH2O_cluster_total_cores:    8\nH2O_cluster_allowed_cores:  8\nH2O_cluster_status:         locked, healthy\nH2O_connection_url:         http://localhost:54321\nH2O_connection_proxy:       {\"http\": null, \"https\": null}\nH2O_internal_security:      False\nH2O_API_Extensions:         Amazon S3, XGBoost, Algos, AutoML, Core V3, TargetEncoder, Core V4\nPython_version:             3.8.6 final\n--------------------------  ------------------------------------------------------------------",
      "text/html": "<div style=\"overflow:auto\"><table style=\"width:50%\"><tr><td>H2O_cluster_uptime:</td>\n<td>30 mins 59 secs</td></tr>\n<tr><td>H2O_cluster_timezone:</td>\n<td>Asia/Shanghai</td></tr>\n<tr><td>H2O_data_parsing_timezone:</td>\n<td>UTC</td></tr>\n<tr><td>H2O_cluster_version:</td>\n<td>3.32.0.4</td></tr>\n<tr><td>H2O_cluster_version_age:</td>\n<td>3 months and 3 days </td></tr>\n<tr><td>H2O_cluster_name:</td>\n<td>H2O_from_python_fyenne_do6pnu</td></tr>\n<tr><td>H2O_cluster_total_nodes:</td>\n<td>1</td></tr>\n<tr><td>H2O_cluster_free_memory:</td>\n<td>8 Gb</td></tr>\n<tr><td>H2O_cluster_total_cores:</td>\n<td>8</td></tr>\n<tr><td>H2O_cluster_allowed_cores:</td>\n<td>8</td></tr>\n<tr><td>H2O_cluster_status:</td>\n<td>locked, healthy</td></tr>\n<tr><td>H2O_connection_url:</td>\n<td>http://localhost:54321</td></tr>\n<tr><td>H2O_connection_proxy:</td>\n<td>{\"http\": null, \"https\": null}</td></tr>\n<tr><td>H2O_internal_security:</td>\n<td>False</td></tr>\n<tr><td>H2O_API_Extensions:</td>\n<td>Amazon S3, XGBoost, Algos, AutoML, Core V3, TargetEncoder, Core V4</td></tr>\n<tr><td>Python_version:</td>\n<td>3.8.6 final</td></tr></table></div>"
     },
     "metadata": {}
    }
   ],
   "source": [
    "import h2o\n",
    "h2o.init(nthreads=-1, max_mem_size = \"8G\")"
   ]
  },
  {
   "cell_type": "code",
   "execution_count": 2,
   "metadata": {},
   "outputs": [],
   "source": [
    "# 5.4 日 # 生成 sum 和 div后, 联合额外的pred sum div 去预测 ab厂"
   ]
  },
  {
   "cell_type": "code",
   "execution_count": 252,
   "metadata": {},
   "outputs": [],
   "source": []
  },
  {
   "cell_type": "code",
   "execution_count": 5,
   "metadata": {},
   "outputs": [],
   "source": [
    "import pandas as pd\n",
    "import numpy as np\n",
    "from sklearn.linear_model import LogisticRegression\n",
    "import matplotlib.pyplot as plt\n",
    "from sklearn.utils import shuffle\n",
    "from sklearn.model_selection import GridSearchCV\n",
    "\n",
    "path = '/Users/fyenne/Downloads/booooks/semester5/pythonAAE/open_data_com/data'\n",
    "train = pd.read_csv(path+'/train.csv')\n",
    "tests = pd.read_csv(path+'/test.csv')\n",
    "sub = pd.read_csv(path+'/sub.csv')\n",
    "\n",
    "train['year'], train['month'], train['date'] = 0,0,0\n",
    "tests['year'], tests['month'], tests['date'] = 0,0,0\n",
    "train.iloc[:,3:6] = pd.DataFrame([i.split('/') for i in train['日期']])\n",
    "tests.iloc[:,3:6] = pd.DataFrame([i.split('/') for i in tests['日期']])\n"
   ]
  },
  {
   "cell_type": "code",
   "execution_count": 6,
   "metadata": {},
   "outputs": [],
   "source": [
    "\n",
    "train = train.drop('日期', axis = 1)\n",
    "tests = tests.drop('日期', axis = 1)\n",
    "dif_col = set(train.columns.to_list()) - set(pd.DataFrame(train.describe()).columns.to_list())\n",
    "train['year'], train['month'], train['date'] = [train[i].astype(int) for i in list(dif_col)]\n",
    "tests['year'], tests['month'], tests['date'] = [tests[i].astype(int) for i in list(dif_col)]"
   ]
  },
  {
   "cell_type": "code",
   "execution_count": 7,
   "metadata": {},
   "outputs": [
    {
     "output_type": "stream",
     "name": "stdout",
     "text": [
      "<class 'pandas.core.frame.DataFrame'>\nRangeIndex: 1035 entries, 0 to 1034\nData columns (total 5 columns):\n #   Column  Non-Null Count  Dtype  \n---  ------  --------------  -----  \n 0   A厂      1035 non-null   float64\n 1   B厂      1035 non-null   float64\n 2   year    1035 non-null   int64  \n 3   month   1035 non-null   int64  \n 4   date    1035 non-null   int64  \ndtypes: float64(2), int64(3)\nmemory usage: 40.6 KB\n"
     ]
    }
   ],
   "source": [
    "train.info()"
   ]
  },
  {
   "cell_type": "code",
   "execution_count": 8,
   "metadata": {},
   "outputs": [],
   "source": [
    "train_raw = train # back up\n",
    "tests_raw = tests"
   ]
  },
  {
   "cell_type": "code",
   "execution_count": 9,
   "metadata": {},
   "outputs": [],
   "source": [
    "train_raw['sum'] = train_raw['A厂'] + train_raw['B厂']\n",
    "tests_raw['sum'] = tests_raw['A厂'] + tests_raw['B厂']\n",
    "train_raw['sub'] = abs(train_raw['A厂'] - train_raw['B厂'])\n",
    "tests_raw['sub'] = abs(tests_raw['A厂'] - tests_raw['B厂'])\n",
    "train_raw['div'] = train_raw['A厂'] / train_raw['B厂']\n",
    "tests_raw['div'] = tests_raw['A厂'] / tests_raw['B厂']\n",
    "import math\n",
    "train_raw['log'] = pd.DataFrame([math.log(i) for i in train_raw['A厂']]) / pd.DataFrame([math.log(i) for i in train_raw['B厂']])\n",
    "tests_raw['log'] = 1"
   ]
  },
  {
   "cell_type": "code",
   "execution_count": 10,
   "metadata": {},
   "outputs": [],
   "source": [
    "train = train_raw # back up\n",
    "tests = tests_raw"
   ]
  },
  {
   "cell_type": "code",
   "execution_count": 11,
   "metadata": {},
   "outputs": [],
   "source": [
    "bs_train = train_raw[list(train_raw.columns[2:5])]\n",
    "bs_tar   = train_raw[list(train_raw.columns[5: ])]"
   ]
  },
  {
   "cell_type": "code",
   "execution_count": 12,
   "metadata": {},
   "outputs": [
    {
     "output_type": "execute_result",
     "data": {
      "text/plain": [
       "            A厂        B厂  year  month  date       sum      sub       div  \\\n",
       "0     200692.0  189490.0  2018      1     1  390182.0  11202.0  1.059117   \n",
       "1     218365.0  211147.0  2018      1     2  429512.0   7218.0  1.034185   \n",
       "2     224501.0  217767.0  2018      1     3  442268.0   6734.0  1.030923   \n",
       "3     216431.0  212636.0  2018      1     4  429067.0   3795.0  1.017847   \n",
       "4     200447.0  209427.0  2018      1     5  409874.0   8980.0  0.957121   \n",
       "...        ...       ...   ...    ...   ...       ...      ...       ...   \n",
       "1030  281198.0  241711.0  2020     10    27  522909.0  39487.0  1.163365   \n",
       "1031  275598.0  240281.0  2020     10    28  515879.0  35317.0  1.146982   \n",
       "1032  268544.0  237466.0  2020     10    29  506010.0  31078.0  1.130873   \n",
       "1033  285484.0  237611.0  2020     10    30  523095.0  47873.0  1.201476   \n",
       "1034  275130.0  236154.0  2020     10    31  511284.0  38976.0  1.165045   \n",
       "\n",
       "           log  \n",
       "0     1.004726  \n",
       "1     1.002742  \n",
       "2     1.002478  \n",
       "3     1.001442  \n",
       "4     0.996423  \n",
       "...        ...  \n",
       "1030  1.012207  \n",
       "1031  1.011069  \n",
       "1032  1.009936  \n",
       "1033  1.014828  \n",
       "1034  1.012347  \n",
       "\n",
       "[1035 rows x 9 columns]"
      ],
      "text/html": "<div>\n<style scoped>\n    .dataframe tbody tr th:only-of-type {\n        vertical-align: middle;\n    }\n\n    .dataframe tbody tr th {\n        vertical-align: top;\n    }\n\n    .dataframe thead th {\n        text-align: right;\n    }\n</style>\n<table border=\"1\" class=\"dataframe\">\n  <thead>\n    <tr style=\"text-align: right;\">\n      <th></th>\n      <th>A厂</th>\n      <th>B厂</th>\n      <th>year</th>\n      <th>month</th>\n      <th>date</th>\n      <th>sum</th>\n      <th>sub</th>\n      <th>div</th>\n      <th>log</th>\n    </tr>\n  </thead>\n  <tbody>\n    <tr>\n      <th>0</th>\n      <td>200692.0</td>\n      <td>189490.0</td>\n      <td>2018</td>\n      <td>1</td>\n      <td>1</td>\n      <td>390182.0</td>\n      <td>11202.0</td>\n      <td>1.059117</td>\n      <td>1.004726</td>\n    </tr>\n    <tr>\n      <th>1</th>\n      <td>218365.0</td>\n      <td>211147.0</td>\n      <td>2018</td>\n      <td>1</td>\n      <td>2</td>\n      <td>429512.0</td>\n      <td>7218.0</td>\n      <td>1.034185</td>\n      <td>1.002742</td>\n    </tr>\n    <tr>\n      <th>2</th>\n      <td>224501.0</td>\n      <td>217767.0</td>\n      <td>2018</td>\n      <td>1</td>\n      <td>3</td>\n      <td>442268.0</td>\n      <td>6734.0</td>\n      <td>1.030923</td>\n      <td>1.002478</td>\n    </tr>\n    <tr>\n      <th>3</th>\n      <td>216431.0</td>\n      <td>212636.0</td>\n      <td>2018</td>\n      <td>1</td>\n      <td>4</td>\n      <td>429067.0</td>\n      <td>3795.0</td>\n      <td>1.017847</td>\n      <td>1.001442</td>\n    </tr>\n    <tr>\n      <th>4</th>\n      <td>200447.0</td>\n      <td>209427.0</td>\n      <td>2018</td>\n      <td>1</td>\n      <td>5</td>\n      <td>409874.0</td>\n      <td>8980.0</td>\n      <td>0.957121</td>\n      <td>0.996423</td>\n    </tr>\n    <tr>\n      <th>...</th>\n      <td>...</td>\n      <td>...</td>\n      <td>...</td>\n      <td>...</td>\n      <td>...</td>\n      <td>...</td>\n      <td>...</td>\n      <td>...</td>\n      <td>...</td>\n    </tr>\n    <tr>\n      <th>1030</th>\n      <td>281198.0</td>\n      <td>241711.0</td>\n      <td>2020</td>\n      <td>10</td>\n      <td>27</td>\n      <td>522909.0</td>\n      <td>39487.0</td>\n      <td>1.163365</td>\n      <td>1.012207</td>\n    </tr>\n    <tr>\n      <th>1031</th>\n      <td>275598.0</td>\n      <td>240281.0</td>\n      <td>2020</td>\n      <td>10</td>\n      <td>28</td>\n      <td>515879.0</td>\n      <td>35317.0</td>\n      <td>1.146982</td>\n      <td>1.011069</td>\n    </tr>\n    <tr>\n      <th>1032</th>\n      <td>268544.0</td>\n      <td>237466.0</td>\n      <td>2020</td>\n      <td>10</td>\n      <td>29</td>\n      <td>506010.0</td>\n      <td>31078.0</td>\n      <td>1.130873</td>\n      <td>1.009936</td>\n    </tr>\n    <tr>\n      <th>1033</th>\n      <td>285484.0</td>\n      <td>237611.0</td>\n      <td>2020</td>\n      <td>10</td>\n      <td>30</td>\n      <td>523095.0</td>\n      <td>47873.0</td>\n      <td>1.201476</td>\n      <td>1.014828</td>\n    </tr>\n    <tr>\n      <th>1034</th>\n      <td>275130.0</td>\n      <td>236154.0</td>\n      <td>2020</td>\n      <td>10</td>\n      <td>31</td>\n      <td>511284.0</td>\n      <td>38976.0</td>\n      <td>1.165045</td>\n      <td>1.012347</td>\n    </tr>\n  </tbody>\n</table>\n<p>1035 rows × 9 columns</p>\n</div>"
     },
     "metadata": {},
     "execution_count": 12
    }
   ],
   "source": [
    "train"
   ]
  },
  {
   "cell_type": "code",
   "execution_count": 13,
   "metadata": {},
   "outputs": [],
   "source": [
    "bs_tests = tests_raw[list(tests_raw.columns[2:5])]"
   ]
  },
  {
   "cell_type": "code",
   "execution_count": 14,
   "metadata": {},
   "outputs": [
    {
     "output_type": "execute_result",
     "data": {
      "text/plain": [
       "-0.8122884277084048"
      ]
     },
     "metadata": {},
     "execution_count": 14
    }
   ],
   "source": [
    "from sklearn.linear_model import Ridge, LinearRegression, Lasso\n",
    "from sklearn import model_selection\n",
    "cv_split = model_selection.ShuffleSplit(n_splits = 6, test_size = .35, train_size = .65, random_state = 1026529)\n",
    "alg1 = Lasso()\n",
    "cv_results_1 = model_selection.cross_validate(alg1, bs_train, bs_tar, cv  = cv_split, scoring='neg_mean_absolute_percentage_error')\n",
    "cv_results_1['test_score'].mean()"
   ]
  },
  {
   "cell_type": "code",
   "execution_count": 22,
   "metadata": {},
   "outputs": [
    {
     "output_type": "execute_result",
     "data": {
      "text/plain": [
       "-0.4656554269579531"
      ]
     },
     "metadata": {},
     "execution_count": 22
    }
   ],
   "source": [
    "from sklearn.ensemble import RandomForestRegressor\n",
    "alg2 = RandomForestRegressor(n_estimators = 11, min_samples_split = 3, min_samples_leaf=5)\n",
    "cv_results_2 = model_selection.cross_validate(alg2, bs_train, bs_tar, cv  = cv_split, scoring='neg_mean_absolute_percentage_error')\n",
    "cv_results_2['test_score'].mean()"
   ]
  },
  {
   "cell_type": "code",
   "execution_count": 23,
   "metadata": {},
   "outputs": [
    {
     "output_type": "execute_result",
     "data": {
      "text/plain": [
       "<bound method DataFrame.info of       year  month  date\n",
       "0     2018      1     1\n",
       "1     2018      1     2\n",
       "2     2018      1     3\n",
       "3     2018      1     4\n",
       "4     2018      1     5\n",
       "...    ...    ...   ...\n",
       "1030  2020     10    27\n",
       "1031  2020     10    28\n",
       "1032  2020     10    29\n",
       "1033  2020     10    30\n",
       "1034  2020     10    31\n",
       "\n",
       "[1035 rows x 3 columns]>"
      ]
     },
     "metadata": {},
     "execution_count": 23
    }
   ],
   "source": [
    "bs_train.info"
   ]
  },
  {
   "cell_type": "code",
   "execution_count": 25,
   "metadata": {},
   "outputs": [
    {
     "output_type": "stream",
     "name": "stderr",
     "text": [
      "/Users/fyenne/miniforge3/envs/siming/lib/python3.8/site-packages/sklearn/neural_network/_multilayer_perceptron.py:614: ConvergenceWarning: Stochastic Optimizer: Maximum iterations (200) reached and the optimization hasn't converged yet.\n",
      "  warnings.warn(\n",
      "/Users/fyenne/miniforge3/envs/siming/lib/python3.8/site-packages/sklearn/neural_network/_multilayer_perceptron.py:614: ConvergenceWarning: Stochastic Optimizer: Maximum iterations (200) reached and the optimization hasn't converged yet.\n",
      "  warnings.warn(\n",
      "/Users/fyenne/miniforge3/envs/siming/lib/python3.8/site-packages/sklearn/neural_network/_multilayer_perceptron.py:614: ConvergenceWarning: Stochastic Optimizer: Maximum iterations (200) reached and the optimization hasn't converged yet.\n",
      "  warnings.warn(\n",
      "/Users/fyenne/miniforge3/envs/siming/lib/python3.8/site-packages/sklearn/neural_network/_multilayer_perceptron.py:614: ConvergenceWarning: Stochastic Optimizer: Maximum iterations (200) reached and the optimization hasn't converged yet.\n",
      "  warnings.warn(\n",
      "/Users/fyenne/miniforge3/envs/siming/lib/python3.8/site-packages/sklearn/neural_network/_multilayer_perceptron.py:614: ConvergenceWarning: Stochastic Optimizer: Maximum iterations (200) reached and the optimization hasn't converged yet.\n",
      "  warnings.warn(\n",
      "/Users/fyenne/miniforge3/envs/siming/lib/python3.8/site-packages/sklearn/neural_network/_multilayer_perceptron.py:614: ConvergenceWarning: Stochastic Optimizer: Maximum iterations (200) reached and the optimization hasn't converged yet.\n",
      "  warnings.warn(\n"
     ]
    },
    {
     "output_type": "execute_result",
     "data": {
      "text/plain": [
       "-4.300628158638928"
      ]
     },
     "metadata": {},
     "execution_count": 25
    }
   ],
   "source": [
    "from sklearn.neural_network import MLPRegressor\n",
    "alg3 = MLPRegressor(hidden_layer_sizes = (345, 3), max_iter=1000, activation = 'identity', solver = 'adam', learning_rate = 'adaptive')\n",
    "cv_results_3 = model_selection.cross_validate(alg3, bs_train, bs_tar, cv  = cv_split, scoring='neg_mean_absolute_percentage_error')\n",
    "cv_results_3['test_score'].mean()"
   ]
  },
  {
   "cell_type": "code",
   "execution_count": 84,
   "metadata": {},
   "outputs": [],
   "source": [
    "fit1 = alg2.fit(bs_train,bs_tar)\n",
    "fit1_pre = pd.DataFrame(fit1.predict(bs_tests))"
   ]
  },
  {
   "cell_type": "code",
   "execution_count": 85,
   "metadata": {},
   "outputs": [
    {
     "output_type": "execute_result",
     "data": {
      "text/plain": [
       "             0          1         2         3\n",
       "0    327937.79    9505.29  0.943754  0.995152\n",
       "1    325938.41   13655.43  0.919484  0.992974\n",
       "2    328990.20   12137.84  0.929069  0.993862\n",
       "3    339625.40   10400.52  0.941192  0.994972\n",
       "4    354218.91    9503.81  0.950571  0.995781\n",
       "..         ...        ...       ...       ...\n",
       "146  436631.37  102284.07  1.614388  1.039749\n",
       "147  425570.07  103591.03  1.644571  1.041385\n",
       "148  426341.80  108809.12  1.686190  1.043498\n",
       "149  418934.40  100801.86  1.636130  1.041005\n",
       "150  424496.83   96920.73  1.594109  1.038752\n",
       "\n",
       "[151 rows x 4 columns]"
      ],
      "text/html": "<div>\n<style scoped>\n    .dataframe tbody tr th:only-of-type {\n        vertical-align: middle;\n    }\n\n    .dataframe tbody tr th {\n        vertical-align: top;\n    }\n\n    .dataframe thead th {\n        text-align: right;\n    }\n</style>\n<table border=\"1\" class=\"dataframe\">\n  <thead>\n    <tr style=\"text-align: right;\">\n      <th></th>\n      <th>0</th>\n      <th>1</th>\n      <th>2</th>\n      <th>3</th>\n    </tr>\n  </thead>\n  <tbody>\n    <tr>\n      <th>0</th>\n      <td>327937.79</td>\n      <td>9505.29</td>\n      <td>0.943754</td>\n      <td>0.995152</td>\n    </tr>\n    <tr>\n      <th>1</th>\n      <td>325938.41</td>\n      <td>13655.43</td>\n      <td>0.919484</td>\n      <td>0.992974</td>\n    </tr>\n    <tr>\n      <th>2</th>\n      <td>328990.20</td>\n      <td>12137.84</td>\n      <td>0.929069</td>\n      <td>0.993862</td>\n    </tr>\n    <tr>\n      <th>3</th>\n      <td>339625.40</td>\n      <td>10400.52</td>\n      <td>0.941192</td>\n      <td>0.994972</td>\n    </tr>\n    <tr>\n      <th>4</th>\n      <td>354218.91</td>\n      <td>9503.81</td>\n      <td>0.950571</td>\n      <td>0.995781</td>\n    </tr>\n    <tr>\n      <th>...</th>\n      <td>...</td>\n      <td>...</td>\n      <td>...</td>\n      <td>...</td>\n    </tr>\n    <tr>\n      <th>146</th>\n      <td>436631.37</td>\n      <td>102284.07</td>\n      <td>1.614388</td>\n      <td>1.039749</td>\n    </tr>\n    <tr>\n      <th>147</th>\n      <td>425570.07</td>\n      <td>103591.03</td>\n      <td>1.644571</td>\n      <td>1.041385</td>\n    </tr>\n    <tr>\n      <th>148</th>\n      <td>426341.80</td>\n      <td>108809.12</td>\n      <td>1.686190</td>\n      <td>1.043498</td>\n    </tr>\n    <tr>\n      <th>149</th>\n      <td>418934.40</td>\n      <td>100801.86</td>\n      <td>1.636130</td>\n      <td>1.041005</td>\n    </tr>\n    <tr>\n      <th>150</th>\n      <td>424496.83</td>\n      <td>96920.73</td>\n      <td>1.594109</td>\n      <td>1.038752</td>\n    </tr>\n  </tbody>\n</table>\n<p>151 rows × 4 columns</p>\n</div>"
     },
     "metadata": {},
     "execution_count": 85
    }
   ],
   "source": [
    "fit1_pre"
   ]
  },
  {
   "source": [
    "---\n",
    "\n",
    "## what u need in final move has done above."
   ],
   "cell_type": "markdown",
   "metadata": {}
  },
  {
   "cell_type": "code",
   "execution_count": 243,
   "metadata": {},
   "outputs": [],
   "source": [
    "train_raw = train_raw.drop(['A厂','B厂'], axis = 1)\n",
    "tests_raw = tests_raw.drop(['A厂','B厂'], axis = 1)"
   ]
  },
  {
   "cell_type": "code",
   "execution_count": 244,
   "metadata": {},
   "outputs": [
    {
     "output_type": "execute_result",
     "data": {
      "text/plain": [
       "['year', 'month', 'date']"
      ]
     },
     "metadata": {},
     "execution_count": 244
    }
   ],
   "source": [
    "list(train_raw.columns)[:-1]"
   ]
  },
  {
   "cell_type": "code",
   "execution_count": 245,
   "metadata": {},
   "outputs": [
    {
     "output_type": "stream",
     "name": "stdout",
     "text": [
      "Parse progress: |█████████████████████████████████████████████████████████| 100%\n"
     ]
    }
   ],
   "source": [
    "train_list=list(train_raw.columns)[:-1]\n",
    "train_1=h2o.H2OFrame(train_raw)"
   ]
  },
  {
   "cell_type": "code",
   "execution_count": 246,
   "metadata": {},
   "outputs": [
    {
     "output_type": "display_data",
     "data": {
      "text/html": "<table>\n<thead>\n<tr><th style=\"text-align: right;\">  year</th><th style=\"text-align: right;\">  month</th><th style=\"text-align: right;\">  date</th><th style=\"text-align: right;\">     log</th></tr>\n</thead>\n<tbody>\n<tr><td style=\"text-align: right;\">  2018</td><td style=\"text-align: right;\">      1</td><td style=\"text-align: right;\">     1</td><td style=\"text-align: right;\">1.00473 </td></tr>\n<tr><td style=\"text-align: right;\">  2018</td><td style=\"text-align: right;\">      1</td><td style=\"text-align: right;\">     2</td><td style=\"text-align: right;\">1.00274 </td></tr>\n<tr><td style=\"text-align: right;\">  2018</td><td style=\"text-align: right;\">      1</td><td style=\"text-align: right;\">     3</td><td style=\"text-align: right;\">1.00248 </td></tr>\n<tr><td style=\"text-align: right;\">  2018</td><td style=\"text-align: right;\">      1</td><td style=\"text-align: right;\">     4</td><td style=\"text-align: right;\">1.00144 </td></tr>\n<tr><td style=\"text-align: right;\">  2018</td><td style=\"text-align: right;\">      1</td><td style=\"text-align: right;\">     5</td><td style=\"text-align: right;\">0.996423</td></tr>\n<tr><td style=\"text-align: right;\">  2018</td><td style=\"text-align: right;\">      1</td><td style=\"text-align: right;\">     6</td><td style=\"text-align: right;\">1.00498 </td></tr>\n<tr><td style=\"text-align: right;\">  2018</td><td style=\"text-align: right;\">      1</td><td style=\"text-align: right;\">     7</td><td style=\"text-align: right;\">1.00067 </td></tr>\n<tr><td style=\"text-align: right;\">  2018</td><td style=\"text-align: right;\">      1</td><td style=\"text-align: right;\">     8</td><td style=\"text-align: right;\">1.00347 </td></tr>\n<tr><td style=\"text-align: right;\">  2018</td><td style=\"text-align: right;\">      1</td><td style=\"text-align: right;\">     9</td><td style=\"text-align: right;\">1.00272 </td></tr>\n<tr><td style=\"text-align: right;\">  2018</td><td style=\"text-align: right;\">      1</td><td style=\"text-align: right;\">    10</td><td style=\"text-align: right;\">0.998692</td></tr>\n</tbody>\n</table>"
     },
     "metadata": {}
    },
    {
     "output_type": "execute_result",
     "data": {
      "text/plain": []
     },
     "metadata": {},
     "execution_count": 246
    }
   ],
   "source": [
    "train_1"
   ]
  },
  {
   "source": [
    "# train!"
   ],
   "cell_type": "markdown",
   "metadata": {}
  },
  {
   "cell_type": "code",
   "execution_count": 73,
   "metadata": {},
   "outputs": [],
   "source": [
    "param = {\n",
    "      \"ntrees\" : 1060\n",
    "    , \"max_depth\" : 15\n",
    "    , \"learn_rate\" : 0.05\n",
    "    , \"sample_rate\" : 0.7\n",
    "    , \"col_sample_rate_per_tree\" : 0.9\n",
    "    , \"min_rows\" : 5\n",
    "    , \"seed\": 4240\n",
    "    , \"score_tree_interval\": 100\n",
    "    , \"stopping_metric\" :\"MSE\"\n",
    "    , \"nfolds\":8\n",
    "    , \"fold_assignment\":\"AUTO\"\n",
    "    , \"keep_cross_validation_predictions\" : True\n",
    "    # , \"booster\":\"dart\"\n",
    "}\n",
    "\n",
    "from h2o.estimators import H2OXGBoostEstimator\n",
    "model_xgb = H2OXGBoostEstimator(**param)\n",
    "model_xgb.train(x = train_list, y = 'log', training_frame = train_1)\n",
    "# param={\n",
    "#     \"ntrees\" : 1060\n",
    "#     , \"max_depth\" : 15\n",
    "#     , \"learn_rate\" : 0.02\n",
    "#     , \"sample_rate\" : 0.7\n",
    "#     , \"col_sample_rate_per_tree\" : 0.9\n",
    "#     , \"min_rows\" : 5\n",
    "#     , \"seed\": 4240\n",
    "#     , \"score_tree_interval\": 100\n",
    "#     , \"stopping_metric\" :\"RMSE\"\n",
    "#     , \"nfolds\":8\n",
    "#     , \"fold_assignment\":\"AUTO\"\n",
    "#     , \"keep_cross_validation_predictions\" : True\n",
    "#  }"
   ]
  },
  {
   "cell_type": "code",
   "execution_count": 248,
   "metadata": {},
   "outputs": [
    {
     "output_type": "stream",
     "name": "stderr",
     "text": [
      "/Users/fyenne/miniforge3/envs/siming/lib/python3.8/site-packages/h2o/estimators/estimator_base.py:200: RuntimeWarning: Stopping metric is ignored for _stopping_rounds=0.\n",
      "  warnings.warn(mesg[\"message\"], RuntimeWarning)\n",
      "gbm Model Build progress: |███████████████████████████████████████████████| 100%\n"
     ]
    }
   ],
   "source": [
    "from h2o.estimators.gbm import H2OGradientBoostingEstimator  # import gbm estimator\n",
    "model_gbm = H2OGradientBoostingEstimator(**param)\n",
    "model_gbm.train(x = train_list, y = 'log', training_frame = train_1)"
   ]
  },
  {
   "cell_type": "code",
   "execution_count": 202,
   "metadata": {},
   "outputs": [
    {
     "output_type": "stream",
     "name": "stdout",
     "text": [
      "stackedensemble Model Build progress: |███████████████████████████████████| 100%\n"
     ]
    }
   ],
   "source": [
    "from h2o.estimators import H2OStackedEnsembleEstimator\n",
    "stack = H2OStackedEnsembleEstimator(model_id=\"ensemble11\",\n",
    "                                       training_frame=train_1,\n",
    "                                       #validation_frame=test,\n",
    "                                       base_models=[model_xgb.model_id,model_gbm.model_id],\n",
    "                                    metalearner_algorithm=\"glm\")\n",
    "stack.train(x=train_list, y=\"log\", training_frame=train_1)"
   ]
  },
  {
   "cell_type": "code",
   "execution_count": 204,
   "metadata": {},
   "outputs": [
    {
     "output_type": "execute_result",
     "data": {
      "text/plain": [
       "     year month date  sub\n",
       "0    2020    11   01  -37\n",
       "1    2020    11   02  187\n",
       "2    2020    11   03 -615\n",
       "3    2020    11   04 -453\n",
       "4    2020    11   05 -254\n",
       "..    ...   ...  ...  ...\n",
       "146  2021    03   27 -739\n",
       "147  2021    03   28 -132\n",
       "148  2021    03   29 -278\n",
       "149  2021    03   30  201\n",
       "150  2021    03   31 -313\n",
       "\n",
       "[151 rows x 4 columns]"
      ],
      "text/html": "<div>\n<style scoped>\n    .dataframe tbody tr th:only-of-type {\n        vertical-align: middle;\n    }\n\n    .dataframe tbody tr th {\n        vertical-align: top;\n    }\n\n    .dataframe thead th {\n        text-align: right;\n    }\n</style>\n<table border=\"1\" class=\"dataframe\">\n  <thead>\n    <tr style=\"text-align: right;\">\n      <th></th>\n      <th>year</th>\n      <th>month</th>\n      <th>date</th>\n      <th>sub</th>\n    </tr>\n  </thead>\n  <tbody>\n    <tr>\n      <th>0</th>\n      <td>2020</td>\n      <td>11</td>\n      <td>01</td>\n      <td>-37</td>\n    </tr>\n    <tr>\n      <th>1</th>\n      <td>2020</td>\n      <td>11</td>\n      <td>02</td>\n      <td>187</td>\n    </tr>\n    <tr>\n      <th>2</th>\n      <td>2020</td>\n      <td>11</td>\n      <td>03</td>\n      <td>-615</td>\n    </tr>\n    <tr>\n      <th>3</th>\n      <td>2020</td>\n      <td>11</td>\n      <td>04</td>\n      <td>-453</td>\n    </tr>\n    <tr>\n      <th>4</th>\n      <td>2020</td>\n      <td>11</td>\n      <td>05</td>\n      <td>-254</td>\n    </tr>\n    <tr>\n      <th>...</th>\n      <td>...</td>\n      <td>...</td>\n      <td>...</td>\n      <td>...</td>\n    </tr>\n    <tr>\n      <th>146</th>\n      <td>2021</td>\n      <td>03</td>\n      <td>27</td>\n      <td>-739</td>\n    </tr>\n    <tr>\n      <th>147</th>\n      <td>2021</td>\n      <td>03</td>\n      <td>28</td>\n      <td>-132</td>\n    </tr>\n    <tr>\n      <th>148</th>\n      <td>2021</td>\n      <td>03</td>\n      <td>29</td>\n      <td>-278</td>\n    </tr>\n    <tr>\n      <th>149</th>\n      <td>2021</td>\n      <td>03</td>\n      <td>30</td>\n      <td>201</td>\n    </tr>\n    <tr>\n      <th>150</th>\n      <td>2021</td>\n      <td>03</td>\n      <td>31</td>\n      <td>-313</td>\n    </tr>\n  </tbody>\n</table>\n<p>151 rows × 4 columns</p>\n</div>"
     },
     "metadata": {},
     "execution_count": 204
    }
   ],
   "source": [
    "tests_raw"
   ]
  },
  {
   "cell_type": "code",
   "execution_count": 249,
   "metadata": {},
   "outputs": [
    {
     "output_type": "stream",
     "name": "stdout",
     "text": [
      "Parse progress: |█████████████████████████████████████████████████████████| 100%\n",
      "xgboost prediction progress: |████████████████████████████████████████████| 100%\n",
      "gbm prediction progress: |████████████████████████████████████████████████| 100%\n"
     ]
    }
   ],
   "source": [
    "test_1=h2o.H2OFrame(tests_raw) #### \n",
    "pred1=model_xgb.predict(test_1)\n",
    "pred2=model_gbm.predict(test_1)\n",
    "pred_df1=pred1.as_data_frame()\n",
    "pred_df2=pred2.as_data_frame()\n",
    "\n",
    "weights = {\n",
    "    'lgb_model': 9,\n",
    "    'xgb_model': 1\n",
    "}\n",
    "\n",
    "final_preds = (pred2 * weights['lgb_model'] + pred1 * weights['xgb_model']) / (weights['lgb_model'] + weights['xgb_model'])"
   ]
  },
  {
   "cell_type": "code",
   "execution_count": 250,
   "metadata": {},
   "outputs": [
    {
     "output_type": "display_data",
     "data": {
      "text/html": "<table>\n<thead>\n<tr><th style=\"text-align: right;\">  predict</th></tr>\n</thead>\n<tbody>\n<tr><td style=\"text-align: right;\"> 0.99243 </td></tr>\n<tr><td style=\"text-align: right;\"> 0.996435</td></tr>\n<tr><td style=\"text-align: right;\"> 1.00053 </td></tr>\n<tr><td style=\"text-align: right;\"> 0.997961</td></tr>\n<tr><td style=\"text-align: right;\"> 0.998204</td></tr>\n<tr><td style=\"text-align: right;\"> 1.00501 </td></tr>\n<tr><td style=\"text-align: right;\"> 1.00177 </td></tr>\n<tr><td style=\"text-align: right;\"> 1.01281 </td></tr>\n<tr><td style=\"text-align: right;\"> 1.0138  </td></tr>\n<tr><td style=\"text-align: right;\"> 1.01623 </td></tr>\n</tbody>\n</table>"
     },
     "metadata": {}
    },
    {
     "output_type": "execute_result",
     "data": {
      "text/plain": []
     },
     "metadata": {},
     "execution_count": 250
    }
   ],
   "source": [
    "final_preds"
   ]
  },
  {
   "cell_type": "code",
   "execution_count": 207,
   "metadata": {},
   "outputs": [
    {
     "output_type": "stream",
     "name": "stdout",
     "text": [
      "Parse progress: |█████████████████████████████████████████████████████████| 100%\n",
      "stackedensemble prediction progress: |████████████████████████████████████| 100%\n"
     ]
    }
   ],
   "source": [
    "test_1=h2o.H2OFrame(tests_raw)\n",
    "pred3 = stack.predict(test_1)"
   ]
  },
  {
   "source": [
    "# three vars:"
   ],
   "cell_type": "markdown",
   "metadata": {}
  },
  {
   "cell_type": "code",
   "execution_count": 81,
   "metadata": {},
   "outputs": [],
   "source": [
    "# sum_pred = h2o.as_list(pred3)\n",
    "sum_in_tests = pd.concat([sum_pred, sum_pred], axis = 0)"
   ]
  },
  {
   "cell_type": "code",
   "execution_count": 213,
   "metadata": {},
   "outputs": [],
   "source": [
    "sub_pred = h2o.as_list(final_preds)\n",
    "sub_in_tests = pd.concat([sub_pred, sub_pred], axis = 0)"
   ]
  },
  {
   "cell_type": "code",
   "execution_count": 82,
   "metadata": {},
   "outputs": [],
   "source": [
    "# div_pred = h2o.as_list(pred3)\n",
    "div_in_tests = pd.concat([div_pred, div_pred], axis = 0)"
   ]
  },
  {
   "cell_type": "code",
   "execution_count": 251,
   "metadata": {},
   "outputs": [],
   "source": [
    "log_pred = h2o.as_list(final_preds)\n",
    "log_in_tests = pd.concat([log_pred, log_pred], axis = 0)"
   ]
  },
  {
   "cell_type": "code",
   "execution_count": null,
   "metadata": {},
   "outputs": [],
   "source": []
  },
  {
   "cell_type": "code",
   "execution_count": 151,
   "metadata": {},
   "outputs": [],
   "source": [
    "h2o_extra_predict = h2o.as_list(pred3)"
   ]
  },
  {
   "cell_type": "code",
   "execution_count": 152,
   "metadata": {},
   "outputs": [],
   "source": [
    "h2o_extra_predict = h2o_extra_predict['predict']"
   ]
  },
  {
   "cell_type": "code",
   "execution_count": 153,
   "metadata": {},
   "outputs": [
    {
     "output_type": "execute_result",
     "data": {
      "text/plain": [
       "0      215864.008289\n",
       "1      215942.855956\n",
       "2      216418.497391\n",
       "3      216292.699603\n",
       "4      216109.361190\n",
       "           ...      \n",
       "297    213976.461382\n",
       "298    213924.097302\n",
       "299    213895.186416\n",
       "300    214272.057598\n",
       "301    213906.029365\n",
       "Name: predict, Length: 302, dtype: float64"
      ]
     },
     "metadata": {},
     "execution_count": 153
    }
   ],
   "source": [
    "h2o_extra_predict"
   ]
  },
  {
   "source": [
    "---"
   ],
   "cell_type": "markdown",
   "metadata": {}
  },
  {
   "source": [
    "# feed sum back to train"
   ],
   "cell_type": "markdown",
   "metadata": {}
  },
  {
   "cell_type": "code",
   "execution_count": 253,
   "metadata": {},
   "outputs": [],
   "source": [
    "train_raw2 = pd.read_csv('/Users/fyenne/Downloads/booooks/semester5/pythonAAE/open_data_com/data/raw_train.csv')\n",
    "tests_raw2 = pd.read_csv('/Users/fyenne/Downloads/booooks/semester5/pythonAAE/open_data_com/data/raw_tests.csv')"
   ]
  },
  {
   "cell_type": "code",
   "execution_count": 270,
   "metadata": {},
   "outputs": [
    {
     "output_type": "execute_result",
     "data": {
      "text/plain": [
       "            A厂   B厂  year  month  date  wee       sum       div      sub  \\\n",
       "0     200692.0  0.0     1      1  2018    1  390182.0  1.059117  11202.0   \n",
       "1     218365.0  0.0     1      2  2018    1  429512.0  1.034185   7218.0   \n",
       "2     224501.0  0.0     1      3  2018    1  442268.0  1.030923   6734.0   \n",
       "3     216431.0  0.0     1      4  2018    1  429067.0  1.017847   3795.0   \n",
       "4     200447.0  0.0     1      5  2018    1  409874.0  0.957121  -8980.0   \n",
       "...        ...  ...   ...    ...   ...  ...       ...       ...      ...   \n",
       "2065  241711.0  1.0    10     27  2020    1  522909.0  1.163365  39487.0   \n",
       "2066  240281.0  1.0    10     28  2020    1  515879.0  1.146982  35317.0   \n",
       "2067  237466.0  1.0    10     29  2020    1  506010.0  1.130873  31078.0   \n",
       "2068  237611.0  1.0    10     30  2020    1  523095.0  1.201476  47873.0   \n",
       "2069  236154.0  1.0    10     31  2020    0  511284.0  1.165045  38976.0   \n",
       "\n",
       "           log  \n",
       "0     1.004726  \n",
       "1     1.002742  \n",
       "2     1.002478  \n",
       "3     1.001442  \n",
       "4     0.996423  \n",
       "...        ...  \n",
       "2065  1.012207  \n",
       "2066  1.011069  \n",
       "2067  1.009936  \n",
       "2068  1.014828  \n",
       "2069  1.012347  \n",
       "\n",
       "[2070 rows x 10 columns]"
      ],
      "text/html": "<div>\n<style scoped>\n    .dataframe tbody tr th:only-of-type {\n        vertical-align: middle;\n    }\n\n    .dataframe tbody tr th {\n        vertical-align: top;\n    }\n\n    .dataframe thead th {\n        text-align: right;\n    }\n</style>\n<table border=\"1\" class=\"dataframe\">\n  <thead>\n    <tr style=\"text-align: right;\">\n      <th></th>\n      <th>A厂</th>\n      <th>B厂</th>\n      <th>year</th>\n      <th>month</th>\n      <th>date</th>\n      <th>wee</th>\n      <th>sum</th>\n      <th>div</th>\n      <th>sub</th>\n      <th>log</th>\n    </tr>\n  </thead>\n  <tbody>\n    <tr>\n      <th>0</th>\n      <td>200692.0</td>\n      <td>0.0</td>\n      <td>1</td>\n      <td>1</td>\n      <td>2018</td>\n      <td>1</td>\n      <td>390182.0</td>\n      <td>1.059117</td>\n      <td>11202.0</td>\n      <td>1.004726</td>\n    </tr>\n    <tr>\n      <th>1</th>\n      <td>218365.0</td>\n      <td>0.0</td>\n      <td>1</td>\n      <td>2</td>\n      <td>2018</td>\n      <td>1</td>\n      <td>429512.0</td>\n      <td>1.034185</td>\n      <td>7218.0</td>\n      <td>1.002742</td>\n    </tr>\n    <tr>\n      <th>2</th>\n      <td>224501.0</td>\n      <td>0.0</td>\n      <td>1</td>\n      <td>3</td>\n      <td>2018</td>\n      <td>1</td>\n      <td>442268.0</td>\n      <td>1.030923</td>\n      <td>6734.0</td>\n      <td>1.002478</td>\n    </tr>\n    <tr>\n      <th>3</th>\n      <td>216431.0</td>\n      <td>0.0</td>\n      <td>1</td>\n      <td>4</td>\n      <td>2018</td>\n      <td>1</td>\n      <td>429067.0</td>\n      <td>1.017847</td>\n      <td>3795.0</td>\n      <td>1.001442</td>\n    </tr>\n    <tr>\n      <th>4</th>\n      <td>200447.0</td>\n      <td>0.0</td>\n      <td>1</td>\n      <td>5</td>\n      <td>2018</td>\n      <td>1</td>\n      <td>409874.0</td>\n      <td>0.957121</td>\n      <td>-8980.0</td>\n      <td>0.996423</td>\n    </tr>\n    <tr>\n      <th>...</th>\n      <td>...</td>\n      <td>...</td>\n      <td>...</td>\n      <td>...</td>\n      <td>...</td>\n      <td>...</td>\n      <td>...</td>\n      <td>...</td>\n      <td>...</td>\n      <td>...</td>\n    </tr>\n    <tr>\n      <th>2065</th>\n      <td>241711.0</td>\n      <td>1.0</td>\n      <td>10</td>\n      <td>27</td>\n      <td>2020</td>\n      <td>1</td>\n      <td>522909.0</td>\n      <td>1.163365</td>\n      <td>39487.0</td>\n      <td>1.012207</td>\n    </tr>\n    <tr>\n      <th>2066</th>\n      <td>240281.0</td>\n      <td>1.0</td>\n      <td>10</td>\n      <td>28</td>\n      <td>2020</td>\n      <td>1</td>\n      <td>515879.0</td>\n      <td>1.146982</td>\n      <td>35317.0</td>\n      <td>1.011069</td>\n    </tr>\n    <tr>\n      <th>2067</th>\n      <td>237466.0</td>\n      <td>1.0</td>\n      <td>10</td>\n      <td>29</td>\n      <td>2020</td>\n      <td>1</td>\n      <td>506010.0</td>\n      <td>1.130873</td>\n      <td>31078.0</td>\n      <td>1.009936</td>\n    </tr>\n    <tr>\n      <th>2068</th>\n      <td>237611.0</td>\n      <td>1.0</td>\n      <td>10</td>\n      <td>30</td>\n      <td>2020</td>\n      <td>1</td>\n      <td>523095.0</td>\n      <td>1.201476</td>\n      <td>47873.0</td>\n      <td>1.014828</td>\n    </tr>\n    <tr>\n      <th>2069</th>\n      <td>236154.0</td>\n      <td>1.0</td>\n      <td>10</td>\n      <td>31</td>\n      <td>2020</td>\n      <td>0</td>\n      <td>511284.0</td>\n      <td>1.165045</td>\n      <td>38976.0</td>\n      <td>1.012347</td>\n    </tr>\n  </tbody>\n</table>\n<p>2070 rows × 10 columns</p>\n</div>"
     },
     "metadata": {},
     "execution_count": 270
    }
   ],
   "source": [
    "train_raw2\n",
    "# tests_raw2"
   ]
  },
  {
   "cell_type": "code",
   "execution_count": 263,
   "metadata": {},
   "outputs": [],
   "source": [
    "train_raw2['sum'] = list(pd.concat([train_raw['sum'],train_raw['sum']], axis = 0))\n",
    "train_raw2['div'] = list(pd.concat([train_raw['div'],train_raw['div']], axis = 0))\n",
    "train_raw2['sub'] = list(pd.concat([train_raw['sub'],train_raw['sub']], axis = 0))\n",
    "train_raw2['log'] = list(pd.concat([train_raw['log'],train_raw['log']], axis = 0))\n",
    "tests_raw2['sum'] = list(sum_in_tests['predict'])\n",
    "tests_raw2['div'] = list(div_in_tests['predict'])\n",
    "tests_raw2['sub'] = list(sub_in_tests['predict'])\n",
    "tests_raw2['log'] = list(log_in_tests['predict'])"
   ]
  },
  {
   "cell_type": "code",
   "execution_count": 272,
   "metadata": {},
   "outputs": [
    {
     "output_type": "stream",
     "name": "stdout",
     "text": [
      "Parse progress: |█████████████████████████████████████████████████████████| 100%\n"
     ]
    }
   ],
   "source": [
    "train_list=list(train_raw2.columns)[1:]\n",
    "train_1=h2o.H2OFrame(train_raw2)"
   ]
  },
  {
   "cell_type": "code",
   "execution_count": 274,
   "metadata": {},
   "outputs": [
    {
     "output_type": "display_data",
     "data": {
      "text/html": "<table>\n<thead>\n<tr><th style=\"text-align: right;\">   A厂</th><th style=\"text-align: right;\">  B厂</th><th style=\"text-align: right;\">  year</th><th style=\"text-align: right;\">  month</th><th style=\"text-align: right;\">  date</th><th style=\"text-align: right;\">  wee</th><th style=\"text-align: right;\">   sum</th><th style=\"text-align: right;\">     div</th><th style=\"text-align: right;\">  sub</th><th style=\"text-align: right;\">     log</th></tr>\n</thead>\n<tbody>\n<tr><td style=\"text-align: right;\">200692</td><td style=\"text-align: right;\">    0</td><td style=\"text-align: right;\">     1</td><td style=\"text-align: right;\">      1</td><td style=\"text-align: right;\">  2018</td><td style=\"text-align: right;\">    1</td><td style=\"text-align: right;\">390182</td><td style=\"text-align: right;\">1.05912 </td><td style=\"text-align: right;\">11202</td><td style=\"text-align: right;\">1.00473 </td></tr>\n<tr><td style=\"text-align: right;\">218365</td><td style=\"text-align: right;\">    0</td><td style=\"text-align: right;\">     1</td><td style=\"text-align: right;\">      2</td><td style=\"text-align: right;\">  2018</td><td style=\"text-align: right;\">    1</td><td style=\"text-align: right;\">429512</td><td style=\"text-align: right;\">1.03418 </td><td style=\"text-align: right;\"> 7218</td><td style=\"text-align: right;\">1.00274 </td></tr>\n<tr><td style=\"text-align: right;\">224501</td><td style=\"text-align: right;\">    0</td><td style=\"text-align: right;\">     1</td><td style=\"text-align: right;\">      3</td><td style=\"text-align: right;\">  2018</td><td style=\"text-align: right;\">    1</td><td style=\"text-align: right;\">442268</td><td style=\"text-align: right;\">1.03092 </td><td style=\"text-align: right;\"> 6734</td><td style=\"text-align: right;\">1.00248 </td></tr>\n<tr><td style=\"text-align: right;\">216431</td><td style=\"text-align: right;\">    0</td><td style=\"text-align: right;\">     1</td><td style=\"text-align: right;\">      4</td><td style=\"text-align: right;\">  2018</td><td style=\"text-align: right;\">    1</td><td style=\"text-align: right;\">429067</td><td style=\"text-align: right;\">1.01785 </td><td style=\"text-align: right;\"> 3795</td><td style=\"text-align: right;\">1.00144 </td></tr>\n<tr><td style=\"text-align: right;\">200447</td><td style=\"text-align: right;\">    0</td><td style=\"text-align: right;\">     1</td><td style=\"text-align: right;\">      5</td><td style=\"text-align: right;\">  2018</td><td style=\"text-align: right;\">    1</td><td style=\"text-align: right;\">409874</td><td style=\"text-align: right;\">0.957121</td><td style=\"text-align: right;\">-8980</td><td style=\"text-align: right;\">0.996423</td></tr>\n<tr><td style=\"text-align: right;\">197836</td><td style=\"text-align: right;\">    0</td><td style=\"text-align: right;\">     1</td><td style=\"text-align: right;\">      6</td><td style=\"text-align: right;\">  2018</td><td style=\"text-align: right;\">    0</td><td style=\"text-align: right;\">384063</td><td style=\"text-align: right;\">1.06234 </td><td style=\"text-align: right;\">11609</td><td style=\"text-align: right;\">1.00498 </td></tr>\n<tr><td style=\"text-align: right;\">198552</td><td style=\"text-align: right;\">    0</td><td style=\"text-align: right;\">     1</td><td style=\"text-align: right;\">      7</td><td style=\"text-align: right;\">  2018</td><td style=\"text-align: right;\">    0</td><td style=\"text-align: right;\">395477</td><td style=\"text-align: right;\">1.00826 </td><td style=\"text-align: right;\"> 1627</td><td style=\"text-align: right;\">1.00067 </td></tr>\n<tr><td style=\"text-align: right;\">197743</td><td style=\"text-align: right;\">    0</td><td style=\"text-align: right;\">     1</td><td style=\"text-align: right;\">      8</td><td style=\"text-align: right;\">  2018</td><td style=\"text-align: right;\">    1</td><td style=\"text-align: right;\">387311</td><td style=\"text-align: right;\">1.04312 </td><td style=\"text-align: right;\"> 8175</td><td style=\"text-align: right;\">1.00347 </td></tr>\n<tr><td style=\"text-align: right;\">191391</td><td style=\"text-align: right;\">    0</td><td style=\"text-align: right;\">     1</td><td style=\"text-align: right;\">      9</td><td style=\"text-align: right;\">  2018</td><td style=\"text-align: right;\">    1</td><td style=\"text-align: right;\">376574</td><td style=\"text-align: right;\">1.03352 </td><td style=\"text-align: right;\"> 6208</td><td style=\"text-align: right;\">1.00272 </td></tr>\n<tr><td style=\"text-align: right;\">197122</td><td style=\"text-align: right;\">    0</td><td style=\"text-align: right;\">     1</td><td style=\"text-align: right;\">     10</td><td style=\"text-align: right;\">  2018</td><td style=\"text-align: right;\">    1</td><td style=\"text-align: right;\">397418</td><td style=\"text-align: right;\">0.984153</td><td style=\"text-align: right;\">-3174</td><td style=\"text-align: right;\">0.998692</td></tr>\n</tbody>\n</table>"
     },
     "metadata": {}
    },
    {
     "output_type": "execute_result",
     "data": {
      "text/plain": []
     },
     "metadata": {},
     "execution_count": 274
    }
   ],
   "source": [
    "train_1"
   ]
  },
  {
   "cell_type": "code",
   "execution_count": 275,
   "metadata": {},
   "outputs": [
    {
     "output_type": "stream",
     "name": "stderr",
     "text": [
      "/Users/fyenne/miniforge3/envs/siming/lib/python3.8/site-packages/h2o/estimators/estimator_base.py:200: RuntimeWarning: Stopping metric is ignored for _stopping_rounds=0.\n",
      "  warnings.warn(mesg[\"message\"], RuntimeWarning)\n",
      "xgboost Model Build progress: |███████████████████████████████████████████| 100%\n"
     ]
    }
   ],
   "source": [
    "param = {\n",
    "      \"ntrees\" : 2070\n",
    "    , \"max_depth\" : 15\n",
    "    , \"learn_rate\" : 0.01\n",
    "    # , \"sample_rate\" : 0.7\n",
    "    , \"col_sample_rate_per_tree\" : 0.9\n",
    "    , \"min_rows\" : 5\n",
    "    , \"seed\": 4240\n",
    "    , \"score_tree_interval\": 100\n",
    "    , \"stopping_metric\" :\"MSE\"\n",
    "    , \"nfolds\":8\n",
    "    , \"fold_assignment\":\"AUTO\"\n",
    "    , \"keep_cross_validation_predictions\" : True\n",
    "    # , \"booster\":\"dart\"\n",
    "}\n",
    "\n",
    "from h2o.estimators import H2OXGBoostEstimator\n",
    "model_xgb = H2OXGBoostEstimator(**param)\n",
    "model_xgb.train(x = train_list, y = 'A厂', training_frame = train_1)"
   ]
  },
  {
   "cell_type": "code",
   "execution_count": 276,
   "metadata": {},
   "outputs": [
    {
     "output_type": "stream",
     "name": "stdout",
     "text": [
      "gbm Model Build progress: |███████████████████████████████████████████████| 100%\n"
     ]
    }
   ],
   "source": [
    "from h2o.estimators.gbm import H2OGradientBoostingEstimator  # import gbm estimator\n",
    "model_gbm = H2OGradientBoostingEstimator(**param)\n",
    "model_gbm.train(x = train_list, y = 'A厂', training_frame = train_1)"
   ]
  },
  {
   "cell_type": "code",
   "execution_count": 278,
   "metadata": {},
   "outputs": [
    {
     "output_type": "stream",
     "name": "stdout",
     "text": [
      "Parse progress: |█████████████████████████████████████████████████████████| 100%\n",
      "xgboost prediction progress: |████████████████████████████████████████████| 100%\n",
      "gbm prediction progress: |████████████████████████████████████████████████| 100%\n"
     ]
    }
   ],
   "source": [
    "test_1=h2o.H2OFrame(tests_raw2) #### \n",
    "pred1=model_xgb.predict(test_1)\n",
    "pred2=model_gbm.predict(test_1)\n",
    "pred_df1=pred1.as_data_frame()\n",
    "pred_df2=pred2.as_data_frame()\n",
    "\n",
    "weights = {\n",
    "    'lgb_model': 5,\n",
    "    'xgb_model': 5\n",
    "}\n",
    "\n",
    "final_preds = (pred2 * weights['lgb_model'] + pred1 * weights['xgb_model']) / (weights['lgb_model'] + weights['xgb_model'])"
   ]
  },
  {
   "cell_type": "code",
   "execution_count": 281,
   "metadata": {},
   "outputs": [
    {
     "output_type": "execute_result",
     "data": {
      "text/plain": [
       "           predict\n",
       "0    208607.430235\n",
       "1    212087.663406\n",
       "2    217484.933794\n",
       "3    213004.832236\n",
       "4    213907.125810\n",
       "..             ...\n",
       "297  170200.241547\n",
       "298  169949.498801\n",
       "299  173865.959451\n",
       "300  175512.196128\n",
       "301  173519.618419\n",
       "\n",
       "[302 rows x 1 columns]"
      ],
      "text/html": "<div>\n<style scoped>\n    .dataframe tbody tr th:only-of-type {\n        vertical-align: middle;\n    }\n\n    .dataframe tbody tr th {\n        vertical-align: top;\n    }\n\n    .dataframe thead th {\n        text-align: right;\n    }\n</style>\n<table border=\"1\" class=\"dataframe\">\n  <thead>\n    <tr style=\"text-align: right;\">\n      <th></th>\n      <th>predict</th>\n    </tr>\n  </thead>\n  <tbody>\n    <tr>\n      <th>0</th>\n      <td>208607.430235</td>\n    </tr>\n    <tr>\n      <th>1</th>\n      <td>212087.663406</td>\n    </tr>\n    <tr>\n      <th>2</th>\n      <td>217484.933794</td>\n    </tr>\n    <tr>\n      <th>3</th>\n      <td>213004.832236</td>\n    </tr>\n    <tr>\n      <th>4</th>\n      <td>213907.125810</td>\n    </tr>\n    <tr>\n      <th>...</th>\n      <td>...</td>\n    </tr>\n    <tr>\n      <th>297</th>\n      <td>170200.241547</td>\n    </tr>\n    <tr>\n      <th>298</th>\n      <td>169949.498801</td>\n    </tr>\n    <tr>\n      <th>299</th>\n      <td>173865.959451</td>\n    </tr>\n    <tr>\n      <th>300</th>\n      <td>175512.196128</td>\n    </tr>\n    <tr>\n      <th>301</th>\n      <td>173519.618419</td>\n    </tr>\n  </tbody>\n</table>\n<p>302 rows × 1 columns</p>\n</div>"
     },
     "metadata": {},
     "execution_count": 281
    }
   ],
   "source": [
    "h2o.as_list(final_preds)"
   ]
  },
  {
   "cell_type": "code",
   "execution_count": 282,
   "metadata": {},
   "outputs": [
    {
     "output_type": "execute_result",
     "data": {
      "text/plain": [
       "             日期             A厂             B厂\n",
       "0    2020/11/01  208607.430235  218149.521470\n",
       "1    2020/11/02  212087.663406  214417.444352\n",
       "2    2020/11/03  217484.933794  210193.388155\n",
       "3    2020/11/04  213004.832236  211813.280467\n",
       "4    2020/11/05  213907.125810  213306.723670\n",
       "..          ...            ...            ...\n",
       "146  2021/03/27  261283.009972  170200.241547\n",
       "147  2021/03/28  260716.930657  169949.498801\n",
       "148  2021/03/29  258132.864299  173865.959451\n",
       "149  2021/03/30  257303.799480  175512.196128\n",
       "150  2021/03/31  257803.640250  173519.618419\n",
       "\n",
       "[151 rows x 3 columns]"
      ],
      "text/html": "<div>\n<style scoped>\n    .dataframe tbody tr th:only-of-type {\n        vertical-align: middle;\n    }\n\n    .dataframe tbody tr th {\n        vertical-align: top;\n    }\n\n    .dataframe thead th {\n        text-align: right;\n    }\n</style>\n<table border=\"1\" class=\"dataframe\">\n  <thead>\n    <tr style=\"text-align: right;\">\n      <th></th>\n      <th>日期</th>\n      <th>A厂</th>\n      <th>B厂</th>\n    </tr>\n  </thead>\n  <tbody>\n    <tr>\n      <th>0</th>\n      <td>2020/11/01</td>\n      <td>208607.430235</td>\n      <td>218149.521470</td>\n    </tr>\n    <tr>\n      <th>1</th>\n      <td>2020/11/02</td>\n      <td>212087.663406</td>\n      <td>214417.444352</td>\n    </tr>\n    <tr>\n      <th>2</th>\n      <td>2020/11/03</td>\n      <td>217484.933794</td>\n      <td>210193.388155</td>\n    </tr>\n    <tr>\n      <th>3</th>\n      <td>2020/11/04</td>\n      <td>213004.832236</td>\n      <td>211813.280467</td>\n    </tr>\n    <tr>\n      <th>4</th>\n      <td>2020/11/05</td>\n      <td>213907.125810</td>\n      <td>213306.723670</td>\n    </tr>\n    <tr>\n      <th>...</th>\n      <td>...</td>\n      <td>...</td>\n      <td>...</td>\n    </tr>\n    <tr>\n      <th>146</th>\n      <td>2021/03/27</td>\n      <td>261283.009972</td>\n      <td>170200.241547</td>\n    </tr>\n    <tr>\n      <th>147</th>\n      <td>2021/03/28</td>\n      <td>260716.930657</td>\n      <td>169949.498801</td>\n    </tr>\n    <tr>\n      <th>148</th>\n      <td>2021/03/29</td>\n      <td>258132.864299</td>\n      <td>173865.959451</td>\n    </tr>\n    <tr>\n      <th>149</th>\n      <td>2021/03/30</td>\n      <td>257303.799480</td>\n      <td>175512.196128</td>\n    </tr>\n    <tr>\n      <th>150</th>\n      <td>2021/03/31</td>\n      <td>257803.640250</td>\n      <td>173519.618419</td>\n    </tr>\n  </tbody>\n</table>\n<p>151 rows × 3 columns</p>\n</div>"
     },
     "metadata": {},
     "execution_count": 282
    }
   ],
   "source": [
    "four_var_sub = sub\n",
    "four_var_sub['A厂'] = h2o.as_list(final_preds)['predict'][:151]\n",
    "four_var_sub['B厂'] = np.array(h2o.as_list(final_preds)['predict'][151:])\n",
    "four_var_sub"
   ]
  },
  {
   "cell_type": "code",
   "execution_count": 283,
   "metadata": {},
   "outputs": [],
   "source": [
    "four_var_sub.to_csv('./data/4_var.csv', index=False)"
   ]
  },
  {
   "cell_type": "code",
   "execution_count": 144,
   "metadata": {},
   "outputs": [],
   "source": [
    "bssub = sub"
   ]
  },
  {
   "cell_type": "code",
   "execution_count": 154,
   "metadata": {},
   "outputs": [],
   "source": [
    "bssub['A厂'] = h2o_extra_predict[:151]\n",
    "bssub['B厂'] = h2o_extra_predict[151:]"
   ]
  },
  {
   "cell_type": "code",
   "execution_count": 156,
   "metadata": {},
   "outputs": [
    {
     "output_type": "execute_result",
     "data": {
      "text/plain": [
       "0      215827.279169\n",
       "1      215763.857356\n",
       "2      215507.569231\n",
       "3      215575.478670\n",
       "4      215691.834521\n",
       "           ...      \n",
       "146    213976.461382\n",
       "147    213924.097302\n",
       "148    213895.186416\n",
       "149    214272.057598\n",
       "150    213906.029365\n",
       "Name: B厂, Length: 151, dtype: float64"
      ]
     },
     "metadata": {},
     "execution_count": 156
    }
   ],
   "source": [
    "bssub['B厂'] = np.array(h2o_extra_predict[151:]);bssub['B厂']"
   ]
  },
  {
   "cell_type": "code",
   "execution_count": 158,
   "metadata": {},
   "outputs": [],
   "source": [
    "bssub.to_csv('./data/h2o_extra_sub.csv', index=False)"
   ]
  },
  {
   "cell_type": "code",
   "execution_count": 159,
   "metadata": {},
   "outputs": [
    {
     "output_type": "execute_result",
     "data": {
      "text/plain": [
       "             日期             A厂             B厂\n",
       "0    2020/11/01  215864.008289  215827.279169\n",
       "1    2020/11/02  215942.855956  215763.857356\n",
       "2    2020/11/03  216418.497391  215507.569231\n",
       "3    2020/11/04  216292.699603  215575.478670\n",
       "4    2020/11/05  216109.361190  215691.834521\n",
       "..          ...            ...            ...\n",
       "146  2021/03/27  218158.815020  213976.461382\n",
       "147  2021/03/28  218281.091822  213924.097302\n",
       "148  2021/03/29  218198.176717  213895.186416\n",
       "149  2021/03/30  218055.381674  214272.057598\n",
       "150  2021/03/31  218057.242447  213906.029365\n",
       "\n",
       "[151 rows x 3 columns]"
      ],
      "text/html": "<div>\n<style scoped>\n    .dataframe tbody tr th:only-of-type {\n        vertical-align: middle;\n    }\n\n    .dataframe tbody tr th {\n        vertical-align: top;\n    }\n\n    .dataframe thead th {\n        text-align: right;\n    }\n</style>\n<table border=\"1\" class=\"dataframe\">\n  <thead>\n    <tr style=\"text-align: right;\">\n      <th></th>\n      <th>日期</th>\n      <th>A厂</th>\n      <th>B厂</th>\n    </tr>\n  </thead>\n  <tbody>\n    <tr>\n      <th>0</th>\n      <td>2020/11/01</td>\n      <td>215864.008289</td>\n      <td>215827.279169</td>\n    </tr>\n    <tr>\n      <th>1</th>\n      <td>2020/11/02</td>\n      <td>215942.855956</td>\n      <td>215763.857356</td>\n    </tr>\n    <tr>\n      <th>2</th>\n      <td>2020/11/03</td>\n      <td>216418.497391</td>\n      <td>215507.569231</td>\n    </tr>\n    <tr>\n      <th>3</th>\n      <td>2020/11/04</td>\n      <td>216292.699603</td>\n      <td>215575.478670</td>\n    </tr>\n    <tr>\n      <th>4</th>\n      <td>2020/11/05</td>\n      <td>216109.361190</td>\n      <td>215691.834521</td>\n    </tr>\n    <tr>\n      <th>...</th>\n      <td>...</td>\n      <td>...</td>\n      <td>...</td>\n    </tr>\n    <tr>\n      <th>146</th>\n      <td>2021/03/27</td>\n      <td>218158.815020</td>\n      <td>213976.461382</td>\n    </tr>\n    <tr>\n      <th>147</th>\n      <td>2021/03/28</td>\n      <td>218281.091822</td>\n      <td>213924.097302</td>\n    </tr>\n    <tr>\n      <th>148</th>\n      <td>2021/03/29</td>\n      <td>218198.176717</td>\n      <td>213895.186416</td>\n    </tr>\n    <tr>\n      <th>149</th>\n      <td>2021/03/30</td>\n      <td>218055.381674</td>\n      <td>214272.057598</td>\n    </tr>\n    <tr>\n      <th>150</th>\n      <td>2021/03/31</td>\n      <td>218057.242447</td>\n      <td>213906.029365</td>\n    </tr>\n  </tbody>\n</table>\n<p>151 rows × 3 columns</p>\n</div>"
     },
     "metadata": {},
     "execution_count": 159
    }
   ],
   "source": [
    "bssub"
   ]
  },
  {
   "cell_type": "code",
   "execution_count": 175,
   "metadata": {},
   "outputs": [],
   "source": [
    "bsub2 = bssub\n",
    "bsub_gbm = bssub\n",
    "bsub_mixin = bssub"
   ]
  },
  {
   "cell_type": "code",
   "execution_count": 176,
   "metadata": {},
   "outputs": [
    {
     "output_type": "execute_result",
     "data": {
      "text/plain": [
       "             日期             A厂             B厂\n",
       "0    2020/11/01  215426.828125  214070.031250\n",
       "1    2020/11/02  217470.593750  213393.656250\n",
       "2    2020/11/03  223888.859375  207705.046875\n",
       "3    2020/11/04  222198.906250  208902.546875\n",
       "4    2020/11/05  220658.812500  210942.937500\n",
       "..          ...            ...            ...\n",
       "146  2021/03/27  259832.296875  174713.703125\n",
       "147  2021/03/28  262186.281250  173670.296875\n",
       "148  2021/03/29  261317.875000  173198.921875\n",
       "149  2021/03/30  259113.109375  181506.640625\n",
       "150  2021/03/31  259347.156250  173477.921875\n",
       "\n",
       "[151 rows x 3 columns]"
      ],
      "text/html": "<div>\n<style scoped>\n    .dataframe tbody tr th:only-of-type {\n        vertical-align: middle;\n    }\n\n    .dataframe tbody tr th {\n        vertical-align: top;\n    }\n\n    .dataframe thead th {\n        text-align: right;\n    }\n</style>\n<table border=\"1\" class=\"dataframe\">\n  <thead>\n    <tr style=\"text-align: right;\">\n      <th></th>\n      <th>日期</th>\n      <th>A厂</th>\n      <th>B厂</th>\n    </tr>\n  </thead>\n  <tbody>\n    <tr>\n      <th>0</th>\n      <td>2020/11/01</td>\n      <td>215426.828125</td>\n      <td>214070.031250</td>\n    </tr>\n    <tr>\n      <th>1</th>\n      <td>2020/11/02</td>\n      <td>217470.593750</td>\n      <td>213393.656250</td>\n    </tr>\n    <tr>\n      <th>2</th>\n      <td>2020/11/03</td>\n      <td>223888.859375</td>\n      <td>207705.046875</td>\n    </tr>\n    <tr>\n      <th>3</th>\n      <td>2020/11/04</td>\n      <td>222198.906250</td>\n      <td>208902.546875</td>\n    </tr>\n    <tr>\n      <th>4</th>\n      <td>2020/11/05</td>\n      <td>220658.812500</td>\n      <td>210942.937500</td>\n    </tr>\n    <tr>\n      <th>...</th>\n      <td>...</td>\n      <td>...</td>\n      <td>...</td>\n    </tr>\n    <tr>\n      <th>146</th>\n      <td>2021/03/27</td>\n      <td>259832.296875</td>\n      <td>174713.703125</td>\n    </tr>\n    <tr>\n      <th>147</th>\n      <td>2021/03/28</td>\n      <td>262186.281250</td>\n      <td>173670.296875</td>\n    </tr>\n    <tr>\n      <th>148</th>\n      <td>2021/03/29</td>\n      <td>261317.875000</td>\n      <td>173198.921875</td>\n    </tr>\n    <tr>\n      <th>149</th>\n      <td>2021/03/30</td>\n      <td>259113.109375</td>\n      <td>181506.640625</td>\n    </tr>\n    <tr>\n      <th>150</th>\n      <td>2021/03/31</td>\n      <td>259347.156250</td>\n      <td>173477.921875</td>\n    </tr>\n  </tbody>\n</table>\n<p>151 rows × 3 columns</p>\n</div>"
     },
     "metadata": {},
     "execution_count": 176
    }
   ],
   "source": [
    "bsub2['A厂'] = pred_df1[:151]\n",
    "bsub2['B厂'] = np.array(pred_df1[151:])\n",
    "bsub2"
   ]
  },
  {
   "cell_type": "code",
   "execution_count": 177,
   "metadata": {},
   "outputs": [
    {
     "output_type": "execute_result",
     "data": {
      "text/plain": [
       "             日期             A厂             B厂\n",
       "0    2020/11/01  210811.904971  210659.674863\n",
       "1    2020/11/02  211997.097326  208750.525777\n",
       "2    2020/11/03  224985.654668  203955.220371\n",
       "3    2020/11/04  221542.976922  205531.923032\n",
       "4    2020/11/05  215613.920609  208244.705812\n",
       "..          ...            ...            ...\n",
       "146  2021/03/27  260200.445888  174325.943912\n",
       "147  2021/03/28  262844.047829  173228.745272\n",
       "148  2021/03/29  260332.436805  172519.532510\n",
       "149  2021/03/30  256707.603529  179627.695066\n",
       "150  2021/03/31  256552.008906  172684.546473\n",
       "\n",
       "[151 rows x 3 columns]"
      ],
      "text/html": "<div>\n<style scoped>\n    .dataframe tbody tr th:only-of-type {\n        vertical-align: middle;\n    }\n\n    .dataframe tbody tr th {\n        vertical-align: top;\n    }\n\n    .dataframe thead th {\n        text-align: right;\n    }\n</style>\n<table border=\"1\" class=\"dataframe\">\n  <thead>\n    <tr style=\"text-align: right;\">\n      <th></th>\n      <th>日期</th>\n      <th>A厂</th>\n      <th>B厂</th>\n    </tr>\n  </thead>\n  <tbody>\n    <tr>\n      <th>0</th>\n      <td>2020/11/01</td>\n      <td>210811.904971</td>\n      <td>210659.674863</td>\n    </tr>\n    <tr>\n      <th>1</th>\n      <td>2020/11/02</td>\n      <td>211997.097326</td>\n      <td>208750.525777</td>\n    </tr>\n    <tr>\n      <th>2</th>\n      <td>2020/11/03</td>\n      <td>224985.654668</td>\n      <td>203955.220371</td>\n    </tr>\n    <tr>\n      <th>3</th>\n      <td>2020/11/04</td>\n      <td>221542.976922</td>\n      <td>205531.923032</td>\n    </tr>\n    <tr>\n      <th>4</th>\n      <td>2020/11/05</td>\n      <td>215613.920609</td>\n      <td>208244.705812</td>\n    </tr>\n    <tr>\n      <th>...</th>\n      <td>...</td>\n      <td>...</td>\n      <td>...</td>\n    </tr>\n    <tr>\n      <th>146</th>\n      <td>2021/03/27</td>\n      <td>260200.445888</td>\n      <td>174325.943912</td>\n    </tr>\n    <tr>\n      <th>147</th>\n      <td>2021/03/28</td>\n      <td>262844.047829</td>\n      <td>173228.745272</td>\n    </tr>\n    <tr>\n      <th>148</th>\n      <td>2021/03/29</td>\n      <td>260332.436805</td>\n      <td>172519.532510</td>\n    </tr>\n    <tr>\n      <th>149</th>\n      <td>2021/03/30</td>\n      <td>256707.603529</td>\n      <td>179627.695066</td>\n    </tr>\n    <tr>\n      <th>150</th>\n      <td>2021/03/31</td>\n      <td>256552.008906</td>\n      <td>172684.546473</td>\n    </tr>\n  </tbody>\n</table>\n<p>151 rows × 3 columns</p>\n</div>"
     },
     "metadata": {},
     "execution_count": 177
    }
   ],
   "source": [
    "bsub_gbm['A厂'] = pred_df2[:151]\n",
    "bsub_gbm['B厂'] = np.array(pred_df2[151:])\n",
    "bsub_gbm"
   ]
  },
  {
   "cell_type": "code",
   "execution_count": 186,
   "metadata": {},
   "outputs": [],
   "source": [
    "bsub_mixin['A厂'] = h2o.as_list(final_preds)['predict'][:151]\n",
    "bsub_mixin['B厂'] = np.array(h2o.as_list(final_preds)['predict'][151:])"
   ]
  },
  {
   "cell_type": "code",
   "execution_count": 187,
   "metadata": {},
   "outputs": [],
   "source": [
    "bsub_mixin.to_csv('./data/mixin_pre2.csv', index=False)"
   ]
  },
  {
   "cell_type": "code",
   "execution_count": null,
   "metadata": {},
   "outputs": [],
   "source": []
  }
 ]
}