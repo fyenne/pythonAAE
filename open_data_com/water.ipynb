{
 "metadata": {
  "language_info": {
   "codemirror_mode": {
    "name": "ipython",
    "version": 3
   },
   "file_extension": ".py",
   "mimetype": "text/x-python",
   "name": "python",
   "nbconvert_exporter": "python",
   "pygments_lexer": "ipython3",
   "version": "3.8.6"
  },
  "orig_nbformat": 2,
  "kernelspec": {
   "name": "python386jvsc74a57bd0ff684bfe6bac5aee95fe25613146015247c6b1b77f36ee2373fa7468888d9e66",
   "display_name": "Python 3.8.6 64-bit ('siming': conda)"
  },
  "metadata": {
   "interpreter": {
    "hash": "ce909994499a62a89f8945d91d57c51a920a5cb8f3e61b9dc99d2a0ea5862498"
   }
  }
 },
 "nbformat": 4,
 "nbformat_minor": 2,
 "cells": [
  {
   "cell_type": "code",
   "execution_count": 2,
   "metadata": {},
   "outputs": [],
   "source": [
    "import pandas as pd\n",
    "import numpy as np\n",
    "from sklearn.linear_model import LogisticRegression\n",
    "import matplotlib.pyplot as plt\n",
    "from sklearn.utils import shuffle\n",
    "from sklearn.model_selection import GridSearchCV"
   ]
  },
  {
   "source": [
    "---"
   ],
   "cell_type": "markdown",
   "metadata": {}
  },
  {
   "cell_type": "code",
   "execution_count": 128,
   "metadata": {},
   "outputs": [],
   "source": [
    "path = '/Users/fyenne/Downloads/booooks/semester5/pythonAAE/open_data_com/data'\n",
    "train = pd.read_csv(path+'/train.csv')\n",
    "tests = pd.read_csv(path+'/test.csv')\n",
    "sub = pd.read_csv(path+'/sub.csv')"
   ]
  },
  {
   "cell_type": "code",
   "execution_count": 146,
   "metadata": {},
   "outputs": [
    {
     "output_type": "execute_result",
     "data": {
      "text/plain": [
       "              日期        A厂        B厂  year month date       sum\n",
       "1030  2020/10/27  281198.0  241711.0  2020    10   27  522909.0\n",
       "1031  2020/10/28  275598.0  240281.0  2020    10   28  515879.0\n",
       "1032  2020/10/29  268544.0  237466.0  2020    10   29  506010.0\n",
       "1033  2020/10/30  285484.0  237611.0  2020    10   30  523095.0\n",
       "1034  2020/10/31  275130.0  236154.0  2020    10   31  511284.0"
      ],
      "text/html": "<div>\n<style scoped>\n    .dataframe tbody tr th:only-of-type {\n        vertical-align: middle;\n    }\n\n    .dataframe tbody tr th {\n        vertical-align: top;\n    }\n\n    .dataframe thead th {\n        text-align: right;\n    }\n</style>\n<table border=\"1\" class=\"dataframe\">\n  <thead>\n    <tr style=\"text-align: right;\">\n      <th></th>\n      <th>日期</th>\n      <th>A厂</th>\n      <th>B厂</th>\n      <th>year</th>\n      <th>month</th>\n      <th>date</th>\n      <th>sum</th>\n    </tr>\n  </thead>\n  <tbody>\n    <tr>\n      <th>1030</th>\n      <td>2020/10/27</td>\n      <td>281198.0</td>\n      <td>241711.0</td>\n      <td>2020</td>\n      <td>10</td>\n      <td>27</td>\n      <td>522909.0</td>\n    </tr>\n    <tr>\n      <th>1031</th>\n      <td>2020/10/28</td>\n      <td>275598.0</td>\n      <td>240281.0</td>\n      <td>2020</td>\n      <td>10</td>\n      <td>28</td>\n      <td>515879.0</td>\n    </tr>\n    <tr>\n      <th>1032</th>\n      <td>2020/10/29</td>\n      <td>268544.0</td>\n      <td>237466.0</td>\n      <td>2020</td>\n      <td>10</td>\n      <td>29</td>\n      <td>506010.0</td>\n    </tr>\n    <tr>\n      <th>1033</th>\n      <td>2020/10/30</td>\n      <td>285484.0</td>\n      <td>237611.0</td>\n      <td>2020</td>\n      <td>10</td>\n      <td>30</td>\n      <td>523095.0</td>\n    </tr>\n    <tr>\n      <th>1034</th>\n      <td>2020/10/31</td>\n      <td>275130.0</td>\n      <td>236154.0</td>\n      <td>2020</td>\n      <td>10</td>\n      <td>31</td>\n      <td>511284.0</td>\n    </tr>\n  </tbody>\n</table>\n</div>"
     },
     "metadata": {},
     "execution_count": 146
    }
   ],
   "source": [
    "train.head();train.tail()"
   ]
  },
  {
   "cell_type": "code",
   "execution_count": 147,
   "metadata": {},
   "outputs": [
    {
     "output_type": "execute_result",
     "data": {
      "text/plain": [
       "             日期   A厂   B厂  year month date   sum\n",
       "146  2021/03/27  202  941  2021    03   27  1143\n",
       "147  2021/03/28  853  985  2021    03   28  1838\n",
       "148  2021/03/29  623  901  2021    03   29  1524\n",
       "149  2021/03/30  893  692  2021    03   30  1585\n",
       "150  2021/03/31  572  885  2021    03   31  1457"
      ],
      "text/html": "<div>\n<style scoped>\n    .dataframe tbody tr th:only-of-type {\n        vertical-align: middle;\n    }\n\n    .dataframe tbody tr th {\n        vertical-align: top;\n    }\n\n    .dataframe thead th {\n        text-align: right;\n    }\n</style>\n<table border=\"1\" class=\"dataframe\">\n  <thead>\n    <tr style=\"text-align: right;\">\n      <th></th>\n      <th>日期</th>\n      <th>A厂</th>\n      <th>B厂</th>\n      <th>year</th>\n      <th>month</th>\n      <th>date</th>\n      <th>sum</th>\n    </tr>\n  </thead>\n  <tbody>\n    <tr>\n      <th>146</th>\n      <td>2021/03/27</td>\n      <td>202</td>\n      <td>941</td>\n      <td>2021</td>\n      <td>03</td>\n      <td>27</td>\n      <td>1143</td>\n    </tr>\n    <tr>\n      <th>147</th>\n      <td>2021/03/28</td>\n      <td>853</td>\n      <td>985</td>\n      <td>2021</td>\n      <td>03</td>\n      <td>28</td>\n      <td>1838</td>\n    </tr>\n    <tr>\n      <th>148</th>\n      <td>2021/03/29</td>\n      <td>623</td>\n      <td>901</td>\n      <td>2021</td>\n      <td>03</td>\n      <td>29</td>\n      <td>1524</td>\n    </tr>\n    <tr>\n      <th>149</th>\n      <td>2021/03/30</td>\n      <td>893</td>\n      <td>692</td>\n      <td>2021</td>\n      <td>03</td>\n      <td>30</td>\n      <td>1585</td>\n    </tr>\n    <tr>\n      <th>150</th>\n      <td>2021/03/31</td>\n      <td>572</td>\n      <td>885</td>\n      <td>2021</td>\n      <td>03</td>\n      <td>31</td>\n      <td>1457</td>\n    </tr>\n  </tbody>\n</table>\n</div>"
     },
     "metadata": {},
     "execution_count": 147
    }
   ],
   "source": [
    "tests.head();tests.tail()"
   ]
  },
  {
   "cell_type": "code",
   "execution_count": 137,
   "metadata": {},
   "outputs": [],
   "source": [
    "train['year'], train['month'], train['date'] = 0,0,0\n",
    "tests['year'], tests['month'], tests['date'] = 0,0,0\n",
    "train.iloc[:,3:6] = pd.DataFrame([i.split('/') for i in train['日期']])\n",
    "tests.iloc[:,3:6] = pd.DataFrame([i.split('/') for i in tests['日期']])\n"
   ]
  },
  {
   "cell_type": "code",
   "execution_count": 148,
   "metadata": {},
   "outputs": [],
   "source": [
    "train['sum'] = train['A厂'] + train['B厂']\n",
    "tests['sum'] = tests['A厂'] + tests['B厂']\n",
    "train['frac_a'] = train['A厂']/train['sum']\n",
    "tests['frac_a'] = tests['A厂']/tests['sum']\n",
    "train['frac_b'] = train['B厂']/train['sum']\n",
    "tests['frac_b'] = tests['B厂']/tests['sum']"
   ]
  },
  {
   "cell_type": "code",
   "execution_count": 187,
   "metadata": {},
   "outputs": [],
   "source": [
    "train = train.drop('日期', axis = 1)\n",
    "tests = tests.drop('日期', axis = 1)"
   ]
  },
  {
   "cell_type": "code",
   "execution_count": 206,
   "metadata": {},
   "outputs": [
    {
     "output_type": "execute_result",
     "data": {
      "text/plain": [
       "set()"
      ]
     },
     "metadata": {},
     "execution_count": 206
    }
   ],
   "source": [
    "set(train.columns.to_list()) - set(pd.DataFrame(train.describe()).columns.to_list())"
   ]
  },
  {
   "cell_type": "code",
   "execution_count": 205,
   "metadata": {},
   "outputs": [],
   "source": [
    "train['year'], train['month'], train['date'] = [train[i].astype(int) for i in list(dif_col)]\n",
    "tests['year'], tests['month'], tests['date'] = [tests[i].astype(int) for i in list(dif_col)]"
   ]
  },
  {
   "source": [
    "---\n",
    "# baseline"
   ],
   "cell_type": "markdown",
   "metadata": {}
  },
  {
   "cell_type": "code",
   "execution_count": 357,
   "metadata": {},
   "outputs": [],
   "source": [
    "bs_train = train.iloc[:,0:5]\n",
    "bs_tests = tests.iloc[:,2:5]"
   ]
  },
  {
   "cell_type": "code",
   "execution_count": 358,
   "metadata": {},
   "outputs": [],
   "source": [
    "bs_tar = bs_train.iloc[:, 0:2]\n",
    "bs_train = bs_train.iloc[:, 2:]"
   ]
  },
  {
   "cell_type": "code",
   "execution_count": 359,
   "metadata": {},
   "outputs": [],
   "source": [
    "from sklearn.linear_model import Ridge, LinearRegression\n",
    "from sklearn import model_selection\n",
    "cv_split = model_selection.ShuffleSplit(n_splits = 5, test_size = .2, train_size = .8, random_state = 1026529)"
   ]
  },
  {
   "cell_type": "code",
   "execution_count": 360,
   "metadata": {},
   "outputs": [
    {
     "output_type": "execute_result",
     "data": {
      "text/plain": [
       "-0.14551133194229993"
      ]
     },
     "metadata": {},
     "execution_count": 360
    }
   ],
   "source": [
    "alg1 = LinearRegression()\n",
    "cv_results_1 = model_selection.cross_validate(alg1, bs_train, bs_tar, cv  = cv_split, scoring='neg_mean_absolute_percentage_error')\n",
    "cv_results_1['test_score'].mean()"
   ]
  },
  {
   "cell_type": "code",
   "execution_count": 361,
   "metadata": {},
   "outputs": [
    {
     "output_type": "execute_result",
     "data": {
      "text/plain": [
       "-0.1455161156470318"
      ]
     },
     "metadata": {},
     "execution_count": 361
    }
   ],
   "source": [
    "alg2 = Ridge()\n",
    "cv_results_2 = model_selection.cross_validate(alg2, bs_train, bs_tar, cv  = cv_split, scoring='neg_mean_absolute_percentage_error')\n",
    "cv_results_2['test_score'].mean()"
   ]
  },
  {
   "cell_type": "code",
   "execution_count": 364,
   "metadata": {},
   "outputs": [],
   "source": [
    "bs_mode=alg2.fit(bs_train, y = bs_tar)"
   ]
  },
  {
   "cell_type": "code",
   "execution_count": 373,
   "metadata": {},
   "outputs": [],
   "source": [
    "sub.iloc[:,1:3] = pd.DataFrame(bs_mode.predict(bs_tests))/100"
   ]
  },
  {
   "cell_type": "code",
   "execution_count": 374,
   "metadata": {},
   "outputs": [],
   "source": [
    "sub.to_csv('./data/baseline_sub.csv', index=False)"
   ]
  },
  {
   "source": [
    "---\n",
    "\n",
    "## test 2 , the pseudo data"
   ],
   "cell_type": "markdown",
   "metadata": {}
  },
  {
   "cell_type": "code",
   "execution_count": 378,
   "metadata": {},
   "outputs": [],
   "source": [
    "path = '/Users/fyenne/Downloads/booooks/semester5/pythonAAE/open_data_com/data'\n",
    "train = pd.read_csv(path+'/train.csv')\n",
    "tests = pd.read_csv(path+'/test.csv')\n",
    "bssub = pd.read_csv(path+'/baseline_sub.csv')"
   ]
  },
  {
   "cell_type": "code",
   "execution_count": 382,
   "metadata": {},
   "outputs": [],
   "source": [
    "tests.iloc[:, 1:] = bssub.iloc[:, 1:]"
   ]
  },
  {
   "cell_type": "code",
   "execution_count": 384,
   "metadata": {},
   "outputs": [],
   "source": [
    "train['year'], train['month'], train['date'] = 0,0,0\n",
    "tests['year'], tests['month'], tests['date'] = 0,0,0\n",
    "train.iloc[:,3:6] = pd.DataFrame([i.split('/') for i in train['日期']])\n",
    "tests.iloc[:,3:6] = pd.DataFrame([i.split('/') for i in tests['日期']])\n",
    "train['sum'] = train['A厂'] + train['B厂']\n",
    "tests['sum'] = tests['A厂'] + tests['B厂']\n",
    "train['frac_a'] = train['A厂']/train['sum']\n",
    "tests['frac_a'] = tests['A厂']/tests['sum']\n",
    "train['frac_b'] = train['B厂']/train['sum']\n",
    "tests['frac_b'] = tests['B厂']/tests['sum']\n",
    "train = train.drop('日期', axis = 1)\n",
    "tests = tests.drop('日期', axis = 1)\n",
    "train['year'], train['month'], train['date'] = [train[i].astype(int) for i in list(dif_col)]\n",
    "tests['year'], tests['month'], tests['date'] = [tests[i].astype(int) for i in list(dif_col)]"
   ]
  },
  {
   "cell_type": "code",
   "execution_count": 387,
   "metadata": {},
   "outputs": [
    {
     "output_type": "execute_result",
     "data": {
      "text/plain": [
       "                  A厂             B厂         year        month         date  \\\n",
       "count    1035.000000    1035.000000  1035.000000  1035.000000  1035.000000   \n",
       "mean   228833.774879  203170.005797     6.228019  2018.942029    15.731401   \n",
       "std     36573.680993   38049.912664     3.322770     0.802873     8.805294   \n",
       "min     96845.000000   74082.000000     1.000000  2018.000000     1.000000   \n",
       "25%    205118.000000  187928.000000     3.000000  2018.000000     8.000000   \n",
       "50%    235319.000000  206521.000000     6.000000  2019.000000    16.000000   \n",
       "75%    256705.500000  229248.500000     9.000000  2020.000000    23.000000   \n",
       "max    300602.000000  289316.000000    12.000000  2020.000000    31.000000   \n",
       "\n",
       "                 sum       frac_a       frac_b  \n",
       "count    1035.000000  1035.000000  1035.000000  \n",
       "mean   432003.780676     0.531211     0.468789  \n",
       "std     61647.423727     0.053596     0.053596  \n",
       "min    202744.000000     0.341482     0.347467  \n",
       "25%    407662.000000     0.493630     0.432723  \n",
       "50%    438152.000000     0.526054     0.473946  \n",
       "75%    471236.000000     0.567277     0.506370  \n",
       "max    555221.000000     0.652533     0.658518  "
      ],
      "text/html": "<div>\n<style scoped>\n    .dataframe tbody tr th:only-of-type {\n        vertical-align: middle;\n    }\n\n    .dataframe tbody tr th {\n        vertical-align: top;\n    }\n\n    .dataframe thead th {\n        text-align: right;\n    }\n</style>\n<table border=\"1\" class=\"dataframe\">\n  <thead>\n    <tr style=\"text-align: right;\">\n      <th></th>\n      <th>A厂</th>\n      <th>B厂</th>\n      <th>year</th>\n      <th>month</th>\n      <th>date</th>\n      <th>sum</th>\n      <th>frac_a</th>\n      <th>frac_b</th>\n    </tr>\n  </thead>\n  <tbody>\n    <tr>\n      <th>count</th>\n      <td>1035.000000</td>\n      <td>1035.000000</td>\n      <td>1035.000000</td>\n      <td>1035.000000</td>\n      <td>1035.000000</td>\n      <td>1035.000000</td>\n      <td>1035.000000</td>\n      <td>1035.000000</td>\n    </tr>\n    <tr>\n      <th>mean</th>\n      <td>228833.774879</td>\n      <td>203170.005797</td>\n      <td>6.228019</td>\n      <td>2018.942029</td>\n      <td>15.731401</td>\n      <td>432003.780676</td>\n      <td>0.531211</td>\n      <td>0.468789</td>\n    </tr>\n    <tr>\n      <th>std</th>\n      <td>36573.680993</td>\n      <td>38049.912664</td>\n      <td>3.322770</td>\n      <td>0.802873</td>\n      <td>8.805294</td>\n      <td>61647.423727</td>\n      <td>0.053596</td>\n      <td>0.053596</td>\n    </tr>\n    <tr>\n      <th>min</th>\n      <td>96845.000000</td>\n      <td>74082.000000</td>\n      <td>1.000000</td>\n      <td>2018.000000</td>\n      <td>1.000000</td>\n      <td>202744.000000</td>\n      <td>0.341482</td>\n      <td>0.347467</td>\n    </tr>\n    <tr>\n      <th>25%</th>\n      <td>205118.000000</td>\n      <td>187928.000000</td>\n      <td>3.000000</td>\n      <td>2018.000000</td>\n      <td>8.000000</td>\n      <td>407662.000000</td>\n      <td>0.493630</td>\n      <td>0.432723</td>\n    </tr>\n    <tr>\n      <th>50%</th>\n      <td>235319.000000</td>\n      <td>206521.000000</td>\n      <td>6.000000</td>\n      <td>2019.000000</td>\n      <td>16.000000</td>\n      <td>438152.000000</td>\n      <td>0.526054</td>\n      <td>0.473946</td>\n    </tr>\n    <tr>\n      <th>75%</th>\n      <td>256705.500000</td>\n      <td>229248.500000</td>\n      <td>9.000000</td>\n      <td>2020.000000</td>\n      <td>23.000000</td>\n      <td>471236.000000</td>\n      <td>0.567277</td>\n      <td>0.506370</td>\n    </tr>\n    <tr>\n      <th>max</th>\n      <td>300602.000000</td>\n      <td>289316.000000</td>\n      <td>12.000000</td>\n      <td>2020.000000</td>\n      <td>31.000000</td>\n      <td>555221.000000</td>\n      <td>0.652533</td>\n      <td>0.658518</td>\n    </tr>\n  </tbody>\n</table>\n</div>"
     },
     "metadata": {},
     "execution_count": 387
    }
   ],
   "source": [
    "train.describe()"
   ]
  },
  {
   "cell_type": "code",
   "execution_count": 389,
   "metadata": {},
   "outputs": [
    {
     "output_type": "execute_result",
     "data": {
      "text/plain": [
       "                  A厂             B厂        year        month        date  \\\n",
       "count     151.000000     151.000000  151.000000   151.000000  151.000000   \n",
       "mean   292619.599310  204026.427872    5.841060  2020.596026   15.622517   \n",
       "std       561.823571     265.593495    4.735811     0.492325    8.780085   \n",
       "min    291861.398665  203666.477793    1.000000  2020.000000    1.000000   \n",
       "25%    291989.827794  203724.794235    2.000000  2020.000000    8.000000   \n",
       "50%    292958.595346  204190.537250    3.000000  2021.000000   16.000000   \n",
       "75%    293087.024475  204248.853691   11.000000  2021.000000   23.000000   \n",
       "max    293221.330401  204310.547594   12.000000  2021.000000   31.000000   \n",
       "\n",
       "                 sum      frac_a      frac_b  \n",
       "count     151.000000  151.000000  151.000000  \n",
       "mean   496646.027182    0.589191    0.410809  \n",
       "std       827.403917    0.000150    0.000150  \n",
       "min    495527.876458    0.588991    0.410648  \n",
       "25%    495714.622028    0.589028    0.410686  \n",
       "50%    497149.132596    0.589277    0.410723  \n",
       "75%    497335.878166    0.589314    0.410972  \n",
       "max    497531.877995    0.589352    0.411009  "
      ],
      "text/html": "<div>\n<style scoped>\n    .dataframe tbody tr th:only-of-type {\n        vertical-align: middle;\n    }\n\n    .dataframe tbody tr th {\n        vertical-align: top;\n    }\n\n    .dataframe thead th {\n        text-align: right;\n    }\n</style>\n<table border=\"1\" class=\"dataframe\">\n  <thead>\n    <tr style=\"text-align: right;\">\n      <th></th>\n      <th>A厂</th>\n      <th>B厂</th>\n      <th>year</th>\n      <th>month</th>\n      <th>date</th>\n      <th>sum</th>\n      <th>frac_a</th>\n      <th>frac_b</th>\n    </tr>\n  </thead>\n  <tbody>\n    <tr>\n      <th>count</th>\n      <td>151.000000</td>\n      <td>151.000000</td>\n      <td>151.000000</td>\n      <td>151.000000</td>\n      <td>151.000000</td>\n      <td>151.000000</td>\n      <td>151.000000</td>\n      <td>151.000000</td>\n    </tr>\n    <tr>\n      <th>mean</th>\n      <td>292619.599310</td>\n      <td>204026.427872</td>\n      <td>5.841060</td>\n      <td>2020.596026</td>\n      <td>15.622517</td>\n      <td>496646.027182</td>\n      <td>0.589191</td>\n      <td>0.410809</td>\n    </tr>\n    <tr>\n      <th>std</th>\n      <td>561.823571</td>\n      <td>265.593495</td>\n      <td>4.735811</td>\n      <td>0.492325</td>\n      <td>8.780085</td>\n      <td>827.403917</td>\n      <td>0.000150</td>\n      <td>0.000150</td>\n    </tr>\n    <tr>\n      <th>min</th>\n      <td>291861.398665</td>\n      <td>203666.477793</td>\n      <td>1.000000</td>\n      <td>2020.000000</td>\n      <td>1.000000</td>\n      <td>495527.876458</td>\n      <td>0.588991</td>\n      <td>0.410648</td>\n    </tr>\n    <tr>\n      <th>25%</th>\n      <td>291989.827794</td>\n      <td>203724.794235</td>\n      <td>2.000000</td>\n      <td>2020.000000</td>\n      <td>8.000000</td>\n      <td>495714.622028</td>\n      <td>0.589028</td>\n      <td>0.410686</td>\n    </tr>\n    <tr>\n      <th>50%</th>\n      <td>292958.595346</td>\n      <td>204190.537250</td>\n      <td>3.000000</td>\n      <td>2021.000000</td>\n      <td>16.000000</td>\n      <td>497149.132596</td>\n      <td>0.589277</td>\n      <td>0.410723</td>\n    </tr>\n    <tr>\n      <th>75%</th>\n      <td>293087.024475</td>\n      <td>204248.853691</td>\n      <td>11.000000</td>\n      <td>2021.000000</td>\n      <td>23.000000</td>\n      <td>497335.878166</td>\n      <td>0.589314</td>\n      <td>0.410972</td>\n    </tr>\n    <tr>\n      <th>max</th>\n      <td>293221.330401</td>\n      <td>204310.547594</td>\n      <td>12.000000</td>\n      <td>2021.000000</td>\n      <td>31.000000</td>\n      <td>497531.877995</td>\n      <td>0.589352</td>\n      <td>0.411009</td>\n    </tr>\n  </tbody>\n</table>\n</div>"
     },
     "metadata": {},
     "execution_count": 389
    }
   ],
   "source": [
    "tests.describe()"
   ]
  },
  {
   "source": [
    "---\n",
    "\n",
    "# tensorflow"
   ],
   "cell_type": "markdown",
   "metadata": {}
  },
  {
   "cell_type": "code",
   "execution_count": 392,
   "metadata": {},
   "outputs": [
    {
     "output_type": "execute_result",
     "data": {
      "text/plain": [
       "                  A厂             B厂         year        month         date  \\\n",
       "count    1035.000000    1035.000000  1035.000000  1035.000000  1035.000000   \n",
       "mean   228833.774879  203170.005797     6.228019  2018.942029    15.731401   \n",
       "std     36573.680993   38049.912664     3.322770     0.802873     8.805294   \n",
       "min     96845.000000   74082.000000     1.000000  2018.000000     1.000000   \n",
       "25%    205118.000000  187928.000000     3.000000  2018.000000     8.000000   \n",
       "50%    235319.000000  206521.000000     6.000000  2019.000000    16.000000   \n",
       "75%    256705.500000  229248.500000     9.000000  2020.000000    23.000000   \n",
       "max    300602.000000  289316.000000    12.000000  2020.000000    31.000000   \n",
       "\n",
       "                 sum       frac_a       frac_b  \n",
       "count    1035.000000  1035.000000  1035.000000  \n",
       "mean   432003.780676     0.531211     0.468789  \n",
       "std     61647.423727     0.053596     0.053596  \n",
       "min    202744.000000     0.341482     0.347467  \n",
       "25%    407662.000000     0.493630     0.432723  \n",
       "50%    438152.000000     0.526054     0.473946  \n",
       "75%    471236.000000     0.567277     0.506370  \n",
       "max    555221.000000     0.652533     0.658518  "
      ],
      "text/html": "<div>\n<style scoped>\n    .dataframe tbody tr th:only-of-type {\n        vertical-align: middle;\n    }\n\n    .dataframe tbody tr th {\n        vertical-align: top;\n    }\n\n    .dataframe thead th {\n        text-align: right;\n    }\n</style>\n<table border=\"1\" class=\"dataframe\">\n  <thead>\n    <tr style=\"text-align: right;\">\n      <th></th>\n      <th>A厂</th>\n      <th>B厂</th>\n      <th>year</th>\n      <th>month</th>\n      <th>date</th>\n      <th>sum</th>\n      <th>frac_a</th>\n      <th>frac_b</th>\n    </tr>\n  </thead>\n  <tbody>\n    <tr>\n      <th>count</th>\n      <td>1035.000000</td>\n      <td>1035.000000</td>\n      <td>1035.000000</td>\n      <td>1035.000000</td>\n      <td>1035.000000</td>\n      <td>1035.000000</td>\n      <td>1035.000000</td>\n      <td>1035.000000</td>\n    </tr>\n    <tr>\n      <th>mean</th>\n      <td>228833.774879</td>\n      <td>203170.005797</td>\n      <td>6.228019</td>\n      <td>2018.942029</td>\n      <td>15.731401</td>\n      <td>432003.780676</td>\n      <td>0.531211</td>\n      <td>0.468789</td>\n    </tr>\n    <tr>\n      <th>std</th>\n      <td>36573.680993</td>\n      <td>38049.912664</td>\n      <td>3.322770</td>\n      <td>0.802873</td>\n      <td>8.805294</td>\n      <td>61647.423727</td>\n      <td>0.053596</td>\n      <td>0.053596</td>\n    </tr>\n    <tr>\n      <th>min</th>\n      <td>96845.000000</td>\n      <td>74082.000000</td>\n      <td>1.000000</td>\n      <td>2018.000000</td>\n      <td>1.000000</td>\n      <td>202744.000000</td>\n      <td>0.341482</td>\n      <td>0.347467</td>\n    </tr>\n    <tr>\n      <th>25%</th>\n      <td>205118.000000</td>\n      <td>187928.000000</td>\n      <td>3.000000</td>\n      <td>2018.000000</td>\n      <td>8.000000</td>\n      <td>407662.000000</td>\n      <td>0.493630</td>\n      <td>0.432723</td>\n    </tr>\n    <tr>\n      <th>50%</th>\n      <td>235319.000000</td>\n      <td>206521.000000</td>\n      <td>6.000000</td>\n      <td>2019.000000</td>\n      <td>16.000000</td>\n      <td>438152.000000</td>\n      <td>0.526054</td>\n      <td>0.473946</td>\n    </tr>\n    <tr>\n      <th>75%</th>\n      <td>256705.500000</td>\n      <td>229248.500000</td>\n      <td>9.000000</td>\n      <td>2020.000000</td>\n      <td>23.000000</td>\n      <td>471236.000000</td>\n      <td>0.567277</td>\n      <td>0.506370</td>\n    </tr>\n    <tr>\n      <th>max</th>\n      <td>300602.000000</td>\n      <td>289316.000000</td>\n      <td>12.000000</td>\n      <td>2020.000000</td>\n      <td>31.000000</td>\n      <td>555221.000000</td>\n      <td>0.652533</td>\n      <td>0.658518</td>\n    </tr>\n  </tbody>\n</table>\n</div>"
     },
     "metadata": {},
     "execution_count": 392
    }
   ],
   "source": [
    "train_backup = train\n",
    "train_backup.describe()"
   ]
  },
  {
   "cell_type": "code",
   "execution_count": 393,
   "metadata": {},
   "outputs": [
    {
     "output_type": "execute_result",
     "data": {
      "text/plain": [
       "(1035, 8)"
      ]
     },
     "metadata": {},
     "execution_count": 393
    }
   ],
   "source": [
    "(train).shape"
   ]
  },
  {
   "cell_type": "code",
   "execution_count": 394,
   "metadata": {},
   "outputs": [],
   "source": [
    "target_train = train.iloc[:,0:2]\n",
    "target_test  = tests.iloc[:,0:2]"
   ]
  },
  {
   "cell_type": "code",
   "execution_count": 396,
   "metadata": {},
   "outputs": [],
   "source": [
    "tensor_train = train.iloc[:,2:]\n",
    "tensor_test  = tests.iloc[:,2:]"
   ]
  },
  {
   "cell_type": "code",
   "execution_count": 413,
   "metadata": {},
   "outputs": [
    {
     "output_type": "execute_result",
     "data": {
      "text/plain": [
       "      year  month  date       sum    frac_a    frac_b\n",
       "0        1   2018     1  390182.0  0.514355  0.485645\n",
       "1        1   2018     2  429512.0  0.508403  0.491597\n",
       "2        1   2018     3  442268.0  0.507613  0.492387\n",
       "3        1   2018     4  429067.0  0.504422  0.495578\n",
       "4        1   2018     5  409874.0  0.489045  0.510955\n",
       "...    ...    ...   ...       ...       ...       ...\n",
       "1030    10   2020    27  522909.0  0.537757  0.462243\n",
       "1031    10   2020    28  515879.0  0.534230  0.465770\n",
       "1032    10   2020    29  506010.0  0.530709  0.469291\n",
       "1033    10   2020    30  523095.0  0.545759  0.454241\n",
       "1034    10   2020    31  511284.0  0.538116  0.461884\n",
       "\n",
       "[1035 rows x 6 columns]"
      ],
      "text/html": "<div>\n<style scoped>\n    .dataframe tbody tr th:only-of-type {\n        vertical-align: middle;\n    }\n\n    .dataframe tbody tr th {\n        vertical-align: top;\n    }\n\n    .dataframe thead th {\n        text-align: right;\n    }\n</style>\n<table border=\"1\" class=\"dataframe\">\n  <thead>\n    <tr style=\"text-align: right;\">\n      <th></th>\n      <th>year</th>\n      <th>month</th>\n      <th>date</th>\n      <th>sum</th>\n      <th>frac_a</th>\n      <th>frac_b</th>\n    </tr>\n  </thead>\n  <tbody>\n    <tr>\n      <th>0</th>\n      <td>1</td>\n      <td>2018</td>\n      <td>1</td>\n      <td>390182.0</td>\n      <td>0.514355</td>\n      <td>0.485645</td>\n    </tr>\n    <tr>\n      <th>1</th>\n      <td>1</td>\n      <td>2018</td>\n      <td>2</td>\n      <td>429512.0</td>\n      <td>0.508403</td>\n      <td>0.491597</td>\n    </tr>\n    <tr>\n      <th>2</th>\n      <td>1</td>\n      <td>2018</td>\n      <td>3</td>\n      <td>442268.0</td>\n      <td>0.507613</td>\n      <td>0.492387</td>\n    </tr>\n    <tr>\n      <th>3</th>\n      <td>1</td>\n      <td>2018</td>\n      <td>4</td>\n      <td>429067.0</td>\n      <td>0.504422</td>\n      <td>0.495578</td>\n    </tr>\n    <tr>\n      <th>4</th>\n      <td>1</td>\n      <td>2018</td>\n      <td>5</td>\n      <td>409874.0</td>\n      <td>0.489045</td>\n      <td>0.510955</td>\n    </tr>\n    <tr>\n      <th>...</th>\n      <td>...</td>\n      <td>...</td>\n      <td>...</td>\n      <td>...</td>\n      <td>...</td>\n      <td>...</td>\n    </tr>\n    <tr>\n      <th>1030</th>\n      <td>10</td>\n      <td>2020</td>\n      <td>27</td>\n      <td>522909.0</td>\n      <td>0.537757</td>\n      <td>0.462243</td>\n    </tr>\n    <tr>\n      <th>1031</th>\n      <td>10</td>\n      <td>2020</td>\n      <td>28</td>\n      <td>515879.0</td>\n      <td>0.534230</td>\n      <td>0.465770</td>\n    </tr>\n    <tr>\n      <th>1032</th>\n      <td>10</td>\n      <td>2020</td>\n      <td>29</td>\n      <td>506010.0</td>\n      <td>0.530709</td>\n      <td>0.469291</td>\n    </tr>\n    <tr>\n      <th>1033</th>\n      <td>10</td>\n      <td>2020</td>\n      <td>30</td>\n      <td>523095.0</td>\n      <td>0.545759</td>\n      <td>0.454241</td>\n    </tr>\n    <tr>\n      <th>1034</th>\n      <td>10</td>\n      <td>2020</td>\n      <td>31</td>\n      <td>511284.0</td>\n      <td>0.538116</td>\n      <td>0.461884</td>\n    </tr>\n  </tbody>\n</table>\n<p>1035 rows × 6 columns</p>\n</div>"
     },
     "metadata": {},
     "execution_count": 413
    }
   ],
   "source": [
    "# inputs = np.concatenate((np.matrix(train), np.matrix(tests)), axis=0)\n",
    "# targets = np.concatenate((np.matrix(target_train), np.matrix(target_test)), axis=0)\n",
    "tensor_train"
   ]
  },
  {
   "cell_type": "code",
   "execution_count": 401,
   "metadata": {},
   "outputs": [
    {
     "output_type": "execute_result",
     "data": {
      "text/plain": [
       "(1186, 8)"
      ]
     },
     "metadata": {},
     "execution_count": 401
    }
   ],
   "source": [
    "inputs.shape"
   ]
  },
  {
   "cell_type": "code",
   "execution_count": 433,
   "metadata": {},
   "outputs": [],
   "source": [
    "# x_train\n",
    "input_shape =  [8]\n",
    "\n",
    "import tensorflow as tf\n",
    "from tensorflow import keras\n",
    "from tensorflow.keras import layers\n",
    "from tensorflow.keras.callbacks import EarlyStopping\n",
    "import kerastuner as kt\n",
    "early_stopping = EarlyStopping(\n",
    "    min_delta=0.0001, # minimium amount of change to count as an improvement\n",
    "    patience=50, # how many epochs to wait before stopping\n",
    "    restore_best_weights=True,\n",
    ")"
   ]
  },
  {
   "cell_type": "code",
   "execution_count": 415,
   "metadata": {},
   "outputs": [],
   "source": [
    "def model_builder(hp):\n",
    "    model = keras.Sequential()\n",
    "    layers.Dense(1186, activation='relu', input_shape=input_shape),\n",
    "    hp_units  = hp.Int('units', min_value=992, max_value=1024, step=32)\n",
    "    model.add(keras.layers.Dense(units=hp_units, activation='relu'))\n",
    "    model.add(keras.layers.BatchNormalization()),\n",
    "    model.add(keras.layers.Dense(units=1186, activation='relu'))\n",
    "    model.add(keras.layers.BatchNormalization()),\n",
    "    model.add(keras.layers.Dense(2))\n",
    "\n",
    "    hp_learning_rate = hp.Choice('learning_rate', values=[1e-1, 1e-2, 1e-3])\n",
    "    model.compile(optimizer=keras.optimizers.SGD(learning_rate=hp_learning_rate),\n",
    "                loss=keras.losses.MeanAbsolutePercentageError(),\n",
    "                metrics=['MeanAbsolutePercentageError'])\n",
    "# tf.keras.losses.MeanAbsoluteError\n",
    "    return model"
   ]
  },
  {
   "cell_type": "code",
   "execution_count": 416,
   "metadata": {},
   "outputs": [],
   "source": [
    "tuner = kt.Hyperband(model_builder,\n",
    "                     objective='val_mean_absolute_error',\n",
    "                     max_epochs=3000,\n",
    "                    #  factor=4,\n",
    "                     seed=1026529)"
   ]
  },
  {
   "cell_type": "code",
   "execution_count": 435,
   "metadata": {
    "tags": []
   },
   "outputs": [],
   "source": [
    "tensor_train = tf.data.Dataset.from_tensor_slices(tensor_train)\n",
    "target_train = tf.data.Dataset.from_tensor_slices(target_train)"
   ]
  },
  {
   "cell_type": "code",
   "execution_count": 437,
   "metadata": {},
   "outputs": [
    {
     "output_type": "stream",
     "name": "stdout",
     "text": [
      "year\n",
      "month\n",
      "date\n",
      "sum\n",
      "frac_a\n",
      "frac_b\n"
     ]
    }
   ],
   "source": [
    "for i in tensor_test:\n",
    "    print(i)"
   ]
  },
  {
   "cell_type": "code",
   "execution_count": 436,
   "metadata": {},
   "outputs": [
    {
     "output_type": "error",
     "ename": "TypeError",
     "evalue": "Singleton array array(<TensorSliceDataset shapes: (6,), types: tf.float64>, dtype=object) cannot be considered a valid collection.",
     "traceback": [
      "\u001b[0;31m---------------------------------------------------------------------------\u001b[0m",
      "\u001b[0;31mTypeError\u001b[0m                                 Traceback (most recent call last)",
      "\u001b[0;32m<ipython-input-436-e1e09835da53>\u001b[0m in \u001b[0;36m<module>\u001b[0;34m\u001b[0m\n\u001b[1;32m      3\u001b[0m \u001b[0mn_split\u001b[0m\u001b[0;34m=\u001b[0m\u001b[0;36m6\u001b[0m\u001b[0;34m\u001b[0m\u001b[0;34m\u001b[0m\u001b[0m\n\u001b[1;32m      4\u001b[0m \u001b[0;34m\u001b[0m\u001b[0m\n\u001b[0;32m----> 5\u001b[0;31m \u001b[0;32mfor\u001b[0m \u001b[0mtrain_index\u001b[0m\u001b[0;34m,\u001b[0m \u001b[0mtest_index\u001b[0m \u001b[0;32min\u001b[0m \u001b[0mKFold\u001b[0m\u001b[0;34m(\u001b[0m\u001b[0mn_split\u001b[0m\u001b[0;34m)\u001b[0m\u001b[0;34m.\u001b[0m\u001b[0msplit\u001b[0m\u001b[0;34m(\u001b[0m\u001b[0mtensor_train\u001b[0m\u001b[0;34m)\u001b[0m\u001b[0;34m:\u001b[0m\u001b[0;34m\u001b[0m\u001b[0;34m\u001b[0m\u001b[0m\n\u001b[0m\u001b[1;32m      6\u001b[0m     \u001b[0mx_train\u001b[0m\u001b[0;34m,\u001b[0m \u001b[0mx_test\u001b[0m \u001b[0;34m=\u001b[0m \u001b[0mtensor_train\u001b[0m\u001b[0;34m[\u001b[0m\u001b[0mtrain_index\u001b[0m\u001b[0;34m]\u001b[0m\u001b[0;34m,\u001b[0m \u001b[0mtensor_train\u001b[0m\u001b[0;34m[\u001b[0m\u001b[0mtest_index\u001b[0m\u001b[0;34m]\u001b[0m\u001b[0;34m\u001b[0m\u001b[0;34m\u001b[0m\u001b[0m\n\u001b[1;32m      7\u001b[0m     \u001b[0my_train\u001b[0m\u001b[0;34m,\u001b[0m \u001b[0my_test\u001b[0m \u001b[0;34m=\u001b[0m \u001b[0mtarget_train\u001b[0m\u001b[0;34m[\u001b[0m\u001b[0mtrain_index\u001b[0m\u001b[0;34m]\u001b[0m\u001b[0;34m,\u001b[0m \u001b[0mtarget_train\u001b[0m\u001b[0;34m[\u001b[0m\u001b[0mtest_index\u001b[0m\u001b[0;34m]\u001b[0m\u001b[0;34m\u001b[0m\u001b[0;34m\u001b[0m\u001b[0m\n",
      "\u001b[0;32m~/miniforge3/envs/siming/lib/python3.8/site-packages/sklearn/model_selection/_split.py\u001b[0m in \u001b[0;36msplit\u001b[0;34m(self, X, y, groups)\u001b[0m\n\u001b[1;32m    322\u001b[0m             \u001b[0mThe\u001b[0m \u001b[0mtesting\u001b[0m \u001b[0mset\u001b[0m \u001b[0mindices\u001b[0m \u001b[0;32mfor\u001b[0m \u001b[0mthat\u001b[0m \u001b[0msplit\u001b[0m\u001b[0;34m.\u001b[0m\u001b[0;34m\u001b[0m\u001b[0;34m\u001b[0m\u001b[0m\n\u001b[1;32m    323\u001b[0m         \"\"\"\n\u001b[0;32m--> 324\u001b[0;31m         \u001b[0mX\u001b[0m\u001b[0;34m,\u001b[0m \u001b[0my\u001b[0m\u001b[0;34m,\u001b[0m \u001b[0mgroups\u001b[0m \u001b[0;34m=\u001b[0m \u001b[0mindexable\u001b[0m\u001b[0;34m(\u001b[0m\u001b[0mX\u001b[0m\u001b[0;34m,\u001b[0m \u001b[0my\u001b[0m\u001b[0;34m,\u001b[0m \u001b[0mgroups\u001b[0m\u001b[0;34m)\u001b[0m\u001b[0;34m\u001b[0m\u001b[0;34m\u001b[0m\u001b[0m\n\u001b[0m\u001b[1;32m    325\u001b[0m         \u001b[0mn_samples\u001b[0m \u001b[0;34m=\u001b[0m \u001b[0m_num_samples\u001b[0m\u001b[0;34m(\u001b[0m\u001b[0mX\u001b[0m\u001b[0;34m)\u001b[0m\u001b[0;34m\u001b[0m\u001b[0;34m\u001b[0m\u001b[0m\n\u001b[1;32m    326\u001b[0m         \u001b[0;32mif\u001b[0m \u001b[0mself\u001b[0m\u001b[0;34m.\u001b[0m\u001b[0mn_splits\u001b[0m \u001b[0;34m>\u001b[0m \u001b[0mn_samples\u001b[0m\u001b[0;34m:\u001b[0m\u001b[0;34m\u001b[0m\u001b[0;34m\u001b[0m\u001b[0m\n",
      "\u001b[0;32m~/miniforge3/envs/siming/lib/python3.8/site-packages/sklearn/utils/validation.py\u001b[0m in \u001b[0;36mindexable\u001b[0;34m(*iterables)\u001b[0m\n\u001b[1;32m    297\u001b[0m     \"\"\"\n\u001b[1;32m    298\u001b[0m     \u001b[0mresult\u001b[0m \u001b[0;34m=\u001b[0m \u001b[0;34m[\u001b[0m\u001b[0m_make_indexable\u001b[0m\u001b[0;34m(\u001b[0m\u001b[0mX\u001b[0m\u001b[0;34m)\u001b[0m \u001b[0;32mfor\u001b[0m \u001b[0mX\u001b[0m \u001b[0;32min\u001b[0m \u001b[0miterables\u001b[0m\u001b[0;34m]\u001b[0m\u001b[0;34m\u001b[0m\u001b[0;34m\u001b[0m\u001b[0m\n\u001b[0;32m--> 299\u001b[0;31m     \u001b[0mcheck_consistent_length\u001b[0m\u001b[0;34m(\u001b[0m\u001b[0;34m*\u001b[0m\u001b[0mresult\u001b[0m\u001b[0;34m)\u001b[0m\u001b[0;34m\u001b[0m\u001b[0;34m\u001b[0m\u001b[0m\n\u001b[0m\u001b[1;32m    300\u001b[0m     \u001b[0;32mreturn\u001b[0m \u001b[0mresult\u001b[0m\u001b[0;34m\u001b[0m\u001b[0;34m\u001b[0m\u001b[0m\n\u001b[1;32m    301\u001b[0m \u001b[0;34m\u001b[0m\u001b[0m\n",
      "\u001b[0;32m~/miniforge3/envs/siming/lib/python3.8/site-packages/sklearn/utils/validation.py\u001b[0m in \u001b[0;36mcheck_consistent_length\u001b[0;34m(*arrays)\u001b[0m\n\u001b[1;32m    257\u001b[0m     \"\"\"\n\u001b[1;32m    258\u001b[0m \u001b[0;34m\u001b[0m\u001b[0m\n\u001b[0;32m--> 259\u001b[0;31m     \u001b[0mlengths\u001b[0m \u001b[0;34m=\u001b[0m \u001b[0;34m[\u001b[0m\u001b[0m_num_samples\u001b[0m\u001b[0;34m(\u001b[0m\u001b[0mX\u001b[0m\u001b[0;34m)\u001b[0m \u001b[0;32mfor\u001b[0m \u001b[0mX\u001b[0m \u001b[0;32min\u001b[0m \u001b[0marrays\u001b[0m \u001b[0;32mif\u001b[0m \u001b[0mX\u001b[0m \u001b[0;32mis\u001b[0m \u001b[0;32mnot\u001b[0m \u001b[0;32mNone\u001b[0m\u001b[0;34m]\u001b[0m\u001b[0;34m\u001b[0m\u001b[0;34m\u001b[0m\u001b[0m\n\u001b[0m\u001b[1;32m    260\u001b[0m     \u001b[0muniques\u001b[0m \u001b[0;34m=\u001b[0m \u001b[0mnp\u001b[0m\u001b[0;34m.\u001b[0m\u001b[0munique\u001b[0m\u001b[0;34m(\u001b[0m\u001b[0mlengths\u001b[0m\u001b[0;34m)\u001b[0m\u001b[0;34m\u001b[0m\u001b[0;34m\u001b[0m\u001b[0m\n\u001b[1;32m    261\u001b[0m     \u001b[0;32mif\u001b[0m \u001b[0mlen\u001b[0m\u001b[0;34m(\u001b[0m\u001b[0muniques\u001b[0m\u001b[0;34m)\u001b[0m \u001b[0;34m>\u001b[0m \u001b[0;36m1\u001b[0m\u001b[0;34m:\u001b[0m\u001b[0;34m\u001b[0m\u001b[0;34m\u001b[0m\u001b[0m\n",
      "\u001b[0;32m~/miniforge3/envs/siming/lib/python3.8/site-packages/sklearn/utils/validation.py\u001b[0m in \u001b[0;36m<listcomp>\u001b[0;34m(.0)\u001b[0m\n\u001b[1;32m    257\u001b[0m     \"\"\"\n\u001b[1;32m    258\u001b[0m \u001b[0;34m\u001b[0m\u001b[0m\n\u001b[0;32m--> 259\u001b[0;31m     \u001b[0mlengths\u001b[0m \u001b[0;34m=\u001b[0m \u001b[0;34m[\u001b[0m\u001b[0m_num_samples\u001b[0m\u001b[0;34m(\u001b[0m\u001b[0mX\u001b[0m\u001b[0;34m)\u001b[0m \u001b[0;32mfor\u001b[0m \u001b[0mX\u001b[0m \u001b[0;32min\u001b[0m \u001b[0marrays\u001b[0m \u001b[0;32mif\u001b[0m \u001b[0mX\u001b[0m \u001b[0;32mis\u001b[0m \u001b[0;32mnot\u001b[0m \u001b[0;32mNone\u001b[0m\u001b[0;34m]\u001b[0m\u001b[0;34m\u001b[0m\u001b[0;34m\u001b[0m\u001b[0m\n\u001b[0m\u001b[1;32m    260\u001b[0m     \u001b[0muniques\u001b[0m \u001b[0;34m=\u001b[0m \u001b[0mnp\u001b[0m\u001b[0;34m.\u001b[0m\u001b[0munique\u001b[0m\u001b[0;34m(\u001b[0m\u001b[0mlengths\u001b[0m\u001b[0;34m)\u001b[0m\u001b[0;34m\u001b[0m\u001b[0;34m\u001b[0m\u001b[0m\n\u001b[1;32m    261\u001b[0m     \u001b[0;32mif\u001b[0m \u001b[0mlen\u001b[0m\u001b[0;34m(\u001b[0m\u001b[0muniques\u001b[0m\u001b[0;34m)\u001b[0m \u001b[0;34m>\u001b[0m \u001b[0;36m1\u001b[0m\u001b[0;34m:\u001b[0m\u001b[0;34m\u001b[0m\u001b[0;34m\u001b[0m\u001b[0m\n",
      "\u001b[0;32m~/miniforge3/envs/siming/lib/python3.8/site-packages/sklearn/utils/validation.py\u001b[0m in \u001b[0;36m_num_samples\u001b[0;34m(x)\u001b[0m\n\u001b[1;32m    200\u001b[0m     \u001b[0;32mif\u001b[0m \u001b[0mhasattr\u001b[0m\u001b[0;34m(\u001b[0m\u001b[0mx\u001b[0m\u001b[0;34m,\u001b[0m \u001b[0;34m'shape'\u001b[0m\u001b[0;34m)\u001b[0m \u001b[0;32mand\u001b[0m \u001b[0mx\u001b[0m\u001b[0;34m.\u001b[0m\u001b[0mshape\u001b[0m \u001b[0;32mis\u001b[0m \u001b[0;32mnot\u001b[0m \u001b[0;32mNone\u001b[0m\u001b[0;34m:\u001b[0m\u001b[0;34m\u001b[0m\u001b[0;34m\u001b[0m\u001b[0m\n\u001b[1;32m    201\u001b[0m         \u001b[0;32mif\u001b[0m \u001b[0mlen\u001b[0m\u001b[0;34m(\u001b[0m\u001b[0mx\u001b[0m\u001b[0;34m.\u001b[0m\u001b[0mshape\u001b[0m\u001b[0;34m)\u001b[0m \u001b[0;34m==\u001b[0m \u001b[0;36m0\u001b[0m\u001b[0;34m:\u001b[0m\u001b[0;34m\u001b[0m\u001b[0;34m\u001b[0m\u001b[0m\n\u001b[0;32m--> 202\u001b[0;31m             raise TypeError(\"Singleton array %r cannot be considered\"\n\u001b[0m\u001b[1;32m    203\u001b[0m                             \" a valid collection.\" % x)\n\u001b[1;32m    204\u001b[0m         \u001b[0;31m# Check that shape is returning an integer or default to len\u001b[0m\u001b[0;34m\u001b[0m\u001b[0;34m\u001b[0m\u001b[0;34m\u001b[0m\u001b[0m\n",
      "\u001b[0;31mTypeError\u001b[0m: Singleton array array(<TensorSliceDataset shapes: (6,), types: tf.float64>, dtype=object) cannot be considered a valid collection."
     ]
    }
   ],
   "source": [
    "from sklearn.model_selection import KFold\n",
    "\n",
    "n_split=6\n",
    "\n",
    "for train_index, test_index in KFold(n_split).split(tensor_train):\n",
    "    x_train, x_test = tensor_train[train_index], tensor_train[test_index]\n",
    "    y_train, y_test = target_train[train_index], target_train[test_index]\n",
    "  \n",
    "    model=model_builder()\n",
    "    model.fit(x_train, y_train,epochs=20)\n",
    "    # tuner.search(x_train, y_train,\n",
    "    #          validation_data=(x_test, y_test),\n",
    "    #          epochs=5000, validation_split=0.2,\n",
    "    #          batch_size=1024,\n",
    "    #          # epochs=300,\n",
    "    #          callbacks=[early_stopping])\n",
    "    print('Model evaluation ',model.evaluate(x_test,y_test))"
   ]
  },
  {
   "cell_type": "code",
   "execution_count": 299,
   "metadata": {},
   "outputs": [
    {
     "output_type": "error",
     "ename": "NameError",
     "evalue": "name 'x_train' is not defined",
     "traceback": [
      "\u001b[0;31m---------------------------------------------------------------------------\u001b[0m",
      "\u001b[0;31mNameError\u001b[0m                                 Traceback (most recent call last)",
      "\u001b[0;32m<ipython-input-299-fa471308d2b4>\u001b[0m in \u001b[0;36m<module>\u001b[0;34m\u001b[0m\n\u001b[0;32m----> 1\u001b[0;31m tuner.search(x_train, y_train,\n\u001b[0m\u001b[1;32m      2\u001b[0m              \u001b[0mvalidation_data\u001b[0m\u001b[0;34m=\u001b[0m\u001b[0;34m(\u001b[0m\u001b[0mx_valid\u001b[0m\u001b[0;34m,\u001b[0m \u001b[0my_valid\u001b[0m\u001b[0;34m)\u001b[0m\u001b[0;34m,\u001b[0m\u001b[0;34m\u001b[0m\u001b[0;34m\u001b[0m\u001b[0m\n\u001b[1;32m      3\u001b[0m              \u001b[0mepochs\u001b[0m\u001b[0;34m=\u001b[0m\u001b[0;36m5000\u001b[0m\u001b[0;34m,\u001b[0m \u001b[0mvalidation_split\u001b[0m\u001b[0;34m=\u001b[0m\u001b[0;36m0.2\u001b[0m\u001b[0;34m,\u001b[0m\u001b[0;34m\u001b[0m\u001b[0;34m\u001b[0m\u001b[0m\n\u001b[1;32m      4\u001b[0m              \u001b[0mbatch_size\u001b[0m\u001b[0;34m=\u001b[0m\u001b[0;36m1024\u001b[0m\u001b[0;34m,\u001b[0m\u001b[0;34m\u001b[0m\u001b[0;34m\u001b[0m\u001b[0m\n\u001b[1;32m      5\u001b[0m              \u001b[0;31m# epochs=300,\u001b[0m\u001b[0;34m\u001b[0m\u001b[0;34m\u001b[0m\u001b[0;34m\u001b[0m\u001b[0m\n",
      "\u001b[0;31mNameError\u001b[0m: name 'x_train' is not defined"
     ]
    }
   ],
   "source": [
    "tuner.search(tensor_train, tensor_test,\n",
    "            #  validation_data=(x_valid, y_valid),\n",
    "             epochs=5000, validation_split=0.2,\n",
    "             batch_size=1024,\n",
    "             # epochs=300,\n",
    "             callbacks=[early_stopping])\n",
    "\n",
    "# Get the optimal hyperparameters\n",
    "best_hps = tuner.get_best_hyperparameters(num_trials=1)[0]\n",
    "\n",
    "print(f\"\"\"\n",
    "The hyperparameter search is complete. The optimal number of units in the first densely-connected\n",
    "layer is {best_hps.get('units')} and the optimal learning rate for the optimizer\n",
    "is {best_hps.get('learning_rate')}.\n",
    "\"\"\")"
   ]
  },
  {
   "source": [
    "factory A"
   ],
   "cell_type": "markdown",
   "metadata": {}
  },
  {
   "cell_type": "code",
   "execution_count": null,
   "metadata": {},
   "outputs": [],
   "source": [
    "train = train.drop()"
   ]
  },
  {
   "cell_type": "code",
   "execution_count": null,
   "metadata": {},
   "outputs": [],
   "source": [
    "import h2o\n",
    "h2o.init(nthreads=-1, max_mem_size = \"8G\")\n",
    "\n",
    "train_list=list(train.columns)[:-1]\n",
    "train_1=h2o.H2OFrame(train)\n",
    "train_1['result']=train_1['A厂']"
   ]
  }
 ]
}