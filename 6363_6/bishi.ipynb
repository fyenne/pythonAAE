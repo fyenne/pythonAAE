{
 "metadata": {
  "language_info": {
   "codemirror_mode": {
    "name": "ipython",
    "version": 3
   },
   "file_extension": ".py",
   "mimetype": "text/x-python",
   "name": "python",
   "nbconvert_exporter": "python",
   "pygments_lexer": "ipython3",
   "version": "3.8.8"
  },
  "orig_nbformat": 2,
  "kernelspec": {
   "name": "python388jvsc74a57bd0c28cd10e5274be7696b07727116619a4bffa994b0fabbc00d11628a94e4dc7ef",
   "display_name": "Python 3.8.8 64-bit ('siming': conda)"
  }
 },
 "nbformat": 4,
 "nbformat_minor": 2,
 "cells": [
  {
   "cell_type": "code",
   "execution_count": 1,
   "metadata": {},
   "outputs": [
    {
     "output_type": "stream",
     "name": "stdout",
     "text": [
      "D:\\miniconda_dependent\\miniconda\\envs\\siming\\python.exe\nD:\\miniconda_dependent\\miniconda\\python.exe\nC:\\Users\\ThinkPad\\AppData\\Local\\Microsoft\\WindowsApps\\python.exe\n"
     ]
    }
   ],
   "source": [
    "!where python"
   ]
  },
  {
   "cell_type": "code",
   "execution_count": 4,
   "metadata": {},
   "outputs": [],
   "source": [
    "# cd D:\\miniconda_dependent\\miniconda\\envs\\siming\\\n",
    "    # pip list\n",
    "# !pip install mxnet==1.7.0.post1\n"
   ]
  },
  {
   "cell_type": "code",
   "execution_count": 3,
   "metadata": {},
   "outputs": [],
   "source": [
    "# import plotly.graph_objects as go\n",
    "# fig = go.Figure(data=go.Bar(y=[2, 3, 1]))\n",
    "# fig.show()"
   ]
  },
  {
   "cell_type": "code",
   "execution_count": 1,
   "metadata": {},
   "outputs": [
    {
     "output_type": "execute_result",
     "data": {
      "text/plain": [
       "<IPython.core.display.HTML object>"
      ],
      "text/html": "\n<!DOCTYPE HTML>\n<html>\n  <head>\n    <style>\n      body {\n        margin: 0px;\n        padding: 0px;\n      }\n    </style>\n  </head>\n  <body>\n    <canvas id=\"myCanvas\" width=\"500\" height=\"500\"></canvas>\n    <script>\n      var canvas = document.getElementById('myCanvas');\n      var context = canvas.getContext('2d');\n      <!-- Dashboard -->\n      context.beginPath();\n      context.rect(0, 0, 500, 500);\n      context.lineWidth = 2;\n      context.strokeStyle = 'black';\n      context.stroke();\n      </script>\n  </body>\n</html>\n"
     },
     "metadata": {},
     "execution_count": 1
    }
   ],
   "source": [
    "import chart_studio.dashboard_objs as dashboard\n",
    "\n",
    "import IPython.display\n",
    "from IPython.display import Image\n",
    "\n",
    "my_dboard = dashboard.Dashboard()\n",
    "my_dboard.get_preview()"
   ]
  },
  {
   "cell_type": "code",
   "execution_count": 5,
   "metadata": {},
   "outputs": [],
   "source": [
    "import plotly.graph_objs as go\n",
    "import chart_studio.plotly as py\n",
    "\n",
    "import numpy as np\n",
    "\n",
    "colorscale = [[0, '#FAEE1C'], [0.33, '#F3558E'], [0.66, '#9C1DE7'], [1, '#581B98']]\n",
    "trace1 = go.Scatter(\n",
    "    y = np.random.randn(500),\n",
    "    mode='markers',\n",
    "    marker=dict(\n",
    "        size=16,\n",
    "        color = np.random.randn(500),\n",
    "        colorscale=colorscale,\n",
    "        showscale=True\n",
    "    )\n",
    ")\n",
    "data = [trace1]\n",
    "url_1 = py.plot(data, filename='scatter-for-dashboard', auto_open=True)\n",
    "py.iplot(data, filename='scatter-for-dashboard')"
   ]
  },
  {
   "cell_type": "code",
   "execution_count": 9,
   "metadata": {},
   "outputs": [],
   "source": [
    "url_2"
   ]
  },
  {
   "cell_type": "code",
   "execution_count": 10,
   "metadata": {},
   "outputs": [
    {
     "output_type": "display_data",
     "data": {
      "application/vnd.plotly.v1+json": {
       "config": {
        "linkText": "Export to plot.ly",
        "plotlyServerURL": "https://plot.ly",
        "showLink": false
       },
       "data": [
        {
         "marker": {
          "color": "#FAEE1C"
         },
         "type": "box",
         "x": [
          -0.8773793796375768,
          0.22361929170145384,
          0.8845156020571503,
          -0.9163854044298646,
          -1.0852679757048151,
          -0.6564132923233237,
          0.12802290937579755,
          -1.2873931472330469,
          0.649303962495283,
          -0.9315445272648593,
          0.1846833222525276,
          -0.9188198839331094,
          -1.17707354188918,
          -0.7616824640505966,
          0.7087829077131667,
          1.1405182841165609,
          -0.05031417196926023,
          -0.8562606027106302,
          0.17390795758695846,
          0.35788560087189875,
          0.48094671637353625,
          0.41799476708576105,
          1.0506366011380388,
          -1.0377761217279486,
          1.954630416948383,
          0.9144343005541126,
          -0.03184261978657523,
          -1.4988357338421952,
          -0.05254060356786442,
          -0.674221780623923,
          0.7909035334919874,
          0.811591648367091,
          1.7488853230486832,
          -0.8104510359019521,
          0.6816174117532481,
          1.1020103547216713,
          -0.2295018085899767,
          -0.3816691206594273,
          -0.5233222163035098,
          1.1384053775496639,
          0.3101773593169857,
          -0.34039431699473854,
          0.5768540465146355,
          -0.984269232816315,
          1.2675041663201156,
          -0.14406276714908658,
          -1.810727773483411,
          -0.43283777435557286,
          -0.001113935574403069,
          0.22387554230276052
         ]
        },
        {
         "marker": {
          "color": "#F3558E"
         },
         "type": "box",
         "x": [
          1.6450667047454917,
          3.570633512815738,
          3.28115538470432,
          1.344617454016813,
          1.9134024047778655,
          1.3225198045984716,
          0.15032589809394237,
          1.5855888813708523,
          0.535591159161857,
          0.5708544814320511,
          1.948943465808636,
          0.3272869061180448,
          2.655690454629698,
          1.585230644763572,
          2.924943262333303,
          2.394561234919559,
          2.5887803330821155,
          -0.39322035209018935,
          1.5748241039065707,
          2.3778569105100287,
          1.3834691535422778,
          2.005999514855068,
          0.4768649642486551,
          1.1745327412516202,
          2.2105245041270853,
          2.449027137965888,
          1.6648528923265622,
          1.827869634982506,
          0.48349572048086586,
          3.9179876888194713,
          2.4635008394712083,
          1.1184196004348395,
          3.903693761177644,
          0.3800674159263324,
          3.5143939674913103,
          0.575642027915156,
          0.9777555381053276,
          2.788985167985336,
          2.701291574957156,
          0.8536487191672568,
          2.126712815384957,
          0.8919110955849128,
          2.102195410658678,
          0.4765854807076093,
          0.7034701714337366,
          1.3398953587713875,
          1.1202048176689186,
          2.4138762694223064,
          2.1922837105556248,
          2.788917493415995
         ]
        },
        {
         "marker": {
          "color": "#9C1DE7"
         },
         "type": "box",
         "x": [
          6.363085060321166,
          5.528616620409574,
          3.317772693084705,
          4.94378440100208,
          3.757892245487402,
          4.373899496323485,
          4.845519751422858,
          1.702413656738408,
          4.012747360970267,
          4.270193492824907,
          4.749857337717048,
          3.765532508767708,
          4.313263235235013,
          3.4611204582207398,
          3.0234530639233372,
          3.600297538365593,
          2.963108300224509,
          3.9639361650572393,
          4.824979136392893,
          4.566882346104808,
          4.756170066339829,
          4.950871586191303,
          3.9003508249347587,
          4.889747652651031,
          1.1585731406672477,
          5.426258164509882,
          5.535303539405665,
          3.84734106836867,
          4.070018612870091,
          5.903379902969323,
          5.084329920599546,
          4.408314838874442,
          4.135186353620327,
          2.455115701217318,
          3.494253642989916,
          3.949555319828072,
          4.1923100514354426,
          3.314772817025491,
          2.2755564695139423,
          4.499822634804903,
          3.6876943658359624,
          4.960082925502439,
          4.697033933515407,
          1.9590874649991474,
          3.8221159199624806,
          3.747795916858978,
          4.230263957472574,
          4.139571417551197,
          3.5380836717830757,
          4.360961407615869
         ]
        },
        {
         "marker": {
          "color": "#581B98"
         },
         "type": "box",
         "x": [
          5.520773858052361,
          7.363234576385224,
          4.877380431590266,
          5.03508545292242,
          5.318141011088088,
          6.0032107335283404,
          7.623082610327982,
          5.723511580286158,
          5.7347952621651,
          4.9157450596954,
          4.542210253477494,
          5.619721223137763,
          8.105605026336693,
          4.804433247745731,
          5.844441745623051,
          4.89541752943916,
          5.353854347382188,
          6.505477789810898,
          6.541546953745462,
          5.615201349481514,
          5.733396917954339,
          5.191832540174987,
          5.030540827825869,
          5.862491615534818,
          6.220595497686608,
          7.924768849814601,
          6.531032786827227,
          4.905647239721981,
          7.283968848386024,
          4.763664563354184,
          7.257229807845354,
          7.1754883326170305,
          6.274456946287829,
          5.457088236871093,
          7.260118331513809,
          6.043630686736725,
          5.119178137014468,
          5.925688505606499,
          7.238266686134143,
          6.026473389693406,
          7.718215020499255,
          7.2071858682998915,
          6.013073674952732,
          5.538548497248006,
          6.2057903617499255,
          4.548713942539021,
          6.50601301734935,
          7.083071740996576,
          7.808475820074914,
          4.99968497168978
         ]
        }
       ],
       "layout": {
        "template": {
         "data": {
          "bar": [
           {
            "error_x": {
             "color": "#2a3f5f"
            },
            "error_y": {
             "color": "#2a3f5f"
            },
            "marker": {
             "line": {
              "color": "#E5ECF6",
              "width": 0.5
             }
            },
            "type": "bar"
           }
          ],
          "barpolar": [
           {
            "marker": {
             "line": {
              "color": "#E5ECF6",
              "width": 0.5
             }
            },
            "type": "barpolar"
           }
          ],
          "carpet": [
           {
            "aaxis": {
             "endlinecolor": "#2a3f5f",
             "gridcolor": "white",
             "linecolor": "white",
             "minorgridcolor": "white",
             "startlinecolor": "#2a3f5f"
            },
            "baxis": {
             "endlinecolor": "#2a3f5f",
             "gridcolor": "white",
             "linecolor": "white",
             "minorgridcolor": "white",
             "startlinecolor": "#2a3f5f"
            },
            "type": "carpet"
           }
          ],
          "choropleth": [
           {
            "colorbar": {
             "outlinewidth": 0,
             "ticks": ""
            },
            "type": "choropleth"
           }
          ],
          "contour": [
           {
            "colorbar": {
             "outlinewidth": 0,
             "ticks": ""
            },
            "colorscale": [
             [
              0,
              "#0d0887"
             ],
             [
              0.1111111111111111,
              "#46039f"
             ],
             [
              0.2222222222222222,
              "#7201a8"
             ],
             [
              0.3333333333333333,
              "#9c179e"
             ],
             [
              0.4444444444444444,
              "#bd3786"
             ],
             [
              0.5555555555555556,
              "#d8576b"
             ],
             [
              0.6666666666666666,
              "#ed7953"
             ],
             [
              0.7777777777777778,
              "#fb9f3a"
             ],
             [
              0.8888888888888888,
              "#fdca26"
             ],
             [
              1,
              "#f0f921"
             ]
            ],
            "type": "contour"
           }
          ],
          "contourcarpet": [
           {
            "colorbar": {
             "outlinewidth": 0,
             "ticks": ""
            },
            "type": "contourcarpet"
           }
          ],
          "heatmap": [
           {
            "colorbar": {
             "outlinewidth": 0,
             "ticks": ""
            },
            "colorscale": [
             [
              0,
              "#0d0887"
             ],
             [
              0.1111111111111111,
              "#46039f"
             ],
             [
              0.2222222222222222,
              "#7201a8"
             ],
             [
              0.3333333333333333,
              "#9c179e"
             ],
             [
              0.4444444444444444,
              "#bd3786"
             ],
             [
              0.5555555555555556,
              "#d8576b"
             ],
             [
              0.6666666666666666,
              "#ed7953"
             ],
             [
              0.7777777777777778,
              "#fb9f3a"
             ],
             [
              0.8888888888888888,
              "#fdca26"
             ],
             [
              1,
              "#f0f921"
             ]
            ],
            "type": "heatmap"
           }
          ],
          "heatmapgl": [
           {
            "colorbar": {
             "outlinewidth": 0,
             "ticks": ""
            },
            "colorscale": [
             [
              0,
              "#0d0887"
             ],
             [
              0.1111111111111111,
              "#46039f"
             ],
             [
              0.2222222222222222,
              "#7201a8"
             ],
             [
              0.3333333333333333,
              "#9c179e"
             ],
             [
              0.4444444444444444,
              "#bd3786"
             ],
             [
              0.5555555555555556,
              "#d8576b"
             ],
             [
              0.6666666666666666,
              "#ed7953"
             ],
             [
              0.7777777777777778,
              "#fb9f3a"
             ],
             [
              0.8888888888888888,
              "#fdca26"
             ],
             [
              1,
              "#f0f921"
             ]
            ],
            "type": "heatmapgl"
           }
          ],
          "histogram": [
           {
            "marker": {
             "colorbar": {
              "outlinewidth": 0,
              "ticks": ""
             }
            },
            "type": "histogram"
           }
          ],
          "histogram2d": [
           {
            "colorbar": {
             "outlinewidth": 0,
             "ticks": ""
            },
            "colorscale": [
             [
              0,
              "#0d0887"
             ],
             [
              0.1111111111111111,
              "#46039f"
             ],
             [
              0.2222222222222222,
              "#7201a8"
             ],
             [
              0.3333333333333333,
              "#9c179e"
             ],
             [
              0.4444444444444444,
              "#bd3786"
             ],
             [
              0.5555555555555556,
              "#d8576b"
             ],
             [
              0.6666666666666666,
              "#ed7953"
             ],
             [
              0.7777777777777778,
              "#fb9f3a"
             ],
             [
              0.8888888888888888,
              "#fdca26"
             ],
             [
              1,
              "#f0f921"
             ]
            ],
            "type": "histogram2d"
           }
          ],
          "histogram2dcontour": [
           {
            "colorbar": {
             "outlinewidth": 0,
             "ticks": ""
            },
            "colorscale": [
             [
              0,
              "#0d0887"
             ],
             [
              0.1111111111111111,
              "#46039f"
             ],
             [
              0.2222222222222222,
              "#7201a8"
             ],
             [
              0.3333333333333333,
              "#9c179e"
             ],
             [
              0.4444444444444444,
              "#bd3786"
             ],
             [
              0.5555555555555556,
              "#d8576b"
             ],
             [
              0.6666666666666666,
              "#ed7953"
             ],
             [
              0.7777777777777778,
              "#fb9f3a"
             ],
             [
              0.8888888888888888,
              "#fdca26"
             ],
             [
              1,
              "#f0f921"
             ]
            ],
            "type": "histogram2dcontour"
           }
          ],
          "mesh3d": [
           {
            "colorbar": {
             "outlinewidth": 0,
             "ticks": ""
            },
            "type": "mesh3d"
           }
          ],
          "parcoords": [
           {
            "line": {
             "colorbar": {
              "outlinewidth": 0,
              "ticks": ""
             }
            },
            "type": "parcoords"
           }
          ],
          "pie": [
           {
            "automargin": true,
            "type": "pie"
           }
          ],
          "scatter": [
           {
            "marker": {
             "colorbar": {
              "outlinewidth": 0,
              "ticks": ""
             }
            },
            "type": "scatter"
           }
          ],
          "scatter3d": [
           {
            "line": {
             "colorbar": {
              "outlinewidth": 0,
              "ticks": ""
             }
            },
            "marker": {
             "colorbar": {
              "outlinewidth": 0,
              "ticks": ""
             }
            },
            "type": "scatter3d"
           }
          ],
          "scattercarpet": [
           {
            "marker": {
             "colorbar": {
              "outlinewidth": 0,
              "ticks": ""
             }
            },
            "type": "scattercarpet"
           }
          ],
          "scattergeo": [
           {
            "marker": {
             "colorbar": {
              "outlinewidth": 0,
              "ticks": ""
             }
            },
            "type": "scattergeo"
           }
          ],
          "scattergl": [
           {
            "marker": {
             "colorbar": {
              "outlinewidth": 0,
              "ticks": ""
             }
            },
            "type": "scattergl"
           }
          ],
          "scattermapbox": [
           {
            "marker": {
             "colorbar": {
              "outlinewidth": 0,
              "ticks": ""
             }
            },
            "type": "scattermapbox"
           }
          ],
          "scatterpolar": [
           {
            "marker": {
             "colorbar": {
              "outlinewidth": 0,
              "ticks": ""
             }
            },
            "type": "scatterpolar"
           }
          ],
          "scatterpolargl": [
           {
            "marker": {
             "colorbar": {
              "outlinewidth": 0,
              "ticks": ""
             }
            },
            "type": "scatterpolargl"
           }
          ],
          "scatterternary": [
           {
            "marker": {
             "colorbar": {
              "outlinewidth": 0,
              "ticks": ""
             }
            },
            "type": "scatterternary"
           }
          ],
          "surface": [
           {
            "colorbar": {
             "outlinewidth": 0,
             "ticks": ""
            },
            "colorscale": [
             [
              0,
              "#0d0887"
             ],
             [
              0.1111111111111111,
              "#46039f"
             ],
             [
              0.2222222222222222,
              "#7201a8"
             ],
             [
              0.3333333333333333,
              "#9c179e"
             ],
             [
              0.4444444444444444,
              "#bd3786"
             ],
             [
              0.5555555555555556,
              "#d8576b"
             ],
             [
              0.6666666666666666,
              "#ed7953"
             ],
             [
              0.7777777777777778,
              "#fb9f3a"
             ],
             [
              0.8888888888888888,
              "#fdca26"
             ],
             [
              1,
              "#f0f921"
             ]
            ],
            "type": "surface"
           }
          ],
          "table": [
           {
            "cells": {
             "fill": {
              "color": "#EBF0F8"
             },
             "line": {
              "color": "white"
             }
            },
            "header": {
             "fill": {
              "color": "#C8D4E3"
             },
             "line": {
              "color": "white"
             }
            },
            "type": "table"
           }
          ]
         },
         "layout": {
          "annotationdefaults": {
           "arrowcolor": "#2a3f5f",
           "arrowhead": 0,
           "arrowwidth": 1
          },
          "autotypenumbers": "strict",
          "coloraxis": {
           "colorbar": {
            "outlinewidth": 0,
            "ticks": ""
           }
          },
          "colorscale": {
           "diverging": [
            [
             0,
             "#8e0152"
            ],
            [
             0.1,
             "#c51b7d"
            ],
            [
             0.2,
             "#de77ae"
            ],
            [
             0.3,
             "#f1b6da"
            ],
            [
             0.4,
             "#fde0ef"
            ],
            [
             0.5,
             "#f7f7f7"
            ],
            [
             0.6,
             "#e6f5d0"
            ],
            [
             0.7,
             "#b8e186"
            ],
            [
             0.8,
             "#7fbc41"
            ],
            [
             0.9,
             "#4d9221"
            ],
            [
             1,
             "#276419"
            ]
           ],
           "sequential": [
            [
             0,
             "#0d0887"
            ],
            [
             0.1111111111111111,
             "#46039f"
            ],
            [
             0.2222222222222222,
             "#7201a8"
            ],
            [
             0.3333333333333333,
             "#9c179e"
            ],
            [
             0.4444444444444444,
             "#bd3786"
            ],
            [
             0.5555555555555556,
             "#d8576b"
            ],
            [
             0.6666666666666666,
             "#ed7953"
            ],
            [
             0.7777777777777778,
             "#fb9f3a"
            ],
            [
             0.8888888888888888,
             "#fdca26"
            ],
            [
             1,
             "#f0f921"
            ]
           ],
           "sequentialminus": [
            [
             0,
             "#0d0887"
            ],
            [
             0.1111111111111111,
             "#46039f"
            ],
            [
             0.2222222222222222,
             "#7201a8"
            ],
            [
             0.3333333333333333,
             "#9c179e"
            ],
            [
             0.4444444444444444,
             "#bd3786"
            ],
            [
             0.5555555555555556,
             "#d8576b"
            ],
            [
             0.6666666666666666,
             "#ed7953"
            ],
            [
             0.7777777777777778,
             "#fb9f3a"
            ],
            [
             0.8888888888888888,
             "#fdca26"
            ],
            [
             1,
             "#f0f921"
            ]
           ]
          },
          "colorway": [
           "#636efa",
           "#EF553B",
           "#00cc96",
           "#ab63fa",
           "#FFA15A",
           "#19d3f3",
           "#FF6692",
           "#B6E880",
           "#FF97FF",
           "#FECB52"
          ],
          "font": {
           "color": "#2a3f5f"
          },
          "geo": {
           "bgcolor": "white",
           "lakecolor": "white",
           "landcolor": "#E5ECF6",
           "showlakes": true,
           "showland": true,
           "subunitcolor": "white"
          },
          "hoverlabel": {
           "align": "left"
          },
          "hovermode": "closest",
          "mapbox": {
           "style": "light"
          },
          "paper_bgcolor": "white",
          "plot_bgcolor": "#E5ECF6",
          "polar": {
           "angularaxis": {
            "gridcolor": "white",
            "linecolor": "white",
            "ticks": ""
           },
           "bgcolor": "#E5ECF6",
           "radialaxis": {
            "gridcolor": "white",
            "linecolor": "white",
            "ticks": ""
           }
          },
          "scene": {
           "xaxis": {
            "backgroundcolor": "#E5ECF6",
            "gridcolor": "white",
            "gridwidth": 2,
            "linecolor": "white",
            "showbackground": true,
            "ticks": "",
            "zerolinecolor": "white"
           },
           "yaxis": {
            "backgroundcolor": "#E5ECF6",
            "gridcolor": "white",
            "gridwidth": 2,
            "linecolor": "white",
            "showbackground": true,
            "ticks": "",
            "zerolinecolor": "white"
           },
           "zaxis": {
            "backgroundcolor": "#E5ECF6",
            "gridcolor": "white",
            "gridwidth": 2,
            "linecolor": "white",
            "showbackground": true,
            "ticks": "",
            "zerolinecolor": "white"
           }
          },
          "shapedefaults": {
           "line": {
            "color": "#2a3f5f"
           }
          },
          "ternary": {
           "aaxis": {
            "gridcolor": "white",
            "linecolor": "white",
            "ticks": ""
           },
           "baxis": {
            "gridcolor": "white",
            "linecolor": "white",
            "ticks": ""
           },
           "bgcolor": "#E5ECF6",
           "caxis": {
            "gridcolor": "white",
            "linecolor": "white",
            "ticks": ""
           }
          },
          "title": {
           "x": 0.05
          },
          "xaxis": {
           "automargin": true,
           "gridcolor": "white",
           "linecolor": "white",
           "ticks": "",
           "title": {
            "standoff": 15
           },
           "zerolinecolor": "white",
           "zerolinewidth": 2
          },
          "yaxis": {
           "automargin": true,
           "gridcolor": "white",
           "linecolor": "white",
           "ticks": "",
           "title": {
            "standoff": 15
           },
           "zerolinecolor": "white",
           "zerolinewidth": 2
          }
         }
        }
       }
      }
     },
     "metadata": {}
    }
   ],
   "source": [
    "# import chart_studio.plotly as py\n",
    "from plotly.offline import iplot\n",
    "import plotly.graph_objs as go\n",
    "\n",
    "import numpy as np\n",
    "# py.offline.init_notebook_mode(connected=True)\n",
    "\n",
    "\n",
    "x0 = np.random.randn(50)\n",
    "x1 = np.random.randn(50) + 2\n",
    "x2 = np.random.randn(50) + 4\n",
    "x3 = np.random.randn(50) + 6\n",
    "\n",
    "colors = ['#FAEE1C', '#F3558E', '#9C1DE7', '#581B98']\n",
    "\n",
    "trace0 = go.Box(x=x0, marker={'color': colors[0]})\n",
    "trace1 = go.Box(x=x1, marker={'color': colors[1]})\n",
    "trace2 = go.Box(x=x2, marker={'color': colors[2]})\n",
    "trace3 = go.Box(x=x3, marker={'color': colors[3]})\n",
    "data = [trace0, trace1, trace2, trace3]\n",
    "\n",
    "# url_2 = iplot(data, filename='box-plots-for-dashboard')\n",
    "iplot(data, filename='box-plots-for-dashboard')"
   ]
  },
  {
   "cell_type": "code",
   "execution_count": 3,
   "metadata": {},
   "outputs": [],
   "source": [
    "# class Solution(abject):\n",
    "arr = [5,4,3,2,1]        \n"
   ]
  },
  {
   "cell_type": "code",
   "execution_count": 4,
   "metadata": {},
   "outputs": [],
   "source": [
    "asort = sorted(arr)\n",
    "res = 0\n",
    "sum1 = 0\n",
    "sum2 = 0\n"
   ]
  },
  {
   "cell_type": "code",
   "execution_count": 5,
   "metadata": {},
   "outputs": [
    {
     "output_type": "execute_result",
     "data": {
      "text/plain": [
       "[5, 4, 3, 2, 1]"
      ]
     },
     "metadata": {},
     "execution_count": 5
    }
   ],
   "source": [
    "arr"
   ]
  },
  {
   "cell_type": "code",
   "execution_count": 20,
   "metadata": {},
   "outputs": [
    {
     "output_type": "stream",
     "name": "stdout",
     "text": [
      "0 5\n1 4\n2 3\n3 2\n4 1\n"
     ]
    }
   ],
   "source": [
    "for i, a in enumerate(arr):\n",
    "    print(i, a)"
   ]
  },
  {
   "cell_type": "code",
   "execution_count": 21,
   "metadata": {},
   "outputs": [],
   "source": [
    "sum1 = 0\n",
    "sum2 = 0"
   ]
  },
  {
   "cell_type": "code",
   "execution_count": 22,
   "metadata": {},
   "outputs": [
    {
     "output_type": "stream",
     "name": "stdout",
     "text": [
      "0 0 0 5\n5 1\n5 1 1 4\n9 3\n9 3 2 3\n12 6\n12 6 3 2\n14 10\n14 10 4 1\n15 15\n"
     ]
    }
   ],
   "source": [
    "# asort\n",
    "for i, a in enumerate(arr):\n",
    "    print(sum1, sum2, i , a)\n",
    "    sum1 += a\n",
    "    sum2 += asort[i]\n",
    "    print(sum1, sum2)"
   ]
  },
  {
   "cell_type": "code",
   "execution_count": 23,
   "metadata": {},
   "outputs": [
    {
     "output_type": "stream",
     "name": "stdout",
     "text": [
      "1\n"
     ]
    }
   ],
   "source": [
    "for i, a in enumerate(arr):\n",
    "    sum1 += a\n",
    "    sum2 += asort[i]\n",
    "    if sum1 == sum2:\n",
    "        res += 1\n",
    "        sum1 = 0\n",
    "        sum2 = 0\n",
    "        print(res)"
   ]
  },
  {
   "cell_type": "code",
   "execution_count": 24,
   "metadata": {},
   "outputs": [],
   "source": [
    "# import sys\n",
    "# print(sys.path)"
   ]
  },
  {
   "cell_type": "code",
   "execution_count": 25,
   "metadata": {},
   "outputs": [],
   "source": [
    "# sys.path.append('d:\\miniconda_dependent\\miniconda\\envs\\siming\\lib\\site-packages')"
   ]
  },
  {
   "cell_type": "code",
   "execution_count": 25,
   "metadata": {},
   "outputs": [],
   "source": [
    " "
   ]
  },
  {
   "cell_type": "code",
   "execution_count": 26,
   "metadata": {},
   "outputs": [],
   "source": [
    "a = 6\n",
    "b = 0"
   ]
  },
  {
   "cell_type": "code",
   "execution_count": 27,
   "metadata": {},
   "outputs": [
    {
     "output_type": "stream",
     "name": "stdout",
     "text": [
      "1\n"
     ]
    }
   ],
   "source": [
    "import numpy as np\n",
    "for i in np.arange(1,20):\n",
    "    for j in np.arange(1,20):\n",
    "        for k in np.arange(1,20):\n",
    "            if i^2 + j^2 + k^2 == a:\n",
    "                b += 1\n",
    "                break\n",
    "            else:\n",
    "                b += 0\n",
    "\n",
    "if b != 0:\n",
    "    print(1)\n",
    "else:\n",
    "    pritn(0)"
   ]
  },
  {
   "cell_type": "code",
   "execution_count": 29,
   "metadata": {},
   "outputs": [
    {
     "output_type": "execute_result",
     "data": {
      "text/plain": [
       "227"
      ]
     },
     "metadata": {},
     "execution_count": 29
    }
   ],
   "source": []
  },
  {
   "cell_type": "code",
   "execution_count": 28,
   "metadata": {},
   "outputs": [],
   "source": [
    "line = [1, 2, 3, 1, 4, 6]"
   ]
  },
  {
   "cell_type": "code",
   "execution_count": 29,
   "metadata": {},
   "outputs": [],
   "source": [
    "# import numpy as np\n",
    "# import pandas as pd\n",
    "m = np.arange(1, len(line)+1)\n",
    "df = line\n",
    "# df = pd.DataFrame({'col1' : line,'col2' :  m})"
   ]
  },
  {
   "cell_type": "code",
   "execution_count": 30,
   "metadata": {},
   "outputs": [
    {
     "output_type": "stream",
     "name": "stdout",
     "text": [
      "4\n"
     ]
    }
   ],
   "source": [
    "h = 0\n",
    "for i in np.arange(1, len(line)-1):\n",
    "    if (df[i] >= df[i-1] + df[i+1]):\n",
    "        # print(df.iloc[i,1])\n",
    "        if df[i] >0:\n",
    "            t = i\n",
    "            # print(t)\n",
    "            while t - 2 >=0:\n",
    "                 h += df[t]\n",
    "                 t = t-2\n",
    "print(h+df[0])\n",
    "\n",
    " \n"
   ]
  },
  {
   "cell_type": "code",
   "execution_count": 9,
   "metadata": {},
   "outputs": [],
   "source": [
    "#  mil.head()"
   ]
  },
  {
   "cell_type": "code",
   "execution_count": 1,
   "metadata": {},
   "outputs": [],
   "source": [
    "import pandas as pd\n",
    "# import qgrid"
   ]
  },
  {
   "cell_type": "code",
   "execution_count": 2,
   "metadata": {},
   "outputs": [],
   "source": [
    "mil = pd.read_excel(\"D://myboooks_from_mac/abvc/jundui1.xlsx\")"
   ]
  },
  {
   "cell_type": "code",
   "execution_count": 3,
   "metadata": {},
   "outputs": [
    {
     "output_type": "execute_result",
     "data": {
      "text/plain": [
       "Index(['岗位代码', '用人单位\\n序    号', '用人单位\\n名    称', '岗位类别', '岗位\\n名称', '从事工作',\n",
       "       '招考数量', '入围比例', '来源\\n类别', '学历', '学位', '所学专业', '考试专业科    目', '高校\\n毕业生',\n",
       "       '社会\\n人才', '高校\\n毕业生.1', '社会\\n人才.1', '其他条件', '工作\\n地点', '咨询电话',\n",
       "       'Unnamed: 20', 'Unnamed: 21'],\n",
       "      dtype='object')"
      ]
     },
     "metadata": {},
     "execution_count": 3
    }
   ],
   "source": [
    "mil.head();\n",
    "mil.columns"
   ]
  },
  {
   "cell_type": "code",
   "execution_count": 4,
   "metadata": {},
   "outputs": [
    {
     "output_type": "execute_result",
     "data": {
      "text/plain": [
       "0                       财务管理\n",
       "1        计算机网络、设备、器材维护与管理等工作\n",
       "2                       合同管理\n",
       "3                   国防科技项目管理\n",
       "4                   网络安全和信息化\n",
       "                ...         \n",
       "22260               营区环境艺术设计\n",
       "22261                服装与服饰设计\n",
       "22262                   英语翻译\n",
       "22263                 会计相关工作\n",
       "22264              经费预算和财务审计\n",
       "Name: 从事工作, Length: 22265, dtype: object"
      ]
     },
     "metadata": {},
     "execution_count": 4
    }
   ],
   "source": [
    "b = pd.Series(mil.从事工作);b"
   ]
  },
  {
   "cell_type": "code",
   "execution_count": 5,
   "metadata": {},
   "outputs": [],
   "source": [
    "caiwu = b.str.extract(r\"(财务)\").dropna()"
   ]
  },
  {
   "cell_type": "code",
   "execution_count": 31,
   "metadata": {},
   "outputs": [],
   "source": [
    "# mil.loc[caiwu.index]\n",
    "# caiwu"
   ]
  },
  {
   "cell_type": "code",
   "execution_count": 6,
   "metadata": {},
   "outputs": [],
   "source": [
    "jj = mil.loc[:,\"所学专业\"]"
   ]
  },
  {
   "cell_type": "code",
   "execution_count": 53,
   "metadata": {},
   "outputs": [
    {
     "output_type": "stream",
     "name": "stderr",
     "text": [
      "D:\\miniconda_dependent\\miniconda\\envs\\siming\\lib\\site-packages\\pandas\\core\\strings\\accessor.py:101: UserWarning: This pattern has match groups. To actually get the groups, use str.extract.\n  return func(self, *args, **kwargs)\n"
     ]
    },
    {
     "output_type": "execute_result",
     "data": {
      "text/plain": [
       "0                  研究生：经济学，会计（专业学位）\\n本科：经济学，财务管理\n",
       "1                          研究生：计算机科学与技术\\n本科：计算机类\n",
       "2                          研究生：计算机科学与技术\\n本科：计算机类\n",
       "3                       研究生：计算机应用技术\\n本科：计算机科学与技术\n",
       "4        研究生：计算机科学与技术，网络空间安全\\n本科：计算机科学与技术，网络空间安全\n",
       "                          ...                   \n",
       "22163                           研究生：管理学\\n本科：财务管理\n",
       "22164                    研究生：电子科学与技术\\n本科：电子科学与技术\n",
       "22165                              研究生：法学\\n本科：法学\n",
       "22166                       研究生：管理科学与工程\\n本科：管理科学\n",
       "22167                         研究生：管理学\\n本科：人力资源管理\n",
       "Name: 所学专业, Length: 10586, dtype: object"
      ]
     },
     "metadata": {},
     "execution_count": 53
    }
   ],
   "source": [
    "jj[jj.str.contains(r'(研究生)') == True]\n"
   ]
  },
  {
   "source": [
    "1+1"
   ],
   "cell_type": "code",
   "metadata": {},
   "execution_count": null,
   "outputs": []
  },
  {
   "cell_type": "code",
   "execution_count": 54,
   "metadata": {},
   "outputs": [
    {
     "output_type": "execute_result",
     "data": {
      "text/plain": [
       "1969     经济学，工学\n",
       "16242       经济学\n",
       "17668       经济学\n",
       "Name: 所学专业, dtype: object"
      ]
     },
     "metadata": {},
     "execution_count": 54
    }
   ],
   "source": [
    "jj[jj.str.match(r'(经济学)')==True]"
   ]
  },
  {
   "cell_type": "code",
   "execution_count": 55,
   "metadata": {},
   "outputs": [
    {
     "output_type": "execute_result",
     "data": {
      "text/plain": [
       "             岗位代码 用人单位\\n序    号      用人单位\\n名    称 岗位类别       岗位\\n名称  从事工作  \\\n",
       "1969   2021002006      D211196  河南省军区郑州第三离职干部休养所  助理员  助理员（科级副职以下）  行政管理   \n",
       "16242  2021016302      D213114            解放军总医院  助理员  助理员（科级副职以下）  财务管理   \n",
       "17668  2021017740      D213131            国防科技大学   参谋   参谋（科级副职以下）  装备财务   \n",
       "\n",
       "       招考数量 入围比例      来源\\n类别            学历  ... 考试专业科    目 高校\\n毕业生 社会\\n人才  \\\n",
       "1969      1  1:3        社会人才    全日制研究生（硕士）  ...        管理学      ——    无要求   \n",
       "16242     1  1:3  高校毕业生或社会人才  全日制研究生（硕士以上）  ...        会计学     无要求    无要求   \n",
       "17668     1  1:5  高校毕业生或社会人才    全日制研究生（硕士）  ...        管理学     无要求    无要求   \n",
       "\n",
       "        高校\\n毕业生.1    社会\\n人才.1                                 其他条件 工作\\n地点  \\\n",
       "1969           ——         无要求         中共党员，国内“双一流”建设高校，有1年以上财务工作经历   河南郑州   \n",
       "16242  会计专业技术初级资格  会计专业技术初级资格                 “985工程”或“211工程”院校毕业生     北京   \n",
       "17668         无要求         无要求  男性，国内“双一流”建设高校或海外知名高校毕业，且第一学历为全日制本科   安徽合肥   \n",
       "\n",
       "                              咨询电话 Unnamed: 20 Unnamed: 21  \n",
       "1969   0371-81670751,0371-81678032         NaN         NaN  \n",
       "16242                 010-66875193         NaN         NaN  \n",
       "17668    0551-65926522,18951021681         NaN         NaN  \n",
       "\n",
       "[3 rows x 22 columns]"
      ],
      "text/html": "<div>\n<style scoped>\n    .dataframe tbody tr th:only-of-type {\n        vertical-align: middle;\n    }\n\n    .dataframe tbody tr th {\n        vertical-align: top;\n    }\n\n    .dataframe thead th {\n        text-align: right;\n    }\n</style>\n<table border=\"1\" class=\"dataframe\">\n  <thead>\n    <tr style=\"text-align: right;\">\n      <th></th>\n      <th>岗位代码</th>\n      <th>用人单位\\n序    号</th>\n      <th>用人单位\\n名    称</th>\n      <th>岗位类别</th>\n      <th>岗位\\n名称</th>\n      <th>从事工作</th>\n      <th>招考数量</th>\n      <th>入围比例</th>\n      <th>来源\\n类别</th>\n      <th>学历</th>\n      <th>...</th>\n      <th>考试专业科    目</th>\n      <th>高校\\n毕业生</th>\n      <th>社会\\n人才</th>\n      <th>高校\\n毕业生.1</th>\n      <th>社会\\n人才.1</th>\n      <th>其他条件</th>\n      <th>工作\\n地点</th>\n      <th>咨询电话</th>\n      <th>Unnamed: 20</th>\n      <th>Unnamed: 21</th>\n    </tr>\n  </thead>\n  <tbody>\n    <tr>\n      <th>1969</th>\n      <td>2021002006</td>\n      <td>D211196</td>\n      <td>河南省军区郑州第三离职干部休养所</td>\n      <td>助理员</td>\n      <td>助理员（科级副职以下）</td>\n      <td>行政管理</td>\n      <td>1</td>\n      <td>1:3</td>\n      <td>社会人才</td>\n      <td>全日制研究生（硕士）</td>\n      <td>...</td>\n      <td>管理学</td>\n      <td>——</td>\n      <td>无要求</td>\n      <td>——</td>\n      <td>无要求</td>\n      <td>中共党员，国内“双一流”建设高校，有1年以上财务工作经历</td>\n      <td>河南郑州</td>\n      <td>0371-81670751,0371-81678032</td>\n      <td>NaN</td>\n      <td>NaN</td>\n    </tr>\n    <tr>\n      <th>16242</th>\n      <td>2021016302</td>\n      <td>D213114</td>\n      <td>解放军总医院</td>\n      <td>助理员</td>\n      <td>助理员（科级副职以下）</td>\n      <td>财务管理</td>\n      <td>1</td>\n      <td>1:3</td>\n      <td>高校毕业生或社会人才</td>\n      <td>全日制研究生（硕士以上）</td>\n      <td>...</td>\n      <td>会计学</td>\n      <td>无要求</td>\n      <td>无要求</td>\n      <td>会计专业技术初级资格</td>\n      <td>会计专业技术初级资格</td>\n      <td>“985工程”或“211工程”院校毕业生</td>\n      <td>北京</td>\n      <td>010-66875193</td>\n      <td>NaN</td>\n      <td>NaN</td>\n    </tr>\n    <tr>\n      <th>17668</th>\n      <td>2021017740</td>\n      <td>D213131</td>\n      <td>国防科技大学</td>\n      <td>参谋</td>\n      <td>参谋（科级副职以下）</td>\n      <td>装备财务</td>\n      <td>1</td>\n      <td>1:5</td>\n      <td>高校毕业生或社会人才</td>\n      <td>全日制研究生（硕士）</td>\n      <td>...</td>\n      <td>管理学</td>\n      <td>无要求</td>\n      <td>无要求</td>\n      <td>无要求</td>\n      <td>无要求</td>\n      <td>男性，国内“双一流”建设高校或海外知名高校毕业，且第一学历为全日制本科</td>\n      <td>安徽合肥</td>\n      <td>0551-65926522,18951021681</td>\n      <td>NaN</td>\n      <td>NaN</td>\n    </tr>\n  </tbody>\n</table>\n<p>3 rows × 22 columns</p>\n</div>"
     },
     "metadata": {},
     "execution_count": 55
    }
   ],
   "source": [
    "mil.loc[(1969, 16242, 17668),:]"
   ]
  },
  {
   "cell_type": "code",
   "execution_count": 48,
   "metadata": {},
   "outputs": [
    {
     "output_type": "execute_result",
     "data": {
      "text/plain": [
       "      用人单位\\n名    称       岗位\\n名称                 从事工作  招考数量 入围比例      来源\\n类别  \\\n",
       "0       中央军委办公厅某单位  助理员（科级副职以下）                 财务管理     1  1:5  高校毕业生或社会人才   \n",
       "1       中央军委办公厅某单位        助理工程师  计算机网络、设备、器材维护与管理等工作     1  1:5  高校毕业生或社会人才   \n",
       "2       中央军委办公厅某单位        助理工程师                 合同管理     1  1:5  高校毕业生或社会人才   \n",
       "3       中央军委办公厅某单位        助理工程师             国防科技项目管理     1  1:5  高校毕业生或社会人才   \n",
       "4       中央军委办公厅某单位        助理工程师             网络安全和信息化     1  1:5  高校毕业生或社会人才   \n",
       "...            ...          ...                  ...   ...  ...         ...   \n",
       "22260      武警部队某单位        助理工程师             营区环境艺术设计     1  1:5  高校毕业生或社会人才   \n",
       "22261      武警部队某单位        助理工程师              服装与服饰设计     1  1:5        社会人才   \n",
       "22262      武警部队某单位           翻译                 英语翻译     2   不限  高校毕业生或社会人才   \n",
       "22263      武警部队某单位        助理会计师               会计相关工作     1  1:5       高校毕业生   \n",
       "22264      武警部队某单位        助理会计师            经费预算和财务审计     1  1:5       高校毕业生   \n",
       "\n",
       "                                          所学专业 考试专业科    目 高校\\n毕业生 社会\\n人才  \\\n",
       "0                研究生：经济学，会计（专业学位）\\n本科：经济学，财务管理        会计学     无要求    无要求   \n",
       "1                        研究生：计算机科学与技术\\n本科：计算机类        数学1     无要求    无要求   \n",
       "2                        研究生：计算机科学与技术\\n本科：计算机类        数学1     无要求    无要求   \n",
       "3                     研究生：计算机应用技术\\n本科：计算机科学与技术        数学1     无要求    无要求   \n",
       "4      研究生：计算机科学与技术，网络空间安全\\n本科：计算机科学与技术，网络空间安全        数学1     无要求    无要求   \n",
       "...                                        ...        ...     ...    ...   \n",
       "22260                               艺术设计（专业学位）       艺术设计     无要求    无要求   \n",
       "22261                                      美术学         美术      ——    无要求   \n",
       "22262                       英语语言文学，外国语言学及应用语言学        免笔试     无要求    无要求   \n",
       "22263                                 会计（专业学位）        会计学     无要求     ——   \n",
       "22264                                 会计（专业学位）        会计学     无要求     ——   \n",
       "\n",
       "      高校\\n毕业生.1 社会\\n人才.1                                               其他条件  \\\n",
       "0           无要求      无要求                       男性，有良好计算机办公软件操作使用能力和较好文字写作基础   \n",
       "1           无要求      无要求  男性，熟练掌握计算机网络规划设计、网络路由交换设备配置，熟悉计算机网络系统、服务器、工作站等...   \n",
       "2           无要求      无要求                       男性，有良好计算机办公软件操作使用能力和较好文字写作基础   \n",
       "3           无要求      无要求                       男性，有良好计算机办公软件操作使用能力和较好文字写作基础   \n",
       "4           无要求      无要求                                         男性，实践动手能力强   \n",
       "...         ...      ...                                                ...   \n",
       "22260       无要求      无要求                                         女性，限现役军人配偶   \n",
       "22261        ——      无要求                                         女性，限现役军人配偶   \n",
       "22262       无要求      无要求                            男性，“985工程”或“211工程”院校毕业生   \n",
       "22263       无要求       ——                                         女性，限现役军人配偶   \n",
       "22264       无要求       ——                            男性，“985工程”或“211工程”院校毕业生   \n",
       "\n",
       "      工作\\n地点          咨询电话  \n",
       "0         北京  010-66760209  \n",
       "1         北京  010-66760209  \n",
       "2         北京  010-66760209  \n",
       "3         北京  010-66760209  \n",
       "4         北京  010-66760209  \n",
       "...      ...           ...  \n",
       "22260     北京  010-87949567  \n",
       "22261     北京  010-87949567  \n",
       "22262     北京  010-87949567  \n",
       "22263     北京  010-87949567  \n",
       "22264     北京  010-87949567  \n",
       "\n",
       "[22265 rows x 15 columns]"
      ],
      "text/html": "<div>\n<style scoped>\n    .dataframe tbody tr th:only-of-type {\n        vertical-align: middle;\n    }\n\n    .dataframe tbody tr th {\n        vertical-align: top;\n    }\n\n    .dataframe thead th {\n        text-align: right;\n    }\n</style>\n<table border=\"1\" class=\"dataframe\">\n  <thead>\n    <tr style=\"text-align: right;\">\n      <th></th>\n      <th>用人单位\\n名    称</th>\n      <th>岗位\\n名称</th>\n      <th>从事工作</th>\n      <th>招考数量</th>\n      <th>入围比例</th>\n      <th>来源\\n类别</th>\n      <th>所学专业</th>\n      <th>考试专业科    目</th>\n      <th>高校\\n毕业生</th>\n      <th>社会\\n人才</th>\n      <th>高校\\n毕业生.1</th>\n      <th>社会\\n人才.1</th>\n      <th>其他条件</th>\n      <th>工作\\n地点</th>\n      <th>咨询电话</th>\n    </tr>\n  </thead>\n  <tbody>\n    <tr>\n      <th>0</th>\n      <td>中央军委办公厅某单位</td>\n      <td>助理员（科级副职以下）</td>\n      <td>财务管理</td>\n      <td>1</td>\n      <td>1:5</td>\n      <td>高校毕业生或社会人才</td>\n      <td>研究生：经济学，会计（专业学位）\\n本科：经济学，财务管理</td>\n      <td>会计学</td>\n      <td>无要求</td>\n      <td>无要求</td>\n      <td>无要求</td>\n      <td>无要求</td>\n      <td>男性，有良好计算机办公软件操作使用能力和较好文字写作基础</td>\n      <td>北京</td>\n      <td>010-66760209</td>\n    </tr>\n    <tr>\n      <th>1</th>\n      <td>中央军委办公厅某单位</td>\n      <td>助理工程师</td>\n      <td>计算机网络、设备、器材维护与管理等工作</td>\n      <td>1</td>\n      <td>1:5</td>\n      <td>高校毕业生或社会人才</td>\n      <td>研究生：计算机科学与技术\\n本科：计算机类</td>\n      <td>数学1</td>\n      <td>无要求</td>\n      <td>无要求</td>\n      <td>无要求</td>\n      <td>无要求</td>\n      <td>男性，熟练掌握计算机网络规划设计、网络路由交换设备配置，熟悉计算机网络系统、服务器、工作站等...</td>\n      <td>北京</td>\n      <td>010-66760209</td>\n    </tr>\n    <tr>\n      <th>2</th>\n      <td>中央军委办公厅某单位</td>\n      <td>助理工程师</td>\n      <td>合同管理</td>\n      <td>1</td>\n      <td>1:5</td>\n      <td>高校毕业生或社会人才</td>\n      <td>研究生：计算机科学与技术\\n本科：计算机类</td>\n      <td>数学1</td>\n      <td>无要求</td>\n      <td>无要求</td>\n      <td>无要求</td>\n      <td>无要求</td>\n      <td>男性，有良好计算机办公软件操作使用能力和较好文字写作基础</td>\n      <td>北京</td>\n      <td>010-66760209</td>\n    </tr>\n    <tr>\n      <th>3</th>\n      <td>中央军委办公厅某单位</td>\n      <td>助理工程师</td>\n      <td>国防科技项目管理</td>\n      <td>1</td>\n      <td>1:5</td>\n      <td>高校毕业生或社会人才</td>\n      <td>研究生：计算机应用技术\\n本科：计算机科学与技术</td>\n      <td>数学1</td>\n      <td>无要求</td>\n      <td>无要求</td>\n      <td>无要求</td>\n      <td>无要求</td>\n      <td>男性，有良好计算机办公软件操作使用能力和较好文字写作基础</td>\n      <td>北京</td>\n      <td>010-66760209</td>\n    </tr>\n    <tr>\n      <th>4</th>\n      <td>中央军委办公厅某单位</td>\n      <td>助理工程师</td>\n      <td>网络安全和信息化</td>\n      <td>1</td>\n      <td>1:5</td>\n      <td>高校毕业生或社会人才</td>\n      <td>研究生：计算机科学与技术，网络空间安全\\n本科：计算机科学与技术，网络空间安全</td>\n      <td>数学1</td>\n      <td>无要求</td>\n      <td>无要求</td>\n      <td>无要求</td>\n      <td>无要求</td>\n      <td>男性，实践动手能力强</td>\n      <td>北京</td>\n      <td>010-66760209</td>\n    </tr>\n    <tr>\n      <th>...</th>\n      <td>...</td>\n      <td>...</td>\n      <td>...</td>\n      <td>...</td>\n      <td>...</td>\n      <td>...</td>\n      <td>...</td>\n      <td>...</td>\n      <td>...</td>\n      <td>...</td>\n      <td>...</td>\n      <td>...</td>\n      <td>...</td>\n      <td>...</td>\n      <td>...</td>\n    </tr>\n    <tr>\n      <th>22260</th>\n      <td>武警部队某单位</td>\n      <td>助理工程师</td>\n      <td>营区环境艺术设计</td>\n      <td>1</td>\n      <td>1:5</td>\n      <td>高校毕业生或社会人才</td>\n      <td>艺术设计（专业学位）</td>\n      <td>艺术设计</td>\n      <td>无要求</td>\n      <td>无要求</td>\n      <td>无要求</td>\n      <td>无要求</td>\n      <td>女性，限现役军人配偶</td>\n      <td>北京</td>\n      <td>010-87949567</td>\n    </tr>\n    <tr>\n      <th>22261</th>\n      <td>武警部队某单位</td>\n      <td>助理工程师</td>\n      <td>服装与服饰设计</td>\n      <td>1</td>\n      <td>1:5</td>\n      <td>社会人才</td>\n      <td>美术学</td>\n      <td>美术</td>\n      <td>——</td>\n      <td>无要求</td>\n      <td>——</td>\n      <td>无要求</td>\n      <td>女性，限现役军人配偶</td>\n      <td>北京</td>\n      <td>010-87949567</td>\n    </tr>\n    <tr>\n      <th>22262</th>\n      <td>武警部队某单位</td>\n      <td>翻译</td>\n      <td>英语翻译</td>\n      <td>2</td>\n      <td>不限</td>\n      <td>高校毕业生或社会人才</td>\n      <td>英语语言文学，外国语言学及应用语言学</td>\n      <td>免笔试</td>\n      <td>无要求</td>\n      <td>无要求</td>\n      <td>无要求</td>\n      <td>无要求</td>\n      <td>男性，“985工程”或“211工程”院校毕业生</td>\n      <td>北京</td>\n      <td>010-87949567</td>\n    </tr>\n    <tr>\n      <th>22263</th>\n      <td>武警部队某单位</td>\n      <td>助理会计师</td>\n      <td>会计相关工作</td>\n      <td>1</td>\n      <td>1:5</td>\n      <td>高校毕业生</td>\n      <td>会计（专业学位）</td>\n      <td>会计学</td>\n      <td>无要求</td>\n      <td>——</td>\n      <td>无要求</td>\n      <td>——</td>\n      <td>女性，限现役军人配偶</td>\n      <td>北京</td>\n      <td>010-87949567</td>\n    </tr>\n    <tr>\n      <th>22264</th>\n      <td>武警部队某单位</td>\n      <td>助理会计师</td>\n      <td>经费预算和财务审计</td>\n      <td>1</td>\n      <td>1:5</td>\n      <td>高校毕业生</td>\n      <td>会计（专业学位）</td>\n      <td>会计学</td>\n      <td>无要求</td>\n      <td>——</td>\n      <td>无要求</td>\n      <td>——</td>\n      <td>男性，“985工程”或“211工程”院校毕业生</td>\n      <td>北京</td>\n      <td>010-87949567</td>\n    </tr>\n  </tbody>\n</table>\n<p>22265 rows × 15 columns</p>\n</div>"
     },
     "metadata": {},
     "execution_count": 48
    }
   ],
   "source": [
    "mil.drop(mil.columns[[0,1,3,9,10, 20, 21]], axis=1)"
   ]
  },
  {
   "cell_type": "code",
   "execution_count": 46,
   "metadata": {},
   "outputs": [
    {
     "output_type": "execute_result",
     "data": {
      "text/plain": [
       "Index(['用人单位\\n序    号', '用人单位\\n名    称', 'Unnamed: 20', 'Unnamed: 21'], dtype='object')"
      ]
     },
     "metadata": {},
     "execution_count": 46
    }
   ],
   "source": []
  },
  {
   "cell_type": "code",
   "execution_count": null,
   "metadata": {},
   "outputs": [],
   "source": []
  }
 ]
}