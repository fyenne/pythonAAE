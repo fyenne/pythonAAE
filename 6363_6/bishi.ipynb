{
 "metadata": {
  "language_info": {
   "codemirror_mode": {
    "name": "ipython",
    "version": 3
   },
   "file_extension": ".py",
   "mimetype": "text/x-python",
   "name": "python",
   "nbconvert_exporter": "python",
   "pygments_lexer": "ipython3",
   "version": "3.7.1-final"
  },
  "orig_nbformat": 2,
  "kernelspec": {
   "name": "python3",
   "display_name": "Python 3",
   "language": "python"
  }
 },
 "nbformat": 4,
 "nbformat_minor": 2,
 "cells": [
  {
   "cell_type": "code",
   "execution_count": null,
   "metadata": {},
   "outputs": [],
   "source": []
  },
  {
   "cell_type": "code",
   "execution_count": 23,
   "metadata": {},
   "outputs": [],
   "source": [
    "# class Solution(abject):\n",
    "arr = [5,4,3,2,1]        \n"
   ]
  },
  {
   "cell_type": "code",
   "execution_count": 24,
   "metadata": {},
   "outputs": [],
   "source": [
    "asort = sorted(arr)\n",
    "res = 0\n",
    "sum1 = 0\n",
    "sum2 = 0\n"
   ]
  },
  {
   "cell_type": "code",
   "execution_count": 31,
   "metadata": {},
   "outputs": [
    {
     "output_type": "execute_result",
     "data": {
      "text/plain": [
       "[5, 4, 3, 2, 1]"
      ]
     },
     "metadata": {},
     "execution_count": 31
    }
   ],
   "source": [
    "arr"
   ]
  },
  {
   "cell_type": "code",
   "execution_count": 32,
   "metadata": {},
   "outputs": [
    {
     "output_type": "stream",
     "name": "stdout",
     "text": [
      "0 5\n",
      "1 4\n",
      "2 3\n",
      "3 2\n",
      "4 1\n"
     ]
    }
   ],
   "source": [
    "for i, a in enumerate(arr):\n",
    "    print(i, a)"
   ]
  },
  {
   "cell_type": "code",
   "execution_count": 38,
   "metadata": {},
   "outputs": [],
   "source": [
    "sum1 = 0\n",
    "sum2 = 0"
   ]
  },
  {
   "cell_type": "code",
   "execution_count": 39,
   "metadata": {},
   "outputs": [
    {
     "output_type": "stream",
     "name": "stdout",
     "text": [
      "0 0 0 5\n",
      "5 1\n",
      "5 1 1 4\n",
      "9 3\n",
      "9 3 2 3\n",
      "12 6\n",
      "12 6 3 2\n",
      "14 10\n",
      "14 10 4 1\n",
      "15 15\n"
     ]
    }
   ],
   "source": [
    "# asort\n",
    "for i, a in enumerate(arr):\n",
    "    print(sum1, sum2, i , a)\n",
    "    sum1 += a\n",
    "    sum2 += asort[i]\n",
    "    print(sum1, sum2)"
   ]
  },
  {
   "cell_type": "code",
   "execution_count": 14,
   "metadata": {},
   "outputs": [
    {
     "output_type": "stream",
     "name": "stdout",
     "text": [
      "2\n"
     ]
    }
   ],
   "source": [
    "for i, a in enumerate(arr):\n",
    "    sum1 += a\n",
    "    sum2 += asort[i]\n",
    "    if sum1 == sum2:\n",
    "        res += 1\n",
    "        sum1 = 0\n",
    "        sum2 = 0\n",
    "        print(res)"
   ]
  },
  {
   "cell_type": "code",
   "execution_count": 20,
   "metadata": {},
   "outputs": [],
   "source": [
    "# import sys\n",
    "# print(sys.path)"
   ]
  },
  {
   "cell_type": "code",
   "execution_count": 21,
   "metadata": {},
   "outputs": [],
   "source": [
    "# sys.path.append('d:\\miniconda_dependent\\miniconda\\envs\\siming\\lib\\site-packages')"
   ]
  },
  {
   "cell_type": "code",
   "execution_count": 16,
   "metadata": {},
   "outputs": [],
   "source": [
    " "
   ]
  },
  {
   "cell_type": "code",
   "execution_count": 27,
   "metadata": {},
   "outputs": [],
   "source": [
    "a = 6\n",
    "b = 0"
   ]
  },
  {
   "cell_type": "code",
   "execution_count": 30,
   "metadata": {},
   "outputs": [
    {
     "output_type": "stream",
     "name": "stdout",
     "text": [
      "1\n"
     ]
    }
   ],
   "source": [
    "import numpy as np\n",
    "for i in np.arange(1,20):\n",
    "    for j in np.arange(1,20):\n",
    "        for k in np.arange(1,20):\n",
    "            if i^2 + j^2 + k^2 == a:\n",
    "                b += 1\n",
    "                break\n",
    "            else:\n",
    "                b += 0\n",
    "\n",
    "if b != 0:\n",
    "    print(1)\n",
    "else:\n",
    "    pritn(0)"
   ]
  },
  {
   "cell_type": "code",
   "execution_count": 29,
   "metadata": {},
   "outputs": [
    {
     "output_type": "execute_result",
     "data": {
      "text/plain": [
       "227"
      ]
     },
     "metadata": {},
     "execution_count": 29
    }
   ],
   "source": []
  },
  {
   "cell_type": "code",
   "execution_count": 121,
   "metadata": {},
   "outputs": [],
   "source": [
    "line = [1, 2, 3, 1, 4, 6]"
   ]
  },
  {
   "cell_type": "code",
   "execution_count": 122,
   "metadata": {},
   "outputs": [],
   "source": [
    "# import numpy as np\n",
    "# import pandas as pd\n",
    "m = np.arange(1, len(line)+1)\n",
    "df = line\n",
    "# df = pd.DataFrame({'col1' : line,'col2' :  m})"
   ]
  },
  {
   "cell_type": "code",
   "execution_count": 123,
   "metadata": {},
   "outputs": [
    {
     "output_type": "stream",
     "name": "stdout",
     "text": [
      "4\n"
     ]
    }
   ],
   "source": [
    "h = 0\n",
    "for i in np.arange(1, len(line)-1):\n",
    "    if (df[i] >= df[i-1] + df[i+1]):\n",
    "        # print(df.iloc[i,1])\n",
    "        if df[i] >0:\n",
    "            t = i\n",
    "            # print(t)\n",
    "            while t - 2 >=0:\n",
    "                 h += df[t]\n",
    "                 t = t-2\n",
    "print(h+df[0])\n",
    "\n",
    " \n"
   ]
  },
  {
   "cell_type": "code",
   "execution_count": 120,
   "metadata": {},
   "outputs": [],
   "source": [
    " "
   ]
  },
  {
   "cell_type": "code",
   "execution_count": null,
   "metadata": {},
   "outputs": [],
   "source": []
  }
 ]
}