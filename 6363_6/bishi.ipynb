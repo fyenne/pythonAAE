{
 "metadata": {
  "language_info": {
   "codemirror_mode": {
    "name": "ipython",
    "version": 3
   },
   "file_extension": ".py",
   "mimetype": "text/x-python",
   "name": "python",
   "nbconvert_exporter": "python",
   "pygments_lexer": "ipython3",
   "version": "3.8.8-final"
  },
  "orig_nbformat": 2,
  "kernelspec": {
   "name": "python3",
   "display_name": "Python 3",
   "language": "python"
  }
 },
 "nbformat": 4,
 "nbformat_minor": 2,
 "cells": [
  {
   "cell_type": "code",
   "execution_count": null,
   "metadata": {},
   "outputs": [],
   "source": []
  },
  {
   "cell_type": "code",
   "execution_count": 17,
   "metadata": {},
   "outputs": [],
   "source": [
    "# class Solution(abject):\n",
    "arr = [5,4,3,2,1]        \n"
   ]
  },
  {
   "cell_type": "code",
   "execution_count": 18,
   "metadata": {},
   "outputs": [],
   "source": [
    "asort = sorted(arr)\n",
    "res = 0\n",
    "sum1 = 0\n",
    "sum2 = 0\n"
   ]
  },
  {
   "cell_type": "code",
   "execution_count": 19,
   "metadata": {},
   "outputs": [
    {
     "output_type": "execute_result",
     "data": {
      "text/plain": [
       "[5, 4, 3, 2, 1]"
      ]
     },
     "metadata": {},
     "execution_count": 19
    }
   ],
   "source": [
    "arr"
   ]
  },
  {
   "cell_type": "code",
   "execution_count": 20,
   "metadata": {},
   "outputs": [
    {
     "output_type": "stream",
     "name": "stdout",
     "text": [
      "0 5\n1 4\n2 3\n3 2\n4 1\n"
     ]
    }
   ],
   "source": [
    "for i, a in enumerate(arr):\n",
    "    print(i, a)"
   ]
  },
  {
   "cell_type": "code",
   "execution_count": 21,
   "metadata": {},
   "outputs": [],
   "source": [
    "sum1 = 0\n",
    "sum2 = 0"
   ]
  },
  {
   "cell_type": "code",
   "execution_count": 22,
   "metadata": {},
   "outputs": [
    {
     "output_type": "stream",
     "name": "stdout",
     "text": [
      "0 0 0 5\n5 1\n5 1 1 4\n9 3\n9 3 2 3\n12 6\n12 6 3 2\n14 10\n14 10 4 1\n15 15\n"
     ]
    }
   ],
   "source": [
    "# asort\n",
    "for i, a in enumerate(arr):\n",
    "    print(sum1, sum2, i , a)\n",
    "    sum1 += a\n",
    "    sum2 += asort[i]\n",
    "    print(sum1, sum2)"
   ]
  },
  {
   "cell_type": "code",
   "execution_count": 23,
   "metadata": {},
   "outputs": [
    {
     "output_type": "stream",
     "name": "stdout",
     "text": [
      "1\n"
     ]
    }
   ],
   "source": [
    "for i, a in enumerate(arr):\n",
    "    sum1 += a\n",
    "    sum2 += asort[i]\n",
    "    if sum1 == sum2:\n",
    "        res += 1\n",
    "        sum1 = 0\n",
    "        sum2 = 0\n",
    "        print(res)"
   ]
  },
  {
   "cell_type": "code",
   "execution_count": 24,
   "metadata": {},
   "outputs": [],
   "source": [
    "# import sys\n",
    "# print(sys.path)"
   ]
  },
  {
   "cell_type": "code",
   "execution_count": 25,
   "metadata": {},
   "outputs": [],
   "source": [
    "# sys.path.append('d:\\miniconda_dependent\\miniconda\\envs\\siming\\lib\\site-packages')"
   ]
  },
  {
   "cell_type": "code",
   "execution_count": 25,
   "metadata": {},
   "outputs": [],
   "source": [
    " "
   ]
  },
  {
   "cell_type": "code",
   "execution_count": 26,
   "metadata": {},
   "outputs": [],
   "source": [
    "a = 6\n",
    "b = 0"
   ]
  },
  {
   "cell_type": "code",
   "execution_count": 27,
   "metadata": {},
   "outputs": [
    {
     "output_type": "stream",
     "name": "stdout",
     "text": [
      "1\n"
     ]
    }
   ],
   "source": [
    "import numpy as np\n",
    "for i in np.arange(1,20):\n",
    "    for j in np.arange(1,20):\n",
    "        for k in np.arange(1,20):\n",
    "            if i^2 + j^2 + k^2 == a:\n",
    "                b += 1\n",
    "                break\n",
    "            else:\n",
    "                b += 0\n",
    "\n",
    "if b != 0:\n",
    "    print(1)\n",
    "else:\n",
    "    pritn(0)"
   ]
  },
  {
   "cell_type": "code",
   "execution_count": 29,
   "metadata": {},
   "outputs": [
    {
     "output_type": "execute_result",
     "data": {
      "text/plain": [
       "227"
      ]
     },
     "metadata": {},
     "execution_count": 29
    }
   ],
   "source": []
  },
  {
   "cell_type": "code",
   "execution_count": 28,
   "metadata": {},
   "outputs": [],
   "source": [
    "line = [1, 2, 3, 1, 4, 6]"
   ]
  },
  {
   "cell_type": "code",
   "execution_count": 29,
   "metadata": {},
   "outputs": [],
   "source": [
    "# import numpy as np\n",
    "# import pandas as pd\n",
    "m = np.arange(1, len(line)+1)\n",
    "df = line\n",
    "# df = pd.DataFrame({'col1' : line,'col2' :  m})"
   ]
  },
  {
   "cell_type": "code",
   "execution_count": 30,
   "metadata": {},
   "outputs": [
    {
     "output_type": "stream",
     "name": "stdout",
     "text": [
      "4\n"
     ]
    }
   ],
   "source": [
    "h = 0\n",
    "for i in np.arange(1, len(line)-1):\n",
    "    if (df[i] >= df[i-1] + df[i+1]):\n",
    "        # print(df.iloc[i,1])\n",
    "        if df[i] >0:\n",
    "            t = i\n",
    "            # print(t)\n",
    "            while t - 2 >=0:\n",
    "                 h += df[t]\n",
    "                 t = t-2\n",
    "print(h+df[0])\n",
    "\n",
    " \n"
   ]
  },
  {
   "cell_type": "code",
   "execution_count": 30,
   "metadata": {},
   "outputs": [],
   "source": [
    " "
   ]
  },
  {
   "cell_type": "code",
   "execution_count": 31,
   "metadata": {},
   "outputs": [
    {
     "output_type": "error",
     "ename": "ModuleNotFoundError",
     "evalue": "No module named 'pandas'",
     "traceback": [
      "\u001b[1;31m---------------------------------------------------------------------------\u001b[0m",
      "\u001b[1;31mModuleNotFoundError\u001b[0m                       Traceback (most recent call last)",
      "\u001b[1;32m<ipython-input-31-7dd3504c366f>\u001b[0m in \u001b[0;36m<module>\u001b[1;34m\u001b[0m\n\u001b[1;32m----> 1\u001b[1;33m \u001b[1;32mimport\u001b[0m \u001b[0mpandas\u001b[0m \u001b[1;32mas\u001b[0m \u001b[0mpd\u001b[0m\u001b[1;33m\u001b[0m\u001b[1;33m\u001b[0m\u001b[0m\n\u001b[0m",
      "\u001b[1;31mModuleNotFoundError\u001b[0m: No module named 'pandas'"
     ]
    }
   ],
   "source": [
    "import pandas as pd"
   ]
  },
  {
   "cell_type": "code",
   "execution_count": 32,
   "metadata": {},
   "outputs": [
    {
     "output_type": "stream",
     "name": "stdout",
     "text": [
      "Looking in indexes: https://mirrors.ustc.edu.cn/pypi/web/simple\nCollecting pandas\n  Downloading https://mirrors.bfsu.edu.cn/pypi/web/packages/90/58/4535d4f9cb8bdd8c7a6fea4a1cb09380caadf7b477b059b7cbeb162378f2/pandas-1.2.3-cp38-cp38-win_amd64.whl (9.3 MB)\nRequirement already satisfied: numpy>=1.16.5 in d:\\miniconda_dependent\\miniconda\\envs\\siming\\lib\\site-packages (from pandas) (1.19.5)\nRequirement already satisfied: python-dateutil>=2.7.3 in d:\\miniconda_dependent\\miniconda\\envs\\siming\\lib\\site-packages (from pandas) (2.8.1)\nCollecting pytz>=2017.3\n  Downloading https://mirrors.bfsu.edu.cn/pypi/web/packages/70/94/784178ca5dd892a98f113cdd923372024dc04b8d40abe77ca76b5fb90ca6/pytz-2021.1-py2.py3-none-any.whl (510 kB)\nRequirement already satisfied: six>=1.5 in d:\\miniconda_dependent\\miniconda\\envs\\siming\\lib\\site-packages (from python-dateutil>=2.7.3->pandas) (1.15.0)\nInstalling collected packages: pytz, pandas\nSuccessfully installed pandas-1.2.3 pytz-2021.1\n"
     ]
    }
   ],
   "source": [
    "# !pip install ="
   ]
  },
  {
   "cell_type": "code",
   "execution_count": 34,
   "metadata": {},
   "outputs": [],
   "source": [
    "import pandas as pd"
   ]
  },
  {
   "cell_type": "code",
   "execution_count": null,
   "metadata": {},
   "outputs": [],
   "source": []
  }
 ]
}