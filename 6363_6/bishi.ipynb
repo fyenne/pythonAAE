{
 "metadata": {
  "language_info": {
   "codemirror_mode": {
    "name": "ipython",
    "version": 3
   },
   "file_extension": ".py",
   "mimetype": "text/x-python",
   "name": "python",
   "nbconvert_exporter": "python",
   "pygments_lexer": "ipython3",
   "version": "3.8.8-final"
  },
  "orig_nbformat": 2,
  "kernelspec": {
   "name": "python388jvsc74a57bd0c28cd10e5274be7696b07727116619a4bffa994b0fabbc00d11628a94e4dc7ef",
   "display_name": "Python 3.8.8 64-bit ('siming': conda)"
  }
 },
 "nbformat": 4,
 "nbformat_minor": 2,
 "cells": [
  {
   "cell_type": "code",
   "execution_count": 1,
   "metadata": {},
   "outputs": [
    {
     "output_type": "stream",
     "name": "stdout",
     "text": [
      "D:\\miniconda_dependent\\miniconda\\envs\\siming\\python.exe\nD:\\miniconda_dependent\\miniconda\\python.exe\nC:\\Users\\ThinkPad\\AppData\\Local\\Microsoft\\WindowsApps\\python.exe\n"
     ]
    }
   ],
   "source": [
    "!where python"
   ]
  },
  {
   "cell_type": "code",
   "execution_count": 2,
   "metadata": {},
   "outputs": [
    {
     "output_type": "stream",
     "name": "stdout",
     "text": [
      "D:\\miniconda_dependent\\miniconda\\envs\\siming\n"
     ]
    }
   ],
   "source": [
    "# cd D:\\miniconda_dependent\\miniconda\\envs\\siming\\\n",
    "    # pip list"
   ]
  },
  {
   "cell_type": "code",
   "execution_count": 1,
   "metadata": {},
   "outputs": [],
   "source": [
    "# class Solution(abject):\n",
    "arr = [5,4,3,2,1]        \n"
   ]
  },
  {
   "cell_type": "code",
   "execution_count": 2,
   "metadata": {},
   "outputs": [],
   "source": [
    "asort = sorted(arr)\n",
    "res = 0\n",
    "sum1 = 0\n",
    "sum2 = 0\n"
   ]
  },
  {
   "cell_type": "code",
   "execution_count": 3,
   "metadata": {},
   "outputs": [
    {
     "output_type": "execute_result",
     "data": {
      "text/plain": [
       "[5, 4, 3, 2, 1]"
      ]
     },
     "metadata": {},
     "execution_count": 3
    }
   ],
   "source": [
    "arr"
   ]
  },
  {
   "cell_type": "code",
   "execution_count": 20,
   "metadata": {},
   "outputs": [
    {
     "output_type": "stream",
     "name": "stdout",
     "text": [
      "0 5\n1 4\n2 3\n3 2\n4 1\n"
     ]
    }
   ],
   "source": [
    "for i, a in enumerate(arr):\n",
    "    print(i, a)"
   ]
  },
  {
   "cell_type": "code",
   "execution_count": 21,
   "metadata": {},
   "outputs": [],
   "source": [
    "sum1 = 0\n",
    "sum2 = 0"
   ]
  },
  {
   "cell_type": "code",
   "execution_count": 22,
   "metadata": {},
   "outputs": [
    {
     "output_type": "stream",
     "name": "stdout",
     "text": [
      "0 0 0 5\n5 1\n5 1 1 4\n9 3\n9 3 2 3\n12 6\n12 6 3 2\n14 10\n14 10 4 1\n15 15\n"
     ]
    }
   ],
   "source": [
    "# asort\n",
    "for i, a in enumerate(arr):\n",
    "    print(sum1, sum2, i , a)\n",
    "    sum1 += a\n",
    "    sum2 += asort[i]\n",
    "    print(sum1, sum2)"
   ]
  },
  {
   "cell_type": "code",
   "execution_count": 23,
   "metadata": {},
   "outputs": [
    {
     "output_type": "stream",
     "name": "stdout",
     "text": [
      "1\n"
     ]
    }
   ],
   "source": [
    "for i, a in enumerate(arr):\n",
    "    sum1 += a\n",
    "    sum2 += asort[i]\n",
    "    if sum1 == sum2:\n",
    "        res += 1\n",
    "        sum1 = 0\n",
    "        sum2 = 0\n",
    "        print(res)"
   ]
  },
  {
   "cell_type": "code",
   "execution_count": 24,
   "metadata": {},
   "outputs": [],
   "source": [
    "# import sys\n",
    "# print(sys.path)"
   ]
  },
  {
   "cell_type": "code",
   "execution_count": 25,
   "metadata": {},
   "outputs": [],
   "source": [
    "# sys.path.append('d:\\miniconda_dependent\\miniconda\\envs\\siming\\lib\\site-packages')"
   ]
  },
  {
   "cell_type": "code",
   "execution_count": 25,
   "metadata": {},
   "outputs": [],
   "source": [
    " "
   ]
  },
  {
   "cell_type": "code",
   "execution_count": 26,
   "metadata": {},
   "outputs": [],
   "source": [
    "a = 6\n",
    "b = 0"
   ]
  },
  {
   "cell_type": "code",
   "execution_count": 27,
   "metadata": {},
   "outputs": [
    {
     "output_type": "stream",
     "name": "stdout",
     "text": [
      "1\n"
     ]
    }
   ],
   "source": [
    "import numpy as np\n",
    "for i in np.arange(1,20):\n",
    "    for j in np.arange(1,20):\n",
    "        for k in np.arange(1,20):\n",
    "            if i^2 + j^2 + k^2 == a:\n",
    "                b += 1\n",
    "                break\n",
    "            else:\n",
    "                b += 0\n",
    "\n",
    "if b != 0:\n",
    "    print(1)\n",
    "else:\n",
    "    pritn(0)"
   ]
  },
  {
   "cell_type": "code",
   "execution_count": 29,
   "metadata": {},
   "outputs": [
    {
     "output_type": "execute_result",
     "data": {
      "text/plain": [
       "227"
      ]
     },
     "metadata": {},
     "execution_count": 29
    }
   ],
   "source": []
  },
  {
   "cell_type": "code",
   "execution_count": 28,
   "metadata": {},
   "outputs": [],
   "source": [
    "line = [1, 2, 3, 1, 4, 6]"
   ]
  },
  {
   "cell_type": "code",
   "execution_count": 29,
   "metadata": {},
   "outputs": [],
   "source": [
    "# import numpy as np\n",
    "# import pandas as pd\n",
    "m = np.arange(1, len(line)+1)\n",
    "df = line\n",
    "# df = pd.DataFrame({'col1' : line,'col2' :  m})"
   ]
  },
  {
   "cell_type": "code",
   "execution_count": 30,
   "metadata": {},
   "outputs": [
    {
     "output_type": "stream",
     "name": "stdout",
     "text": [
      "4\n"
     ]
    }
   ],
   "source": [
    "h = 0\n",
    "for i in np.arange(1, len(line)-1):\n",
    "    if (df[i] >= df[i-1] + df[i+1]):\n",
    "        # print(df.iloc[i,1])\n",
    "        if df[i] >0:\n",
    "            t = i\n",
    "            # print(t)\n",
    "            while t - 2 >=0:\n",
    "                 h += df[t]\n",
    "                 t = t-2\n",
    "print(h+df[0])\n",
    "\n",
    " \n"
   ]
  },
  {
   "cell_type": "code",
   "execution_count": 9,
   "metadata": {},
   "outputs": [],
   "source": [
    "#  mil.head()"
   ]
  },
  {
   "cell_type": "code",
   "execution_count": 1,
   "metadata": {},
   "outputs": [],
   "source": [
    "import pandas as pd\n",
    "# import qgrid"
   ]
  },
  {
   "cell_type": "code",
   "execution_count": 2,
   "metadata": {},
   "outputs": [],
   "source": [
    "mil = pd.read_excel(\"D://myboooks_from_mac/abvc/jundui1.xlsx\")"
   ]
  },
  {
   "cell_type": "code",
   "execution_count": 3,
   "metadata": {},
   "outputs": [
    {
     "output_type": "execute_result",
     "data": {
      "text/plain": [
       "Index(['岗位代码', '用人单位\\n序    号', '用人单位\\n名    称', '岗位类别', '岗位\\n名称', '从事工作',\n",
       "       '招考数量', '入围比例', '来源\\n类别', '学历', '学位', '所学专业', '考试专业科    目', '高校\\n毕业生',\n",
       "       '社会\\n人才', '高校\\n毕业生.1', '社会\\n人才.1', '其他条件', '工作\\n地点', '咨询电话',\n",
       "       'Unnamed: 20', 'Unnamed: 21'],\n",
       "      dtype='object')"
      ]
     },
     "metadata": {},
     "execution_count": 3
    }
   ],
   "source": [
    "mil.head();\n",
    "mil.columns"
   ]
  },
  {
   "cell_type": "code",
   "execution_count": 4,
   "metadata": {},
   "outputs": [
    {
     "output_type": "execute_result",
     "data": {
      "text/plain": [
       "0                       财务管理\n",
       "1        计算机网络、设备、器材维护与管理等工作\n",
       "2                       合同管理\n",
       "3                   国防科技项目管理\n",
       "4                   网络安全和信息化\n",
       "                ...         \n",
       "22260               营区环境艺术设计\n",
       "22261                服装与服饰设计\n",
       "22262                   英语翻译\n",
       "22263                 会计相关工作\n",
       "22264              经费预算和财务审计\n",
       "Name: 从事工作, Length: 22265, dtype: object"
      ]
     },
     "metadata": {},
     "execution_count": 4
    }
   ],
   "source": [
    "b = pd.Series(mil.从事工作);b"
   ]
  },
  {
   "cell_type": "code",
   "execution_count": 5,
   "metadata": {},
   "outputs": [],
   "source": [
    "caiwu = b.str.extract(r\"(财务)\").dropna()"
   ]
  },
  {
   "cell_type": "code",
   "execution_count": 31,
   "metadata": {},
   "outputs": [],
   "source": [
    "# mil.loc[caiwu.index]\n",
    "# caiwu"
   ]
  },
  {
   "cell_type": "code",
   "execution_count": 6,
   "metadata": {},
   "outputs": [],
   "source": [
    "jj = mil.loc[:,\"所学专业\"]"
   ]
  },
  {
   "cell_type": "code",
   "execution_count": 53,
   "metadata": {},
   "outputs": [
    {
     "output_type": "stream",
     "name": "stderr",
     "text": [
      "D:\\miniconda_dependent\\miniconda\\envs\\siming\\lib\\site-packages\\pandas\\core\\strings\\accessor.py:101: UserWarning: This pattern has match groups. To actually get the groups, use str.extract.\n  return func(self, *args, **kwargs)\n"
     ]
    },
    {
     "output_type": "execute_result",
     "data": {
      "text/plain": [
       "0                  研究生：经济学，会计（专业学位）\\n本科：经济学，财务管理\n",
       "1                          研究生：计算机科学与技术\\n本科：计算机类\n",
       "2                          研究生：计算机科学与技术\\n本科：计算机类\n",
       "3                       研究生：计算机应用技术\\n本科：计算机科学与技术\n",
       "4        研究生：计算机科学与技术，网络空间安全\\n本科：计算机科学与技术，网络空间安全\n",
       "                          ...                   \n",
       "22163                           研究生：管理学\\n本科：财务管理\n",
       "22164                    研究生：电子科学与技术\\n本科：电子科学与技术\n",
       "22165                              研究生：法学\\n本科：法学\n",
       "22166                       研究生：管理科学与工程\\n本科：管理科学\n",
       "22167                         研究生：管理学\\n本科：人力资源管理\n",
       "Name: 所学专业, Length: 10586, dtype: object"
      ]
     },
     "metadata": {},
     "execution_count": 53
    }
   ],
   "source": [
    "jj[jj.str.contains(r'(研究生)') == True]\n"
   ]
  },
  {
   "source": [
    "1+1"
   ],
   "cell_type": "code",
   "metadata": {},
   "execution_count": null,
   "outputs": []
  },
  {
   "cell_type": "code",
   "execution_count": 54,
   "metadata": {},
   "outputs": [
    {
     "output_type": "execute_result",
     "data": {
      "text/plain": [
       "1969     经济学，工学\n",
       "16242       经济学\n",
       "17668       经济学\n",
       "Name: 所学专业, dtype: object"
      ]
     },
     "metadata": {},
     "execution_count": 54
    }
   ],
   "source": [
    "jj[jj.str.match(r'(经济学)')==True]"
   ]
  },
  {
   "cell_type": "code",
   "execution_count": 55,
   "metadata": {},
   "outputs": [
    {
     "output_type": "execute_result",
     "data": {
      "text/plain": [
       "             岗位代码 用人单位\\n序    号      用人单位\\n名    称 岗位类别       岗位\\n名称  从事工作  \\\n",
       "1969   2021002006      D211196  河南省军区郑州第三离职干部休养所  助理员  助理员（科级副职以下）  行政管理   \n",
       "16242  2021016302      D213114            解放军总医院  助理员  助理员（科级副职以下）  财务管理   \n",
       "17668  2021017740      D213131            国防科技大学   参谋   参谋（科级副职以下）  装备财务   \n",
       "\n",
       "       招考数量 入围比例      来源\\n类别            学历  ... 考试专业科    目 高校\\n毕业生 社会\\n人才  \\\n",
       "1969      1  1:3        社会人才    全日制研究生（硕士）  ...        管理学      ——    无要求   \n",
       "16242     1  1:3  高校毕业生或社会人才  全日制研究生（硕士以上）  ...        会计学     无要求    无要求   \n",
       "17668     1  1:5  高校毕业生或社会人才    全日制研究生（硕士）  ...        管理学     无要求    无要求   \n",
       "\n",
       "        高校\\n毕业生.1    社会\\n人才.1                                 其他条件 工作\\n地点  \\\n",
       "1969           ——         无要求         中共党员，国内“双一流”建设高校，有1年以上财务工作经历   河南郑州   \n",
       "16242  会计专业技术初级资格  会计专业技术初级资格                 “985工程”或“211工程”院校毕业生     北京   \n",
       "17668         无要求         无要求  男性，国内“双一流”建设高校或海外知名高校毕业，且第一学历为全日制本科   安徽合肥   \n",
       "\n",
       "                              咨询电话 Unnamed: 20 Unnamed: 21  \n",
       "1969   0371-81670751,0371-81678032         NaN         NaN  \n",
       "16242                 010-66875193         NaN         NaN  \n",
       "17668    0551-65926522,18951021681         NaN         NaN  \n",
       "\n",
       "[3 rows x 22 columns]"
      ],
      "text/html": "<div>\n<style scoped>\n    .dataframe tbody tr th:only-of-type {\n        vertical-align: middle;\n    }\n\n    .dataframe tbody tr th {\n        vertical-align: top;\n    }\n\n    .dataframe thead th {\n        text-align: right;\n    }\n</style>\n<table border=\"1\" class=\"dataframe\">\n  <thead>\n    <tr style=\"text-align: right;\">\n      <th></th>\n      <th>岗位代码</th>\n      <th>用人单位\\n序    号</th>\n      <th>用人单位\\n名    称</th>\n      <th>岗位类别</th>\n      <th>岗位\\n名称</th>\n      <th>从事工作</th>\n      <th>招考数量</th>\n      <th>入围比例</th>\n      <th>来源\\n类别</th>\n      <th>学历</th>\n      <th>...</th>\n      <th>考试专业科    目</th>\n      <th>高校\\n毕业生</th>\n      <th>社会\\n人才</th>\n      <th>高校\\n毕业生.1</th>\n      <th>社会\\n人才.1</th>\n      <th>其他条件</th>\n      <th>工作\\n地点</th>\n      <th>咨询电话</th>\n      <th>Unnamed: 20</th>\n      <th>Unnamed: 21</th>\n    </tr>\n  </thead>\n  <tbody>\n    <tr>\n      <th>1969</th>\n      <td>2021002006</td>\n      <td>D211196</td>\n      <td>河南省军区郑州第三离职干部休养所</td>\n      <td>助理员</td>\n      <td>助理员（科级副职以下）</td>\n      <td>行政管理</td>\n      <td>1</td>\n      <td>1:3</td>\n      <td>社会人才</td>\n      <td>全日制研究生（硕士）</td>\n      <td>...</td>\n      <td>管理学</td>\n      <td>——</td>\n      <td>无要求</td>\n      <td>——</td>\n      <td>无要求</td>\n      <td>中共党员，国内“双一流”建设高校，有1年以上财务工作经历</td>\n      <td>河南郑州</td>\n      <td>0371-81670751,0371-81678032</td>\n      <td>NaN</td>\n      <td>NaN</td>\n    </tr>\n    <tr>\n      <th>16242</th>\n      <td>2021016302</td>\n      <td>D213114</td>\n      <td>解放军总医院</td>\n      <td>助理员</td>\n      <td>助理员（科级副职以下）</td>\n      <td>财务管理</td>\n      <td>1</td>\n      <td>1:3</td>\n      <td>高校毕业生或社会人才</td>\n      <td>全日制研究生（硕士以上）</td>\n      <td>...</td>\n      <td>会计学</td>\n      <td>无要求</td>\n      <td>无要求</td>\n      <td>会计专业技术初级资格</td>\n      <td>会计专业技术初级资格</td>\n      <td>“985工程”或“211工程”院校毕业生</td>\n      <td>北京</td>\n      <td>010-66875193</td>\n      <td>NaN</td>\n      <td>NaN</td>\n    </tr>\n    <tr>\n      <th>17668</th>\n      <td>2021017740</td>\n      <td>D213131</td>\n      <td>国防科技大学</td>\n      <td>参谋</td>\n      <td>参谋（科级副职以下）</td>\n      <td>装备财务</td>\n      <td>1</td>\n      <td>1:5</td>\n      <td>高校毕业生或社会人才</td>\n      <td>全日制研究生（硕士）</td>\n      <td>...</td>\n      <td>管理学</td>\n      <td>无要求</td>\n      <td>无要求</td>\n      <td>无要求</td>\n      <td>无要求</td>\n      <td>男性，国内“双一流”建设高校或海外知名高校毕业，且第一学历为全日制本科</td>\n      <td>安徽合肥</td>\n      <td>0551-65926522,18951021681</td>\n      <td>NaN</td>\n      <td>NaN</td>\n    </tr>\n  </tbody>\n</table>\n<p>3 rows × 22 columns</p>\n</div>"
     },
     "metadata": {},
     "execution_count": 55
    }
   ],
   "source": [
    "mil.loc[(1969, 16242, 17668),:]"
   ]
  },
  {
   "cell_type": "code",
   "execution_count": 48,
   "metadata": {},
   "outputs": [
    {
     "output_type": "execute_result",
     "data": {
      "text/plain": [
       "      用人单位\\n名    称       岗位\\n名称                 从事工作  招考数量 入围比例      来源\\n类别  \\\n",
       "0       中央军委办公厅某单位  助理员（科级副职以下）                 财务管理     1  1:5  高校毕业生或社会人才   \n",
       "1       中央军委办公厅某单位        助理工程师  计算机网络、设备、器材维护与管理等工作     1  1:5  高校毕业生或社会人才   \n",
       "2       中央军委办公厅某单位        助理工程师                 合同管理     1  1:5  高校毕业生或社会人才   \n",
       "3       中央军委办公厅某单位        助理工程师             国防科技项目管理     1  1:5  高校毕业生或社会人才   \n",
       "4       中央军委办公厅某单位        助理工程师             网络安全和信息化     1  1:5  高校毕业生或社会人才   \n",
       "...            ...          ...                  ...   ...  ...         ...   \n",
       "22260      武警部队某单位        助理工程师             营区环境艺术设计     1  1:5  高校毕业生或社会人才   \n",
       "22261      武警部队某单位        助理工程师              服装与服饰设计     1  1:5        社会人才   \n",
       "22262      武警部队某单位           翻译                 英语翻译     2   不限  高校毕业生或社会人才   \n",
       "22263      武警部队某单位        助理会计师               会计相关工作     1  1:5       高校毕业生   \n",
       "22264      武警部队某单位        助理会计师            经费预算和财务审计     1  1:5       高校毕业生   \n",
       "\n",
       "                                          所学专业 考试专业科    目 高校\\n毕业生 社会\\n人才  \\\n",
       "0                研究生：经济学，会计（专业学位）\\n本科：经济学，财务管理        会计学     无要求    无要求   \n",
       "1                        研究生：计算机科学与技术\\n本科：计算机类        数学1     无要求    无要求   \n",
       "2                        研究生：计算机科学与技术\\n本科：计算机类        数学1     无要求    无要求   \n",
       "3                     研究生：计算机应用技术\\n本科：计算机科学与技术        数学1     无要求    无要求   \n",
       "4      研究生：计算机科学与技术，网络空间安全\\n本科：计算机科学与技术，网络空间安全        数学1     无要求    无要求   \n",
       "...                                        ...        ...     ...    ...   \n",
       "22260                               艺术设计（专业学位）       艺术设计     无要求    无要求   \n",
       "22261                                      美术学         美术      ——    无要求   \n",
       "22262                       英语语言文学，外国语言学及应用语言学        免笔试     无要求    无要求   \n",
       "22263                                 会计（专业学位）        会计学     无要求     ——   \n",
       "22264                                 会计（专业学位）        会计学     无要求     ——   \n",
       "\n",
       "      高校\\n毕业生.1 社会\\n人才.1                                               其他条件  \\\n",
       "0           无要求      无要求                       男性，有良好计算机办公软件操作使用能力和较好文字写作基础   \n",
       "1           无要求      无要求  男性，熟练掌握计算机网络规划设计、网络路由交换设备配置，熟悉计算机网络系统、服务器、工作站等...   \n",
       "2           无要求      无要求                       男性，有良好计算机办公软件操作使用能力和较好文字写作基础   \n",
       "3           无要求      无要求                       男性，有良好计算机办公软件操作使用能力和较好文字写作基础   \n",
       "4           无要求      无要求                                         男性，实践动手能力强   \n",
       "...         ...      ...                                                ...   \n",
       "22260       无要求      无要求                                         女性，限现役军人配偶   \n",
       "22261        ——      无要求                                         女性，限现役军人配偶   \n",
       "22262       无要求      无要求                            男性，“985工程”或“211工程”院校毕业生   \n",
       "22263       无要求       ——                                         女性，限现役军人配偶   \n",
       "22264       无要求       ——                            男性，“985工程”或“211工程”院校毕业生   \n",
       "\n",
       "      工作\\n地点          咨询电话  \n",
       "0         北京  010-66760209  \n",
       "1         北京  010-66760209  \n",
       "2         北京  010-66760209  \n",
       "3         北京  010-66760209  \n",
       "4         北京  010-66760209  \n",
       "...      ...           ...  \n",
       "22260     北京  010-87949567  \n",
       "22261     北京  010-87949567  \n",
       "22262     北京  010-87949567  \n",
       "22263     北京  010-87949567  \n",
       "22264     北京  010-87949567  \n",
       "\n",
       "[22265 rows x 15 columns]"
      ],
      "text/html": "<div>\n<style scoped>\n    .dataframe tbody tr th:only-of-type {\n        vertical-align: middle;\n    }\n\n    .dataframe tbody tr th {\n        vertical-align: top;\n    }\n\n    .dataframe thead th {\n        text-align: right;\n    }\n</style>\n<table border=\"1\" class=\"dataframe\">\n  <thead>\n    <tr style=\"text-align: right;\">\n      <th></th>\n      <th>用人单位\\n名    称</th>\n      <th>岗位\\n名称</th>\n      <th>从事工作</th>\n      <th>招考数量</th>\n      <th>入围比例</th>\n      <th>来源\\n类别</th>\n      <th>所学专业</th>\n      <th>考试专业科    目</th>\n      <th>高校\\n毕业生</th>\n      <th>社会\\n人才</th>\n      <th>高校\\n毕业生.1</th>\n      <th>社会\\n人才.1</th>\n      <th>其他条件</th>\n      <th>工作\\n地点</th>\n      <th>咨询电话</th>\n    </tr>\n  </thead>\n  <tbody>\n    <tr>\n      <th>0</th>\n      <td>中央军委办公厅某单位</td>\n      <td>助理员（科级副职以下）</td>\n      <td>财务管理</td>\n      <td>1</td>\n      <td>1:5</td>\n      <td>高校毕业生或社会人才</td>\n      <td>研究生：经济学，会计（专业学位）\\n本科：经济学，财务管理</td>\n      <td>会计学</td>\n      <td>无要求</td>\n      <td>无要求</td>\n      <td>无要求</td>\n      <td>无要求</td>\n      <td>男性，有良好计算机办公软件操作使用能力和较好文字写作基础</td>\n      <td>北京</td>\n      <td>010-66760209</td>\n    </tr>\n    <tr>\n      <th>1</th>\n      <td>中央军委办公厅某单位</td>\n      <td>助理工程师</td>\n      <td>计算机网络、设备、器材维护与管理等工作</td>\n      <td>1</td>\n      <td>1:5</td>\n      <td>高校毕业生或社会人才</td>\n      <td>研究生：计算机科学与技术\\n本科：计算机类</td>\n      <td>数学1</td>\n      <td>无要求</td>\n      <td>无要求</td>\n      <td>无要求</td>\n      <td>无要求</td>\n      <td>男性，熟练掌握计算机网络规划设计、网络路由交换设备配置，熟悉计算机网络系统、服务器、工作站等...</td>\n      <td>北京</td>\n      <td>010-66760209</td>\n    </tr>\n    <tr>\n      <th>2</th>\n      <td>中央军委办公厅某单位</td>\n      <td>助理工程师</td>\n      <td>合同管理</td>\n      <td>1</td>\n      <td>1:5</td>\n      <td>高校毕业生或社会人才</td>\n      <td>研究生：计算机科学与技术\\n本科：计算机类</td>\n      <td>数学1</td>\n      <td>无要求</td>\n      <td>无要求</td>\n      <td>无要求</td>\n      <td>无要求</td>\n      <td>男性，有良好计算机办公软件操作使用能力和较好文字写作基础</td>\n      <td>北京</td>\n      <td>010-66760209</td>\n    </tr>\n    <tr>\n      <th>3</th>\n      <td>中央军委办公厅某单位</td>\n      <td>助理工程师</td>\n      <td>国防科技项目管理</td>\n      <td>1</td>\n      <td>1:5</td>\n      <td>高校毕业生或社会人才</td>\n      <td>研究生：计算机应用技术\\n本科：计算机科学与技术</td>\n      <td>数学1</td>\n      <td>无要求</td>\n      <td>无要求</td>\n      <td>无要求</td>\n      <td>无要求</td>\n      <td>男性，有良好计算机办公软件操作使用能力和较好文字写作基础</td>\n      <td>北京</td>\n      <td>010-66760209</td>\n    </tr>\n    <tr>\n      <th>4</th>\n      <td>中央军委办公厅某单位</td>\n      <td>助理工程师</td>\n      <td>网络安全和信息化</td>\n      <td>1</td>\n      <td>1:5</td>\n      <td>高校毕业生或社会人才</td>\n      <td>研究生：计算机科学与技术，网络空间安全\\n本科：计算机科学与技术，网络空间安全</td>\n      <td>数学1</td>\n      <td>无要求</td>\n      <td>无要求</td>\n      <td>无要求</td>\n      <td>无要求</td>\n      <td>男性，实践动手能力强</td>\n      <td>北京</td>\n      <td>010-66760209</td>\n    </tr>\n    <tr>\n      <th>...</th>\n      <td>...</td>\n      <td>...</td>\n      <td>...</td>\n      <td>...</td>\n      <td>...</td>\n      <td>...</td>\n      <td>...</td>\n      <td>...</td>\n      <td>...</td>\n      <td>...</td>\n      <td>...</td>\n      <td>...</td>\n      <td>...</td>\n      <td>...</td>\n      <td>...</td>\n    </tr>\n    <tr>\n      <th>22260</th>\n      <td>武警部队某单位</td>\n      <td>助理工程师</td>\n      <td>营区环境艺术设计</td>\n      <td>1</td>\n      <td>1:5</td>\n      <td>高校毕业生或社会人才</td>\n      <td>艺术设计（专业学位）</td>\n      <td>艺术设计</td>\n      <td>无要求</td>\n      <td>无要求</td>\n      <td>无要求</td>\n      <td>无要求</td>\n      <td>女性，限现役军人配偶</td>\n      <td>北京</td>\n      <td>010-87949567</td>\n    </tr>\n    <tr>\n      <th>22261</th>\n      <td>武警部队某单位</td>\n      <td>助理工程师</td>\n      <td>服装与服饰设计</td>\n      <td>1</td>\n      <td>1:5</td>\n      <td>社会人才</td>\n      <td>美术学</td>\n      <td>美术</td>\n      <td>——</td>\n      <td>无要求</td>\n      <td>——</td>\n      <td>无要求</td>\n      <td>女性，限现役军人配偶</td>\n      <td>北京</td>\n      <td>010-87949567</td>\n    </tr>\n    <tr>\n      <th>22262</th>\n      <td>武警部队某单位</td>\n      <td>翻译</td>\n      <td>英语翻译</td>\n      <td>2</td>\n      <td>不限</td>\n      <td>高校毕业生或社会人才</td>\n      <td>英语语言文学，外国语言学及应用语言学</td>\n      <td>免笔试</td>\n      <td>无要求</td>\n      <td>无要求</td>\n      <td>无要求</td>\n      <td>无要求</td>\n      <td>男性，“985工程”或“211工程”院校毕业生</td>\n      <td>北京</td>\n      <td>010-87949567</td>\n    </tr>\n    <tr>\n      <th>22263</th>\n      <td>武警部队某单位</td>\n      <td>助理会计师</td>\n      <td>会计相关工作</td>\n      <td>1</td>\n      <td>1:5</td>\n      <td>高校毕业生</td>\n      <td>会计（专业学位）</td>\n      <td>会计学</td>\n      <td>无要求</td>\n      <td>——</td>\n      <td>无要求</td>\n      <td>——</td>\n      <td>女性，限现役军人配偶</td>\n      <td>北京</td>\n      <td>010-87949567</td>\n    </tr>\n    <tr>\n      <th>22264</th>\n      <td>武警部队某单位</td>\n      <td>助理会计师</td>\n      <td>经费预算和财务审计</td>\n      <td>1</td>\n      <td>1:5</td>\n      <td>高校毕业生</td>\n      <td>会计（专业学位）</td>\n      <td>会计学</td>\n      <td>无要求</td>\n      <td>——</td>\n      <td>无要求</td>\n      <td>——</td>\n      <td>男性，“985工程”或“211工程”院校毕业生</td>\n      <td>北京</td>\n      <td>010-87949567</td>\n    </tr>\n  </tbody>\n</table>\n<p>22265 rows × 15 columns</p>\n</div>"
     },
     "metadata": {},
     "execution_count": 48
    }
   ],
   "source": [
    "mil.drop(mil.columns[[0,1,3,9,10, 20, 21]], axis=1)"
   ]
  },
  {
   "cell_type": "code",
   "execution_count": 46,
   "metadata": {},
   "outputs": [
    {
     "output_type": "execute_result",
     "data": {
      "text/plain": [
       "Index(['用人单位\\n序    号', '用人单位\\n名    称', 'Unnamed: 20', 'Unnamed: 21'], dtype='object')"
      ]
     },
     "metadata": {},
     "execution_count": 46
    }
   ],
   "source": []
  },
  {
   "cell_type": "code",
   "execution_count": null,
   "metadata": {},
   "outputs": [],
   "source": []
  }
 ]
}