{
 "cells": [
  {
   "cell_type": "code",
   "execution_count": 1,
   "metadata": {
    "ExecuteTime": {
     "end_time": "2021-01-17T03:26:59.572382Z",
     "start_time": "2021-01-17T03:26:57.808886Z"
    },
    "scrolled": true
   },
   "outputs": [
    {
     "name": "stdout",
     "output_type": "stream",
     "text": [
      "\u001b[31mERROR: Could not find a version that satisfies the requirement python\u001b[0m\r\n",
      "\u001b[31mERROR: No matching distribution found for python\u001b[0m\r\n"
     ]
    }
   ],
   "source": [
    "# conda install pandas\n",
    "# conda install statsmodel\n",
    "# !python\n",
    "# !conda install -c conda-forge statsmodels\n",
    "# !pip install --upgrade python"
   ]
  },
  {
   "cell_type": "code",
   "execution_count": 2,
   "metadata": {
    "ExecuteTime": {
     "end_time": "2021-01-17T03:27:04.728121Z",
     "start_time": "2021-01-17T03:27:04.130416Z"
    }
   },
   "outputs": [],
   "source": [
    "import pandas as pd\n",
    "import numpy as np\n",
    "import array\n",
    "import matplotlib\n",
    "import matplotlib.pyplot as plt\n"
   ]
  },
  {
   "cell_type": "code",
   "execution_count": 6,
   "metadata": {
    "ExecuteTime": {
     "end_time": "2021-01-17T03:28:18.373449Z",
     "start_time": "2021-01-17T03:28:18.348909Z"
    }
   },
   "outputs": [],
   "source": [
    "data = pd.read_csv(\"../6363_6/hprice.csv\")"
   ]
  },
  {
   "cell_type": "code",
   "execution_count": 7,
   "metadata": {
    "ExecuteTime": {
     "end_time": "2021-01-17T03:28:19.234684Z",
     "start_time": "2021-01-17T03:28:19.203644Z"
    },
    "scrolled": true
   },
   "outputs": [
    {
     "data": {
      "text/html": [
       "<div>\n",
       "<style scoped>\n",
       "    .dataframe tbody tr th:only-of-type {\n",
       "        vertical-align: middle;\n",
       "    }\n",
       "\n",
       "    .dataframe tbody tr th {\n",
       "        vertical-align: top;\n",
       "    }\n",
       "\n",
       "    .dataframe thead th {\n",
       "        text-align: right;\n",
       "    }\n",
       "</style>\n",
       "<table border=\"1\" class=\"dataframe\">\n",
       "  <thead>\n",
       "    <tr style=\"text-align: right;\">\n",
       "      <th></th>\n",
       "      <th>Unnamed: 0</th>\n",
       "      <th>price</th>\n",
       "      <th>crime</th>\n",
       "      <th>nox</th>\n",
       "      <th>rooms</th>\n",
       "      <th>dist</th>\n",
       "      <th>radial</th>\n",
       "      <th>proptax</th>\n",
       "      <th>stratio</th>\n",
       "      <th>lowstat</th>\n",
       "      <th>lprice</th>\n",
       "      <th>lnox</th>\n",
       "      <th>lproptax</th>\n",
       "    </tr>\n",
       "  </thead>\n",
       "  <tbody>\n",
       "    <tr>\n",
       "      <th>0</th>\n",
       "      <td>1</td>\n",
       "      <td>24000</td>\n",
       "      <td>0.006</td>\n",
       "      <td>5.38</td>\n",
       "      <td>6.57</td>\n",
       "      <td>4.09</td>\n",
       "      <td>1</td>\n",
       "      <td>29.600000</td>\n",
       "      <td>15.300000</td>\n",
       "      <td>4.98</td>\n",
       "      <td>10.085809</td>\n",
       "      <td>1.682688</td>\n",
       "      <td>5.690360</td>\n",
       "    </tr>\n",
       "    <tr>\n",
       "      <th>1</th>\n",
       "      <td>2</td>\n",
       "      <td>21599</td>\n",
       "      <td>0.027</td>\n",
       "      <td>4.69</td>\n",
       "      <td>6.42</td>\n",
       "      <td>4.97</td>\n",
       "      <td>2</td>\n",
       "      <td>24.200001</td>\n",
       "      <td>17.799999</td>\n",
       "      <td>9.14</td>\n",
       "      <td>9.980402</td>\n",
       "      <td>1.545433</td>\n",
       "      <td>5.488938</td>\n",
       "    </tr>\n",
       "    <tr>\n",
       "      <th>2</th>\n",
       "      <td>3</td>\n",
       "      <td>34700</td>\n",
       "      <td>0.027</td>\n",
       "      <td>4.69</td>\n",
       "      <td>7.18</td>\n",
       "      <td>4.97</td>\n",
       "      <td>2</td>\n",
       "      <td>24.200001</td>\n",
       "      <td>17.799999</td>\n",
       "      <td>4.03</td>\n",
       "      <td>10.454495</td>\n",
       "      <td>1.545433</td>\n",
       "      <td>5.488938</td>\n",
       "    </tr>\n",
       "    <tr>\n",
       "      <th>3</th>\n",
       "      <td>4</td>\n",
       "      <td>33400</td>\n",
       "      <td>0.032</td>\n",
       "      <td>4.58</td>\n",
       "      <td>7.00</td>\n",
       "      <td>6.06</td>\n",
       "      <td>3</td>\n",
       "      <td>22.200001</td>\n",
       "      <td>18.700001</td>\n",
       "      <td>2.94</td>\n",
       "      <td>10.416311</td>\n",
       "      <td>1.521699</td>\n",
       "      <td>5.402678</td>\n",
       "    </tr>\n",
       "    <tr>\n",
       "      <th>4</th>\n",
       "      <td>5</td>\n",
       "      <td>36199</td>\n",
       "      <td>0.069</td>\n",
       "      <td>4.58</td>\n",
       "      <td>7.15</td>\n",
       "      <td>6.06</td>\n",
       "      <td>3</td>\n",
       "      <td>22.200001</td>\n",
       "      <td>18.700001</td>\n",
       "      <td>5.33</td>\n",
       "      <td>10.496787</td>\n",
       "      <td>1.521699</td>\n",
       "      <td>5.402678</td>\n",
       "    </tr>\n",
       "  </tbody>\n",
       "</table>\n",
       "</div>"
      ],
      "text/plain": [
       "   Unnamed: 0  price  crime   nox  rooms  dist  radial    proptax    stratio  \\\n",
       "0           1  24000  0.006  5.38   6.57  4.09       1  29.600000  15.300000   \n",
       "1           2  21599  0.027  4.69   6.42  4.97       2  24.200001  17.799999   \n",
       "2           3  34700  0.027  4.69   7.18  4.97       2  24.200001  17.799999   \n",
       "3           4  33400  0.032  4.58   7.00  6.06       3  22.200001  18.700001   \n",
       "4           5  36199  0.069  4.58   7.15  6.06       3  22.200001  18.700001   \n",
       "\n",
       "   lowstat     lprice      lnox  lproptax  \n",
       "0     4.98  10.085809  1.682688  5.690360  \n",
       "1     9.14   9.980402  1.545433  5.488938  \n",
       "2     4.03  10.454495  1.545433  5.488938  \n",
       "3     2.94  10.416311  1.521699  5.402678  \n",
       "4     5.33  10.496787  1.521699  5.402678  "
      ]
     },
     "execution_count": 7,
     "metadata": {},
     "output_type": "execute_result"
    }
   ],
   "source": [
    "data.head()"
   ]
  },
  {
   "cell_type": "markdown",
   "metadata": {},
   "source": [
    "## Redo part. review code."
   ]
  },
  {
   "cell_type": "markdown",
   "metadata": {},
   "source": [
    "### Plot housing prices against pollution (put nitrogen "
   ]
  },
  {
   "cell_type": "code",
   "execution_count": 8,
   "metadata": {
    "ExecuteTime": {
     "end_time": "2021-01-17T03:28:21.347568Z",
     "start_time": "2021-01-17T03:28:21.342870Z"
    }
   },
   "outputs": [],
   "source": [
    "import seaborn as sb\n",
    "sb.set_style()"
   ]
  },
  {
   "cell_type": "code",
   "execution_count": 9,
   "metadata": {
    "ExecuteTime": {
     "end_time": "2021-01-17T03:28:22.387473Z",
     "start_time": "2021-01-17T03:28:21.909271Z"
    },
    "collapsed": true
   },
   "outputs": [
    {
     "data": {
      "text/plain": [
       "<AxesSubplot:xlabel='nox', ylabel='price'>"
      ]
     },
     "execution_count": 9,
     "metadata": {},
     "output_type": "execute_result"
    },
    {
     "data": {
      "image/png": "[encoded data removed]",
      "text/plain": [
       "<Figure size 408.75x360 with 1 Axes>"
      ]
     },
     "metadata": {
      "needs_background": "light"
     },
     "output_type": "display_data"
    }
   ],
   "source": [
    "sb.relplot(\n",
    "    data=data,\n",
    "    x=\"nox\", y=\"price\",\n",
    "    hue=\"radial\",\n",
    "    palette= \"crest\"\n",
    " \n",
    ")\n",
    "sb.regplot(x = 'nox', \n",
    "           y = 'price', \n",
    "           data = (data),\n",
    "          scatter = False,\n",
    "           color = 'lightgreen'\n",
    ")\n",
    "\n",
    "# sb.lmplot(data=data, x=\"nox\", y=\"price\", hue=\"radial\")\n",
    "\n",
    "#------------------------------------------\n",
    "# seaborn ==== ggplot\n",
    "# style === group \n",
    "# col === facet\n",
    "# hue === coulor\n"
   ]
  },
  {
   "cell_type": "code",
   "execution_count": 11,
   "metadata": {
    "ExecuteTime": {
     "end_time": "2021-01-17T03:30:20.883252Z",
     "start_time": "2021-01-17T03:30:20.880559Z"
    }
   },
   "outputs": [],
   "source": [
    "# pip install plotly==4.14.3"
   ]
  },
  {
   "cell_type": "code",
   "execution_count": 21,
   "metadata": {
    "ExecuteTime": {
     "end_time": "2021-01-17T03:42:25.773112Z",
     "start_time": "2021-01-17T03:42:25.529421Z"
    }
   },
   "outputs": [],
   "source": [
    "import plotly.express as px\n",
    "import plotly.graph_objects as go\n",
    "from sklearn.linear_model import LinearRegression"
   ]
  },
  {
   "cell_type": "code",
   "execution_count": 39,
   "metadata": {
    "ExecuteTime": {
     "end_time": "2021-01-17T03:46:58.738709Z",
     "start_time": "2021-01-17T03:46:58.724470Z"
    }
   },
   "outputs": [],
   "source": [
    "model = LinearRegression()\n",
    "model.fit(np.array(data.nox).reshape(-1,1), np.array(data.price).reshape(-1,1))\n",
    "x_range = np.linspace(data.nox.min(), data.nox.max(), 100)\n",
    "y_range = model.predict(x_range.reshape(-1,1))"
   ]
  },
  {
   "cell_type": "code",
   "execution_count": 38,
   "metadata": {
    "ExecuteTime": {
     "end_time": "2021-01-17T03:46:52.104771Z",
     "start_time": "2021-01-17T03:46:52.088633Z"
    },
    "collapsed": true
   },
   "outputs": [
    {
     "data": {
      "text/plain": [
       "array([[24000],\n",
       "       [21599],\n",
       "       [34700],\n",
       "       [33400],\n",
       "       [36199],\n",
       "       [28701],\n",
       "       [22900],\n",
       "       [27100],\n",
       "       [16500],\n",
       "       [18900],\n",
       "       [15000],\n",
       "       [18900],\n",
       "       [21700],\n",
       "       [20400],\n",
       "       [18200],\n",
       "       [19900],\n",
       "       [23100],\n",
       "       [17500],\n",
       "       [20200],\n",
       "       [18200],\n",
       "       [13600],\n",
       "       [19600],\n",
       "       [15200],\n",
       "       [14500],\n",
       "       [15600],\n",
       "       [13900],\n",
       "       [16600],\n",
       "       [14800],\n",
       "       [18400],\n",
       "       [21000],\n",
       "       [12700],\n",
       "       [14500],\n",
       "       [13200],\n",
       "       [13100],\n",
       "       [13500],\n",
       "       [18900],\n",
       "       [20000],\n",
       "       [13668],\n",
       "       [24701],\n",
       "       [30801],\n",
       "       [34899],\n",
       "       [26601],\n",
       "       [25301],\n",
       "       [24701],\n",
       "       [21200],\n",
       "       [19300],\n",
       "       [20000],\n",
       "       [16600],\n",
       "       [14400],\n",
       "       [19400],\n",
       "       [19700],\n",
       "       [20500],\n",
       "       [22620],\n",
       "       [23400],\n",
       "       [18900],\n",
       "       [35401],\n",
       "       [24701],\n",
       "       [32562],\n",
       "       [23300],\n",
       "       [19600],\n",
       "       [18700],\n",
       "       [16000],\n",
       "       [22199],\n",
       "       [24999],\n",
       "       [33001],\n",
       "       [23501],\n",
       "       [19400],\n",
       "       [22000],\n",
       "       [17400],\n",
       "       [20900],\n",
       "       [24200],\n",
       "       [21700],\n",
       "       [22800],\n",
       "       [23400],\n",
       "       [24101],\n",
       "       [21400],\n",
       "       [20000],\n",
       "       [20800],\n",
       "       [21200],\n",
       "       [20300],\n",
       "       [28001],\n",
       "       [23899],\n",
       "       [24800],\n",
       "       [22900],\n",
       "       [23899],\n",
       "       [26601],\n",
       "       [22501],\n",
       "       [22199],\n",
       "       [23600],\n",
       "       [28701],\n",
       "       [22600],\n",
       "       [22000],\n",
       "       [22900],\n",
       "       [24999],\n",
       "       [20600],\n",
       "       [28399],\n",
       "       [21400],\n",
       "       [38700],\n",
       "       [43800],\n",
       "       [33200],\n",
       "       [27499],\n",
       "       [26500],\n",
       "       [18600],\n",
       "       [19300],\n",
       "       [20100],\n",
       "       [19500],\n",
       "       [19500],\n",
       "       [20400],\n",
       "       [19800],\n",
       "       [19400],\n",
       "       [21700],\n",
       "       [22800],\n",
       "       [18800],\n",
       "       [18700],\n",
       "       [18500],\n",
       "       [18300],\n",
       "       [21200],\n",
       "       [19200],\n",
       "       [20400],\n",
       "       [19300],\n",
       "       [22000],\n",
       "       [20300],\n",
       "       [20500],\n",
       "       [17300],\n",
       "       [18800],\n",
       "       [21400],\n",
       "       [15700],\n",
       "       [16200],\n",
       "       [18000],\n",
       "       [14300],\n",
       "       [19200],\n",
       "       [19600],\n",
       "       [23001],\n",
       "       [18400],\n",
       "       [15600],\n",
       "       [18100],\n",
       "       [17400],\n",
       "       [17100],\n",
       "       [13300],\n",
       "       [17800],\n",
       "       [14000],\n",
       "       [14400],\n",
       "       [13400],\n",
       "       [15600],\n",
       "       [11800],\n",
       "       [13800],\n",
       "       [15600],\n",
       "       [14600],\n",
       "       [17794],\n",
       "       [15400],\n",
       "       [21500],\n",
       "       [19600],\n",
       "       [15300],\n",
       "       [19400],\n",
       "       [17000],\n",
       "       [15600],\n",
       "       [13100],\n",
       "       [41299],\n",
       "       [24299],\n",
       "       [23300],\n",
       "       [27000],\n",
       "       [50001],\n",
       "       [50001],\n",
       "       [50001],\n",
       "       [22700],\n",
       "       [24999],\n",
       "       [50001],\n",
       "       [23799],\n",
       "       [23799],\n",
       "       [22299],\n",
       "       [17400],\n",
       "       [19100],\n",
       "       [23100],\n",
       "       [23600],\n",
       "       [22600],\n",
       "       [29401],\n",
       "       [23200],\n",
       "       [24600],\n",
       "       [29900],\n",
       "       [37201],\n",
       "       [39799],\n",
       "       [36199],\n",
       "       [37900],\n",
       "       [32500],\n",
       "       [26399],\n",
       "       [29599],\n",
       "       [50001],\n",
       "       [32000],\n",
       "       [29801],\n",
       "       [34899],\n",
       "       [37001],\n",
       "       [30501],\n",
       "       [36399],\n",
       "       [31101],\n",
       "       [29100],\n",
       "       [50001],\n",
       "       [33300],\n",
       "       [30300],\n",
       "       [34600],\n",
       "       [34899],\n",
       "       [32899],\n",
       "       [24101],\n",
       "       [42302],\n",
       "       [48499],\n",
       "       [50001],\n",
       "       [22600],\n",
       "       [24399],\n",
       "       [22501],\n",
       "       [24399],\n",
       "       [20000],\n",
       "       [21700],\n",
       "       [19300],\n",
       "       [22400],\n",
       "       [28099],\n",
       "       [23699],\n",
       "       [24999],\n",
       "       [23300],\n",
       "       [28701],\n",
       "       [21500],\n",
       "       [23001],\n",
       "       [26699],\n",
       "       [21700],\n",
       "       [27499],\n",
       "       [30101],\n",
       "       [44802],\n",
       "       [50001],\n",
       "       [37602],\n",
       "       [31600],\n",
       "       [46700],\n",
       "       [31499],\n",
       "       [24299],\n",
       "       [31701],\n",
       "       [41702],\n",
       "       [48301],\n",
       "       [29001],\n",
       "       [24000],\n",
       "       [25099],\n",
       "       [31499],\n",
       "       [23699],\n",
       "       [23300],\n",
       "       [22000],\n",
       "       [20100],\n",
       "       [22199],\n",
       "       [23699],\n",
       "       [17600],\n",
       "       [18500],\n",
       "       [24299],\n",
       "       [20500],\n",
       "       [24499],\n",
       "       [26200],\n",
       "       [24399],\n",
       "       [24800],\n",
       "       [29599],\n",
       "       [42800],\n",
       "       [21900],\n",
       "       [20900],\n",
       "       [43998],\n",
       "       [50001],\n",
       "       [36001],\n",
       "       [30101],\n",
       "       [33799],\n",
       "       [43101],\n",
       "       [48801],\n",
       "       [30999],\n",
       "       [36501],\n",
       "       [22800],\n",
       "       [30699],\n",
       "       [50001],\n",
       "       [43499],\n",
       "       [20700],\n",
       "       [21100],\n",
       "       [25200],\n",
       "       [24399],\n",
       "       [35200],\n",
       "       [32400],\n",
       "       [32000],\n",
       "       [33200],\n",
       "       [33100],\n",
       "       [29100],\n",
       "       [35102],\n",
       "       [45401],\n",
       "       [35401],\n",
       "       [46000],\n",
       "       [50001],\n",
       "       [32199],\n",
       "       [22000],\n",
       "       [20100],\n",
       "       [23200],\n",
       "       [22299],\n",
       "       [24800],\n",
       "       [28501],\n",
       "       [37298],\n",
       "       [27901],\n",
       "       [23899],\n",
       "       [21700],\n",
       "       [28601],\n",
       "       [27100],\n",
       "       [20300],\n",
       "       [22501],\n",
       "       [29001],\n",
       "       [24800],\n",
       "       [22000],\n",
       "       [26399],\n",
       "       [33100],\n",
       "       [36098],\n",
       "       [28399],\n",
       "       [33400],\n",
       "       [28201],\n",
       "       [22800],\n",
       "       [20300],\n",
       "       [16100],\n",
       "       [22099],\n",
       "       [19400],\n",
       "       [21600],\n",
       "       [23799],\n",
       "       [16200],\n",
       "       [17800],\n",
       "       [19800],\n",
       "       [23100],\n",
       "       [21000],\n",
       "       [23799],\n",
       "       [23100],\n",
       "       [20400],\n",
       "       [18500],\n",
       "       [24999],\n",
       "       [24600],\n",
       "       [23001],\n",
       "       [22199],\n",
       "       [19300],\n",
       "       [22600],\n",
       "       [19800],\n",
       "       [17100],\n",
       "       [19400],\n",
       "       [22199],\n",
       "       [20700],\n",
       "       [21100],\n",
       "       [19500],\n",
       "       [18500],\n",
       "       [20548],\n",
       "       [19000],\n",
       "       [18700],\n",
       "       [32778],\n",
       "       [16500],\n",
       "       [23899],\n",
       "       [31201],\n",
       "       [17500],\n",
       "       [17200],\n",
       "       [23100],\n",
       "       [24499],\n",
       "       [26601],\n",
       "       [22900],\n",
       "       [24101],\n",
       "       [18600],\n",
       "       [30101],\n",
       "       [18200],\n",
       "       [20600],\n",
       "       [17794],\n",
       "       [21700],\n",
       "       [22700],\n",
       "       [22600],\n",
       "       [24999],\n",
       "       [19900],\n",
       "       [20800],\n",
       "       [16800],\n",
       "       [21900],\n",
       "       [27499],\n",
       "       [21900],\n",
       "       [23100],\n",
       "       [50001],\n",
       "       [50001],\n",
       "       [50001],\n",
       "       [50001],\n",
       "       [50001],\n",
       "       [13800],\n",
       "       [13800],\n",
       "       [15000],\n",
       "       [13900],\n",
       "       [13300],\n",
       "       [13100],\n",
       "       [10200],\n",
       "       [10400],\n",
       "       [10900],\n",
       "       [11300],\n",
       "       [12300],\n",
       "       [ 8800],\n",
       "       [ 7200],\n",
       "       [10500],\n",
       "       [ 7400],\n",
       "       [10200],\n",
       "       [11500],\n",
       "       [15100],\n",
       "       [23200],\n",
       "       [ 9700],\n",
       "       [13800],\n",
       "       [12700],\n",
       "       [13100],\n",
       "       [12500],\n",
       "       [ 8500],\n",
       "       [ 5000],\n",
       "       [ 6300],\n",
       "       [ 5600],\n",
       "       [ 7200],\n",
       "       [12100],\n",
       "       [ 8300],\n",
       "       [ 8500],\n",
       "       [ 5000],\n",
       "       [11900],\n",
       "       [27901],\n",
       "       [17200],\n",
       "       [27499],\n",
       "       [15000],\n",
       "       [17200],\n",
       "       [17900],\n",
       "       [16300],\n",
       "       [ 7012],\n",
       "       [ 7200],\n",
       "       [ 7500],\n",
       "       [10400],\n",
       "       [ 8800],\n",
       "       [ 8400],\n",
       "       [16700],\n",
       "       [14200],\n",
       "       [20800],\n",
       "       [13400],\n",
       "       [11700],\n",
       "       [ 8300],\n",
       "       [10200],\n",
       "       [10900],\n",
       "       [11000],\n",
       "       [ 9500],\n",
       "       [14500],\n",
       "       [14100],\n",
       "       [16100],\n",
       "       [14300],\n",
       "       [11700],\n",
       "       [13400],\n",
       "       [ 9600],\n",
       "       [ 8700],\n",
       "       [ 8400],\n",
       "       [12800],\n",
       "       [10500],\n",
       "       [17100],\n",
       "       [18400],\n",
       "       [15400],\n",
       "       [10800],\n",
       "       [11800],\n",
       "       [14900],\n",
       "       [12600],\n",
       "       [14100],\n",
       "       [13000],\n",
       "       [13400],\n",
       "       [15200],\n",
       "       [16100],\n",
       "       [17794],\n",
       "       [14900],\n",
       "       [14100],\n",
       "       [12700],\n",
       "       [13500],\n",
       "       [14900],\n",
       "       [20000],\n",
       "       [16400],\n",
       "       [17700],\n",
       "       [19500],\n",
       "       [20200],\n",
       "       [21400],\n",
       "       [19900],\n",
       "       [19000],\n",
       "       [19100],\n",
       "       [17052],\n",
       "       [20100],\n",
       "       [19900],\n",
       "       [19600],\n",
       "       [23200],\n",
       "       [29801],\n",
       "       [13800],\n",
       "       [13300],\n",
       "       [16700],\n",
       "       [12000],\n",
       "       [14600],\n",
       "       [21400],\n",
       "       [23001],\n",
       "       [23699],\n",
       "       [24999],\n",
       "       [21800],\n",
       "       [20600],\n",
       "       [21200],\n",
       "       [19100],\n",
       "       [20600],\n",
       "       [15200],\n",
       "       [ 7000],\n",
       "       [ 8100],\n",
       "       [13600],\n",
       "       [20100],\n",
       "       [21800],\n",
       "       [24499],\n",
       "       [23100],\n",
       "       [19700],\n",
       "       [18300],\n",
       "       [21200],\n",
       "       [17500],\n",
       "       [16800],\n",
       "       [22400],\n",
       "       [20600],\n",
       "       [23899],\n",
       "       [22000],\n",
       "       [11900]])"
      ]
     },
     "execution_count": 38,
     "metadata": {},
     "output_type": "execute_result"
    }
   ],
   "source": [
    "np.array(data.price).reshape(-1,1)"
   ]
  },
  {
   "cell_type": "code",
   "execution_count": 2,
   "metadata": {
    "ExecuteTime": {
     "end_time": "2021-01-17T08:44:37.911567Z",
     "start_time": "2021-01-17T08:44:37.581212Z"
    },
    "collapsed": true
   },
   "outputs": [
    {
     "ename": "NameError",
     "evalue": "name 'data' is not defined",
     "output_type": "error",
     "traceback": [
      "\u001b[0;31m---------------------------------------------------------------------------\u001b[0m",
      "\u001b[0;31mNameError\u001b[0m                                 Traceback (most recent call last)",
      "\u001b[0;32m<ipython-input-2-03ec3ea3dfd7>\u001b[0m in \u001b[0;36m<module>\u001b[0;34m\u001b[0m\n\u001b[1;32m      1\u001b[0m \u001b[0;32mimport\u001b[0m \u001b[0mplotly\u001b[0m\u001b[0;34m.\u001b[0m\u001b[0mexpress\u001b[0m \u001b[0;32mas\u001b[0m \u001b[0mpx\u001b[0m\u001b[0;34m\u001b[0m\u001b[0;34m\u001b[0m\u001b[0m\n\u001b[0;32m----> 2\u001b[0;31m fig = px.scatter(data, x = 'nox', \n\u001b[0m\u001b[1;32m      3\u001b[0m            y = 'price', color = 'nox', trendline='ols', trendline_color_override='darkblue')\n\u001b[1;32m      4\u001b[0m \u001b[0mfig\u001b[0m\u001b[0;34m.\u001b[0m\u001b[0madd_traces\u001b[0m\u001b[0;34m(\u001b[0m\u001b[0mgo\u001b[0m\u001b[0;34m.\u001b[0m\u001b[0mScatter\u001b[0m\u001b[0;34m(\u001b[0m\u001b[0mx\u001b[0m\u001b[0;34m=\u001b[0m\u001b[0mx_range\u001b[0m\u001b[0;34m,\u001b[0m \u001b[0my\u001b[0m\u001b[0;34m=\u001b[0m\u001b[0my_range\u001b[0m\u001b[0;34m,\u001b[0m \u001b[0mname\u001b[0m\u001b[0;34m=\u001b[0m\u001b[0;34m'Regression Fit'\u001b[0m\u001b[0;34m)\u001b[0m\u001b[0;34m)\u001b[0m\u001b[0;34m\u001b[0m\u001b[0;34m\u001b[0m\u001b[0m\n\u001b[1;32m      5\u001b[0m \u001b[0mfig\u001b[0m\u001b[0;34m.\u001b[0m\u001b[0mshow\u001b[0m\u001b[0;34m(\u001b[0m\u001b[0;34m)\u001b[0m\u001b[0;34m\u001b[0m\u001b[0;34m\u001b[0m\u001b[0m\n",
      "\u001b[0;31mNameError\u001b[0m: name 'data' is not defined"
     ]
    }
   ],
   "source": [
    "import plotly.express as px\n",
    "fig = px.scatter(data, x = 'nox', \n",
    "           y = 'price', color = 'nox', trendline='ols', trendline_color_override='darkblue')\n",
    "fig.add_traces(go.Scatter(x=x_range, y=y_range, name='Regression Fit'))\n",
    "fig.show()"
   ]
  },
  {
   "cell_type": "code",
   "execution_count": 1,
   "metadata": {
    "ExecuteTime": {
     "end_time": "2021-01-17T08:44:35.312842Z",
     "start_time": "2021-01-17T08:44:35.292694Z"
    }
   },
   "outputs": [
    {
     "data": {
      "text/plain": [
       "2"
      ]
     },
     "execution_count": 1,
     "metadata": {},
     "output_type": "execute_result"
    }
   ],
   "source": [
    "# pip install dash==1.18.1\n",
    "# !pip install jupyter-dash\n",
    "1+1"
   ]
  },
  {
   "cell_type": "markdown",
   "metadata": {},
   "source": [
    "## Reg"
   ]
  },
  {
   "cell_type": "code",
   "execution_count": 19,
   "metadata": {
    "ExecuteTime": {
     "end_time": "2021-01-14T03:00:42.773034Z",
     "start_time": "2021-01-14T03:00:10.307859Z"
    }
   },
   "outputs": [],
   "source": [
    "import statsmodels.api as sm\n",
    "import statsmodels.formula.api as smf"
   ]
  },
  {
   "cell_type": "code",
   "execution_count": 27,
   "metadata": {
    "ExecuteTime": {
     "end_time": "2021-01-07T10:19:15.605187Z",
     "start_time": "2021-01-07T10:19:15.583223Z"
    }
   },
   "outputs": [],
   "source": [
    "# Note the difference in argument order\n",
    "model = smf.ols('price ~ nox + crime', data = data).fit()"
   ]
  },
  {
   "cell_type": "code",
   "execution_count": 41,
   "metadata": {
    "ExecuteTime": {
     "end_time": "2021-01-07T12:26:41.959967Z",
     "start_time": "2021-01-07T12:26:41.932383Z"
    }
   },
   "outputs": [
    {
     "data": {
      "text/html": [
       "<table class=\"simpletable\">\n",
       "<caption>OLS Regression Results</caption>\n",
       "<tr>\n",
       "  <th>Dep. Variable:</th>          <td>price</td>      <th>  R-squared:         </th> <td>   0.234</td> \n",
       "</tr>\n",
       "<tr>\n",
       "  <th>Model:</th>                   <td>OLS</td>       <th>  Adj. R-squared:    </th> <td>   0.231</td> \n",
       "</tr>\n",
       "<tr>\n",
       "  <th>Method:</th>             <td>Least Squares</td>  <th>  F-statistic:       </th> <td>   76.98</td> \n",
       "</tr>\n",
       "<tr>\n",
       "  <th>Date:</th>             <td>Thu, 07 Jan 2021</td> <th>  Prob (F-statistic):</th> <td>6.82e-30</td> \n",
       "</tr>\n",
       "<tr>\n",
       "  <th>Time:</th>                 <td>06:26:41</td>     <th>  Log-Likelihood:    </th> <td> -5268.7</td> \n",
       "</tr>\n",
       "<tr>\n",
       "  <th>No. Observations:</th>      <td>   506</td>      <th>  AIC:               </th> <td>1.054e+04</td>\n",
       "</tr>\n",
       "<tr>\n",
       "  <th>Df Residuals:</th>          <td>   503</td>      <th>  BIC:               </th> <td>1.056e+04</td>\n",
       "</tr>\n",
       "<tr>\n",
       "  <th>Df Model:</th>              <td>     2</td>      <th>                     </th>     <td> </td>    \n",
       "</tr>\n",
       "<tr>\n",
       "  <th>Covariance Type:</th>      <td>nonrobust</td>    <th>                     </th>     <td> </td>    \n",
       "</tr>\n",
       "</table>\n",
       "<table class=\"simpletable\">\n",
       "<tr>\n",
       "      <td></td>         <th>coef</th>     <th>std err</th>      <th>t</th>      <th>P>|t|</th>  <th>[0.025</th>    <th>0.975]</th>  \n",
       "</tr>\n",
       "<tr>\n",
       "  <th>Intercept</th> <td> 3.758e+04</td> <td> 1868.701</td> <td>   20.110</td> <td> 0.000</td> <td> 3.39e+04</td> <td> 4.13e+04</td>\n",
       "</tr>\n",
       "<tr>\n",
       "  <th>nox</th>       <td>-2538.3095</td> <td>  341.962</td> <td>   -7.423</td> <td> 0.000</td> <td>-3210.159</td> <td>-1866.460</td>\n",
       "</tr>\n",
       "<tr>\n",
       "  <th>crime</th>     <td> -271.6976</td> <td>   46.114</td> <td>   -5.892</td> <td> 0.000</td> <td> -362.297</td> <td> -181.099</td>\n",
       "</tr>\n",
       "</table>\n",
       "<table class=\"simpletable\">\n",
       "<tr>\n",
       "  <th>Omnibus:</th>       <td>178.278</td> <th>  Durbin-Watson:     </th> <td>   0.719</td> \n",
       "</tr>\n",
       "<tr>\n",
       "  <th>Prob(Omnibus):</th> <td> 0.000</td>  <th>  Jarque-Bera (JB):  </th> <td> 500.468</td> \n",
       "</tr>\n",
       "<tr>\n",
       "  <th>Skew:</th>          <td> 1.737</td>  <th>  Prob(JB):          </th> <td>2.11e-109</td>\n",
       "</tr>\n",
       "<tr>\n",
       "  <th>Kurtosis:</th>      <td> 6.417</td>  <th>  Cond. No.          </th> <td>    51.9</td> \n",
       "</tr>\n",
       "</table><br/><br/>Notes:<br/>[1] Standard Errors assume that the covariance matrix of the errors is correctly specified."
      ],
      "text/plain": [
       "<class 'statsmodels.iolib.summary.Summary'>\n",
       "\"\"\"\n",
       "                            OLS Regression Results                            \n",
       "==============================================================================\n",
       "Dep. Variable:                  price   R-squared:                       0.234\n",
       "Model:                            OLS   Adj. R-squared:                  0.231\n",
       "Method:                 Least Squares   F-statistic:                     76.98\n",
       "Date:                Thu, 07 Jan 2021   Prob (F-statistic):           6.82e-30\n",
       "Time:                        06:26:41   Log-Likelihood:                -5268.7\n",
       "No. Observations:                 506   AIC:                         1.054e+04\n",
       "Df Residuals:                     503   BIC:                         1.056e+04\n",
       "Df Model:                           2                                         \n",
       "Covariance Type:            nonrobust                                         \n",
       "==============================================================================\n",
       "                 coef    std err          t      P>|t|      [0.025      0.975]\n",
       "------------------------------------------------------------------------------\n",
       "Intercept   3.758e+04   1868.701     20.110      0.000    3.39e+04    4.13e+04\n",
       "nox        -2538.3095    341.962     -7.423      0.000   -3210.159   -1866.460\n",
       "crime       -271.6976     46.114     -5.892      0.000    -362.297    -181.099\n",
       "==============================================================================\n",
       "Omnibus:                      178.278   Durbin-Watson:                   0.719\n",
       "Prob(Omnibus):                  0.000   Jarque-Bera (JB):              500.468\n",
       "Skew:                           1.737   Prob(JB):                    2.11e-109\n",
       "Kurtosis:                       6.417   Cond. No.                         51.9\n",
       "==============================================================================\n",
       "\n",
       "Notes:\n",
       "[1] Standard Errors assume that the covariance matrix of the errors is correctly specified.\n",
       "\"\"\""
      ]
     },
     "execution_count": 41,
     "metadata": {},
     "output_type": "execute_result"
    }
   ],
   "source": [
    "# Print out the statistics\n",
    "model.summary()"
   ]
  },
  {
   "cell_type": "markdown",
   "metadata": {},
   "source": [
    "### f test "
   ]
  },
  {
   "cell_type": "code",
   "execution_count": 40,
   "metadata": {
    "ExecuteTime": {
     "end_time": "2021-01-07T12:26:29.083676Z",
     "start_time": "2021-01-07T12:26:29.077779Z"
    }
   },
   "outputs": [],
   "source": [
    "from scipy.stats import f"
   ]
  },
  {
   "cell_type": "code",
   "execution_count": 74,
   "metadata": {
    "ExecuteTime": {
     "end_time": "2021-01-07T12:44:41.423619Z",
     "start_time": "2021-01-07T12:44:41.414883Z"
    }
   },
   "outputs": [
    {
     "data": {
      "text/plain": [
       "array([[0., 1., 0.],\n",
       "       [0., 0., 1.]])"
      ]
     },
     "execution_count": 74,
     "metadata": {},
     "output_type": "execute_result"
    }
   ],
   "source": [
    "A = np.identity(len(model.params))\n",
    "A = A[1:,:]\n",
    "A"
   ]
  },
  {
   "cell_type": "code",
   "execution_count": 75,
   "metadata": {
    "ExecuteTime": {
     "end_time": "2021-01-07T12:44:52.525535Z",
     "start_time": "2021-01-07T12:44:52.459258Z"
    }
   },
   "outputs": [
    {
     "data": {
      "text/plain": [
       "<class 'statsmodels.stats.contrast.ContrastResults'>\n",
       "<F test: F=array([[76.97873479]]), p=6.819124681689661e-30, df_denom=503, df_num=2>"
      ]
     },
     "execution_count": 75,
     "metadata": {},
     "output_type": "execute_result"
    }
   ],
   "source": [
    "# hypotheses = '(GNPDEFL = GNP), (UNEMP = 2), (YEAR/1829 = 1)'\n",
    "model.f_test(A)"
   ]
  },
  {
   "cell_type": "markdown",
   "metadata": {},
   "source": [
    "## homework 4"
   ]
  },
  {
   "cell_type": "code",
   "execution_count": 1,
   "metadata": {
    "ExecuteTime": {
     "end_time": "2021-01-14T02:24:43.131067Z",
     "start_time": "2021-01-14T02:24:43.080897Z"
    },
    "collapsed": true
   },
   "outputs": [
    {
     "ename": "NameError",
     "evalue": "name 'pd' is not defined",
     "output_type": "error",
     "traceback": [
      "\u001b[0;31m---------------------------------------------------------------------------\u001b[0m",
      "\u001b[0;31mNameError\u001b[0m                                 Traceback (most recent call last)",
      "\u001b[0;32m<ipython-input-1-0779febff64f>\u001b[0m in \u001b[0;36m<module>\u001b[0;34m\u001b[0m\n\u001b[0;32m----> 1\u001b[0;31m \u001b[0mdf4\u001b[0m \u001b[0;34m=\u001b[0m \u001b[0mpd\u001b[0m\u001b[0;34m.\u001b[0m\u001b[0mread_csv\u001b[0m\u001b[0;34m(\u001b[0m\u001b[0;34m\"cps_extract_2004.csv\"\u001b[0m\u001b[0;34m)\u001b[0m\u001b[0;34m\u001b[0m\u001b[0;34m\u001b[0m\u001b[0m\n\u001b[0m",
      "\u001b[0;31mNameError\u001b[0m: name 'pd' is not defined"
     ]
    }
   ],
   "source": [
    "df4 = pd.read_csv(\"cps_extract_2004.csv\")"
   ]
  },
  {
   "cell_type": "code",
   "execution_count": 6,
   "metadata": {
    "ExecuteTime": {
     "end_time": "2021-01-08T04:59:08.562980Z",
     "start_time": "2021-01-08T04:59:08.543799Z"
    },
    "collapsed": true
   },
   "outputs": [
    {
     "data": {
      "text/html": [
       "<div>\n",
       "<style scoped>\n",
       "    .dataframe tbody tr th:only-of-type {\n",
       "        vertical-align: middle;\n",
       "    }\n",
       "\n",
       "    .dataframe tbody tr th {\n",
       "        vertical-align: top;\n",
       "    }\n",
       "\n",
       "    .dataframe thead th {\n",
       "        text-align: right;\n",
       "    }\n",
       "</style>\n",
       "<table border=\"1\" class=\"dataframe\">\n",
       "  <thead>\n",
       "    <tr style=\"text-align: right;\">\n",
       "      <th></th>\n",
       "      <th>age</th>\n",
       "      <th>sex</th>\n",
       "      <th>race</th>\n",
       "      <th>region</th>\n",
       "      <th>educ</th>\n",
       "      <th>exper</th>\n",
       "      <th>earnings</th>\n",
       "      <th>weeks</th>\n",
       "      <th>hours</th>\n",
       "    </tr>\n",
       "  </thead>\n",
       "  <tbody>\n",
       "    <tr>\n",
       "      <th>0</th>\n",
       "      <td>46</td>\n",
       "      <td>2</td>\n",
       "      <td>1</td>\n",
       "      <td>1</td>\n",
       "      <td>18.0</td>\n",
       "      <td>22</td>\n",
       "      <td>60000</td>\n",
       "      <td>52</td>\n",
       "      <td>40</td>\n",
       "    </tr>\n",
       "    <tr>\n",
       "      <th>1</th>\n",
       "      <td>43</td>\n",
       "      <td>1</td>\n",
       "      <td>1</td>\n",
       "      <td>1</td>\n",
       "      <td>14.0</td>\n",
       "      <td>23</td>\n",
       "      <td>180000</td>\n",
       "      <td>48</td>\n",
       "      <td>45</td>\n",
       "    </tr>\n",
       "    <tr>\n",
       "      <th>2</th>\n",
       "      <td>49</td>\n",
       "      <td>2</td>\n",
       "      <td>1</td>\n",
       "      <td>3</td>\n",
       "      <td>12.0</td>\n",
       "      <td>31</td>\n",
       "      <td>48700</td>\n",
       "      <td>52</td>\n",
       "      <td>40</td>\n",
       "    </tr>\n",
       "    <tr>\n",
       "      <th>3</th>\n",
       "      <td>48</td>\n",
       "      <td>1</td>\n",
       "      <td>1</td>\n",
       "      <td>2</td>\n",
       "      <td>16.0</td>\n",
       "      <td>26</td>\n",
       "      <td>30000</td>\n",
       "      <td>52</td>\n",
       "      <td>60</td>\n",
       "    </tr>\n",
       "    <tr>\n",
       "      <th>4</th>\n",
       "      <td>45</td>\n",
       "      <td>1</td>\n",
       "      <td>1</td>\n",
       "      <td>3</td>\n",
       "      <td>14.0</td>\n",
       "      <td>25</td>\n",
       "      <td>66000</td>\n",
       "      <td>52</td>\n",
       "      <td>85</td>\n",
       "    </tr>\n",
       "  </tbody>\n",
       "</table>\n",
       "</div>"
      ],
      "text/plain": [
       "   age  sex  race  region  educ  exper  earnings  weeks  hours\n",
       "0   46    2     1       1  18.0     22     60000     52     40\n",
       "1   43    1     1       1  14.0     23    180000     48     45\n",
       "2   49    2     1       3  12.0     31     48700     52     40\n",
       "3   48    1     1       2  16.0     26     30000     52     60\n",
       "4   45    1     1       3  14.0     25     66000     52     85"
      ]
     },
     "execution_count": 6,
     "metadata": {},
     "output_type": "execute_result"
    }
   ],
   "source": [
    "df4.head()"
   ]
  },
  {
   "cell_type": "code",
   "execution_count": 18,
   "metadata": {
    "ExecuteTime": {
     "end_time": "2021-01-08T05:05:48.370601Z",
     "start_time": "2021-01-08T05:05:48.362064Z"
    }
   },
   "outputs": [],
   "source": [
    "# df4.insert(2, column =2, value = [df4.hours * df4.weeks])\n",
    "df4 = pd.concat([df4,(df4.hours * df4.weeks)], axis = 1)\n",
    "df4 = df4.rename(columns = {0:'annual_hour'})"
   ]
  },
  {
   "cell_type": "code",
   "execution_count": 58,
   "metadata": {
    "ExecuteTime": {
     "end_time": "2021-01-08T05:20:45.750246Z",
     "start_time": "2021-01-08T05:20:45.745263Z"
    }
   },
   "outputs": [],
   "source": [
    "df4['wage'] = np.array(df4.earnings/df4.annual_hour)"
   ]
  },
  {
   "cell_type": "code",
   "execution_count": 83,
   "metadata": {
    "ExecuteTime": {
     "end_time": "2021-01-08T05:43:16.232469Z",
     "start_time": "2021-01-08T05:43:16.205753Z"
    }
   },
   "outputs": [
    {
     "data": {
      "text/html": [
       "<div>\n",
       "<style scoped>\n",
       "    .dataframe tbody tr th:only-of-type {\n",
       "        vertical-align: middle;\n",
       "    }\n",
       "\n",
       "    .dataframe tbody tr th {\n",
       "        vertical-align: top;\n",
       "    }\n",
       "\n",
       "    .dataframe thead th {\n",
       "        text-align: right;\n",
       "    }\n",
       "</style>\n",
       "<table border=\"1\" class=\"dataframe\">\n",
       "  <thead>\n",
       "    <tr style=\"text-align: right;\">\n",
       "      <th></th>\n",
       "      <th>age</th>\n",
       "      <th>sex</th>\n",
       "      <th>race</th>\n",
       "      <th>region</th>\n",
       "      <th>educ</th>\n",
       "      <th>exper</th>\n",
       "      <th>earnings</th>\n",
       "      <th>weeks</th>\n",
       "      <th>hours</th>\n",
       "      <th>annual_hour</th>\n",
       "      <th>wage</th>\n",
       "    </tr>\n",
       "  </thead>\n",
       "  <tbody>\n",
       "    <tr>\n",
       "      <th>0</th>\n",
       "      <td>46</td>\n",
       "      <td>2</td>\n",
       "      <td>1</td>\n",
       "      <td>1</td>\n",
       "      <td>18.0</td>\n",
       "      <td>22</td>\n",
       "      <td>60000</td>\n",
       "      <td>52</td>\n",
       "      <td>40</td>\n",
       "      <td>2080</td>\n",
       "      <td>28.846154</td>\n",
       "    </tr>\n",
       "    <tr>\n",
       "      <th>1</th>\n",
       "      <td>43</td>\n",
       "      <td>1</td>\n",
       "      <td>1</td>\n",
       "      <td>1</td>\n",
       "      <td>14.0</td>\n",
       "      <td>23</td>\n",
       "      <td>180000</td>\n",
       "      <td>48</td>\n",
       "      <td>45</td>\n",
       "      <td>2160</td>\n",
       "      <td>83.333333</td>\n",
       "    </tr>\n",
       "    <tr>\n",
       "      <th>6</th>\n",
       "      <td>46</td>\n",
       "      <td>1</td>\n",
       "      <td>1</td>\n",
       "      <td>1</td>\n",
       "      <td>10.0</td>\n",
       "      <td>28</td>\n",
       "      <td>10000</td>\n",
       "      <td>52</td>\n",
       "      <td>40</td>\n",
       "      <td>2080</td>\n",
       "      <td>4.807692</td>\n",
       "    </tr>\n",
       "    <tr>\n",
       "      <th>7</th>\n",
       "      <td>36</td>\n",
       "      <td>2</td>\n",
       "      <td>1</td>\n",
       "      <td>1</td>\n",
       "      <td>7.5</td>\n",
       "      <td>18</td>\n",
       "      <td>12000</td>\n",
       "      <td>52</td>\n",
       "      <td>40</td>\n",
       "      <td>2080</td>\n",
       "      <td>5.769231</td>\n",
       "    </tr>\n",
       "    <tr>\n",
       "      <th>8</th>\n",
       "      <td>41</td>\n",
       "      <td>1</td>\n",
       "      <td>1</td>\n",
       "      <td>1</td>\n",
       "      <td>12.0</td>\n",
       "      <td>23</td>\n",
       "      <td>26000</td>\n",
       "      <td>52</td>\n",
       "      <td>45</td>\n",
       "      <td>2340</td>\n",
       "      <td>11.111111</td>\n",
       "    </tr>\n",
       "    <tr>\n",
       "      <th>...</th>\n",
       "      <td>...</td>\n",
       "      <td>...</td>\n",
       "      <td>...</td>\n",
       "      <td>...</td>\n",
       "      <td>...</td>\n",
       "      <td>...</td>\n",
       "      <td>...</td>\n",
       "      <td>...</td>\n",
       "      <td>...</td>\n",
       "      <td>...</td>\n",
       "      <td>...</td>\n",
       "    </tr>\n",
       "    <tr>\n",
       "      <th>2125</th>\n",
       "      <td>29</td>\n",
       "      <td>1</td>\n",
       "      <td>1</td>\n",
       "      <td>1</td>\n",
       "      <td>12.0</td>\n",
       "      <td>11</td>\n",
       "      <td>52000</td>\n",
       "      <td>52</td>\n",
       "      <td>70</td>\n",
       "      <td>3640</td>\n",
       "      <td>14.285714</td>\n",
       "    </tr>\n",
       "    <tr>\n",
       "      <th>2126</th>\n",
       "      <td>47</td>\n",
       "      <td>1</td>\n",
       "      <td>1</td>\n",
       "      <td>1</td>\n",
       "      <td>14.0</td>\n",
       "      <td>27</td>\n",
       "      <td>45000</td>\n",
       "      <td>52</td>\n",
       "      <td>40</td>\n",
       "      <td>2080</td>\n",
       "      <td>21.634615</td>\n",
       "    </tr>\n",
       "    <tr>\n",
       "      <th>2127</th>\n",
       "      <td>34</td>\n",
       "      <td>2</td>\n",
       "      <td>1</td>\n",
       "      <td>1</td>\n",
       "      <td>14.0</td>\n",
       "      <td>14</td>\n",
       "      <td>23000</td>\n",
       "      <td>12</td>\n",
       "      <td>40</td>\n",
       "      <td>480</td>\n",
       "      <td>47.916667</td>\n",
       "    </tr>\n",
       "    <tr>\n",
       "      <th>2128</th>\n",
       "      <td>46</td>\n",
       "      <td>2</td>\n",
       "      <td>1</td>\n",
       "      <td>1</td>\n",
       "      <td>18.0</td>\n",
       "      <td>22</td>\n",
       "      <td>6500</td>\n",
       "      <td>35</td>\n",
       "      <td>12</td>\n",
       "      <td>420</td>\n",
       "      <td>15.476190</td>\n",
       "    </tr>\n",
       "    <tr>\n",
       "      <th>2145</th>\n",
       "      <td>52</td>\n",
       "      <td>1</td>\n",
       "      <td>1</td>\n",
       "      <td>1</td>\n",
       "      <td>16.0</td>\n",
       "      <td>30</td>\n",
       "      <td>50000</td>\n",
       "      <td>52</td>\n",
       "      <td>55</td>\n",
       "      <td>2860</td>\n",
       "      <td>17.482517</td>\n",
       "    </tr>\n",
       "  </tbody>\n",
       "</table>\n",
       "<p>476 rows × 11 columns</p>\n",
       "</div>"
      ],
      "text/plain": [
       "      age  sex  race  region  educ  exper  earnings  weeks  hours  \\\n",
       "0      46    2     1       1  18.0     22     60000     52     40   \n",
       "1      43    1     1       1  14.0     23    180000     48     45   \n",
       "6      46    1     1       1  10.0     28     10000     52     40   \n",
       "7      36    2     1       1   7.5     18     12000     52     40   \n",
       "8      41    1     1       1  12.0     23     26000     52     45   \n",
       "...   ...  ...   ...     ...   ...    ...       ...    ...    ...   \n",
       "2125   29    1     1       1  12.0     11     52000     52     70   \n",
       "2126   47    1     1       1  14.0     27     45000     52     40   \n",
       "2127   34    2     1       1  14.0     14     23000     12     40   \n",
       "2128   46    2     1       1  18.0     22      6500     35     12   \n",
       "2145   52    1     1       1  16.0     30     50000     52     55   \n",
       "\n",
       "      annual_hour       wage  \n",
       "0            2080  28.846154  \n",
       "1            2160  83.333333  \n",
       "6            2080   4.807692  \n",
       "7            2080   5.769231  \n",
       "8            2340  11.111111  \n",
       "...           ...        ...  \n",
       "2125         3640  14.285714  \n",
       "2126         2080  21.634615  \n",
       "2127          480  47.916667  \n",
       "2128          420  15.476190  \n",
       "2145         2860  17.482517  \n",
       "\n",
       "[476 rows x 11 columns]"
      ]
     },
     "execution_count": 83,
     "metadata": {},
     "output_type": "execute_result"
    }
   ],
   "source": [
    " df4[df4.region == 1]"
   ]
  },
  {
   "cell_type": "code",
   "execution_count": 80,
   "metadata": {
    "ExecuteTime": {
     "end_time": "2021-01-08T05:37:33.013692Z",
     "start_time": "2021-01-08T05:37:32.997022Z"
    }
   },
   "outputs": [],
   "source": [
    " "
   ]
  },
  {
   "cell_type": "code",
   "execution_count": null,
   "metadata": {},
   "outputs": [],
   "source": [
    "# df4['northeast'] ="
   ]
  },
  {
   "cell_type": "code",
   "execution_count": null,
   "metadata": {},
   "outputs": [],
   "source": [
    "# df['Flag'] = df.groupby('Product')['Index'].transform(lambda x: 'right' if sum(x)/len(x) == 1 else 'wrong')\n",
    "# df['Flag'] = df['Product'].map(df.groupby('Product')['Index'].unique().apply(lambda row: 'right' if all(row==[1]) else 'wrong'))\n"
   ]
  },
  {
   "cell_type": "code",
   "execution_count": 3,
   "metadata": {
    "ExecuteTime": {
     "end_time": "2021-01-14T13:50:37.488679Z",
     "start_time": "2021-01-14T13:50:37.479548Z"
    }
   },
   "outputs": [
    {
     "data": {
      "text/plain": [
       "'1.19.2'"
      ]
     },
     "execution_count": 3,
     "metadata": {},
     "output_type": "execute_result"
    }
   ],
   "source": [
    "import numpy\n",
    "numpy.__version__"
   ]
  },
  {
   "cell_type": "code",
   "execution_count": 1,
   "metadata": {
    "ExecuteTime": {
     "end_time": "2021-01-18T07:30:20.482031Z",
     "start_time": "2021-01-18T07:30:20.459555Z"
    }
   },
   "outputs": [
    {
     "data": {
      "text/plain": [
       "[-6, -14]"
      ]
     },
     "execution_count": 1,
     "metadata": {},
     "output_type": "execute_result"
    }
   ],
   "source": [
    "[-6, -14]"
   ]
  },
  {
   "cell_type": "code",
   "execution_count": null,
   "metadata": {},
   "outputs": [],
   "source": []
  }
 ],
 "metadata": {
  "kernelspec": {
   "display_name": "Python 3",
   "language": "python",
   "name": "python3"
  },
  "language_info": {
   "codemirror_mode": {
    "name": "ipython",
    "version": 3
   },
   "file_extension": ".py",
   "mimetype": "text/x-python",
   "name": "python",
   "nbconvert_exporter": "python",
   "pygments_lexer": "ipython3",
   "version": "3.7.9"
  },
  "latex_envs": {
   "LaTeX_envs_menu_present": true,
   "autoclose": false,
   "autocomplete": true,
   "bibliofile": "biblio.bib",
   "cite_by": "apalike",
   "current_citInitial": 1,
   "eqLabelWithNumbers": true,
   "eqNumInitial": 1,
   "hotkeys": {
    "equation": "Ctrl-E",
    "itemize": "Ctrl-I"
   },
   "labels_anchors": false,
   "latex_user_defs": false,
   "report_style_numbering": false,
   "user_envs_cfg": false
  },
  "nbTranslate": {
   "displayLangs": [
    "*"
   ],
   "hotkey": "alt-t",
   "langInMainMenu": true,
   "sourceLang": "en",
   "targetLang": "fr",
   "useGoogleTranslate": true
  },
  "toc": {
   "base_numbering": 1,
   "nav_menu": {},
   "number_sections": true,
   "sideBar": true,
   "skip_h1_title": false,
   "title_cell": "Table of Contents",
   "title_sidebar": "Contents",
   "toc_cell": false,
   "toc_position": {
    "height": "calc(100% - 180px)",
    "left": "10px",
    "top": "150px",
    "width": "256px"
   },
   "toc_section_display": true,
   "toc_window_display": true
  },
  "varInspector": {
   "cols": {
    "lenName": 16,
    "lenType": 16,
    "lenVar": 40
   },
   "kernels_config": {
    "python": {
     "delete_cmd_postfix": "",
     "delete_cmd_prefix": "del ",
     "library": "var_list.py",
     "varRefreshCmd": "print(var_dic_list())"
    },
    "r": {
     "delete_cmd_postfix": ") ",
     "delete_cmd_prefix": "rm(",
     "library": "var_list.r",
     "varRefreshCmd": "cat(var_dic_list()) "
    }
   },
   "types_to_exclude": [
    "module",
    "function",
    "builtin_function_or_method",
    "instance",
    "_Feature"
   ],
   "window_display": false
  }
 },
 "nbformat": 4,
 "nbformat_minor": 4
}
