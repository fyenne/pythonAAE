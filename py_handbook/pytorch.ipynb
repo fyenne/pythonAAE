{
 "cells": [
  {
   "cell_type": "markdown",
   "metadata": {
    "ExecuteTime": {
     "end_time": "2021-01-31T12:27:35.345062Z",
     "start_time": "2021-01-31T12:27:35.340656Z"
    }
   },
   "source": [
    "# start"
   ]
  },
  {
   "cell_type": "code",
   "execution_count": 1,
   "metadata": {
    "ExecuteTime": {
     "end_time": "2021-01-31T12:27:47.199786Z",
     "start_time": "2021-01-31T12:27:47.196884Z"
    }
   },
   "outputs": [],
   "source": [
    "import torch\n",
    "import numpy as np\n",
    "import pandas as pd"
   ]
  },
  {
   "cell_type": "code",
   "execution_count": 2,
   "metadata": {
    "pycharm": {
     "name": "#%%\n"
    }
   },
   "outputs": [],
   "source": [
    "data = [[1, 2],[3, 4]]\n",
    "x_data = torch.tensor(data)\n",
    "np_array = np.array(data)\n",
    "x_np = torch.from_numpy(np_array)"
   ]
  },
  {
   "cell_type": "code",
   "execution_count": 3,
   "metadata": {
    "pycharm": {
     "name": "#%%\n"
    }
   },
   "outputs": [
    {
     "name": "stdout",
     "output_type": "stream",
     "text": [
      "Ones Tensor: \n",
      " tensor([[1, 1],\n",
      "        [1, 1]]) \n",
      "\n",
      "Random Tensor: \n",
      " tensor([[0.7610, 0.2816],\n",
      "        [0.2496, 0.0397]]) \n",
      "\n"
     ]
    }
   ],
   "source": [
    "x_ones = torch.ones_like(x_data) # retains the properties of x_data\n",
    "print(f\"Ones Tensor: \\n {x_ones} \\n\")\n",
    "\n",
    "x_rand = torch.rand_like(x_data, dtype=torch.float) # overrides the datatype of x_data\n",
    "print(f\"Random Tensor: \\n {x_rand} \\n\")\n",
    "\n",
    "#--------------------------------------------"
   ]
  },
  {
   "cell_type": "code",
   "execution_count": 4,
   "metadata": {
    "pycharm": {
     "name": "#%%\n"
    }
   },
   "outputs": [
    {
     "name": "stdout",
     "output_type": "stream",
     "text": [
      "Random Tensor: \n",
      " tensor([[0.6496, 0.1494, 0.2192],\n",
      "        [0.6194, 0.7864, 0.3071]]) \n",
      "\n",
      "Ones Tensor: \n",
      " tensor([[1., 1., 1.],\n",
      "        [1., 1., 1.]]) \n",
      "\n",
      "Zeros Tensor: \n",
      " tensor([[0., 0., 0.],\n",
      "        [0., 0., 0.]])\n"
     ]
    }
   ],
   "source": [
    "shape = (2,3,)\n",
    "rand_tensor = torch.rand(shape)\n",
    "ones_tensor = torch.ones(shape)\n",
    "zeros_tensor = torch.zeros(shape)\n",
    "\n",
    "print(f\"Random Tensor: \\n {rand_tensor} \\n\")\n",
    "print(f\"Ones Tensor: \\n {ones_tensor} \\n\")\n",
    "print(f\"Zeros Tensor: \\n {zeros_tensor}\")"
   ]
  },
  {
   "cell_type": "code",
   "execution_count": 5,
   "metadata": {
    "pycharm": {
     "name": "#%%\n"
    }
   },
   "outputs": [
    {
     "name": "stdout",
     "output_type": "stream",
     "text": [
      "Shape of tensor: torch.Size([3, 4])\n",
      "Datatype of tensor: torch.float32\n",
      "Device tensor is stored on: cpu\n"
     ]
    },
    {
     "data": {
      "text/plain": [
       "tensor([[0.4929, 0.3550, 0.3668, 0.2424],\n",
       "        [0.1689, 0.6732, 0.4851, 0.0797],\n",
       "        [0.2063, 0.1202, 0.5667, 0.9553]])"
      ]
     },
     "execution_count": 5,
     "metadata": {},
     "output_type": "execute_result"
    }
   ],
   "source": [
    "tensor = torch.rand(3,4)\n",
    "\n",
    "print(f\"Shape of tensor: {tensor.shape}\")\n",
    "print(f\"Datatype of tensor: {tensor.dtype}\")\n",
    "print(f\"Device tensor is stored on: {tensor.device}\")\n",
    "tensor"
   ]
  },
  {
   "cell_type": "markdown",
   "metadata": {},
   "source": [
    "# Test of tensor environment Done:\n",
    "---"
   ]
  },
  {
   "cell_type": "markdown",
   "metadata": {
    "pycharm": {
     "name": "#%% md\n"
    }
   },
   "source": [
    "# chapter 1:\n",
    "---\n",
    "\n"
   ]
  },
  {
   "cell_type": "code",
   "execution_count": 56,
   "metadata": {
    "pycharm": {
     "name": "#%%\n"
    }
   },
   "outputs": [
    {
     "name": "stdout",
     "output_type": "stream",
     "text": [
      "shit\n"
     ]
    }
   ],
   "source": [
    "if torch.cuda.is_available():\n",
    "  tensor = tensor.to('cuda')\n",
    "  print('useful')\n",
    "else:\n",
    "    print(\"shit\")"
   ]
  },
  {
   "cell_type": "code",
   "execution_count": 7,
   "metadata": {
    "pycharm": {
     "name": "#%%\n"
    }
   },
   "outputs": [
    {
     "name": "stdout",
     "output_type": "stream",
     "text": [
      "tensor([[1., 0., 1., 1.],\n",
      "        [1., 0., 1., 1.],\n",
      "        [1., 0., 1., 1.],\n",
      "        [1., 0., 1., 1.]])\n"
     ]
    }
   ],
   "source": [
    "tensor = torch.ones(4, 4)\n",
    "tensor[:,1] = 0 #slicing change\n",
    "print(tensor)"
   ]
  },
  {
   "cell_type": "markdown",
   "metadata": {
    "pycharm": {
     "name": "#%% md\n"
    }
   },
   "source": [
    "## col & row bind dataframe\n"
   ]
  },
  {
   "cell_type": "code",
   "execution_count": 8,
   "metadata": {
    "pycharm": {
     "name": "#%%\n"
    }
   },
   "outputs": [
    {
     "name": "stdout",
     "output_type": "stream",
     "text": [
      "tensor([[1., 0., 1., 1.],\n",
      "        [1., 0., 1., 1.],\n",
      "        [1., 0., 1., 1.],\n",
      "        [1., 0., 1., 1.],\n",
      "        [1., 0., 1., 1.],\n",
      "        [1., 0., 1., 1.],\n",
      "        [1., 0., 1., 1.],\n",
      "        [1., 0., 1., 1.],\n",
      "        [1., 0., 1., 1.],\n",
      "        [1., 0., 1., 1.],\n",
      "        [1., 0., 1., 1.],\n",
      "        [1., 0., 1., 1.]])\n"
     ]
    }
   ],
   "source": [
    "t1 = torch.cat([tensor, tensor, tensor], dim=0) #be 1 to col bind\n",
    "print(t1)"
   ]
  },
  {
   "cell_type": "markdown",
   "metadata": {
    "pycharm": {
     "name": "#%% md\n"
    }
   },
   "source": [
    "## number manipulation\n"
   ]
  },
  {
   "cell_type": "code",
   "execution_count": 9,
   "metadata": {
    "pycharm": {
     "name": "#%%\n"
    }
   },
   "outputs": [
    {
     "name": "stdout",
     "output_type": "stream",
     "text": [
      "tensor([[1., 0., 1., 1.],\n",
      "        [1., 0., 1., 1.],\n",
      "        [1., 0., 1., 1.],\n",
      "        [1., 0., 1., 1.]]) \n",
      "\n",
      "tensor([[6., 5., 6., 6.],\n",
      "        [6., 5., 6., 6.],\n",
      "        [6., 5., 6., 6.],\n",
      "        [6., 5., 6., 6.]])\n"
     ]
    },
    {
     "data": {
      "text/plain": [
       "tensor([[6., 6., 6., 6.],\n",
       "        [5., 5., 5., 5.],\n",
       "        [6., 6., 6., 6.],\n",
       "        [6., 6., 6., 6.]])"
      ]
     },
     "execution_count": 9,
     "metadata": {},
     "output_type": "execute_result"
    }
   ],
   "source": [
    "print(tensor, \"\\n\")\n",
    "tensor.add_(5)\n",
    "print(tensor)\n",
    "#--------------------------------------------\n",
    "tensor.t_() #转置"
   ]
  },
  {
   "cell_type": "markdown",
   "metadata": {
    "pycharm": {
     "name": "#%% md\n"
    }
   },
   "source": [
    "## tensor to Numpy array\n"
   ]
  },
  {
   "cell_type": "code",
   "execution_count": 14,
   "metadata": {
    "pycharm": {
     "name": "#%%\n"
    }
   },
   "outputs": [
    {
     "name": "stdout",
     "output_type": "stream",
     "text": [
      "t: tensor([1., 1., 1., 1., 1.])\n",
      "n: [1. 1. 1. 1. 1.]\n",
      "t: tensor([2., 2., 2., 2., 2.])\n",
      "n: [2. 2. 2. 2. 2.]\n"
     ]
    }
   ],
   "source": [
    "t = torch.ones(5)\n",
    "print(f\"t: {t}\")\n",
    "n = t.numpy()\n",
    "print(f\"n: {n}\")\n",
    "\n",
    "t.add_(1)\n",
    "print(f\"t: {t}\")\n",
    "print(f\"n: {n}\")"
   ]
  },
  {
   "cell_type": "code",
   "execution_count": 15,
   "metadata": {
    "pycharm": {
     "name": "#%%\n"
    }
   },
   "outputs": [
    {
     "name": "stdout",
     "output_type": "stream",
     "text": [
      "tensor([1., 1., 1., 1., 1.], dtype=torch.float64)\n"
     ]
    }
   ],
   "source": [
    "n = np.ones(5)\n",
    "t = torch.from_numpy(n)\n",
    "print(t)"
   ]
  },
  {
   "cell_type": "code",
   "execution_count": 16,
   "metadata": {
    "pycharm": {
     "name": "#%%\n"
    }
   },
   "outputs": [
    {
     "name": "stdout",
     "output_type": "stream",
     "text": [
      "t: tensor([3., 3., 3., 3., 3.], dtype=torch.float64)\n",
      "n: [3. 3. 3. 3. 3.]\n"
     ]
    }
   ],
   "source": [
    "np.add(n, 2, out=n)\n",
    "print(f\"t: {t}\")\n",
    "print(f\"n: {n}\")\n",
    "\n",
    "mm = \"---------\""
   ]
  },
  {
   "cell_type": "markdown",
   "metadata": {
    "pycharm": {
     "name": "#%% md\n"
    }
   },
   "source": [
    "# np quick review."
   ]
  },
  {
   "cell_type": "code",
   "execution_count": 64,
   "metadata": {
    "pycharm": {
     "name": "#%%\n"
    }
   },
   "outputs": [
    {
     "name": "stdout",
     "output_type": "stream",
     "text": [
      "[[7 7 7]\n",
      " [7 7 7]]\n",
      "--------- this is a line to seperate: --------- \n",
      "\n",
      "[10 15 20]\n",
      "--------- this is a line to seperate: --------- \n",
      "\n",
      "[0.  0.4 0.8 1.2 1.6 2. ]\n",
      "--------- this is a line to seperate: --------- \n",
      "\n"
     ]
    }
   ],
   "source": [
    "print(np.full((2,3),7))\n",
    "\n",
    "print(f\"{mm} this is a line to seperate: {mm} \\n\")\n",
    "\n",
    "print(np.arange(10,25,5)) # start end, step length\n",
    "\n",
    "print(f\"{mm} this is a line to seperate: {mm} \\n\")\n",
    "\n",
    "print(np.linspace(0,2,6)) # start end, num of list\n",
    "\n",
    "print(f\"{mm} this is a line to seperate: {mm} \\n\")\n",
    "a =np.random.random((2,3))\n",
    "\n",
    "#--------------------------------------------\n",
    " # fancy indexing:\n",
    "# a[[x],[y]] #(element located at x,y)\n"
   ]
  },
  {
   "cell_type": "code",
   "execution_count": 18,
   "metadata": {
    "pycharm": {
     "name": "#%%\n"
    }
   },
   "outputs": [
    {
     "data": {
      "text/plain": [
       "array([[0.23969205, 0.5725589 , 0.77862318],\n",
       "       [0.44126773, 0.90350213, 0.38165196]])"
      ]
     },
     "execution_count": 18,
     "metadata": {},
     "output_type": "execute_result"
    }
   ],
   "source": [
    "a"
   ]
  },
  {
   "cell_type": "code",
   "execution_count": 19,
   "metadata": {
    "pycharm": {
     "name": "#%% change directions.\n"
    }
   },
   "outputs": [
    {
     "name": "stdout",
     "output_type": "stream",
     "text": [
      "[[0.23969205 0.44126773]\n",
      " [0.5725589  0.90350213]\n",
      " [0.77862318 0.38165196]]\n"
     ]
    },
    {
     "data": {
      "text/plain": [
       "array([[0.23969205],\n",
       "       [0.5725589 ],\n",
       "       [0.77862318],\n",
       "       [0.44126773],\n",
       "       [0.90350213],\n",
       "       [0.38165196]])"
      ]
     },
     "execution_count": 19,
     "metadata": {},
     "output_type": "execute_result"
    }
   ],
   "source": [
    "a[:,2], a[::-1]# upside down\n",
    "print(np.transpose(a)) # tranpose\n",
    "a.ravel() # one line\n",
    "a.reshape(-1,1)"
   ]
  },
  {
   "cell_type": "code",
   "execution_count": 20,
   "metadata": {
    "pycharm": {
     "name": "#%%\n"
    }
   },
   "outputs": [
    {
     "data": {
      "text/plain": [
       "array([0.90350213])"
      ]
     },
     "execution_count": 20,
     "metadata": {},
     "output_type": "execute_result"
    }
   ],
   "source": [
    "a[[1],[1]]"
   ]
  },
  {
   "cell_type": "code",
   "execution_count": 21,
   "metadata": {
    "pycharm": {
     "name": "#%% conbine arrays.\n"
    }
   },
   "outputs": [],
   "source": [
    "b = np.append(a,a)\n",
    "# b.shape #(12,)\n",
    "c = np.concatenate((a,a), axis = 0)\n",
    "c.shape #(4, 3)\n",
    "d = np.concatenate((a,a), axis = 1)\n",
    "d.shape #(2, 6)\n",
    "e = np.vstack((a,a))  # ==~ c\n",
    "f = np.hstack((a,a))  # ==~ d\n",
    "\n",
    "# np.r_[a,a] ; np.c_[a,a]"
   ]
  },
  {
   "cell_type": "code",
   "execution_count": 22,
   "metadata": {
    "pycharm": {
     "name": "#%%\n"
    }
   },
   "outputs": [
    {
     "data": {
      "text/plain": [
       "(array([[0.23969205, 0.5725589 , 0.77862318],\n",
       "        [0.44126773, 0.90350213, 0.38165196]]),\n",
       " array([0.23969205, 0.5725589 , 0.77862318, 0.44126773, 0.90350213,\n",
       "        0.38165196, 0.23969205, 0.5725589 , 0.77862318, 0.44126773,\n",
       "        0.90350213, 0.38165196]),\n",
       " array([[0.23969205, 0.5725589 , 0.77862318],\n",
       "        [0.44126773, 0.90350213, 0.38165196],\n",
       "        [0.23969205, 0.5725589 , 0.77862318],\n",
       "        [0.44126773, 0.90350213, 0.38165196]]),\n",
       " array([[0.23969205, 0.5725589 , 0.77862318, 0.23969205, 0.5725589 ,\n",
       "         0.77862318],\n",
       "        [0.44126773, 0.90350213, 0.38165196, 0.44126773, 0.90350213,\n",
       "         0.38165196]]),\n",
       " array([[0.23969205, 0.5725589 , 0.77862318],\n",
       "        [0.44126773, 0.90350213, 0.38165196],\n",
       "        [0.23969205, 0.5725589 , 0.77862318],\n",
       "        [0.44126773, 0.90350213, 0.38165196]]),\n",
       " array([[0.23969205, 0.5725589 , 0.77862318, 0.23969205, 0.5725589 ,\n",
       "         0.77862318],\n",
       "        [0.44126773, 0.90350213, 0.38165196, 0.44126773, 0.90350213,\n",
       "         0.38165196]]))"
      ]
     },
     "execution_count": 22,
     "metadata": {},
     "output_type": "execute_result"
    }
   ],
   "source": [
    "a, b, c, d, e, f\n",
    "# b.size ,b.resize(())"
   ]
  },
  {
   "cell_type": "code",
   "execution_count": 23,
   "metadata": {
    "pycharm": {
     "name": "#%%\n"
    }
   },
   "outputs": [
    {
     "data": {
      "text/plain": [
       "array([0.23969205, 0.5725589 , 0.90350213, 0.38165196])"
      ]
     },
     "execution_count": 23,
     "metadata": {},
     "output_type": "execute_result"
    }
   ],
   "source": [
    "np.delete(a, ([2],[3])) #delete [2] and [3]\n",
    "# np.delete(a, [[2],[3]])\n"
   ]
  },
  {
   "cell_type": "code",
   "execution_count": 24,
   "metadata": {
    "pycharm": {
     "name": "#%%\n"
    }
   },
   "outputs": [
    {
     "data": {
      "text/plain": [
       "([array([[0.23969205],\n",
       "         [0.44126773]]),\n",
       "  array([[0.5725589 ],\n",
       "         [0.90350213]]),\n",
       "  array([[0.77862318],\n",
       "         [0.38165196]])],\n",
       " [array([[0.23969205, 0.5725589 , 0.77862318]]),\n",
       "  array([[0.44126773, 0.90350213, 0.38165196]])])"
      ]
     },
     "execution_count": 24,
     "metadata": {},
     "output_type": "execute_result"
    }
   ],
   "source": [
    "np.hsplit(a,3), np.vsplit(a,2)# every 3rd index"
   ]
  },
  {
   "cell_type": "markdown",
   "metadata": {},
   "source": [
    "---"
   ]
  },
  {
   "cell_type": "code",
   "execution_count": 2,
   "metadata": {
    "ExecuteTime": {
     "end_time": "2021-01-31T12:24:28.998267Z",
     "start_time": "2021-01-31T12:24:28.995669Z"
    },
    "pycharm": {
     "name": "#%% pickle save\n"
    }
   },
   "outputs": [],
   "source": [
    "import pickle\n",
    "# with open('train.pickle', 'wb') as f:\n",
    "#     pickle.dump([a, mm, c, cc], f)"
   ]
  },
  {
   "cell_type": "code",
   "execution_count": 3,
   "metadata": {
    "ExecuteTime": {
     "end_time": "2021-01-31T12:24:29.832020Z",
     "start_time": "2021-01-31T12:24:29.572214Z"
    },
    "pycharm": {
     "name": "#%% pickle load\n"
    }
   },
   "outputs": [],
   "source": [
    "with open('train.pickle', 'rb') as f:\n",
    "    a, mm, c, cc= pickle.load(f)"
   ]
  },
  {
   "cell_type": "markdown",
   "metadata": {
    "pycharm": {
     "name": "#%% md\n"
    }
   },
   "source": [
    "# quick review on pandas"
   ]
  },
  {
   "cell_type": "code",
   "execution_count": 28,
   "metadata": {
    "pycharm": {
     "name": "#%%\n"
    }
   },
   "outputs": [],
   "source": [
    "cc = pd.DataFrame(c)"
   ]
  },
  {
   "cell_type": "code",
   "execution_count": 29,
   "metadata": {
    "pycharm": {
     "name": "#%%\n"
    }
   },
   "outputs": [],
   "source": [
    "cc = cc.rename(index = str,\n",
    "          columns= {0:\"c1\",\n",
    "                    1:\"c2\",\n",
    "                    2:\"c3\"})"
   ]
  },
  {
   "cell_type": "code",
   "execution_count": 30,
   "metadata": {
    "pycharm": {
     "name": "#%%\n"
    }
   },
   "outputs": [],
   "source": [
    "cc['c4'] = ['a','b','c','d']\n",
    "cc['row'] = np.arange(1,5)"
   ]
  },
  {
   "cell_type": "code",
   "execution_count": 4,
   "metadata": {
    "pycharm": {
     "name": "#%%\n"
    }
   },
   "outputs": [
    {
     "data": {
      "text/plain": "         c1        c2        c3 c4  row\n0  0.239692  0.572559  0.778623  a    1\n1  0.441268  0.903502  0.777777  b    2\n2  0.239692  0.572559  0.777777  d    3\n3  0.441268  0.903502  0.381652  d    4",
      "text/html": "<div>\n<style scoped>\n    .dataframe tbody tr th:only-of-type {\n        vertical-align: middle;\n    }\n\n    .dataframe tbody tr th {\n        vertical-align: top;\n    }\n\n    .dataframe thead th {\n        text-align: right;\n    }\n</style>\n<table border=\"1\" class=\"dataframe\">\n  <thead>\n    <tr style=\"text-align: right;\">\n      <th></th>\n      <th>c1</th>\n      <th>c2</th>\n      <th>c3</th>\n      <th>c4</th>\n      <th>row</th>\n    </tr>\n  </thead>\n  <tbody>\n    <tr>\n      <th>0</th>\n      <td>0.239692</td>\n      <td>0.572559</td>\n      <td>0.778623</td>\n      <td>a</td>\n      <td>1</td>\n    </tr>\n    <tr>\n      <th>1</th>\n      <td>0.441268</td>\n      <td>0.903502</td>\n      <td>0.777777</td>\n      <td>b</td>\n      <td>2</td>\n    </tr>\n    <tr>\n      <th>2</th>\n      <td>0.239692</td>\n      <td>0.572559</td>\n      <td>0.777777</td>\n      <td>d</td>\n      <td>3</td>\n    </tr>\n    <tr>\n      <th>3</th>\n      <td>0.441268</td>\n      <td>0.903502</td>\n      <td>0.381652</td>\n      <td>d</td>\n      <td>4</td>\n    </tr>\n  </tbody>\n</table>\n</div>"
     },
     "execution_count": 4,
     "metadata": {},
     "output_type": "execute_result"
    }
   ],
   "source": [
    "cc"
   ]
  },
  {
   "cell_type": "code",
   "execution_count": 32,
   "metadata": {
    "pycharm": {
     "name": "#%%\n"
    }
   },
   "outputs": [
    {
     "data": {
      "text/html": [
       "<div>\n",
       "<style scoped>\n",
       "    .dataframe tbody tr th:only-of-type {\n",
       "        vertical-align: middle;\n",
       "    }\n",
       "\n",
       "    .dataframe tbody tr th {\n",
       "        vertical-align: top;\n",
       "    }\n",
       "\n",
       "    .dataframe thead tr th {\n",
       "        text-align: left;\n",
       "    }\n",
       "\n",
       "    .dataframe thead tr:last-of-type th {\n",
       "        text-align: right;\n",
       "    }\n",
       "</style>\n",
       "<table border=\"1\" class=\"dataframe\">\n",
       "  <thead>\n",
       "    <tr>\n",
       "      <th></th>\n",
       "      <th colspan=\"4\" halign=\"left\">c1</th>\n",
       "      <th colspan=\"4\" halign=\"left\">c2</th>\n",
       "      <th colspan=\"4\" halign=\"left\">c3</th>\n",
       "    </tr>\n",
       "    <tr>\n",
       "      <th>c4</th>\n",
       "      <th>a</th>\n",
       "      <th>b</th>\n",
       "      <th>c</th>\n",
       "      <th>d</th>\n",
       "      <th>a</th>\n",
       "      <th>b</th>\n",
       "      <th>c</th>\n",
       "      <th>d</th>\n",
       "      <th>a</th>\n",
       "      <th>b</th>\n",
       "      <th>c</th>\n",
       "      <th>d</th>\n",
       "    </tr>\n",
       "    <tr>\n",
       "      <th>row</th>\n",
       "      <th></th>\n",
       "      <th></th>\n",
       "      <th></th>\n",
       "      <th></th>\n",
       "      <th></th>\n",
       "      <th></th>\n",
       "      <th></th>\n",
       "      <th></th>\n",
       "      <th></th>\n",
       "      <th></th>\n",
       "      <th></th>\n",
       "      <th></th>\n",
       "    </tr>\n",
       "  </thead>\n",
       "  <tbody>\n",
       "    <tr>\n",
       "      <th>1</th>\n",
       "      <td>0.239692</td>\n",
       "      <td>NaN</td>\n",
       "      <td>NaN</td>\n",
       "      <td>NaN</td>\n",
       "      <td>0.572559</td>\n",
       "      <td>NaN</td>\n",
       "      <td>NaN</td>\n",
       "      <td>NaN</td>\n",
       "      <td>0.778623</td>\n",
       "      <td>NaN</td>\n",
       "      <td>NaN</td>\n",
       "      <td>NaN</td>\n",
       "    </tr>\n",
       "    <tr>\n",
       "      <th>2</th>\n",
       "      <td>NaN</td>\n",
       "      <td>0.441268</td>\n",
       "      <td>NaN</td>\n",
       "      <td>NaN</td>\n",
       "      <td>NaN</td>\n",
       "      <td>0.903502</td>\n",
       "      <td>NaN</td>\n",
       "      <td>NaN</td>\n",
       "      <td>NaN</td>\n",
       "      <td>0.381652</td>\n",
       "      <td>NaN</td>\n",
       "      <td>NaN</td>\n",
       "    </tr>\n",
       "    <tr>\n",
       "      <th>3</th>\n",
       "      <td>NaN</td>\n",
       "      <td>NaN</td>\n",
       "      <td>0.239692</td>\n",
       "      <td>NaN</td>\n",
       "      <td>NaN</td>\n",
       "      <td>NaN</td>\n",
       "      <td>0.572559</td>\n",
       "      <td>NaN</td>\n",
       "      <td>NaN</td>\n",
       "      <td>NaN</td>\n",
       "      <td>0.778623</td>\n",
       "      <td>NaN</td>\n",
       "    </tr>\n",
       "    <tr>\n",
       "      <th>4</th>\n",
       "      <td>NaN</td>\n",
       "      <td>NaN</td>\n",
       "      <td>NaN</td>\n",
       "      <td>0.441268</td>\n",
       "      <td>NaN</td>\n",
       "      <td>NaN</td>\n",
       "      <td>NaN</td>\n",
       "      <td>0.903502</td>\n",
       "      <td>NaN</td>\n",
       "      <td>NaN</td>\n",
       "      <td>NaN</td>\n",
       "      <td>0.381652</td>\n",
       "    </tr>\n",
       "  </tbody>\n",
       "</table>\n",
       "</div>"
      ],
      "text/plain": [
       "           c1                                      c2                      \\\n",
       "c4          a         b         c         d         a         b         c   \n",
       "row                                                                         \n",
       "1    0.239692       NaN       NaN       NaN  0.572559       NaN       NaN   \n",
       "2         NaN  0.441268       NaN       NaN       NaN  0.903502       NaN   \n",
       "3         NaN       NaN  0.239692       NaN       NaN       NaN  0.572559   \n",
       "4         NaN       NaN       NaN  0.441268       NaN       NaN       NaN   \n",
       "\n",
       "                     c3                                \n",
       "c4          d         a         b         c         d  \n",
       "row                                                    \n",
       "1         NaN  0.778623       NaN       NaN       NaN  \n",
       "2         NaN       NaN  0.381652       NaN       NaN  \n",
       "3         NaN       NaN       NaN  0.778623       NaN  \n",
       "4    0.903502       NaN       NaN       NaN  0.381652  "
      ]
     },
     "execution_count": 32,
     "metadata": {},
     "output_type": "execute_result"
    }
   ],
   "source": [
    "cc.pivot(index = 'row', columns= 'c4',\n",
    "         values = ['c1', 'c2', 'c3'])\n",
    "pd.pivot_table(cc, index = 'row', columns= 'c4',\n",
    "         values = ['c1', 'c2', 'c3'])"
   ]
  },
  {
   "cell_type": "code",
   "execution_count": 33,
   "metadata": {
    "pycharm": {
     "name": "#%%\n"
    }
   },
   "outputs": [
    {
     "data": {
      "text/html": [
       "<div>\n",
       "<style scoped>\n",
       "    .dataframe tbody tr th:only-of-type {\n",
       "        vertical-align: middle;\n",
       "    }\n",
       "\n",
       "    .dataframe tbody tr th {\n",
       "        vertical-align: top;\n",
       "    }\n",
       "\n",
       "    .dataframe thead th {\n",
       "        text-align: right;\n",
       "    }\n",
       "</style>\n",
       "<table border=\"1\" class=\"dataframe\">\n",
       "  <thead>\n",
       "    <tr style=\"text-align: right;\">\n",
       "      <th></th>\n",
       "      <th>c4</th>\n",
       "      <th>variable</th>\n",
       "      <th>test</th>\n",
       "    </tr>\n",
       "  </thead>\n",
       "  <tbody>\n",
       "    <tr>\n",
       "      <th>0</th>\n",
       "      <td>a</td>\n",
       "      <td>c1</td>\n",
       "      <td>0.239692</td>\n",
       "    </tr>\n",
       "    <tr>\n",
       "      <th>1</th>\n",
       "      <td>b</td>\n",
       "      <td>c1</td>\n",
       "      <td>0.441268</td>\n",
       "    </tr>\n",
       "    <tr>\n",
       "      <th>2</th>\n",
       "      <td>c</td>\n",
       "      <td>c1</td>\n",
       "      <td>0.239692</td>\n",
       "    </tr>\n",
       "    <tr>\n",
       "      <th>3</th>\n",
       "      <td>d</td>\n",
       "      <td>c1</td>\n",
       "      <td>0.441268</td>\n",
       "    </tr>\n",
       "    <tr>\n",
       "      <th>4</th>\n",
       "      <td>a</td>\n",
       "      <td>c2</td>\n",
       "      <td>0.572559</td>\n",
       "    </tr>\n",
       "    <tr>\n",
       "      <th>5</th>\n",
       "      <td>b</td>\n",
       "      <td>c2</td>\n",
       "      <td>0.903502</td>\n",
       "    </tr>\n",
       "    <tr>\n",
       "      <th>6</th>\n",
       "      <td>c</td>\n",
       "      <td>c2</td>\n",
       "      <td>0.572559</td>\n",
       "    </tr>\n",
       "    <tr>\n",
       "      <th>7</th>\n",
       "      <td>d</td>\n",
       "      <td>c2</td>\n",
       "      <td>0.903502</td>\n",
       "    </tr>\n",
       "    <tr>\n",
       "      <th>8</th>\n",
       "      <td>a</td>\n",
       "      <td>c3</td>\n",
       "      <td>0.778623</td>\n",
       "    </tr>\n",
       "    <tr>\n",
       "      <th>9</th>\n",
       "      <td>b</td>\n",
       "      <td>c3</td>\n",
       "      <td>0.381652</td>\n",
       "    </tr>\n",
       "    <tr>\n",
       "      <th>10</th>\n",
       "      <td>c</td>\n",
       "      <td>c3</td>\n",
       "      <td>0.778623</td>\n",
       "    </tr>\n",
       "    <tr>\n",
       "      <th>11</th>\n",
       "      <td>d</td>\n",
       "      <td>c3</td>\n",
       "      <td>0.381652</td>\n",
       "    </tr>\n",
       "  </tbody>\n",
       "</table>\n",
       "</div>"
      ],
      "text/plain": [
       "   c4 variable      test\n",
       "0   a       c1  0.239692\n",
       "1   b       c1  0.441268\n",
       "2   c       c1  0.239692\n",
       "3   d       c1  0.441268\n",
       "4   a       c2  0.572559\n",
       "5   b       c2  0.903502\n",
       "6   c       c2  0.572559\n",
       "7   d       c2  0.903502\n",
       "8   a       c3  0.778623\n",
       "9   b       c3  0.381652\n",
       "10  c       c3  0.778623\n",
       "11  d       c3  0.381652"
      ]
     },
     "execution_count": 33,
     "metadata": {},
     "output_type": "execute_result"
    }
   ],
   "source": [
    "ccm = pd.melt(cc,\n",
    "        id_vars = [\"c4\"],\n",
    "        value_vars = [\"c1\", \"c2\", \"c3\"],\n",
    "        value_name = \"test\")\n",
    "ccm"
   ]
  },
  {
   "cell_type": "code",
   "execution_count": 34,
   "metadata": {
    "pycharm": {
     "name": "#%%\n"
    }
   },
   "outputs": [
    {
     "data": {
      "text/html": [
       "<div>\n",
       "<style scoped>\n",
       "    .dataframe tbody tr th:only-of-type {\n",
       "        vertical-align: middle;\n",
       "    }\n",
       "\n",
       "    .dataframe tbody tr th {\n",
       "        vertical-align: top;\n",
       "    }\n",
       "\n",
       "    .dataframe thead th {\n",
       "        text-align: right;\n",
       "    }\n",
       "</style>\n",
       "<table border=\"1\" class=\"dataframe\">\n",
       "  <thead>\n",
       "    <tr style=\"text-align: right;\">\n",
       "      <th></th>\n",
       "      <th>test</th>\n",
       "    </tr>\n",
       "    <tr>\n",
       "      <th>variable</th>\n",
       "      <th></th>\n",
       "    </tr>\n",
       "  </thead>\n",
       "  <tbody>\n",
       "    <tr>\n",
       "      <th>c1</th>\n",
       "      <td>1.361920</td>\n",
       "    </tr>\n",
       "    <tr>\n",
       "      <th>c2</th>\n",
       "      <td>2.952122</td>\n",
       "    </tr>\n",
       "    <tr>\n",
       "      <th>c3</th>\n",
       "      <td>2.320550</td>\n",
       "    </tr>\n",
       "  </tbody>\n",
       "</table>\n",
       "</div>"
      ],
      "text/plain": [
       "              test\n",
       "variable          \n",
       "c1        1.361920\n",
       "c2        2.952122\n",
       "c3        2.320550"
      ]
     },
     "execution_count": 34,
     "metadata": {},
     "output_type": "execute_result"
    }
   ],
   "source": [
    "ccm.groupby(by = 'variable').sum()"
   ]
  },
  {
   "cell_type": "code",
   "execution_count": 35,
   "metadata": {
    "pycharm": {
     "name": "#%%\n"
    }
   },
   "outputs": [
    {
     "data": {
      "text/plain": [
       "(         c1        c2        c3 c4  row\n",
       " 0  0.239692  0.572559  0.778623  a    1\n",
       " 1  0.441268  0.903502  0.381652  b    2\n",
       " 2  0.239692  0.572559  0.778623  c    3\n",
       " 3  0.441268  0.903502  0.381652  d    4,\n",
       "      c1    c2    c3 c4  row\n",
       " 0  0.24  0.57  0.78  a    1\n",
       " 1  0.44  0.90  0.38  b    2\n",
       " 2  0.24  0.57  0.78  c    3\n",
       " 3  0.44  0.90  0.38  d    4)"
      ]
     },
     "execution_count": 35,
     "metadata": {},
     "output_type": "execute_result"
    }
   ],
   "source": [
    "cc, cc.round(2)"
   ]
  },
  {
   "cell_type": "code",
   "execution_count": 36,
   "metadata": {
    "pycharm": {
     "name": "#%% select line by position\n"
    }
   },
   "outputs": [
    {
     "data": {
      "text/plain": [
       "(0    0.572559\n",
       " 1    0.903502\n",
       " 2    0.572559\n",
       " 3    0.903502\n",
       " Name: c2, dtype: float64,\n",
       "          c1        c2        c3 c4  row\n",
       " 1  0.441268  0.903502  0.381652  b    2\n",
       " 2  0.239692  0.572559  0.778623  c    3\n",
       " 3  0.441268  0.903502  0.381652  d    4)"
      ]
     },
     "execution_count": 36,
     "metadata": {},
     "output_type": "execute_result"
    }
   ],
   "source": [
    "cc.iloc[:, 1], cc.loc['1':'3'] # by position or by row names"
   ]
  },
  {
   "cell_type": "code",
   "execution_count": 38,
   "metadata": {
    "pycharm": {
     "name": "#%% select the line with condition.\n"
    }
   },
   "outputs": [
    {
     "data": {
      "text/html": [
       "<div>\n",
       "<style scoped>\n",
       "    .dataframe tbody tr th:only-of-type {\n",
       "        vertical-align: middle;\n",
       "    }\n",
       "\n",
       "    .dataframe tbody tr th {\n",
       "        vertical-align: top;\n",
       "    }\n",
       "\n",
       "    .dataframe thead th {\n",
       "        text-align: right;\n",
       "    }\n",
       "</style>\n",
       "<table border=\"1\" class=\"dataframe\">\n",
       "  <thead>\n",
       "    <tr style=\"text-align: right;\">\n",
       "      <th></th>\n",
       "      <th>c1</th>\n",
       "      <th>c2</th>\n",
       "      <th>c3</th>\n",
       "      <th>c4</th>\n",
       "      <th>row</th>\n",
       "    </tr>\n",
       "  </thead>\n",
       "  <tbody>\n",
       "    <tr>\n",
       "      <th>1</th>\n",
       "      <td>0.441268</td>\n",
       "      <td>0.903502</td>\n",
       "      <td>0.381652</td>\n",
       "      <td>b</td>\n",
       "      <td>2</td>\n",
       "    </tr>\n",
       "    <tr>\n",
       "      <th>3</th>\n",
       "      <td>0.441268</td>\n",
       "      <td>0.903502</td>\n",
       "      <td>0.381652</td>\n",
       "      <td>d</td>\n",
       "      <td>4</td>\n",
       "    </tr>\n",
       "  </tbody>\n",
       "</table>\n",
       "</div>"
      ],
      "text/plain": [
       "         c1        c2        c3 c4  row\n",
       "1  0.441268  0.903502  0.381652  b    2\n",
       "3  0.441268  0.903502  0.381652  d    4"
      ]
     },
     "execution_count": 38,
     "metadata": {},
     "output_type": "execute_result"
    }
   ],
   "source": [
    "cc.loc[(cc['c1'] > .26), :]"
   ]
  },
  {
   "cell_type": "code",
   "execution_count": 39,
   "metadata": {
    "pycharm": {
     "name": "#%% change value of particular position\n"
    }
   },
   "outputs": [
    {
     "data": {
      "text/html": [
       "<div>\n",
       "<style scoped>\n",
       "    .dataframe tbody tr th:only-of-type {\n",
       "        vertical-align: middle;\n",
       "    }\n",
       "\n",
       "    .dataframe tbody tr th {\n",
       "        vertical-align: top;\n",
       "    }\n",
       "\n",
       "    .dataframe thead th {\n",
       "        text-align: right;\n",
       "    }\n",
       "</style>\n",
       "<table border=\"1\" class=\"dataframe\">\n",
       "  <thead>\n",
       "    <tr style=\"text-align: right;\">\n",
       "      <th></th>\n",
       "      <th>c1</th>\n",
       "      <th>c2</th>\n",
       "      <th>c3</th>\n",
       "      <th>c4</th>\n",
       "      <th>row</th>\n",
       "    </tr>\n",
       "  </thead>\n",
       "  <tbody>\n",
       "    <tr>\n",
       "      <th>0</th>\n",
       "      <td>0.239692</td>\n",
       "      <td>0.572559</td>\n",
       "      <td>0.778623</td>\n",
       "      <td>a</td>\n",
       "      <td>1</td>\n",
       "    </tr>\n",
       "    <tr>\n",
       "      <th>1</th>\n",
       "      <td>0.441268</td>\n",
       "      <td>0.903502</td>\n",
       "      <td>0.777777</td>\n",
       "      <td>b</td>\n",
       "      <td>2</td>\n",
       "    </tr>\n",
       "    <tr>\n",
       "      <th>2</th>\n",
       "      <td>0.239692</td>\n",
       "      <td>0.572559</td>\n",
       "      <td>0.777777</td>\n",
       "      <td>c</td>\n",
       "      <td>3</td>\n",
       "    </tr>\n",
       "    <tr>\n",
       "      <th>3</th>\n",
       "      <td>0.441268</td>\n",
       "      <td>0.903502</td>\n",
       "      <td>0.381652</td>\n",
       "      <td>d</td>\n",
       "      <td>4</td>\n",
       "    </tr>\n",
       "  </tbody>\n",
       "</table>\n",
       "</div>"
      ],
      "text/plain": [
       "         c1        c2        c3 c4  row\n",
       "0  0.239692  0.572559  0.778623  a    1\n",
       "1  0.441268  0.903502  0.777777  b    2\n",
       "2  0.239692  0.572559  0.777777  c    3\n",
       "3  0.441268  0.903502  0.381652  d    4"
      ]
     },
     "execution_count": 39,
     "metadata": {},
     "output_type": "execute_result"
    }
   ],
   "source": [
    "cc.loc[['2', '1'], 'c3'] = 0.777777\n",
    "cc"
   ]
  },
  {
   "cell_type": "code",
   "execution_count": 40,
   "metadata": {
    "pycharm": {
     "name": "#%%\n"
    }
   },
   "outputs": [
    {
     "data": {
      "text/html": [
       "<div>\n",
       "<style scoped>\n",
       "    .dataframe tbody tr th:only-of-type {\n",
       "        vertical-align: middle;\n",
       "    }\n",
       "\n",
       "    .dataframe tbody tr th {\n",
       "        vertical-align: top;\n",
       "    }\n",
       "\n",
       "    .dataframe thead th {\n",
       "        text-align: right;\n",
       "    }\n",
       "</style>\n",
       "<table border=\"1\" class=\"dataframe\">\n",
       "  <thead>\n",
       "    <tr style=\"text-align: right;\">\n",
       "      <th></th>\n",
       "      <th>c1</th>\n",
       "      <th>c2</th>\n",
       "      <th>c3</th>\n",
       "      <th>c4</th>\n",
       "      <th>row</th>\n",
       "    </tr>\n",
       "  </thead>\n",
       "  <tbody>\n",
       "    <tr>\n",
       "      <th>0</th>\n",
       "      <td>0.239692</td>\n",
       "      <td>0.572559</td>\n",
       "      <td>0.778623</td>\n",
       "      <td>a</td>\n",
       "      <td>1.0</td>\n",
       "    </tr>\n",
       "    <tr>\n",
       "      <th>1</th>\n",
       "      <td>0.441268</td>\n",
       "      <td>0.903502</td>\n",
       "      <td>0.777777</td>\n",
       "      <td>b</td>\n",
       "      <td>2.0</td>\n",
       "    </tr>\n",
       "    <tr>\n",
       "      <th>2</th>\n",
       "      <td>0.239692</td>\n",
       "      <td>0.572559</td>\n",
       "      <td>0.777777</td>\n",
       "      <td>c</td>\n",
       "      <td>3.0</td>\n",
       "    </tr>\n",
       "  </tbody>\n",
       "</table>\n",
       "</div>"
      ],
      "text/plain": [
       "         c1        c2        c3 c4  row\n",
       "0  0.239692  0.572559  0.778623  a  1.0\n",
       "1  0.441268  0.903502  0.777777  b  2.0\n",
       "2  0.239692  0.572559  0.777777  c  3.0"
      ]
     },
     "execution_count": 40,
     "metadata": {},
     "output_type": "execute_result"
    }
   ],
   "source": [
    "cc.where(cc['c3'] > .7).dropna()"
   ]
  },
  {
   "cell_type": "code",
   "execution_count": 41,
   "metadata": {
    "pycharm": {
     "name": "#%%\n"
    }
   },
   "outputs": [
    {
     "data": {
      "text/html": [
       "<div>\n",
       "<style scoped>\n",
       "    .dataframe tbody tr th:only-of-type {\n",
       "        vertical-align: middle;\n",
       "    }\n",
       "\n",
       "    .dataframe tbody tr th {\n",
       "        vertical-align: top;\n",
       "    }\n",
       "\n",
       "    .dataframe thead th {\n",
       "        text-align: right;\n",
       "    }\n",
       "</style>\n",
       "<table border=\"1\" class=\"dataframe\">\n",
       "  <thead>\n",
       "    <tr style=\"text-align: right;\">\n",
       "      <th></th>\n",
       "      <th>c1</th>\n",
       "      <th>c2</th>\n",
       "    </tr>\n",
       "  </thead>\n",
       "  <tbody>\n",
       "    <tr>\n",
       "      <th>0</th>\n",
       "      <td>0.239692</td>\n",
       "      <td>0.572559</td>\n",
       "    </tr>\n",
       "    <tr>\n",
       "      <th>1</th>\n",
       "      <td>0.441268</td>\n",
       "      <td>0.903502</td>\n",
       "    </tr>\n",
       "    <tr>\n",
       "      <th>2</th>\n",
       "      <td>0.239692</td>\n",
       "      <td>0.572559</td>\n",
       "    </tr>\n",
       "    <tr>\n",
       "      <th>3</th>\n",
       "      <td>0.441268</td>\n",
       "      <td>0.903502</td>\n",
       "    </tr>\n",
       "  </tbody>\n",
       "</table>\n",
       "</div>"
      ],
      "text/plain": [
       "         c1        c2\n",
       "0  0.239692  0.572559\n",
       "1  0.441268  0.903502\n",
       "2  0.239692  0.572559\n",
       "3  0.441268  0.903502"
      ]
     },
     "execution_count": 41,
     "metadata": {},
     "output_type": "execute_result"
    }
   ],
   "source": [
    "cc.filter(items=['c1', 'c2']) #select by col\n"
   ]
  },
  {
   "cell_type": "code",
   "execution_count": 42,
   "metadata": {
    "pycharm": {
     "name": "#%%\n"
    }
   },
   "outputs": [
    {
     "data": {
      "text/html": [
       "<div>\n",
       "<style scoped>\n",
       "    .dataframe tbody tr th:only-of-type {\n",
       "        vertical-align: middle;\n",
       "    }\n",
       "\n",
       "    .dataframe tbody tr th {\n",
       "        vertical-align: top;\n",
       "    }\n",
       "\n",
       "    .dataframe thead th {\n",
       "        text-align: right;\n",
       "    }\n",
       "</style>\n",
       "<table border=\"1\" class=\"dataframe\">\n",
       "  <thead>\n",
       "    <tr style=\"text-align: right;\">\n",
       "      <th></th>\n",
       "      <th>c1</th>\n",
       "      <th>c2</th>\n",
       "      <th>c3</th>\n",
       "      <th>c4</th>\n",
       "      <th>row</th>\n",
       "    </tr>\n",
       "  </thead>\n",
       "  <tbody>\n",
       "    <tr>\n",
       "      <th>1</th>\n",
       "      <td>0.441268</td>\n",
       "      <td>0.903502</td>\n",
       "      <td>0.777777</td>\n",
       "      <td>b</td>\n",
       "      <td>2</td>\n",
       "    </tr>\n",
       "    <tr>\n",
       "      <th>2</th>\n",
       "      <td>0.239692</td>\n",
       "      <td>0.572559</td>\n",
       "      <td>0.777777</td>\n",
       "      <td>c</td>\n",
       "      <td>3</td>\n",
       "    </tr>\n",
       "  </tbody>\n",
       "</table>\n",
       "</div>"
      ],
      "text/plain": [
       "         c1        c2        c3 c4  row\n",
       "1  0.441268  0.903502  0.777777  b    2\n",
       "2  0.239692  0.572559  0.777777  c    3"
      ]
     },
     "execution_count": 42,
     "metadata": {},
     "output_type": "execute_result"
    }
   ],
   "source": [
    "cc.filter(items = ['1','2'], axis = 0) #select by row"
   ]
  },
  {
   "cell_type": "code",
   "execution_count": 43,
   "metadata": {
    "pycharm": {
     "name": "#%%\n"
    }
   },
   "outputs": [
    {
     "data": {
      "text/html": [
       "<div>\n",
       "<style scoped>\n",
       "    .dataframe tbody tr th:only-of-type {\n",
       "        vertical-align: middle;\n",
       "    }\n",
       "\n",
       "    .dataframe tbody tr th {\n",
       "        vertical-align: top;\n",
       "    }\n",
       "\n",
       "    .dataframe thead th {\n",
       "        text-align: right;\n",
       "    }\n",
       "</style>\n",
       "<table border=\"1\" class=\"dataframe\">\n",
       "  <thead>\n",
       "    <tr style=\"text-align: right;\">\n",
       "      <th></th>\n",
       "      <th>c1</th>\n",
       "      <th>c2</th>\n",
       "      <th>c3</th>\n",
       "      <th>c4</th>\n",
       "      <th>row</th>\n",
       "    </tr>\n",
       "  </thead>\n",
       "  <tbody>\n",
       "    <tr>\n",
       "      <th>1</th>\n",
       "      <td>0.441268</td>\n",
       "      <td>0.903502</td>\n",
       "      <td>0.777777</td>\n",
       "      <td>b</td>\n",
       "      <td>2</td>\n",
       "    </tr>\n",
       "    <tr>\n",
       "      <th>2</th>\n",
       "      <td>0.239692</td>\n",
       "      <td>0.572559</td>\n",
       "      <td>0.777777</td>\n",
       "      <td>c</td>\n",
       "      <td>3</td>\n",
       "    </tr>\n",
       "    <tr>\n",
       "      <th>3</th>\n",
       "      <td>0.441268</td>\n",
       "      <td>0.903502</td>\n",
       "      <td>0.381652</td>\n",
       "      <td>d</td>\n",
       "      <td>4</td>\n",
       "    </tr>\n",
       "    <tr>\n",
       "      <th>0</th>\n",
       "      <td>0.239692</td>\n",
       "      <td>0.572559</td>\n",
       "      <td>0.778623</td>\n",
       "      <td>a</td>\n",
       "      <td>1</td>\n",
       "    </tr>\n",
       "  </tbody>\n",
       "</table>\n",
       "</div>"
      ],
      "text/plain": [
       "         c1        c2        c3 c4  row\n",
       "1  0.441268  0.903502  0.777777  b    2\n",
       "2  0.239692  0.572559  0.777777  c    3\n",
       "3  0.441268  0.903502  0.381652  d    4\n",
       "0  0.239692  0.572559  0.778623  a    1"
      ]
     },
     "execution_count": 43,
     "metadata": {},
     "output_type": "execute_result"
    }
   ],
   "source": [
    "cc.reindex(['1','2','3', '0']) # 换一下row之间的position\n"
   ]
  },
  {
   "cell_type": "code",
   "execution_count": 44,
   "metadata": {
    "pycharm": {
     "name": "#%%\n"
    }
   },
   "outputs": [
    {
     "data": {
      "text/plain": [
       "array([0.77862318, 0.777777  , 0.38165196])"
      ]
     },
     "execution_count": 44,
     "metadata": {},
     "output_type": "execute_result"
    }
   ],
   "source": [
    "cc['c3'].unique()"
   ]
  },
  {
   "cell_type": "code",
   "execution_count": 8,
   "metadata": {
    "pycharm": {
     "name": "#%%\n"
    }
   },
   "outputs": [
    {
     "data": {
      "text/plain": "         c1        c2        c3 c4  row\n2  0.239692  0.572559  0.777777  d  3.0",
      "text/html": "<div>\n<style scoped>\n    .dataframe tbody tr th:only-of-type {\n        vertical-align: middle;\n    }\n\n    .dataframe tbody tr th {\n        vertical-align: top;\n    }\n\n    .dataframe thead th {\n        text-align: right;\n    }\n</style>\n<table border=\"1\" class=\"dataframe\">\n  <thead>\n    <tr style=\"text-align: right;\">\n      <th></th>\n      <th>c1</th>\n      <th>c2</th>\n      <th>c3</th>\n      <th>c4</th>\n      <th>row</th>\n    </tr>\n  </thead>\n  <tbody>\n    <tr>\n      <th>2</th>\n      <td>0.239692</td>\n      <td>0.572559</td>\n      <td>0.777777</td>\n      <td>d</td>\n      <td>3.0</td>\n    </tr>\n  </tbody>\n</table>\n</div>"
     },
     "execution_count": 8,
     "metadata": {},
     "output_type": "execute_result"
    }
   ],
   "source": [
    "cc.where(cc.duplicated('c3') == True).dropna()\n"
   ]
  },
  {
   "cell_type": "code",
   "execution_count": 5,
   "metadata": {
    "pycharm": {
     "name": "#%%\n"
    }
   },
   "outputs": [],
   "source": [
    "cc.loc[['3'],['c4']] = \"d\"\n",
    "cc.iloc[2,3] = 'd'"
   ]
  },
  {
   "cell_type": "code",
   "execution_count": 9,
   "metadata": {
    "pycharm": {
     "name": "#%%\n"
    }
   },
   "outputs": [
    {
     "data": {
      "text/plain": "          c1        c2\nc4                    \na   0.239692  0.572559\nb   0.441268  0.903502\nd   0.340480  0.738031",
      "text/html": "<div>\n<style scoped>\n    .dataframe tbody tr th:only-of-type {\n        vertical-align: middle;\n    }\n\n    .dataframe tbody tr th {\n        vertical-align: top;\n    }\n\n    .dataframe thead th {\n        text-align: right;\n    }\n</style>\n<table border=\"1\" class=\"dataframe\">\n  <thead>\n    <tr style=\"text-align: right;\">\n      <th></th>\n      <th>c1</th>\n      <th>c2</th>\n    </tr>\n    <tr>\n      <th>c4</th>\n      <th></th>\n      <th></th>\n    </tr>\n  </thead>\n  <tbody>\n    <tr>\n      <th>a</th>\n      <td>0.239692</td>\n      <td>0.572559</td>\n    </tr>\n    <tr>\n      <th>b</th>\n      <td>0.441268</td>\n      <td>0.903502</td>\n    </tr>\n    <tr>\n      <th>d</th>\n      <td>0.340480</td>\n      <td>0.738031</td>\n    </tr>\n  </tbody>\n</table>\n</div>"
     },
     "execution_count": 9,
     "metadata": {},
     "output_type": "execute_result"
    }
   ],
   "source": [
    "cc.groupby('c4').agg({\n",
    "    'c1': lambda x:sum(x)/len(x),\n",
    "    'c2': np.mean\n",
    "})"
   ]
  },
  {
   "cell_type": "code",
   "execution_count": 48,
   "metadata": {
    "pycharm": {
     "name": "#%%\n"
    }
   },
   "outputs": [
    {
     "data": {
      "text/html": [
       "<div>\n",
       "<style scoped>\n",
       "    .dataframe tbody tr th:only-of-type {\n",
       "        vertical-align: middle;\n",
       "    }\n",
       "\n",
       "    .dataframe tbody tr th {\n",
       "        vertical-align: top;\n",
       "    }\n",
       "\n",
       "    .dataframe thead th {\n",
       "        text-align: right;\n",
       "    }\n",
       "</style>\n",
       "<table border=\"1\" class=\"dataframe\">\n",
       "  <thead>\n",
       "    <tr style=\"text-align: right;\">\n",
       "      <th></th>\n",
       "      <th>c1</th>\n",
       "      <th>c2</th>\n",
       "      <th>c3</th>\n",
       "      <th>c4</th>\n",
       "      <th>row</th>\n",
       "    </tr>\n",
       "  </thead>\n",
       "  <tbody>\n",
       "    <tr>\n",
       "      <th>0</th>\n",
       "      <td>0.239692</td>\n",
       "      <td>0.572559</td>\n",
       "      <td>0.778623</td>\n",
       "      <td>a</td>\n",
       "      <td>1</td>\n",
       "    </tr>\n",
       "    <tr>\n",
       "      <th>1</th>\n",
       "      <td>0.441268</td>\n",
       "      <td>0.903502</td>\n",
       "      <td>0.777777</td>\n",
       "      <td>b</td>\n",
       "      <td>2</td>\n",
       "    </tr>\n",
       "    <tr>\n",
       "      <th>2</th>\n",
       "      <td>0.239692</td>\n",
       "      <td>0.572559</td>\n",
       "      <td>0.777777</td>\n",
       "      <td>d</td>\n",
       "      <td>3</td>\n",
       "    </tr>\n",
       "    <tr>\n",
       "      <th>3</th>\n",
       "      <td>0.441268</td>\n",
       "      <td>0.903502</td>\n",
       "      <td>0.381652</td>\n",
       "      <td>d</td>\n",
       "      <td>4</td>\n",
       "    </tr>\n",
       "  </tbody>\n",
       "</table>\n",
       "</div>"
      ],
      "text/plain": [
       "         c1        c2        c3 c4  row\n",
       "0  0.239692  0.572559  0.778623  a    1\n",
       "1  0.441268  0.903502  0.777777  b    2\n",
       "2  0.239692  0.572559  0.777777  d    3\n",
       "3  0.441268  0.903502  0.381652  d    4"
      ]
     },
     "execution_count": 48,
     "metadata": {},
     "output_type": "execute_result"
    }
   ],
   "source": [
    "cc"
   ]
  },
  {
   "cell_type": "code",
   "execution_count": 236,
   "metadata": {
    "pycharm": {
     "name": "#%%\n"
    }
   },
   "outputs": [
    {
     "data": {
      "text/html": [
       "<div>\n",
       "<style scoped>\n",
       "    .dataframe tbody tr th:only-of-type {\n",
       "        vertical-align: middle;\n",
       "    }\n",
       "\n",
       "    .dataframe tbody tr th {\n",
       "        vertical-align: top;\n",
       "    }\n",
       "\n",
       "    .dataframe thead th {\n",
       "        text-align: right;\n",
       "    }\n",
       "</style>\n",
       "<table border=\"1\" class=\"dataframe\">\n",
       "  <thead>\n",
       "    <tr style=\"text-align: right;\">\n",
       "      <th></th>\n",
       "      <th>c1</th>\n",
       "      <th>c2</th>\n",
       "      <th>c3</th>\n",
       "      <th>c4</th>\n",
       "      <th>row</th>\n",
       "    </tr>\n",
       "  </thead>\n",
       "  <tbody>\n",
       "    <tr>\n",
       "      <th>0</th>\n",
       "      <td>0.052290</td>\n",
       "      <td>0.597997</td>\n",
       "      <td>0.367256</td>\n",
       "      <td>a</td>\n",
       "      <td>1</td>\n",
       "    </tr>\n",
       "    <tr>\n",
       "      <th>1</th>\n",
       "      <td>0.393368</td>\n",
       "      <td>0.765182</td>\n",
       "      <td>0.777777</td>\n",
       "      <td>b</td>\n",
       "      <td>2</td>\n",
       "    </tr>\n",
       "    <tr>\n",
       "      <th>2</th>\n",
       "      <td>0.052290</td>\n",
       "      <td>0.597997</td>\n",
       "      <td>0.777777</td>\n",
       "      <td>c</td>\n",
       "      <td>3</td>\n",
       "    </tr>\n",
       "    <tr>\n",
       "      <th>3</th>\n",
       "      <td>0.393368</td>\n",
       "      <td>0.765182</td>\n",
       "      <td>0.264442</td>\n",
       "      <td>d</td>\n",
       "      <td>4</td>\n",
       "    </tr>\n",
       "  </tbody>\n",
       "</table>\n",
       "</div>"
      ],
      "text/plain": [
       "         c1        c2        c3 c4  row\n",
       "0  0.052290  0.597997  0.367256  a    1\n",
       "1  0.393368  0.765182  0.777777  b    2\n",
       "2  0.052290  0.597997  0.777777  c    3\n",
       "3  0.393368  0.765182  0.264442  d    4"
      ]
     },
     "execution_count": 236,
     "metadata": {},
     "output_type": "execute_result"
    }
   ],
   "source": [
    "# pd.merge(data1, data2,\n",
    "#          how = 'left',\n",
    "#          on = 'X1')\n",
    "\n",
    "#inner , outer # 取两个dataframe的交集和并集\n",
    "\n",
    "\n",
    "# 或者\n",
    "# data1.join(data2, how = '')\n",
    "\n",
    "# 或者\n",
    "# pd.concat([data1, data2], axis = 1, join = '')\n"
   ]
  },
  {
   "cell_type": "code",
   "execution_count": 258,
   "metadata": {
    "pycharm": {
     "name": "#%%\n"
    }
   },
   "outputs": [],
   "source": [
    "cc.replace('a', 'f') # 自动检查并替换"
   ]
  },
  {
   "cell_type": "code",
   "execution_count": 10,
   "metadata": {
    "ExecuteTime": {
     "end_time": "2021-01-31T12:26:59.443885Z",
     "start_time": "2021-01-31T12:26:59.436343Z"
    },
    "pycharm": {
     "name": "#%%\n"
    }
   },
   "outputs": [
    {
     "data": {
      "text/plain": "'02/01/21'"
     },
     "execution_count": 10,
     "metadata": {},
     "output_type": "execute_result"
    }
   ],
   "source": [
    "from datetime import datetime, date\n",
    "\n",
    "datetime.now(), date.today()\n",
    "datetime.now().strftime(\"%D\")"
   ]
  },
  {
   "cell_type": "code",
   "execution_count": 11,
   "metadata": {
    "ExecuteTime": {
     "end_time": "2021-01-31T12:28:35.778142Z",
     "start_time": "2021-01-31T12:28:35.768435Z"
    }
   },
   "outputs": [],
   "source": [
    "cc['c8'] = pd.date_range('2000-1-1', periods=4,\n",
    " freq='M')"
   ]
  },
  {
   "cell_type": "code",
   "execution_count": 15,
   "metadata": {
    "ExecuteTime": {
     "end_time": "2021-01-31T12:51:29.246530Z",
     "start_time": "2021-01-31T12:51:29.243525Z"
    }
   },
   "outputs": [],
   "source": [
    "import seaborn as sns"
   ]
  },
  {
   "cell_type": "code",
   "execution_count": 23,
   "metadata": {
    "ExecuteTime": {
     "end_time": "2021-01-31T12:51:33.872560Z",
     "start_time": "2021-01-31T12:51:33.852617Z"
    }
   },
   "outputs": [
    {
     "data": {
      "text/plain": "         c1        c2        c3 c4  row         c8\n0  0.239692  0.572559  0.778623  a    1 2000-01-31\n1  0.441268  0.903502  0.777777  b    2 2000-02-29\n2  0.239692  0.572559  0.777777  d    3 2000-03-31\n3  0.441268  0.903502  0.381652  d    4 2000-04-30",
      "text/html": "<div>\n<style scoped>\n    .dataframe tbody tr th:only-of-type {\n        vertical-align: middle;\n    }\n\n    .dataframe tbody tr th {\n        vertical-align: top;\n    }\n\n    .dataframe thead th {\n        text-align: right;\n    }\n</style>\n<table border=\"1\" class=\"dataframe\">\n  <thead>\n    <tr style=\"text-align: right;\">\n      <th></th>\n      <th>c1</th>\n      <th>c2</th>\n      <th>c3</th>\n      <th>c4</th>\n      <th>row</th>\n      <th>c8</th>\n    </tr>\n  </thead>\n  <tbody>\n    <tr>\n      <th>0</th>\n      <td>0.239692</td>\n      <td>0.572559</td>\n      <td>0.778623</td>\n      <td>a</td>\n      <td>1</td>\n      <td>2000-01-31</td>\n    </tr>\n    <tr>\n      <th>1</th>\n      <td>0.441268</td>\n      <td>0.903502</td>\n      <td>0.777777</td>\n      <td>b</td>\n      <td>2</td>\n      <td>2000-02-29</td>\n    </tr>\n    <tr>\n      <th>2</th>\n      <td>0.239692</td>\n      <td>0.572559</td>\n      <td>0.777777</td>\n      <td>d</td>\n      <td>3</td>\n      <td>2000-03-31</td>\n    </tr>\n    <tr>\n      <th>3</th>\n      <td>0.441268</td>\n      <td>0.903502</td>\n      <td>0.381652</td>\n      <td>d</td>\n      <td>4</td>\n      <td>2000-04-30</td>\n    </tr>\n  </tbody>\n</table>\n</div>"
     },
     "execution_count": 23,
     "metadata": {},
     "output_type": "execute_result"
    }
   ],
   "source": [
    "cc"
   ]
  },
  {
   "cell_type": "code",
   "execution_count": 26,
   "metadata": {
    "ExecuteTime": {
     "end_time": "2021-01-31T12:52:59.352824Z",
     "start_time": "2021-01-31T12:52:59.338966Z"
    }
   },
   "outputs": [],
   "source": [
    "ccplt = cc.melt(value_vars=['c1','c2', 'c3'], id_vars=['row', 'c4', 'c8'])\n"
   ]
  },
  {
   "cell_type": "code",
   "execution_count": 36,
   "metadata": {},
   "outputs": [],
   "source": [
    "# import os\n",
    "# os.getcwd()\n",
    "\n",
    "sns.set_style('whitegrid')"
   ]
  },
  {
   "cell_type": "code",
   "execution_count": 37,
   "outputs": [
    {
     "data": {
      "text/plain": "<AxesSubplot:xlabel='c8', ylabel='value'>"
     },
     "execution_count": 37,
     "metadata": {},
     "output_type": "execute_result"
    },
    {
     "data": {
      "text/plain": "<Figure size 432x288 with 1 Axes>",
      "image/png": "[encoded data removed]"
     },
     "metadata": {},
     "output_type": "display_data"
    }
   ],
   "source": [
    "sns.pointplot(data = ccplt,\n",
    "              x = 'c8',\n",
    "              y = 'value',\n",
    "              hue = 'variable')\n"
   ],
   "metadata": {
    "collapsed": false,
    "pycharm": {
     "name": "#%%\n"
    }
   }
  },
  {
   "cell_type": "markdown",
   "source": [
    "---\n"
   ],
   "metadata": {
    "collapsed": false,
    "pycharm": {
     "name": "#%% md\n"
    }
   }
  },
  {
   "cell_type": "markdown",
   "source": [
    "# ok pytorch"
   ],
   "metadata": {
    "collapsed": false,
    "pycharm": {
     "name": "#%% md\n"
    }
   }
  },
  {
   "cell_type": "code",
   "execution_count": 2,
   "outputs": [],
   "source": [
    "import torch, torchvision\n",
    "model = torchvision.models.resnet18(pretrained=True)\n",
    "data = torch.rand(1, 3, 64, 64)\n",
    "labels = torch.rand(1, 1000)"
   ],
   "metadata": {
    "collapsed": false,
    "pycharm": {
     "name": "#%%\n"
    }
   }
  },
  {
   "cell_type": "code",
   "execution_count": 3,
   "outputs": [],
   "source": [
    "prediction = model(data)"
   ],
   "metadata": {
    "collapsed": false,
    "pycharm": {
     "name": "#%%\n"
    }
   }
  },
  {
   "cell_type": "code",
   "execution_count": 4,
   "outputs": [],
   "source": [
    "loss = (prediction - labels).sum()\n",
    "loss.backward() # backward pass"
   ],
   "metadata": {
    "collapsed": false,
    "pycharm": {
     "name": "#%%\n"
    }
   }
  },
  {
   "cell_type": "code",
   "execution_count": 5,
   "outputs": [],
   "source": [
    "optim = torch.optim.SGD(model.parameters(), lr=1e-2, momentum=0.9)\n",
    "\n",
    "optim.step() #gradient descent"
   ],
   "metadata": {
    "collapsed": false,
    "pycharm": {
     "name": "#%%\n"
    }
   }
  },
  {
   "cell_type": "code",
   "execution_count": 10,
   "outputs": [
    {
     "data": {
      "text/plain": "torch.Size([1, 3, 64, 64])"
     },
     "execution_count": 10,
     "metadata": {},
     "output_type": "execute_result"
    }
   ],
   "source": [
    "data.shape"
   ],
   "metadata": {
    "collapsed": false,
    "pycharm": {
     "name": "#%%\n"
    }
   }
  },
  {
   "cell_type": "code",
   "execution_count": 18,
   "outputs": [
    {
     "data": {
      "text/plain": "tensor([[-5.7269e-01, -4.8723e-01, -4.8056e-01, -1.4599e+00, -6.9190e-01,\n         -2.7951e-01, -5.3386e-01,  8.3904e-01,  3.6172e-01, -6.4066e-01,\n         -1.1808e+00, -9.2440e-01, -2.1104e-01, -8.3344e-01, -8.9138e-01,\n         -5.1262e-01, -8.0102e-01, -1.1769e-01, -1.3032e-01, -4.0559e-01,\n         -1.4793e+00, -6.0585e-01, -1.2788e+00,  3.6854e-01, -9.9827e-01,\n         -1.1384e+00, -1.0220e+00, -1.4420e+00, -8.5353e-01, -2.5417e-01,\n         -1.0676e+00, -1.0194e+00, -6.9613e-01, -6.2965e-01, -5.3370e-01,\n         -5.6870e-01,  5.1414e-01, -8.2148e-01, -6.9046e-01, -9.1253e-02,\n         -8.2185e-01, -1.1514e+00, -1.2187e+00, -4.1369e-01, -7.9397e-01,\n         -7.9996e-01, -9.3541e-01, -6.1480e-01, -1.4272e+00, -1.2517e+00,\n         -7.2302e-01,  3.3922e-01, -6.0832e-01, -7.6899e-01, -6.5457e-01,\n         -1.2473e+00, -6.4672e-01, -1.9009e+00, -6.5482e-01, -6.0030e-01,\n          4.5608e-01, -1.5508e-01, -4.0967e-01,  1.5509e-01, -6.9229e-01,\n         -1.6832e-01, -5.2948e-01, -5.1249e-01, -1.0353e+00, -1.2766e+00,\n         -1.4601e+00,  4.2450e-01, -1.2328e+00, -2.3065e-01, -8.8908e-01,\n         -1.3638e+00,  2.8429e-01, -3.0869e-01,  2.4112e-01,  2.3519e-01,\n         -7.1004e-01, -1.6615e+00, -2.7716e-02, -7.1634e-01, -5.2307e-01,\n          5.9548e-02,  1.0683e-01,  2.6293e-01,  6.1008e-02, -7.3674e-01,\n         -1.1130e+00, -8.1325e-01, -1.9246e+00, -5.9474e-02,  1.8203e-01,\n         -1.8463e+00, -4.5981e-01, -4.0810e-01, -1.2695e+00, -1.4103e-01,\n         -1.2873e+00, -1.0392e+00, -9.8817e-01, -2.2785e-01, -2.7112e-01,\n         -6.0556e-01, -4.8242e-01, -8.9742e-01, -7.2572e-01, -1.3009e+00,\n         -1.2896e+00, -6.0111e-01,  1.1346e+00,  4.0053e-01,  3.3838e-01,\n         -6.4733e-01, -5.4981e-01, -4.2951e-01,  7.9923e-01, -3.4982e-01,\n         -5.3559e-01,  2.3505e-01,  5.7637e-01,  1.2607e-01,  1.1424e+00,\n          8.3145e-02,  5.7652e-01, -1.4081e+00, -1.2512e+00, -1.0965e+00,\n         -1.2528e+00, -1.0581e+00, -8.7377e-01, -1.2110e+00, -3.1129e-01,\n         -1.1933e+00, -8.9494e-01, -6.6544e-01, -1.2432e+00, -1.6702e+00,\n         -1.4693e+00, -2.0003e+00, -2.0659e+00, -1.5118e+00, -6.2505e-01,\n         -3.8655e-01, -1.0041e+00, -2.0282e+00, -1.2078e+00, -1.2889e+00,\n          4.6366e-01,  1.5538e+00, -9.0037e-01, -4.3945e-01,  1.3111e-02,\n          1.4264e-01, -2.0484e-01, -1.5995e-01,  2.3218e-01,  2.6277e-01,\n          6.0893e-01,  7.8094e-01,  2.6649e-01,  6.2828e-01,  3.1450e-01,\n         -1.4442e-01, -1.9610e-01, -3.0995e-01,  7.8592e-01, -3.2443e-01,\n         -9.9281e-02,  8.9263e-01,  4.6716e-01,  4.9141e-01,  3.9344e-01,\n         -6.8541e-01,  8.4446e-02,  7.4319e-02,  5.7517e-01,  7.2798e-01,\n          7.2458e-01,  1.7263e-02,  6.8439e-01,  5.3271e-02,  7.4563e-01,\n          8.5185e-01,  8.8702e-01,  3.1120e-01,  2.5599e-01,  6.2278e-01,\n         -7.0957e-01,  5.0013e-01,  4.6172e-01,  7.4707e-01, -5.9759e-01,\n          9.7812e-01, -1.1919e-02,  1.4585e-01,  1.3852e-01,  7.4099e-01,\n          1.0164e-01,  3.0017e-01,  7.7625e-01,  6.4371e-01,  1.2789e-01,\n          4.3646e-01,  1.6708e-03,  6.9631e-01,  1.0875e+00,  5.3985e-01,\n         -2.2997e-01,  4.7893e-01,  3.7472e-01,  3.4177e-01,  2.9495e-01,\n          5.6291e-01,  5.3208e-02,  5.5955e-01, -6.9999e-03,  8.1599e-01,\n          3.6679e-01, -6.3383e-02,  3.3616e-02,  9.6832e-01,  4.6630e-01,\n          6.6383e-01,  2.7690e-01,  9.9520e-01, -2.2554e-01, -1.6494e-01,\n          1.9434e-01,  6.9439e-01,  6.1147e-01, -1.2842e-01,  9.7517e-01,\n          9.7348e-01,  4.9932e-01,  5.1060e-01,  1.0657e+00,  3.9858e-01,\n          8.6084e-01,  2.3657e-01,  5.8320e-01,  4.5700e-01, -1.4769e-01,\n          5.3908e-01,  3.3345e-01,  2.8091e-01,  7.6852e-01,  3.2006e-01,\n          6.5525e-01,  5.5845e-01, -7.7296e-01,  8.9303e-01,  8.1039e-01,\n         -4.4662e-01,  6.3361e-01,  2.5774e-01, -3.2162e-01,  2.6424e-01,\n          1.1512e-01, -5.8269e-01, -9.4405e-03,  4.0400e-01,  8.3771e-01,\n          1.0801e+00,  5.0257e-01,  8.7948e-01, -4.9950e-03, -2.7889e-01,\n         -7.3046e-01, -8.3891e-01, -3.5208e-01,  8.6750e-01, -1.0035e+00,\n         -9.0721e-01, -1.0110e+00, -6.3419e-01, -1.2267e+00, -5.9719e-01,\n         -3.5324e-01,  5.5066e-01,  5.9207e-01, -1.4288e-01,  1.8026e-01,\n          6.1093e-01, -3.5357e-01, -6.2503e-01, -1.1384e+00, -1.8914e+00,\n         -1.1064e+00, -1.3259e+00, -3.4089e-01, -1.1067e+00, -8.5598e-01,\n         -6.0728e-01, -8.3849e-01, -1.2852e+00, -4.6782e-01, -3.9165e-01,\n         -1.9882e+00, -5.3253e-01, -4.1280e-01, -4.5054e-01, -1.0073e+00,\n         -6.1100e-01,  2.7650e-01, -7.8157e-01, -1.1479e+00, -1.5564e-01,\n          5.6357e-01, -3.9798e-01, -4.0017e-01, -2.2143e-02,  7.8583e-01,\n         -6.5552e-01, -9.9194e-01, -1.3313e+00, -1.2561e+00, -6.4707e-01,\n         -1.5460e+00, -1.2833e+00, -1.3565e+00, -1.5624e+00, -1.4023e+00,\n         -1.6599e+00, -1.1899e+00,  6.5962e-03, -1.2498e-01, -1.9104e-01,\n         -1.7065e-01, -4.3553e-01, -1.4597e-01,  5.4258e-01, -6.4909e-01,\n         -8.3752e-01, -1.5110e+00,  1.9413e-01,  6.2318e-01, -7.5452e-01,\n         -4.5355e-01,  5.7633e-01, -4.1790e-01, -1.4940e+00, -5.8854e-01,\n          6.3235e-01, -8.2149e-01, -1.3419e+00,  2.9892e-01, -1.0235e+00,\n         -8.5841e-01, -2.3119e+00, -1.2102e+00, -7.5863e-01, -8.9550e-01,\n          5.8842e-01,  1.2104e+00,  2.3129e-01,  4.7760e-01,  5.0543e-01,\n         -1.1190e-01,  4.6910e-01, -3.0648e-02,  3.8331e-01, -2.5653e-01,\n         -3.8784e-01, -9.3300e-01, -4.3748e-01, -6.4868e-01, -4.5046e-01,\n         -6.8302e-01, -1.2803e-01, -5.0129e-01, -1.4813e-02, -1.2645e-01,\n         -7.1481e-01, -9.9634e-01,  5.1731e-01,  1.1518e-01,  4.1062e-02,\n          7.3808e-01, -1.5604e-01,  7.4445e-02, -6.6785e-01, -4.3671e-01,\n         -7.4916e-01, -1.0439e+00, -7.5260e-01, -8.9967e-01, -1.3497e-01,\n          8.4051e-01,  2.0393e-01, -1.3919e+00, -1.3154e+00,  1.9692e-02,\n          4.9807e-01, -9.2175e-01, -4.1591e-01,  8.8676e-02,  1.1933e-01,\n         -7.1412e-01,  7.3028e-01,  2.8484e-01, -2.4381e+00, -2.2471e+00,\n         -6.7046e-01, -1.8880e-01, -4.8094e-01, -2.3168e-01,  1.1773e+00,\n         -1.2496e-01,  5.6785e-02,  2.0783e+00,  8.3250e-01,  4.0326e-01,\n          8.2569e-01, -6.1784e-01,  4.3139e-01, -3.5935e-02,  7.7201e-01,\n          1.0312e+00,  1.2034e+00, -5.2592e-02,  2.4968e-01,  1.6629e-01,\n         -6.1622e-01,  6.0026e-02,  1.2597e+00,  1.6656e+00,  4.5522e-01,\n         -4.5438e-01, -2.1220e-02,  4.3606e-01,  8.6699e-01,  6.3259e-01,\n          1.0896e+00, -4.4862e-01, -3.4740e-01,  4.0362e-01,  3.7307e-01,\n          1.0579e+00,  5.7613e-01,  9.6182e-02, -6.3166e-01, -3.7890e-01,\n          1.9742e-01,  2.4887e-01,  1.3980e+00,  9.0051e-01, -6.0514e-01,\n         -3.2362e-01,  5.4478e-01,  6.8252e-01, -3.8689e-01, -2.1517e-01,\n          7.5123e-01,  1.2034e+00,  1.1654e+00, -4.5411e-01,  5.8291e-01,\n         -8.8193e-01,  3.2733e-01,  1.4641e+00,  2.5239e+00,  7.3047e-01,\n         -2.6009e-01, -1.2916e+00, -3.6489e-01, -6.9459e-02,  1.4928e+00,\n          1.3555e+00,  5.7968e-01,  5.6639e-02,  8.4405e-01, -9.5862e-02,\n          1.0675e-01,  2.0742e-01,  2.2439e-01,  5.8442e-01,  5.4712e-01,\n         -2.3010e-01,  6.0115e-02,  2.8486e-01, -1.0223e+00, -1.6312e+00,\n         -1.2711e-01, -1.2945e-01,  1.3178e+00,  1.6265e+00,  1.3156e+00,\n          2.1161e-01,  5.4928e-01,  5.6685e-01, -1.1892e+00,  1.2083e+00,\n         -9.7139e-01, -1.6337e-01, -4.8663e-01, -4.7357e-01,  9.8638e-01,\n         -1.5112e+00,  3.8662e-01,  1.1668e+00,  4.2474e-01,  1.2407e+00,\n          1.1771e+00,  1.0926e+00,  6.2002e-01,  4.4834e-01,  3.6282e-01,\n         -1.2856e+00, -9.7146e-01,  7.2631e-01,  4.2263e-01,  8.0172e-01,\n          1.6795e+00,  2.9252e-01, -1.6590e-01,  1.3139e+00,  5.4473e-01,\n         -7.6992e-01,  3.9454e-01,  1.0994e+00,  1.8312e+00,  9.1530e-02,\n         -9.6331e-01, -1.3878e-01, -4.8146e-01,  2.8809e-01, -5.2213e-02,\n          7.0019e-01,  2.0148e-01,  1.1889e-01, -1.0231e+00,  3.6772e-01,\n         -4.2421e-01, -5.2922e-01, -6.8651e-01,  1.0661e-01,  1.2013e+00,\n         -1.2852e+00,  1.6709e+00,  1.1170e+00,  9.8164e-01,  4.6812e-01,\n          7.0193e-01,  6.9036e-01, -2.1468e+00, -1.4958e+00, -3.5914e-01,\n         -4.9146e-01,  2.0967e-01,  6.5979e-01, -1.8989e-01, -1.9244e+00,\n         -6.6489e-01,  1.8571e-01, -1.7474e-01,  1.2601e+00,  1.1476e+00,\n          2.7380e-01, -2.6535e-01,  7.3723e-01, -1.5161e-01, -1.5904e+00,\n         -5.1723e-01,  3.7825e-01,  1.0453e+00,  4.6998e-01, -6.1638e-01,\n          1.1747e+00, -8.8027e-04,  9.3730e-01, -8.2347e-01,  5.5577e-01,\n         -7.6863e-02, -1.1256e+00,  8.8149e-01,  6.1313e-02, -2.9540e-02,\n          4.6769e-01, -1.6937e-01,  7.6289e-01,  3.5415e-01,  1.0194e+00,\n          9.0409e-01, -5.1692e-01,  1.5334e+00,  1.1868e+00,  1.4181e+00,\n         -4.6265e-01,  3.1246e-01, -7.5235e-01,  5.9493e-01,  3.4801e-01,\n         -5.9722e-01,  1.0538e+00, -2.8217e-01, -7.6127e-01,  7.5614e-01,\n          2.0819e+00, -1.9903e-01, -3.4946e-01, -4.5848e-01,  4.1079e-01,\n          8.7579e-02,  1.1218e+00, -4.4934e-01,  2.1795e-01, -1.7497e-01,\n          8.0762e-01,  4.9829e-01, -6.4298e-01,  6.3905e-01,  4.4246e-04,\n          2.9377e-01,  1.1257e+00,  4.5108e-01,  2.0318e+00,  5.9200e-01,\n          1.0309e+00,  4.6877e-01,  2.9945e-01,  8.7301e-02,  5.6734e-02,\n         -1.4153e+00,  8.9718e-01, -4.5382e-01, -1.2614e+00,  1.1522e-01,\n         -8.5418e-02,  8.6174e-01,  5.8252e-01,  1.1825e+00, -2.5076e-01,\n          4.2316e-04,  9.7381e-01,  8.3440e-01,  5.2154e-01,  1.9194e-01,\n         -1.7655e+00,  1.1745e+00,  4.6009e-02,  1.2362e+00,  7.7079e-01,\n         -1.0922e+00,  8.2850e-01,  2.8854e-01, -7.4093e-01, -1.6548e+00,\n          1.0993e+00, -1.3185e-01,  5.7511e-01,  7.1615e-01,  8.0985e-02,\n          4.6831e-01, -1.0354e-01, -3.0457e-02,  2.9361e-02,  4.8062e-01,\n         -1.5358e-01, -9.9427e-01, -9.2971e-02, -1.0361e+00,  7.9086e-01,\n          1.6261e-01,  1.0322e+00,  4.4794e-01, -9.1738e-01, -6.5665e-01,\n          3.5290e-01, -2.6122e-01, -3.4922e-01,  7.0113e-01,  1.3192e+00,\n         -8.2736e-01,  1.9200e+00,  1.1873e+00,  7.2979e-01,  1.8828e-02,\n          6.7602e-01,  4.8355e-01, -7.2612e-01,  6.1314e-01,  8.3514e-01,\n         -1.5494e+00, -2.4994e-01, -1.3118e+00, -4.9023e-01, -9.6410e-01,\n         -6.8874e-01,  8.9504e-01,  8.2713e-01,  6.6080e-01, -1.0116e+00,\n          1.0243e+00,  1.6307e+00, -6.4853e-02, -5.1219e-01,  6.5854e-01,\n          1.8537e+00, -4.6113e-01, -3.0478e-01,  6.4258e-01,  8.2348e-01,\n         -2.9986e-01, -4.3186e-01,  3.4701e-01,  5.9169e-01, -1.2162e-02,\n          1.1171e+00,  8.7607e-01,  2.6625e-01, -5.0042e-01,  3.6038e-01,\n         -4.6558e-01,  8.4787e-01, -8.5155e-01, -4.7046e-01,  6.0464e-01,\n          2.1319e-01,  8.9725e-02,  1.0863e+00,  2.3087e-01, -8.1581e-01,\n          1.2913e+00, -7.3054e-01,  7.5456e-02,  1.3459e+00, -5.8526e-01,\n          1.8723e-01,  2.5040e+00, -7.8606e-01,  1.7208e+00, -1.6170e+00,\n          2.6219e-01, -3.5575e-01,  6.1806e-01,  9.6837e-01,  2.1137e-01,\n          9.1061e-01, -5.6958e-01,  5.3629e-01,  2.7663e-01,  5.1043e-01,\n         -1.7230e-02,  1.6593e-01,  5.7514e-01,  4.6925e-01,  1.2188e+00,\n          2.9229e-01, -1.9278e-01,  2.6114e-01,  2.9024e-01,  7.7604e-01,\n         -4.6792e-01,  1.1462e+00, -9.9975e-02,  1.5223e+00, -1.1658e-01,\n         -4.9356e-02,  5.8268e-01,  6.4719e-01,  4.1347e-01,  1.3100e+00,\n          8.3504e-01,  2.9647e-01,  4.3245e-01, -2.5973e-01,  1.1736e+00,\n          4.1510e-01,  1.8500e-02,  1.3355e+00,  6.5525e-01,  7.3570e-01,\n          3.5840e-01,  6.0573e-01,  3.3831e-01,  9.5694e-01, -4.9966e-01,\n         -1.2692e+00, -9.2218e-01,  9.4237e-01,  9.0697e-01,  1.3690e+00,\n          2.7104e-01,  5.6524e-01,  1.2799e+00,  9.4379e-02, -1.9056e-01,\n          8.4925e-01,  1.2001e+00,  1.6208e+00,  9.1831e-01,  2.5246e-01,\n          1.1600e-01,  1.1023e+00,  4.2038e-01, -9.7308e-01,  3.6632e-01,\n         -9.4681e-01,  5.6783e-01, -1.4121e+00, -1.5577e+00,  1.2108e+00,\n          1.5494e+00, -1.4202e-03,  2.8017e-01,  1.2424e+00,  3.1341e-01,\n         -7.1128e-01,  1.0722e+00, -4.9598e-01,  1.6434e+00, -1.3246e+00,\n         -1.3102e-01,  4.2288e-01, -1.2999e+00,  1.7458e+00,  4.0688e-01,\n         -1.7293e+00, -1.1732e+00,  5.5274e-01,  6.2706e-01,  1.1843e+00,\n         -1.1028e+00,  3.7109e-01,  8.8852e-01,  1.0853e+00, -5.5817e-01,\n          6.9214e-01,  7.4669e-02, -9.6490e-01, -9.8142e-01,  1.1032e-01,\n          4.0279e-01,  1.7594e+00,  1.8218e+00,  1.1687e+00, -7.2470e-01,\n          1.5914e+00,  3.9037e-01,  3.5193e-01,  6.5844e-01,  5.2098e-01,\n          1.6181e+00,  4.6487e-01, -6.8249e-01,  3.6958e-01,  9.1656e-01,\n          1.4510e+00,  1.2402e+00,  1.9037e+00, -4.3725e-01, -3.0257e-01,\n          7.5733e-01, -5.7654e-01, -4.2279e-01, -5.2691e-01,  9.4599e-01,\n         -2.9103e-02,  1.4449e+00,  1.1945e+00, -2.6324e-01, -5.0649e-01,\n          7.3785e-01,  2.5968e-01, -3.2062e-01,  1.5190e+00, -4.6831e-01,\n          1.0161e+00, -1.6952e+00,  1.0543e+00, -1.2156e+00, -2.2531e+00,\n          4.8316e-01,  1.6251e+00, -2.9364e-01, -3.2538e-01,  1.7260e+00,\n          1.3509e+00, -4.5102e-01,  1.1077e+00,  1.2357e+00, -3.0791e-02,\n          1.7570e-01, -3.6660e-01, -3.6579e-01, -1.1826e+00,  3.0103e-01,\n         -1.0203e-01,  2.4488e-01,  7.4010e-01, -1.3934e-01, -1.1976e+00,\n         -8.6541e-01,  1.1365e+00,  4.2333e-01,  2.3010e+00,  1.9629e+00,\n         -7.9920e-01, -6.0712e-01,  1.6080e+00,  8.2564e-01,  8.7541e-01,\n          1.3120e-02, -4.7489e-01,  1.3594e+00, -1.1700e+00,  1.1326e+00,\n          1.2615e+00,  1.1688e+00,  1.0223e+00, -2.1242e-01, -1.9146e+00,\n         -2.4402e-01,  1.5350e-01,  2.4425e-01,  5.0150e-01,  2.2277e-01,\n         -2.2678e-01,  8.2384e-01, -8.3601e-01,  7.9435e-01, -3.5132e-01,\n         -7.1221e-01, -9.4120e-01, -4.2987e-01, -5.6916e-02,  1.5087e+00,\n         -3.6572e-01, -9.2185e-03,  5.5603e-01, -1.5612e+00, -4.7257e-02,\n         -6.5692e-01,  3.9187e-01,  4.3530e-01, -3.7356e-02, -1.0721e-02,\n         -3.3445e-02, -5.6739e-01, -2.0970e-01,  4.7370e-01, -5.7895e-01,\n         -6.3305e-01, -1.2211e+00,  5.2619e-01,  8.3401e-01, -3.2210e-01,\n          1.7299e-01, -3.8863e-01, -3.2748e-01,  1.0726e-01,  9.0887e-01,\n         -4.2284e-01, -4.3787e-01, -5.8213e-01,  7.0411e-02, -5.9017e-01,\n          5.7362e-01,  2.4315e-01, -4.2972e-01, -9.0854e-01, -1.3838e+00,\n         -8.7459e-02,  4.2695e-01, -5.9112e-01,  9.2830e-01,  2.0702e-02,\n          5.6245e-02,  1.3339e+00, -3.5818e-01, -5.4953e-02, -2.0837e+00,\n          1.0913e+00, -1.5485e+00,  6.4693e-01,  1.8679e-01, -7.0907e-01,\n         -7.1832e-01,  2.4763e-01,  5.0606e-01, -2.1202e-01, -9.0767e-01,\n         -9.8030e-01, -2.2400e+00,  1.3853e+00, -1.0108e-01, -6.2698e-01,\n         -1.2959e-01, -1.1139e+00, -8.9438e-01, -1.8834e+00, -6.4232e-01,\n         -4.6861e-01,  1.8648e-01, -3.3246e-01,  1.2266e+00,  9.6464e-01]],\n       grad_fn=<AddmmBackward>)"
     },
     "execution_count": 18,
     "metadata": {},
     "output_type": "execute_result"
    }
   ],
   "source": [
    "prediction"
   ],
   "metadata": {
    "collapsed": false,
    "pycharm": {
     "name": "#%%\n"
    }
   }
  },
  {
   "cell_type": "code",
   "execution_count": 19,
   "outputs": [
    {
     "data": {
      "text/plain": "tensor([[8.9830e-01, 8.1746e-01, 2.1278e-01, 2.1042e-01, 2.7660e-02, 9.5152e-01,\n         8.9898e-01, 2.6276e-01, 2.0016e-01, 7.4516e-01, 9.0123e-01, 3.4931e-01,\n         1.3460e-01, 9.1047e-01, 1.4256e-01, 6.9847e-01, 6.7706e-01, 6.9174e-01,\n         5.3378e-01, 1.1725e-01, 8.7110e-01, 9.3448e-01, 4.4930e-01, 3.9462e-01,\n         4.9711e-01, 6.2942e-01, 2.0159e-01, 9.0395e-01, 4.4438e-01, 7.5017e-01,\n         1.7280e-01, 1.8539e-01, 6.7509e-01, 2.6416e-01, 3.1723e-01, 4.5654e-01,\n         4.2108e-01, 1.8956e-01, 4.2329e-01, 9.4196e-01, 6.7554e-02, 3.3994e-01,\n         7.3343e-01, 1.3890e-01, 2.1836e-01, 3.2830e-01, 7.3891e-01, 5.3412e-01,\n         1.0278e-01, 9.7808e-01, 2.3236e-01, 8.3933e-01, 1.0898e-01, 3.3390e-01,\n         8.9231e-01, 1.4844e-01, 1.7184e-01, 8.9800e-01, 3.6121e-01, 4.4408e-01,\n         7.0617e-01, 7.8995e-01, 1.2797e-01, 6.5099e-01, 9.0682e-01, 9.4173e-02,\n         6.6561e-01, 5.1462e-01, 7.8350e-01, 5.7771e-01, 8.1898e-01, 6.7698e-01,\n         1.8131e-01, 8.8804e-01, 9.4742e-01, 6.9701e-01, 3.9188e-01, 5.4682e-01,\n         9.3305e-01, 7.2536e-01, 4.1664e-01, 8.8932e-01, 5.1533e-01, 7.3080e-01,\n         9.0535e-01, 7.5528e-01, 7.3138e-01, 6.9795e-01, 4.0843e-01, 9.5179e-01,\n         1.0512e-01, 2.6691e-01, 1.2892e-04, 3.0489e-01, 6.8226e-01, 8.9027e-01,\n         4.0911e-01, 7.5342e-01, 2.2846e-01, 1.0351e-01, 7.1662e-01, 9.2495e-01,\n         3.9050e-01, 9.3926e-01, 3.6170e-01, 5.3837e-01, 6.2568e-01, 3.8853e-01,\n         1.4804e-01, 9.1757e-02, 1.3857e-01, 6.3442e-01, 6.9226e-01, 8.2817e-01,\n         8.0496e-01, 2.9519e-02, 9.5091e-01, 4.3768e-01, 7.6363e-03, 5.5322e-01,\n         7.4622e-01, 4.1934e-01, 9.5903e-01, 7.1420e-02, 1.8955e-01, 4.2111e-01,\n         5.0082e-01, 9.1504e-01, 2.3734e-01, 7.0032e-01, 5.3910e-01, 4.5878e-01,\n         3.6306e-01, 7.6787e-01, 2.8765e-01, 5.7829e-01, 2.8128e-03, 8.8577e-01,\n         5.2539e-01, 6.3170e-01, 8.5542e-01, 3.8211e-01, 1.7713e-01, 2.8537e-01,\n         1.4387e-01, 5.8451e-01, 3.3121e-01, 7.4016e-01, 8.7535e-01, 1.0730e-01,\n         7.4916e-01, 7.0715e-01, 4.6596e-01, 8.0559e-01, 4.0072e-01, 2.8445e-01,\n         5.9759e-01, 7.1866e-01, 4.4910e-02, 9.6341e-01, 5.0154e-01, 6.7029e-01,\n         7.1392e-01, 4.5423e-01, 7.7125e-01, 7.3143e-01, 3.7672e-01, 5.0425e-02,\n         3.7052e-01, 8.3413e-01, 4.9790e-01, 3.6048e-01, 7.3907e-02, 1.1982e-01,\n         2.9901e-01, 9.2798e-01, 9.3584e-01, 9.4507e-01, 6.1816e-01, 5.4780e-01,\n         8.9841e-01, 4.2729e-01, 6.6242e-01, 7.3410e-01, 4.6331e-01, 7.2062e-01,\n         5.2046e-01, 2.1345e-01, 3.5587e-01, 9.3444e-01, 3.1725e-01, 8.2522e-01,\n         6.7884e-01, 7.2943e-01, 6.0353e-01, 1.4775e-01, 1.7413e-02, 5.8698e-01,\n         6.0868e-01, 8.1661e-01, 9.7873e-02, 3.8076e-01, 5.4361e-01, 2.7778e-03,\n         6.8204e-01, 1.5548e-01, 3.3855e-01, 2.8970e-01, 2.0056e-01, 7.8660e-02,\n         9.9642e-01, 4.8754e-01, 7.6836e-01, 5.7984e-02, 4.7254e-01, 4.1511e-01,\n         7.4073e-01, 3.1639e-01, 3.1781e-02, 8.9244e-01, 8.5291e-01, 1.1932e-01,\n         5.6017e-01, 5.6992e-02, 2.2416e-01, 5.0232e-01, 1.1306e-01, 8.8906e-01,\n         6.1236e-01, 3.1865e-02, 1.4909e-01, 3.0195e-01, 1.9068e-01, 9.9432e-01,\n         4.8567e-01, 4.8014e-01, 2.9966e-01, 2.2941e-01, 3.1970e-02, 8.1807e-01,\n         7.8467e-01, 9.7549e-01, 7.9860e-01, 9.2263e-01, 3.7696e-01, 9.6564e-01,\n         7.6928e-02, 5.9101e-01, 7.6116e-01, 2.3203e-01, 3.4656e-01, 1.5264e-01,\n         3.1571e-01, 6.2182e-01, 5.4037e-01, 6.5583e-01, 8.2996e-01, 9.0106e-01,\n         3.4770e-01, 6.3858e-01, 6.1926e-01, 4.4458e-01, 7.3036e-01, 7.0248e-01,\n         7.3373e-01, 1.3895e-01, 7.2676e-01, 7.4864e-01, 7.3930e-01, 8.5878e-01,\n         1.2488e-01, 8.8791e-01, 1.7787e-01, 2.5897e-02, 2.0132e-01, 9.9388e-01,\n         3.5441e-01, 8.8915e-01, 5.1008e-01, 3.6312e-01, 3.0920e-01, 7.8371e-01,\n         6.0370e-01, 7.4218e-01, 9.8614e-02, 4.9441e-01, 6.0263e-01, 7.8980e-01,\n         2.8926e-01, 5.6228e-01, 6.2677e-01, 4.9499e-01, 3.4012e-01, 1.4223e-01,\n         2.2307e-01, 2.2419e-01, 4.9880e-01, 8.5066e-01, 6.7819e-01, 8.3330e-01,\n         3.5164e-01, 9.4654e-01, 4.0766e-01, 6.9915e-01, 1.3560e-01, 5.8582e-01,\n         7.9187e-02, 3.5720e-01, 3.8984e-01, 1.4309e-01, 3.2045e-01, 6.7080e-01,\n         9.4576e-01, 5.5533e-01, 6.9943e-01, 8.9410e-01, 5.5395e-01, 2.8240e-01,\n         8.0068e-01, 9.0565e-01, 8.6833e-02, 3.8561e-01, 6.3038e-01, 6.2817e-01,\n         6.2312e-02, 7.3574e-01, 2.7389e-01, 3.7865e-01, 8.3978e-01, 5.5397e-01,\n         5.2705e-02, 6.0589e-01, 7.4205e-02, 7.9542e-01, 8.8193e-01, 6.9092e-01,\n         2.4756e-01, 3.9099e-01, 8.8531e-01, 7.5990e-01, 5.5497e-01, 2.8629e-01,\n         5.1878e-01, 2.5074e-01, 8.1694e-01, 8.0336e-01, 7.2426e-01, 9.7454e-01,\n         2.8156e-01, 6.5068e-01, 5.4881e-01, 9.2362e-01, 9.9073e-01, 3.4274e-01,\n         8.9839e-01, 1.2228e-01, 1.3917e-01, 6.7833e-01, 4.4830e-01, 5.4115e-01,\n         5.8889e-01, 9.1515e-01, 8.0694e-01, 4.8276e-01, 6.4805e-01, 7.5401e-01,\n         4.0101e-02, 8.2086e-01, 5.0083e-01, 4.9711e-01, 5.5029e-01, 6.1108e-01,\n         5.3573e-01, 1.2888e-01, 8.8889e-01, 2.2011e-02, 6.7993e-01, 5.1700e-01,\n         6.8109e-01, 2.9184e-02, 6.2670e-01, 3.7917e-01, 8.7862e-01, 5.0389e-02,\n         6.6295e-01, 5.7887e-01, 8.7046e-01, 4.5894e-01, 3.6440e-01, 2.5278e-01,\n         3.8780e-01, 6.3807e-01, 4.9725e-01, 7.3028e-01, 7.3706e-01, 2.4086e-01,\n         6.6852e-01, 7.9449e-01, 3.3722e-01, 2.6101e-01, 4.1685e-01, 2.3679e-02,\n         9.4371e-01, 5.9009e-01, 4.5076e-01, 4.8212e-01, 8.3535e-01, 1.7219e-01,\n         9.4146e-01, 8.7237e-01, 7.3090e-01, 5.9898e-02, 3.4128e-01, 2.2193e-01,\n         6.0708e-01, 7.2753e-01, 9.9899e-01, 9.5016e-01, 8.5514e-02, 1.5689e-01,\n         7.3617e-01, 7.7199e-02, 7.5392e-01, 4.8204e-01, 1.3805e-01, 7.0587e-01,\n         5.6284e-01, 7.2307e-01, 1.8943e-01, 2.8184e-01, 6.3646e-01, 2.7058e-01,\n         6.2045e-01, 9.1300e-01, 7.2388e-01, 8.9106e-01, 1.6265e-01, 4.8887e-01,\n         4.1890e-01, 9.6775e-01, 9.7067e-02, 8.1563e-01, 8.4607e-01, 9.7159e-01,\n         8.6225e-01, 5.4579e-01, 5.1055e-01, 6.9413e-02, 5.1952e-01, 6.3293e-01,\n         5.0796e-01, 3.0122e-01, 4.8568e-01, 7.8859e-02, 3.3602e-02, 4.4008e-01,\n         3.8352e-01, 8.6063e-01, 2.1625e-01, 1.7962e-01, 4.2155e-02, 8.6765e-01,\n         6.8346e-01, 6.4241e-01, 7.2587e-01, 9.8659e-01, 4.1703e-02, 8.1947e-01,\n         1.7234e-01, 3.0613e-01, 9.6734e-01, 3.7164e-01, 2.9199e-01, 3.6440e-01,\n         8.6824e-01, 3.5679e-01, 8.8537e-01, 3.0260e-01, 8.2202e-01, 8.2506e-01,\n         3.4042e-01, 9.1477e-01, 7.7710e-01, 4.5259e-01, 4.1374e-01, 6.2550e-01,\n         7.9062e-02, 5.6910e-01, 9.3384e-01, 1.9657e-01, 4.8957e-01, 1.5836e-01,\n         7.5420e-01, 6.9344e-01, 5.7461e-02, 3.8815e-03, 3.8198e-01, 8.1361e-01,\n         8.9799e-01, 5.0716e-01, 9.4130e-01, 2.7011e-01, 7.8881e-01, 4.6596e-01,\n         5.3621e-01, 1.2877e-02, 5.5895e-01, 1.9073e-01, 9.5557e-01, 4.9324e-01,\n         5.6831e-01, 5.6615e-01, 9.4543e-01, 7.1238e-01, 6.4981e-01, 7.2686e-01,\n         4.9901e-01, 1.9043e-01, 6.3447e-01, 4.8693e-01, 9.9554e-01, 6.2010e-01,\n         6.6075e-01, 2.8199e-01, 9.4655e-01, 3.8540e-01, 9.7295e-01, 9.3952e-01,\n         5.8869e-02, 7.5958e-01, 8.8820e-01, 3.9626e-01, 6.4496e-01, 6.1716e-01,\n         9.1571e-01, 9.4640e-01, 6.9179e-01, 5.0417e-01, 8.9317e-01, 1.3332e-01,\n         3.4080e-01, 6.7680e-01, 6.8339e-01, 5.5622e-01, 8.8082e-01, 2.2321e-01,\n         1.5149e-01, 4.9499e-01, 4.4851e-01, 3.3049e-01, 7.7756e-01, 5.9883e-01,\n         6.5314e-01, 1.6424e-02, 2.0313e-01, 1.2044e-01, 1.0577e-01, 4.4045e-01,\n         1.1305e-01, 6.0984e-01, 1.1425e-01, 9.3397e-01, 1.4359e-01, 5.4536e-01,\n         9.9670e-01, 6.0142e-01, 4.6668e-01, 2.5699e-01, 7.4704e-01, 3.7846e-01,\n         8.0361e-01, 9.1600e-01, 3.3001e-01, 7.5244e-01, 3.4670e-01, 4.7544e-01,\n         1.1444e-01, 3.3861e-01, 9.5208e-01, 5.2366e-01, 4.8127e-01, 6.3075e-01,\n         7.3044e-02, 3.7914e-01, 5.4694e-01, 2.8014e-01, 1.3893e-01, 6.5299e-02,\n         1.8688e-01, 5.2257e-02, 8.7806e-01, 6.7929e-03, 3.5323e-01, 5.6590e-02,\n         4.7910e-01, 5.7615e-01, 2.1799e-01, 1.7247e-01, 6.7654e-02, 8.1637e-01,\n         6.3797e-01, 5.6820e-01, 6.8356e-01, 8.0191e-01, 5.2405e-01, 7.2391e-01,\n         4.7846e-01, 5.9391e-02, 2.1455e-01, 9.5598e-01, 1.7131e-01, 8.7580e-01,\n         6.9326e-01, 7.4381e-01, 8.1596e-01, 5.2989e-01, 2.3844e-01, 4.0146e-01,\n         1.8872e-01, 2.7365e-01, 8.7446e-01, 2.1783e-01, 4.8816e-01, 8.1543e-01,\n         6.3868e-01, 9.7304e-01, 1.1158e-02, 5.2722e-02, 4.0098e-01, 5.0775e-01,\n         1.7780e-02, 9.1024e-01, 1.9262e-01, 5.0689e-01, 1.3749e-01, 4.7372e-01,\n         5.9253e-01, 1.2478e-01, 1.2378e-01, 3.5382e-02, 1.4691e-02, 9.2691e-01,\n         5.2306e-01, 9.1405e-02, 4.8806e-01, 3.8128e-01, 3.3037e-01, 9.4373e-01,\n         1.6387e-01, 8.1512e-01, 6.8379e-01, 4.5760e-01, 2.8048e-02, 8.4557e-01,\n         2.2311e-01, 6.6130e-01, 1.5139e-01, 5.5173e-01, 8.5078e-01, 7.5859e-01,\n         4.0688e-01, 4.1549e-01, 8.8792e-01, 2.0469e-01, 3.0741e-01, 1.4639e-01,\n         5.5062e-01, 7.1669e-01, 3.7664e-01, 6.3210e-01, 5.2051e-02, 1.7983e-01,\n         2.7364e-03, 3.5796e-01, 9.3763e-01, 4.8581e-01, 9.3549e-01, 1.3317e-01,\n         6.1801e-01, 1.3628e-01, 4.4412e-01, 7.4650e-01, 4.0400e-01, 5.8046e-01,\n         9.4975e-01, 1.9597e-01, 4.7302e-01, 3.1884e-01, 3.0211e-01, 1.3885e-01,\n         4.1818e-01, 1.8372e-01, 9.0660e-01, 2.4397e-01, 2.9859e-02, 3.0514e-01,\n         3.7785e-01, 7.9012e-02, 7.9111e-01, 3.0176e-01, 4.0406e-01, 6.3895e-01,\n         4.1125e-02, 2.1079e-01, 3.5759e-01, 6.7183e-01, 3.4754e-01, 6.7502e-02,\n         6.6657e-01, 9.4931e-01, 2.4100e-01, 2.7374e-01, 4.5471e-01, 4.4697e-01,\n         2.3366e-01, 4.4327e-02, 8.5204e-01, 4.4814e-01, 4.1560e-01, 8.3634e-01,\n         8.2443e-01, 8.7609e-01, 6.0026e-01, 9.3462e-01, 6.8033e-01, 1.3678e-01,\n         4.6048e-01, 4.0811e-01, 5.5691e-01, 2.6566e-01, 2.3824e-01, 3.3614e-01,\n         4.5526e-01, 4.1731e-01, 7.5062e-01, 8.0819e-01, 5.2697e-01, 1.5991e-01,\n         9.7140e-01, 8.7150e-01, 7.6438e-01, 2.3571e-02, 1.9687e-01, 3.1547e-01,\n         3.8559e-01, 5.2239e-01, 8.5412e-01, 7.2121e-01, 5.3855e-01, 7.2727e-01,\n         5.1531e-03, 3.8776e-01, 5.7636e-01, 8.1398e-01, 7.5616e-01, 4.9393e-01,\n         3.0987e-01, 7.9986e-01, 9.9481e-01, 9.6057e-01, 9.9551e-01, 8.6138e-01,\n         5.8761e-01, 8.2745e-01, 8.9547e-01, 7.0232e-01, 9.2939e-01, 1.7828e-01,\n         6.4605e-01, 7.5856e-01, 1.4827e-01, 4.7668e-01, 8.9786e-01, 8.5169e-01,\n         7.2658e-01, 1.5700e-01, 9.0207e-01, 5.0533e-01, 1.2049e-01, 2.8161e-01,\n         7.1523e-01, 8.4257e-01, 8.1092e-01, 7.3534e-02, 8.5619e-02, 5.5994e-02,\n         8.3322e-01, 8.9948e-01, 3.0075e-01, 4.0502e-01, 3.5309e-01, 2.4528e-01,\n         8.6381e-01, 7.6928e-01, 5.9753e-01, 4.5839e-01, 5.4200e-01, 9.0303e-01,\n         8.7312e-01, 2.3856e-01, 4.3144e-02, 5.2596e-01, 7.8896e-01, 5.5783e-01,\n         6.0732e-01, 2.3397e-01, 8.0239e-01, 2.9301e-01, 9.6571e-01, 8.1770e-01,\n         4.3989e-01, 2.7722e-01, 1.9680e-01, 1.3016e-01, 9.6423e-01, 2.1000e-01,\n         5.8890e-01, 2.4839e-01, 6.8550e-01, 3.2608e-01, 2.0149e-01, 7.3899e-01,\n         5.4616e-01, 1.1177e-01, 8.4357e-02, 5.1711e-01, 2.6529e-01, 5.0811e-01,\n         4.8423e-01, 5.1142e-02, 7.0478e-01, 5.4499e-01, 1.9445e-01, 2.8554e-01,\n         2.3132e-02, 5.6322e-01, 7.2140e-01, 8.5767e-01, 8.8680e-01, 2.2677e-01,\n         4.5538e-01, 9.5530e-01, 8.8641e-01, 7.3031e-01, 7.4517e-01, 6.7201e-01,\n         6.8712e-01, 2.4393e-01, 9.8842e-01, 4.4058e-01, 1.3752e-01, 2.2521e-01,\n         1.0975e-01, 9.3261e-01, 3.1574e-01, 3.4643e-01, 6.6765e-01, 3.3243e-02,\n         5.7410e-01, 8.3331e-01, 6.1676e-01, 5.3334e-01, 3.7234e-01, 7.6239e-01,\n         4.2604e-01, 1.9066e-01, 2.1417e-01, 9.5638e-01, 3.8901e-01, 4.2211e-01,\n         7.5382e-01, 9.9637e-01, 8.5691e-01, 5.2908e-01, 3.0064e-01, 1.2459e-02,\n         8.9008e-01, 7.9498e-01, 3.2920e-01, 7.2785e-01, 8.4721e-01, 6.8940e-01,\n         9.4321e-01, 4.2567e-01, 2.6032e-01, 3.2483e-02, 5.5241e-01, 3.0076e-01,\n         6.7819e-01, 6.2168e-01, 8.0138e-01, 8.7224e-01, 8.4287e-01, 5.7804e-02,\n         8.9514e-01, 2.2413e-01, 4.4964e-01, 5.6578e-01, 6.6380e-01, 1.7449e-02,\n         5.1831e-02, 1.3124e-01, 3.1179e-01, 1.1314e-01, 6.4481e-01, 7.8047e-01,\n         2.7586e-01, 5.7790e-01, 6.6387e-01, 6.1656e-01, 1.6558e-01, 1.5841e-01,\n         8.5894e-01, 5.9912e-01, 6.2371e-01, 9.6424e-01, 1.3447e-01, 7.2378e-01,\n         1.9598e-01, 1.3546e-01, 6.6837e-01, 5.7719e-01, 3.2418e-01, 3.9548e-01,\n         6.0612e-01, 3.8823e-01, 3.7961e-01, 7.2495e-01, 4.5425e-01, 4.4832e-03,\n         6.3131e-01, 9.7051e-01, 7.4771e-01, 4.4899e-01, 2.1367e-01, 6.0572e-01,\n         4.0850e-01, 8.7615e-01, 2.2876e-01, 4.9085e-01, 4.8184e-01, 4.4538e-01,\n         8.7622e-02, 4.1978e-01, 8.9395e-01, 7.1535e-01, 7.4157e-01, 6.0907e-01,\n         8.5979e-01, 4.9636e-01, 6.0689e-01, 1.7026e-01, 2.8519e-01, 8.4497e-01,\n         1.0481e-01, 8.3278e-01, 6.9475e-01, 1.5042e-01, 6.6061e-01, 6.4165e-01,\n         9.3840e-03, 8.6621e-01, 8.3979e-01, 7.2289e-01, 4.2363e-01, 6.9589e-01,\n         5.5972e-01, 2.5561e-01, 9.3594e-01, 9.1490e-01, 5.8599e-01, 3.5899e-01,\n         4.4885e-01, 4.3030e-01, 7.0957e-01, 8.4410e-01, 3.5490e-01, 1.4363e-01,\n         5.2047e-01, 4.1561e-01, 8.4978e-01, 6.9078e-01, 2.5011e-01, 7.1451e-01,\n         1.0028e-01, 9.3025e-01, 4.3491e-01, 7.3523e-01, 6.8291e-01, 5.8237e-01,\n         5.6840e-01, 5.9662e-01, 5.4776e-01, 6.3388e-01, 4.5123e-01, 1.5973e-01,\n         2.5724e-01, 6.9419e-01, 6.9616e-01, 1.6546e-01]])"
     },
     "execution_count": 19,
     "metadata": {},
     "output_type": "execute_result"
    }
   ],
   "source": [
    "labels"
   ],
   "metadata": {
    "collapsed": false,
    "pycharm": {
     "name": "#%%\n"
    }
   }
  },
  {
   "cell_type": "code",
   "execution_count": 40,
   "outputs": [],
   "source": [
    "import torch\n",
    "x, y = (torch.rand(2,2),torch.rand(2,2))"
   ],
   "metadata": {
    "collapsed": false,
    "pycharm": {
     "name": "#%%\n"
    }
   }
  },
  {
   "cell_type": "code",
   "execution_count": 41,
   "outputs": [
    {
     "data": {
      "text/plain": "(tensor([[0.5969, 0.5531],\n         [0.5925, 0.7409]]),\n tensor([[0.2592, 0.8189],\n         [0.6829, 0.6506]]))"
     },
     "execution_count": 41,
     "metadata": {},
     "output_type": "execute_result"
    }
   ],
   "source": [
    "x, y"
   ],
   "metadata": {
    "collapsed": false,
    "pycharm": {
     "name": "#%%\n"
    }
   }
  },
  {
   "cell_type": "code",
   "execution_count": 36,
   "outputs": [
    {
     "data": {
      "text/plain": "tensor([[0.1387, 0.0280],\n        [0.7473, 0.3454]])"
     },
     "execution_count": 36,
     "metadata": {},
     "output_type": "execute_result"
    }
   ],
   "source": [],
   "metadata": {
    "collapsed": false,
    "pycharm": {
     "name": "#%%\n"
    }
   }
  },
  {
   "cell_type": "code",
   "execution_count": 1,
   "outputs": [
    {
     "ename": "NameError",
     "evalue": "name 'x' is not defined",
     "output_type": "error",
     "traceback": [
      "\u001B[0;31m---------------------------------------------------------------------------\u001B[0m",
      "\u001B[0;31mNameError\u001B[0m                                 Traceback (most recent call last)",
      "\u001B[0;32m<ipython-input-1-0ae7634f5b36>\u001B[0m in \u001B[0;36m<module>\u001B[0;34m\u001B[0m\n\u001B[0;32m----> 1\u001B[0;31m \u001B[0mx\u001B[0m\u001B[0;34m\u001B[0m\u001B[0;34m\u001B[0m\u001B[0m\n\u001B[0m\u001B[1;32m      2\u001B[0m \u001B[0;31m# optimizing problem:\u001B[0m\u001B[0;34m\u001B[0m\u001B[0;34m\u001B[0m\u001B[0;34m\u001B[0m\u001B[0m\n\u001B[1;32m      3\u001B[0m \u001B[0mx\u001B[0m \u001B[0;34m=\u001B[0m \u001B[0mtorch\u001B[0m\u001B[0;34m.\u001B[0m\u001B[0mones\u001B[0m\u001B[0;34m(\u001B[0m\u001B[0;36m5\u001B[0m\u001B[0;34m,\u001B[0m \u001B[0mrequirs_grad\u001B[0m \u001B[0;34m=\u001B[0m \u001B[0;32mTrue\u001B[0m\u001B[0;34m)\u001B[0m\u001B[0;34m\u001B[0m\u001B[0;34m\u001B[0m\u001B[0m\n\u001B[1;32m      4\u001B[0m \u001B[0;34m\u001B[0m\u001B[0m\n\u001B[1;32m      5\u001B[0m \u001B[0;34m\u001B[0m\u001B[0m\n",
      "\u001B[0;31mNameError\u001B[0m: name 'x' is not defined"
     ]
    }
   ],
   "source": [
    "x\n",
    "# optimizing problem:\n",
    "x = torch.ones(5, requirs_grad = True)\n",
    "\n"
   ],
   "metadata": {
    "collapsed": false,
    "pycharm": {
     "name": "#%%\n"
    }
   }
  },
  {
   "cell_type": "code",
   "execution_count": 13,
   "outputs": [],
   "source": [
    "class Animal:\n",
    "\n",
    "    def __init__(self, name, target):\n",
    "        self.name = name\n",
    "        self.target = target\n",
    "        # print('动物名称实例化')\n",
    "    def eat(self):\n",
    "        # self.target =\n",
    "        print(self.name +'要吃' + self.target + '啦！')\n",
    "    def drink(self):\n",
    "        print(self.name +'要喝水啦！')\n",
    "\n"
   ],
   "metadata": {
    "collapsed": false,
    "pycharm": {
     "name": "#%%\n"
    }
   }
  },
  {
   "cell_type": "code",
   "execution_count": 14,
   "outputs": [
    {
     "name": "stdout",
     "output_type": "stream",
     "text": [
      "miaomiao\n",
      "miaomiao要吃shit啦！\n",
      "miaomiao要喝水啦！\n"
     ]
    }
   ],
   "source": [
    "cat =  Animal('miaomiao', 'shit')\n",
    "print(cat.name)\n",
    "cat.eat()\n",
    "cat.drink()\n"
   ],
   "metadata": {
    "collapsed": false,
    "pycharm": {
     "name": "#%%\n"
    }
   }
  },
  {
   "cell_type": "code",
   "execution_count": 17,
   "outputs": [
    {
     "name": "stdout",
     "output_type": "stream",
     "text": [
      "wangwang要吃饭饭啦！\n"
     ]
    }
   ],
   "source": [
    "dog = Animal('wangwang', '饭饭')\n",
    "dog.eat()"
   ],
   "metadata": {
    "collapsed": false,
    "pycharm": {
     "name": "#%%\n"
    }
   }
  },
  {
   "cell_type": "code",
   "execution_count": 18,
   "outputs": [
    {
     "name": "stdout",
     "output_type": "stream",
     "text": [
      "Looking in indexes: https://mirrors.aliyun.com/pypi/simple/\r\n",
      "Requirement already satisfied: tqdm in /Users/fyenne/anaconda3/envs/tf201/lib/python3.8/site-packages (4.56.0)\r\n"
     ]
    }
   ],
   "source": [],
   "metadata": {
    "collapsed": false,
    "pycharm": {
     "name": "#%%\n"
    }
   }
  },
  {
   "cell_type": "code",
   "execution_count": null,
   "outputs": [],
   "source": [],
   "metadata": {
    "collapsed": false,
    "pycharm": {
     "name": "#%%\n"
    }
   }
  }
 ],
 "metadata": {
  "kernelspec": {
   "display_name": "Python 3",
   "language": "python",
   "name": "python3"
  },
  "language_info": {
   "codemirror_mode": {
    "name": "ipython",
    "version": 3
   },
   "file_extension": ".py",
   "mimetype": "text/x-python",
   "name": "python",
   "nbconvert_exporter": "python",
   "pygments_lexer": "ipython3",
   "version": "3.8.5"
  },
  "latex_envs": {
   "LaTeX_envs_menu_present": true,
   "autoclose": false,
   "autocomplete": true,
   "bibliofile": "biblio.bib",
   "cite_by": "apalike",
   "current_citInitial": 1,
   "eqLabelWithNumbers": true,
   "eqNumInitial": 1,
   "hotkeys": {
    "equation": "Ctrl-E",
    "itemize": "Ctrl-I"
   },
   "labels_anchors": false,
   "latex_user_defs": false,
   "report_style_numbering": false,
   "user_envs_cfg": false
  },
  "toc": {
   "base_numbering": 1,
   "nav_menu": {},
   "number_sections": true,
   "sideBar": true,
   "skip_h1_title": false,
   "title_cell": "Table of Contents",
   "title_sidebar": "Contents",
   "toc_cell": false,
   "toc_position": {},
   "toc_section_display": true,
   "toc_window_display": true
  },
  "varInspector": {
   "cols": {
    "lenName": 16,
    "lenType": 16,
    "lenVar": 40
   },
   "kernels_config": {
    "python": {
     "delete_cmd_postfix": "",
     "delete_cmd_prefix": "del ",
     "library": "var_list.py",
     "varRefreshCmd": "print(var_dic_list())"
    },
    "r": {
     "delete_cmd_postfix": ") ",
     "delete_cmd_prefix": "rm(",
     "library": "var_list.r",
     "varRefreshCmd": "cat(var_dic_list()) "
    }
   },
   "types_to_exclude": [
    "module",
    "function",
    "builtin_function_or_method",
    "instance",
    "_Feature"
   ],
   "window_display": false
  }
 },
 "nbformat": 4,
 "nbformat_minor": 1
}