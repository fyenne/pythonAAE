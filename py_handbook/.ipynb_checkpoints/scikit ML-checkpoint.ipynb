{
 "cells": [
  {
   "cell_type": "markdown",
   "metadata": {},
   "source": [
    "## Chapter 2 "
   ]
  },
  {
   "cell_type": "markdown",
   "metadata": {},
   "source": [
    "### Introducing pandas objects"
   ]
  },
  {
   "cell_type": "code",
   "execution_count": 17,
   "metadata": {
    "ExecuteTime": {
     "end_time": "2021-01-16T08:18:13.728474Z",
     "start_time": "2021-01-16T08:18:13.724317Z"
    }
   },
   "outputs": [],
   "source": [
    "import numpy as np\n",
    "import pandas as pd"
   ]
  },
  {
   "cell_type": "code",
   "execution_count": 4,
   "metadata": {
    "ExecuteTime": {
     "end_time": "2021-01-14T13:59:37.894276Z",
     "start_time": "2021-01-14T13:59:37.884386Z"
    }
   },
   "outputs": [
    {
     "data": {
      "text/plain": [
       "California    38332521\n",
       "Texas         26448193\n",
       "New York      19651127\n",
       "Florida       19552860\n",
       "Illinois      12882135\n",
       "dtype: int64"
      ]
     },
     "execution_count": 4,
     "metadata": {},
     "output_type": "execute_result"
    }
   ],
   "source": [
    "population_dict = {'California': 38332521,\n",
    "                   'Texas': 26448193,\n",
    "                   'New York': 19651127,\n",
    "                   'Florida': 19552860,\n",
    "                   'Illinois': 12882135}\n",
    "population = pd.Series(population_dict)\n",
    "population"
   ]
  },
  {
   "cell_type": "code",
   "execution_count": 4,
   "metadata": {
    "ExecuteTime": {
     "end_time": "2021-01-14T13:57:38.762361Z",
     "start_time": "2021-01-14T13:57:38.752501Z"
    }
   },
   "outputs": [
    {
     "data": {
      "text/plain": [
       "California    38332521\n",
       "Texas         26448193\n",
       "New York      19651127\n",
       "Florida       19552860\n",
       "Illinois      12882135\n",
       "dtype: int64"
      ]
     },
     "execution_count": 4,
     "metadata": {},
     "output_type": "execute_result"
    }
   ],
   "source": [
    "population['California':'Illinois']"
   ]
  },
  {
   "cell_type": "code",
   "execution_count": 2,
   "metadata": {
    "ExecuteTime": {
     "end_time": "2021-01-14T13:59:24.852788Z",
     "start_time": "2021-01-14T13:59:24.843239Z"
    }
   },
   "outputs": [
    {
     "data": {
      "text/plain": [
       "California    423967\n",
       "Texas         695662\n",
       "New York      141297\n",
       "Florida       170312\n",
       "Illinois      149995\n",
       "dtype: int64"
      ]
     },
     "execution_count": 2,
     "metadata": {},
     "output_type": "execute_result"
    }
   ],
   "source": [
    "area_dict = {'California': 423967, 'Texas': 695662, 'New York': 141297,\n",
    "             'Florida': 170312, 'Illinois': 149995}\n",
    "area = pd.Series(area_dict)\n",
    "area"
   ]
  },
  {
   "cell_type": "code",
   "execution_count": 5,
   "metadata": {
    "ExecuteTime": {
     "end_time": "2021-01-14T13:59:40.639554Z",
     "start_time": "2021-01-14T13:59:40.629990Z"
    }
   },
   "outputs": [
    {
     "data": {
      "text/html": [
       "<div>\n",
       "<style scoped>\n",
       "    .dataframe tbody tr th:only-of-type {\n",
       "        vertical-align: middle;\n",
       "    }\n",
       "\n",
       "    .dataframe tbody tr th {\n",
       "        vertical-align: top;\n",
       "    }\n",
       "\n",
       "    .dataframe thead th {\n",
       "        text-align: right;\n",
       "    }\n",
       "</style>\n",
       "<table border=\"1\" class=\"dataframe\">\n",
       "  <thead>\n",
       "    <tr style=\"text-align: right;\">\n",
       "      <th></th>\n",
       "      <th>population</th>\n",
       "      <th>area</th>\n",
       "    </tr>\n",
       "  </thead>\n",
       "  <tbody>\n",
       "    <tr>\n",
       "      <th>California</th>\n",
       "      <td>38332521</td>\n",
       "      <td>423967</td>\n",
       "    </tr>\n",
       "    <tr>\n",
       "      <th>Texas</th>\n",
       "      <td>26448193</td>\n",
       "      <td>695662</td>\n",
       "    </tr>\n",
       "    <tr>\n",
       "      <th>New York</th>\n",
       "      <td>19651127</td>\n",
       "      <td>141297</td>\n",
       "    </tr>\n",
       "    <tr>\n",
       "      <th>Florida</th>\n",
       "      <td>19552860</td>\n",
       "      <td>170312</td>\n",
       "    </tr>\n",
       "    <tr>\n",
       "      <th>Illinois</th>\n",
       "      <td>12882135</td>\n",
       "      <td>149995</td>\n",
       "    </tr>\n",
       "  </tbody>\n",
       "</table>\n",
       "</div>"
      ],
      "text/plain": [
       "            population    area\n",
       "California    38332521  423967\n",
       "Texas         26448193  695662\n",
       "New York      19651127  141297\n",
       "Florida       19552860  170312\n",
       "Illinois      12882135  149995"
      ]
     },
     "execution_count": 5,
     "metadata": {},
     "output_type": "execute_result"
    }
   ],
   "source": [
    "states = pd.DataFrame({'population': population,\n",
    "                       'area': area})\n",
    "states"
   ]
  },
  {
   "cell_type": "code",
   "execution_count": 14,
   "metadata": {
    "ExecuteTime": {
     "end_time": "2021-01-14T14:07:43.855228Z",
     "start_time": "2021-01-14T14:07:43.849716Z"
    }
   },
   "outputs": [
    {
     "data": {
      "text/plain": [
       "Index(['population', 'area'], dtype='object')"
      ]
     },
     "execution_count": 14,
     "metadata": {},
     "output_type": "execute_result"
    }
   ],
   "source": [
    "states.columns"
   ]
  },
  {
   "cell_type": "markdown",
   "metadata": {},
   "source": [
    "## Machine Leaning in Python."
   ]
  },
  {
   "cell_type": "markdown",
   "metadata": {},
   "source": [
    "### scikit learn"
   ]
  },
  {
   "cell_type": "code",
   "execution_count": 2,
   "metadata": {
    "ExecuteTime": {
     "end_time": "2021-01-16T02:36:01.017233Z",
     "start_time": "2021-01-16T02:36:00.281485Z"
    }
   },
   "outputs": [
    {
     "data": {
      "text/html": [
       "<div>\n",
       "<style scoped>\n",
       "    .dataframe tbody tr th:only-of-type {\n",
       "        vertical-align: middle;\n",
       "    }\n",
       "\n",
       "    .dataframe tbody tr th {\n",
       "        vertical-align: top;\n",
       "    }\n",
       "\n",
       "    .dataframe thead th {\n",
       "        text-align: right;\n",
       "    }\n",
       "</style>\n",
       "<table border=\"1\" class=\"dataframe\">\n",
       "  <thead>\n",
       "    <tr style=\"text-align: right;\">\n",
       "      <th></th>\n",
       "      <th>sepal_length</th>\n",
       "      <th>sepal_width</th>\n",
       "      <th>petal_length</th>\n",
       "      <th>petal_width</th>\n",
       "      <th>species</th>\n",
       "    </tr>\n",
       "  </thead>\n",
       "  <tbody>\n",
       "    <tr>\n",
       "      <th>0</th>\n",
       "      <td>5.1</td>\n",
       "      <td>3.5</td>\n",
       "      <td>1.4</td>\n",
       "      <td>0.2</td>\n",
       "      <td>setosa</td>\n",
       "    </tr>\n",
       "    <tr>\n",
       "      <th>1</th>\n",
       "      <td>4.9</td>\n",
       "      <td>3.0</td>\n",
       "      <td>1.4</td>\n",
       "      <td>0.2</td>\n",
       "      <td>setosa</td>\n",
       "    </tr>\n",
       "    <tr>\n",
       "      <th>2</th>\n",
       "      <td>4.7</td>\n",
       "      <td>3.2</td>\n",
       "      <td>1.3</td>\n",
       "      <td>0.2</td>\n",
       "      <td>setosa</td>\n",
       "    </tr>\n",
       "    <tr>\n",
       "      <th>3</th>\n",
       "      <td>4.6</td>\n",
       "      <td>3.1</td>\n",
       "      <td>1.5</td>\n",
       "      <td>0.2</td>\n",
       "      <td>setosa</td>\n",
       "    </tr>\n",
       "    <tr>\n",
       "      <th>4</th>\n",
       "      <td>5.0</td>\n",
       "      <td>3.6</td>\n",
       "      <td>1.4</td>\n",
       "      <td>0.2</td>\n",
       "      <td>setosa</td>\n",
       "    </tr>\n",
       "  </tbody>\n",
       "</table>\n",
       "</div>"
      ],
      "text/plain": [
       "   sepal_length  sepal_width  petal_length  petal_width species\n",
       "0           5.1          3.5           1.4          0.2  setosa\n",
       "1           4.9          3.0           1.4          0.2  setosa\n",
       "2           4.7          3.2           1.3          0.2  setosa\n",
       "3           4.6          3.1           1.5          0.2  setosa\n",
       "4           5.0          3.6           1.4          0.2  setosa"
      ]
     },
     "execution_count": 2,
     "metadata": {},
     "output_type": "execute_result"
    }
   ],
   "source": [
    "import seaborn as sns\n",
    "iris = sns.load_dataset('iris')\n",
    "iris.head()"
   ]
  },
  {
   "cell_type": "code",
   "execution_count": 211,
   "metadata": {
    "ExecuteTime": {
     "end_time": "2021-01-15T07:36:30.445828Z",
     "start_time": "2021-01-15T07:36:28.412826Z"
    }
   },
   "outputs": [
    {
     "data": {
      "image/png": "[encoded data removed]",
      "text/plain": [
       "<Figure size 518.85x432 with 20 Axes>"
      ]
     },
     "metadata": {},
     "output_type": "display_data"
    }
   ],
   "source": [
    "%matplotlib inline\n",
    "import seaborn as sns; sns.set()\n",
    "sns.pairplot(iris, hue='species', height=1.5);"
   ]
  },
  {
   "cell_type": "markdown",
   "metadata": {},
   "source": [
    "---\n",
    "***makeing X and y to predictions.***"
   ]
  },
  {
   "cell_type": "code",
   "execution_count": 98,
   "metadata": {
    "ExecuteTime": {
     "end_time": "2021-01-15T04:03:52.413119Z",
     "start_time": "2021-01-15T04:03:52.406366Z"
    },
    "scrolled": true
   },
   "outputs": [],
   "source": [
    "X_iris = iris.drop('species', axis=1)\n",
    "X_iris.shape\n",
    "y_iris = iris['species']\n",
    "# y_iris.shape"
   ]
  },
  {
   "cell_type": "markdown",
   "metadata": {},
   "source": [
    "---\n",
    "simple example"
   ]
  },
  {
   "cell_type": "code",
   "execution_count": 212,
   "metadata": {
    "ExecuteTime": {
     "end_time": "2021-01-15T07:48:07.960047Z",
     "start_time": "2021-01-15T07:48:07.952259Z"
    }
   },
   "outputs": [],
   "source": [
    "rng = np.random.RandomState(1)\n",
    "X = rng.randint(5, size=(6, 100))\n",
    "y = np.array([1, 2, 3, 4, 5, 6])"
   ]
  },
  {
   "cell_type": "code",
   "execution_count": 213,
   "metadata": {
    "ExecuteTime": {
     "end_time": "2021-01-15T07:48:08.865245Z",
     "start_time": "2021-01-15T07:48:08.856757Z"
    }
   },
   "outputs": [
    {
     "data": {
      "text/plain": [
       "MultinomialNB()"
      ]
     },
     "execution_count": 213,
     "metadata": {},
     "output_type": "execute_result"
    }
   ],
   "source": [
    "from sklearn.naive_bayes import MultinomialNB\n",
    "clf = MultinomialNB()\n",
    "clf.fit(X, y)"
   ]
  },
  {
   "cell_type": "code",
   "execution_count": 214,
   "metadata": {
    "ExecuteTime": {
     "end_time": "2021-01-15T07:48:10.192952Z",
     "start_time": "2021-01-15T07:48:10.185137Z"
    }
   },
   "outputs": [
    {
     "name": "stdout",
     "output_type": "stream",
     "text": [
      "[3]\n"
     ]
    }
   ],
   "source": [
    "MultinomialNB()\n",
    "print(clf.predict(X[2:3]))"
   ]
  },
  {
   "cell_type": "code",
   "execution_count": 218,
   "metadata": {
    "ExecuteTime": {
     "end_time": "2021-01-15T07:50:01.164551Z",
     "start_time": "2021-01-15T07:50:01.138306Z"
    },
    "collapsed": true
   },
   "outputs": [
    {
     "ename": "ValueError",
     "evalue": "k-fold cross-validation requires at least one train/test split by setting n_splits=2 or more, got n_splits=1.",
     "output_type": "error",
     "traceback": [
      "\u001b[0;31m---------------------------------------------------------------------------\u001b[0m",
      "\u001b[0;31mValueError\u001b[0m                                Traceback (most recent call last)",
      "\u001b[0;32m<ipython-input-218-4ad7a1caf415>\u001b[0m in \u001b[0;36m<module>\u001b[0;34m\u001b[0m\n\u001b[1;32m      1\u001b[0m \u001b[0;32mfrom\u001b[0m \u001b[0msklearn\u001b[0m\u001b[0;34m.\u001b[0m\u001b[0mmodel_selection\u001b[0m \u001b[0;32mimport\u001b[0m \u001b[0mcross_val_score\u001b[0m\u001b[0;34m\u001b[0m\u001b[0;34m\u001b[0m\u001b[0m\n\u001b[0;32m----> 2\u001b[0;31m \u001b[0mcross_val_score\u001b[0m\u001b[0;34m(\u001b[0m\u001b[0mmodel\u001b[0m\u001b[0;34m,\u001b[0m \u001b[0mX\u001b[0m\u001b[0;34m,\u001b[0m \u001b[0my\u001b[0m\u001b[0;34m,\u001b[0m \u001b[0mcv\u001b[0m\u001b[0;34m=\u001b[0m\u001b[0;36m1\u001b[0m\u001b[0;34m)\u001b[0m\u001b[0;34m\u001b[0m\u001b[0;34m\u001b[0m\u001b[0m\n\u001b[0m",
      "\u001b[0;32m~/anaconda3/lib/python3.7/site-packages/sklearn/utils/validation.py\u001b[0m in \u001b[0;36minner_f\u001b[0;34m(*args, **kwargs)\u001b[0m\n\u001b[1;32m     61\u001b[0m             \u001b[0mextra_args\u001b[0m \u001b[0;34m=\u001b[0m \u001b[0mlen\u001b[0m\u001b[0;34m(\u001b[0m\u001b[0margs\u001b[0m\u001b[0;34m)\u001b[0m \u001b[0;34m-\u001b[0m \u001b[0mlen\u001b[0m\u001b[0;34m(\u001b[0m\u001b[0mall_args\u001b[0m\u001b[0;34m)\u001b[0m\u001b[0;34m\u001b[0m\u001b[0;34m\u001b[0m\u001b[0m\n\u001b[1;32m     62\u001b[0m             \u001b[0;32mif\u001b[0m \u001b[0mextra_args\u001b[0m \u001b[0;34m<=\u001b[0m \u001b[0;36m0\u001b[0m\u001b[0;34m:\u001b[0m\u001b[0;34m\u001b[0m\u001b[0;34m\u001b[0m\u001b[0m\n\u001b[0;32m---> 63\u001b[0;31m                 \u001b[0;32mreturn\u001b[0m \u001b[0mf\u001b[0m\u001b[0;34m(\u001b[0m\u001b[0;34m*\u001b[0m\u001b[0margs\u001b[0m\u001b[0;34m,\u001b[0m \u001b[0;34m**\u001b[0m\u001b[0mkwargs\u001b[0m\u001b[0;34m)\u001b[0m\u001b[0;34m\u001b[0m\u001b[0;34m\u001b[0m\u001b[0m\n\u001b[0m\u001b[1;32m     64\u001b[0m \u001b[0;34m\u001b[0m\u001b[0m\n\u001b[1;32m     65\u001b[0m             \u001b[0;31m# extra_args > 0\u001b[0m\u001b[0;34m\u001b[0m\u001b[0;34m\u001b[0m\u001b[0;34m\u001b[0m\u001b[0m\n",
      "\u001b[0;32m~/anaconda3/lib/python3.7/site-packages/sklearn/model_selection/_validation.py\u001b[0m in \u001b[0;36mcross_val_score\u001b[0;34m(estimator, X, y, groups, scoring, cv, n_jobs, verbose, fit_params, pre_dispatch, error_score)\u001b[0m\n\u001b[1;32m    443\u001b[0m                                 \u001b[0mfit_params\u001b[0m\u001b[0;34m=\u001b[0m\u001b[0mfit_params\u001b[0m\u001b[0;34m,\u001b[0m\u001b[0;34m\u001b[0m\u001b[0;34m\u001b[0m\u001b[0m\n\u001b[1;32m    444\u001b[0m                                 \u001b[0mpre_dispatch\u001b[0m\u001b[0;34m=\u001b[0m\u001b[0mpre_dispatch\u001b[0m\u001b[0;34m,\u001b[0m\u001b[0;34m\u001b[0m\u001b[0;34m\u001b[0m\u001b[0m\n\u001b[0;32m--> 445\u001b[0;31m                                 error_score=error_score)\n\u001b[0m\u001b[1;32m    446\u001b[0m     \u001b[0;32mreturn\u001b[0m \u001b[0mcv_results\u001b[0m\u001b[0;34m[\u001b[0m\u001b[0;34m'test_score'\u001b[0m\u001b[0;34m]\u001b[0m\u001b[0;34m\u001b[0m\u001b[0;34m\u001b[0m\u001b[0m\n\u001b[1;32m    447\u001b[0m \u001b[0;34m\u001b[0m\u001b[0m\n",
      "\u001b[0;32m~/anaconda3/lib/python3.7/site-packages/sklearn/utils/validation.py\u001b[0m in \u001b[0;36minner_f\u001b[0;34m(*args, **kwargs)\u001b[0m\n\u001b[1;32m     61\u001b[0m             \u001b[0mextra_args\u001b[0m \u001b[0;34m=\u001b[0m \u001b[0mlen\u001b[0m\u001b[0;34m(\u001b[0m\u001b[0margs\u001b[0m\u001b[0;34m)\u001b[0m \u001b[0;34m-\u001b[0m \u001b[0mlen\u001b[0m\u001b[0;34m(\u001b[0m\u001b[0mall_args\u001b[0m\u001b[0;34m)\u001b[0m\u001b[0;34m\u001b[0m\u001b[0;34m\u001b[0m\u001b[0m\n\u001b[1;32m     62\u001b[0m             \u001b[0;32mif\u001b[0m \u001b[0mextra_args\u001b[0m \u001b[0;34m<=\u001b[0m \u001b[0;36m0\u001b[0m\u001b[0;34m:\u001b[0m\u001b[0;34m\u001b[0m\u001b[0;34m\u001b[0m\u001b[0m\n\u001b[0;32m---> 63\u001b[0;31m                 \u001b[0;32mreturn\u001b[0m \u001b[0mf\u001b[0m\u001b[0;34m(\u001b[0m\u001b[0;34m*\u001b[0m\u001b[0margs\u001b[0m\u001b[0;34m,\u001b[0m \u001b[0;34m**\u001b[0m\u001b[0mkwargs\u001b[0m\u001b[0;34m)\u001b[0m\u001b[0;34m\u001b[0m\u001b[0;34m\u001b[0m\u001b[0m\n\u001b[0m\u001b[1;32m     64\u001b[0m \u001b[0;34m\u001b[0m\u001b[0m\n\u001b[1;32m     65\u001b[0m             \u001b[0;31m# extra_args > 0\u001b[0m\u001b[0;34m\u001b[0m\u001b[0;34m\u001b[0m\u001b[0;34m\u001b[0m\u001b[0m\n",
      "\u001b[0;32m~/anaconda3/lib/python3.7/site-packages/sklearn/model_selection/_validation.py\u001b[0m in \u001b[0;36mcross_validate\u001b[0;34m(estimator, X, y, groups, scoring, cv, n_jobs, verbose, fit_params, pre_dispatch, return_train_score, return_estimator, error_score)\u001b[0m\n\u001b[1;32m    231\u001b[0m     \u001b[0mX\u001b[0m\u001b[0;34m,\u001b[0m \u001b[0my\u001b[0m\u001b[0;34m,\u001b[0m \u001b[0mgroups\u001b[0m \u001b[0;34m=\u001b[0m \u001b[0mindexable\u001b[0m\u001b[0;34m(\u001b[0m\u001b[0mX\u001b[0m\u001b[0;34m,\u001b[0m \u001b[0my\u001b[0m\u001b[0;34m,\u001b[0m \u001b[0mgroups\u001b[0m\u001b[0;34m)\u001b[0m\u001b[0;34m\u001b[0m\u001b[0;34m\u001b[0m\u001b[0m\n\u001b[1;32m    232\u001b[0m \u001b[0;34m\u001b[0m\u001b[0m\n\u001b[0;32m--> 233\u001b[0;31m     \u001b[0mcv\u001b[0m \u001b[0;34m=\u001b[0m \u001b[0mcheck_cv\u001b[0m\u001b[0;34m(\u001b[0m\u001b[0mcv\u001b[0m\u001b[0;34m,\u001b[0m \u001b[0my\u001b[0m\u001b[0;34m,\u001b[0m \u001b[0mclassifier\u001b[0m\u001b[0;34m=\u001b[0m\u001b[0mis_classifier\u001b[0m\u001b[0;34m(\u001b[0m\u001b[0mestimator\u001b[0m\u001b[0;34m)\u001b[0m\u001b[0;34m)\u001b[0m\u001b[0;34m\u001b[0m\u001b[0;34m\u001b[0m\u001b[0m\n\u001b[0m\u001b[1;32m    234\u001b[0m \u001b[0;34m\u001b[0m\u001b[0m\n\u001b[1;32m    235\u001b[0m     \u001b[0;32mif\u001b[0m \u001b[0mcallable\u001b[0m\u001b[0;34m(\u001b[0m\u001b[0mscoring\u001b[0m\u001b[0;34m)\u001b[0m\u001b[0;34m:\u001b[0m\u001b[0;34m\u001b[0m\u001b[0;34m\u001b[0m\u001b[0m\n",
      "\u001b[0;32m~/anaconda3/lib/python3.7/site-packages/sklearn/utils/validation.py\u001b[0m in \u001b[0;36minner_f\u001b[0;34m(*args, **kwargs)\u001b[0m\n\u001b[1;32m     61\u001b[0m             \u001b[0mextra_args\u001b[0m \u001b[0;34m=\u001b[0m \u001b[0mlen\u001b[0m\u001b[0;34m(\u001b[0m\u001b[0margs\u001b[0m\u001b[0;34m)\u001b[0m \u001b[0;34m-\u001b[0m \u001b[0mlen\u001b[0m\u001b[0;34m(\u001b[0m\u001b[0mall_args\u001b[0m\u001b[0;34m)\u001b[0m\u001b[0;34m\u001b[0m\u001b[0;34m\u001b[0m\u001b[0m\n\u001b[1;32m     62\u001b[0m             \u001b[0;32mif\u001b[0m \u001b[0mextra_args\u001b[0m \u001b[0;34m<=\u001b[0m \u001b[0;36m0\u001b[0m\u001b[0;34m:\u001b[0m\u001b[0;34m\u001b[0m\u001b[0;34m\u001b[0m\u001b[0m\n\u001b[0;32m---> 63\u001b[0;31m                 \u001b[0;32mreturn\u001b[0m \u001b[0mf\u001b[0m\u001b[0;34m(\u001b[0m\u001b[0;34m*\u001b[0m\u001b[0margs\u001b[0m\u001b[0;34m,\u001b[0m \u001b[0;34m**\u001b[0m\u001b[0mkwargs\u001b[0m\u001b[0;34m)\u001b[0m\u001b[0;34m\u001b[0m\u001b[0;34m\u001b[0m\u001b[0m\n\u001b[0m\u001b[1;32m     64\u001b[0m \u001b[0;34m\u001b[0m\u001b[0m\n\u001b[1;32m     65\u001b[0m             \u001b[0;31m# extra_args > 0\u001b[0m\u001b[0;34m\u001b[0m\u001b[0;34m\u001b[0m\u001b[0;34m\u001b[0m\u001b[0m\n",
      "\u001b[0;32m~/anaconda3/lib/python3.7/site-packages/sklearn/model_selection/_split.py\u001b[0m in \u001b[0;36mcheck_cv\u001b[0;34m(cv, y, classifier)\u001b[0m\n\u001b[1;32m   2060\u001b[0m         if (classifier and (y is not None) and\n\u001b[1;32m   2061\u001b[0m                 (type_of_target(y) in ('binary', 'multiclass'))):\n\u001b[0;32m-> 2062\u001b[0;31m             \u001b[0;32mreturn\u001b[0m \u001b[0mStratifiedKFold\u001b[0m\u001b[0;34m(\u001b[0m\u001b[0mcv\u001b[0m\u001b[0;34m)\u001b[0m\u001b[0;34m\u001b[0m\u001b[0;34m\u001b[0m\u001b[0m\n\u001b[0m\u001b[1;32m   2063\u001b[0m         \u001b[0;32melse\u001b[0m\u001b[0;34m:\u001b[0m\u001b[0;34m\u001b[0m\u001b[0;34m\u001b[0m\u001b[0m\n\u001b[1;32m   2064\u001b[0m             \u001b[0;32mreturn\u001b[0m \u001b[0mKFold\u001b[0m\u001b[0;34m(\u001b[0m\u001b[0mcv\u001b[0m\u001b[0;34m)\u001b[0m\u001b[0;34m\u001b[0m\u001b[0;34m\u001b[0m\u001b[0m\n",
      "\u001b[0;32m~/anaconda3/lib/python3.7/site-packages/sklearn/utils/validation.py\u001b[0m in \u001b[0;36minner_f\u001b[0;34m(*args, **kwargs)\u001b[0m\n\u001b[1;32m     61\u001b[0m             \u001b[0mextra_args\u001b[0m \u001b[0;34m=\u001b[0m \u001b[0mlen\u001b[0m\u001b[0;34m(\u001b[0m\u001b[0margs\u001b[0m\u001b[0;34m)\u001b[0m \u001b[0;34m-\u001b[0m \u001b[0mlen\u001b[0m\u001b[0;34m(\u001b[0m\u001b[0mall_args\u001b[0m\u001b[0;34m)\u001b[0m\u001b[0;34m\u001b[0m\u001b[0;34m\u001b[0m\u001b[0m\n\u001b[1;32m     62\u001b[0m             \u001b[0;32mif\u001b[0m \u001b[0mextra_args\u001b[0m \u001b[0;34m<=\u001b[0m \u001b[0;36m0\u001b[0m\u001b[0;34m:\u001b[0m\u001b[0;34m\u001b[0m\u001b[0;34m\u001b[0m\u001b[0m\n\u001b[0;32m---> 63\u001b[0;31m                 \u001b[0;32mreturn\u001b[0m \u001b[0mf\u001b[0m\u001b[0;34m(\u001b[0m\u001b[0;34m*\u001b[0m\u001b[0margs\u001b[0m\u001b[0;34m,\u001b[0m \u001b[0;34m**\u001b[0m\u001b[0mkwargs\u001b[0m\u001b[0;34m)\u001b[0m\u001b[0;34m\u001b[0m\u001b[0;34m\u001b[0m\u001b[0m\n\u001b[0m\u001b[1;32m     64\u001b[0m \u001b[0;34m\u001b[0m\u001b[0m\n\u001b[1;32m     65\u001b[0m             \u001b[0;31m# extra_args > 0\u001b[0m\u001b[0;34m\u001b[0m\u001b[0;34m\u001b[0m\u001b[0;34m\u001b[0m\u001b[0m\n",
      "\u001b[0;32m~/anaconda3/lib/python3.7/site-packages/sklearn/model_selection/_split.py\u001b[0m in \u001b[0;36m__init__\u001b[0;34m(self, n_splits, shuffle, random_state)\u001b[0m\n\u001b[1;32m    635\u001b[0m     \u001b[0;32mdef\u001b[0m \u001b[0m__init__\u001b[0m\u001b[0;34m(\u001b[0m\u001b[0mself\u001b[0m\u001b[0;34m,\u001b[0m \u001b[0mn_splits\u001b[0m\u001b[0;34m=\u001b[0m\u001b[0;36m5\u001b[0m\u001b[0;34m,\u001b[0m \u001b[0;34m*\u001b[0m\u001b[0;34m,\u001b[0m \u001b[0mshuffle\u001b[0m\u001b[0;34m=\u001b[0m\u001b[0;32mFalse\u001b[0m\u001b[0;34m,\u001b[0m \u001b[0mrandom_state\u001b[0m\u001b[0;34m=\u001b[0m\u001b[0;32mNone\u001b[0m\u001b[0;34m)\u001b[0m\u001b[0;34m:\u001b[0m\u001b[0;34m\u001b[0m\u001b[0;34m\u001b[0m\u001b[0m\n\u001b[1;32m    636\u001b[0m         super().__init__(n_splits=n_splits, shuffle=shuffle,\n\u001b[0;32m--> 637\u001b[0;31m                          random_state=random_state)\n\u001b[0m\u001b[1;32m    638\u001b[0m \u001b[0;34m\u001b[0m\u001b[0m\n\u001b[1;32m    639\u001b[0m     \u001b[0;32mdef\u001b[0m \u001b[0m_make_test_folds\u001b[0m\u001b[0;34m(\u001b[0m\u001b[0mself\u001b[0m\u001b[0;34m,\u001b[0m \u001b[0mX\u001b[0m\u001b[0;34m,\u001b[0m \u001b[0my\u001b[0m\u001b[0;34m=\u001b[0m\u001b[0;32mNone\u001b[0m\u001b[0;34m)\u001b[0m\u001b[0;34m:\u001b[0m\u001b[0;34m\u001b[0m\u001b[0;34m\u001b[0m\u001b[0m\n",
      "\u001b[0;32m~/anaconda3/lib/python3.7/site-packages/sklearn/utils/validation.py\u001b[0m in \u001b[0;36minner_f\u001b[0;34m(*args, **kwargs)\u001b[0m\n\u001b[1;32m     61\u001b[0m             \u001b[0mextra_args\u001b[0m \u001b[0;34m=\u001b[0m \u001b[0mlen\u001b[0m\u001b[0;34m(\u001b[0m\u001b[0margs\u001b[0m\u001b[0;34m)\u001b[0m \u001b[0;34m-\u001b[0m \u001b[0mlen\u001b[0m\u001b[0;34m(\u001b[0m\u001b[0mall_args\u001b[0m\u001b[0;34m)\u001b[0m\u001b[0;34m\u001b[0m\u001b[0;34m\u001b[0m\u001b[0m\n\u001b[1;32m     62\u001b[0m             \u001b[0;32mif\u001b[0m \u001b[0mextra_args\u001b[0m \u001b[0;34m<=\u001b[0m \u001b[0;36m0\u001b[0m\u001b[0;34m:\u001b[0m\u001b[0;34m\u001b[0m\u001b[0;34m\u001b[0m\u001b[0m\n\u001b[0;32m---> 63\u001b[0;31m                 \u001b[0;32mreturn\u001b[0m \u001b[0mf\u001b[0m\u001b[0;34m(\u001b[0m\u001b[0;34m*\u001b[0m\u001b[0margs\u001b[0m\u001b[0;34m,\u001b[0m \u001b[0;34m**\u001b[0m\u001b[0mkwargs\u001b[0m\u001b[0;34m)\u001b[0m\u001b[0;34m\u001b[0m\u001b[0;34m\u001b[0m\u001b[0m\n\u001b[0m\u001b[1;32m     64\u001b[0m \u001b[0;34m\u001b[0m\u001b[0m\n\u001b[1;32m     65\u001b[0m             \u001b[0;31m# extra_args > 0\u001b[0m\u001b[0;34m\u001b[0m\u001b[0;34m\u001b[0m\u001b[0;34m\u001b[0m\u001b[0m\n",
      "\u001b[0;32m~/anaconda3/lib/python3.7/site-packages/sklearn/model_selection/_split.py\u001b[0m in \u001b[0;36m__init__\u001b[0;34m(self, n_splits, shuffle, random_state)\u001b[0m\n\u001b[1;32m    281\u001b[0m                 \u001b[0;34m\"k-fold cross-validation requires at least one\"\u001b[0m\u001b[0;34m\u001b[0m\u001b[0;34m\u001b[0m\u001b[0m\n\u001b[1;32m    282\u001b[0m                 \u001b[0;34m\" train/test split by setting n_splits=2 or more,\"\u001b[0m\u001b[0;34m\u001b[0m\u001b[0;34m\u001b[0m\u001b[0m\n\u001b[0;32m--> 283\u001b[0;31m                 \" got n_splits={0}.\".format(n_splits))\n\u001b[0m\u001b[1;32m    284\u001b[0m \u001b[0;34m\u001b[0m\u001b[0m\n\u001b[1;32m    285\u001b[0m         \u001b[0;32mif\u001b[0m \u001b[0;32mnot\u001b[0m \u001b[0misinstance\u001b[0m\u001b[0;34m(\u001b[0m\u001b[0mshuffle\u001b[0m\u001b[0;34m,\u001b[0m \u001b[0mbool\u001b[0m\u001b[0;34m)\u001b[0m\u001b[0;34m:\u001b[0m\u001b[0;34m\u001b[0m\u001b[0;34m\u001b[0m\u001b[0m\n",
      "\u001b[0;31mValueError\u001b[0m: k-fold cross-validation requires at least one train/test split by setting n_splits=2 or more, got n_splits=1."
     ]
    }
   ],
   "source": []
  },
  {
   "cell_type": "markdown",
   "metadata": {
    "ExecuteTime": {
     "end_time": "2021-01-15T04:11:32.305207Z",
     "start_time": "2021-01-15T04:11:32.299771Z"
    }
   },
   "source": [
    "---\n",
    "simple example done; iris prediction continued:"
   ]
  },
  {
   "cell_type": "markdown",
   "metadata": {},
   "source": [
    "---\n",
    "***vectorize.***\n"
   ]
  },
  {
   "cell_type": "code",
   "execution_count": 3,
   "metadata": {
    "ExecuteTime": {
     "end_time": "2021-01-16T02:36:07.345597Z",
     "start_time": "2021-01-16T02:36:07.147669Z"
    }
   },
   "outputs": [],
   "source": [
    "from sklearn.feature_extraction.text import TfidfVectorizer\n",
    "from sklearn.naive_bayes import MultinomialNB\n",
    "from sklearn.pipeline import make_pipeline\n",
    "\n",
    "model = make_pipeline(TfidfVectorizer(), MultinomialNB())"
   ]
  },
  {
   "cell_type": "code",
   "execution_count": 140,
   "metadata": {
    "ExecuteTime": {
     "end_time": "2021-01-15T04:20:49.415261Z",
     "start_time": "2021-01-15T04:20:49.411794Z"
    }
   },
   "outputs": [],
   "source": [
    "from sklearn.feature_extraction import DictVectorizer\n",
    "# vec = DictVectorizer(sparse=True, dtype=int)\n",
    "# vec.fit_transform(yy)"
   ]
  },
  {
   "cell_type": "code",
   "execution_count": 168,
   "metadata": {
    "ExecuteTime": {
     "end_time": "2021-01-15T06:54:56.717163Z",
     "start_time": "2021-01-15T06:54:56.709245Z"
    },
    "scrolled": false
   },
   "outputs": [],
   "source": [
    "iris_new = pd.get_dummies(iris, columns = ['species'], drop_first = False)"
   ]
  },
  {
   "cell_type": "code",
   "execution_count": 175,
   "metadata": {
    "ExecuteTime": {
     "end_time": "2021-01-15T06:56:07.533593Z",
     "start_time": "2021-01-15T06:56:07.509218Z"
    },
    "collapsed": true
   },
   "outputs": [
    {
     "data": {
      "text/html": [
       "<div>\n",
       "<style scoped>\n",
       "    .dataframe tbody tr th:only-of-type {\n",
       "        vertical-align: middle;\n",
       "    }\n",
       "\n",
       "    .dataframe tbody tr th {\n",
       "        vertical-align: top;\n",
       "    }\n",
       "\n",
       "    .dataframe thead th {\n",
       "        text-align: right;\n",
       "    }\n",
       "</style>\n",
       "<table border=\"1\" class=\"dataframe\">\n",
       "  <thead>\n",
       "    <tr style=\"text-align: right;\">\n",
       "      <th></th>\n",
       "      <th>sepal_length</th>\n",
       "      <th>sepal_width</th>\n",
       "      <th>petal_length</th>\n",
       "      <th>petal_width</th>\n",
       "      <th>species_setosa</th>\n",
       "      <th>species_versicolor</th>\n",
       "      <th>species_virginica</th>\n",
       "    </tr>\n",
       "  </thead>\n",
       "  <tbody>\n",
       "    <tr>\n",
       "      <th>0</th>\n",
       "      <td>5.1</td>\n",
       "      <td>3.5</td>\n",
       "      <td>1.4</td>\n",
       "      <td>0.2</td>\n",
       "      <td>1</td>\n",
       "      <td>0</td>\n",
       "      <td>0</td>\n",
       "    </tr>\n",
       "    <tr>\n",
       "      <th>1</th>\n",
       "      <td>4.9</td>\n",
       "      <td>3.0</td>\n",
       "      <td>1.4</td>\n",
       "      <td>0.2</td>\n",
       "      <td>1</td>\n",
       "      <td>0</td>\n",
       "      <td>0</td>\n",
       "    </tr>\n",
       "    <tr>\n",
       "      <th>2</th>\n",
       "      <td>4.7</td>\n",
       "      <td>3.2</td>\n",
       "      <td>1.3</td>\n",
       "      <td>0.2</td>\n",
       "      <td>1</td>\n",
       "      <td>0</td>\n",
       "      <td>0</td>\n",
       "    </tr>\n",
       "    <tr>\n",
       "      <th>3</th>\n",
       "      <td>4.6</td>\n",
       "      <td>3.1</td>\n",
       "      <td>1.5</td>\n",
       "      <td>0.2</td>\n",
       "      <td>1</td>\n",
       "      <td>0</td>\n",
       "      <td>0</td>\n",
       "    </tr>\n",
       "    <tr>\n",
       "      <th>4</th>\n",
       "      <td>5.0</td>\n",
       "      <td>3.6</td>\n",
       "      <td>1.4</td>\n",
       "      <td>0.2</td>\n",
       "      <td>1</td>\n",
       "      <td>0</td>\n",
       "      <td>0</td>\n",
       "    </tr>\n",
       "  </tbody>\n",
       "</table>\n",
       "</div>"
      ],
      "text/plain": [
       "   sepal_length  sepal_width  petal_length  petal_width  species_setosa  \\\n",
       "0           5.1          3.5           1.4          0.2               1   \n",
       "1           4.9          3.0           1.4          0.2               1   \n",
       "2           4.7          3.2           1.3          0.2               1   \n",
       "3           4.6          3.1           1.5          0.2               1   \n",
       "4           5.0          3.6           1.4          0.2               1   \n",
       "\n",
       "   species_versicolor  species_virginica  \n",
       "0                   0                  0  \n",
       "1                   0                  0  \n",
       "2                   0                  0  \n",
       "3                   0                  0  \n",
       "4                   0                  0  "
      ]
     },
     "execution_count": 175,
     "metadata": {},
     "output_type": "execute_result"
    }
   ],
   "source": [
    "iris_new.head()"
   ]
  },
  {
   "cell_type": "code",
   "execution_count": 179,
   "metadata": {
    "ExecuteTime": {
     "end_time": "2021-01-15T06:57:06.641601Z",
     "start_time": "2021-01-15T06:57:06.635208Z"
    }
   },
   "outputs": [],
   "source": [
    "X = np.array(iris_new.iloc[:,0:4])\n",
    "y = np.array(iris_new.iloc[:, 4:])"
   ]
  },
  {
   "cell_type": "code",
   "execution_count": 197,
   "metadata": {
    "ExecuteTime": {
     "end_time": "2021-01-15T07:05:22.185503Z",
     "start_time": "2021-01-15T07:05:22.177254Z"
    },
    "collapsed": true
   },
   "outputs": [
    {
     "data": {
      "text/plain": [
       "0         setosa\n",
       "1         setosa\n",
       "2         setosa\n",
       "3         setosa\n",
       "4         setosa\n",
       "         ...    \n",
       "145    virginica\n",
       "146    virginica\n",
       "147    virginica\n",
       "148    virginica\n",
       "149    virginica\n",
       "Name: species, Length: 150, dtype: object"
      ]
     },
     "execution_count": 197,
     "metadata": {},
     "output_type": "execute_result"
    }
   ],
   "source": [
    "iris.iloc[:, 4]"
   ]
  },
  {
   "cell_type": "markdown",
   "metadata": {},
   "source": [
    "---\n",
    "***train the model***"
   ]
  },
  {
   "cell_type": "code",
   "execution_count": 193,
   "metadata": {
    "ExecuteTime": {
     "end_time": "2021-01-15T07:04:05.086665Z",
     "start_time": "2021-01-15T07:04:05.082762Z"
    },
    "scrolled": true
   },
   "outputs": [],
   "source": [
    "model = GaussianNB() "
   ]
  },
  {
   "cell_type": "code",
   "execution_count": 198,
   "metadata": {
    "ExecuteTime": {
     "end_time": "2021-01-15T07:05:27.011906Z",
     "start_time": "2021-01-15T07:05:27.000974Z"
    }
   },
   "outputs": [
    {
     "data": {
      "text/plain": [
       "GaussianNB()"
      ]
     },
     "execution_count": 198,
     "metadata": {},
     "output_type": "execute_result"
    }
   ],
   "source": [
    "model.fit(X , iris.iloc[:, 4])"
   ]
  },
  {
   "cell_type": "code",
   "execution_count": 203,
   "metadata": {
    "ExecuteTime": {
     "end_time": "2021-01-15T07:07:08.466671Z",
     "start_time": "2021-01-15T07:07:08.460018Z"
    }
   },
   "outputs": [
    {
     "data": {
      "text/plain": [
       "array(['setosa'], dtype='<U10')"
      ]
     },
     "execution_count": 203,
     "metadata": {},
     "output_type": "execute_result"
    }
   ],
   "source": [
    "model.predict(X[4:5])"
   ]
  },
  {
   "cell_type": "markdown",
   "metadata": {},
   "source": [
    "---\n",
    "***做的乱七八糟, 但相当于把iris naive classification 重做了***"
   ]
  },
  {
   "cell_type": "markdown",
   "metadata": {},
   "source": [
    "### another example\n"
   ]
  },
  {
   "cell_type": "code",
   "execution_count": 36,
   "metadata": {
    "ExecuteTime": {
     "end_time": "2021-01-14T14:22:54.166930Z",
     "start_time": "2021-01-14T14:22:54.038234Z"
    }
   },
   "outputs": [
    {
     "data": {
      "image/png": "[encoded data removed]",
      "text/plain": [
       "<Figure size 432x288 with 1 Axes>"
      ]
     },
     "metadata": {},
     "output_type": "display_data"
    }
   ],
   "source": [
    "rng = np.random.RandomState(42)\n",
    "x = 10 * rng.rand(50)\n",
    "y = 2 * x - 1 + rng.randn(50)\n",
    "plt.scatter(x, y);"
   ]
  },
  {
   "cell_type": "code",
   "execution_count": 4,
   "metadata": {
    "ExecuteTime": {
     "end_time": "2021-01-16T02:36:13.065864Z",
     "start_time": "2021-01-16T02:36:12.964139Z"
    }
   },
   "outputs": [],
   "source": [
    "from sklearn.linear_model import LinearRegression"
   ]
  },
  {
   "cell_type": "code",
   "execution_count": 37,
   "metadata": {
    "ExecuteTime": {
     "end_time": "2021-01-14T14:23:03.595827Z",
     "start_time": "2021-01-14T14:23:03.588951Z"
    }
   },
   "outputs": [
    {
     "data": {
      "text/plain": [
       "LinearRegression()"
      ]
     },
     "execution_count": 37,
     "metadata": {},
     "output_type": "execute_result"
    }
   ],
   "source": [
    "model = LinearRegression(fit_intercept=True)\n",
    "model\n",
    "X = x[:, np.newaxis]\n",
    "X.shape\n",
    "model.fit(X, y)"
   ]
  },
  {
   "cell_type": "code",
   "execution_count": 26,
   "metadata": {
    "ExecuteTime": {
     "end_time": "2021-01-14T14:20:03.216515Z",
     "start_time": "2021-01-14T14:20:03.210025Z"
    }
   },
   "outputs": [
    {
     "data": {
      "text/plain": [
       "(array([1.9776566]), -0.9033107255311164)"
      ]
     },
     "execution_count": 26,
     "metadata": {},
     "output_type": "execute_result"
    }
   ],
   "source": [
    "(model.coef_ , model.intercept_)"
   ]
  },
  {
   "cell_type": "code",
   "execution_count": 5,
   "metadata": {
    "ExecuteTime": {
     "end_time": "2021-01-16T02:36:16.806380Z",
     "start_time": "2021-01-16T02:36:16.335687Z"
    },
    "collapsed": true
   },
   "outputs": [
    {
     "ename": "NameError",
     "evalue": "name 'X' is not defined",
     "output_type": "error",
     "traceback": [
      "\u001b[0;31m---------------------------------------------------------------------------\u001b[0m",
      "\u001b[0;31mNameError\u001b[0m                                 Traceback (most recent call last)",
      "\u001b[0;32m<ipython-input-5-a6b40b7fcd49>\u001b[0m in \u001b[0;36m<module>\u001b[0;34m\u001b[0m\n\u001b[1;32m      1\u001b[0m \u001b[0;32mimport\u001b[0m \u001b[0mstatsmodels\u001b[0m\u001b[0;34m.\u001b[0m\u001b[0mapi\u001b[0m \u001b[0;32mas\u001b[0m \u001b[0msm\u001b[0m\u001b[0;34m\u001b[0m\u001b[0;34m\u001b[0m\u001b[0m\n\u001b[0;32m----> 2\u001b[0;31m \u001b[0mX\u001b[0m \u001b[0;34m=\u001b[0m \u001b[0msm\u001b[0m\u001b[0;34m.\u001b[0m\u001b[0madd_constant\u001b[0m\u001b[0;34m(\u001b[0m\u001b[0mX\u001b[0m\u001b[0;34m)\u001b[0m\u001b[0;34m\u001b[0m\u001b[0;34m\u001b[0m\u001b[0m\n\u001b[0m\u001b[1;32m      3\u001b[0m \u001b[0;34m\u001b[0m\u001b[0m\n\u001b[1;32m      4\u001b[0m \u001b[0mmodel\u001b[0m \u001b[0;34m=\u001b[0m \u001b[0msm\u001b[0m\u001b[0;34m.\u001b[0m\u001b[0mOLS\u001b[0m\u001b[0;34m(\u001b[0m\u001b[0my\u001b[0m\u001b[0;34m,\u001b[0m \u001b[0mX\u001b[0m\u001b[0;34m)\u001b[0m\u001b[0;34m.\u001b[0m\u001b[0mfit\u001b[0m\u001b[0;34m(\u001b[0m\u001b[0;34m)\u001b[0m\u001b[0;34m\u001b[0m\u001b[0;34m\u001b[0m\u001b[0m\n\u001b[1;32m      5\u001b[0m \u001b[0;31m# Print out the statistics\u001b[0m\u001b[0;34m\u001b[0m\u001b[0;34m\u001b[0m\u001b[0;34m\u001b[0m\u001b[0m\n",
      "\u001b[0;31mNameError\u001b[0m: name 'X' is not defined"
     ]
    }
   ],
   "source": [
    "import statsmodels.api as sm\n",
    "X = sm.add_constant(X)\n",
    "\n",
    "model = sm.OLS(y, X).fit()\n",
    "# Print out the statistics\n",
    "model.summary()"
   ]
  },
  {
   "cell_type": "markdown",
   "metadata": {},
   "source": [
    "### scikit predict"
   ]
  },
  {
   "cell_type": "code",
   "execution_count": 38,
   "metadata": {
    "ExecuteTime": {
     "end_time": "2021-01-14T14:23:10.439487Z",
     "start_time": "2021-01-14T14:23:10.436028Z"
    }
   },
   "outputs": [],
   "source": [
    "xfit = np.linspace(-1, 11) # 有序数据集合? \n",
    "# numpy.linspace(start, stop, \n",
    "# num=50, endpoint=True, retstep=False, dtype=None, axis=0)"
   ]
  },
  {
   "cell_type": "code",
   "execution_count": 41,
   "metadata": {
    "ExecuteTime": {
     "end_time": "2021-01-14T14:25:54.022332Z",
     "start_time": "2021-01-14T14:25:54.018614Z"
    }
   },
   "outputs": [],
   "source": [
    "Xfit = xfit[:, np.newaxis]\n",
    "yfit = model.predict(Xfit)"
   ]
  },
  {
   "cell_type": "code",
   "execution_count": 42,
   "metadata": {
    "ExecuteTime": {
     "end_time": "2021-01-14T14:26:09.755076Z",
     "start_time": "2021-01-14T14:26:09.641487Z"
    }
   },
   "outputs": [
    {
     "data": {
      "image/png": "[encoded data removed]",
      "text/plain": [
       "<Figure size 432x288 with 1 Axes>"
      ]
     },
     "metadata": {},
     "output_type": "display_data"
    }
   ],
   "source": [
    "plt.scatter(x, y)\n",
    "plt.plot(xfit, yfit);"
   ]
  },
  {
   "cell_type": "markdown",
   "metadata": {},
   "source": [
    "## --------------------------------------------\n"
   ]
  },
  {
   "cell_type": "markdown",
   "metadata": {},
   "source": [
    "## Gaussian Naive Bayes classification."
   ]
  },
  {
   "cell_type": "code",
   "execution_count": 6,
   "metadata": {
    "ExecuteTime": {
     "end_time": "2021-01-16T02:36:24.579737Z",
     "start_time": "2021-01-16T02:36:24.576862Z"
    }
   },
   "outputs": [],
   "source": [
    "from sklearn.model_selection import train_test_split"
   ]
  },
  {
   "cell_type": "code",
   "execution_count": 190,
   "metadata": {
    "ExecuteTime": {
     "end_time": "2021-01-15T07:03:55.603196Z",
     "start_time": "2021-01-15T07:03:55.595758Z"
    }
   },
   "outputs": [],
   "source": [
    "Xtrain, Xtest, ytrain, ytest = train_test_split(\n",
    "    X_iris, y_iris, random_state=1)"
   ]
  },
  {
   "cell_type": "code",
   "execution_count": 7,
   "metadata": {
    "ExecuteTime": {
     "end_time": "2021-01-16T02:36:27.083407Z",
     "start_time": "2021-01-16T02:36:27.068369Z"
    },
    "collapsed": true
   },
   "outputs": [
    {
     "ename": "NameError",
     "evalue": "name 'Xtrain' is not defined",
     "output_type": "error",
     "traceback": [
      "\u001b[0;31m---------------------------------------------------------------------------\u001b[0m",
      "\u001b[0;31mNameError\u001b[0m                                 Traceback (most recent call last)",
      "\u001b[0;32m<ipython-input-7-03732ab04d19>\u001b[0m in \u001b[0;36m<module>\u001b[0;34m\u001b[0m\n\u001b[1;32m      1\u001b[0m \u001b[0;32mfrom\u001b[0m \u001b[0msklearn\u001b[0m\u001b[0;34m.\u001b[0m\u001b[0mnaive_bayes\u001b[0m \u001b[0;32mimport\u001b[0m \u001b[0mGaussianNB\u001b[0m \u001b[0;31m# 1. choose model class\u001b[0m\u001b[0;34m\u001b[0m\u001b[0;34m\u001b[0m\u001b[0m\n\u001b[1;32m      2\u001b[0m \u001b[0mmodel\u001b[0m \u001b[0;34m=\u001b[0m \u001b[0mGaussianNB\u001b[0m\u001b[0;34m(\u001b[0m\u001b[0;34m)\u001b[0m                       \u001b[0;31m# 2. instantiate model\u001b[0m\u001b[0;34m\u001b[0m\u001b[0;34m\u001b[0m\u001b[0m\n\u001b[0;32m----> 3\u001b[0;31m \u001b[0mmodel\u001b[0m\u001b[0;34m.\u001b[0m\u001b[0mfit\u001b[0m\u001b[0;34m(\u001b[0m\u001b[0mXtrain\u001b[0m\u001b[0;34m,\u001b[0m \u001b[0mytrain\u001b[0m\u001b[0;34m)\u001b[0m                  \u001b[0;31m# 3. fit model to data\u001b[0m\u001b[0;34m\u001b[0m\u001b[0;34m\u001b[0m\u001b[0m\n\u001b[0m\u001b[1;32m      4\u001b[0m \u001b[0my_model\u001b[0m \u001b[0;34m=\u001b[0m \u001b[0mmodel\u001b[0m\u001b[0;34m.\u001b[0m\u001b[0mpredict\u001b[0m\u001b[0;34m(\u001b[0m\u001b[0mXtest\u001b[0m\u001b[0;34m)\u001b[0m\u001b[0;34m\u001b[0m\u001b[0;34m\u001b[0m\u001b[0m\n",
      "\u001b[0;31mNameError\u001b[0m: name 'Xtrain' is not defined"
     ]
    }
   ],
   "source": [
    "from sklearn.naive_bayes import GaussianNB # 1. choose model class\n",
    "model = GaussianNB()                       # 2. instantiate model\n",
    "model.fit(Xtrain, ytrain)                  # 3. fit model to data\n",
    "y_model = model.predict(Xtest)   "
   ]
  },
  {
   "cell_type": "code",
   "execution_count": 192,
   "metadata": {
    "ExecuteTime": {
     "end_time": "2021-01-15T07:04:01.567070Z",
     "start_time": "2021-01-15T07:04:01.556490Z"
    }
   },
   "outputs": [
    {
     "data": {
      "text/plain": [
       "0.9736842105263158"
      ]
     },
     "execution_count": 192,
     "metadata": {},
     "output_type": "execute_result"
    }
   ],
   "source": [
    "from sklearn.metrics import accuracy_score\n",
    "accuracy_score(ytest, y_model)"
   ]
  },
  {
   "cell_type": "code",
   "execution_count": null,
   "metadata": {},
   "outputs": [],
   "source": []
  },
  {
   "cell_type": "markdown",
   "metadata": {},
   "source": [
    "## multinomial naive bayes (text classificaiton)\n"
   ]
  },
  {
   "cell_type": "code",
   "execution_count": 39,
   "metadata": {
    "ExecuteTime": {
     "end_time": "2021-01-15T03:23:22.155127Z",
     "start_time": "2021-01-15T03:23:21.943972Z"
    }
   },
   "outputs": [
    {
     "data": {
      "text/plain": [
       "['alt.atheism',\n",
       " 'comp.graphics',\n",
       " 'comp.os.ms-windows.misc',\n",
       " 'comp.sys.ibm.pc.hardware',\n",
       " 'comp.sys.mac.hardware',\n",
       " 'comp.windows.x',\n",
       " 'misc.forsale',\n",
       " 'rec.autos',\n",
       " 'rec.motorcycles',\n",
       " 'rec.sport.baseball',\n",
       " 'rec.sport.hockey',\n",
       " 'sci.crypt',\n",
       " 'sci.electronics',\n",
       " 'sci.med',\n",
       " 'sci.space',\n",
       " 'soc.religion.christian',\n",
       " 'talk.politics.guns',\n",
       " 'talk.politics.mideast',\n",
       " 'talk.politics.misc',\n",
       " 'talk.religion.misc']"
      ]
     },
     "execution_count": 39,
     "metadata": {},
     "output_type": "execute_result"
    }
   ],
   "source": [
    "from sklearn.datasets import fetch_20newsgroups\n",
    "\n",
    "data = fetch_20newsgroups()\n",
    "data.target_names"
   ]
  },
  {
   "cell_type": "code",
   "execution_count": 38,
   "metadata": {
    "ExecuteTime": {
     "end_time": "2021-01-15T03:22:07.171439Z",
     "start_time": "2021-01-15T03:22:07.152242Z"
    },
    "collapsed": true
   },
   "outputs": [
    {
     "ename": "AttributeError",
     "evalue": "summary",
     "output_type": "error",
     "traceback": [
      "\u001b[0;31m---------------------------------------------------------------------------\u001b[0m",
      "\u001b[0;31mKeyError\u001b[0m                                  Traceback (most recent call last)",
      "\u001b[0;32m~/anaconda3/lib/python3.7/site-packages/sklearn/utils/__init__.py\u001b[0m in \u001b[0;36m__getattr__\u001b[0;34m(self, key)\u001b[0m\n\u001b[1;32m     93\u001b[0m         \u001b[0;32mtry\u001b[0m\u001b[0;34m:\u001b[0m\u001b[0;34m\u001b[0m\u001b[0;34m\u001b[0m\u001b[0m\n\u001b[0;32m---> 94\u001b[0;31m             \u001b[0;32mreturn\u001b[0m \u001b[0mself\u001b[0m\u001b[0;34m[\u001b[0m\u001b[0mkey\u001b[0m\u001b[0;34m]\u001b[0m\u001b[0;34m\u001b[0m\u001b[0;34m\u001b[0m\u001b[0m\n\u001b[0m\u001b[1;32m     95\u001b[0m         \u001b[0;32mexcept\u001b[0m \u001b[0mKeyError\u001b[0m\u001b[0;34m:\u001b[0m\u001b[0;34m\u001b[0m\u001b[0;34m\u001b[0m\u001b[0m\n",
      "\u001b[0;31mKeyError\u001b[0m: 'summary'",
      "\nDuring handling of the above exception, another exception occurred:\n",
      "\u001b[0;31mAttributeError\u001b[0m                            Traceback (most recent call last)",
      "\u001b[0;32m<ipython-input-38-b4d8ab92d1ea>\u001b[0m in \u001b[0;36m<module>\u001b[0;34m\u001b[0m\n\u001b[0;32m----> 1\u001b[0;31m \u001b[0mdata\u001b[0m\u001b[0;34m.\u001b[0m\u001b[0msummary\u001b[0m \u001b[0;31m#信件含有以上内容的主题\u001b[0m\u001b[0;34m\u001b[0m\u001b[0;34m\u001b[0m\u001b[0m\n\u001b[0m",
      "\u001b[0;32m~/anaconda3/lib/python3.7/site-packages/sklearn/utils/__init__.py\u001b[0m in \u001b[0;36m__getattr__\u001b[0;34m(self, key)\u001b[0m\n\u001b[1;32m     94\u001b[0m             \u001b[0;32mreturn\u001b[0m \u001b[0mself\u001b[0m\u001b[0;34m[\u001b[0m\u001b[0mkey\u001b[0m\u001b[0;34m]\u001b[0m\u001b[0;34m\u001b[0m\u001b[0;34m\u001b[0m\u001b[0m\n\u001b[1;32m     95\u001b[0m         \u001b[0;32mexcept\u001b[0m \u001b[0mKeyError\u001b[0m\u001b[0;34m:\u001b[0m\u001b[0;34m\u001b[0m\u001b[0;34m\u001b[0m\u001b[0m\n\u001b[0;32m---> 96\u001b[0;31m             \u001b[0;32mraise\u001b[0m \u001b[0mAttributeError\u001b[0m\u001b[0;34m(\u001b[0m\u001b[0mkey\u001b[0m\u001b[0;34m)\u001b[0m\u001b[0;34m\u001b[0m\u001b[0;34m\u001b[0m\u001b[0m\n\u001b[0m\u001b[1;32m     97\u001b[0m \u001b[0;34m\u001b[0m\u001b[0m\n\u001b[1;32m     98\u001b[0m     \u001b[0;32mdef\u001b[0m \u001b[0m__setstate__\u001b[0m\u001b[0;34m(\u001b[0m\u001b[0mself\u001b[0m\u001b[0;34m,\u001b[0m \u001b[0mstate\u001b[0m\u001b[0;34m)\u001b[0m\u001b[0;34m:\u001b[0m\u001b[0;34m\u001b[0m\u001b[0;34m\u001b[0m\u001b[0m\n",
      "\u001b[0;31mAttributeError\u001b[0m: summary"
     ]
    }
   ],
   "source": [
    "data.summary #信件含有以上内容的主题"
   ]
  },
  {
   "cell_type": "code",
   "execution_count": 20,
   "metadata": {
    "ExecuteTime": {
     "end_time": "2021-01-15T03:17:08.169238Z",
     "start_time": "2021-01-15T03:17:07.760559Z"
    }
   },
   "outputs": [],
   "source": [
    "categories = [\n",
    "    'talk.religion.misc', 'soc.religion.christian', 'sci.space',\n",
    "    'comp.graphics'\n",
    "]\n",
    "train = fetch_20newsgroups(subset='train', categories=categories)\n",
    "test = fetch_20newsgroups(subset='test', categories=categories)\n",
    "# subset are contained in original data.\n",
    "# the content is fixed/."
   ]
  },
  {
   "cell_type": "code",
   "execution_count": 25,
   "metadata": {
    "ExecuteTime": {
     "end_time": "2021-01-15T03:17:45.898260Z",
     "start_time": "2021-01-15T03:17:45.891530Z"
    }
   },
   "outputs": [
    {
     "data": {
      "text/plain": [
       "array([2, 2, 1, ..., 2, 3, 1])"
      ]
     },
     "execution_count": 25,
     "metadata": {},
     "output_type": "execute_result"
    }
   ],
   "source": [
    "# print(train.data[5]) # seems to be religious\n",
    "\n",
    "# train.target"
   ]
  },
  {
   "cell_type": "code",
   "execution_count": 77,
   "metadata": {
    "ExecuteTime": {
     "end_time": "2021-01-14T15:47:42.936968Z",
     "start_time": "2021-01-14T15:47:42.931351Z"
    }
   },
   "outputs": [],
   "source": [
    "from sklearn.feature_extraction.text import TfidfVectorizer\n",
    "from sklearn.naive_bayes import MultinomialNB\n",
    "from sklearn.pipeline import make_pipeline\n",
    "\n",
    "model = make_pipeline(TfidfVectorizer(), MultinomialNB())"
   ]
  },
  {
   "cell_type": "code",
   "execution_count": 79,
   "metadata": {
    "ExecuteTime": {
     "end_time": "2021-01-14T15:49:33.133705Z",
     "start_time": "2021-01-14T15:49:32.392796Z"
    }
   },
   "outputs": [],
   "source": [
    "model.fit(train.data, train.target)\n",
    "labels = model.predict(test.data)"
   ]
  },
  {
   "cell_type": "code",
   "execution_count": 82,
   "metadata": {
    "ExecuteTime": {
     "end_time": "2021-01-14T15:51:18.292444Z",
     "start_time": "2021-01-14T15:51:18.161946Z"
    }
   },
   "outputs": [
    {
     "data": {
      "image/png": "[encoded data removed]",
      "text/plain": [
       "<Figure size 432x288 with 1 Axes>"
      ]
     },
     "metadata": {},
     "output_type": "display_data"
    }
   ],
   "source": [
    "from sklearn.metrics import confusion_matrix\n",
    "mat = confusion_matrix(test.target, labels)\n",
    "sns.heatmap(mat.T, square=True, annot=True, fmt='d', cbar=False,\n",
    "            xticklabels=train.target_names, yticklabels=train.target_names)    \n",
    "plt.xlabel('true label')\n",
    "plt.ylabel('predicted label');"
   ]
  },
  {
   "cell_type": "code",
   "execution_count": 86,
   "metadata": {
    "ExecuteTime": {
     "end_time": "2021-01-14T15:53:29.413503Z",
     "start_time": "2021-01-14T15:53:29.409052Z"
    }
   },
   "outputs": [],
   "source": [
    "def predict_category(s, train=train, model=model):\n",
    "    pred = model.predict([s])\n",
    "    return train.target_names[pred[0]]\n",
    "#write a function"
   ]
  },
  {
   "cell_type": "code",
   "execution_count": 1,
   "metadata": {
    "ExecuteTime": {
     "end_time": "2021-01-15T02:41:25.633887Z",
     "start_time": "2021-01-15T02:41:25.552736Z"
    },
    "collapsed": true
   },
   "outputs": [
    {
     "ename": "NameError",
     "evalue": "name 'predict_category' is not defined",
     "output_type": "error",
     "traceback": [
      "\u001b[0;31m---------------------------------------------------------------------------\u001b[0m",
      "\u001b[0;31mNameError\u001b[0m                                 Traceback (most recent call last)",
      "\u001b[0;32m<ipython-input-1-75b12bfcda5a>\u001b[0m in \u001b[0;36m<module>\u001b[0;34m\u001b[0m\n\u001b[0;32m----> 1\u001b[0;31m \u001b[0mpredict_category\u001b[0m\u001b[0;34m(\u001b[0m\u001b[0;34m'moon is over my head, my god, my lord'\u001b[0m\u001b[0;34m)\u001b[0m\u001b[0;34m\u001b[0m\u001b[0;34m\u001b[0m\u001b[0m\n\u001b[0m",
      "\u001b[0;31mNameError\u001b[0m: name 'predict_category' is not defined"
     ]
    }
   ],
   "source": [
    "predict_category('moon is over my head, my god, my lord')"
   ]
  },
  {
   "cell_type": "markdown",
   "metadata": {},
   "source": [
    "## --------------------------------------------\n"
   ]
  },
  {
   "cell_type": "markdown",
   "metadata": {},
   "source": [
    "## a knn classifier using iris."
   ]
  },
  {
   "cell_type": "code",
   "execution_count": 220,
   "metadata": {
    "ExecuteTime": {
     "end_time": "2021-01-15T07:51:24.894345Z",
     "start_time": "2021-01-15T07:51:24.884947Z"
    }
   },
   "outputs": [],
   "source": [
    "from sklearn.datasets import load_iris\n",
    "iris = load_iris()\n",
    "X = iris.data\n",
    "y = iris.target"
   ]
  },
  {
   "cell_type": "code",
   "execution_count": 221,
   "metadata": {
    "ExecuteTime": {
     "end_time": "2021-01-15T07:51:25.496509Z",
     "start_time": "2021-01-15T07:51:25.492975Z"
    }
   },
   "outputs": [],
   "source": [
    "from sklearn.neighbors import KNeighborsClassifier\n",
    "model = KNeighborsClassifier(n_neighbors=1)"
   ]
  },
  {
   "cell_type": "code",
   "execution_count": 222,
   "metadata": {
    "ExecuteTime": {
     "end_time": "2021-01-15T07:51:26.142400Z",
     "start_time": "2021-01-15T07:51:26.124816Z"
    }
   },
   "outputs": [],
   "source": [
    "model.fit(X, y)\n",
    "y_model = model.predict(X)"
   ]
  },
  {
   "cell_type": "code",
   "execution_count": 223,
   "metadata": {
    "ExecuteTime": {
     "end_time": "2021-01-15T07:51:26.673676Z",
     "start_time": "2021-01-15T07:51:26.666360Z"
    }
   },
   "outputs": [
    {
     "data": {
      "text/plain": [
       "1.0"
      ]
     },
     "execution_count": 223,
     "metadata": {},
     "output_type": "execute_result"
    }
   ],
   "source": [
    "from sklearn.metrics import accuracy_score\n",
    "accuracy_score(y, y_model)"
   ]
  },
  {
   "cell_type": "code",
   "execution_count": 224,
   "metadata": {
    "ExecuteTime": {
     "end_time": "2021-01-15T07:51:27.884372Z",
     "start_time": "2021-01-15T07:51:27.864121Z"
    }
   },
   "outputs": [
    {
     "data": {
      "text/plain": [
       "0.9736842105263158"
      ]
     },
     "execution_count": 224,
     "metadata": {},
     "output_type": "execute_result"
    }
   ],
   "source": [
    "from sklearn.model_selection import train_test_split\n",
    "# No module named 'sklearn.cross_validation'\n",
    "# split the data with 50% in each set\n",
    "X1, X2, y1, y2 = train_test_split(X, y, random_state=0,\n",
    "                                  train_size=0.75)\n",
    "\n",
    "# fit the model on one set of data\n",
    "model.fit(X1, y1)\n",
    "\n",
    "# evaluate the model on the second set of data\n",
    "y2_model = model.predict(X2)\n",
    "accuracy_score(y2, y2_model)"
   ]
  },
  {
   "cell_type": "markdown",
   "metadata": {},
   "source": [
    "## k-fold validation and leave one out -- validation."
   ]
  },
  {
   "cell_type": "code",
   "execution_count": 30,
   "metadata": {
    "ExecuteTime": {
     "end_time": "2021-01-16T08:21:02.637894Z",
     "start_time": "2021-01-16T08:21:02.612228Z"
    },
    "collapsed": true
   },
   "outputs": [
    {
     "name": "stderr",
     "output_type": "stream",
     "text": [
      "/Users/fyenne/anaconda3/lib/python3.7/site-packages/sklearn/model_selection/_validation.py:614: FitFailedWarning: Estimator fit failed. The score on this train-test partition for these parameters will be set to nan. Details: \n",
      "Traceback (most recent call last):\n",
      "  File \"/Users/fyenne/anaconda3/lib/python3.7/site-packages/sklearn/model_selection/_validation.py\", line 593, in _fit_and_score\n",
      "    estimator.fit(X_train, y_train, **fit_params)\n",
      "  File \"/Users/fyenne/anaconda3/lib/python3.7/site-packages/sklearn/naive_bayes.py\", line 210, in fit\n",
      "    sample_weight=sample_weight)\n",
      "  File \"/Users/fyenne/anaconda3/lib/python3.7/site-packages/sklearn/naive_bayes.py\", line 374, in _partial_fit\n",
      "    if _check_partial_fit_first_call(self, classes):\n",
      "  File \"/Users/fyenne/anaconda3/lib/python3.7/site-packages/sklearn/utils/multiclass.py\", line 339, in _check_partial_fit_first_call\n",
      "    clf.classes_ = unique_labels(classes)\n",
      "  File \"/Users/fyenne/anaconda3/lib/python3.7/site-packages/sklearn/utils/multiclass.py\", line 98, in unique_labels\n",
      "    raise ValueError(\"Unknown label type: %s\" % repr(ys))\n",
      "ValueError: Unknown label type: (array([-0.20201375,  0.54626444,  0.67301646,  0.8992155 ,  0.9746409 ,\n",
      "        1.09605993,  1.73425177,  1.8305394 ,  1.88404109,  4.51082693,\n",
      "        5.0456151 ,  5.14639037,  5.42819209,  5.70193919,  5.87386864,\n",
      "        6.16043712,  6.59281674,  6.68597765,  6.98083184,  7.49515774,\n",
      "        8.1929663 ,  8.23148858,  8.32873282,  8.39917725,  8.50272859,\n",
      "        8.55755817,  8.70162943,  8.92229631,  8.96816213,  9.086429  ,\n",
      "        9.50648826,  9.856233  ,  9.997533  , 10.37406543]),)\n",
      "\n",
      "  FitFailedWarning)\n",
      "/Users/fyenne/anaconda3/lib/python3.7/site-packages/sklearn/model_selection/_validation.py:614: FitFailedWarning: Estimator fit failed. The score on this train-test partition for these parameters will be set to nan. Details: \n",
      "Traceback (most recent call last):\n",
      "  File \"/Users/fyenne/anaconda3/lib/python3.7/site-packages/sklearn/model_selection/_validation.py\", line 593, in _fit_and_score\n",
      "    estimator.fit(X_train, y_train, **fit_params)\n",
      "  File \"/Users/fyenne/anaconda3/lib/python3.7/site-packages/sklearn/naive_bayes.py\", line 210, in fit\n",
      "    sample_weight=sample_weight)\n",
      "  File \"/Users/fyenne/anaconda3/lib/python3.7/site-packages/sklearn/naive_bayes.py\", line 374, in _partial_fit\n",
      "    if _check_partial_fit_first_call(self, classes):\n",
      "  File \"/Users/fyenne/anaconda3/lib/python3.7/site-packages/sklearn/utils/multiclass.py\", line 339, in _check_partial_fit_first_call\n",
      "    clf.classes_ = unique_labels(classes)\n",
      "  File \"/Users/fyenne/anaconda3/lib/python3.7/site-packages/sklearn/utils/multiclass.py\", line 98, in unique_labels\n",
      "    raise ValueError(\"Unknown label type: %s\" % repr(ys))\n",
      "ValueError: Unknown label type: (array([-0.20201375, -0.12288892,  0.54626444,  0.67301646,  0.8992155 ,\n",
      "        0.9746409 ,  1.09605993,  1.31600899,  1.50418461,  1.73425177,\n",
      "        1.8305394 ,  3.83970623,  4.51082693,  5.14639037,  5.87386864,\n",
      "        6.16043712,  6.68597765,  6.98083184,  7.24998644,  7.49515774,\n",
      "        7.70041705,  8.1929663 ,  8.32873282,  8.39917725,  8.50272859,\n",
      "        8.55755817,  8.70162943,  8.92229631,  8.96816213,  9.086429  ,\n",
      "        9.50648826,  9.856233  ,  9.997533  , 10.37406543]),)\n",
      "\n",
      "  FitFailedWarning)\n",
      "/Users/fyenne/anaconda3/lib/python3.7/site-packages/sklearn/model_selection/_validation.py:614: FitFailedWarning: Estimator fit failed. The score on this train-test partition for these parameters will be set to nan. Details: \n",
      "Traceback (most recent call last):\n",
      "  File \"/Users/fyenne/anaconda3/lib/python3.7/site-packages/sklearn/model_selection/_validation.py\", line 593, in _fit_and_score\n",
      "    estimator.fit(X_train, y_train, **fit_params)\n",
      "  File \"/Users/fyenne/anaconda3/lib/python3.7/site-packages/sklearn/naive_bayes.py\", line 210, in fit\n",
      "    sample_weight=sample_weight)\n",
      "  File \"/Users/fyenne/anaconda3/lib/python3.7/site-packages/sklearn/naive_bayes.py\", line 374, in _partial_fit\n",
      "    if _check_partial_fit_first_call(self, classes):\n",
      "  File \"/Users/fyenne/anaconda3/lib/python3.7/site-packages/sklearn/utils/multiclass.py\", line 339, in _check_partial_fit_first_call\n",
      "    clf.classes_ = unique_labels(classes)\n",
      "  File \"/Users/fyenne/anaconda3/lib/python3.7/site-packages/sklearn/utils/multiclass.py\", line 98, in unique_labels\n",
      "    raise ValueError(\"Unknown label type: %s\" % repr(ys))\n",
      "ValueError: Unknown label type: (array([-0.20201375, -0.12288892,  0.54626444,  0.67301646,  0.8992155 ,\n",
      "        0.9746409 ,  1.09605993,  1.31600899,  1.50418461,  1.88404109,\n",
      "        3.83970623,  4.51082693,  5.0456151 ,  5.14639037,  5.42819209,\n",
      "        5.70193919,  5.87386864,  6.59281674,  6.98083184,  7.24998644,\n",
      "        7.49515774,  7.70041705,  8.1929663 ,  8.23148858,  8.32873282,\n",
      "        8.39917725,  8.50272859,  8.55755817,  8.70162943,  8.96816213,\n",
      "        9.50648826,  9.856233  ,  9.997533  , 10.37406543]),)\n",
      "\n",
      "  FitFailedWarning)\n",
      "/Users/fyenne/anaconda3/lib/python3.7/site-packages/sklearn/model_selection/_validation.py:614: FitFailedWarning: Estimator fit failed. The score on this train-test partition for these parameters will be set to nan. Details: \n",
      "Traceback (most recent call last):\n",
      "  File \"/Users/fyenne/anaconda3/lib/python3.7/site-packages/sklearn/model_selection/_validation.py\", line 593, in _fit_and_score\n",
      "    estimator.fit(X_train, y_train, **fit_params)\n",
      "  File \"/Users/fyenne/anaconda3/lib/python3.7/site-packages/sklearn/naive_bayes.py\", line 210, in fit\n",
      "    sample_weight=sample_weight)\n",
      "  File \"/Users/fyenne/anaconda3/lib/python3.7/site-packages/sklearn/naive_bayes.py\", line 374, in _partial_fit\n",
      "    if _check_partial_fit_first_call(self, classes):\n",
      "  File \"/Users/fyenne/anaconda3/lib/python3.7/site-packages/sklearn/utils/multiclass.py\", line 339, in _check_partial_fit_first_call\n",
      "    clf.classes_ = unique_labels(classes)\n",
      "  File \"/Users/fyenne/anaconda3/lib/python3.7/site-packages/sklearn/utils/multiclass.py\", line 98, in unique_labels\n",
      "    raise ValueError(\"Unknown label type: %s\" % repr(ys))\n",
      "ValueError: Unknown label type: (array([-0.20201375, -0.12288892,  0.54626444,  0.67301646,  0.9746409 ,\n",
      "        1.09605993,  1.31600899,  1.50418461,  1.73425177,  1.8305394 ,\n",
      "        1.88404109,  3.83970623,  5.0456151 ,  5.42819209,  5.70193919,\n",
      "        5.87386864,  6.16043712,  6.59281674,  6.68597765,  6.98083184,\n",
      "        7.24998644,  7.49515774,  7.70041705,  8.1929663 ,  8.23148858,\n",
      "        8.32873282,  8.50272859,  8.55755817,  8.92229631,  8.96816213,\n",
      "        9.086429  ,  9.50648826,  9.856233  ,  9.997533  ]),)\n",
      "\n",
      "  FitFailedWarning)\n",
      "/Users/fyenne/anaconda3/lib/python3.7/site-packages/sklearn/model_selection/_validation.py:614: FitFailedWarning: Estimator fit failed. The score on this train-test partition for these parameters will be set to nan. Details: \n",
      "Traceback (most recent call last):\n",
      "  File \"/Users/fyenne/anaconda3/lib/python3.7/site-packages/sklearn/model_selection/_validation.py\", line 593, in _fit_and_score\n",
      "    estimator.fit(X_train, y_train, **fit_params)\n",
      "  File \"/Users/fyenne/anaconda3/lib/python3.7/site-packages/sklearn/naive_bayes.py\", line 210, in fit\n",
      "    sample_weight=sample_weight)\n",
      "  File \"/Users/fyenne/anaconda3/lib/python3.7/site-packages/sklearn/naive_bayes.py\", line 374, in _partial_fit\n",
      "    if _check_partial_fit_first_call(self, classes):\n",
      "  File \"/Users/fyenne/anaconda3/lib/python3.7/site-packages/sklearn/utils/multiclass.py\", line 339, in _check_partial_fit_first_call\n",
      "    clf.classes_ = unique_labels(classes)\n",
      "  File \"/Users/fyenne/anaconda3/lib/python3.7/site-packages/sklearn/utils/multiclass.py\", line 98, in unique_labels\n",
      "    raise ValueError(\"Unknown label type: %s\" % repr(ys))\n",
      "ValueError: Unknown label type: (array([-0.12288892,  0.54626444,  0.67301646,  0.8992155 ,  1.31600899,\n",
      "        1.50418461,  1.73425177,  1.8305394 ,  1.88404109,  3.83970623,\n",
      "        4.51082693,  5.0456151 ,  5.14639037,  5.42819209,  5.70193919,\n",
      "        5.87386864,  6.16043712,  6.59281674,  6.68597765,  6.98083184,\n",
      "        7.24998644,  7.49515774,  7.70041705,  8.1929663 ,  8.23148858,\n",
      "        8.32873282,  8.39917725,  8.55755817,  8.70162943,  8.92229631,\n",
      "        9.086429  ,  9.856233  ,  9.997533  , 10.37406543]),)\n",
      "\n",
      "  FitFailedWarning)\n",
      "/Users/fyenne/anaconda3/lib/python3.7/site-packages/sklearn/model_selection/_validation.py:614: FitFailedWarning: Estimator fit failed. The score on this train-test partition for these parameters will be set to nan. Details: \n",
      "Traceback (most recent call last):\n",
      "  File \"/Users/fyenne/anaconda3/lib/python3.7/site-packages/sklearn/model_selection/_validation.py\", line 593, in _fit_and_score\n",
      "    estimator.fit(X_train, y_train, **fit_params)\n",
      "  File \"/Users/fyenne/anaconda3/lib/python3.7/site-packages/sklearn/naive_bayes.py\", line 210, in fit\n",
      "    sample_weight=sample_weight)\n",
      "  File \"/Users/fyenne/anaconda3/lib/python3.7/site-packages/sklearn/naive_bayes.py\", line 374, in _partial_fit\n",
      "    if _check_partial_fit_first_call(self, classes):\n",
      "  File \"/Users/fyenne/anaconda3/lib/python3.7/site-packages/sklearn/utils/multiclass.py\", line 339, in _check_partial_fit_first_call\n",
      "    clf.classes_ = unique_labels(classes)\n",
      "  File \"/Users/fyenne/anaconda3/lib/python3.7/site-packages/sklearn/utils/multiclass.py\", line 98, in unique_labels\n",
      "    raise ValueError(\"Unknown label type: %s\" % repr(ys))\n",
      "ValueError: Unknown label type: (array([-0.20201375, -0.12288892,  0.54626444,  0.8992155 ,  0.9746409 ,\n",
      "        1.09605993,  1.31600899,  1.50418461,  1.73425177,  1.8305394 ,\n",
      "        1.88404109,  3.83970623,  4.51082693,  5.0456151 ,  5.14639037,\n",
      "        5.42819209,  5.70193919,  5.87386864,  6.16043712,  6.59281674,\n",
      "        6.68597765,  7.24998644,  7.49515774,  7.70041705,  8.1929663 ,\n",
      "        8.23148858,  8.39917725,  8.50272859,  8.70162943,  8.92229631,\n",
      "        8.96816213,  9.086429  ,  9.50648826,  9.997533  , 10.37406543]),)\n",
      "\n",
      "  FitFailedWarning)\n",
      "/Users/fyenne/anaconda3/lib/python3.7/site-packages/sklearn/model_selection/_validation.py:614: FitFailedWarning: Estimator fit failed. The score on this train-test partition for these parameters will be set to nan. Details: \n",
      "Traceback (most recent call last):\n",
      "  File \"/Users/fyenne/anaconda3/lib/python3.7/site-packages/sklearn/model_selection/_validation.py\", line 593, in _fit_and_score\n",
      "    estimator.fit(X_train, y_train, **fit_params)\n",
      "  File \"/Users/fyenne/anaconda3/lib/python3.7/site-packages/sklearn/naive_bayes.py\", line 210, in fit\n",
      "    sample_weight=sample_weight)\n",
      "  File \"/Users/fyenne/anaconda3/lib/python3.7/site-packages/sklearn/naive_bayes.py\", line 374, in _partial_fit\n",
      "    if _check_partial_fit_first_call(self, classes):\n",
      "  File \"/Users/fyenne/anaconda3/lib/python3.7/site-packages/sklearn/utils/multiclass.py\", line 339, in _check_partial_fit_first_call\n",
      "    clf.classes_ = unique_labels(classes)\n",
      "  File \"/Users/fyenne/anaconda3/lib/python3.7/site-packages/sklearn/utils/multiclass.py\", line 98, in unique_labels\n",
      "    raise ValueError(\"Unknown label type: %s\" % repr(ys))\n",
      "ValueError: Unknown label type: (array([-0.20201375, -0.12288892,  0.67301646,  0.8992155 ,  0.9746409 ,\n",
      "        1.09605993,  1.31600899,  1.50418461,  1.73425177,  1.8305394 ,\n",
      "        1.88404109,  3.83970623,  4.51082693,  5.0456151 ,  5.14639037,\n",
      "        5.42819209,  5.70193919,  6.16043712,  6.59281674,  6.68597765,\n",
      "        6.98083184,  7.24998644,  7.70041705,  8.23148858,  8.32873282,\n",
      "        8.39917725,  8.50272859,  8.55755817,  8.70162943,  8.92229631,\n",
      "        8.96816213,  9.086429  ,  9.50648826,  9.856233  , 10.37406543]),)\n",
      "\n",
      "  FitFailedWarning)\n"
     ]
    },
    {
     "data": {
      "text/plain": [
       "array([nan, nan, nan, nan, nan, nan, nan])"
      ]
     },
     "execution_count": 30,
     "metadata": {},
     "output_type": "execute_result"
    }
   ],
   "source": [
    "from sklearn.model_selection import cross_val_score\n",
    "cross_val_score(model, X, y, cv=7)"
   ]
  },
  {
   "cell_type": "code",
   "execution_count": 31,
   "metadata": {
    "ExecuteTime": {
     "end_time": "2021-01-16T08:21:04.756996Z",
     "start_time": "2021-01-16T08:21:04.701833Z"
    },
    "collapsed": true
   },
   "outputs": [
    {
     "name": "stderr",
     "output_type": "stream",
     "text": [
      "/Users/fyenne/anaconda3/lib/python3.7/site-packages/sklearn/model_selection/_validation.py:614: FitFailedWarning: Estimator fit failed. The score on this train-test partition for these parameters will be set to nan. Details: \n",
      "Traceback (most recent call last):\n",
      "  File \"/Users/fyenne/anaconda3/lib/python3.7/site-packages/sklearn/model_selection/_validation.py\", line 593, in _fit_and_score\n",
      "    estimator.fit(X_train, y_train, **fit_params)\n",
      "  File \"/Users/fyenne/anaconda3/lib/python3.7/site-packages/sklearn/naive_bayes.py\", line 210, in fit\n",
      "    sample_weight=sample_weight)\n",
      "  File \"/Users/fyenne/anaconda3/lib/python3.7/site-packages/sklearn/naive_bayes.py\", line 374, in _partial_fit\n",
      "    if _check_partial_fit_first_call(self, classes):\n",
      "  File \"/Users/fyenne/anaconda3/lib/python3.7/site-packages/sklearn/utils/multiclass.py\", line 339, in _check_partial_fit_first_call\n",
      "    clf.classes_ = unique_labels(classes)\n",
      "  File \"/Users/fyenne/anaconda3/lib/python3.7/site-packages/sklearn/utils/multiclass.py\", line 98, in unique_labels\n",
      "    raise ValueError(\"Unknown label type: %s\" % repr(ys))\n",
      "ValueError: Unknown label type: (array([-0.20201375, -0.12288892,  0.54626444,  0.67301646,  0.8992155 ,\n",
      "        0.9746409 ,  1.09605993,  1.31600899,  1.50418461,  1.73425177,\n",
      "        1.8305394 ,  1.88404109,  3.83970623,  4.51082693,  5.0456151 ,\n",
      "        5.14639037,  5.42819209,  5.70193919,  5.87386864,  6.16043712,\n",
      "        6.59281674,  6.68597765,  6.98083184,  7.49515774,  7.70041705,\n",
      "        8.1929663 ,  8.23148858,  8.32873282,  8.39917725,  8.50272859,\n",
      "        8.55755817,  8.70162943,  8.92229631,  8.96816213,  9.086429  ,\n",
      "        9.50648826,  9.856233  ,  9.997533  , 10.37406543]),)\n",
      "\n",
      "  FitFailedWarning)\n",
      "/Users/fyenne/anaconda3/lib/python3.7/site-packages/sklearn/model_selection/_validation.py:614: FitFailedWarning: Estimator fit failed. The score on this train-test partition for these parameters will be set to nan. Details: \n",
      "Traceback (most recent call last):\n",
      "  File \"/Users/fyenne/anaconda3/lib/python3.7/site-packages/sklearn/model_selection/_validation.py\", line 593, in _fit_and_score\n",
      "    estimator.fit(X_train, y_train, **fit_params)\n",
      "  File \"/Users/fyenne/anaconda3/lib/python3.7/site-packages/sklearn/naive_bayes.py\", line 210, in fit\n",
      "    sample_weight=sample_weight)\n",
      "  File \"/Users/fyenne/anaconda3/lib/python3.7/site-packages/sklearn/naive_bayes.py\", line 374, in _partial_fit\n",
      "    if _check_partial_fit_first_call(self, classes):\n",
      "  File \"/Users/fyenne/anaconda3/lib/python3.7/site-packages/sklearn/utils/multiclass.py\", line 339, in _check_partial_fit_first_call\n",
      "    clf.classes_ = unique_labels(classes)\n",
      "  File \"/Users/fyenne/anaconda3/lib/python3.7/site-packages/sklearn/utils/multiclass.py\", line 98, in unique_labels\n",
      "    raise ValueError(\"Unknown label type: %s\" % repr(ys))\n",
      "ValueError: Unknown label type: (array([-0.20201375, -0.12288892,  0.54626444,  0.67301646,  0.8992155 ,\n",
      "        0.9746409 ,  1.09605993,  1.31600899,  1.50418461,  1.73425177,\n",
      "        1.8305394 ,  1.88404109,  3.83970623,  4.51082693,  5.0456151 ,\n",
      "        5.14639037,  5.42819209,  5.70193919,  5.87386864,  6.16043712,\n",
      "        6.59281674,  6.68597765,  6.98083184,  7.24998644,  7.49515774,\n",
      "        8.1929663 ,  8.23148858,  8.32873282,  8.39917725,  8.50272859,\n",
      "        8.55755817,  8.70162943,  8.92229631,  8.96816213,  9.086429  ,\n",
      "        9.50648826,  9.856233  ,  9.997533  , 10.37406543]),)\n",
      "\n",
      "  FitFailedWarning)\n",
      "/Users/fyenne/anaconda3/lib/python3.7/site-packages/sklearn/model_selection/_validation.py:614: FitFailedWarning: Estimator fit failed. The score on this train-test partition for these parameters will be set to nan. Details: \n",
      "Traceback (most recent call last):\n",
      "  File \"/Users/fyenne/anaconda3/lib/python3.7/site-packages/sklearn/model_selection/_validation.py\", line 593, in _fit_and_score\n",
      "    estimator.fit(X_train, y_train, **fit_params)\n",
      "  File \"/Users/fyenne/anaconda3/lib/python3.7/site-packages/sklearn/naive_bayes.py\", line 210, in fit\n",
      "    sample_weight=sample_weight)\n",
      "  File \"/Users/fyenne/anaconda3/lib/python3.7/site-packages/sklearn/naive_bayes.py\", line 374, in _partial_fit\n",
      "    if _check_partial_fit_first_call(self, classes):\n",
      "  File \"/Users/fyenne/anaconda3/lib/python3.7/site-packages/sklearn/utils/multiclass.py\", line 339, in _check_partial_fit_first_call\n",
      "    clf.classes_ = unique_labels(classes)\n",
      "  File \"/Users/fyenne/anaconda3/lib/python3.7/site-packages/sklearn/utils/multiclass.py\", line 98, in unique_labels\n",
      "    raise ValueError(\"Unknown label type: %s\" % repr(ys))\n",
      "ValueError: Unknown label type: (array([-0.20201375,  0.54626444,  0.67301646,  0.8992155 ,  0.9746409 ,\n",
      "        1.09605993,  1.31600899,  1.50418461,  1.73425177,  1.8305394 ,\n",
      "        1.88404109,  3.83970623,  4.51082693,  5.0456151 ,  5.14639037,\n",
      "        5.42819209,  5.70193919,  5.87386864,  6.16043712,  6.59281674,\n",
      "        6.68597765,  6.98083184,  7.24998644,  7.49515774,  7.70041705,\n",
      "        8.1929663 ,  8.23148858,  8.32873282,  8.39917725,  8.50272859,\n",
      "        8.55755817,  8.70162943,  8.92229631,  8.96816213,  9.086429  ,\n",
      "        9.50648826,  9.856233  ,  9.997533  , 10.37406543]),)\n",
      "\n",
      "  FitFailedWarning)\n",
      "/Users/fyenne/anaconda3/lib/python3.7/site-packages/sklearn/model_selection/_validation.py:614: FitFailedWarning: Estimator fit failed. The score on this train-test partition for these parameters will be set to nan. Details: \n",
      "Traceback (most recent call last):\n",
      "  File \"/Users/fyenne/anaconda3/lib/python3.7/site-packages/sklearn/model_selection/_validation.py\", line 593, in _fit_and_score\n",
      "    estimator.fit(X_train, y_train, **fit_params)\n",
      "  File \"/Users/fyenne/anaconda3/lib/python3.7/site-packages/sklearn/naive_bayes.py\", line 210, in fit\n",
      "    sample_weight=sample_weight)\n",
      "  File \"/Users/fyenne/anaconda3/lib/python3.7/site-packages/sklearn/naive_bayes.py\", line 374, in _partial_fit\n",
      "    if _check_partial_fit_first_call(self, classes):\n",
      "  File \"/Users/fyenne/anaconda3/lib/python3.7/site-packages/sklearn/utils/multiclass.py\", line 339, in _check_partial_fit_first_call\n",
      "    clf.classes_ = unique_labels(classes)\n",
      "  File \"/Users/fyenne/anaconda3/lib/python3.7/site-packages/sklearn/utils/multiclass.py\", line 98, in unique_labels\n",
      "    raise ValueError(\"Unknown label type: %s\" % repr(ys))\n",
      "ValueError: Unknown label type: (array([-0.20201375, -0.12288892,  0.54626444,  0.67301646,  0.8992155 ,\n",
      "        0.9746409 ,  1.09605993,  1.31600899,  1.50418461,  1.73425177,\n",
      "        1.8305394 ,  1.88404109,  4.51082693,  5.0456151 ,  5.14639037,\n",
      "        5.42819209,  5.70193919,  5.87386864,  6.16043712,  6.59281674,\n",
      "        6.68597765,  6.98083184,  7.24998644,  7.49515774,  7.70041705,\n",
      "        8.1929663 ,  8.23148858,  8.32873282,  8.39917725,  8.50272859,\n",
      "        8.55755817,  8.70162943,  8.92229631,  8.96816213,  9.086429  ,\n",
      "        9.50648826,  9.856233  ,  9.997533  , 10.37406543]),)\n",
      "\n",
      "  FitFailedWarning)\n",
      "/Users/fyenne/anaconda3/lib/python3.7/site-packages/sklearn/model_selection/_validation.py:614: FitFailedWarning: Estimator fit failed. The score on this train-test partition for these parameters will be set to nan. Details: \n",
      "Traceback (most recent call last):\n",
      "  File \"/Users/fyenne/anaconda3/lib/python3.7/site-packages/sklearn/model_selection/_validation.py\", line 593, in _fit_and_score\n",
      "    estimator.fit(X_train, y_train, **fit_params)\n",
      "  File \"/Users/fyenne/anaconda3/lib/python3.7/site-packages/sklearn/naive_bayes.py\", line 210, in fit\n",
      "    sample_weight=sample_weight)\n",
      "  File \"/Users/fyenne/anaconda3/lib/python3.7/site-packages/sklearn/naive_bayes.py\", line 374, in _partial_fit\n",
      "    if _check_partial_fit_first_call(self, classes):\n",
      "  File \"/Users/fyenne/anaconda3/lib/python3.7/site-packages/sklearn/utils/multiclass.py\", line 339, in _check_partial_fit_first_call\n",
      "    clf.classes_ = unique_labels(classes)\n",
      "  File \"/Users/fyenne/anaconda3/lib/python3.7/site-packages/sklearn/utils/multiclass.py\", line 98, in unique_labels\n",
      "    raise ValueError(\"Unknown label type: %s\" % repr(ys))\n",
      "ValueError: Unknown label type: (array([-0.20201375, -0.12288892,  0.54626444,  0.67301646,  0.8992155 ,\n",
      "        0.9746409 ,  1.09605993,  1.31600899,  1.73425177,  1.8305394 ,\n",
      "        1.88404109,  3.83970623,  4.51082693,  5.0456151 ,  5.14639037,\n",
      "        5.42819209,  5.70193919,  5.87386864,  6.16043712,  6.59281674,\n",
      "        6.68597765,  6.98083184,  7.24998644,  7.49515774,  7.70041705,\n",
      "        8.1929663 ,  8.23148858,  8.32873282,  8.39917725,  8.50272859,\n",
      "        8.55755817,  8.70162943,  8.92229631,  8.96816213,  9.086429  ,\n",
      "        9.50648826,  9.856233  ,  9.997533  , 10.37406543]),)\n",
      "\n",
      "  FitFailedWarning)\n",
      "/Users/fyenne/anaconda3/lib/python3.7/site-packages/sklearn/model_selection/_validation.py:614: FitFailedWarning: Estimator fit failed. The score on this train-test partition for these parameters will be set to nan. Details: \n",
      "Traceback (most recent call last):\n",
      "  File \"/Users/fyenne/anaconda3/lib/python3.7/site-packages/sklearn/model_selection/_validation.py\", line 593, in _fit_and_score\n",
      "    estimator.fit(X_train, y_train, **fit_params)\n",
      "  File \"/Users/fyenne/anaconda3/lib/python3.7/site-packages/sklearn/naive_bayes.py\", line 210, in fit\n",
      "    sample_weight=sample_weight)\n",
      "  File \"/Users/fyenne/anaconda3/lib/python3.7/site-packages/sklearn/naive_bayes.py\", line 374, in _partial_fit\n",
      "    if _check_partial_fit_first_call(self, classes):\n",
      "  File \"/Users/fyenne/anaconda3/lib/python3.7/site-packages/sklearn/utils/multiclass.py\", line 339, in _check_partial_fit_first_call\n",
      "    clf.classes_ = unique_labels(classes)\n",
      "  File \"/Users/fyenne/anaconda3/lib/python3.7/site-packages/sklearn/utils/multiclass.py\", line 98, in unique_labels\n",
      "    raise ValueError(\"Unknown label type: %s\" % repr(ys))\n",
      "ValueError: Unknown label type: (array([-0.20201375, -0.12288892,  0.54626444,  0.67301646,  0.8992155 ,\n",
      "        0.9746409 ,  1.09605993,  1.50418461,  1.73425177,  1.8305394 ,\n",
      "        1.88404109,  3.83970623,  4.51082693,  5.0456151 ,  5.14639037,\n",
      "        5.42819209,  5.70193919,  5.87386864,  6.16043712,  6.59281674,\n",
      "        6.68597765,  6.98083184,  7.24998644,  7.49515774,  7.70041705,\n",
      "        8.1929663 ,  8.23148858,  8.32873282,  8.39917725,  8.50272859,\n",
      "        8.55755817,  8.70162943,  8.92229631,  8.96816213,  9.086429  ,\n",
      "        9.50648826,  9.856233  ,  9.997533  , 10.37406543]),)\n",
      "\n",
      "  FitFailedWarning)\n",
      "/Users/fyenne/anaconda3/lib/python3.7/site-packages/sklearn/model_selection/_validation.py:614: FitFailedWarning: Estimator fit failed. The score on this train-test partition for these parameters will be set to nan. Details: \n",
      "Traceback (most recent call last):\n",
      "  File \"/Users/fyenne/anaconda3/lib/python3.7/site-packages/sklearn/model_selection/_validation.py\", line 593, in _fit_and_score\n",
      "    estimator.fit(X_train, y_train, **fit_params)\n",
      "  File \"/Users/fyenne/anaconda3/lib/python3.7/site-packages/sklearn/naive_bayes.py\", line 210, in fit\n",
      "    sample_weight=sample_weight)\n",
      "  File \"/Users/fyenne/anaconda3/lib/python3.7/site-packages/sklearn/naive_bayes.py\", line 374, in _partial_fit\n",
      "    if _check_partial_fit_first_call(self, classes):\n",
      "  File \"/Users/fyenne/anaconda3/lib/python3.7/site-packages/sklearn/utils/multiclass.py\", line 339, in _check_partial_fit_first_call\n",
      "    clf.classes_ = unique_labels(classes)\n",
      "  File \"/Users/fyenne/anaconda3/lib/python3.7/site-packages/sklearn/utils/multiclass.py\", line 98, in unique_labels\n",
      "    raise ValueError(\"Unknown label type: %s\" % repr(ys))\n",
      "ValueError: Unknown label type: (array([-0.20201375, -0.12288892,  0.54626444,  0.67301646,  0.8992155 ,\n",
      "        0.9746409 ,  1.09605993,  1.31600899,  1.50418461,  1.73425177,\n",
      "        1.8305394 ,  3.83970623,  4.51082693,  5.0456151 ,  5.14639037,\n",
      "        5.42819209,  5.70193919,  5.87386864,  6.16043712,  6.59281674,\n",
      "        6.68597765,  6.98083184,  7.24998644,  7.49515774,  7.70041705,\n",
      "        8.1929663 ,  8.23148858,  8.32873282,  8.39917725,  8.50272859,\n",
      "        8.55755817,  8.70162943,  8.92229631,  8.96816213,  9.086429  ,\n",
      "        9.50648826,  9.856233  ,  9.997533  , 10.37406543]),)\n",
      "\n",
      "  FitFailedWarning)\n",
      "/Users/fyenne/anaconda3/lib/python3.7/site-packages/sklearn/model_selection/_validation.py:614: FitFailedWarning: Estimator fit failed. The score on this train-test partition for these parameters will be set to nan. Details: \n",
      "Traceback (most recent call last):\n",
      "  File \"/Users/fyenne/anaconda3/lib/python3.7/site-packages/sklearn/model_selection/_validation.py\", line 593, in _fit_and_score\n",
      "    estimator.fit(X_train, y_train, **fit_params)\n",
      "  File \"/Users/fyenne/anaconda3/lib/python3.7/site-packages/sklearn/naive_bayes.py\", line 210, in fit\n",
      "    sample_weight=sample_weight)\n",
      "  File \"/Users/fyenne/anaconda3/lib/python3.7/site-packages/sklearn/naive_bayes.py\", line 374, in _partial_fit\n",
      "    if _check_partial_fit_first_call(self, classes):\n",
      "  File \"/Users/fyenne/anaconda3/lib/python3.7/site-packages/sklearn/utils/multiclass.py\", line 339, in _check_partial_fit_first_call\n",
      "    clf.classes_ = unique_labels(classes)\n",
      "  File \"/Users/fyenne/anaconda3/lib/python3.7/site-packages/sklearn/utils/multiclass.py\", line 98, in unique_labels\n",
      "    raise ValueError(\"Unknown label type: %s\" % repr(ys))\n",
      "ValueError: Unknown label type: (array([-0.20201375, -0.12288892,  0.54626444,  0.67301646,  0.8992155 ,\n",
      "        0.9746409 ,  1.09605993,  1.31600899,  1.50418461,  1.73425177,\n",
      "        1.8305394 ,  1.88404109,  3.83970623,  4.51082693,  5.14639037,\n",
      "        5.42819209,  5.70193919,  5.87386864,  6.16043712,  6.59281674,\n",
      "        6.68597765,  6.98083184,  7.24998644,  7.49515774,  7.70041705,\n",
      "        8.1929663 ,  8.23148858,  8.32873282,  8.39917725,  8.50272859,\n",
      "        8.55755817,  8.70162943,  8.92229631,  8.96816213,  9.086429  ,\n",
      "        9.50648826,  9.856233  ,  9.997533  , 10.37406543]),)\n",
      "\n",
      "  FitFailedWarning)\n",
      "/Users/fyenne/anaconda3/lib/python3.7/site-packages/sklearn/model_selection/_validation.py:614: FitFailedWarning: Estimator fit failed. The score on this train-test partition for these parameters will be set to nan. Details: \n",
      "Traceback (most recent call last):\n",
      "  File \"/Users/fyenne/anaconda3/lib/python3.7/site-packages/sklearn/model_selection/_validation.py\", line 593, in _fit_and_score\n",
      "    estimator.fit(X_train, y_train, **fit_params)\n",
      "  File \"/Users/fyenne/anaconda3/lib/python3.7/site-packages/sklearn/naive_bayes.py\", line 210, in fit\n",
      "    sample_weight=sample_weight)\n",
      "  File \"/Users/fyenne/anaconda3/lib/python3.7/site-packages/sklearn/naive_bayes.py\", line 374, in _partial_fit\n",
      "    if _check_partial_fit_first_call(self, classes):\n",
      "  File \"/Users/fyenne/anaconda3/lib/python3.7/site-packages/sklearn/utils/multiclass.py\", line 339, in _check_partial_fit_first_call\n",
      "    clf.classes_ = unique_labels(classes)\n",
      "  File \"/Users/fyenne/anaconda3/lib/python3.7/site-packages/sklearn/utils/multiclass.py\", line 98, in unique_labels\n",
      "    raise ValueError(\"Unknown label type: %s\" % repr(ys))\n",
      "ValueError: Unknown label type: (array([-0.20201375, -0.12288892,  0.54626444,  0.67301646,  0.8992155 ,\n",
      "        0.9746409 ,  1.09605993,  1.31600899,  1.50418461,  1.73425177,\n",
      "        1.8305394 ,  1.88404109,  3.83970623,  4.51082693,  5.0456151 ,\n",
      "        5.14639037,  5.70193919,  5.87386864,  6.16043712,  6.59281674,\n",
      "        6.68597765,  6.98083184,  7.24998644,  7.49515774,  7.70041705,\n",
      "        8.1929663 ,  8.23148858,  8.32873282,  8.39917725,  8.50272859,\n",
      "        8.55755817,  8.70162943,  8.92229631,  8.96816213,  9.086429  ,\n",
      "        9.50648826,  9.856233  ,  9.997533  , 10.37406543]),)\n",
      "\n",
      "  FitFailedWarning)\n",
      "/Users/fyenne/anaconda3/lib/python3.7/site-packages/sklearn/model_selection/_validation.py:614: FitFailedWarning: Estimator fit failed. The score on this train-test partition for these parameters will be set to nan. Details: \n",
      "Traceback (most recent call last):\n",
      "  File \"/Users/fyenne/anaconda3/lib/python3.7/site-packages/sklearn/model_selection/_validation.py\", line 593, in _fit_and_score\n",
      "    estimator.fit(X_train, y_train, **fit_params)\n",
      "  File \"/Users/fyenne/anaconda3/lib/python3.7/site-packages/sklearn/naive_bayes.py\", line 210, in fit\n",
      "    sample_weight=sample_weight)\n",
      "  File \"/Users/fyenne/anaconda3/lib/python3.7/site-packages/sklearn/naive_bayes.py\", line 374, in _partial_fit\n",
      "    if _check_partial_fit_first_call(self, classes):\n",
      "  File \"/Users/fyenne/anaconda3/lib/python3.7/site-packages/sklearn/utils/multiclass.py\", line 339, in _check_partial_fit_first_call\n",
      "    clf.classes_ = unique_labels(classes)\n",
      "  File \"/Users/fyenne/anaconda3/lib/python3.7/site-packages/sklearn/utils/multiclass.py\", line 98, in unique_labels\n",
      "    raise ValueError(\"Unknown label type: %s\" % repr(ys))\n",
      "ValueError: Unknown label type: (array([-0.20201375, -0.12288892,  0.54626444,  0.67301646,  0.8992155 ,\n",
      "        0.9746409 ,  1.09605993,  1.31600899,  1.50418461,  1.73425177,\n",
      "        1.8305394 ,  1.88404109,  3.83970623,  4.51082693,  5.0456151 ,\n",
      "        5.14639037,  5.42819209,  5.70193919,  5.87386864,  6.16043712,\n",
      "        6.68597765,  6.98083184,  7.24998644,  7.49515774,  7.70041705,\n",
      "        8.1929663 ,  8.23148858,  8.32873282,  8.39917725,  8.50272859,\n",
      "        8.55755817,  8.70162943,  8.92229631,  8.96816213,  9.086429  ,\n",
      "        9.50648826,  9.856233  ,  9.997533  , 10.37406543]),)\n",
      "\n",
      "  FitFailedWarning)\n",
      "/Users/fyenne/anaconda3/lib/python3.7/site-packages/sklearn/model_selection/_validation.py:614: FitFailedWarning: Estimator fit failed. The score on this train-test partition for these parameters will be set to nan. Details: \n",
      "Traceback (most recent call last):\n",
      "  File \"/Users/fyenne/anaconda3/lib/python3.7/site-packages/sklearn/model_selection/_validation.py\", line 593, in _fit_and_score\n",
      "    estimator.fit(X_train, y_train, **fit_params)\n",
      "  File \"/Users/fyenne/anaconda3/lib/python3.7/site-packages/sklearn/naive_bayes.py\", line 210, in fit\n",
      "    sample_weight=sample_weight)\n",
      "  File \"/Users/fyenne/anaconda3/lib/python3.7/site-packages/sklearn/naive_bayes.py\", line 374, in _partial_fit\n",
      "    if _check_partial_fit_first_call(self, classes):\n",
      "  File \"/Users/fyenne/anaconda3/lib/python3.7/site-packages/sklearn/utils/multiclass.py\", line 339, in _check_partial_fit_first_call\n",
      "    clf.classes_ = unique_labels(classes)\n",
      "  File \"/Users/fyenne/anaconda3/lib/python3.7/site-packages/sklearn/utils/multiclass.py\", line 98, in unique_labels\n",
      "    raise ValueError(\"Unknown label type: %s\" % repr(ys))\n",
      "ValueError: Unknown label type: (array([-0.20201375, -0.12288892,  0.54626444,  0.67301646,  0.8992155 ,\n",
      "        0.9746409 ,  1.09605993,  1.31600899,  1.50418461,  1.73425177,\n",
      "        1.8305394 ,  1.88404109,  3.83970623,  4.51082693,  5.0456151 ,\n",
      "        5.14639037,  5.42819209,  5.87386864,  6.16043712,  6.59281674,\n",
      "        6.68597765,  6.98083184,  7.24998644,  7.49515774,  7.70041705,\n",
      "        8.1929663 ,  8.23148858,  8.32873282,  8.39917725,  8.50272859,\n",
      "        8.55755817,  8.70162943,  8.92229631,  8.96816213,  9.086429  ,\n",
      "        9.50648826,  9.856233  ,  9.997533  , 10.37406543]),)\n",
      "\n",
      "  FitFailedWarning)\n",
      "/Users/fyenne/anaconda3/lib/python3.7/site-packages/sklearn/model_selection/_validation.py:614: FitFailedWarning: Estimator fit failed. The score on this train-test partition for these parameters will be set to nan. Details: \n",
      "Traceback (most recent call last):\n",
      "  File \"/Users/fyenne/anaconda3/lib/python3.7/site-packages/sklearn/model_selection/_validation.py\", line 593, in _fit_and_score\n",
      "    estimator.fit(X_train, y_train, **fit_params)\n",
      "  File \"/Users/fyenne/anaconda3/lib/python3.7/site-packages/sklearn/naive_bayes.py\", line 210, in fit\n",
      "    sample_weight=sample_weight)\n",
      "  File \"/Users/fyenne/anaconda3/lib/python3.7/site-packages/sklearn/naive_bayes.py\", line 374, in _partial_fit\n",
      "    if _check_partial_fit_first_call(self, classes):\n",
      "  File \"/Users/fyenne/anaconda3/lib/python3.7/site-packages/sklearn/utils/multiclass.py\", line 339, in _check_partial_fit_first_call\n",
      "    clf.classes_ = unique_labels(classes)\n",
      "  File \"/Users/fyenne/anaconda3/lib/python3.7/site-packages/sklearn/utils/multiclass.py\", line 98, in unique_labels\n",
      "    raise ValueError(\"Unknown label type: %s\" % repr(ys))\n",
      "ValueError: Unknown label type: (array([-0.20201375, -0.12288892,  0.54626444,  0.67301646,  0.8992155 ,\n",
      "        0.9746409 ,  1.09605993,  1.31600899,  1.50418461,  1.73425177,\n",
      "        1.8305394 ,  1.88404109,  3.83970623,  4.51082693,  5.0456151 ,\n",
      "        5.14639037,  5.42819209,  5.70193919,  5.87386864,  6.16043712,\n",
      "        6.59281674,  6.68597765,  6.98083184,  7.24998644,  7.49515774,\n",
      "        7.70041705,  8.1929663 ,  8.32873282,  8.39917725,  8.50272859,\n",
      "        8.55755817,  8.70162943,  8.92229631,  8.96816213,  9.086429  ,\n",
      "        9.50648826,  9.856233  ,  9.997533  , 10.37406543]),)\n",
      "\n",
      "  FitFailedWarning)\n",
      "/Users/fyenne/anaconda3/lib/python3.7/site-packages/sklearn/model_selection/_validation.py:614: FitFailedWarning: Estimator fit failed. The score on this train-test partition for these parameters will be set to nan. Details: \n",
      "Traceback (most recent call last):\n",
      "  File \"/Users/fyenne/anaconda3/lib/python3.7/site-packages/sklearn/model_selection/_validation.py\", line 593, in _fit_and_score\n",
      "    estimator.fit(X_train, y_train, **fit_params)\n",
      "  File \"/Users/fyenne/anaconda3/lib/python3.7/site-packages/sklearn/naive_bayes.py\", line 210, in fit\n",
      "    sample_weight=sample_weight)\n",
      "  File \"/Users/fyenne/anaconda3/lib/python3.7/site-packages/sklearn/naive_bayes.py\", line 374, in _partial_fit\n",
      "    if _check_partial_fit_first_call(self, classes):\n",
      "  File \"/Users/fyenne/anaconda3/lib/python3.7/site-packages/sklearn/utils/multiclass.py\", line 339, in _check_partial_fit_first_call\n",
      "    clf.classes_ = unique_labels(classes)\n",
      "  File \"/Users/fyenne/anaconda3/lib/python3.7/site-packages/sklearn/utils/multiclass.py\", line 98, in unique_labels\n",
      "    raise ValueError(\"Unknown label type: %s\" % repr(ys))\n",
      "ValueError: Unknown label type: (array([-0.20201375, -0.12288892,  0.54626444,  0.67301646,  0.8992155 ,\n",
      "        0.9746409 ,  1.09605993,  1.31600899,  1.50418461,  1.73425177,\n",
      "        1.88404109,  3.83970623,  4.51082693,  5.0456151 ,  5.14639037,\n",
      "        5.42819209,  5.70193919,  5.87386864,  6.16043712,  6.59281674,\n",
      "        6.68597765,  6.98083184,  7.24998644,  7.49515774,  7.70041705,\n",
      "        8.1929663 ,  8.23148858,  8.32873282,  8.39917725,  8.50272859,\n",
      "        8.55755817,  8.70162943,  8.92229631,  8.96816213,  9.086429  ,\n",
      "        9.50648826,  9.856233  ,  9.997533  , 10.37406543]),)\n",
      "\n",
      "  FitFailedWarning)\n",
      "/Users/fyenne/anaconda3/lib/python3.7/site-packages/sklearn/model_selection/_validation.py:614: FitFailedWarning: Estimator fit failed. The score on this train-test partition for these parameters will be set to nan. Details: \n",
      "Traceback (most recent call last):\n",
      "  File \"/Users/fyenne/anaconda3/lib/python3.7/site-packages/sklearn/model_selection/_validation.py\", line 593, in _fit_and_score\n",
      "    estimator.fit(X_train, y_train, **fit_params)\n",
      "  File \"/Users/fyenne/anaconda3/lib/python3.7/site-packages/sklearn/naive_bayes.py\", line 210, in fit\n",
      "    sample_weight=sample_weight)\n",
      "  File \"/Users/fyenne/anaconda3/lib/python3.7/site-packages/sklearn/naive_bayes.py\", line 374, in _partial_fit\n",
      "    if _check_partial_fit_first_call(self, classes):\n",
      "  File \"/Users/fyenne/anaconda3/lib/python3.7/site-packages/sklearn/utils/multiclass.py\", line 339, in _check_partial_fit_first_call\n",
      "    clf.classes_ = unique_labels(classes)\n",
      "  File \"/Users/fyenne/anaconda3/lib/python3.7/site-packages/sklearn/utils/multiclass.py\", line 98, in unique_labels\n",
      "    raise ValueError(\"Unknown label type: %s\" % repr(ys))\n",
      "ValueError: Unknown label type: (array([-0.20201375, -0.12288892,  0.54626444,  0.67301646,  0.8992155 ,\n",
      "        0.9746409 ,  1.09605993,  1.31600899,  1.50418461,  1.73425177,\n",
      "        1.8305394 ,  1.88404109,  3.83970623,  4.51082693,  5.0456151 ,\n",
      "        5.14639037,  5.42819209,  5.70193919,  5.87386864,  6.16043712,\n",
      "        6.59281674,  6.68597765,  6.98083184,  7.24998644,  7.49515774,\n",
      "        7.70041705,  8.1929663 ,  8.23148858,  8.32873282,  8.39917725,\n",
      "        8.50272859,  8.55755817,  8.70162943,  8.92229631,  8.96816213,\n",
      "        9.50648826,  9.856233  ,  9.997533  , 10.37406543]),)\n",
      "\n",
      "  FitFailedWarning)\n",
      "/Users/fyenne/anaconda3/lib/python3.7/site-packages/sklearn/model_selection/_validation.py:614: FitFailedWarning: Estimator fit failed. The score on this train-test partition for these parameters will be set to nan. Details: \n",
      "Traceback (most recent call last):\n",
      "  File \"/Users/fyenne/anaconda3/lib/python3.7/site-packages/sklearn/model_selection/_validation.py\", line 593, in _fit_and_score\n",
      "    estimator.fit(X_train, y_train, **fit_params)\n",
      "  File \"/Users/fyenne/anaconda3/lib/python3.7/site-packages/sklearn/naive_bayes.py\", line 210, in fit\n",
      "    sample_weight=sample_weight)\n",
      "  File \"/Users/fyenne/anaconda3/lib/python3.7/site-packages/sklearn/naive_bayes.py\", line 374, in _partial_fit\n",
      "    if _check_partial_fit_first_call(self, classes):\n",
      "  File \"/Users/fyenne/anaconda3/lib/python3.7/site-packages/sklearn/utils/multiclass.py\", line 339, in _check_partial_fit_first_call\n",
      "    clf.classes_ = unique_labels(classes)\n",
      "  File \"/Users/fyenne/anaconda3/lib/python3.7/site-packages/sklearn/utils/multiclass.py\", line 98, in unique_labels\n",
      "    raise ValueError(\"Unknown label type: %s\" % repr(ys))\n",
      "ValueError: Unknown label type: (array([-0.20201375, -0.12288892,  0.54626444,  0.67301646,  0.8992155 ,\n",
      "        0.9746409 ,  1.09605993,  1.31600899,  1.50418461,  1.8305394 ,\n",
      "        1.88404109,  3.83970623,  4.51082693,  5.0456151 ,  5.14639037,\n",
      "        5.42819209,  5.70193919,  5.87386864,  6.16043712,  6.59281674,\n",
      "        6.68597765,  6.98083184,  7.24998644,  7.49515774,  7.70041705,\n",
      "        8.1929663 ,  8.23148858,  8.32873282,  8.39917725,  8.50272859,\n",
      "        8.55755817,  8.70162943,  8.92229631,  8.96816213,  9.086429  ,\n",
      "        9.50648826,  9.856233  ,  9.997533  , 10.37406543]),)\n",
      "\n",
      "  FitFailedWarning)\n",
      "/Users/fyenne/anaconda3/lib/python3.7/site-packages/sklearn/model_selection/_validation.py:614: FitFailedWarning: Estimator fit failed. The score on this train-test partition for these parameters will be set to nan. Details: \n",
      "Traceback (most recent call last):\n",
      "  File \"/Users/fyenne/anaconda3/lib/python3.7/site-packages/sklearn/model_selection/_validation.py\", line 593, in _fit_and_score\n",
      "    estimator.fit(X_train, y_train, **fit_params)\n",
      "  File \"/Users/fyenne/anaconda3/lib/python3.7/site-packages/sklearn/naive_bayes.py\", line 210, in fit\n",
      "    sample_weight=sample_weight)\n",
      "  File \"/Users/fyenne/anaconda3/lib/python3.7/site-packages/sklearn/naive_bayes.py\", line 374, in _partial_fit\n",
      "    if _check_partial_fit_first_call(self, classes):\n",
      "  File \"/Users/fyenne/anaconda3/lib/python3.7/site-packages/sklearn/utils/multiclass.py\", line 339, in _check_partial_fit_first_call\n",
      "    clf.classes_ = unique_labels(classes)\n",
      "  File \"/Users/fyenne/anaconda3/lib/python3.7/site-packages/sklearn/utils/multiclass.py\", line 98, in unique_labels\n",
      "    raise ValueError(\"Unknown label type: %s\" % repr(ys))\n",
      "ValueError: Unknown label type: (array([-0.20201375, -0.12288892,  0.54626444,  0.67301646,  0.8992155 ,\n",
      "        0.9746409 ,  1.09605993,  1.31600899,  1.50418461,  1.73425177,\n",
      "        1.8305394 ,  1.88404109,  3.83970623,  4.51082693,  5.0456151 ,\n",
      "        5.14639037,  5.42819209,  5.70193919,  5.87386864,  6.16043712,\n",
      "        6.59281674,  6.68597765,  6.98083184,  7.24998644,  7.49515774,\n",
      "        7.70041705,  8.1929663 ,  8.23148858,  8.32873282,  8.39917725,\n",
      "        8.50272859,  8.55755817,  8.70162943,  8.96816213,  9.086429  ,\n",
      "        9.50648826,  9.856233  ,  9.997533  , 10.37406543]),)\n",
      "\n",
      "  FitFailedWarning)\n",
      "/Users/fyenne/anaconda3/lib/python3.7/site-packages/sklearn/model_selection/_validation.py:614: FitFailedWarning: Estimator fit failed. The score on this train-test partition for these parameters will be set to nan. Details: \n",
      "Traceback (most recent call last):\n",
      "  File \"/Users/fyenne/anaconda3/lib/python3.7/site-packages/sklearn/model_selection/_validation.py\", line 593, in _fit_and_score\n",
      "    estimator.fit(X_train, y_train, **fit_params)\n",
      "  File \"/Users/fyenne/anaconda3/lib/python3.7/site-packages/sklearn/naive_bayes.py\", line 210, in fit\n",
      "    sample_weight=sample_weight)\n",
      "  File \"/Users/fyenne/anaconda3/lib/python3.7/site-packages/sklearn/naive_bayes.py\", line 374, in _partial_fit\n",
      "    if _check_partial_fit_first_call(self, classes):\n",
      "  File \"/Users/fyenne/anaconda3/lib/python3.7/site-packages/sklearn/utils/multiclass.py\", line 339, in _check_partial_fit_first_call\n",
      "    clf.classes_ = unique_labels(classes)\n",
      "  File \"/Users/fyenne/anaconda3/lib/python3.7/site-packages/sklearn/utils/multiclass.py\", line 98, in unique_labels\n",
      "    raise ValueError(\"Unknown label type: %s\" % repr(ys))\n",
      "ValueError: Unknown label type: (array([-0.20201375, -0.12288892,  0.54626444,  0.67301646,  0.8992155 ,\n",
      "        0.9746409 ,  1.09605993,  1.31600899,  1.50418461,  1.73425177,\n",
      "        1.8305394 ,  1.88404109,  3.83970623,  4.51082693,  5.0456151 ,\n",
      "        5.14639037,  5.42819209,  5.70193919,  5.87386864,  6.59281674,\n",
      "        6.68597765,  6.98083184,  7.24998644,  7.49515774,  7.70041705,\n",
      "        8.1929663 ,  8.23148858,  8.32873282,  8.39917725,  8.50272859,\n",
      "        8.55755817,  8.70162943,  8.92229631,  8.96816213,  9.086429  ,\n",
      "        9.50648826,  9.856233  ,  9.997533  , 10.37406543]),)\n",
      "\n",
      "  FitFailedWarning)\n",
      "/Users/fyenne/anaconda3/lib/python3.7/site-packages/sklearn/model_selection/_validation.py:614: FitFailedWarning: Estimator fit failed. The score on this train-test partition for these parameters will be set to nan. Details: \n",
      "Traceback (most recent call last):\n",
      "  File \"/Users/fyenne/anaconda3/lib/python3.7/site-packages/sklearn/model_selection/_validation.py\", line 593, in _fit_and_score\n",
      "    estimator.fit(X_train, y_train, **fit_params)\n",
      "  File \"/Users/fyenne/anaconda3/lib/python3.7/site-packages/sklearn/naive_bayes.py\", line 210, in fit\n",
      "    sample_weight=sample_weight)\n",
      "  File \"/Users/fyenne/anaconda3/lib/python3.7/site-packages/sklearn/naive_bayes.py\", line 374, in _partial_fit\n",
      "    if _check_partial_fit_first_call(self, classes):\n",
      "  File \"/Users/fyenne/anaconda3/lib/python3.7/site-packages/sklearn/utils/multiclass.py\", line 339, in _check_partial_fit_first_call\n",
      "    clf.classes_ = unique_labels(classes)\n",
      "  File \"/Users/fyenne/anaconda3/lib/python3.7/site-packages/sklearn/utils/multiclass.py\", line 98, in unique_labels\n",
      "    raise ValueError(\"Unknown label type: %s\" % repr(ys))\n",
      "ValueError: Unknown label type: (array([-0.20201375, -0.12288892,  0.54626444,  0.67301646,  0.8992155 ,\n",
      "        0.9746409 ,  1.09605993,  1.31600899,  1.50418461,  1.73425177,\n",
      "        1.8305394 ,  1.88404109,  3.83970623,  4.51082693,  5.0456151 ,\n",
      "        5.14639037,  5.42819209,  5.70193919,  5.87386864,  6.16043712,\n",
      "        6.59281674,  6.98083184,  7.24998644,  7.49515774,  7.70041705,\n",
      "        8.1929663 ,  8.23148858,  8.32873282,  8.39917725,  8.50272859,\n",
      "        8.55755817,  8.70162943,  8.92229631,  8.96816213,  9.086429  ,\n",
      "        9.50648826,  9.856233  ,  9.997533  , 10.37406543]),)\n",
      "\n",
      "  FitFailedWarning)\n",
      "/Users/fyenne/anaconda3/lib/python3.7/site-packages/sklearn/model_selection/_validation.py:614: FitFailedWarning: Estimator fit failed. The score on this train-test partition for these parameters will be set to nan. Details: \n",
      "Traceback (most recent call last):\n",
      "  File \"/Users/fyenne/anaconda3/lib/python3.7/site-packages/sklearn/model_selection/_validation.py\", line 593, in _fit_and_score\n",
      "    estimator.fit(X_train, y_train, **fit_params)\n",
      "  File \"/Users/fyenne/anaconda3/lib/python3.7/site-packages/sklearn/naive_bayes.py\", line 210, in fit\n",
      "    sample_weight=sample_weight)\n",
      "  File \"/Users/fyenne/anaconda3/lib/python3.7/site-packages/sklearn/naive_bayes.py\", line 374, in _partial_fit\n",
      "    if _check_partial_fit_first_call(self, classes):\n",
      "  File \"/Users/fyenne/anaconda3/lib/python3.7/site-packages/sklearn/utils/multiclass.py\", line 339, in _check_partial_fit_first_call\n",
      "    clf.classes_ = unique_labels(classes)\n",
      "  File \"/Users/fyenne/anaconda3/lib/python3.7/site-packages/sklearn/utils/multiclass.py\", line 98, in unique_labels\n",
      "    raise ValueError(\"Unknown label type: %s\" % repr(ys))\n",
      "ValueError: Unknown label type: (array([-0.20201375, -0.12288892,  0.54626444,  0.67301646,  0.9746409 ,\n",
      "        1.09605993,  1.31600899,  1.50418461,  1.73425177,  1.8305394 ,\n",
      "        1.88404109,  3.83970623,  4.51082693,  5.0456151 ,  5.14639037,\n",
      "        5.42819209,  5.70193919,  5.87386864,  6.16043712,  6.59281674,\n",
      "        6.68597765,  6.98083184,  7.24998644,  7.49515774,  7.70041705,\n",
      "        8.1929663 ,  8.23148858,  8.32873282,  8.39917725,  8.50272859,\n",
      "        8.55755817,  8.70162943,  8.92229631,  8.96816213,  9.086429  ,\n",
      "        9.50648826,  9.856233  ,  9.997533  , 10.37406543]),)\n",
      "\n",
      "  FitFailedWarning)\n",
      "/Users/fyenne/anaconda3/lib/python3.7/site-packages/sklearn/model_selection/_validation.py:614: FitFailedWarning: Estimator fit failed. The score on this train-test partition for these parameters will be set to nan. Details: \n",
      "Traceback (most recent call last):\n",
      "  File \"/Users/fyenne/anaconda3/lib/python3.7/site-packages/sklearn/model_selection/_validation.py\", line 593, in _fit_and_score\n",
      "    estimator.fit(X_train, y_train, **fit_params)\n",
      "  File \"/Users/fyenne/anaconda3/lib/python3.7/site-packages/sklearn/naive_bayes.py\", line 210, in fit\n",
      "    sample_weight=sample_weight)\n",
      "  File \"/Users/fyenne/anaconda3/lib/python3.7/site-packages/sklearn/naive_bayes.py\", line 374, in _partial_fit\n",
      "    if _check_partial_fit_first_call(self, classes):\n",
      "  File \"/Users/fyenne/anaconda3/lib/python3.7/site-packages/sklearn/utils/multiclass.py\", line 339, in _check_partial_fit_first_call\n",
      "    clf.classes_ = unique_labels(classes)\n",
      "  File \"/Users/fyenne/anaconda3/lib/python3.7/site-packages/sklearn/utils/multiclass.py\", line 98, in unique_labels\n",
      "    raise ValueError(\"Unknown label type: %s\" % repr(ys))\n",
      "ValueError: Unknown label type: (array([-0.20201375, -0.12288892,  0.54626444,  0.67301646,  0.8992155 ,\n",
      "        0.9746409 ,  1.09605993,  1.31600899,  1.50418461,  1.73425177,\n",
      "        1.8305394 ,  1.88404109,  3.83970623,  5.0456151 ,  5.14639037,\n",
      "        5.42819209,  5.70193919,  5.87386864,  6.16043712,  6.59281674,\n",
      "        6.68597765,  6.98083184,  7.24998644,  7.49515774,  7.70041705,\n",
      "        8.1929663 ,  8.23148858,  8.32873282,  8.39917725,  8.50272859,\n",
      "        8.55755817,  8.70162943,  8.92229631,  8.96816213,  9.086429  ,\n",
      "        9.50648826,  9.856233  ,  9.997533  , 10.37406543]),)\n",
      "\n",
      "  FitFailedWarning)\n",
      "/Users/fyenne/anaconda3/lib/python3.7/site-packages/sklearn/model_selection/_validation.py:614: FitFailedWarning: Estimator fit failed. The score on this train-test partition for these parameters will be set to nan. Details: \n",
      "Traceback (most recent call last):\n",
      "  File \"/Users/fyenne/anaconda3/lib/python3.7/site-packages/sklearn/model_selection/_validation.py\", line 593, in _fit_and_score\n",
      "    estimator.fit(X_train, y_train, **fit_params)\n",
      "  File \"/Users/fyenne/anaconda3/lib/python3.7/site-packages/sklearn/naive_bayes.py\", line 210, in fit\n",
      "    sample_weight=sample_weight)\n",
      "  File \"/Users/fyenne/anaconda3/lib/python3.7/site-packages/sklearn/naive_bayes.py\", line 374, in _partial_fit\n",
      "    if _check_partial_fit_first_call(self, classes):\n",
      "  File \"/Users/fyenne/anaconda3/lib/python3.7/site-packages/sklearn/utils/multiclass.py\", line 339, in _check_partial_fit_first_call\n",
      "    clf.classes_ = unique_labels(classes)\n",
      "  File \"/Users/fyenne/anaconda3/lib/python3.7/site-packages/sklearn/utils/multiclass.py\", line 98, in unique_labels\n",
      "    raise ValueError(\"Unknown label type: %s\" % repr(ys))\n",
      "ValueError: Unknown label type: (array([-0.20201375, -0.12288892,  0.54626444,  0.67301646,  0.8992155 ,\n",
      "        0.9746409 ,  1.09605993,  1.31600899,  1.50418461,  1.73425177,\n",
      "        1.8305394 ,  1.88404109,  3.83970623,  4.51082693,  5.0456151 ,\n",
      "        5.14639037,  5.42819209,  5.70193919,  5.87386864,  6.16043712,\n",
      "        6.59281674,  6.68597765,  6.98083184,  7.24998644,  7.49515774,\n",
      "        7.70041705,  8.1929663 ,  8.23148858,  8.32873282,  8.39917725,\n",
      "        8.50272859,  8.55755817,  8.92229631,  8.96816213,  9.086429  ,\n",
      "        9.50648826,  9.856233  ,  9.997533  , 10.37406543]),)\n",
      "\n",
      "  FitFailedWarning)\n",
      "/Users/fyenne/anaconda3/lib/python3.7/site-packages/sklearn/model_selection/_validation.py:614: FitFailedWarning: Estimator fit failed. The score on this train-test partition for these parameters will be set to nan. Details: \n",
      "Traceback (most recent call last):\n",
      "  File \"/Users/fyenne/anaconda3/lib/python3.7/site-packages/sklearn/model_selection/_validation.py\", line 593, in _fit_and_score\n",
      "    estimator.fit(X_train, y_train, **fit_params)\n",
      "  File \"/Users/fyenne/anaconda3/lib/python3.7/site-packages/sklearn/naive_bayes.py\", line 210, in fit\n",
      "    sample_weight=sample_weight)\n",
      "  File \"/Users/fyenne/anaconda3/lib/python3.7/site-packages/sklearn/naive_bayes.py\", line 374, in _partial_fit\n",
      "    if _check_partial_fit_first_call(self, classes):\n",
      "  File \"/Users/fyenne/anaconda3/lib/python3.7/site-packages/sklearn/utils/multiclass.py\", line 339, in _check_partial_fit_first_call\n",
      "    clf.classes_ = unique_labels(classes)\n",
      "  File \"/Users/fyenne/anaconda3/lib/python3.7/site-packages/sklearn/utils/multiclass.py\", line 98, in unique_labels\n",
      "    raise ValueError(\"Unknown label type: %s\" % repr(ys))\n",
      "ValueError: Unknown label type: (array([-0.20201375, -0.12288892,  0.54626444,  0.67301646,  0.8992155 ,\n",
      "        0.9746409 ,  1.09605993,  1.31600899,  1.50418461,  1.73425177,\n",
      "        1.8305394 ,  1.88404109,  3.83970623,  4.51082693,  5.0456151 ,\n",
      "        5.14639037,  5.42819209,  5.70193919,  5.87386864,  6.16043712,\n",
      "        6.59281674,  6.68597765,  6.98083184,  7.24998644,  7.49515774,\n",
      "        7.70041705,  8.1929663 ,  8.23148858,  8.32873282,  8.50272859,\n",
      "        8.55755817,  8.70162943,  8.92229631,  8.96816213,  9.086429  ,\n",
      "        9.50648826,  9.856233  ,  9.997533  , 10.37406543]),)\n",
      "\n",
      "  FitFailedWarning)\n",
      "/Users/fyenne/anaconda3/lib/python3.7/site-packages/sklearn/model_selection/_validation.py:614: FitFailedWarning: Estimator fit failed. The score on this train-test partition for these parameters will be set to nan. Details: \n",
      "Traceback (most recent call last):\n",
      "  File \"/Users/fyenne/anaconda3/lib/python3.7/site-packages/sklearn/model_selection/_validation.py\", line 593, in _fit_and_score\n",
      "    estimator.fit(X_train, y_train, **fit_params)\n",
      "  File \"/Users/fyenne/anaconda3/lib/python3.7/site-packages/sklearn/naive_bayes.py\", line 210, in fit\n",
      "    sample_weight=sample_weight)\n",
      "  File \"/Users/fyenne/anaconda3/lib/python3.7/site-packages/sklearn/naive_bayes.py\", line 374, in _partial_fit\n",
      "    if _check_partial_fit_first_call(self, classes):\n",
      "  File \"/Users/fyenne/anaconda3/lib/python3.7/site-packages/sklearn/utils/multiclass.py\", line 339, in _check_partial_fit_first_call\n",
      "    clf.classes_ = unique_labels(classes)\n",
      "  File \"/Users/fyenne/anaconda3/lib/python3.7/site-packages/sklearn/utils/multiclass.py\", line 98, in unique_labels\n",
      "    raise ValueError(\"Unknown label type: %s\" % repr(ys))\n",
      "ValueError: Unknown label type: (array([-0.20201375, -0.12288892,  0.54626444,  0.67301646,  0.8992155 ,\n",
      "        0.9746409 ,  1.09605993,  1.31600899,  1.50418461,  1.73425177,\n",
      "        1.8305394 ,  1.88404109,  3.83970623,  4.51082693,  5.0456151 ,\n",
      "        5.42819209,  5.70193919,  5.87386864,  6.16043712,  6.59281674,\n",
      "        6.68597765,  6.98083184,  7.24998644,  7.49515774,  7.70041705,\n",
      "        8.1929663 ,  8.23148858,  8.32873282,  8.39917725,  8.50272859,\n",
      "        8.55755817,  8.70162943,  8.92229631,  8.96816213,  9.086429  ,\n",
      "        9.50648826,  9.856233  ,  9.997533  , 10.37406543]),)\n",
      "\n",
      "  FitFailedWarning)\n",
      "/Users/fyenne/anaconda3/lib/python3.7/site-packages/sklearn/model_selection/_validation.py:614: FitFailedWarning: Estimator fit failed. The score on this train-test partition for these parameters will be set to nan. Details: \n",
      "Traceback (most recent call last):\n",
      "  File \"/Users/fyenne/anaconda3/lib/python3.7/site-packages/sklearn/model_selection/_validation.py\", line 593, in _fit_and_score\n",
      "    estimator.fit(X_train, y_train, **fit_params)\n",
      "  File \"/Users/fyenne/anaconda3/lib/python3.7/site-packages/sklearn/naive_bayes.py\", line 210, in fit\n",
      "    sample_weight=sample_weight)\n",
      "  File \"/Users/fyenne/anaconda3/lib/python3.7/site-packages/sklearn/naive_bayes.py\", line 374, in _partial_fit\n",
      "    if _check_partial_fit_first_call(self, classes):\n",
      "  File \"/Users/fyenne/anaconda3/lib/python3.7/site-packages/sklearn/utils/multiclass.py\", line 339, in _check_partial_fit_first_call\n",
      "    clf.classes_ = unique_labels(classes)\n",
      "  File \"/Users/fyenne/anaconda3/lib/python3.7/site-packages/sklearn/utils/multiclass.py\", line 98, in unique_labels\n",
      "    raise ValueError(\"Unknown label type: %s\" % repr(ys))\n",
      "ValueError: Unknown label type: (array([-0.20201375, -0.12288892,  0.54626444,  0.67301646,  0.8992155 ,\n",
      "        0.9746409 ,  1.09605993,  1.31600899,  1.50418461,  1.73425177,\n",
      "        1.8305394 ,  1.88404109,  3.83970623,  4.51082693,  5.0456151 ,\n",
      "        5.14639037,  5.42819209,  5.70193919,  5.87386864,  6.16043712,\n",
      "        6.59281674,  6.68597765,  6.98083184,  7.24998644,  7.49515774,\n",
      "        7.70041705,  8.1929663 ,  8.23148858,  8.32873282,  8.39917725,\n",
      "        8.50272859,  8.55755817,  8.70162943,  8.92229631,  8.96816213,\n",
      "        9.086429  ,  9.50648826,  9.856233  ,  9.997533  ]),)\n",
      "\n",
      "  FitFailedWarning)\n",
      "/Users/fyenne/anaconda3/lib/python3.7/site-packages/sklearn/model_selection/_validation.py:614: FitFailedWarning: Estimator fit failed. The score on this train-test partition for these parameters will be set to nan. Details: \n",
      "Traceback (most recent call last):\n",
      "  File \"/Users/fyenne/anaconda3/lib/python3.7/site-packages/sklearn/model_selection/_validation.py\", line 593, in _fit_and_score\n",
      "    estimator.fit(X_train, y_train, **fit_params)\n",
      "  File \"/Users/fyenne/anaconda3/lib/python3.7/site-packages/sklearn/naive_bayes.py\", line 210, in fit\n",
      "    sample_weight=sample_weight)\n",
      "  File \"/Users/fyenne/anaconda3/lib/python3.7/site-packages/sklearn/naive_bayes.py\", line 374, in _partial_fit\n",
      "    if _check_partial_fit_first_call(self, classes):\n",
      "  File \"/Users/fyenne/anaconda3/lib/python3.7/site-packages/sklearn/utils/multiclass.py\", line 339, in _check_partial_fit_first_call\n",
      "    clf.classes_ = unique_labels(classes)\n",
      "  File \"/Users/fyenne/anaconda3/lib/python3.7/site-packages/sklearn/utils/multiclass.py\", line 98, in unique_labels\n",
      "    raise ValueError(\"Unknown label type: %s\" % repr(ys))\n",
      "ValueError: Unknown label type: (array([-0.20201375, -0.12288892,  0.54626444,  0.67301646,  0.8992155 ,\n",
      "        0.9746409 ,  1.09605993,  1.31600899,  1.50418461,  1.73425177,\n",
      "        1.8305394 ,  1.88404109,  3.83970623,  4.51082693,  5.0456151 ,\n",
      "        5.14639037,  5.42819209,  5.70193919,  5.87386864,  6.16043712,\n",
      "        6.59281674,  6.68597765,  6.98083184,  7.24998644,  7.49515774,\n",
      "        7.70041705,  8.1929663 ,  8.23148858,  8.32873282,  8.39917725,\n",
      "        8.50272859,  8.55755817,  8.70162943,  8.92229631,  9.086429  ,\n",
      "        9.50648826,  9.856233  ,  9.997533  , 10.37406543]),)\n",
      "\n",
      "  FitFailedWarning)\n",
      "/Users/fyenne/anaconda3/lib/python3.7/site-packages/sklearn/model_selection/_validation.py:614: FitFailedWarning: Estimator fit failed. The score on this train-test partition for these parameters will be set to nan. Details: \n",
      "Traceback (most recent call last):\n",
      "  File \"/Users/fyenne/anaconda3/lib/python3.7/site-packages/sklearn/model_selection/_validation.py\", line 593, in _fit_and_score\n",
      "    estimator.fit(X_train, y_train, **fit_params)\n",
      "  File \"/Users/fyenne/anaconda3/lib/python3.7/site-packages/sklearn/naive_bayes.py\", line 210, in fit\n",
      "    sample_weight=sample_weight)\n",
      "  File \"/Users/fyenne/anaconda3/lib/python3.7/site-packages/sklearn/naive_bayes.py\", line 374, in _partial_fit\n",
      "    if _check_partial_fit_first_call(self, classes):\n",
      "  File \"/Users/fyenne/anaconda3/lib/python3.7/site-packages/sklearn/utils/multiclass.py\", line 339, in _check_partial_fit_first_call\n",
      "    clf.classes_ = unique_labels(classes)\n",
      "  File \"/Users/fyenne/anaconda3/lib/python3.7/site-packages/sklearn/utils/multiclass.py\", line 98, in unique_labels\n",
      "    raise ValueError(\"Unknown label type: %s\" % repr(ys))\n",
      "ValueError: Unknown label type: (array([-0.20201375, -0.12288892,  0.54626444,  0.67301646,  0.8992155 ,\n",
      "        0.9746409 ,  1.09605993,  1.31600899,  1.50418461,  1.73425177,\n",
      "        1.8305394 ,  1.88404109,  3.83970623,  4.51082693,  5.0456151 ,\n",
      "        5.14639037,  5.42819209,  5.70193919,  5.87386864,  6.16043712,\n",
      "        6.59281674,  6.68597765,  6.98083184,  7.24998644,  7.49515774,\n",
      "        7.70041705,  8.1929663 ,  8.23148858,  8.32873282,  8.39917725,\n",
      "        8.50272859,  8.55755817,  8.70162943,  8.92229631,  8.96816213,\n",
      "        9.086429  ,  9.856233  ,  9.997533  , 10.37406543]),)\n",
      "\n",
      "  FitFailedWarning)\n",
      "/Users/fyenne/anaconda3/lib/python3.7/site-packages/sklearn/model_selection/_validation.py:614: FitFailedWarning: Estimator fit failed. The score on this train-test partition for these parameters will be set to nan. Details: \n",
      "Traceback (most recent call last):\n",
      "  File \"/Users/fyenne/anaconda3/lib/python3.7/site-packages/sklearn/model_selection/_validation.py\", line 593, in _fit_and_score\n",
      "    estimator.fit(X_train, y_train, **fit_params)\n",
      "  File \"/Users/fyenne/anaconda3/lib/python3.7/site-packages/sklearn/naive_bayes.py\", line 210, in fit\n",
      "    sample_weight=sample_weight)\n",
      "  File \"/Users/fyenne/anaconda3/lib/python3.7/site-packages/sklearn/naive_bayes.py\", line 374, in _partial_fit\n",
      "    if _check_partial_fit_first_call(self, classes):\n",
      "  File \"/Users/fyenne/anaconda3/lib/python3.7/site-packages/sklearn/utils/multiclass.py\", line 339, in _check_partial_fit_first_call\n",
      "    clf.classes_ = unique_labels(classes)\n",
      "  File \"/Users/fyenne/anaconda3/lib/python3.7/site-packages/sklearn/utils/multiclass.py\", line 98, in unique_labels\n",
      "    raise ValueError(\"Unknown label type: %s\" % repr(ys))\n",
      "ValueError: Unknown label type: (array([-0.20201375, -0.12288892,  0.54626444,  0.67301646,  0.8992155 ,\n",
      "        1.09605993,  1.31600899,  1.50418461,  1.73425177,  1.8305394 ,\n",
      "        1.88404109,  3.83970623,  4.51082693,  5.0456151 ,  5.14639037,\n",
      "        5.42819209,  5.70193919,  5.87386864,  6.16043712,  6.59281674,\n",
      "        6.68597765,  6.98083184,  7.24998644,  7.49515774,  7.70041705,\n",
      "        8.1929663 ,  8.23148858,  8.32873282,  8.39917725,  8.50272859,\n",
      "        8.55755817,  8.70162943,  8.92229631,  8.96816213,  9.086429  ,\n",
      "        9.50648826,  9.856233  ,  9.997533  , 10.37406543]),)\n",
      "\n",
      "  FitFailedWarning)\n",
      "/Users/fyenne/anaconda3/lib/python3.7/site-packages/sklearn/model_selection/_validation.py:614: FitFailedWarning: Estimator fit failed. The score on this train-test partition for these parameters will be set to nan. Details: \n",
      "Traceback (most recent call last):\n",
      "  File \"/Users/fyenne/anaconda3/lib/python3.7/site-packages/sklearn/model_selection/_validation.py\", line 593, in _fit_and_score\n",
      "    estimator.fit(X_train, y_train, **fit_params)\n",
      "  File \"/Users/fyenne/anaconda3/lib/python3.7/site-packages/sklearn/naive_bayes.py\", line 210, in fit\n",
      "    sample_weight=sample_weight)\n",
      "  File \"/Users/fyenne/anaconda3/lib/python3.7/site-packages/sklearn/naive_bayes.py\", line 374, in _partial_fit\n",
      "    if _check_partial_fit_first_call(self, classes):\n",
      "  File \"/Users/fyenne/anaconda3/lib/python3.7/site-packages/sklearn/utils/multiclass.py\", line 339, in _check_partial_fit_first_call\n",
      "    clf.classes_ = unique_labels(classes)\n",
      "  File \"/Users/fyenne/anaconda3/lib/python3.7/site-packages/sklearn/utils/multiclass.py\", line 98, in unique_labels\n",
      "    raise ValueError(\"Unknown label type: %s\" % repr(ys))\n",
      "ValueError: Unknown label type: (array([-0.12288892,  0.54626444,  0.67301646,  0.8992155 ,  0.9746409 ,\n",
      "        1.09605993,  1.31600899,  1.50418461,  1.73425177,  1.8305394 ,\n",
      "        1.88404109,  3.83970623,  4.51082693,  5.0456151 ,  5.14639037,\n",
      "        5.42819209,  5.70193919,  5.87386864,  6.16043712,  6.59281674,\n",
      "        6.68597765,  6.98083184,  7.24998644,  7.49515774,  7.70041705,\n",
      "        8.1929663 ,  8.23148858,  8.32873282,  8.39917725,  8.50272859,\n",
      "        8.55755817,  8.70162943,  8.92229631,  8.96816213,  9.086429  ,\n",
      "        9.50648826,  9.856233  ,  9.997533  , 10.37406543]),)\n",
      "\n",
      "  FitFailedWarning)\n",
      "/Users/fyenne/anaconda3/lib/python3.7/site-packages/sklearn/model_selection/_validation.py:614: FitFailedWarning: Estimator fit failed. The score on this train-test partition for these parameters will be set to nan. Details: \n",
      "Traceback (most recent call last):\n",
      "  File \"/Users/fyenne/anaconda3/lib/python3.7/site-packages/sklearn/model_selection/_validation.py\", line 593, in _fit_and_score\n",
      "    estimator.fit(X_train, y_train, **fit_params)\n",
      "  File \"/Users/fyenne/anaconda3/lib/python3.7/site-packages/sklearn/naive_bayes.py\", line 210, in fit\n",
      "    sample_weight=sample_weight)\n",
      "  File \"/Users/fyenne/anaconda3/lib/python3.7/site-packages/sklearn/naive_bayes.py\", line 374, in _partial_fit\n",
      "    if _check_partial_fit_first_call(self, classes):\n",
      "  File \"/Users/fyenne/anaconda3/lib/python3.7/site-packages/sklearn/utils/multiclass.py\", line 339, in _check_partial_fit_first_call\n",
      "    clf.classes_ = unique_labels(classes)\n",
      "  File \"/Users/fyenne/anaconda3/lib/python3.7/site-packages/sklearn/utils/multiclass.py\", line 98, in unique_labels\n",
      "    raise ValueError(\"Unknown label type: %s\" % repr(ys))\n",
      "ValueError: Unknown label type: (array([-0.20201375, -0.12288892,  0.54626444,  0.67301646,  0.8992155 ,\n",
      "        0.9746409 ,  1.31600899,  1.50418461,  1.73425177,  1.8305394 ,\n",
      "        1.88404109,  3.83970623,  4.51082693,  5.0456151 ,  5.14639037,\n",
      "        5.42819209,  5.70193919,  5.87386864,  6.16043712,  6.59281674,\n",
      "        6.68597765,  6.98083184,  7.24998644,  7.49515774,  7.70041705,\n",
      "        8.1929663 ,  8.23148858,  8.32873282,  8.39917725,  8.50272859,\n",
      "        8.55755817,  8.70162943,  8.92229631,  8.96816213,  9.086429  ,\n",
      "        9.50648826,  9.856233  ,  9.997533  , 10.37406543]),)\n",
      "\n",
      "  FitFailedWarning)\n",
      "/Users/fyenne/anaconda3/lib/python3.7/site-packages/sklearn/model_selection/_validation.py:614: FitFailedWarning: Estimator fit failed. The score on this train-test partition for these parameters will be set to nan. Details: \n",
      "Traceback (most recent call last):\n",
      "  File \"/Users/fyenne/anaconda3/lib/python3.7/site-packages/sklearn/model_selection/_validation.py\", line 593, in _fit_and_score\n",
      "    estimator.fit(X_train, y_train, **fit_params)\n",
      "  File \"/Users/fyenne/anaconda3/lib/python3.7/site-packages/sklearn/naive_bayes.py\", line 210, in fit\n",
      "    sample_weight=sample_weight)\n",
      "  File \"/Users/fyenne/anaconda3/lib/python3.7/site-packages/sklearn/naive_bayes.py\", line 374, in _partial_fit\n",
      "    if _check_partial_fit_first_call(self, classes):\n",
      "  File \"/Users/fyenne/anaconda3/lib/python3.7/site-packages/sklearn/utils/multiclass.py\", line 339, in _check_partial_fit_first_call\n",
      "    clf.classes_ = unique_labels(classes)\n",
      "  File \"/Users/fyenne/anaconda3/lib/python3.7/site-packages/sklearn/utils/multiclass.py\", line 98, in unique_labels\n",
      "    raise ValueError(\"Unknown label type: %s\" % repr(ys))\n",
      "ValueError: Unknown label type: (array([-0.20201375, -0.12288892,  0.54626444,  0.67301646,  0.8992155 ,\n",
      "        0.9746409 ,  1.09605993,  1.31600899,  1.50418461,  1.73425177,\n",
      "        1.8305394 ,  1.88404109,  3.83970623,  4.51082693,  5.0456151 ,\n",
      "        5.14639037,  5.42819209,  5.70193919,  5.87386864,  6.16043712,\n",
      "        6.59281674,  6.68597765,  6.98083184,  7.24998644,  7.49515774,\n",
      "        7.70041705,  8.1929663 ,  8.23148858,  8.32873282,  8.39917725,\n",
      "        8.55755817,  8.70162943,  8.92229631,  8.96816213,  9.086429  ,\n",
      "        9.50648826,  9.856233  ,  9.997533  , 10.37406543]),)\n",
      "\n",
      "  FitFailedWarning)\n",
      "/Users/fyenne/anaconda3/lib/python3.7/site-packages/sklearn/model_selection/_validation.py:614: FitFailedWarning: Estimator fit failed. The score on this train-test partition for these parameters will be set to nan. Details: \n",
      "Traceback (most recent call last):\n",
      "  File \"/Users/fyenne/anaconda3/lib/python3.7/site-packages/sklearn/model_selection/_validation.py\", line 593, in _fit_and_score\n",
      "    estimator.fit(X_train, y_train, **fit_params)\n",
      "  File \"/Users/fyenne/anaconda3/lib/python3.7/site-packages/sklearn/naive_bayes.py\", line 210, in fit\n",
      "    sample_weight=sample_weight)\n",
      "  File \"/Users/fyenne/anaconda3/lib/python3.7/site-packages/sklearn/naive_bayes.py\", line 374, in _partial_fit\n",
      "    if _check_partial_fit_first_call(self, classes):\n",
      "  File \"/Users/fyenne/anaconda3/lib/python3.7/site-packages/sklearn/utils/multiclass.py\", line 339, in _check_partial_fit_first_call\n",
      "    clf.classes_ = unique_labels(classes)\n",
      "  File \"/Users/fyenne/anaconda3/lib/python3.7/site-packages/sklearn/utils/multiclass.py\", line 98, in unique_labels\n",
      "    raise ValueError(\"Unknown label type: %s\" % repr(ys))\n",
      "ValueError: Unknown label type: (array([-0.20201375, -0.12288892,  0.54626444,  0.8992155 ,  0.9746409 ,\n",
      "        1.09605993,  1.31600899,  1.50418461,  1.73425177,  1.8305394 ,\n",
      "        1.88404109,  3.83970623,  4.51082693,  5.0456151 ,  5.14639037,\n",
      "        5.42819209,  5.70193919,  5.87386864,  6.16043712,  6.59281674,\n",
      "        6.68597765,  6.98083184,  7.24998644,  7.49515774,  7.70041705,\n",
      "        8.1929663 ,  8.23148858,  8.32873282,  8.39917725,  8.50272859,\n",
      "        8.55755817,  8.70162943,  8.92229631,  8.96816213,  9.086429  ,\n",
      "        9.50648826,  9.856233  ,  9.997533  , 10.37406543]),)\n",
      "\n",
      "  FitFailedWarning)\n",
      "/Users/fyenne/anaconda3/lib/python3.7/site-packages/sklearn/model_selection/_validation.py:614: FitFailedWarning: Estimator fit failed. The score on this train-test partition for these parameters will be set to nan. Details: \n",
      "Traceback (most recent call last):\n",
      "  File \"/Users/fyenne/anaconda3/lib/python3.7/site-packages/sklearn/model_selection/_validation.py\", line 593, in _fit_and_score\n",
      "    estimator.fit(X_train, y_train, **fit_params)\n",
      "  File \"/Users/fyenne/anaconda3/lib/python3.7/site-packages/sklearn/naive_bayes.py\", line 210, in fit\n",
      "    sample_weight=sample_weight)\n",
      "  File \"/Users/fyenne/anaconda3/lib/python3.7/site-packages/sklearn/naive_bayes.py\", line 374, in _partial_fit\n",
      "    if _check_partial_fit_first_call(self, classes):\n",
      "  File \"/Users/fyenne/anaconda3/lib/python3.7/site-packages/sklearn/utils/multiclass.py\", line 339, in _check_partial_fit_first_call\n",
      "    clf.classes_ = unique_labels(classes)\n",
      "  File \"/Users/fyenne/anaconda3/lib/python3.7/site-packages/sklearn/utils/multiclass.py\", line 98, in unique_labels\n",
      "    raise ValueError(\"Unknown label type: %s\" % repr(ys))\n",
      "ValueError: Unknown label type: (array([-0.20201375, -0.12288892,  0.54626444,  0.67301646,  0.8992155 ,\n",
      "        0.9746409 ,  1.09605993,  1.31600899,  1.50418461,  1.73425177,\n",
      "        1.8305394 ,  1.88404109,  3.83970623,  4.51082693,  5.0456151 ,\n",
      "        5.14639037,  5.42819209,  5.70193919,  5.87386864,  6.16043712,\n",
      "        6.59281674,  6.68597765,  7.24998644,  7.49515774,  7.70041705,\n",
      "        8.1929663 ,  8.23148858,  8.32873282,  8.39917725,  8.50272859,\n",
      "        8.55755817,  8.70162943,  8.92229631,  8.96816213,  9.086429  ,\n",
      "        9.50648826,  9.856233  ,  9.997533  , 10.37406543]),)\n",
      "\n",
      "  FitFailedWarning)\n",
      "/Users/fyenne/anaconda3/lib/python3.7/site-packages/sklearn/model_selection/_validation.py:614: FitFailedWarning: Estimator fit failed. The score on this train-test partition for these parameters will be set to nan. Details: \n",
      "Traceback (most recent call last):\n",
      "  File \"/Users/fyenne/anaconda3/lib/python3.7/site-packages/sklearn/model_selection/_validation.py\", line 593, in _fit_and_score\n",
      "    estimator.fit(X_train, y_train, **fit_params)\n",
      "  File \"/Users/fyenne/anaconda3/lib/python3.7/site-packages/sklearn/naive_bayes.py\", line 210, in fit\n",
      "    sample_weight=sample_weight)\n",
      "  File \"/Users/fyenne/anaconda3/lib/python3.7/site-packages/sklearn/naive_bayes.py\", line 374, in _partial_fit\n",
      "    if _check_partial_fit_first_call(self, classes):\n",
      "  File \"/Users/fyenne/anaconda3/lib/python3.7/site-packages/sklearn/utils/multiclass.py\", line 339, in _check_partial_fit_first_call\n",
      "    clf.classes_ = unique_labels(classes)\n",
      "  File \"/Users/fyenne/anaconda3/lib/python3.7/site-packages/sklearn/utils/multiclass.py\", line 98, in unique_labels\n",
      "    raise ValueError(\"Unknown label type: %s\" % repr(ys))\n",
      "ValueError: Unknown label type: (array([-0.20201375, -0.12288892,  0.54626444,  0.67301646,  0.8992155 ,\n",
      "        0.9746409 ,  1.09605993,  1.31600899,  1.50418461,  1.73425177,\n",
      "        1.8305394 ,  1.88404109,  3.83970623,  4.51082693,  5.0456151 ,\n",
      "        5.14639037,  5.42819209,  5.70193919,  5.87386864,  6.16043712,\n",
      "        6.59281674,  6.68597765,  6.98083184,  7.24998644,  7.49515774,\n",
      "        7.70041705,  8.1929663 ,  8.23148858,  8.32873282,  8.39917725,\n",
      "        8.50272859,  8.55755817,  8.70162943,  8.92229631,  8.96816213,\n",
      "        9.086429  ,  9.50648826,  9.997533  , 10.37406543]),)\n",
      "\n",
      "  FitFailedWarning)\n",
      "/Users/fyenne/anaconda3/lib/python3.7/site-packages/sklearn/model_selection/_validation.py:614: FitFailedWarning: Estimator fit failed. The score on this train-test partition for these parameters will be set to nan. Details: \n",
      "Traceback (most recent call last):\n",
      "  File \"/Users/fyenne/anaconda3/lib/python3.7/site-packages/sklearn/model_selection/_validation.py\", line 593, in _fit_and_score\n",
      "    estimator.fit(X_train, y_train, **fit_params)\n",
      "  File \"/Users/fyenne/anaconda3/lib/python3.7/site-packages/sklearn/naive_bayes.py\", line 210, in fit\n",
      "    sample_weight=sample_weight)\n",
      "  File \"/Users/fyenne/anaconda3/lib/python3.7/site-packages/sklearn/naive_bayes.py\", line 374, in _partial_fit\n",
      "    if _check_partial_fit_first_call(self, classes):\n",
      "  File \"/Users/fyenne/anaconda3/lib/python3.7/site-packages/sklearn/utils/multiclass.py\", line 339, in _check_partial_fit_first_call\n",
      "    clf.classes_ = unique_labels(classes)\n",
      "  File \"/Users/fyenne/anaconda3/lib/python3.7/site-packages/sklearn/utils/multiclass.py\", line 98, in unique_labels\n",
      "    raise ValueError(\"Unknown label type: %s\" % repr(ys))\n",
      "ValueError: Unknown label type: (array([-0.20201375, -0.12288892,  0.54626444,  0.67301646,  0.8992155 ,\n",
      "        0.9746409 ,  1.09605993,  1.31600899,  1.50418461,  1.73425177,\n",
      "        1.8305394 ,  1.88404109,  3.83970623,  4.51082693,  5.0456151 ,\n",
      "        5.14639037,  5.42819209,  5.70193919,  5.87386864,  6.16043712,\n",
      "        6.59281674,  6.68597765,  6.98083184,  7.24998644,  7.49515774,\n",
      "        7.70041705,  8.1929663 ,  8.23148858,  8.39917725,  8.50272859,\n",
      "        8.55755817,  8.70162943,  8.92229631,  8.96816213,  9.086429  ,\n",
      "        9.50648826,  9.856233  ,  9.997533  , 10.37406543]),)\n",
      "\n",
      "  FitFailedWarning)\n",
      "/Users/fyenne/anaconda3/lib/python3.7/site-packages/sklearn/model_selection/_validation.py:614: FitFailedWarning: Estimator fit failed. The score on this train-test partition for these parameters will be set to nan. Details: \n",
      "Traceback (most recent call last):\n",
      "  File \"/Users/fyenne/anaconda3/lib/python3.7/site-packages/sklearn/model_selection/_validation.py\", line 593, in _fit_and_score\n",
      "    estimator.fit(X_train, y_train, **fit_params)\n",
      "  File \"/Users/fyenne/anaconda3/lib/python3.7/site-packages/sklearn/naive_bayes.py\", line 210, in fit\n",
      "    sample_weight=sample_weight)\n",
      "  File \"/Users/fyenne/anaconda3/lib/python3.7/site-packages/sklearn/naive_bayes.py\", line 374, in _partial_fit\n",
      "    if _check_partial_fit_first_call(self, classes):\n",
      "  File \"/Users/fyenne/anaconda3/lib/python3.7/site-packages/sklearn/utils/multiclass.py\", line 339, in _check_partial_fit_first_call\n",
      "    clf.classes_ = unique_labels(classes)\n",
      "  File \"/Users/fyenne/anaconda3/lib/python3.7/site-packages/sklearn/utils/multiclass.py\", line 98, in unique_labels\n",
      "    raise ValueError(\"Unknown label type: %s\" % repr(ys))\n",
      "ValueError: Unknown label type: (array([-0.20201375, -0.12288892,  0.54626444,  0.67301646,  0.8992155 ,\n",
      "        0.9746409 ,  1.09605993,  1.31600899,  1.50418461,  1.73425177,\n",
      "        1.8305394 ,  1.88404109,  3.83970623,  4.51082693,  5.0456151 ,\n",
      "        5.14639037,  5.42819209,  5.70193919,  5.87386864,  6.16043712,\n",
      "        6.59281674,  6.68597765,  6.98083184,  7.24998644,  7.49515774,\n",
      "        7.70041705,  8.1929663 ,  8.23148858,  8.32873282,  8.39917725,\n",
      "        8.50272859,  8.70162943,  8.92229631,  8.96816213,  9.086429  ,\n",
      "        9.50648826,  9.856233  ,  9.997533  , 10.37406543]),)\n",
      "\n",
      "  FitFailedWarning)\n",
      "/Users/fyenne/anaconda3/lib/python3.7/site-packages/sklearn/model_selection/_validation.py:614: FitFailedWarning: Estimator fit failed. The score on this train-test partition for these parameters will be set to nan. Details: \n",
      "Traceback (most recent call last):\n",
      "  File \"/Users/fyenne/anaconda3/lib/python3.7/site-packages/sklearn/model_selection/_validation.py\", line 593, in _fit_and_score\n",
      "    estimator.fit(X_train, y_train, **fit_params)\n",
      "  File \"/Users/fyenne/anaconda3/lib/python3.7/site-packages/sklearn/naive_bayes.py\", line 210, in fit\n",
      "    sample_weight=sample_weight)\n",
      "  File \"/Users/fyenne/anaconda3/lib/python3.7/site-packages/sklearn/naive_bayes.py\", line 374, in _partial_fit\n",
      "    if _check_partial_fit_first_call(self, classes):\n",
      "  File \"/Users/fyenne/anaconda3/lib/python3.7/site-packages/sklearn/utils/multiclass.py\", line 339, in _check_partial_fit_first_call\n",
      "    clf.classes_ = unique_labels(classes)\n",
      "  File \"/Users/fyenne/anaconda3/lib/python3.7/site-packages/sklearn/utils/multiclass.py\", line 98, in unique_labels\n",
      "    raise ValueError(\"Unknown label type: %s\" % repr(ys))\n",
      "ValueError: Unknown label type: (array([-0.20201375, -0.12288892,  0.54626444,  0.67301646,  0.8992155 ,\n",
      "        0.9746409 ,  1.09605993,  1.31600899,  1.50418461,  1.73425177,\n",
      "        1.8305394 ,  1.88404109,  3.83970623,  4.51082693,  5.0456151 ,\n",
      "        5.14639037,  5.42819209,  5.70193919,  6.16043712,  6.59281674,\n",
      "        6.68597765,  6.98083184,  7.24998644,  7.49515774,  7.70041705,\n",
      "        8.1929663 ,  8.23148858,  8.32873282,  8.39917725,  8.50272859,\n",
      "        8.55755817,  8.70162943,  8.92229631,  8.96816213,  9.086429  ,\n",
      "        9.50648826,  9.856233  ,  9.997533  , 10.37406543]),)\n",
      "\n",
      "  FitFailedWarning)\n",
      "/Users/fyenne/anaconda3/lib/python3.7/site-packages/sklearn/model_selection/_validation.py:614: FitFailedWarning: Estimator fit failed. The score on this train-test partition for these parameters will be set to nan. Details: \n",
      "Traceback (most recent call last):\n",
      "  File \"/Users/fyenne/anaconda3/lib/python3.7/site-packages/sklearn/model_selection/_validation.py\", line 593, in _fit_and_score\n",
      "    estimator.fit(X_train, y_train, **fit_params)\n",
      "  File \"/Users/fyenne/anaconda3/lib/python3.7/site-packages/sklearn/naive_bayes.py\", line 210, in fit\n",
      "    sample_weight=sample_weight)\n",
      "  File \"/Users/fyenne/anaconda3/lib/python3.7/site-packages/sklearn/naive_bayes.py\", line 374, in _partial_fit\n",
      "    if _check_partial_fit_first_call(self, classes):\n",
      "  File \"/Users/fyenne/anaconda3/lib/python3.7/site-packages/sklearn/utils/multiclass.py\", line 339, in _check_partial_fit_first_call\n",
      "    clf.classes_ = unique_labels(classes)\n",
      "  File \"/Users/fyenne/anaconda3/lib/python3.7/site-packages/sklearn/utils/multiclass.py\", line 98, in unique_labels\n",
      "    raise ValueError(\"Unknown label type: %s\" % repr(ys))\n",
      "ValueError: Unknown label type: (array([-0.20201375, -0.12288892,  0.54626444,  0.67301646,  0.8992155 ,\n",
      "        0.9746409 ,  1.09605993,  1.31600899,  1.50418461,  1.73425177,\n",
      "        1.8305394 ,  1.88404109,  3.83970623,  4.51082693,  5.0456151 ,\n",
      "        5.14639037,  5.42819209,  5.70193919,  5.87386864,  6.16043712,\n",
      "        6.59281674,  6.68597765,  6.98083184,  7.24998644,  7.70041705,\n",
      "        8.1929663 ,  8.23148858,  8.32873282,  8.39917725,  8.50272859,\n",
      "        8.55755817,  8.70162943,  8.92229631,  8.96816213,  9.086429  ,\n",
      "        9.50648826,  9.856233  ,  9.997533  , 10.37406543]),)\n",
      "\n",
      "  FitFailedWarning)\n",
      "/Users/fyenne/anaconda3/lib/python3.7/site-packages/sklearn/model_selection/_validation.py:614: FitFailedWarning: Estimator fit failed. The score on this train-test partition for these parameters will be set to nan. Details: \n",
      "Traceback (most recent call last):\n",
      "  File \"/Users/fyenne/anaconda3/lib/python3.7/site-packages/sklearn/model_selection/_validation.py\", line 593, in _fit_and_score\n",
      "    estimator.fit(X_train, y_train, **fit_params)\n",
      "  File \"/Users/fyenne/anaconda3/lib/python3.7/site-packages/sklearn/naive_bayes.py\", line 210, in fit\n",
      "    sample_weight=sample_weight)\n",
      "  File \"/Users/fyenne/anaconda3/lib/python3.7/site-packages/sklearn/naive_bayes.py\", line 374, in _partial_fit\n",
      "    if _check_partial_fit_first_call(self, classes):\n",
      "  File \"/Users/fyenne/anaconda3/lib/python3.7/site-packages/sklearn/utils/multiclass.py\", line 339, in _check_partial_fit_first_call\n",
      "    clf.classes_ = unique_labels(classes)\n",
      "  File \"/Users/fyenne/anaconda3/lib/python3.7/site-packages/sklearn/utils/multiclass.py\", line 98, in unique_labels\n",
      "    raise ValueError(\"Unknown label type: %s\" % repr(ys))\n",
      "ValueError: Unknown label type: (array([-0.20201375, -0.12288892,  0.54626444,  0.67301646,  0.8992155 ,\n",
      "        0.9746409 ,  1.09605993,  1.31600899,  1.50418461,  1.73425177,\n",
      "        1.8305394 ,  1.88404109,  3.83970623,  4.51082693,  5.0456151 ,\n",
      "        5.14639037,  5.42819209,  5.70193919,  5.87386864,  6.16043712,\n",
      "        6.59281674,  6.68597765,  6.98083184,  7.24998644,  7.49515774,\n",
      "        7.70041705,  8.1929663 ,  8.23148858,  8.32873282,  8.39917725,\n",
      "        8.50272859,  8.55755817,  8.70162943,  8.92229631,  8.96816213,\n",
      "        9.086429  ,  9.50648826,  9.856233  , 10.37406543]),)\n",
      "\n",
      "  FitFailedWarning)\n",
      "/Users/fyenne/anaconda3/lib/python3.7/site-packages/sklearn/model_selection/_validation.py:614: FitFailedWarning: Estimator fit failed. The score on this train-test partition for these parameters will be set to nan. Details: \n",
      "Traceback (most recent call last):\n",
      "  File \"/Users/fyenne/anaconda3/lib/python3.7/site-packages/sklearn/model_selection/_validation.py\", line 593, in _fit_and_score\n",
      "    estimator.fit(X_train, y_train, **fit_params)\n",
      "  File \"/Users/fyenne/anaconda3/lib/python3.7/site-packages/sklearn/naive_bayes.py\", line 210, in fit\n",
      "    sample_weight=sample_weight)\n",
      "  File \"/Users/fyenne/anaconda3/lib/python3.7/site-packages/sklearn/naive_bayes.py\", line 374, in _partial_fit\n",
      "    if _check_partial_fit_first_call(self, classes):\n",
      "  File \"/Users/fyenne/anaconda3/lib/python3.7/site-packages/sklearn/utils/multiclass.py\", line 339, in _check_partial_fit_first_call\n",
      "    clf.classes_ = unique_labels(classes)\n",
      "  File \"/Users/fyenne/anaconda3/lib/python3.7/site-packages/sklearn/utils/multiclass.py\", line 98, in unique_labels\n",
      "    raise ValueError(\"Unknown label type: %s\" % repr(ys))\n",
      "ValueError: Unknown label type: (array([-0.20201375, -0.12288892,  0.67301646,  0.8992155 ,  0.9746409 ,\n",
      "        1.09605993,  1.31600899,  1.50418461,  1.73425177,  1.8305394 ,\n",
      "        1.88404109,  3.83970623,  4.51082693,  5.0456151 ,  5.14639037,\n",
      "        5.42819209,  5.70193919,  5.87386864,  6.16043712,  6.59281674,\n",
      "        6.68597765,  6.98083184,  7.24998644,  7.49515774,  7.70041705,\n",
      "        8.1929663 ,  8.23148858,  8.32873282,  8.39917725,  8.50272859,\n",
      "        8.55755817,  8.70162943,  8.92229631,  8.96816213,  9.086429  ,\n",
      "        9.50648826,  9.856233  ,  9.997533  , 10.37406543]),)\n",
      "\n",
      "  FitFailedWarning)\n",
      "/Users/fyenne/anaconda3/lib/python3.7/site-packages/sklearn/model_selection/_validation.py:614: FitFailedWarning: Estimator fit failed. The score on this train-test partition for these parameters will be set to nan. Details: \n",
      "Traceback (most recent call last):\n",
      "  File \"/Users/fyenne/anaconda3/lib/python3.7/site-packages/sklearn/model_selection/_validation.py\", line 593, in _fit_and_score\n",
      "    estimator.fit(X_train, y_train, **fit_params)\n",
      "  File \"/Users/fyenne/anaconda3/lib/python3.7/site-packages/sklearn/naive_bayes.py\", line 210, in fit\n",
      "    sample_weight=sample_weight)\n",
      "  File \"/Users/fyenne/anaconda3/lib/python3.7/site-packages/sklearn/naive_bayes.py\", line 374, in _partial_fit\n",
      "    if _check_partial_fit_first_call(self, classes):\n",
      "  File \"/Users/fyenne/anaconda3/lib/python3.7/site-packages/sklearn/utils/multiclass.py\", line 339, in _check_partial_fit_first_call\n",
      "    clf.classes_ = unique_labels(classes)\n",
      "  File \"/Users/fyenne/anaconda3/lib/python3.7/site-packages/sklearn/utils/multiclass.py\", line 98, in unique_labels\n",
      "    raise ValueError(\"Unknown label type: %s\" % repr(ys))\n",
      "ValueError: Unknown label type: (array([-0.20201375, -0.12288892,  0.54626444,  0.67301646,  0.8992155 ,\n",
      "        0.9746409 ,  1.09605993,  1.31600899,  1.50418461,  1.73425177,\n",
      "        1.8305394 ,  1.88404109,  3.83970623,  4.51082693,  5.0456151 ,\n",
      "        5.14639037,  5.42819209,  5.70193919,  5.87386864,  6.16043712,\n",
      "        6.59281674,  6.68597765,  6.98083184,  7.24998644,  7.49515774,\n",
      "        7.70041705,  8.23148858,  8.32873282,  8.39917725,  8.50272859,\n",
      "        8.55755817,  8.70162943,  8.92229631,  8.96816213,  9.086429  ,\n",
      "        9.50648826,  9.856233  ,  9.997533  , 10.37406543]),)\n",
      "\n",
      "  FitFailedWarning)\n"
     ]
    }
   ],
   "source": [
    "from sklearn.model_selection import LeaveOneOut\n",
    "scores = cross_val_score(model, X, y, cv=LeaveOneOut())"
   ]
  },
  {
   "cell_type": "code",
   "execution_count": 236,
   "metadata": {
    "ExecuteTime": {
     "end_time": "2021-01-15T07:54:40.836552Z",
     "start_time": "2021-01-15T07:54:40.828208Z"
    }
   },
   "outputs": [
    {
     "data": {
      "text/plain": [
       "0.96"
      ]
     },
     "execution_count": 236,
     "metadata": {},
     "output_type": "execute_result"
    }
   ],
   "source": [
    "scores.mean()"
   ]
  },
  {
   "cell_type": "markdown",
   "metadata": {},
   "source": [
    "## Validation curve plot"
   ]
  },
  {
   "cell_type": "code",
   "execution_count": 19,
   "metadata": {
    "ExecuteTime": {
     "end_time": "2021-01-16T08:18:31.508632Z",
     "start_time": "2021-01-16T08:18:31.503249Z"
    }
   },
   "outputs": [],
   "source": [
    "from sklearn.preprocessing import PolynomialFeatures\n",
    "from sklearn.linear_model import LinearRegression\n",
    "from sklearn.pipeline import make_pipeline\n",
    "\n",
    "def PolynomialRegression(degree=2, **kwargs):\n",
    "    return make_pipeline(PolynomialFeatures(degree),\n",
    "                         LinearRegression(**kwargs))"
   ]
  },
  {
   "cell_type": "code",
   "execution_count": 20,
   "metadata": {
    "ExecuteTime": {
     "end_time": "2021-01-16T08:18:32.262515Z",
     "start_time": "2021-01-16T08:18:32.252307Z"
    }
   },
   "outputs": [],
   "source": [
    "import numpy as np\n",
    "\n",
    "def make_data(N, err=1.0, rseed=1):\n",
    "    # randomly sample the data\n",
    "    rng = np.random.RandomState(rseed)\n",
    "    X = rng.rand(N, 1) ** 2\n",
    "    y = 10 - 1. / (X.ravel() + 0.1)\n",
    "    if err > 0:\n",
    "        y += err * rng.randn(N)\n",
    "    return X, y\n",
    "\n",
    "X, y = make_data(40)"
   ]
  },
  {
   "cell_type": "code",
   "execution_count": 21,
   "metadata": {
    "ExecuteTime": {
     "end_time": "2021-01-16T08:18:33.067063Z",
     "start_time": "2021-01-16T08:18:33.063968Z"
    },
    "scrolled": true
   },
   "outputs": [],
   "source": [
    "df = pd.DataFrame(X)"
   ]
  },
  {
   "cell_type": "code",
   "execution_count": 22,
   "metadata": {
    "ExecuteTime": {
     "end_time": "2021-01-16T08:18:33.648668Z",
     "start_time": "2021-01-16T08:18:33.640849Z"
    }
   },
   "outputs": [],
   "source": [
    "df['y'] = y"
   ]
  },
  {
   "cell_type": "code",
   "execution_count": 23,
   "metadata": {
    "ExecuteTime": {
     "end_time": "2021-01-16T08:18:34.123506Z",
     "start_time": "2021-01-16T08:18:34.117113Z"
    }
   },
   "outputs": [],
   "source": [
    "df = df.rename(columns = {0: 'X', 'y' : 'y'})"
   ]
  },
  {
   "cell_type": "code",
   "execution_count": 24,
   "metadata": {
    "ExecuteTime": {
     "end_time": "2021-01-16T08:18:35.321832Z",
     "start_time": "2021-01-16T08:18:34.900973Z"
    }
   },
   "outputs": [
    {
     "data": {
      "text/plain": [
       "<AxesSubplot:xlabel='X', ylabel='y'>"
      ]
     },
     "execution_count": 24,
     "metadata": {},
     "output_type": "execute_result"
    },
    {
     "data": {
      "image/png": "[encoded data removed]",
      "text/plain": [
       "<Figure size 408.625x360 with 1 Axes>"
      ]
     },
     "metadata": {
      "needs_background": "light"
     },
     "output_type": "display_data"
    }
   ],
   "source": [
    "sns.relplot(x = df.X, y = df.y, hue = df.y)\n",
    "\n",
    "sns.regplot(x = 'X', \n",
    "           y = 'y', \n",
    "           data = df,\n",
    "           scatter = False,\n",
    "            order = 3\n",
    ")"
   ]
  },
  {
   "cell_type": "code",
   "execution_count": 25,
   "metadata": {
    "ExecuteTime": {
     "end_time": "2021-01-16T08:18:36.434920Z",
     "start_time": "2021-01-16T08:18:36.298854Z"
    }
   },
   "outputs": [
    {
     "data": {
      "image/png": "[encoded data removed]",
      "text/plain": [
       "<Figure size 432x288 with 1 Axes>"
      ]
     },
     "metadata": {},
     "output_type": "display_data"
    }
   ],
   "source": [
    "import matplotlib.pyplot as plt\n",
    "import seaborn; seaborn.set()  # plot formatting\n",
    "\n",
    "X_test = np.linspace(-0.1, 1.1, 500)[:, None]\n",
    "\n",
    "plt.scatter(X.ravel(), y, color='black')\n",
    "axis = plt.axis()\n",
    "for degree in [1, 3, 5]:\n",
    "    y_test = PolynomialRegression(degree).fit(X, y).predict(X_test)\n",
    "    plt.plot(X_test.ravel(), y_test, label='degree={0}'.format(degree))\n",
    "plt.xlim(-0.1, 1.0)\n",
    "plt.ylim(-2, 12)\n",
    "plt.legend(loc='best');"
   ]
  },
  {
   "cell_type": "code",
   "execution_count": 26,
   "metadata": {
    "ExecuteTime": {
     "end_time": "2021-01-16T08:18:37.355978Z",
     "start_time": "2021-01-16T08:18:37.352696Z"
    }
   },
   "outputs": [],
   "source": [
    "X_test = np.linspace(-0.1, 1.1, 500)[:, None] #(500, 1)\n",
    " # np.linspace(-0.1, 1.1, 500).shape #(500,)"
   ]
  },
  {
   "cell_type": "code",
   "execution_count": null,
   "metadata": {
    "ExecuteTime": {
     "end_time": "2021-01-16T02:38:22.653237Z",
     "start_time": "2021-01-16T02:38:22.648505Z"
    }
   },
   "outputs": [],
   "source": []
  },
  {
   "cell_type": "markdown",
   "metadata": {},
   "source": [
    "### learning curve"
   ]
  },
  {
   "cell_type": "code",
   "execution_count": 27,
   "metadata": {
    "ExecuteTime": {
     "end_time": "2021-01-16T08:18:39.473178Z",
     "start_time": "2021-01-16T08:18:39.467564Z"
    }
   },
   "outputs": [],
   "source": [
    "from pprint import pprint\n",
    "from math import sqrt"
   ]
  },
  {
   "cell_type": "code",
   "execution_count": 28,
   "metadata": {
    "ExecuteTime": {
     "end_time": "2021-01-16T08:18:40.019369Z",
     "start_time": "2021-01-16T08:18:39.914277Z"
    }
   },
   "outputs": [
    {
     "data": {
      "image/png": "[encoded data removed]",
      "text/plain": [
       "<Figure size 432x288 with 1 Axes>"
      ]
     },
     "metadata": {},
     "output_type": "display_data"
    }
   ],
   "source": [
    "X2, y2 = make_data(200)\n",
    "plt.scatter(X2.ravel(), y2);"
   ]
  },
  {
   "cell_type": "code",
   "execution_count": 62,
   "metadata": {
    "ExecuteTime": {
     "end_time": "2021-01-16T10:07:17.984809Z",
     "start_time": "2021-01-16T10:07:17.790524Z"
    }
   },
   "outputs": [
    {
     "name": "stderr",
     "output_type": "stream",
     "text": [
      "/Users/fyenne/anaconda3/lib/python3.7/site-packages/sklearn/utils/validation.py:72: FutureWarning: Pass param_name=polynomialfeatures__degree, param_range=[ 0  1  2  3  4  5  6  7  8  9 10 11 12 13 14 15 16 17 18 19 20] as keyword args. From version 1.0 (renaming of 0.25) passing these as positional arguments will result in an error\n",
      "  \"will result in an error\", FutureWarning)\n"
     ]
    }
   ],
   "source": [
    "from sklearn.model_selection import validation_curve\n",
    "degree = np.arange(0, 21)\n",
    "train_score, val_score = validation_curve(PolynomialRegression(), X, y,\n",
    "                                          'polynomialfeatures__degree', degree, cv=7)\n",
    "\n"
   ]
  },
  {
   "cell_type": "code",
   "execution_count": 52,
   "metadata": {
    "ExecuteTime": {
     "end_time": "2021-01-16T08:28:28.754207Z",
     "start_time": "2021-01-16T08:28:28.624950Z"
    }
   },
   "outputs": [
    {
     "data": {
      "image/png": "[encoded data removed]",
      "text/plain": [
       "<Figure size 432x288 with 1 Axes>"
      ]
     },
     "metadata": {},
     "output_type": "display_data"
    }
   ],
   "source": [
    "plt.plot(degree, np.median(train_score, 1), color='blue', label='training score')\n",
    "plt.plot(degree, np.median(val_score, 1), color='red', label='validation score')\n",
    "plt.legend(loc='best')\n",
    "plt.ylim(0, 1)\n",
    "plt.xlabel('degree')\n",
    "plt.ylabel('score');"
   ]
  },
  {
   "cell_type": "code",
   "execution_count": 50,
   "metadata": {
    "ExecuteTime": {
     "end_time": "2021-01-16T08:26:42.262429Z",
     "start_time": "2021-01-16T08:26:42.256207Z"
    }
   },
   "outputs": [
    {
     "data": {
      "text/plain": [
       "((200,), (200, 1), '---', (500, 1), (500,))"
      ]
     },
     "execution_count": 50,
     "metadata": {},
     "output_type": "execute_result"
    }
   ],
   "source": [
    "X2.ravel().shape, X2.shape, \"---\", np.linspace(-0.1, 1.1, 500)[:, None].shape, np.linspace(-0.1, 1.1, 500).shape #(500, 1)\n",
    "\n"
   ]
  },
  {
   "cell_type": "code",
   "execution_count": 87,
   "metadata": {
    "ExecuteTime": {
     "end_time": "2021-01-16T11:54:30.551876Z",
     "start_time": "2021-01-16T11:54:30.547086Z"
    }
   },
   "outputs": [],
   "source": [
    "PolynomialRegression().fit(X,y);"
   ]
  },
  {
   "cell_type": "code",
   "execution_count": 76,
   "metadata": {
    "ExecuteTime": {
     "end_time": "2021-01-16T10:10:58.030894Z",
     "start_time": "2021-01-16T10:10:58.026605Z"
    }
   },
   "outputs": [
    {
     "data": {
      "text/plain": [
       "0.9818559303501744"
      ]
     },
     "execution_count": 76,
     "metadata": {},
     "output_type": "execute_result"
    }
   ],
   "source": [
    "train_score.max()"
   ]
  },
  {
   "cell_type": "code",
   "execution_count": 86,
   "metadata": {
    "ExecuteTime": {
     "end_time": "2021-01-16T10:20:18.258583Z",
     "start_time": "2021-01-16T10:20:18.249161Z"
    }
   },
   "outputs": [
    {
     "data": {
      "text/plain": [
       "0    7.285760e-01\n",
       "1    5.407115e-01\n",
       "2    3.585797e-01\n",
       "3   -4.076929e+09\n",
       "4   -1.663682e+06\n",
       "5   -2.347070e+07\n",
       "6   -2.969232e+02\n",
       "dtype: float64"
      ]
     },
     "execution_count": 86,
     "metadata": {},
     "output_type": "execute_result"
    }
   ],
   "source": [
    "pd.DataFrame(val_score).mean(axis =0)"
   ]
  },
  {
   "cell_type": "code",
   "execution_count": null,
   "metadata": {},
   "outputs": [],
   "source": []
  }
 ],
 "metadata": {
  "gist": {
   "data": {
    "description": "Downloads/booooks/semester5/py_handbook/pandas.ipynb",
    "public": true
   },
   "id": ""
  },
  "kernelspec": {
   "display_name": "Python 3",
   "language": "python",
   "name": "python3"
  },
  "language_info": {
   "codemirror_mode": {
    "name": "ipython",
    "version": 3
   },
   "file_extension": ".py",
   "mimetype": "text/x-python",
   "name": "python",
   "nbconvert_exporter": "python",
   "pygments_lexer": "ipython3",
   "version": "3.7.9"
  },
  "latex_envs": {
   "LaTeX_envs_menu_present": true,
   "autoclose": false,
   "autocomplete": true,
   "bibliofile": "biblio.bib",
   "cite_by": "apalike",
   "current_citInitial": 1,
   "eqLabelWithNumbers": true,
   "eqNumInitial": 1,
   "hotkeys": {
    "equation": "Ctrl-E",
    "itemize": "Ctrl-I"
   },
   "labels_anchors": false,
   "latex_user_defs": false,
   "report_style_numbering": false,
   "user_envs_cfg": false
  },
  "toc": {
   "base_numbering": 1,
   "nav_menu": {},
   "number_sections": true,
   "sideBar": true,
   "skip_h1_title": false,
   "title_cell": "Table of Contents",
   "title_sidebar": "Contents",
   "toc_cell": false,
   "toc_position": {
    "height": "calc(100% - 180px)",
    "left": "10px",
    "top": "150px",
    "width": "235px"
   },
   "toc_section_display": true,
   "toc_window_display": true
  },
  "varInspector": {
   "cols": {
    "lenName": 16,
    "lenType": 16,
    "lenVar": 40
   },
   "kernels_config": {
    "python": {
     "delete_cmd_postfix": "",
     "delete_cmd_prefix": "del ",
     "library": "var_list.py",
     "varRefreshCmd": "print(var_dic_list())"
    },
    "r": {
     "delete_cmd_postfix": ") ",
     "delete_cmd_prefix": "rm(",
     "library": "var_list.r",
     "varRefreshCmd": "cat(var_dic_list()) "
    }
   },
   "position": {
    "height": "477px",
    "left": "733px",
    "right": "20px",
    "top": "175px",
    "width": "430px"
   },
   "types_to_exclude": [
    "module",
    "function",
    "builtin_function_or_method",
    "instance",
    "_Feature"
   ],
   "window_display": false
  }
 },
 "nbformat": 4,
 "nbformat_minor": 4
}
