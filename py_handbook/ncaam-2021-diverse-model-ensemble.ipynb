{
 "cells": [
  {
   "cell_type": "markdown",
   "metadata": {},
   "source": [
    "# NCAAM 2021 - LGB w/ FE on three Datasets\n",
    "\n",
    "This notebook is copied from my notebook from NCAAM 2020. It shows LGB model training with feature engineering on three different datasets:\n",
    "- MRegularSeasonCompactResults\n",
    "- MRegularSeasonDetailedResults\n",
    "- MMasseyOrdinals\n",
    "\n",
    "The engineered features are appended to MNCAATourneyCompactResults and then LGB will be trained on it.\n",
    "\n",
    "Only Season < 2015 is used for Stage1 training, so there is no leak on the test prediction."
   ]
  },
  {
   "cell_type": "code",
   "execution_count": 1,
   "metadata": {
    "_cell_guid": "b1076dfc-b9ad-4769-8c92-a6c4dae69d19",
    "_uuid": "8f2839f25d086af736a60e9eeb907d3b93b6e0e5"
   },
   "outputs": [],
   "source": [
    "import numpy as np \n",
    "import pandas as pd \n",
    "import matplotlib.pyplot as plt\n",
    "%matplotlib inline\n",
    "import seaborn as sns; sns.set()\n",
    "\n",
    "from sklearn.model_selection import GroupKFold, KFold\n",
    "from sklearn.metrics import log_loss\n",
    "import lightgbm as lgb"
   ]
  },
  {
   "cell_type": "markdown",
   "metadata": {},
   "source": [
    "For Stage 1, 2003 <= Season < 2015 will be used for the model training/validation and test preditions are calculated by that trained model. For Stage 2, Season >= 2003 will be used for  training."
   ]
  },
  {
   "cell_type": "code",
   "execution_count": 2,
   "metadata": {},
   "outputs": [],
   "source": [
    "DATA_DIR = '../input/ncaam-march-mania-2021/MDataFiles_Stage2/'\n",
    "\n",
    "STAGE_1 = False # This needs to be False when it's stage 2 "
   ]
  },
  {
   "cell_type": "markdown",
   "metadata": {},
   "source": [
    "## FE on RegularSeasonCompactResults\n",
    "\n",
    "### Calculating Win %"
   ]
  },
  {
   "cell_type": "code",
   "execution_count": 3,
   "metadata": {},
   "outputs": [],
   "source": [
    "MRSCResults = pd.read_csv(DATA_DIR + '/MRegularSeasonCompactResults.csv')\n",
    "\n",
    "A_w = MRSCResults[MRSCResults.WLoc == 'A']\\\n",
    "    .groupby(['Season','WTeamID'])['WTeamID'].count().to_frame()\\\n",
    "    .rename(columns={\"WTeamID\": \"win_A\"})\n",
    "N_w = MRSCResults[MRSCResults.WLoc == 'N']\\\n",
    "    .groupby(['Season','WTeamID'])['WTeamID'].count().to_frame()\\\n",
    "    .rename(columns={\"WTeamID\": \"win_N\"})\n",
    "H_w = MRSCResults[MRSCResults.WLoc == 'H']\\\n",
    "    .groupby(['Season','WTeamID'])['WTeamID'].count().to_frame()\\\n",
    "    .rename(columns={\"WTeamID\": \"win_H\"})\n",
    "win = A_w.join(N_w, how='outer').join(H_w, how='outer').fillna(0)\n",
    "\n",
    "H_l = MRSCResults[MRSCResults.WLoc == 'A']\\\n",
    "    .groupby(['Season','LTeamID'])['LTeamID'].count().to_frame()\\\n",
    "    .rename(columns={\"LTeamID\": \"lost_H\"})\n",
    "N_l = MRSCResults[MRSCResults.WLoc == 'N']\\\n",
    "    .groupby(['Season','LTeamID'])['LTeamID'].count().to_frame()\\\n",
    "    .rename(columns={\"LTeamID\": \"lost_N\"})\n",
    "A_l = MRSCResults[MRSCResults.WLoc == 'H']\\\n",
    "    .groupby(['Season','LTeamID'])['LTeamID'].count().to_frame()\\\n",
    "    .rename(columns={\"LTeamID\": \"lost_A\"})\n",
    "lost = A_l.join(N_l, how='outer').join(H_l, how='outer').fillna(0)\n",
    "\n",
    "win.index = win.index.rename(['Season', 'TeamID'])\n",
    "lost.index = lost.index.rename(['Season', 'TeamID'])\n",
    "wl = win.join(lost, how='outer').reset_index()\n",
    "wl['win_pct_A'] = wl['win_A'] / (wl['win_A'] + wl['lost_A'])\n",
    "wl['win_pct_N'] = wl['win_N'] / (wl['win_N'] + wl['lost_N'])\n",
    "wl['win_pct_H'] = wl['win_H'] / (wl['win_H'] + wl['lost_H'])\n",
    "wl['win_pct_All'] = (wl['win_A'] + wl['win_N'] + wl['win_H']) / \\\n",
    "    (wl['win_A'] + wl['win_N'] + wl['win_H'] + wl['lost_A']\\\n",
    "     + wl['lost_N'] + wl['lost_H'])\n",
    "\n",
    "del A_w, N_w, H_w, H_l, N_l, A_l, win, lost"
   ]
  },
  {
   "cell_type": "markdown",
   "metadata": {},
   "source": [
    "### Creating Score Features"
   ]
  },
  {
   "cell_type": "code",
   "execution_count": 4,
   "metadata": {},
   "outputs": [],
   "source": [
    "MRSCResults['relScore'] = MRSCResults.WScore - MRSCResults.LScore\n",
    "\n",
    "w_scr = MRSCResults.loc[:, ['Season', 'WTeamID', 'WScore', 'WLoc','relScore']]\n",
    "w_scr.columns = ['Season', 'TeamID','Score','Loc','relScore']\n",
    "l_scr = MRSCResults.loc[:, ['Season', 'LTeamID', 'LScore', 'WLoc','relScore']]\n",
    "l_scr['WLoc'] = l_scr.WLoc.apply(lambda x: 'H' if x == 'A' else 'A' \\\n",
    "                                 if x == 'H' else 'N')\n",
    "l_scr['relScore'] = -1 * l_scr.relScore \n",
    "l_scr.columns = ['Season', 'TeamID','Score','Loc','relScore']\n",
    "wl_scr = pd.concat([w_scr,l_scr])\n",
    "\n",
    "A_scr = wl_scr[wl_scr.Loc == 'A'].groupby(['Season','TeamID'])\\\n",
    "        ['Score','relScore'].mean()\\\n",
    "        .rename(columns={\"Score\": \"Score_A\", \"relScore\": \"relScore_A\"})\n",
    "N_scr = wl_scr[wl_scr.Loc == 'N'].groupby(['Season','TeamID'])\\\n",
    "        ['Score','relScore'].mean()\\\n",
    "        .rename(columns={\"Score\": \"Score_N\", \"relScore\": \"relScore_N\"})\n",
    "H_scr = wl_scr[wl_scr.Loc == 'H'].groupby(['Season','TeamID'])\\\n",
    "        ['Score','relScore'].mean()\\\n",
    "        .rename(columns={\"Score\": \"Score_H\", \"relScore\": \"relScore_H\"})\n",
    "All_scr = wl_scr.groupby(['Season','TeamID'])['Score','relScore']\\\n",
    "    .mean().rename(columns={\"Score\": \"Score_All\", \"relScore\": \"relScore_All\"})\n",
    "scr = A_scr.join(N_scr, how='outer').join(H_scr, how='outer')\\\n",
    "    .join(All_scr, how='outer').fillna(0).reset_index()\n",
    "\n",
    "del w_scr, l_scr, wl_scr, A_scr, H_scr, N_scr, All_scr"
   ]
  },
  {
   "cell_type": "markdown",
   "metadata": {},
   "source": [
    "## FE on MRegularSeasonDetailedResults"
   ]
  },
  {
   "cell_type": "code",
   "execution_count": 5,
   "metadata": {},
   "outputs": [],
   "source": [
    "MRSDetailedResults = pd.read_csv(DATA_DIR + '/MRegularSeasonDetailedResults.csv')\n",
    "\n",
    "w = MRSDetailedResults.loc[:, ['Season', 'WTeamID', 'WFGM','WFGA','WFGM3'\n",
    "                               ,'WFGA3','WFTM','WFTA','WOR','WDR','WAst',\n",
    "                               'WTO','WStl','WBlk','WPF']]\n",
    "w.columns = ['Season', 'TeamID', 'FGM','FGA','FGM3','FGA3','FTM','FTA','OR','DR',\n",
    "             'Ast','TO','Stl','Blk','PF']\n",
    "l = MRSDetailedResults.loc[:, ['Season', 'LTeamID', 'LFGM','LFGA','LFGM3',\n",
    "                               'LFGA3','LFTM','LFTA','LOR','LDR','LAst',\n",
    "                               'LTO','LStl','LBlk','LPF']]\n",
    "l.columns = ['Season', 'TeamID', 'FGM','FGA','FGM3','FGA3','FTM','FTA','OR','DR',\n",
    "             'Ast','TO','Stl','Blk','PF']\n",
    "\n",
    "detail = pd.concat([w,l])\n",
    "detail['goal_rate'] = detail.FGM / detail.FGA \n",
    "detail['3p_goal_rate'] = detail.FGM3 / detail.FGA3  \n",
    "detail['ft_goal_rate'] = detail.FTM  / detail.FTA  \n",
    "\n",
    "dt = detail.groupby(['Season','TeamID'])['FGM','FGA','FGM3','FGA3','FTM','FTA',\n",
    "                                         'OR','DR','Ast','TO','Stl','Blk','PF',\n",
    "                                          'goal_rate', '3p_goal_rate',\n",
    "                                         'ft_goal_rate']\\\n",
    "                                        .mean().fillna(0).reset_index()\n",
    "\n",
    "del w, l, detail"
   ]
  },
  {
   "cell_type": "markdown",
   "metadata": {},
   "source": [
    "## FE on MMasseyOrdinals\n",
    "\n",
    "Using only MOR for now."
   ]
  },
  {
   "cell_type": "code",
   "execution_count": 6,
   "metadata": {},
   "outputs": [],
   "source": [
    "MMOrdinals = pd.read_csv(DATA_DIR + '/MMasseyOrdinals.csv')\n",
    "\n",
    "MOR_127_128 = MMOrdinals[(MMOrdinals.SystemName == 'MOR') & \\\n",
    "                ((MMOrdinals.RankingDayNum == 127) \\\n",
    "                 | (MMOrdinals.RankingDayNum == 128))]\\\n",
    "                [['Season','TeamID','OrdinalRank']]\n",
    "MOR_50_51 = MMOrdinals[(MMOrdinals.SystemName == 'MOR') & \\\n",
    "                ((MMOrdinals.RankingDayNum == 50) \\\n",
    "                 | (MMOrdinals.RankingDayNum == 51))]\\\n",
    "                [['Season','TeamID','OrdinalRank']]\n",
    "MOR_15_16 = MMOrdinals[(MMOrdinals.SystemName == 'MOR') & \\\n",
    "                ((MMOrdinals.RankingDayNum == 15) \\\n",
    "                 | (MMOrdinals.RankingDayNum == 16))]\\\n",
    "                [['Season','TeamID','OrdinalRank']]\n",
    "\n",
    "MOR_127_128 = MOR_127_128.rename(columns={'OrdinalRank':'OrdinalRank_127_128'})\n",
    "MOR_50_51 = MOR_50_51.rename(columns={'OrdinalRank':'OrdinalRank_50_51'})\n",
    "MOR_15_16 = MOR_15_16.rename(columns={'OrdinalRank':'OrdinalRank_15_16'})\n",
    "\n",
    "MOR = MOR_127_128.merge(MOR_50_51, how='left', on=['Season','TeamID'])\\\n",
    "        .merge(MOR_15_16, how='left', on=['Season','TeamID'])\n",
    "\n",
    "## normalizing Rank values by its season maxium as it varies by seasons\n",
    "MOR_max = MOR.groupby('Season')['OrdinalRank_127_128','OrdinalRank_50_51',\n",
    "                                'OrdinalRank_15_16'].max().reset_index()\n",
    "MOR_max.columns = ['Season', 'maxRank_127_128', 'maxRank_50_51', 'maxRank_15_16']\n",
    "\n",
    "MOR_tmp = MMOrdinals[(MMOrdinals.SystemName == 'MOR') \\\n",
    "                     & (MMOrdinals.RankingDayNum < 133)]\n",
    "MOR_stats = MOR_tmp.groupby(['Season','TeamID'])['OrdinalRank']\\\n",
    "            .agg(['max','min','std','mean']).reset_index()\n",
    "MOR_stats.columns = ['Season','TeamID','RankMax','RankMin','RankStd','RankMean']\n",
    "\n",
    "MOR = MOR.merge(MOR_max, how='left', on='Season')\\\n",
    "        .merge(MOR_stats, how='left', on=['Season','TeamID'])\n",
    "MOR['OrdinalRank_127_128'] = MOR['OrdinalRank_127_128'] / MOR['maxRank_127_128']\n",
    "MOR['OrdinalRank_50_51'] = MOR['OrdinalRank_50_51'] / MOR['maxRank_50_51']\n",
    "MOR['OrdinalRank_15_16'] = MOR['OrdinalRank_15_16'] / MOR['maxRank_15_16']\n",
    "MOR['RankTrans_50_51_to_127_128'] = MOR['OrdinalRank_127_128'] \\\n",
    "                                    - MOR['OrdinalRank_50_51']\n",
    "MOR['RankTrans_15_16_to_127_128'] = MOR['OrdinalRank_127_128'] \\\n",
    "                                    - MOR['OrdinalRank_15_16']\n",
    "\n",
    "# MOR['RankMax'] = MOR['RankMax'] / MOR['maxRank_127_128']\n",
    "# MOR['RankMin'] = MOR['RankMin'] / MOR['maxRank_127_128']\n",
    "# MOR['RankStd'] = MOR['RankStd'] / MOR['maxRank_127_128']\n",
    "# MOR['RankMean'] = MOR['RankMean'] / MOR['maxRank_127_128']\n",
    "\n",
    "MOR.drop(['OrdinalRank_50_51','OrdinalRank_15_16', 'maxRank_50_51'\n",
    "          ,'maxRank_15_16'],axis=1, inplace=True)\n",
    "\n",
    "del MOR_127_128, MOR_50_51, MOR_15_16, MOR_max, MOR_tmp, MOR_stats"
   ]
  },
  {
   "cell_type": "code",
   "execution_count": 7,
   "metadata": {},
   "outputs": [],
   "source": [
    "# Checking availability on RankingDayNum by SystemName \n",
    "\n",
    "# pd.options.display.max_columns=100\n",
    "# tmp = MMasseyOrdinals[(MMasseyOrdinals.SystemName == 'MOR')]\n",
    "# pd.crosstab(tmp.Season, tmp.RankingDayNum)"
   ]
  },
  {
   "cell_type": "markdown",
   "metadata": {},
   "source": [
    "## FE on MNCAATourneySeeds\n",
    "\n",
    "Seed didn't improve the score, so it's not used."
   ]
  },
  {
   "cell_type": "code",
   "execution_count": 8,
   "metadata": {},
   "outputs": [],
   "source": [
    "# MNCAATourneySeeds = pd.read_csv(DATA_DIR + '/MDataFiles_Stage1/MNCAATourneySeeds.csv')\n",
    "# MNCAATourneySeeds['seed_num'] =  MNCAATourneySeeds.Seed.apply(lambda x: int(x[1:3]))\n",
    "# MNCAATourneySeeds.drop('Seed', axis=1, inplace=True)"
   ]
  },
  {
   "cell_type": "markdown",
   "metadata": {},
   "source": [
    "Duplicating each data with changing column names to be matched to 'WTeamID' and 'LTeamID' in Tourney dataset"
   ]
  },
  {
   "cell_type": "code",
   "execution_count": 9,
   "metadata": {},
   "outputs": [],
   "source": [
    "wl_1 = wl.loc[:,['Season','TeamID','win_pct_A','win_pct_N',\n",
    "                 'win_pct_H','win_pct_All']]\n",
    "wl_1.columns = [str(col) + '_1' if col not in ['Season','TeamID'] \\\n",
    "                else str(col) for col in wl_1.columns ]\n",
    "\n",
    "wl_2 = wl.loc[:,['Season','TeamID','win_pct_A','win_pct_N',\n",
    "                 'win_pct_H','win_pct_All']]\n",
    "wl_2.columns = [str(col) + '_2' if col not in ['Season','TeamID'] \\\n",
    "                else str(col) for col in wl_2.columns ]\n",
    "\n",
    "scr_1 = scr.copy()\n",
    "scr_1.columns = [str(col) + '_1' if col not in ['Season','TeamID'] \\\n",
    "                 else str(col) for col in scr_1.columns ]\n",
    "\n",
    "scr_2 = scr.copy()\n",
    "scr_2.columns = [str(col) + '_2' if col not in ['Season','TeamID'] \\\n",
    "                 else str(col) for col in scr_2.columns ]\n",
    "\n",
    "dt_1 = dt.copy()\n",
    "dt_1.columns = [str(col) + '_1' if col not in ['Season','TeamID'] \\\n",
    "                else str(col) for col in dt_1.columns ]\n",
    "\n",
    "dt_2 = dt.copy()\n",
    "dt_2.columns = [str(col) + '_2' if col not in ['Season','TeamID'] \\\n",
    "                else str(col) for col in dt_2.columns ]\n",
    "\n",
    "MOR_1 = MOR.copy()\n",
    "MOR_1.columns = [str(col) + '_1' if col not in ['Season','TeamID'] \\\n",
    "                 else str(col) for col in MOR_1.columns ]\n",
    "\n",
    "MOR_2 = MOR.copy()\n",
    "MOR_2.columns = [str(col) + '_2' if col not in ['Season','TeamID'] \\\n",
    "                 else str(col) for col in MOR_2.columns ]"
   ]
  },
  {
   "cell_type": "markdown",
   "metadata": {},
   "source": [
    "## Loading MNCAATourneyCompactResults\n",
    "\n",
    "This dataset will be the base dataset for the model training"
   ]
  },
  {
   "cell_type": "code",
   "execution_count": 10,
   "metadata": {},
   "outputs": [],
   "source": [
    "TCResults = pd.read_csv(DATA_DIR + '/MNCAATourneyCompactResults.csv')\n",
    "\n",
    "tourney1 = TCResults.loc[:, ['Season','WTeamID','LTeamID']]\n",
    "tourney1.columns = ['Season','TeamID1','TeamID2']\n",
    "tourney1['result'] = 1\n",
    "\n",
    "tourney2 = TCResults.loc[:, ['Season','LTeamID','WTeamID']]\n",
    "tourney2.columns = ['Season','TeamID1','TeamID2']\n",
    "tourney2['result'] = 0\n",
    "\n",
    "tourney = pd.concat([tourney1, tourney2])\n",
    "del tourney1, tourney2"
   ]
  },
  {
   "cell_type": "markdown",
   "metadata": {},
   "source": [
    "### Merging engineered features to Tourney dataset"
   ]
  },
  {
   "cell_type": "code",
   "execution_count": 11,
   "metadata": {},
   "outputs": [],
   "source": [
    "def merge_data(df):\n",
    "\n",
    "    df = df.merge(wl_1, how='left', left_on=['Season','TeamID1'],\n",
    "                  right_on=['Season','TeamID'])\n",
    "    df = df.merge(wl_2, how='left', left_on=['Season','TeamID2'],\n",
    "                  right_on=['Season','TeamID'])\n",
    "    df = df.drop(['TeamID_x','TeamID_y'], axis=1)\n",
    "\n",
    "\n",
    "    df = df.merge(scr_1, how='left', left_on=['Season','TeamID1'],\n",
    "                  right_on=['Season','TeamID'])\n",
    "    df = df.merge(scr_2, how='left', left_on=['Season','TeamID2'],\n",
    "                  right_on=['Season','TeamID'])\n",
    "    df = df.drop(['TeamID_x','TeamID_y'], axis=1)\n",
    "\n",
    "    # df['win_pct_A_diff'] = df['win_pct_A_1'] - df['win_pct_A_2']\n",
    "    # df['win_pct_N_diff'] = df['win_pct_N_1'] - df['win_pct_N_2']\n",
    "    # df['win_pct_H_diff'] = df['win_pct_H_1'] - df['win_pct_H_2']\n",
    "#     df['win_pct_All_diff'] = df['win_pct_All_1'] - df['win_pct_All_2']\n",
    "\n",
    "    # df['Score_A_diff'] = df['Score_A_1'] - df['Score_A_2']\n",
    "    # df['Score_N_diff'] = df['Score_N_1'] - df['Score_N_2']\n",
    "    # df['Score_H_diff'] = df['Score_H_1'] - df['Score_H_2']\n",
    "    # df['Score_All_diff'] = df['Score_All_1'] - df['Score_All_2']\n",
    "\n",
    "    # df['relScore_A_diff'] = df['relScore_A_1'] - df['relScore_A_2']\n",
    "    # df['relScore_N_diff'] = df['relScore_N_1'] - df['relScore_N_2']\n",
    "    # df['relScore_H_diff'] = df['relScore_H_1'] - df['relScore_H_2']\n",
    "#     df['relScore_All_diff'] = df['relScore_All_1'] - df['relScore_All_2']\n",
    "\n",
    "    df = df.merge(dt_1, how='left', left_on=['Season','TeamID1'],\n",
    "                  right_on=['Season','TeamID'])\n",
    "    df = df.merge(dt_2, how='left', left_on=['Season','TeamID2'],\n",
    "                  right_on=['Season','TeamID'])\n",
    "    \n",
    "    df = df.drop(['TeamID_x','TeamID_y'], axis=1)\n",
    "\n",
    "    df = df.merge(MOR_1, how='left', left_on=['Season','TeamID1'],\n",
    "                  right_on=['Season','TeamID'])\n",
    "    df = df.merge(MOR_2, how='left', left_on=['Season','TeamID2'],\n",
    "                  right_on=['Season','TeamID'])\n",
    "    df = df.drop(['TeamID_x','TeamID_y'], axis=1)\n",
    "\n",
    "    df['OrdinalRank_127_128_diff'] = df['OrdinalRank_127_128_1'] \\\n",
    "        - df['OrdinalRank_127_128_2']\n",
    "    \n",
    "    df['magic1'] = df['OrdinalRank_127_128_diff'] - df['RankMean_1']\n",
    "    df['magic2'] = df['RankMean_1'] - df['RankMean_2']\n",
    "    df['magic3'] = df['OrdinalRank_127_128_diff'] - df['RankMean_2']\n",
    "    \n",
    "    df['magic11'] = df['OrdinalRank_127_128_diff'] * df['RankMean_1']\n",
    "    df['magic21'] = df['RankMean_1'] * df['RankMean_2']\n",
    "    df['magic31'] = df['OrdinalRank_127_128_diff'] * df['RankMean_2']\n",
    "    \n",
    "    df['magic12'] = df['OrdinalRank_127_128_diff'] / df['RankMean_1']\n",
    "    df['magic22'] = df['RankMean_1'] / df['RankMean_2']\n",
    "    df['magic32'] = df['OrdinalRank_127_128_diff'] / df['RankMean_2']\n",
    "\n",
    "    df = df.fillna(-1)\n",
    "    \n",
    "    for col in df.columns:\n",
    "        if (df[col] == np.inf).any() or (df[col] == -np.inf).any():\n",
    "            df[col][(df[col] == np.inf) | (df[col] == -np.inf)] = -1\n",
    "    \n",
    "    return df\n",
    "\n",
    "tourney = merge_data(tourney)\n",
    "tourney = tourney.loc[tourney.Season >= 2003,:].reset_index(drop=True)\n",
    "\n",
    "if STAGE_1:\n",
    "    tourney = tourney.loc[tourney.Season < 2015, :]"
   ]
  },
  {
   "cell_type": "markdown",
   "metadata": {},
   "source": [
    "## Loading Submission Dataset\n",
    "Duplicating each ID with swapping TeamIDs. Predictions will be averaged by ID to get better performance."
   ]
  },
  {
   "cell_type": "code",
   "execution_count": 12,
   "metadata": {},
   "outputs": [],
   "source": [
    "if STAGE_1:\n",
    "    MSampleSubmission = pd.read_csv(DATA_DIR + '/MSampleSubmissionStage1.csv')\n",
    "else:\n",
    "    MSampleSubmission = pd.read_csv(DATA_DIR + '/MSampleSubmissionStage2.csv') # put stage 2 submission file link here\n",
    "\n",
    "test1 = MSampleSubmission.copy()\n",
    "test1['Season'] = test1.ID.apply(lambda x: int(x[0:4]))\n",
    "test1['TeamID1'] = test1.ID.apply(lambda x: int(x[5:9]))\n",
    "test1['TeamID2'] = test1.ID.apply(lambda x: int(x[10:14]))\n",
    "\n",
    "test2 = MSampleSubmission.copy()\n",
    "test2['Season'] = test2.ID.apply(lambda x: int(x[0:4]))\n",
    "test2['TeamID1'] = test2.ID.apply(lambda x: int(x[10:14]))\n",
    "test2['TeamID2'] = test2.ID.apply(lambda x: int(x[5:9]))\n",
    "\n",
    "test = pd.concat([test1,test2]).drop(['Pred'], axis=1)\n",
    "test = merge_data(test)"
   ]
  },
  {
   "cell_type": "code",
   "execution_count": null,
   "metadata": {},
   "outputs": [],
   "source": []
  },
  {
   "cell_type": "markdown",
   "metadata": {},
   "source": [
    "## Model Training"
   ]
  },
  {
   "cell_type": "code",
   "execution_count": 13,
   "metadata": {},
   "outputs": [],
   "source": [
    "X = tourney.drop(['Season','TeamID1','TeamID2','result'], axis=1)\n",
    "y = tourney[\"result\"]\n",
    "s = tourney[\"Season\"]\n",
    "\n",
    "X_test = test.drop(['ID', 'Season','TeamID1','TeamID2'], axis=1)"
   ]
  },
  {
   "cell_type": "code",
   "execution_count": 14,
   "metadata": {},
   "outputs": [
    {
     "data": {
      "text/plain": [
       "2019    134\n",
       "2012    134\n",
       "2015    134\n",
       "2013    134\n",
       "2011    134\n",
       "2017    134\n",
       "2018    134\n",
       "2016    134\n",
       "2014    134\n",
       "2006    128\n",
       "2008    128\n",
       "2010    128\n",
       "2003    128\n",
       "2005    128\n",
       "2007    128\n",
       "2009    128\n",
       "2004    128\n",
       "Name: Season, dtype: int64"
      ]
     },
     "execution_count": 14,
     "metadata": {},
     "output_type": "execute_result"
    }
   ],
   "source": [
    "s.value_counts()"
   ]
  },
  {
   "cell_type": "code",
   "execution_count": 15,
   "metadata": {},
   "outputs": [],
   "source": [
    "def model_training(X, y, cv, groups, params, metric, early_stopping=10, \\\n",
    "    plt_iter=True, X_test=[], cat_features=[]):\n",
    "\n",
    "    feature_importance = pd.DataFrame()\n",
    "    val_scores=[]\n",
    "    train_evals=[]\n",
    "    valid_evals=[]\n",
    "\n",
    "    if len(X_test) > 0:\n",
    "        test_pred=np.zeros(len(X_test))\n",
    "\n",
    "    for idx, (train_index, val_index) in enumerate(cv.split(X, y, groups)):\n",
    "\n",
    "        print(\"###### fold %d ######\" % (idx+1))\n",
    "        X_train, X_val = X.iloc[train_index], X.iloc[val_index]\n",
    "        y_train, y_val = y.iloc[train_index], y.iloc[val_index]\n",
    "\n",
    "        model = lgb.LGBMClassifier(**params)\n",
    "\n",
    "        model.fit(X_train, y_train,\n",
    "                  eval_set=[(X_train, y_train), (X_val, y_val)],\n",
    "                  early_stopping_rounds=early_stopping,\n",
    "                  verbose=20\n",
    "                  #categorical_feature=list(cate_ft_lst),\n",
    "                  )\n",
    "\n",
    "        val_scores.append(model.best_score_['valid_1'][metric])\n",
    "        train_evals.append(model.evals_result_['training'][metric])\n",
    "        valid_evals.append(model.evals_result_['valid_1'][metric])\n",
    "\n",
    "        if len(X_test) > 0:\n",
    "            test_pred = test_pred + model.predict_proba(X_test, num_iteration=model.best_iteration_)[:,1]\n",
    "\n",
    "        fold_importance = pd.DataFrame()\n",
    "        fold_importance[\"feature\"] = X_train.columns\n",
    "        fold_importance[\"importance\"] = model.feature_importances_\n",
    "        fold_importance[\"fold\"] = idx+1\n",
    "        feature_importance = pd.concat([feature_importance, fold_importance]\n",
    "                                       , axis=0)\n",
    "\n",
    "    if plt_iter:\n",
    "        \n",
    "        fig, axs = plt.subplots(2, 2, figsize=(9,6))\n",
    "        \n",
    "        for i, ax in enumerate(axs.flatten()):\n",
    "            ax.plot(train_evals[i], label='training')\n",
    "            ax.plot(valid_evals[i], label='validation')\n",
    "            ax.set(xlabel='interations', ylabel=f'{metric}')\n",
    "            ax.set_title(f'fold {i+1}', fontsize=12)\n",
    "            ax.legend(loc='upper right', prop={'size': 9})\n",
    "        fig.tight_layout()\n",
    "        plt.show()\n",
    "    \n",
    "    print('### CV scores by fold ###')\n",
    "    for i in range(cv.get_n_splits(X)):\n",
    "        print(f'fold {i+1}: {val_scores[i]:.4f}')\n",
    "    print('CV mean score: {0:.4f}, std: {1:.4f}.'\\\n",
    "          .format(np.mean(val_scores), np.std(val_scores)))\n",
    "    \n",
    "    feature_importance = feature_importance[[\"feature\", \"importance\"]]\\\n",
    "                         .groupby(\"feature\").mean().sort_values(\n",
    "                         by=\"importance\", ascending=False)\n",
    "    feature_importance.reset_index(inplace=True)\n",
    "\n",
    "    if len(X_test) > 0:\n",
    "        test_pred = test_pred / cv.get_n_splits(X)\n",
    "        return feature_importance, test_pred\n",
    "    else:\n",
    "        return feature_importance"
   ]
  },
  {
   "cell_type": "code",
   "execution_count": 16,
   "metadata": {},
   "outputs": [],
   "source": [
    "lgb_params = {'objective': 'binary',\n",
    "              'metric': 'binary_logloss',\n",
    "              'boosting': 'gbdt',\n",
    "              'num_leaves': 31,\n",
    "              'feature_fraction': 0.8,\n",
    "              'bagging_fraction': 0.8,\n",
    "              'bagging_freq': 5,\n",
    "              'learning_rate': 0.1,\n",
    "              'n_estimators': 1000,\n",
    "}"
   ]
  },
  {
   "cell_type": "markdown",
   "metadata": {},
   "source": [
    "Using GroupKFold by Season"
   ]
  },
  {
   "cell_type": "code",
   "execution_count": 17,
   "metadata": {},
   "outputs": [],
   "source": [
    "N_FOLDS = 10"
   ]
  },
  {
   "cell_type": "code",
   "execution_count": 18,
   "metadata": {},
   "outputs": [
    {
     "name": "stdout",
     "output_type": "stream",
     "text": [
      "###### fold 1 ######\n",
      "Training until validation scores don't improve for 10 rounds\n",
      "[20]\ttraining's binary_logloss: 0.375265\tvalid_1's binary_logloss: 0.489985\n",
      "[40]\ttraining's binary_logloss: 0.249831\tvalid_1's binary_logloss: 0.476567\n",
      "Early stopping, best iteration is:\n",
      "[33]\ttraining's binary_logloss: 0.286337\tvalid_1's binary_logloss: 0.470447\n",
      "###### fold 2 ######\n",
      "Training until validation scores don't improve for 10 rounds\n",
      "[20]\ttraining's binary_logloss: 0.364798\tvalid_1's binary_logloss: 0.564587\n",
      "Early stopping, best iteration is:\n",
      "[25]\ttraining's binary_logloss: 0.326617\tvalid_1's binary_logloss: 0.560465\n",
      "###### fold 3 ######\n",
      "Training until validation scores don't improve for 10 rounds\n",
      "[20]\ttraining's binary_logloss: 0.365257\tvalid_1's binary_logloss: 0.60863\n",
      "Early stopping, best iteration is:\n",
      "[11]\ttraining's binary_logloss: 0.456195\tvalid_1's binary_logloss: 0.592449\n",
      "###### fold 4 ######\n",
      "Training until validation scores don't improve for 10 rounds\n",
      "[20]\ttraining's binary_logloss: 0.364454\tvalid_1's binary_logloss: 0.564004\n",
      "Early stopping, best iteration is:\n",
      "[16]\ttraining's binary_logloss: 0.397424\tvalid_1's binary_logloss: 0.561323\n",
      "###### fold 5 ######\n",
      "Training until validation scores don't improve for 10 rounds\n",
      "[20]\ttraining's binary_logloss: 0.364133\tvalid_1's binary_logloss: 0.57793\n",
      "Early stopping, best iteration is:\n",
      "[16]\ttraining's binary_logloss: 0.399336\tvalid_1's binary_logloss: 0.576173\n",
      "###### fold 6 ######\n",
      "Training until validation scores don't improve for 10 rounds\n",
      "[20]\ttraining's binary_logloss: 0.35818\tvalid_1's binary_logloss: 0.612464\n",
      "Early stopping, best iteration is:\n",
      "[16]\ttraining's binary_logloss: 0.393772\tvalid_1's binary_logloss: 0.606999\n",
      "###### fold 7 ######\n",
      "Training until validation scores don't improve for 10 rounds\n",
      "[20]\ttraining's binary_logloss: 0.374259\tvalid_1's binary_logloss: 0.560194\n",
      "Early stopping, best iteration is:\n",
      "[22]\ttraining's binary_logloss: 0.358123\tvalid_1's binary_logloss: 0.557371\n",
      "###### fold 8 ######\n",
      "Training until validation scores don't improve for 10 rounds\n",
      "[20]\ttraining's binary_logloss: 0.372556\tvalid_1's binary_logloss: 0.55192\n",
      "Early stopping, best iteration is:\n",
      "[16]\ttraining's binary_logloss: 0.40699\tvalid_1's binary_logloss: 0.548074\n",
      "###### fold 9 ######\n",
      "Training until validation scores don't improve for 10 rounds\n",
      "[20]\ttraining's binary_logloss: 0.374434\tvalid_1's binary_logloss: 0.552038\n",
      "Early stopping, best iteration is:\n",
      "[28]\ttraining's binary_logloss: 0.315493\tvalid_1's binary_logloss: 0.532226\n",
      "###### fold 10 ######\n",
      "Training until validation scores don't improve for 10 rounds\n",
      "[20]\ttraining's binary_logloss: 0.365187\tvalid_1's binary_logloss: 0.559017\n",
      "Early stopping, best iteration is:\n",
      "[21]\ttraining's binary_logloss: 0.35685\tvalid_1's binary_logloss: 0.556966\n"
     ]
    },
    {
     "data": {
      "image/png": "[encoded data removed]",
      "text/plain": [
       "<Figure size 648x432 with 4 Axes>"
      ]
     },
     "metadata": {},
     "output_type": "display_data"
    },
    {
     "name": "stdout",
     "output_type": "stream",
     "text": [
      "### CV scores by fold ###\n",
      "fold 1: 0.4704\n",
      "fold 2: 0.5605\n",
      "fold 3: 0.5924\n",
      "fold 4: 0.5613\n",
      "fold 5: 0.5762\n",
      "fold 6: 0.6070\n",
      "fold 7: 0.5574\n",
      "fold 8: 0.5481\n",
      "fold 9: 0.5322\n",
      "fold 10: 0.5570\n",
      "CV mean score: 0.5562, std: 0.0351.\n",
      "CPU times: user 8.25 s, sys: 420 ms, total: 8.67 s\n",
      "Wall time: 4.57 s\n"
     ]
    }
   ],
   "source": [
    "%%time\n",
    "group_kfold = GroupKFold(n_splits=N_FOLDS)\n",
    "\n",
    "feature_importance, test_pred = \\\n",
    "    model_training(X, y, group_kfold, s, lgb_params, \n",
    "    'binary_logloss', plt_iter=True, X_test=X_test)"
   ]
  },
  {
   "cell_type": "code",
   "execution_count": 19,
   "metadata": {},
   "outputs": [
    {
     "data": {
      "text/plain": [
       "Text(0.5, 1.0, 'Feature Importnace')"
      ]
     },
     "execution_count": 19,
     "metadata": {},
     "output_type": "execute_result"
    },
    {
     "data": {
      "image/png": "[encoded data removed]",
      "text/plain": [
       "<Figure size 720x720 with 1 Axes>"
      ]
     },
     "metadata": {},
     "output_type": "display_data"
    }
   ],
   "source": [
    "plt.figure(figsize=(10, 10));\n",
    "sns.barplot(x=\"importance\", y=\"feature\", data=feature_importance[:30])\n",
    "plt.title('Feature Importnace')"
   ]
  },
  {
   "cell_type": "markdown",
   "metadata": {},
   "source": [
    "# 2nd model"
   ]
  },
  {
   "cell_type": "code",
   "execution_count": 20,
   "metadata": {},
   "outputs": [],
   "source": [
    "# # https://www.kaggle.com/joseleiva/massey-s-ordinal-s-ordinals\n",
    "\n",
    "# import numpy as np\n",
    "# import pandas as pd\n",
    "\n",
    "# inp = '../input/ncaam-march-mania-2021/'\n",
    "# season_df = pd.read_csv(inp+'MRegularSeasonCompactResults.csv')\n",
    "# tourney_df = pd.read_csv(inp+'MNCAATourneyCompactResults.csv')\n",
    "# ordinals_df = pd.read_csv(inp+'MMasseyOrdinals.csv').rename(columns={'RankingDayNum':'DayNum'})\n",
    "\n",
    "# # Get the last available data from each system previous to the tournament\n",
    "# ordinals_df = ordinals_df.groupby(['SystemName','Season','TeamID']).last().reset_index()\n",
    "\n",
    "# # Add winner's ordinals\n",
    "# games_df = tourney_df.merge(ordinals_df,left_on=['Season','WTeamID'],\n",
    "#                           right_on=['Season','TeamID'])\n",
    "# games_df.head()\n",
    "# # Then add losser's ordinals\n",
    "# games_df = games_df.merge(ordinals_df,left_on=['Season','LTeamID','SystemName'],\n",
    "#                           right_on=['Season','TeamID','SystemName'],\n",
    "#                           suffixes = ['W','L'])\n",
    "\n",
    "# ## Add column with 1 if result is correct\n",
    "# games_df = games_df.drop(labels=['TeamIDW','TeamIDL'],axis=1)\n",
    "# games_df['prediction'] = (games_df.OrdinalRankW<games_df.OrdinalRankL).astype(int)\n",
    "# results_by_system = games_df.groupby('SystemName').agg({'prediction':('mean','count')})\n",
    "\n",
    "# games_df['Wrating'] = 100-4*np.log(games_df['OrdinalRankW']+1)-games_df['OrdinalRankW']/22\n",
    "# games_df['Lrating'] = 100-4*np.log(games_df['OrdinalRankL']+1)-games_df['OrdinalRankL']/22\n",
    "# games_df['prob'] = 1/(1+10**((games_df['Lrating']-games_df['Wrating'])/15))\n",
    "# loss_results = games_df[games_df.Season>=2015].groupby('SystemName')['prob'].agg([('loss',lambda p: -np.mean(np.log(p))),('count','count')])\n",
    "\n",
    "# ref_system = 'POM'\n",
    "# ordinals_df['Rating']= 100-4*np.log(ordinals_df['OrdinalRank']+1)-ordinals_df['OrdinalRank']/22\n",
    "# ordinals_df = ordinals_df[ordinals_df.SystemName==ref_system]\n",
    "\n",
    "# # Get submission file\n",
    "# sub_df = pd.read_csv(inp+'MSampleSubmissionStage1.csv')\n",
    "# sub_df['Season'] = sub_df['ID'].map(lambda x: int(x.split('_')[0]))\n",
    "# sub_df['Team1'] = sub_df['ID'].map(lambda x: int(x.split('_')[1]))\n",
    "# sub_df['Team2'] = sub_df['ID'].map(lambda x: int(x.split('_')[2]))\n",
    "# sub_df = sub_df.merge(ordinals_df[['Season','TeamID','Rating']], how='left', left_on = ['Season','Team1'], right_on = ['Season','TeamID'])\n",
    "# sub_df = sub_df.merge(ordinals_df[['Season','TeamID','Rating']], how='left', left_on = ['Season','Team2'], right_on = ['Season','TeamID'], suffixes=['W','L'])"
   ]
  },
  {
   "cell_type": "markdown",
   "metadata": {},
   "source": [
    "# 3rd model"
   ]
  },
  {
   "cell_type": "code",
   "execution_count": 21,
   "metadata": {},
   "outputs": [
    {
     "data": {
      "application/vnd.jupyter.widget-view+json": {
       "model_id": "6b0c335c53084cda93543448474fea91",
       "version_major": 2,
       "version_minor": 0
      },
      "text/plain": [
       "HBox(children=(FloatProgress(value=1.0, bar_style='info', max=1.0), HTML(value='')))"
      ]
     },
     "metadata": {},
     "output_type": "display_data"
    },
    {
     "name": "stdout",
     "output_type": "stream",
     "text": [
      "0.5308707696972911\n",
      "0.5330772038679964\n",
      "0.5805150822286625\n",
      "0.5411138736285539\n",
      "0.5547863673645453\n",
      "\n",
      "CV 0.5474525833486096\n"
     ]
    }
   ],
   "source": [
    "import warnings\n",
    "warnings.filterwarnings(\"ignore\")\n",
    "import numpy as np\n",
    "import pandas as pd\n",
    "from sklearn.experimental import enable_hist_gradient_boosting\n",
    "from sklearn.ensemble import HistGradientBoostingRegressor, HistGradientBoostingClassifier, RandomForestClassifier\n",
    "from sklearn.model_selection import KFold, GroupKFold\n",
    "from sklearn.linear_model import LinearRegression, LogisticRegression\n",
    "from sklearn.svm import SVC\n",
    "from sklearn.metrics import log_loss\n",
    "from tqdm.notebook import tqdm\n",
    "import glob\n",
    "import os\n",
    "import gc\n",
    "import xgboost as xgb\n",
    "\n",
    "train = tourney\n",
    "test = test\n",
    "\n",
    "xgb_params= {\n",
    "        \"objective\": \"binary:logistic\",\n",
    "        \"max_depth\": 2,\n",
    "        \"learning_rate\": 0.1,\n",
    "        \"colsample_bytree\": 0.8,\n",
    "        \"subsample\": 0.8,\n",
    "        #\"reg_alpha\" : 0,\n",
    "        \"min_child_weight\": 30,\n",
    "        \"n_jobs\": 2,\n",
    "        \"seed\": 2021,\n",
    "        'tree_method': \"gpu_hist\",\n",
    "        \"gpu_id\": 0,\n",
    "        'predictor': 'gpu_predictor'\n",
    "    }\n",
    "\n",
    "y = train[\"result\"]\n",
    "s = train[\"Season\"]\n",
    "X = train.drop(['Season','TeamID1','TeamID2','result'], axis=1)\n",
    "\n",
    "X_test = test.drop(['ID', 'Season','TeamID1','TeamID2'], axis=1)\n",
    "\n",
    "train_oof = np.zeros((X.shape[0],))\n",
    "test_preds = 0\n",
    "train_oof.shape\n",
    "\n",
    "NUM_FOLDS = 5\n",
    "kf = GroupKFold(n_splits=NUM_FOLDS)\n",
    "max_iter = 550\n",
    "\n",
    "for f, (train_ind, val_ind) in tqdm(enumerate(kf.split(X, y, s))):\n",
    "        #print(f'Fold {f}')\n",
    "        train_df, val_df = X.iloc[train_ind], X.iloc[val_ind]\n",
    "        train_target, val_target = y.iloc[train_ind], y.iloc[val_ind]\n",
    "        train_df_xgb = xgb.DMatrix(train_df, label=train_target)\n",
    "        val_df_xgb = xgb.DMatrix(val_df, label=val_target)\n",
    "        \n",
    "        model = HistGradientBoostingClassifier(max_iter=max_iter, validation_fraction=None, learning_rate=0.01, max_depth=2, min_samples_leaf=32)\n",
    "        model1 = RandomForestClassifier()\n",
    "        model2 = LogisticRegression(C=1)\n",
    "#         model3 = SVC(probability=True)\n",
    "        model4 = xgb.train(xgb_params, train_df_xgb, 1000)\n",
    "\n",
    "        model =  model.fit(train_df, train_target)\n",
    "        model1 =  model1.fit(train_df, train_target)\n",
    "        model2 =  model2.fit(train_df, train_target)\n",
    "#         model3 =  model3.fit(train_df, train_target)\n",
    "          \n",
    "#         temp_oof = model2.predict_proba(val_df)[:,1]\n",
    "#         temp_test = model2.predict_proba(X_test)[:,1]\n",
    "        \n",
    "        temp_oof = (model.predict_proba(val_df)[:,1] + \\\n",
    "                    model1.predict_proba(val_df)[:,1] + \\\n",
    "                    model2.predict_proba(val_df)[:,1] + \\\n",
    "#                     model3.predict_proba(val_df)[:,1] + \\\n",
    "                    model4.predict(val_df_xgb)) / 4\n",
    "        temp_test = (model.predict_proba(X_test)[:,1] \\\n",
    "                     + model1.predict_proba(X_test)[:,1] \\\n",
    "                     + model2.predict_proba(X_test)[:,1] \\\n",
    "#                      + model3.predict_proba(X_test)[:,1] \\\n",
    "                     + model4.predict(xgb.DMatrix(X_test))) / 4\n",
    "\n",
    "        train_oof[val_ind] = temp_oof\n",
    "        test_preds += temp_test/NUM_FOLDS\n",
    "        \n",
    "        print(log_loss(val_target, temp_oof))\n",
    "        \n",
    "print('CV', log_loss(y, train_oof))        \n",
    "np.save('train_oof', train_oof)\n",
    "np.save('test_preds', test_preds)\n",
    "\n",
    "test = test\n",
    "MSampleSubmission = pd.read_csv('../input/ncaam-march-mania-2021/MDataFiles_Stage2/MSampleSubmissionStage2.csv')\n",
    "\n",
    "idx = test_preds.shape[0] //2\n",
    "test_preds[idx:] = 1 - test_preds[idx:]\n",
    "\n",
    "pred = pd.concat([test.ID, pd.Series(test_preds)], axis=1).groupby('ID')[0]\\\n",
    "        .mean().reset_index().rename(columns={0:'Pred'})\n",
    "sub3 = MSampleSubmission.drop(['Pred'],axis=1).merge(pred, on='ID')\n",
    "pred_3 = sub3['Pred']"
   ]
  },
  {
   "cell_type": "code",
   "execution_count": 22,
   "metadata": {},
   "outputs": [
    {
     "data": {
      "text/plain": [
       "0.5539459504635523"
      ]
     },
     "execution_count": 22,
     "metadata": {},
     "output_type": "execute_result"
    }
   ],
   "source": [
    "0.5539459504635523"
   ]
  },
  {
   "cell_type": "markdown",
   "metadata": {},
   "source": [
    "## Creating Submission File\n",
    "\n",
    "The second half of the test prediction need to be (1 - pred) as the team order was swapped. The predictions are averaged by ID after that."
   ]
  },
  {
   "cell_type": "code",
   "execution_count": 23,
   "metadata": {},
   "outputs": [
    {
     "data": {
      "text/html": [
       "<div>\n",
       "<style scoped>\n",
       "    .dataframe tbody tr th:only-of-type {\n",
       "        vertical-align: middle;\n",
       "    }\n",
       "\n",
       "    .dataframe tbody tr th {\n",
       "        vertical-align: top;\n",
       "    }\n",
       "\n",
       "    .dataframe thead th {\n",
       "        text-align: right;\n",
       "    }\n",
       "</style>\n",
       "<table border=\"1\" class=\"dataframe\">\n",
       "  <thead>\n",
       "    <tr style=\"text-align: right;\">\n",
       "      <th></th>\n",
       "      <th>ID</th>\n",
       "      <th>Pred</th>\n",
       "    </tr>\n",
       "  </thead>\n",
       "  <tbody>\n",
       "    <tr>\n",
       "      <th>0</th>\n",
       "      <td>2021_1101_1104</td>\n",
       "      <td>0.292578</td>\n",
       "    </tr>\n",
       "    <tr>\n",
       "      <th>1</th>\n",
       "      <td>2021_1101_1111</td>\n",
       "      <td>0.807139</td>\n",
       "    </tr>\n",
       "    <tr>\n",
       "      <th>2</th>\n",
       "      <td>2021_1101_1116</td>\n",
       "      <td>0.270697</td>\n",
       "    </tr>\n",
       "    <tr>\n",
       "      <th>3</th>\n",
       "      <td>2021_1101_1124</td>\n",
       "      <td>0.153285</td>\n",
       "    </tr>\n",
       "    <tr>\n",
       "      <th>4</th>\n",
       "      <td>2021_1101_1140</td>\n",
       "      <td>0.480314</td>\n",
       "    </tr>\n",
       "  </tbody>\n",
       "</table>\n",
       "</div>"
      ],
      "text/plain": [
       "               ID      Pred\n",
       "0  2021_1101_1104  0.292578\n",
       "1  2021_1101_1111  0.807139\n",
       "2  2021_1101_1116  0.270697\n",
       "3  2021_1101_1124  0.153285\n",
       "4  2021_1101_1140  0.480314"
      ]
     },
     "execution_count": 23,
     "metadata": {},
     "output_type": "execute_result"
    }
   ],
   "source": [
    "idx = test_pred.shape[0] //2\n",
    "test_pred[idx:] = 1 - test_pred[idx:]\n",
    "\n",
    "pred = pd.concat([test.ID, pd.Series(test_pred)], axis=1).groupby('ID')[0]\\\n",
    "        .mean().reset_index().rename(columns={0:'Pred'})\n",
    "sub = MSampleSubmission.drop(['Pred'],axis=1).merge(pred, on='ID')\n",
    "sub['Pred'] = sub['Pred'] * 0.3 + sub3['Pred'] * 0.7\n",
    "sub.to_csv('submission.csv', index=False)\n",
    "sub.head()"
   ]
  },
  {
   "cell_type": "markdown",
   "metadata": {},
   "source": [
    "## Calculating Test Score Locally"
   ]
  },
  {
   "cell_type": "code",
   "execution_count": 24,
   "metadata": {},
   "outputs": [],
   "source": [
    "if STAGE_1:\n",
    "    rslt = pd.DataFrame()\n",
    "    TCResults_s = TCResults.loc[TCResults.Season >= 2015,:]\n",
    "    rslt['season'] = TCResults_s.Season\n",
    "    rslt['team1'] = TCResults_s.apply(lambda x: x.WTeamID \\\n",
    "                                      if x.WTeamID < x.LTeamID else x.LTeamID\n",
    "                                      , axis=1)\n",
    "    rslt['team2'] = TCResults_s.apply(lambda x: x.WTeamID \\\n",
    "                                      if x.WTeamID > x.LTeamID else x.LTeamID\n",
    "                                      , axis=1)\n",
    "    rslt['wl'] = TCResults_s.apply(lambda x: 1 if x.WTeamID < x.LTeamID else 0\n",
    "                                   , axis=1)\n",
    "    rslt['ID'] = rslt.apply(lambda x: str(x.season) + '_' + str(x.team1) \\\n",
    "                            + '_' + str(x.team2), axis=1)\n",
    "    sub2 = sub.merge(rslt.loc[:,['ID','wl']], how='inner', on='ID')\n",
    "\n",
    "    preds = []\n",
    "    for i in sub2.Pred:\n",
    "        preds.append([1-i, i])\n",
    "\n",
    "    print('Test logloss is {:.5f}'.format(log_loss(sub2.wl.values, preds)))"
   ]
  },
  {
   "cell_type": "code",
   "execution_count": 25,
   "metadata": {},
   "outputs": [
    {
     "data": {
      "text/plain": [
       "0.51971"
      ]
     },
     "execution_count": 25,
     "metadata": {},
     "output_type": "execute_result"
    }
   ],
   "source": [
    "0.51971"
   ]
  },
  {
   "cell_type": "code",
   "execution_count": null,
   "metadata": {},
   "outputs": [],
   "source": []
  }
 ],
 "metadata": {
  "kernelspec": {
   "display_name": "Python 3",
   "language": "python",
   "name": "python3"
  },
  "language_info": {
   "codemirror_mode": {
    "name": "ipython",
    "version": 3
   },
   "file_extension": ".py",
   "mimetype": "text/x-python",
   "name": "python",
   "nbconvert_exporter": "python",
   "pygments_lexer": "ipython3",
   "version": "3.6.6"
  },
  "widgets": {
   "application/vnd.jupyter.widget-state+json": {
    "state": {
     "314a6431e42a4412ae9f33b768d97cdf": {
      "model_module": "@jupyter-widgets/base",
      "model_module_version": "1.2.0",
      "model_name": "LayoutModel",
      "state": {
       "_model_module": "@jupyter-widgets/base",
       "_model_module_version": "1.2.0",
       "_model_name": "LayoutModel",
       "_view_count": null,
       "_view_module": "@jupyter-widgets/base",
       "_view_module_version": "1.2.0",
       "_view_name": "LayoutView",
       "align_content": null,
       "align_items": null,
       "align_self": null,
       "border": null,
       "bottom": null,
       "display": null,
       "flex": null,
       "flex_flow": null,
       "grid_area": null,
       "grid_auto_columns": null,
       "grid_auto_flow": null,
       "grid_auto_rows": null,
       "grid_column": null,
       "grid_gap": null,
       "grid_row": null,
       "grid_template_areas": null,
       "grid_template_columns": null,
       "grid_template_rows": null,
       "height": null,
       "justify_content": null,
       "justify_items": null,
       "left": null,
       "margin": null,
       "max_height": null,
       "max_width": null,
       "min_height": null,
       "min_width": null,
       "object_fit": null,
       "object_position": null,
       "order": null,
       "overflow": null,
       "overflow_x": null,
       "overflow_y": null,
       "padding": null,
       "right": null,
       "top": null,
       "visibility": null,
       "width": null
      }
     },
     "4cd6bcc5d8d84c3f9e1f6c7dda7cc43b": {
      "model_module": "@jupyter-widgets/controls",
      "model_module_version": "1.5.0",
      "model_name": "DescriptionStyleModel",
      "state": {
       "_model_module": "@jupyter-widgets/controls",
       "_model_module_version": "1.5.0",
       "_model_name": "DescriptionStyleModel",
       "_view_count": null,
       "_view_module": "@jupyter-widgets/base",
       "_view_module_version": "1.2.0",
       "_view_name": "StyleView",
       "description_width": ""
      }
     },
     "6b0c335c53084cda93543448474fea91": {
      "model_module": "@jupyter-widgets/controls",
      "model_module_version": "1.5.0",
      "model_name": "HBoxModel",
      "state": {
       "_dom_classes": [],
       "_model_module": "@jupyter-widgets/controls",
       "_model_module_version": "1.5.0",
       "_model_name": "HBoxModel",
       "_view_count": null,
       "_view_module": "@jupyter-widgets/controls",
       "_view_module_version": "1.5.0",
       "_view_name": "HBoxView",
       "box_style": "",
       "children": [
        "IPY_MODEL_c5142639567341718440e3859d89ccc3",
        "IPY_MODEL_7eda0f833cd0412d8ac5f6c734705466"
       ],
       "layout": "IPY_MODEL_b088cb00c5bb48a7b06228755862d5c7"
      }
     },
     "7eda0f833cd0412d8ac5f6c734705466": {
      "model_module": "@jupyter-widgets/controls",
      "model_module_version": "1.5.0",
      "model_name": "HTMLModel",
      "state": {
       "_dom_classes": [],
       "_model_module": "@jupyter-widgets/controls",
       "_model_module_version": "1.5.0",
       "_model_name": "HTMLModel",
       "_view_count": null,
       "_view_module": "@jupyter-widgets/controls",
       "_view_module_version": "1.5.0",
       "_view_name": "HTMLView",
       "description": "",
       "description_tooltip": null,
       "layout": "IPY_MODEL_314a6431e42a4412ae9f33b768d97cdf",
       "placeholder": "​",
       "style": "IPY_MODEL_4cd6bcc5d8d84c3f9e1f6c7dda7cc43b",
       "value": " 5/? [00:17&lt;00:00,  3.60s/it]"
      }
     },
     "8ac3cc60f12c4e419828b3cf7b72fe7f": {
      "model_module": "@jupyter-widgets/base",
      "model_module_version": "1.2.0",
      "model_name": "LayoutModel",
      "state": {
       "_model_module": "@jupyter-widgets/base",
       "_model_module_version": "1.2.0",
       "_model_name": "LayoutModel",
       "_view_count": null,
       "_view_module": "@jupyter-widgets/base",
       "_view_module_version": "1.2.0",
       "_view_name": "LayoutView",
       "align_content": null,
       "align_items": null,
       "align_self": null,
       "border": null,
       "bottom": null,
       "display": null,
       "flex": null,
       "flex_flow": null,
       "grid_area": null,
       "grid_auto_columns": null,
       "grid_auto_flow": null,
       "grid_auto_rows": null,
       "grid_column": null,
       "grid_gap": null,
       "grid_row": null,
       "grid_template_areas": null,
       "grid_template_columns": null,
       "grid_template_rows": null,
       "height": null,
       "justify_content": null,
       "justify_items": null,
       "left": null,
       "margin": null,
       "max_height": null,
       "max_width": null,
       "min_height": null,
       "min_width": null,
       "object_fit": null,
       "object_position": null,
       "order": null,
       "overflow": null,
       "overflow_x": null,
       "overflow_y": null,
       "padding": null,
       "right": null,
       "top": null,
       "visibility": null,
       "width": null
      }
     },
     "b088cb00c5bb48a7b06228755862d5c7": {
      "model_module": "@jupyter-widgets/base",
      "model_module_version": "1.2.0",
      "model_name": "LayoutModel",
      "state": {
       "_model_module": "@jupyter-widgets/base",
       "_model_module_version": "1.2.0",
       "_model_name": "LayoutModel",
       "_view_count": null,
       "_view_module": "@jupyter-widgets/base",
       "_view_module_version": "1.2.0",
       "_view_name": "LayoutView",
       "align_content": null,
       "align_items": null,
       "align_self": null,
       "border": null,
       "bottom": null,
       "display": null,
       "flex": null,
       "flex_flow": null,
       "grid_area": null,
       "grid_auto_columns": null,
       "grid_auto_flow": null,
       "grid_auto_rows": null,
       "grid_column": null,
       "grid_gap": null,
       "grid_row": null,
       "grid_template_areas": null,
       "grid_template_columns": null,
       "grid_template_rows": null,
       "height": null,
       "justify_content": null,
       "justify_items": null,
       "left": null,
       "margin": null,
       "max_height": null,
       "max_width": null,
       "min_height": null,
       "min_width": null,
       "object_fit": null,
       "object_position": null,
       "order": null,
       "overflow": null,
       "overflow_x": null,
       "overflow_y": null,
       "padding": null,
       "right": null,
       "top": null,
       "visibility": null,
       "width": null
      }
     },
     "bcc1aa7acd9f4ae6b69758631a62caf7": {
      "model_module": "@jupyter-widgets/controls",
      "model_module_version": "1.5.0",
      "model_name": "ProgressStyleModel",
      "state": {
       "_model_module": "@jupyter-widgets/controls",
       "_model_module_version": "1.5.0",
       "_model_name": "ProgressStyleModel",
       "_view_count": null,
       "_view_module": "@jupyter-widgets/base",
       "_view_module_version": "1.2.0",
       "_view_name": "StyleView",
       "bar_color": null,
       "description_width": "initial"
      }
     },
     "c5142639567341718440e3859d89ccc3": {
      "model_module": "@jupyter-widgets/controls",
      "model_module_version": "1.5.0",
      "model_name": "FloatProgressModel",
      "state": {
       "_dom_classes": [],
       "_model_module": "@jupyter-widgets/controls",
       "_model_module_version": "1.5.0",
       "_model_name": "FloatProgressModel",
       "_view_count": null,
       "_view_module": "@jupyter-widgets/controls",
       "_view_module_version": "1.5.0",
       "_view_name": "ProgressView",
       "bar_style": "success",
       "description": "",
       "description_tooltip": null,
       "layout": "IPY_MODEL_8ac3cc60f12c4e419828b3cf7b72fe7f",
       "max": 1.0,
       "min": 0.0,
       "orientation": "horizontal",
       "style": "IPY_MODEL_bcc1aa7acd9f4ae6b69758631a62caf7",
       "value": 1.0
      }
     }
    },
    "version_major": 2,
    "version_minor": 0
   }
  }
 },
 "nbformat": 4,
 "nbformat_minor": 4
}
