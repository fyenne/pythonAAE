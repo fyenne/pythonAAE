{
 "cells": [
  {
   "cell_type": "code",
   "execution_count": 1,
   "metadata": {
    "ExecuteTime": {
     "end_time": "2021-01-17T01:18:34.942846Z",
     "start_time": "2021-01-17T01:06:30.989748Z"
    },
    "collapsed": true
   },
   "outputs": [
    {
     "name": "stdout",
     "output_type": "stream",
     "text": [
      "Collecting package metadata (current_repodata.json): done\n",
      "Solving environment: done\n",
      "\n",
      "## Package Plan ##\n",
      "\n",
      "  environment location: /Users/fyenne/anaconda3\n",
      "\n",
      "  added / updated specs:\n",
      "    - librosa\n",
      "\n",
      "\n",
      "The following packages will be downloaded:\n",
      "\n",
      "    package                    |            build\n",
      "    ---------------------------|-----------------\n",
      "    appdirs-1.4.4              |     pyh9f0ad1d_0          13 KB  conda-forge\n",
      "    audioread-2.1.9            |   py37hf985489_0          32 KB  conda-forge\n",
      "    certifi-2020.12.5          |   py37hf985489_1         143 KB  conda-forge\n",
      "    cycler-0.10.0              |             py_2           9 KB  conda-forge\n",
      "    ffmpeg-4.3.1               |       hb787a4c_2        49.2 MB  conda-forge\n",
      "    gmp-6.2.1                  |       h2e338ed_0         774 KB  conda-forge\n",
      "    gnutls-3.6.13              |       h756fd2b_1         2.0 MB  conda-forge\n",
      "    joblib-1.0.0               |     pyhd8ed1ab_0         206 KB  conda-forge\n",
      "    kiwisolver-1.3.1           |   py37h70f7d40_1          57 KB  conda-forge\n",
      "    lame-3.100                 |    h35c211d_1001         521 KB  conda-forge\n",
      "    libcxx-11.0.0              |       h4c3b8ed_1         1.0 MB  conda-forge\n",
      "    libflac-1.3.3              |       h046ec9c_1         349 KB  conda-forge\n",
      "    libllvm10-10.0.1           |       h009f743_3        20.8 MB  conda-forge\n",
      "    libogg-1.3.4               |       h35c211d_1         202 KB  conda-forge\n",
      "    libopus-1.3.1              |       hc929b4f_1         273 KB  conda-forge\n",
      "    librosa-0.8.0              |     pyh9f0ad1d_0         145 KB  conda-forge\n",
      "    libsndfile-1.0.30          |       h046ec9c_1         527 KB  conda-forge\n",
      "    libvorbis-1.3.7            |       h046ec9c_0         248 KB  conda-forge\n",
      "    llvm-openmp-11.0.1         |       h7c73e74_0         268 KB  conda-forge\n",
      "    llvmlite-0.35.0            |   py37hd32b0aa_1         224 KB  conda-forge\n",
      "    matplotlib-base-3.3.3      |   py37hef07623_0         6.8 MB  conda-forge\n",
      "    nettle-3.6                 |       hedd7734_0         1.2 MB  conda-forge\n",
      "    numba-0.52.0               |   py37h010c265_0         3.5 MB  conda-forge\n",
      "    openh264-2.1.1             |       hfd3ada9_0         1.5 MB  conda-forge\n",
      "    openssl-1.1.1i             |       h35c211d_0         1.9 MB  conda-forge\n",
      "    pooch-1.3.0                |     pyhd8ed1ab_0          40 KB  conda-forge\n",
      "    pysoundfile-0.10.3.post1   |     pyhd3deb0d_0          23 KB  conda-forge\n",
      "    resampy-0.2.2              |             py_0         332 KB  conda-forge\n",
      "    scikit-learn-0.23.2        |   py37h959d312_0         4.7 MB\n",
      "    threadpoolctl-2.1.0        |     pyh5ca1d4c_0          15 KB  conda-forge\n",
      "    x264-1!161.3030            |       h35c211d_0         2.6 MB  conda-forge\n",
      "    ------------------------------------------------------------\n",
      "                                           Total:        99.3 MB\n",
      "\n",
      "The following NEW packages will be INSTALLED:\n",
      "\n",
      "  appdirs            conda-forge/noarch::appdirs-1.4.4-pyh9f0ad1d_0\n",
      "  audioread          conda-forge/osx-64::audioread-2.1.9-py37hf985489_0\n",
      "  cycler             conda-forge/noarch::cycler-0.10.0-py_2\n",
      "  ffmpeg             conda-forge/osx-64::ffmpeg-4.3.1-hb787a4c_2\n",
      "  gmp                conda-forge/osx-64::gmp-6.2.1-h2e338ed_0\n",
      "  gnutls             conda-forge/osx-64::gnutls-3.6.13-h756fd2b_1\n",
      "  joblib             conda-forge/noarch::joblib-1.0.0-pyhd8ed1ab_0\n",
      "  kiwisolver         conda-forge/osx-64::kiwisolver-1.3.1-py37h70f7d40_1\n",
      "  lame               conda-forge/osx-64::lame-3.100-h35c211d_1001\n",
      "  libflac            conda-forge/osx-64::libflac-1.3.3-h046ec9c_1\n",
      "  libllvm10          conda-forge/osx-64::libllvm10-10.0.1-h009f743_3\n",
      "  libogg             conda-forge/osx-64::libogg-1.3.4-h35c211d_1\n",
      "  libopus            conda-forge/osx-64::libopus-1.3.1-hc929b4f_1\n",
      "  librosa            conda-forge/noarch::librosa-0.8.0-pyh9f0ad1d_0\n",
      "  libsndfile         conda-forge/osx-64::libsndfile-1.0.30-h046ec9c_1\n",
      "  libvorbis          conda-forge/osx-64::libvorbis-1.3.7-h046ec9c_0\n",
      "  llvm-openmp        conda-forge/osx-64::llvm-openmp-11.0.1-h7c73e74_0\n",
      "  llvmlite           conda-forge/osx-64::llvmlite-0.35.0-py37hd32b0aa_1\n",
      "  matplotlib-base    conda-forge/osx-64::matplotlib-base-3.3.3-py37hef07623_0\n",
      "  nettle             conda-forge/osx-64::nettle-3.6-hedd7734_0\n",
      "  numba              conda-forge/osx-64::numba-0.52.0-py37h010c265_0\n",
      "  openh264           conda-forge/osx-64::openh264-2.1.1-hfd3ada9_0\n",
      "  pooch              conda-forge/noarch::pooch-1.3.0-pyhd8ed1ab_0\n",
      "  pysoundfile        conda-forge/noarch::pysoundfile-0.10.3.post1-pyhd3deb0d_0\n",
      "  resampy            conda-forge/noarch::resampy-0.2.2-py_0\n",
      "  scikit-learn       pkgs/main/osx-64::scikit-learn-0.23.2-py37h959d312_0\n",
      "  threadpoolctl      conda-forge/noarch::threadpoolctl-2.1.0-pyh5ca1d4c_0\n",
      "  x264               conda-forge/osx-64::x264-1!161.3030-h35c211d_0\n",
      "\n",
      "The following packages will be UPDATED:\n",
      "\n",
      "  certifi            pkgs/main::certifi-2020.12.5-py37hecd~ --> conda-forge::certifi-2020.12.5-py37hf985489_1\n",
      "  libcxx                         pkgs/main::libcxx-10.0.0-1 --> conda-forge::libcxx-11.0.0-h4c3b8ed_1\n",
      "\n",
      "The following packages will be SUPERSEDED by a higher-priority channel:\n",
      "\n",
      "  ca-certificates    pkgs/main::ca-certificates-2020.12.8-~ --> conda-forge::ca-certificates-2020.12.5-h033912b_0\n",
      "  conda               pkgs/main::conda-4.9.2-py37hecd8cb5_0 --> conda-forge::conda-4.9.2-py37hf985489_0\n",
      "  openssl              pkgs/main::openssl-1.1.1i-h9ed2024_0 --> conda-forge::openssl-1.1.1i-h35c211d_0\n",
      "\n",
      "\n",
      "\n",
      "Downloading and Extracting Packages\n",
      "openssl-1.1.1i       | 1.9 MB    | ##################################### | 100% \n",
      "lame-3.100           | 521 KB    | ##################################### | 100% \n",
      "openh264-2.1.1       | 1.5 MB    | ##################################### | 100% \n",
      "matplotlib-base-3.3. | 6.8 MB    | ##################################### | 100% \n",
      "libsndfile-1.0.30    | 527 KB    | ##################################### | 100% \n",
      "gnutls-3.6.13        | 2.0 MB    | ##################################### | 100% \n",
      "threadpoolctl-2.1.0  | 15 KB     | ##################################### | 100% \n",
      "cycler-0.10.0        | 9 KB      | ##################################### | 100% \n",
      "libflac-1.3.3        | 349 KB    | ##################################### | 100% \n",
      "pysoundfile-0.10.3.p | 23 KB     | ##################################### | 100% \n",
      "llvm-openmp-11.0.1   | 268 KB    | ##################################### | 100% \n",
      "appdirs-1.4.4        | 13 KB     | ##################################### | 100% \n",
      "libvorbis-1.3.7      | 248 KB    | ##################################### | 100% \n",
      "nettle-3.6           | 1.2 MB    | ##################################### | 100% \n",
      "libcxx-11.0.0        | 1.0 MB    | ##################################### | 100% \n",
      "audioread-2.1.9      | 32 KB     | ##################################### | 100% \n",
      "certifi-2020.12.5    | 143 KB    | ##################################### | 100% \n",
      "libllvm10-10.0.1     | 20.8 MB   | ##################################### | 100% \n",
      "x264-1!161.3030      | 2.6 MB    | ##################################### | 100% \n",
      "gmp-6.2.1            | 774 KB    | ##################################### | 100% \n",
      "kiwisolver-1.3.1     | 57 KB     | ##################################### | 100% \n",
      "resampy-0.2.2        | 332 KB    | ##################################### | 100% \n",
      "pooch-1.3.0          | 40 KB     | ##################################### | 100% \n",
      "ffmpeg-4.3.1         | 49.2 MB   | ##################################### | 100% \n",
      "llvmlite-0.35.0      | 224 KB    | ##################################### | 100% \n",
      "librosa-0.8.0        | 145 KB    | ##################################### | 100% \n",
      "libogg-1.3.4         | 202 KB    | ##################################### | 100% \n",
      "joblib-1.0.0         | 206 KB    | ##################################### | 100% \n",
      "libopus-1.3.1        | 273 KB    | ##################################### | 100% \n",
      "numba-0.52.0         | 3.5 MB    | ##################################### | 100% \n",
      "scikit-learn-0.23.2  | 4.7 MB    | ##################################### | 100% \n",
      "Preparing transaction: done\n",
      "Verifying transaction: done\n",
      "Executing transaction: done\n",
      "\n",
      "Note: you may need to restart the kernel to use updated packages.\n"
     ]
    }
   ],
   "source": [
    "conda install -c conda-forge librosa"
   ]
  },
  {
   "cell_type": "code",
   "execution_count": 1,
   "metadata": {
    "ExecuteTime": {
     "end_time": "2021-01-17T01:18:50.712051Z",
     "start_time": "2021-01-17T01:18:50.695662Z"
    }
   },
   "outputs": [
    {
     "data": {
      "text/plain": [
       "2"
      ]
     },
     "execution_count": 1,
     "metadata": {},
     "output_type": "execute_result"
    }
   ],
   "source": [
    "1+1"
   ]
  },
  {
   "cell_type": "code",
   "execution_count": null,
   "metadata": {},
   "outputs": [],
   "source": []
  }
 ],
 "metadata": {
  "kernelspec": {
   "display_name": "Python 3",
   "language": "python",
   "name": "python3"
  },
  "language_info": {
   "codemirror_mode": {
    "name": "ipython",
    "version": 3
   },
   "file_extension": ".py",
   "mimetype": "text/x-python",
   "name": "python",
   "nbconvert_exporter": "python",
   "pygments_lexer": "ipython3",
   "version": "3.7.9"
  },
  "latex_envs": {
   "LaTeX_envs_menu_present": true,
   "autoclose": false,
   "autocomplete": true,
   "bibliofile": "biblio.bib",
   "cite_by": "apalike",
   "current_citInitial": 1,
   "eqLabelWithNumbers": true,
   "eqNumInitial": 1,
   "hotkeys": {
    "equation": "Ctrl-E",
    "itemize": "Ctrl-I"
   },
   "labels_anchors": false,
   "latex_user_defs": false,
   "report_style_numbering": false,
   "user_envs_cfg": false
  },
  "toc": {
   "base_numbering": 1,
   "nav_menu": {},
   "number_sections": true,
   "sideBar": true,
   "skip_h1_title": false,
   "title_cell": "Table of Contents",
   "title_sidebar": "Contents",
   "toc_cell": false,
   "toc_position": {},
   "toc_section_display": true,
   "toc_window_display": false
  },
  "varInspector": {
   "cols": {
    "lenName": 16,
    "lenType": 16,
    "lenVar": 40
   },
   "kernels_config": {
    "python": {
     "delete_cmd_postfix": "",
     "delete_cmd_prefix": "del ",
     "library": "var_list.py",
     "varRefreshCmd": "print(var_dic_list())"
    },
    "r": {
     "delete_cmd_postfix": ") ",
     "delete_cmd_prefix": "rm(",
     "library": "var_list.r",
     "varRefreshCmd": "cat(var_dic_list()) "
    }
   },
   "types_to_exclude": [
    "module",
    "function",
    "builtin_function_or_method",
    "instance",
    "_Feature"
   ],
   "window_display": false
  }
 },
 "nbformat": 4,
 "nbformat_minor": 4
}
