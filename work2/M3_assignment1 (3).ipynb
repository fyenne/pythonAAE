{
 "cells": [
  {
   "cell_type": "markdown",
   "metadata": {
    "deletable": false,
    "editable": false,
    "nbgrader": {
     "cell_type": "markdown",
     "checksum": "45bec0ffd2a2ecf3ad9208db389fc4fa",
     "grade": false,
     "grade_id": "cell-2a50f51ad0241f94",
     "locked": true,
     "schema_version": 3,
     "solution": false,
     "task": false
    }
   },
   "source": [
    "# Homework Assignment 1: Introduction to Python\n",
    "\n",
    "## What is Jupyter Notebook?\n",
    "\n",
    "The Jupyter Notebook integrates code and its output into a single document that combines visualizations, narrative text, mathematical equations and other rich media. In other words: it's a single document where you can run code, display the output, and also add explanations, formulas, charts, and make your work more transparent, understandable, repeatable and shareable. \n",
    "\n",
    "Although it is possible to use many different programming languages in Jupyter Notebooks, in this course we will focus on Python.\n",
    "\n",
    "## The Notebook Interface?\n",
    "\n",
    "Notebooks have code cells (that are generally followed by result cells) and text cells. The text cells are the stuff that you're reading now. The code cells start with `In []:` with some number generally in brackets. If you put your cursor in the code cell and hit `Ctrl + Enter`, the code will run in the Python interpreter and the result will print out in the output cell. \n",
    "\n",
    "# 1. Basics\n",
    "\n",
    "## Using Python as a Calculator\n",
    "\n",
    "Many of the things you used to use a calculator for, you can now use Python for. By hitting `Ctrl + Enter` you can run the code inside the code cells to generate the output. "
   ]
  },
  {
   "cell_type": "code",
   "execution_count": null,
   "metadata": {},
   "outputs": [],
   "source": [
    "2+2"
   ]
  },
  {
   "cell_type": "code",
   "execution_count": null,
   "metadata": {},
   "outputs": [],
   "source": [
    "(50 - 5*6)/4"
   ]
  },
  {
   "cell_type": "code",
   "execution_count": null,
   "metadata": {},
   "outputs": [],
   "source": [
    "7/3"
   ]
  },
  {
   "cell_type": "markdown",
   "metadata": {
    "deletable": false,
    "editable": false,
    "nbgrader": {
     "cell_type": "markdown",
     "checksum": "9aa74997bdc073054ee79ae9e571fdf1",
     "grade": false,
     "grade_id": "cell-a94c49b1108860c7",
     "locked": true,
     "schema_version": 3,
     "solution": false,
     "task": false
    }
   },
   "source": [
    "Calculating a number raised to some power requires the `**` operation:"
   ]
  },
  {
   "cell_type": "code",
   "execution_count": null,
   "metadata": {},
   "outputs": [],
   "source": [
    "2**10"
   ]
  },
  {
   "cell_type": "markdown",
   "metadata": {
    "deletable": false,
    "editable": false,
    "nbgrader": {
     "cell_type": "markdown",
     "checksum": "d6955b526395b5fcfbdc9e05599ceb45",
     "grade": false,
     "grade_id": "cell-9687df18741a6439",
     "locked": true,
     "schema_version": 3,
     "solution": false,
     "task": false
    }
   },
   "source": [
    "**Exercise 1:** Calculate $\\frac{2 \\cdot (3-1)^4}{\\sqrt{25}}$ "
   ]
  },
  {
   "cell_type": "code",
   "execution_count": null,
   "metadata": {},
   "outputs": [],
   "source": []
  },
  {
   "cell_type": "markdown",
   "metadata": {
    "deletable": false,
    "editable": false,
    "nbgrader": {
     "cell_type": "markdown",
     "checksum": "4c3f6ceb6d3988f74d534931ceeda235",
     "grade": false,
     "grade_id": "cell-6f3beb7b7d928e27",
     "locked": true,
     "schema_version": 3,
     "solution": false,
     "task": false
    }
   },
   "source": [
    "Python has a huge number of libraries included with its distribution. To keep things simple, most of their variables and functions are not accessible from a normal Python interactive session. Instead, you have to import the name of the library. For example, there is a __math__ module containing many useful functions. To access, say, the square root function, you can either:"
   ]
  },
  {
   "cell_type": "code",
   "execution_count": null,
   "metadata": {},
   "outputs": [],
   "source": [
    "from math import sqrt\n",
    "sqrt(81)"
   ]
  },
  {
   "cell_type": "markdown",
   "metadata": {
    "deletable": false,
    "editable": false,
    "nbgrader": {
     "cell_type": "markdown",
     "checksum": "1d3861195e61140f4ca9b69c2708a272",
     "grade": false,
     "grade_id": "cell-9ce3807f23ca65c9",
     "locked": true,
     "schema_version": 3,
     "solution": false,
     "task": false
    }
   },
   "source": [
    "or you can simply import the entire math library itself"
   ]
  },
  {
   "cell_type": "code",
   "execution_count": null,
   "metadata": {},
   "outputs": [],
   "source": [
    "import math\n",
    "math.sqrt(81)"
   ]
  },
  {
   "cell_type": "markdown",
   "metadata": {
    "deletable": false,
    "editable": false,
    "nbgrader": {
     "cell_type": "markdown",
     "checksum": "abb4fdd238279df848a3e5b7f69a35e1",
     "grade": false,
     "grade_id": "cell-942fabece5b4508c",
     "locked": true,
     "schema_version": 3,
     "solution": false,
     "task": false
    }
   },
   "source": [
    "You can define variables using the equals `=` sign:"
   ]
  },
  {
   "cell_type": "code",
   "execution_count": null,
   "metadata": {},
   "outputs": [],
   "source": [
    "# Anything after a `#` will be ignored. This is what we call a 'comment'. \n",
    "width = 20 # Assigning a value to the variable width\n",
    "length = 30 # Assigning a value to the variable length\n",
    "area = length*width # Assigning the product of width and length to the variable area\n",
    "area"
   ]
  },
  {
   "cell_type": "markdown",
   "metadata": {
    "deletable": false,
    "editable": false,
    "nbgrader": {
     "cell_type": "markdown",
     "checksum": "d81eb2e89b66c764b4cae50830796440",
     "grade": false,
     "grade_id": "cell-1cc1fd65b6469eff",
     "locked": true,
     "schema_version": 3,
     "solution": false,
     "task": false
    }
   },
   "source": [
    "If you try to access a variable that you haven't yet defined, you get a name error:"
   ]
  },
  {
   "cell_type": "code",
   "execution_count": null,
   "metadata": {},
   "outputs": [],
   "source": [
    "volume"
   ]
  },
  {
   "cell_type": "markdown",
   "metadata": {
    "deletable": false,
    "editable": false,
    "nbgrader": {
     "cell_type": "markdown",
     "checksum": "9639344b8ab39b3f36da1069c801983c",
     "grade": false,
     "grade_id": "cell-9282d08beb9f268b",
     "locked": true,
     "schema_version": 3,
     "solution": false,
     "task": false
    }
   },
   "source": [
    "and you need to define it:"
   ]
  },
  {
   "cell_type": "code",
   "execution_count": null,
   "metadata": {},
   "outputs": [],
   "source": [
    "height = 10\n",
    "volume = area * height\n",
    "volume"
   ]
  },
  {
   "cell_type": "markdown",
   "metadata": {
    "deletable": false,
    "editable": false,
    "nbgrader": {
     "cell_type": "markdown",
     "checksum": "a897dddff7a1202be3c55e41aaa680ae",
     "grade": false,
     "grade_id": "cell-7e20fb9f933cf90b",
     "locked": true,
     "schema_version": 3,
     "solution": false,
     "task": false
    }
   },
   "source": [
    "You can name a variable *almost* anything you want. It needs to start with an alphabetical character or an underscore `_`, and can contain alphanumeric characters plus underscores. Certain words, however, are reserved for the Python language:\n",
    "\n",
    "    and, as, assert, break, class, continue, def, del, elif, else, except,\n",
    "    exec, finally, for, from, global, if, import, in, is, lambda, not or,\n",
    "    pass, print, raise, return, try, while, with, yield\n",
    "\n",
    "Trying to define a variable using one of these will result in a syntax error:"
   ]
  },
  {
   "cell_type": "code",
   "execution_count": null,
   "metadata": {},
   "outputs": [],
   "source": [
    "return = 0"
   ]
  },
  {
   "cell_type": "markdown",
   "metadata": {
    "deletable": false,
    "editable": false,
    "nbgrader": {
     "cell_type": "markdown",
     "checksum": "8853b635a0bd19295db35ddc6417ba52",
     "grade": false,
     "grade_id": "cell-15a41e550c9a37c5",
     "locked": true,
     "schema_version": 3,
     "solution": false,
     "task": false
    }
   },
   "source": [
    "## Problem 1: Libraries and Defining Variables (1 point)\n",
    "\n",
    "Use the **math** module to define a variable `a` which equals $e^2$ and define a variable `b` which equals $\\sin(\\pi/6)$. Write your solution in the code cell below by replacing everything (the parts that say `# YOUR CODE HERE` and `raise NotImplementedError()`) with the correct solution. You can check your work by running the cell below it and comparing it to the expected output.\n",
    "\n",
    "N.B. Since we are dealing with approximations when doing numerical calculations, we have to deal with a bit of rounding. Observe that $\\sin(\\pi/6)$ isn't exactly equal to $1/2$ when you use higher precision. "
   ]
  },
  {
   "cell_type": "code",
   "execution_count": null,
   "metadata": {
    "deletable": false,
    "nbgrader": {
     "cell_type": "code",
     "checksum": "4a24e4c0ffbc5b1f7aeb2156426226de",
     "grade": false,
     "grade_id": "cell-4ec7fe6ddc17970c",
     "locked": false,
     "schema_version": 3,
     "solution": true,
     "task": false
    }
   },
   "outputs": [],
   "source": [
    "# YOUR CODE HERE\n",
    "raise NotImplementedError()"
   ]
  },
  {
   "cell_type": "code",
   "execution_count": null,
   "metadata": {
    "deletable": false,
    "editable": false,
    "nbgrader": {
     "cell_type": "code",
     "checksum": "1866f511a93491e5d77909790be9388a",
     "grade": false,
     "grade_id": "cell-20549b13b8f6b49a",
     "locked": true,
     "schema_version": 3,
     "solution": false,
     "task": false
    }
   },
   "outputs": [],
   "source": [
    "# Test case\n",
    "print(\"a is approximately %.15f \\nb is approximately %.15f\" % (a, b))"
   ]
  },
  {
   "cell_type": "markdown",
   "metadata": {
    "deletable": false,
    "editable": false,
    "nbgrader": {
     "cell_type": "markdown",
     "checksum": "a2654085b6cb1f321820d7379d8ed160",
     "grade": false,
     "grade_id": "cell-b6e11613d4cc9f5f",
     "locked": true,
     "schema_version": 3,
     "solution": false,
     "task": false
    }
   },
   "source": [
    "Expected output:\n",
    "\n",
    "    a is approximately 7.389056098930650  \n",
    "    b is approximately 0.500000000000000"
   ]
  },
  {
   "cell_type": "markdown",
   "metadata": {
    "deletable": false,
    "editable": false,
    "nbgrader": {
     "cell_type": "markdown",
     "checksum": "08d6885a1090fb42f4b4e467ba543eed",
     "grade": false,
     "grade_id": "cell-68eac451fdf0d35b",
     "locked": true,
     "schema_version": 3,
     "solution": false,
     "task": false
    }
   },
   "source": [
    "The cell below is used to autograde your solution. If you run it and it doesn't generate any AssertionError, it means your code passed all the tests to check if your solution is correct. You don't have to understand this code. Sometimes certain tests will be included to catch common mistakes or workarounds to an intended solution (i.e. by hardcoding the expected output. Check what happens if you copy the numbers from the expected output to your solution). "
   ]
  },
  {
   "cell_type": "code",
   "execution_count": null,
   "metadata": {
    "deletable": false,
    "editable": false,
    "nbgrader": {
     "cell_type": "code",
     "checksum": "b9c10e646e1288da80faaa600ee7379c",
     "grade": true,
     "grade_id": "cell-03390717b2996f45",
     "locked": true,
     "points": 1,
     "schema_version": 3,
     "solution": false,
     "task": false
    }
   },
   "outputs": [],
   "source": [
    "# AUTOGRADING\n",
    "import hashlib\n",
    "\n",
    "def _hash(s):\n",
    "    return hashlib.blake2b(bytes(s, encoding='utf8'), digest_size=5).hexdigest()\n",
    "\n",
    "assert _hash(str(a)) != '22cd62b4d4', 'Did you try to hardcode your answer? Tsk, tsk, tsk.'\n",
    "assert _hash(str(b)) != 'a1a91a050a', 'Did you try to hardcode your answer? Tsk, tsk, tsk.'\n",
    "assert _hash(str(a)) == '4dff9b1771', 'Wrong value for a'\n",
    "assert _hash(str(b)) == '6015c6d6e9', 'Wrong value for b'\n",
    "\n",
    "### HIDDEN TESTS\n",
    "\n",
    "### HIDDEN TESTS"
   ]
  },
  {
   "cell_type": "markdown",
   "metadata": {
    "deletable": false,
    "editable": false,
    "nbgrader": {
     "cell_type": "markdown",
     "checksum": "9b762882f6acb5c10eb74b9731e38589",
     "grade": false,
     "grade_id": "cell-ea2bea580d9a2c9a",
     "locked": true,
     "schema_version": 3,
     "solution": false,
     "task": false
    }
   },
   "source": [
    "# 2. Built-in types\n",
    "\n",
    "Everything in Python is an object. Each object is of a certain type. Here's a list of Python types you will often use:\n",
    "* integer number (int)\n",
    "* decimal number (float)\n",
    "* boolean (bool)\n",
    "* string of characters (str)\n",
    "* list of objects (list)\n",
    "* tuple of objects (tuple)\n",
    "* dictionary (dict)\n",
    "* set of objects (set)\n",
    "* function (function)\n",
    "\n",
    "The function `type` gives the type of object in its argument."
   ]
  },
  {
   "cell_type": "code",
   "execution_count": null,
   "metadata": {},
   "outputs": [],
   "source": [
    "a = 10\n",
    "type(a)"
   ]
  },
  {
   "cell_type": "code",
   "execution_count": null,
   "metadata": {},
   "outputs": [],
   "source": [
    "b = 10.0\n",
    "type(b)"
   ]
  },
  {
   "cell_type": "markdown",
   "metadata": {
    "deletable": false,
    "editable": false,
    "nbgrader": {
     "cell_type": "markdown",
     "checksum": "3864a0795dea200f7d2257d224b0f124",
     "grade": false,
     "grade_id": "cell-fdb31c3a5ed25e02",
     "locked": true,
     "schema_version": 3,
     "solution": false,
     "task": false
    }
   },
   "source": [
    "## Strings\n",
    "\n",
    "Strings are lists of printable characters, and can be defined using either single quotes"
   ]
  },
  {
   "cell_type": "code",
   "execution_count": null,
   "metadata": {},
   "outputs": [],
   "source": [
    "'Hello, World!'"
   ]
  },
  {
   "cell_type": "markdown",
   "metadata": {
    "deletable": false,
    "editable": false,
    "nbgrader": {
     "cell_type": "markdown",
     "checksum": "1ef30d1cde5bd1bdc34a6efe2691aa05",
     "grade": false,
     "grade_id": "cell-bef47dad5ad60210",
     "locked": true,
     "schema_version": 3,
     "solution": false,
     "task": false
    }
   },
   "source": [
    "or double quotes"
   ]
  },
  {
   "cell_type": "code",
   "execution_count": null,
   "metadata": {},
   "outputs": [],
   "source": [
    "\"Hello, World!\""
   ]
  },
  {
   "cell_type": "markdown",
   "metadata": {
    "deletable": false,
    "editable": false,
    "nbgrader": {
     "cell_type": "markdown",
     "checksum": "d78dc51f41dcfd41d12bfd54d6dab97c",
     "grade": false,
     "grade_id": "cell-095c3692b8f69a0c",
     "locked": true,
     "schema_version": 3,
     "solution": false,
     "task": false
    }
   },
   "source": [
    "The **print** statement is often used for printing character strings or other data types. "
   ]
  },
  {
   "cell_type": "code",
   "execution_count": null,
   "metadata": {},
   "outputs": [],
   "source": [
    "greeting = \"Hello, World!\"\n",
    "introduction = \"Welcome to this introduction to Python!\"\n",
    "print(greeting)\n",
    "print(\"The area is\", area)"
   ]
  },
  {
   "cell_type": "markdown",
   "metadata": {
    "deletable": false,
    "editable": false,
    "nbgrader": {
     "cell_type": "markdown",
     "checksum": "67c1b540a84f4d1ada66bbdd91a8bc40",
     "grade": false,
     "grade_id": "cell-d1cf3fb2a63f830e",
     "locked": true,
     "schema_version": 3,
     "solution": false,
     "task": false
    }
   },
   "source": [
    "In the above snippet, the integer 600 (stored in the variable `area`) is converted into a string before being printed out. \n",
    "\n",
    "**Exercise 2:** Use the `+` operator to concatenate the strings strings `greeting` and `introduction` together to form a combined string."
   ]
  },
  {
   "cell_type": "code",
   "execution_count": null,
   "metadata": {},
   "outputs": [],
   "source": []
  },
  {
   "cell_type": "markdown",
   "metadata": {
    "deletable": false,
    "editable": false,
    "nbgrader": {
     "cell_type": "markdown",
     "checksum": "ccc411c14579aad8fecc4bdc17ae8a1a",
     "grade": false,
     "grade_id": "cell-e0b35da3e8adcce0",
     "locked": true,
     "schema_version": 3,
     "solution": false,
     "task": false
    }
   },
   "source": [
    "**Exercise 3:** The resulting string is missing a space in between the words 'World' and 'Welcome'. Correct this by inserting a third string into the sum."
   ]
  },
  {
   "cell_type": "code",
   "execution_count": null,
   "metadata": {},
   "outputs": [],
   "source": []
  },
  {
   "cell_type": "markdown",
   "metadata": {
    "deletable": false,
    "editable": false,
    "nbgrader": {
     "cell_type": "markdown",
     "checksum": "8a4d878d118250dbed0c812008eb422c",
     "grade": false,
     "grade_id": "cell-59b295f03bd2403b",
     "locked": true,
     "schema_version": 3,
     "solution": false,
     "task": false
    }
   },
   "source": [
    "**Exercise 4:** Use the built-in function `str` to turn the integer 8471 into a string. Call the resulting object `d`."
   ]
  },
  {
   "cell_type": "code",
   "execution_count": null,
   "metadata": {},
   "outputs": [],
   "source": []
  },
  {
   "cell_type": "markdown",
   "metadata": {
    "deletable": false,
    "editable": false,
    "nbgrader": {
     "cell_type": "markdown",
     "checksum": "cbe177f4f6fd6a88aebcf1c80997d755",
     "grade": false,
     "grade_id": "cell-67b4f7a26baa9dea",
     "locked": true,
     "schema_version": 3,
     "solution": false,
     "task": false
    }
   },
   "source": [
    "To include formatting to your print statements, you can use methods that should be familiar to you from R:"
   ]
  },
  {
   "cell_type": "code",
   "execution_count": null,
   "metadata": {},
   "outputs": [],
   "source": [
    "print(\"pi is approximately %.8f \\nEuler's constant e is approximately %.2f\" % (math.pi, math.e))"
   ]
  },
  {
   "cell_type": "markdown",
   "metadata": {
    "deletable": false,
    "editable": false,
    "nbgrader": {
     "cell_type": "markdown",
     "checksum": "de65e73d86819bc9d3e66cd9f627e511",
     "grade": false,
     "grade_id": "cell-5c447433d4af2a1c",
     "locked": true,
     "schema_version": 3,
     "solution": false,
     "task": false
    }
   },
   "source": [
    "Note that in the previous command, we didn't have to import the `math` library again; importing it once per session will suffice. \n",
    "\n",
    "Python has a set of built-in functions and methods that you can use to manipulate strings. The terms built-in function and method refer to two different things. Methods are associated with the object of a particular type they belong to. Typically methods are used in the form `object.method(arguments)`, see examples below. Built-in functions on the other hand can be invoked just by its name and are usually applicable to any object type, see for instance `len`. \n",
    "\n",
    "We mention a couple of them, you figure out what they do. "
   ]
  },
  {
   "cell_type": "code",
   "execution_count": null,
   "metadata": {},
   "outputs": [],
   "source": [
    "statement = \"Hello, World! Welcome to this introduction to Python!\"\n",
    "print(statement)\n",
    "print(len(statement)) \n",
    "print(statement.lower())\n",
    "print(statement.replace(\"!\", \".\"))\n",
    "print(statement.count(\"o\"))"
   ]
  },
  {
   "cell_type": "markdown",
   "metadata": {
    "deletable": false,
    "editable": false,
    "nbgrader": {
     "cell_type": "markdown",
     "checksum": "5f5673303156e6df22fb144640cda63d",
     "grade": false,
     "grade_id": "cell-548e818179ab629d",
     "locked": true,
     "schema_version": 3,
     "solution": false,
     "task": false
    }
   },
   "source": [
    "**Exercise 5:** Apply a single method to `statement` to transform all lowercase letters to uppercase letters, and vice versa. (Hint: Type `statement.<Tab>` and find an appropriate method). "
   ]
  },
  {
   "cell_type": "code",
   "execution_count": null,
   "metadata": {},
   "outputs": [],
   "source": []
  },
  {
   "cell_type": "markdown",
   "metadata": {
    "deletable": false,
    "editable": false,
    "nbgrader": {
     "cell_type": "markdown",
     "checksum": "5bfa0af488707ffac9997c5d8c0aa625",
     "grade": false,
     "grade_id": "cell-5fc9c74058c8b2bd",
     "locked": true,
     "schema_version": 3,
     "solution": false,
     "task": false
    }
   },
   "source": [
    "## Lists\n",
    "\n",
    "Very often in a programming language, one wants to keep a group of similar items together. Python does this using a data type called **lists** which are constructed using square brackets `[ ]` or the built-in `list` function. "
   ]
  },
  {
   "cell_type": "code",
   "execution_count": null,
   "metadata": {},
   "outputs": [],
   "source": [
    "days_of_the_week = [\"Monday\", \"Tuesday\", \"Wednesday\", \"Thursday\", \"Friday\", \"Saturday\", \"Sunday\"]\n",
    "prime_numbers = [2, 3, 5, 9, 11, 13, 17, 19, 23, 29]"
   ]
  },
  {
   "cell_type": "markdown",
   "metadata": {
    "deletable": false,
    "editable": false,
    "nbgrader": {
     "cell_type": "markdown",
     "checksum": "593a743addf95f4dab2447db53f7c2cd",
     "grade": false,
     "grade_id": "cell-e0d8f57efd4ca0d1",
     "locked": true,
     "schema_version": 3,
     "solution": false,
     "task": false
    }
   },
   "source": [
    "**Exercise 6:** Use the `append` method to attach the integer 31 to the end of `prime_numbers`. Print the result. "
   ]
  },
  {
   "cell_type": "code",
   "execution_count": null,
   "metadata": {},
   "outputs": [],
   "source": []
  },
  {
   "cell_type": "markdown",
   "metadata": {
    "deletable": false,
    "editable": false,
    "nbgrader": {
     "cell_type": "markdown",
     "checksum": "5368b23c3a1d5b46ae02f082f3576db3",
     "grade": false,
     "grade_id": "cell-8c8d62e1a4c41951",
     "locked": true,
     "schema_version": 3,
     "solution": false,
     "task": false
    }
   },
   "source": [
    "You can access members of the list using the **index** of that item. One can also use these to re-define objects within a list."
   ]
  },
  {
   "cell_type": "code",
   "execution_count": null,
   "metadata": {},
   "outputs": [],
   "source": [
    "days_of_the_week[2]"
   ]
  },
  {
   "cell_type": "code",
   "execution_count": null,
   "metadata": {},
   "outputs": [],
   "source": [
    "prime_numbers[3] = 7\n",
    "prime_numbers"
   ]
  },
  {
   "cell_type": "markdown",
   "metadata": {
    "deletable": false,
    "editable": false,
    "nbgrader": {
     "cell_type": "markdown",
     "checksum": "bed0337b0e4ac4329feda4d02e23f616",
     "grade": false,
     "grade_id": "cell-62411892ed51557e",
     "locked": true,
     "schema_version": 3,
     "solution": false,
     "task": false
    }
   },
   "source": [
    "Python lists (unlike R lists) use 0 as the index of the first element of a list. Thus, in this example, the 0 element of days_of_the_week is \"Monday\", 1 is \"Tuesday\", and so on. If you need to access the $n$th element from the end of your list, you can use a negative index. For example, the -1 element of a list is the last element:"
   ]
  },
  {
   "cell_type": "code",
   "execution_count": null,
   "metadata": {},
   "outputs": [],
   "source": [
    "days_of_the_week[-1]"
   ]
  },
  {
   "cell_type": "markdown",
   "metadata": {
    "deletable": false,
    "editable": false,
    "nbgrader": {
     "cell_type": "markdown",
     "checksum": "2541ddd865cff54f20a09f3290df6077",
     "grade": false,
     "grade_id": "cell-57a6a897ac8d3350",
     "locked": true,
     "schema_version": 3,
     "solution": false,
     "task": false
    }
   },
   "source": [
    "The `range()` command is a convenient way to make sequential lists of numbers:"
   ]
  },
  {
   "cell_type": "code",
   "execution_count": null,
   "metadata": {},
   "outputs": [],
   "source": [
    "list(range(10))"
   ]
  },
  {
   "cell_type": "markdown",
   "metadata": {
    "deletable": false,
    "editable": false,
    "nbgrader": {
     "cell_type": "markdown",
     "checksum": "9e7e5fe83bf5f62e9f2b8334e23061f5",
     "grade": false,
     "grade_id": "cell-4b3efa71fdb644fd",
     "locked": true,
     "schema_version": 3,
     "solution": false,
     "task": false
    }
   },
   "source": [
    "Note that `range(n)` starts at 0 and gives the sequential list of integers strictly less than $n$. If you want to start at a different number, use `range(start, stop)`. "
   ]
  },
  {
   "cell_type": "code",
   "execution_count": null,
   "metadata": {},
   "outputs": [],
   "source": [
    "list(range(2,8))"
   ]
  },
  {
   "cell_type": "markdown",
   "metadata": {
    "deletable": false,
    "editable": false,
    "nbgrader": {
     "cell_type": "markdown",
     "checksum": "ebee83c9995d021f7494e9098fb02bdf",
     "grade": false,
     "grade_id": "cell-f7b998ecefd06a93",
     "locked": true,
     "schema_version": 3,
     "solution": false,
     "task": false
    }
   },
   "source": [
    "The lists created above with range() have a *stepsize* of 1 between elements. You can also give a fixed step size via a third argument:"
   ]
  },
  {
   "cell_type": "code",
   "execution_count": null,
   "metadata": {},
   "outputs": [],
   "source": [
    "even = list(range(2, 20, 2))\n",
    "print(even)\n",
    "print(\"The fourth smallest positive even number is\", even[3])"
   ]
  },
  {
   "cell_type": "markdown",
   "metadata": {
    "deletable": false,
    "editable": false,
    "nbgrader": {
     "cell_type": "markdown",
     "checksum": "f2ccad35bd873ed053d784fc00cb178a",
     "grade": false,
     "grade_id": "cell-aa9b6736915dbbad",
     "locked": true,
     "schema_version": 3,
     "solution": false,
     "task": false
    }
   },
   "source": [
    "**Exercise 7:** Use `+` to concatenate `days_of_the_week` and `prime_numbers`, and print the result. "
   ]
  },
  {
   "cell_type": "code",
   "execution_count": null,
   "metadata": {},
   "outputs": [],
   "source": []
  },
  {
   "cell_type": "markdown",
   "metadata": {
    "deletable": false,
    "editable": false,
    "nbgrader": {
     "cell_type": "markdown",
     "checksum": "9cdee7d7c39f38c70c40cda7d7e058f5",
     "grade": false,
     "grade_id": "cell-e31dd08fd8b6c8a8",
     "locked": true,
     "schema_version": 3,
     "solution": false,
     "task": false
    }
   },
   "source": [
    "**Exercise 8:** Use the function `len` to count the number of elements in `prime_numbers`. "
   ]
  },
  {
   "cell_type": "code",
   "execution_count": null,
   "metadata": {},
   "outputs": [],
   "source": []
  },
  {
   "cell_type": "markdown",
   "metadata": {
    "deletable": false,
    "editable": false,
    "nbgrader": {
     "cell_type": "markdown",
     "checksum": "9445caa5bde42695debb2f5964906fa4",
     "grade": false,
     "grade_id": "cell-1387efd7bbcef952",
     "locked": true,
     "schema_version": 3,
     "solution": false,
     "task": false
    }
   },
   "source": [
    "We can split a string into a list where each word is a list item using any whitespace as separator (note that it doesn't take punctuation into account):"
   ]
  },
  {
   "cell_type": "code",
   "execution_count": null,
   "metadata": {},
   "outputs": [],
   "source": [
    "statement = \"Hello, World! Welcome to this introduction to Python!\"\n",
    "x = statement.split(\" \")\n",
    "x"
   ]
  },
  {
   "cell_type": "markdown",
   "metadata": {
    "deletable": false,
    "editable": false,
    "nbgrader": {
     "cell_type": "markdown",
     "checksum": "54e71f96e54fe3e02e366e8b9741eb42",
     "grade": false,
     "grade_id": "cell-e396047b78142218",
     "locked": true,
     "schema_version": 3,
     "solution": false,
     "task": false
    }
   },
   "source": [
    "**Exercise 9:** Use the method `sort` to sort `days_of_the_week` alphabetically, and print the result."
   ]
  },
  {
   "cell_type": "code",
   "execution_count": null,
   "metadata": {},
   "outputs": [],
   "source": []
  },
  {
   "cell_type": "markdown",
   "metadata": {
    "deletable": false,
    "editable": false,
    "nbgrader": {
     "cell_type": "markdown",
     "checksum": "670295e892bc621e9ac6fd7e13e35722",
     "grade": false,
     "grade_id": "cell-638ddd3b222b368d",
     "locked": true,
     "schema_version": 3,
     "solution": false,
     "task": false
    }
   },
   "source": [
    "## Tuples\n",
    "\n",
    "Like a list, a tuple is an ordered sequence of Python objects. Crucially, unlike a list, a tuple is an immutable object. This means that once the tuple is defined, its length and its objects cannot be changed anymore.\n",
    "\n",
    "One can define a tuple using commas only. Parentheses `()` are optional."
   ]
  },
  {
   "cell_type": "code",
   "execution_count": null,
   "metadata": {},
   "outputs": [],
   "source": [
    "tuple1 = (1, 2, ['tree','house',9.9] , 4, 'king')\n",
    "tuple2 = ('queen', 'door', 'leaf')"
   ]
  },
  {
   "cell_type": "markdown",
   "metadata": {
    "deletable": false,
    "editable": false,
    "nbgrader": {
     "cell_type": "markdown",
     "checksum": "be7534faab571c0e4cca13eac39b12ac",
     "grade": false,
     "grade_id": "cell-7e23144ee9e2da00",
     "locked": true,
     "schema_version": 3,
     "solution": false,
     "task": false
    }
   },
   "source": [
    "**Exercise 10:** Use the command `tuple` to create a tuple out of the string `greeting` defined earlier."
   ]
  },
  {
   "cell_type": "code",
   "execution_count": null,
   "metadata": {},
   "outputs": [],
   "source": []
  },
  {
   "cell_type": "markdown",
   "metadata": {
    "deletable": false,
    "editable": false,
    "nbgrader": {
     "cell_type": "markdown",
     "checksum": "b3ac79b9f7021fcd4fafe0cfc30e7ba5",
     "grade": false,
     "grade_id": "cell-11ffd953a4c86c16",
     "locked": true,
     "schema_version": 3,
     "solution": false,
     "task": false
    }
   },
   "source": [
    "**Exercise 11:** Try to append the integer 6 to `tuple1`, like you did earlier for lists. You will encounter an error, because tuples are immutable. "
   ]
  },
  {
   "cell_type": "code",
   "execution_count": null,
   "metadata": {},
   "outputs": [],
   "source": []
  },
  {
   "cell_type": "markdown",
   "metadata": {
    "deletable": false,
    "editable": false,
    "nbgrader": {
     "cell_type": "markdown",
     "checksum": "dd5fc504139bd5581ada6a24d8465704",
     "grade": false,
     "grade_id": "cell-66efa05aa07ec12b",
     "locked": true,
     "schema_version": 3,
     "solution": false,
     "task": false
    }
   },
   "source": [
    "## Dictionaries\n",
    "\n",
    "With a dictionary, you can connect a value to another value to represent the relationship between them in your code. This is similar to a regular dictionary, which connects words with their description. In this example, the dictionary connects a number name (string) with their value (integer). \n",
    "\n",
    "You can define a dictionary by enclosing a comma-separated list of key-value pairs in curly braces `{ }`. A colon `:` separates each key from its associated value:"
   ]
  },
  {
   "cell_type": "code",
   "execution_count": null,
   "metadata": {},
   "outputs": [],
   "source": [
    "numNames = {\"One\": 1,\n",
    "            \"Two\": 2, \n",
    "            \"Three\": 3}"
   ]
  },
  {
   "cell_type": "markdown",
   "metadata": {
    "deletable": false,
    "editable": false,
    "nbgrader": {
     "cell_type": "markdown",
     "checksum": "f53448c2dc3af87f9a53c834c2aefaca",
     "grade": false,
     "grade_id": "cell-4086b5530335497c",
     "locked": true,
     "schema_version": 3,
     "solution": false,
     "task": false
    }
   },
   "source": [
    "**Keys** are the equivalent of indices in lists to access a value. The **values** are what you can access with their corresponding key.\n",
    "\n",
    "A value is retrieved from a dictionary by specifying its corersponding key in square brackets `[ ]` instead of the index number. If you refer to a key that is not in the dictionary, Python raises an exception:"
   ]
  },
  {
   "cell_type": "code",
   "execution_count": null,
   "metadata": {},
   "outputs": [],
   "source": [
    "print(numNames[\"One\"])\n",
    "print(numNames[\"Four\"])"
   ]
  },
  {
   "cell_type": "markdown",
   "metadata": {
    "deletable": false,
    "editable": false,
    "nbgrader": {
     "cell_type": "markdown",
     "checksum": "6131bb727d70efd3722925b0f0abe22a",
     "grade": false,
     "grade_id": "cell-50edc23dcbb8ed41",
     "locked": true,
     "schema_version": 3,
     "solution": false,
     "task": false
    }
   },
   "source": [
    "Adding an entry to an existing dictionary is simply a matter of assigning a new key van value:"
   ]
  },
  {
   "cell_type": "code",
   "execution_count": null,
   "metadata": {},
   "outputs": [],
   "source": [
    "numNames[\"Four\"] = 4\n",
    "numNames"
   ]
  },
  {
   "cell_type": "markdown",
   "metadata": {
    "deletable": false,
    "editable": false,
    "nbgrader": {
     "cell_type": "markdown",
     "checksum": "8bf71e19db06ff987cb1f4e7d912b3b8",
     "grade": false,
     "grade_id": "cell-2ea81e55e84153e9",
     "locked": true,
     "schema_version": 3,
     "solution": false,
     "task": false
    }
   },
   "source": [
    "Similar to adding a new key-value pair, we can can just as easily modify a key-value pair."
   ]
  },
  {
   "cell_type": "code",
   "execution_count": null,
   "metadata": {},
   "outputs": [],
   "source": [
    "numNames[\"One\"] = 10\n",
    "numNames"
   ]
  },
  {
   "cell_type": "markdown",
   "metadata": {
    "deletable": false,
    "editable": false,
    "nbgrader": {
     "cell_type": "markdown",
     "checksum": "b1dbdc4ea3a13fef4ec404d1aa78aa77",
     "grade": false,
     "grade_id": "cell-e58f86e38bd0e09b",
     "locked": true,
     "schema_version": 3,
     "solution": false,
     "task": false
    }
   },
   "source": [
    "Sometimes it can be very helpful to check if a key alrady exists in a dictionary (remember that keys have to be unique). To check whether a single key is in the dictionary, use the `in` keyword. "
   ]
  },
  {
   "cell_type": "code",
   "execution_count": null,
   "metadata": {},
   "outputs": [],
   "source": [
    "print(\"Two\" in numNames)\n",
    "print(\"Five\" in numNames)"
   ]
  },
  {
   "cell_type": "markdown",
   "metadata": {
    "deletable": false,
    "editable": false,
    "nbgrader": {
     "cell_type": "markdown",
     "checksum": "e4d19bab244ee544bde5deb7fd793739",
     "grade": false,
     "grade_id": "cell-14b81032cef55594",
     "locked": true,
     "schema_version": 3,
     "solution": false,
     "task": false
    }
   },
   "source": [
    "This `in` operator checks the keys, not the values. You can use the `in` operator to check if a value is in a dictionary with `<dict>.values()`: "
   ]
  },
  {
   "cell_type": "code",
   "execution_count": null,
   "metadata": {},
   "outputs": [],
   "source": [
    "print(3 in numNames.values())\n",
    "print(7 in numNames.values())"
   ]
  },
  {
   "cell_type": "markdown",
   "metadata": {
    "deletable": false,
    "editable": false,
    "nbgrader": {
     "cell_type": "markdown",
     "checksum": "a66e4f96826832c27acf5db7eee8e96b",
     "grade": false,
     "grade_id": "cell-9ebbb7dafcde0ae8",
     "locked": true,
     "schema_version": 3,
     "solution": false,
     "task": false
    }
   },
   "source": [
    "**Exercise 12:** Create a dictionary `id` that with key-value pairs `\"Name\" : <Your name>`, `\"Age\" : <Your age>`,  `\"Nationality\" : <Your nationality>`."
   ]
  },
  {
   "cell_type": "code",
   "execution_count": null,
   "metadata": {},
   "outputs": [],
   "source": []
  },
  {
   "cell_type": "markdown",
   "metadata": {
    "deletable": false,
    "editable": false,
    "nbgrader": {
     "cell_type": "markdown",
     "checksum": "b522635df52ead904a477b7abe74d8e6",
     "grade": false,
     "grade_id": "cell-3271c7fae251d56c",
     "locked": true,
     "schema_version": 3,
     "solution": false,
     "task": false
    }
   },
   "source": [
    "# 3. Control flow\n",
    "\n",
    "Control flow statements are an essential part of Python. In this section we introduce to most important ones.\n",
    "\n",
    "## `for`-loops\n",
    "One of the most useful things to do with lists is to iterate through them, i.e. to go through each element one at a time. To do this in Python, we use the `for` statement:"
   ]
  },
  {
   "cell_type": "code",
   "execution_count": null,
   "metadata": {},
   "outputs": [],
   "source": [
    "days_of_the_week = [\"Monday\", \"Tuesday\", \"Wednesday\", \"Thursday\", \"Friday\", \"Saturday\", \"Sunday\"]\n",
    "\n",
    "for day in days_of_the_week:\n",
    "    print(day)"
   ]
  },
  {
   "cell_type": "markdown",
   "metadata": {
    "deletable": false,
    "editable": false,
    "nbgrader": {
     "cell_type": "markdown",
     "checksum": "4fd48c818883c5d72c00db6b260b1776",
     "grade": false,
     "grade_id": "cell-ffd0506cba16bee8",
     "locked": true,
     "schema_version": 3,
     "solution": false,
     "task": false
    }
   },
   "source": [
    "This code snippet goes through each element of the list called `days_of_the_week` and assigns it to the variable `day`. It then executes everything in the indented block (in this case only one line of code, the print statement) using those variable assignments. When the program has gone through every element of the list, it exits the block. \n",
    "\n",
    "In R we would have used curly brackets `{}` to define these blocks. Python uses a colon `:`, followed by an indentation to define code blocks. Everything at a higher level of indentation is taken to be in the same block. In the above example the block was only a single line, but we could have had longer blocks as well:"
   ]
  },
  {
   "cell_type": "code",
   "execution_count": null,
   "metadata": {},
   "outputs": [],
   "source": [
    "for day in days_of_the_week:\n",
    "    statement = \"Today is \" + day + \".\"\n",
    "    print(statement)"
   ]
  },
  {
   "cell_type": "markdown",
   "metadata": {
    "deletable": false,
    "editable": false,
    "nbgrader": {
     "cell_type": "markdown",
     "checksum": "7e39dd6f4e20a7b997c5eb8ce6c6d58e",
     "grade": false,
     "grade_id": "cell-87c4c9e276ae5c30",
     "locked": true,
     "schema_version": 3,
     "solution": false,
     "task": false
    }
   },
   "source": [
    "The `range()` command is particularly useful in combination with the `for` statement to execute loops of a specified length. We also included some formatting for numbers. "
   ]
  },
  {
   "cell_type": "code",
   "execution_count": null,
   "metadata": {},
   "outputs": [],
   "source": [
    "squares =[] # Creating an empty list, which will be filled in the for loop.\n",
    "\n",
    "for i in range(20):\n",
    "    squares.append(i**2)\n",
    "    print(\"The square of %2.d is %3.d\" % (i, i**2))\n",
    "\n",
    "print(squares)"
   ]
  },
  {
   "cell_type": "markdown",
   "metadata": {
    "deletable": false,
    "editable": false,
    "nbgrader": {
     "cell_type": "markdown",
     "checksum": "2a9a42b15c3f79523cda4ee7a83196e3",
     "grade": false,
     "grade_id": "cell-01701c36dc47369e",
     "locked": true,
     "schema_version": 3,
     "solution": false,
     "task": false
    }
   },
   "source": [
    "You can iterate over dictionaries using a for loop. There are various approaches to do this and they are all equally relevent. The principal option is to iterate over the keys as follows:"
   ]
  },
  {
   "cell_type": "code",
   "execution_count": null,
   "metadata": {},
   "outputs": [],
   "source": [
    "for name in numNames:\n",
    "    print(\"%s is the name for %d.\" % (name, numNames[name]))"
   ]
  },
  {
   "cell_type": "markdown",
   "metadata": {},
   "source": [
    "## Problem 2: Strings, Lists, Loops and Dictionaries (2 points)\n",
    "\n",
    "Given is a dictionary `names` of names whose values are a list that contains the person's height and weight. **Use a `for` loop** to construct a new dictionary `first_names` whose keys are the first names of the people in `names` and their values are their height (as an integer, not as a list). Again: replace the lines that say `# YOUR CODE HERE` and `raise NotImplementedError()` with your solution. "
   ]
  },
  {
   "cell_type": "code",
   "execution_count": null,
   "metadata": {
    "deletable": false,
    "nbgrader": {
     "cell_type": "code",
     "checksum": "5d693b334209974579eb41e1d83b04eb",
     "grade": false,
     "grade_id": "cell-011c902150590f8c",
     "locked": false,
     "schema_version": 3,
     "solution": true,
     "task": false
    }
   },
   "outputs": [],
   "source": [
    "names = {\"Cierra Vega\": [189, 74],\n",
    "         \"Alden Cantrell\": [180, 65], \n",
    "         \"Kierra Gentry\": [158, 59], \n",
    "         \"Pierre Cox\": [176, 73],  \n",
    "         \"Natasha Howard\": [169, 62], \n",
    "         \"Austin Little\": [178, 81], \n",
    "         \"Jamie Rowe\": [192, 79]}\n",
    "\n",
    "first_names = {}\n",
    "\n",
    "# YOUR CODE HERE\n",
    "raise NotImplementedError()"
   ]
  },
  {
   "cell_type": "code",
   "execution_count": null,
   "metadata": {
    "deletable": false,
    "editable": false,
    "nbgrader": {
     "cell_type": "code",
     "checksum": "24399a5c85b6ee626123fc646cf5131d",
     "grade": false,
     "grade_id": "cell-75cc67d7157280d8",
     "locked": true,
     "schema_version": 3,
     "solution": false,
     "task": false
    }
   },
   "outputs": [],
   "source": [
    "# Test case\n",
    "print(first_names)"
   ]
  },
  {
   "cell_type": "markdown",
   "metadata": {
    "deletable": false,
    "editable": false,
    "nbgrader": {
     "cell_type": "markdown",
     "checksum": "b428ae162690a5a2ebdf582230943b5f",
     "grade": false,
     "grade_id": "cell-f85ee52b104f374c",
     "locked": true,
     "schema_version": 3,
     "solution": false,
     "task": false
    }
   },
   "source": [
    "Expected output:\n",
    "\n",
    "    {'Cierra': 189, 'Alden': 180, 'Kierra': 158, 'Pierre': 176, 'Natasha': 169, 'Austin': 178, 'Jamie': 192}"
   ]
  },
  {
   "cell_type": "code",
   "execution_count": null,
   "metadata": {
    "deletable": false,
    "editable": false,
    "nbgrader": {
     "cell_type": "code",
     "checksum": "8e6d48bd39a7745a86c33b5de23a5786",
     "grade": true,
     "grade_id": "cell-62bceb0aaf0b6469",
     "locked": true,
     "points": 2,
     "schema_version": 3,
     "solution": false,
     "task": false
    }
   },
   "outputs": [],
   "source": [
    "### AUTOGRADER\n",
    "assert set(first_names.keys()) == {\"Cierra\", \"Alden\", \"Kierra\", \"Pierre\", \n",
    "                                    \"Natasha\", \"Austin\", \"Jamie\"}\n",
    "assert set(first_names.values()) ==  {189, 180, 158, 176, 169, 178, 192}\n",
    "assert first_names[\"Cierra\"] == 189"
   ]
  },
  {
   "cell_type": "markdown",
   "metadata": {
    "deletable": false,
    "editable": false,
    "nbgrader": {
     "cell_type": "markdown",
     "checksum": "b4a0ad7dde8f8cd8dd273143b349c3f1",
     "grade": false,
     "grade_id": "cell-930a64f34ffcb211",
     "locked": true,
     "schema_version": 3,
     "solution": false,
     "task": false
    }
   },
   "source": [
    "## Booleans and Truth Testing\n",
    "\n",
    "We invariably need some concept of *condition* in programming to control branching behaviour to allow a program to react differently to different situations. If it's Monday, I'll go to work. But if it's Sunday, I'll sleep in. To do this in Python, we use a combination of **boolean** variables, which evaluate to either `True` of `False`, and `if` statements that control branching based on boolean values."
   ]
  },
  {
   "cell_type": "code",
   "execution_count": null,
   "metadata": {},
   "outputs": [],
   "source": [
    "day = \"Sunday\"\n",
    "\n",
    "if day == \"Sunday\":\n",
    "    print(\"Sleep in.\")\n",
    "else:\n",
    "    print(\"Go to work.\")"
   ]
  },
  {
   "cell_type": "markdown",
   "metadata": {
    "deletable": false,
    "editable": false,
    "nbgrader": {
     "cell_type": "markdown",
     "checksum": "311ec3a9ed5ac22efc1d2710fe99906d",
     "grade": false,
     "grade_id": "cell-c99e714a645b29b3",
     "locked": true,
     "schema_version": 3,
     "solution": false,
     "task": false
    }
   },
   "source": [
    "To explain what happened, first note the statement `day == \"Sunday\"` evaluates to True, since the last time we assigned a value to the variable day, was when we looped through all days of the way a little back. "
   ]
  },
  {
   "cell_type": "code",
   "execution_count": null,
   "metadata": {},
   "outputs": [],
   "source": [
    "day == \"Sunday\""
   ]
  },
  {
   "cell_type": "markdown",
   "metadata": {
    "deletable": false,
    "editable": false,
    "nbgrader": {
     "cell_type": "markdown",
     "checksum": "52aa12a9d2dee38ab56e128c5ebc7edd",
     "grade": false,
     "grade_id": "cell-ed73b301a1c84234",
     "locked": true,
     "schema_version": 3,
     "solution": false,
     "task": false
    }
   },
   "source": [
    "If we evaluate it by itself, we see that it returns a boolean value *True*. The `==` operator performs *equality testing*. If the two items are equal, it returns True, otherwise it returns False. Be aware of the difference between a single equality `=` that is used in assigning variables, and a double equality `==` which is used to test whether two variables are equal. \n",
    "\n",
    "The first block of code is followed by an `else` statement, which is executed if nothing else in the above statement is true. Since the value was True, this code was not executed. \n",
    "\n",
    "You can compare any data type in Python:"
   ]
  },
  {
   "cell_type": "code",
   "execution_count": null,
   "metadata": {},
   "outputs": [],
   "source": [
    "1 == 2"
   ]
  },
  {
   "cell_type": "code",
   "execution_count": null,
   "metadata": {},
   "outputs": [],
   "source": [
    "50 == 2*25"
   ]
  },
  {
   "cell_type": "code",
   "execution_count": null,
   "metadata": {},
   "outputs": [],
   "source": [
    "3 < math.pi"
   ]
  },
  {
   "cell_type": "code",
   "execution_count": null,
   "metadata": {},
   "outputs": [],
   "source": [
    "1 == 1.0"
   ]
  },
  {
   "cell_type": "code",
   "execution_count": null,
   "metadata": {},
   "outputs": [],
   "source": [
    "1 != 0"
   ]
  },
  {
   "cell_type": "code",
   "execution_count": null,
   "metadata": {},
   "outputs": [],
   "source": [
    "1 <= 2"
   ]
  },
  {
   "cell_type": "code",
   "execution_count": null,
   "metadata": {},
   "outputs": [],
   "source": [
    "1 >= 1"
   ]
  },
  {
   "cell_type": "markdown",
   "metadata": {
    "deletable": false,
    "editable": false,
    "nbgrader": {
     "cell_type": "markdown",
     "checksum": "7e61ab555cffa2417da7ca8ea5e8b8eb",
     "grade": false,
     "grade_id": "cell-c14c831500314b75",
     "locked": true,
     "schema_version": 3,
     "solution": false,
     "task": false
    }
   },
   "source": [
    "Finally, note that you can also string multiple comparisons together, which can result in very intuitive tests:"
   ]
  },
  {
   "cell_type": "code",
   "execution_count": null,
   "metadata": {},
   "outputs": [],
   "source": [
    "hours = 5\n",
    "0 < hours < 24"
   ]
  },
  {
   "cell_type": "markdown",
   "metadata": {
    "deletable": false,
    "editable": false,
    "nbgrader": {
     "cell_type": "markdown",
     "checksum": "e658f205f18f0058aff4a8990bf2831f",
     "grade": false,
     "grade_id": "cell-259dedcbd78c9d12",
     "locked": true,
     "schema_version": 3,
     "solution": false,
     "task": false
    }
   },
   "source": [
    "This would be equivalent to"
   ]
  },
  {
   "cell_type": "code",
   "execution_count": null,
   "metadata": {},
   "outputs": [],
   "source": [
    "hours = 5\n",
    "(hours > 0) and (hours < 24)"
   ]
  },
  {
   "cell_type": "markdown",
   "metadata": {
    "deletable": false,
    "editable": false,
    "nbgrader": {
     "cell_type": "markdown",
     "checksum": "75a1dca2e28ca39f5b698eeab1bd4aca",
     "grade": false,
     "grade_id": "cell-171f66de98f9e567",
     "locked": true,
     "schema_version": 3,
     "solution": false,
     "task": false
    }
   },
   "source": [
    "If statements can have `elif` parts (\"else if\"), in addition to if/else parts. For example:"
   ]
  },
  {
   "cell_type": "code",
   "execution_count": null,
   "metadata": {},
   "outputs": [],
   "source": [
    "if day == \"Sunday\":\n",
    "    print(\"Sleep in.\")\n",
    "elif day == \"Saterday\":\n",
    "    print(\"Do chores.\")\n",
    "else:\n",
    "    print(\"Go to work.\")"
   ]
  },
  {
   "cell_type": "markdown",
   "metadata": {
    "deletable": false,
    "editable": false,
    "nbgrader": {
     "cell_type": "markdown",
     "checksum": "6cec6b606250e2639fa32ac862be9347",
     "grade": false,
     "grade_id": "cell-798009fdf6f60054",
     "locked": true,
     "schema_version": 3,
     "solution": false,
     "task": false
    }
   },
   "source": [
    "Of course we can combine if statements with for loops, to make a snippet that is almost interesting:"
   ]
  },
  {
   "cell_type": "code",
   "execution_count": null,
   "metadata": {},
   "outputs": [],
   "source": [
    "for day in days_of_the_week:\n",
    "    statement = \"Today is \" + day + \".\"\n",
    "    print(statement)\n",
    "    if day == \"Sunday\":\n",
    "        print(\"   Sleep in.\")\n",
    "    elif day == \"Saterday\":\n",
    "        print(\"   Do chores.\")\n",
    "    else:\n",
    "        print(\"   Go to work.\")"
   ]
  },
  {
   "cell_type": "markdown",
   "metadata": {
    "deletable": false,
    "editable": false,
    "nbgrader": {
     "cell_type": "markdown",
     "checksum": "483582020e004b4ae7008c34dd88753b",
     "grade": false,
     "grade_id": "cell-f787ecf708cff23c",
     "locked": true,
     "schema_version": 3,
     "solution": false,
     "task": false
    }
   },
   "source": [
    "# 4. Functions\n",
    "\n",
    "Similar to variables, Python allows for user-defined functions that can be easily reused. In this course we will rely heavily on user-defined functions. \n",
    "\n",
    "User-defined functions are declared using the `def` keyword. The output of a function is declared by the `return` statement."
   ]
  },
  {
   "cell_type": "code",
   "execution_count": null,
   "metadata": {},
   "outputs": [],
   "source": [
    "def proportion(a, b):\n",
    "    \"\"\"\n",
    "    We can use triple quotation marks \" to describe what our function does.\n",
    "    \n",
    "    Here for example: Calculate the proportion of a of a+b.\n",
    "    \"\"\"\n",
    "    p = a / (a + b)\n",
    "    return(p)"
   ]
  },
  {
   "cell_type": "markdown",
   "metadata": {
    "deletable": false,
    "editable": false,
    "nbgrader": {
     "cell_type": "markdown",
     "checksum": "7ed7392578272526dc47abfc853d5c53",
     "grade": false,
     "grade_id": "cell-39472a59f4d436c3",
     "locked": true,
     "schema_version": 3,
     "solution": false,
     "task": false
    }
   },
   "source": [
    "We can call our function by passing it input values:"
   ]
  },
  {
   "cell_type": "code",
   "execution_count": null,
   "metadata": {},
   "outputs": [],
   "source": [
    "proportion(20, 21)"
   ]
  },
  {
   "cell_type": "code",
   "execution_count": null,
   "metadata": {},
   "outputs": [],
   "source": [
    "proportion(3, 1)"
   ]
  },
  {
   "cell_type": "markdown",
   "metadata": {
    "deletable": false,
    "editable": false,
    "nbgrader": {
     "cell_type": "markdown",
     "checksum": "f28648fc06e255a4e3942a3ae3e0c21e",
     "grade": false,
     "grade_id": "cell-5bb5db8181eeed70",
     "locked": true,
     "schema_version": 3,
     "solution": false,
     "task": false
    }
   },
   "source": [
    "We can read our description of the function by typing"
   ]
  },
  {
   "cell_type": "code",
   "execution_count": null,
   "metadata": {},
   "outputs": [],
   "source": [
    "proportion?"
   ]
  },
  {
   "cell_type": "markdown",
   "metadata": {
    "deletable": false,
    "editable": false,
    "nbgrader": {
     "cell_type": "markdown",
     "checksum": "db575da9f0527b9dc97477b41c7022aa",
     "grade": false,
     "grade_id": "cell-a96c382030121147",
     "locked": true,
     "schema_version": 3,
     "solution": false,
     "task": false
    }
   },
   "source": [
    "A function can also have multiple output arguments. They are returned as a tuple."
   ]
  },
  {
   "cell_type": "code",
   "execution_count": null,
   "metadata": {},
   "outputs": [],
   "source": [
    "def plusminus(a, b):\n",
    "    \"\"\"This is the docstring of the function plusminus.\"\"\"\n",
    "    return(a+b, a-b)\n",
    "\n",
    "c, d = plusminus(1, 2)\n",
    "\n",
    "c, d"
   ]
  },
  {
   "cell_type": "markdown",
   "metadata": {
    "deletable": false,
    "editable": false,
    "nbgrader": {
     "cell_type": "markdown",
     "checksum": "c9b4e8a92e8bc5b72b3af2405b25c0e7",
     "grade": false,
     "grade_id": "cell-5dedc4af6a391338",
     "locked": true,
     "schema_version": 3,
     "solution": false,
     "task": false
    }
   },
   "source": [
    "A function can have multiple `return` statements. As soon as a `return` statement is encountered, the function is exited. If no `return` statement is encountered, the function output is `None`."
   ]
  },
  {
   "cell_type": "code",
   "execution_count": null,
   "metadata": {},
   "outputs": [],
   "source": [
    "def signtest(a):\n",
    "    if a > 0:\n",
    "        return 'Positive'\n",
    "    if a < 0:\n",
    "        return 'Negative'\n",
    "    \n",
    "print(signtest(-1.2))\n",
    "\n",
    "print(signtest(0)) # Function output is None, since no return statement is encountered."
   ]
  },
  {
   "cell_type": "markdown",
   "metadata": {
    "deletable": false,
    "editable": false,
    "nbgrader": {
     "cell_type": "markdown",
     "checksum": "b9828093f064ec9af4bf80d273a9de1f",
     "grade": false,
     "grade_id": "cell-1e864db16759b775",
     "locked": true,
     "schema_version": 3,
     "solution": false,
     "task": false
    }
   },
   "source": [
    "Instead of positional arguments, we can also pass keyword arguments (using the `=` sign). For keyword arguments, the order does not matter. But positional arguments always need to precede keyword argument. "
   ]
  },
  {
   "cell_type": "code",
   "execution_count": null,
   "metadata": {},
   "outputs": [],
   "source": [
    "proportion(b=2, a=3) # For keyword arguments the order does not matter."
   ]
  },
  {
   "cell_type": "markdown",
   "metadata": {
    "deletable": false,
    "editable": false,
    "nbgrader": {
     "cell_type": "markdown",
     "checksum": "87481cb10abab7a9a099e979f6e04ea0",
     "grade": false,
     "grade_id": "cell-767a8c60a9e5b88b",
     "locked": true,
     "schema_version": 3,
     "solution": false,
     "task": false
    }
   },
   "source": [
    "It often happens that keyword arguments are used in the definition of a function. In that case they are used to specify default values for an argument."
   ]
  },
  {
   "cell_type": "code",
   "execution_count": null,
   "metadata": {},
   "outputs": [],
   "source": [
    "def mypower(x, y=2):  # Positional (nonkeyword) arguments always precede keyword arguments.\n",
    "    return x**y \n",
    "\n",
    "print(mypower(3))\n",
    "print(mypower(3, 2))\n",
    "print(mypower(3, y=2))\n",
    "print(mypower(y=2, x=3))"
   ]
  },
  {
   "cell_type": "markdown",
   "metadata": {
    "deletable": false,
    "editable": false,
    "nbgrader": {
     "cell_type": "markdown",
     "checksum": "f03b0c0848e20b5686da639f35f1cae9",
     "grade": false,
     "grade_id": "cell-b42f0a59605d2813",
     "locked": true,
     "schema_version": 3,
     "solution": false,
     "task": false
    }
   },
   "source": [
    "As a last example we will create a function to calculate the sum of the first $n$ integers\n",
    "$$\\sum_{k=1}^{n} k$$"
   ]
  },
  {
   "cell_type": "code",
   "execution_count": null,
   "metadata": {},
   "outputs": [],
   "source": [
    "def arithmetic_sum(n):\n",
    "    total = 0\n",
    "    for k in range(1, n+1):\n",
    "        total = total + k\n",
    "    return(total)\n",
    "\n",
    "print(arithmetic_sum(9))"
   ]
  },
  {
   "cell_type": "markdown",
   "metadata": {
    "deletable": false,
    "editable": false,
    "nbgrader": {
     "cell_type": "markdown",
     "checksum": "59e77c65034e1564212a7ffe94be10ad",
     "grade": false,
     "grade_id": "cell-001e73bcab617f43",
     "locked": true,
     "schema_version": 3,
     "solution": false,
     "task": false
    }
   },
   "source": [
    "Note that we are using `range(1, n+1)` to get a list of numbers from $1$ (inclusive) to $n+1$ (exclusive). \n",
    "\n",
    "\n",
    "From other courses, we recognize this is the arithmetic series that satisfies the simple closed form expression\n",
    "$$\\sum_{k=1}^{n} k = \\frac{n(n+1)}{2}.$$\n",
    "Let us verify this for some fixed value."
   ]
  },
  {
   "cell_type": "code",
   "execution_count": null,
   "metadata": {},
   "outputs": [],
   "source": [
    "n = 9\n",
    "expected_sum = n * (n+1) / 2\n",
    "total = arithmetic_sum(n)\n",
    "total == expected_sum"
   ]
  },
  {
   "cell_type": "markdown",
   "metadata": {
    "deletable": false,
    "editable": false,
    "nbgrader": {
     "cell_type": "markdown",
     "checksum": "84b38ae1f5e690c4649207d0c26b0ddc",
     "grade": false,
     "grade_id": "cell-dd75bdef12f9014a",
     "locked": true,
     "schema_version": 3,
     "solution": false,
     "task": false
    }
   },
   "source": [
    "There is a final shortcut in the form of the `sum` function. We combine this with a nice way to create lists by means of *list comprehensions*:"
   ]
  },
  {
   "cell_type": "code",
   "execution_count": null,
   "metadata": {},
   "outputs": [],
   "source": [
    "n = 9\n",
    "first_n_integers = [i for i in range(1, n+1)]\n",
    "sum(first_n_integers)"
   ]
  },
  {
   "cell_type": "markdown",
   "metadata": {
    "deletable": false,
    "editable": false,
    "nbgrader": {
     "cell_type": "markdown",
     "checksum": "3d2765a38e5d039c215e44ad88f878ec",
     "grade": false,
     "grade_id": "cell-3c26c927f1636908",
     "locked": true,
     "schema_version": 3,
     "solution": false,
     "task": false
    }
   },
   "source": [
    "## Problem 3: Factorial (2 points)\n",
    "\n",
    "Write a function called `factorial` that computes for a positive integer $n$ the product of the first $n$ positive integers\n",
    "$$n! = n(n-1)(n-2)\\cdot \\dots \\cdot 1.$$\n",
    "For example, `factorial(5)` should return 120. You can check your function with the code in the cell below. Feel free to also include your own test cases in case you need to debug your solution. Again: replace the lines that say `# YOUR CODE HERE` and `raise NotImplementedError()` with your solution. "
   ]
  },
  {
   "cell_type": "code",
   "execution_count": null,
   "metadata": {
    "deletable": false,
    "nbgrader": {
     "cell_type": "code",
     "checksum": "7b52207b0372d0ef09212b9b03790724",
     "grade": false,
     "grade_id": "cell-6282f920b310fc3b",
     "locked": false,
     "schema_version": 3,
     "solution": true,
     "task": false
    }
   },
   "outputs": [],
   "source": [
    "def factorial(n):\n",
    "    \"\"\"\n",
    "    Return n!. \n",
    "    Do not use a built-in factorial function. \n",
    "    \"\"\"\n",
    "    # YOUR CODE HERE\n",
    "    raise NotImplementedError()"
   ]
  },
  {
   "cell_type": "code",
   "execution_count": null,
   "metadata": {},
   "outputs": [],
   "source": [
    "# You can use this code cell to play around with your function to make sure\n",
    "# it does what it is intended to do, i.e. to debug your code. \n"
   ]
  },
  {
   "cell_type": "code",
   "execution_count": null,
   "metadata": {
    "deletable": false,
    "editable": false,
    "nbgrader": {
     "cell_type": "code",
     "checksum": "cd58f9db878b2add03f26bd1035d205b",
     "grade": false,
     "grade_id": "cell-156155859e08528d",
     "locked": true,
     "schema_version": 3,
     "solution": false,
     "task": false
    }
   },
   "outputs": [],
   "source": [
    "# Test cases\n",
    "print(\"1! = %d\" % factorial(1))\n",
    "print(\"5! = %d\" % factorial(5))\n",
    "print(\"20! = %d\" % factorial(20))"
   ]
  },
  {
   "cell_type": "markdown",
   "metadata": {
    "deletable": false,
    "editable": false,
    "nbgrader": {
     "cell_type": "markdown",
     "checksum": "92e0eca971d43f68585d4f3f849a456d",
     "grade": false,
     "grade_id": "cell-775364ec2972adac",
     "locked": true,
     "schema_version": 3,
     "solution": false,
     "task": false
    }
   },
   "source": [
    "Expected output:\n",
    "    \n",
    "    1! = 1\n",
    "    5! = 120\n",
    "    20! = 2432902008176640000"
   ]
  },
  {
   "cell_type": "code",
   "execution_count": null,
   "metadata": {
    "deletable": false,
    "editable": false,
    "nbgrader": {
     "cell_type": "code",
     "checksum": "f5ac0fc4f27ecbda1021555e9a53e392",
     "grade": true,
     "grade_id": "cell-c2424895b55d70d3",
     "locked": true,
     "points": 2,
     "schema_version": 3,
     "solution": false,
     "task": false
    }
   },
   "outputs": [],
   "source": [
    "# AUTOGRADING\n",
    "import inspect\n",
    "sig = inspect.signature(factorial)\n",
    "source = inspect.getsource(factorial)\n",
    "\n",
    "assert \"return\" in source, \"Please return to your answer. Return... get it?\"\n",
    "assert \"math.factorial\" not in source, \"Did you try to use a built-in function?\"\n",
    "assert \"120\" not in source, \"Did you try to hard code the answer? Tsk, tsk tsk.\"\n",
    "\n",
    "assert factorial(1) == 1, \"Expected output factorial(1) = 1\"\n",
    "assert factorial(5) == 120, \"Expected output factorial(5) = 120\"\n",
    "assert factorial(20) == 2432902008176640000, \"Expected output factorial(20) = 2432902008176640000\"\n",
    "### HIDDEN TESTS\n",
    "assert factorial(10) == 3628800\n",
    "### HIDDEN TESTS"
   ]
  },
  {
   "cell_type": "markdown",
   "metadata": {
    "deletable": false,
    "editable": false,
    "nbgrader": {
     "cell_type": "markdown",
     "checksum": "b29ca716c59d7d2f2a4ccf08d35293fc",
     "grade": false,
     "grade_id": "cell-1c03a8b369d00de3",
     "locked": true,
     "schema_version": 3,
     "solution": false,
     "task": false
    }
   },
   "source": [
    "## Problem 4: Fibonacci Numbers (2 points)\n",
    "\n",
    "The Fibonacci sequence is a sequence that starts with 0 and 1, and then each successive entry is the sum of the previous two. Thus, the sequence goes \n",
    "$$0, 1, 1, 2, 3, 5, 8, 13, 21, 34, 55, 89,...$$\n",
    "Write a function called `fibonacci` that returns a **list** of the first $n$ Fibonacci numbers. Again: replace the lines that say `# YOUR CODE HERE` and `raise NotImplementedError()` with your solution. "
   ]
  },
  {
   "cell_type": "code",
   "execution_count": null,
   "metadata": {
    "deletable": false,
    "nbgrader": {
     "cell_type": "code",
     "checksum": "44fc4debce32f4b42b63e629e13fcca1",
     "grade": false,
     "grade_id": "cell-0fc30fefc335dfc6",
     "locked": false,
     "schema_version": 3,
     "solution": true,
     "task": false
    }
   },
   "outputs": [],
   "source": [
    "def fibonacci(n):\n",
    "    \"\"\"\n",
    "    Return the Fibonacci sequence of length n.\n",
    "    Return the error message \"Fibonacci sequence only defined for length 1 or greater.\" when n < 1. \n",
    "    \"\"\"\n",
    "    sequence = [0, 1]\n",
    "    # YOUR CODE HERE\n",
    "    raise NotImplementedError()"
   ]
  },
  {
   "cell_type": "code",
   "execution_count": null,
   "metadata": {},
   "outputs": [],
   "source": [
    "# You can use this code cell to play around with your function to make sure\n",
    "# it does what it is intended to do, i.e. to debug your code. \n"
   ]
  },
  {
   "cell_type": "code",
   "execution_count": null,
   "metadata": {
    "deletable": false,
    "editable": false,
    "nbgrader": {
     "cell_type": "code",
     "checksum": "7aa74b6906a9cef9f324c1f8ef099b4b",
     "grade": false,
     "grade_id": "cell-d0eabc0adc7a92f7",
     "locked": true,
     "schema_version": 3,
     "solution": false,
     "task": false
    }
   },
   "outputs": [],
   "source": [
    "# Test cases\n",
    "print(fibonacci(12))\n",
    "print(fibonacci(0))"
   ]
  },
  {
   "cell_type": "markdown",
   "metadata": {
    "deletable": false,
    "editable": false,
    "nbgrader": {
     "cell_type": "markdown",
     "checksum": "9731c5ea121553f91500051c2a5d212d",
     "grade": false,
     "grade_id": "cell-e8a129e9635bb114",
     "locked": true,
     "schema_version": 3,
     "solution": false,
     "task": false
    }
   },
   "source": [
    "Expected output: \n",
    "\n",
    "    [0, 1, 1, 2, 3, 5, 8, 13, 21, 34, 55, 89]\n",
    "    Fibonacci sequence only defined for length 1 or greater."
   ]
  },
  {
   "cell_type": "code",
   "execution_count": null,
   "metadata": {
    "deletable": false,
    "editable": false,
    "nbgrader": {
     "cell_type": "code",
     "checksum": "dab923708c33a5323127d133b9b3edb9",
     "grade": true,
     "grade_id": "cell-a7222fbf384e5c62",
     "locked": true,
     "points": 2,
     "schema_version": 3,
     "solution": false,
     "task": false
    }
   },
   "outputs": [],
   "source": [
    "# AUTOGRADING\n",
    "assert fibonacci(12) == [0, 1, 1, 2, 3, 5, 8, 13, 21, 34, 55, 89]\n",
    "assert fibonacci(0) == \"Fibonacci sequence only defined for length 1 or greater.\"\n",
    "\n",
    "### HIDDEN TESTS\n",
    "assert fibonacci(10) == [0, 1, 1, 2, 3, 5, 8, 13, 21, 34]\n",
    "assert fibonacci(-5) == \"Fibonacci sequence only defined for length 1 or greater.\"\n",
    "### HIDDEN TESTS"
   ]
  },
  {
   "cell_type": "markdown",
   "metadata": {
    "deletable": false,
    "editable": false,
    "nbgrader": {
     "cell_type": "markdown",
     "checksum": "1ca9f6ddeea65cb7a7f346fa86f10c20",
     "grade": false,
     "grade_id": "cell-5a70357aab3731e7",
     "locked": true,
     "schema_version": 3,
     "solution": false,
     "task": false
    }
   },
   "source": [
    "## Problem 5: Plagiarism Detection (3 points)\n",
    "\n",
    "In this exercise we want to compute a metric that measures the distance between two text documents. This allows us to find out whether two documents are similar. This is important for instance if you are Google, that tries to find how well a website matches to your search query. This distance will also allow us to detect duplicates (like Wikipedia mirrors) and cases of plagiarism (you are warned). \n",
    "\n",
    "The idea is to define distance in terms of shared words. We will think of a document D as a dictionary such that D[W] = # occurrences of word W. In other terms, we only keep track of how often each word occurs in the document. For example the documents \n",
    "\n",
    "    \"The dog ate the homework.\"\n",
    "and \n",
    "\n",
    "    \"The cat ate the homework.\"\n",
    "will be thought of as two dictionaries\n",
    "    \n",
    "    {\"the\": 2, \"dog\": 1, \"ate\": 1, \"homework\": 1}\n",
    "    {\"the\": 2, \"cat\": 1, \"ate\": 1, \"homework\": 1}\n",
    "\n",
    "Note that we make no distinction between upper and lower case words. To make the two documents comparable, we want to ensure that both dictionaries have the same keys, so\n",
    "\n",
    "    d1 = {\"the\": 2, \"dog\": 1, \"ate\": 1, \"homework\": 1, \"cat\": 0}\n",
    "    d2 = {\"the\": 2, \"dog\": 0, \"ate\": 1, \"homework\": 1, \"cat\": 1}\n",
    "\n",
    "An appropriate distance measure between two documents we will use is the angle between these documents. In this week's lecture we have learned that we can compute the angle between two vectors $\\vec{x}$ and $\\vec{y}$ as\n",
    "$$\\angle(\\vec{x}, \\vec{y}) = \\cos^{-1}\\left(\\frac{\\langle \\vec{x}, \\vec{y}\\rangle}{\\|\\vec{x}\\| \\|\\vec{y}\\|}\\right).$$\n",
    "If we extract only the word frequencies of the two documents as lists, we can compute their angle:\n",
    "\n",
    "    x = [2, 1, 1, 1, 0]\n",
    "    y = [2, 0, 1, 1, 1]\n",
    "    angle = arccos(6/7)\n",
    "    \n",
    "If the angle is zero radians, this means the two documents are identical (in terms of word counts), whereas an angle of $\\frac{\\pi}{2}$ radians means there are no common words. \n",
    "\n",
    "Implement the following three functions below: `word_list` that converts a string into a list containing each word (lowercase) separely, the function `word_frequencies` that converts a string of words into a dictionary of word-count pairs, and the function `dictionary_angle` that computes the angle between the count-values of two dictionaries. The exact instructions are described in the docstrings. \n",
    "\n",
    "You may assume that the only types of punctuation that occur in the two documents are: `.,!?:;`. We also assume each document ends with a period. "
   ]
  },
  {
   "cell_type": "code",
   "execution_count": null,
   "metadata": {
    "deletable": false,
    "nbgrader": {
     "cell_type": "code",
     "checksum": "713e1cb45eeaa50d18b19bc71efb30c3",
     "grade": false,
     "grade_id": "cell-2c6bcac7d2d669b1",
     "locked": false,
     "schema_version": 3,
     "solution": true,
     "task": false
    }
   },
   "outputs": [],
   "source": [
    "def word_list(document):\n",
    "    \"\"\"\n",
    "    Return a list of lowercase words from a string, in the order\n",
    "    in which they appear in the document. \n",
    "    That is; remove the punctuation symbols, turn every word into\n",
    "    lowercase words and split the resulting string into a list of\n",
    "    individual words. \n",
    "    \n",
    "    Parameters\n",
    "    ----------\n",
    "        document (str): The string that is converted into a list.\n",
    "        \n",
    "        \n",
    "    Returns\n",
    "    -------\n",
    "        document_list (list): The list containing the lowercase words in document.\n",
    "        \n",
    "    Example\n",
    "    -------\n",
    "        document = \"The dog ate the homework.\"\n",
    "        word_list(document)\n",
    "            [\"the\", \"dog\", \"ate\", \"the\", \"homework\"]\n",
    "            \n",
    "    \"\"\"\n",
    "    remove_characters = \".,!?:;\"\n",
    "    # YOUR CODE HERE\n",
    "    raise NotImplementedError()\n",
    "    return(document_list)"
   ]
  },
  {
   "cell_type": "code",
   "execution_count": null,
   "metadata": {},
   "outputs": [],
   "source": [
    "# You can use this code cell to play around with your function to make sure\n",
    "# it does what it is intended to do, i.e. to debug your code. \n"
   ]
  },
  {
   "cell_type": "code",
   "execution_count": null,
   "metadata": {
    "deletable": false,
    "editable": false,
    "nbgrader": {
     "cell_type": "code",
     "checksum": "3e388cb3f2b35a1e94fc96e5ff6c92d2",
     "grade": false,
     "grade_id": "cell-5c1a063fbf4ca1b5",
     "locked": true,
     "schema_version": 3,
     "solution": false,
     "task": false
    }
   },
   "outputs": [],
   "source": [
    "# Test case\n",
    "doc = \"The dog ate the homework. Or did the cat eat the homework?\"\n",
    "print(word_list(doc))"
   ]
  },
  {
   "cell_type": "markdown",
   "metadata": {
    "deletable": false,
    "editable": false,
    "nbgrader": {
     "cell_type": "markdown",
     "checksum": "599244ec0be49c21f6abc4e5b9afc5d1",
     "grade": false,
     "grade_id": "cell-973ac390dd752542",
     "locked": true,
     "schema_version": 3,
     "solution": false,
     "task": false
    }
   },
   "source": [
    "Expected output:\n",
    "    \n",
    "    ['the', 'dog', 'ate', 'the', 'homework', 'or', 'did', 'the', 'cat', 'eat', 'the', 'homework']"
   ]
  },
  {
   "cell_type": "code",
   "execution_count": null,
   "metadata": {
    "deletable": false,
    "nbgrader": {
     "cell_type": "code",
     "checksum": "9bb80b0b0b2635bbbef96c29b0c03c9f",
     "grade": false,
     "grade_id": "cell-ec1a131442d1ef90",
     "locked": false,
     "schema_version": 3,
     "solution": true,
     "task": false
    }
   },
   "outputs": [],
   "source": [
    "def word_frequencies(word_list1, word_list2):\n",
    "    \"\"\"\n",
    "    Return two dictionaries whose keys are the words that occur in the union\n",
    "    of the two wordlists, and whose corresponding value is the word count\n",
    "    in their respective document.\n",
    "    \n",
    "    Parameters\n",
    "    ----------\n",
    "        word_list1 (list): A list containing lowercase words.\n",
    "        word_list2 (list): A second list containing lowercase words.\n",
    "        \n",
    "    Returns\n",
    "    -------\n",
    "        dictionary1 (dict): Dictionary containing word-count pairs for word_list1,\n",
    "                            whose keys are words that occur in word_list1 or word_list2.\n",
    "        dictionary2 (dict): Dictionary containing word-count pairs for word_list2,\n",
    "                            whose keys are words that occur in word_list1 or word_list2.\n",
    "                            \n",
    "    Example\n",
    "    -------\n",
    "        word_list1 = [\"the\", \"dog\", \"ate\", \"the\", \"homework\"]\n",
    "        word_list2 = [\"the\", \"cat\", \"ate\", \"the\", \"homework\"]\n",
    "        dict1, dict2 = word_frequencies(document1, document2)\n",
    "            ({'the': 2, 'dog': 1, 'ate': 1, 'homework': 1, 'cat': 0},\n",
    "             {'the': 2, 'dog': 0, 'ate': 1, 'homework': 1, 'cat': 1})\n",
    "    \n",
    "    \"\"\"\n",
    "    dictionary1, dictionary2 = {}, {}\n",
    "    combined_word_list = word_list1 + word_list2\n",
    "        \n",
    "    for word in combined_word_list:\n",
    "        dictionary1[word] = 0\n",
    "        dictionary2[word] = 0\n",
    "        \n",
    "    # YOUR CODE HERE\n",
    "    raise NotImplementedError()"
   ]
  },
  {
   "cell_type": "code",
   "execution_count": null,
   "metadata": {},
   "outputs": [],
   "source": [
    "# You can use this code cell to play around with your function to make sure\n",
    "# it does what it is intended to do, i.e. to debug your code. \n"
   ]
  },
  {
   "cell_type": "code",
   "execution_count": null,
   "metadata": {
    "deletable": false,
    "editable": false,
    "nbgrader": {
     "cell_type": "code",
     "checksum": "0dbf8f135bd8f2e400d4081e745d2b1b",
     "grade": false,
     "grade_id": "cell-505c16443f0f75fc",
     "locked": true,
     "schema_version": 3,
     "solution": false,
     "task": false
    }
   },
   "outputs": [],
   "source": [
    "# Test case\n",
    "word_list1 = [\"the\", \"dog\", \"ate\", \"the\", \"homework\"]\n",
    "word_list2 = [\"the\", \"cat\", \"ate\", \"the\", \"homework\"]\n",
    "dict1, dict2 = word_frequencies(word_list1, word_list2)\n",
    "print(dict1)\n",
    "print(dict2)"
   ]
  },
  {
   "cell_type": "markdown",
   "metadata": {
    "deletable": false,
    "editable": false,
    "nbgrader": {
     "cell_type": "markdown",
     "checksum": "6305eac40c014186a90a7d2bc4f6d281",
     "grade": false,
     "grade_id": "cell-75d4d2f59c7eb040",
     "locked": true,
     "schema_version": 3,
     "solution": false,
     "task": false
    }
   },
   "source": [
    "Expected output:\n",
    "    \n",
    "    {'the': 2, 'dog': 1, 'ate': 1, 'homework': 1, 'cat': 0}\n",
    "    {'the': 2, 'dog': 0, 'ate': 1, 'homework': 1, 'cat': 1}"
   ]
  },
  {
   "cell_type": "code",
   "execution_count": null,
   "metadata": {
    "deletable": false,
    "nbgrader": {
     "cell_type": "code",
     "checksum": "3c8cc7cf360d50bfae9a8820a179971f",
     "grade": false,
     "grade_id": "cell-37f85cf5c716f861",
     "locked": false,
     "schema_version": 3,
     "solution": true,
     "task": false
    }
   },
   "outputs": [],
   "source": [
    "import math\n",
    "\n",
    "def dictionary_angle(dictionary1, dictionary2):\n",
    "    \"\"\"\n",
    "    Return the angle between two word-count dictionaries. \n",
    "    Hint: Use math.acos for the inverse cosine. \n",
    "    \n",
    "    Parameters\n",
    "    ----------\n",
    "        dictionary1 (dict): First input dictionary containing word-count pairs\n",
    "        dictionary2 (dict): Second input dictionary containing word-count pairs,\n",
    "                            whose keys (the words) are the same as dictionary1,\n",
    "                            and also in the same order.\n",
    "    \n",
    "    Returns\n",
    "    -------\n",
    "        angle (float): The angle between the value vectors (the word counts).\n",
    "        \n",
    "    Example\n",
    "    -------\n",
    "        dictionary1 = {'the': 2, 'dog': 1, 'ate': 1, 'homework': 1, 'cat': 0}\n",
    "        dictionary2 = {'the': 2, 'dog': 0, 'ate': 1, 'homework': 1, 'cat': 1}\n",
    "        dictionary_angle(dictionary1, dictionary2)\n",
    "            0.541099525957146\n",
    "    \"\"\"\n",
    "    \n",
    "    # YOUR CODE HERE\n",
    "    raise NotImplementedError()"
   ]
  },
  {
   "cell_type": "code",
   "execution_count": null,
   "metadata": {},
   "outputs": [],
   "source": [
    "# You can use this code cell to play around with your function to make sure\n",
    "# it does what it is intended to do, i.e. to debug your code. \n"
   ]
  },
  {
   "cell_type": "code",
   "execution_count": null,
   "metadata": {
    "deletable": false,
    "editable": false,
    "nbgrader": {
     "cell_type": "code",
     "checksum": "04f7c4d30090e19eb2b3da4811198446",
     "grade": false,
     "grade_id": "cell-dabff3dd6abeeccb",
     "locked": true,
     "schema_version": 3,
     "solution": false,
     "task": false
    }
   },
   "outputs": [],
   "source": [
    "# Test case\n",
    "dict1 = {'the': 2, 'dog': 1, 'ate': 1, 'homework': 1, 'cat': 0}\n",
    "dict2 = {'the': 2, 'dog': 0, 'ate': 1, 'homework': 1, 'cat': 1}\n",
    "dictionary_angle(dict1, dict2)"
   ]
  },
  {
   "cell_type": "markdown",
   "metadata": {
    "deletable": false,
    "editable": false,
    "nbgrader": {
     "cell_type": "markdown",
     "checksum": "4d11911f0a0b3e5bbefd63d1a9ed321e",
     "grade": false,
     "grade_id": "cell-8287ec6ed40636ee",
     "locked": true,
     "schema_version": 3,
     "solution": false,
     "task": false
    }
   },
   "source": [
    "Expected output:\n",
    "\n",
    "    0.541099525957146"
   ]
  },
  {
   "cell_type": "markdown",
   "metadata": {
    "deletable": false,
    "editable": false,
    "nbgrader": {
     "cell_type": "markdown",
     "checksum": "128c2e96581b373791280a1786fd99ef",
     "grade": false,
     "grade_id": "cell-bbe680a5c61d18f4",
     "locked": true,
     "schema_version": 3,
     "solution": false,
     "task": false
    }
   },
   "source": [
    "### Case study for autograding\n",
    "\n",
    "Here are two excerpts, one from a speech Michelle Obama gave in 2008 and one from Melania Trump eight years later of similar nature. It serves as a nice test case for autograding."
   ]
  },
  {
   "cell_type": "code",
   "execution_count": null,
   "metadata": {
    "deletable": false,
    "editable": false,
    "nbgrader": {
     "cell_type": "code",
     "checksum": "2c09f094b35252b2a99b782e76071dcd",
     "grade": true,
     "grade_id": "cell-23c1e842cce2f754",
     "locked": true,
     "points": 1,
     "schema_version": 3,
     "solution": false,
     "task": false
    }
   },
   "outputs": [],
   "source": [
    "# AUTOGRADING\n",
    "\n",
    "Obama = \"And Barack and I were raised with so many of the same values: \\\n",
    "         that you work hard for what you want in life; that your word \\\n",
    "         is your bond and you do what you say you're going to do; that \\\n",
    "         you treat people with dignity and respect, even if you don't know \\\n",
    "         them, and even if you don't agree with them. And Barack and I set \\\n",
    "         out to build lives guided by these values, and to pass them on to \\\n",
    "         the next generation. Because we want our children and all children \\\n",
    "         in this nation to know that the only limit to the height of your \\\n",
    "         achievements is the reach of your dreams and your willingness to \\\n",
    "         work for them.\"\n",
    "\n",
    "Trump = \"From a young age, my parents impressed on me the values that you \\\n",
    "         work hard for what you want in life, that your word is your bond and \\\n",
    "         you do what you say and keep your promise, that you treat people \\\n",
    "         with respect. They taught and showed me values and morals in their \\\n",
    "         daily lives. That is a lesson that I continue to pass along to our \\\n",
    "         son. And we need to pass those lessons on to the many generations to \\\n",
    "         follow. Because we want our children in this nation to know that the \\\n",
    "         only limit to your achievements is the strength of your dreams and \\\n",
    "         your willingness to work for them.\"\n",
    "\n",
    "list_Obama = word_list(Obama)\n",
    "list_Trump = word_list(Trump)\n",
    "\n",
    "assert list_Obama[20] == 'want'\n",
    "assert list_Trump[20] == 'life'\n",
    "\n",
    "### HIDDEN TESTS\n",
    "\n",
    "document = \"The dog ate the homework. Or did the cat eat the homework?\"\n",
    "document_list = word_list(document)\n",
    "\n",
    "assert document_list == ['the', 'dog', 'ate', 'the', 'homework', 'or', 'did', 'the', 'cat', 'eat', 'the', 'homework']\n",
    "\n",
    "### HIDDEN TESTS"
   ]
  },
  {
   "cell_type": "code",
   "execution_count": null,
   "metadata": {
    "deletable": false,
    "editable": false,
    "nbgrader": {
     "cell_type": "code",
     "checksum": "9ccaa339a2f46193da1950bcf3091f2f",
     "grade": true,
     "grade_id": "cell-aeadfe3d4fe3ea4f",
     "locked": true,
     "points": 1,
     "schema_version": 3,
     "solution": false,
     "task": false
    }
   },
   "outputs": [],
   "source": [
    "# AUTOGRADING\n",
    "\n",
    "list_Obama = ['and', 'barack', 'and', 'i', 'were', 'raised', 'with', 'so', 'many', 'of', 'the', 'same', 'values', \n",
    "              'that', 'you', 'work', 'hard', 'for', 'what', 'you', 'want', 'in', 'life', 'that', 'your', 'word', \n",
    "              'is', 'your', 'bond', 'and', 'you', 'do', 'what', 'you', 'say', \"you're\", 'going', 'to', 'do', 'that',\n",
    "              'you', 'treat', 'people', 'with', 'dignity', 'and', 'respect', 'even', 'if', 'you', \"don't\", 'know', \n",
    "              'them', 'and', 'even', 'if', 'you', \"don't\", 'agree', 'with', 'them', 'and', 'barack', 'and', 'i', 'set', \n",
    "              'out','to', 'build', 'lives','guided', 'by', 'these', 'values', 'and', 'to', 'pass', 'them', 'on', 'to', \n",
    "              'the', 'next', 'generation', 'because', 'we', 'want', 'our', 'children', 'and', 'all', 'children', \n",
    "              'in', 'this', 'nation', 'to', 'know', 'that', 'the', 'only', 'limit', 'to', 'the', 'height', 'of', 'your', \n",
    "              'achievements', 'is', 'the', 'reach', 'of', 'your', 'dreams', 'and', 'your', 'willingness', 'to', \n",
    "              'work', 'for', 'them']\n",
    "\n",
    "list_Trump = ['from', 'a', 'young', 'age', 'my', 'parents', 'impressed', 'on', 'me', 'the', 'values', 'that', 'you',\n",
    "              'work', 'hard', 'for', 'what', 'you', 'want', 'in', 'life', 'that', 'your', 'word', 'is', 'your', 'bond',\n",
    "              'and', 'you', 'do', 'what', 'you', 'say', 'and', 'keep', 'your', 'promise', 'that', 'you', 'treat', 'people',\n",
    "              'with', 'respect', 'they', 'taught', 'and', 'showed', 'me', 'values', 'and', 'morals', 'in', 'their', \n",
    "              'daily', 'lives', 'that', 'is', 'a', 'lesson', 'that', 'i', 'continue', 'to', 'pass', 'along', 'to', 'our',\n",
    "              'son', 'and', 'we', 'need', 'to', 'pass', 'those', 'lessons', 'on', 'to', 'the', 'many', 'generations', 'to', \n",
    "              'follow', 'because', 'we', 'want', 'our', 'children', 'in', 'this', 'nation', 'to', 'know', 'that', 'the',\n",
    "              'only', 'limit', 'to', 'your', 'achievements', 'is', 'the', 'strength', 'of', 'your', 'dreams', 'and', \n",
    "              'your', 'willingness', 'to', 'work', 'for', 'them']\n",
    "\n",
    "dict_Obama, dict_Trump = word_frequencies(list_Obama, list_Trump)\n",
    "\n",
    "assert dict_Obama['you'] == 7\n",
    "assert dict_Trump['to'] == 8\n",
    "\n",
    "### HIDDEN TESTS\n",
    "word_list1 = [\"the\", \"dog\", \"ate\", \"the\", \"homework\"]\n",
    "word_list2 = [\"the\", \"cat\", \"ate\", \"the\", \"homework\"]\n",
    "\n",
    "dict1, dict2 = word_frequencies(word_list1, word_list2)\n",
    "\n",
    "assert dict1 == {'the': 2, 'dog': 1, 'ate': 1, 'homework': 1, 'cat': 0} \n",
    "assert dict2 == {'the': 2, 'dog': 0, 'ate': 1, 'homework': 1, 'cat': 1}\n",
    "### HIDDEN TESTS"
   ]
  },
  {
   "cell_type": "code",
   "execution_count": null,
   "metadata": {
    "deletable": false,
    "editable": false,
    "nbgrader": {
     "cell_type": "code",
     "checksum": "8766acc5e68a4bc8f5c555dc08e55ff3",
     "grade": true,
     "grade_id": "cell-f7c2fd75108a961e",
     "locked": true,
     "points": 1,
     "schema_version": 3,
     "solution": false,
     "task": false
    }
   },
   "outputs": [],
   "source": [
    "# AUTOGRADING\n",
    "dict_Obama = {'and': 10, 'barack': 2, 'i': 2, 'were': 1, 'raised': 1, 'with': 3, 'so': 1, 'many': 1, \n",
    "              'of': 3, 'the': 5, 'same': 1, 'values': 2, 'that': 4, 'you': 7, 'work': 2, 'hard': 1, \n",
    "              'for': 2, 'what': 2, 'want': 2, 'in': 2, 'life': 1, 'your': 5, 'word': 1, 'is': 2, \n",
    "              'bond': 1, 'do': 2, 'say': 1, \"you're\": 1, 'going': 1, 'to': 7, 'treat': 1, 'people': 1, \n",
    "              'dignity': 1, 'respect': 1, 'even': 2, 'if': 2, \"don't\": 2, 'know': 2, 'them': 4, 'agree': 1, \n",
    "              'set': 1, 'out': 1, 'build': 1, 'lives': 1, 'guided': 1, 'by': 1, 'these': 1, 'pass': 1, \n",
    "              'on': 1, 'next': 1, 'generation': 1, 'because': 1, 'we': 1, 'our': 1, 'children': 2, \n",
    "              'all': 1, 'this': 1, 'nation': 1, 'only': 1, 'limit': 1, 'height': 1, 'achievements': 1, \n",
    "              'reach': 1, 'dreams': 1, 'willingness': 1, 'from': 0, 'a': 0, 'young': 0, 'age': 0, 'my': 0, \n",
    "              'parents': 0, 'impressed': 0, 'me': 0, 'keep': 0, 'promise': 0, 'they': 0, 'taught': 0, \n",
    "              'showed': 0, 'morals': 0, 'their': 0, 'daily': 0, 'lesson': 0, 'continue': 0, 'along': 0, \n",
    "              'son': 0, 'need': 0, 'those': 0, 'lessons': 0, 'generations': 0, 'follow': 0, 'strength': 0} \n",
    "\n",
    "dict_Trump = {'and': 6, 'barack': 0, 'i': 1, 'were': 0, 'raised': 0, 'with': 1, 'so': 0, 'many': 1, 'of': 1, \n",
    "              'the': 4, 'same': 0, 'values': 2, 'that': 6, 'you': 5, 'work': 2, 'hard': 1, 'for': 2, 'what': 2, \n",
    "              'want': 2, 'in': 3, 'life': 1, 'your': 6, 'word': 1, 'is': 3, 'bond': 1, 'do': 1, 'say': 1, \n",
    "              \"you're\": 0, 'going': 0, 'to': 8, 'treat': 1, 'people': 1, 'dignity': 0, 'respect': 1, 'even': 0, \n",
    "              'if': 0, \"don't\": 0, 'know': 1, 'them': 1, 'agree': 0, 'set': 0, 'out': 0, 'build': 0, 'lives': 1, \n",
    "              'guided': 0, 'by': 0, 'these': 0, 'pass': 2, 'on': 2, 'next': 0, 'generation': 0, 'because': 1, \n",
    "              'we': 2, 'our': 2, 'children': 1, 'all': 0, 'this': 1, 'nation': 1, 'only': 1, 'limit': 1, \n",
    "              'height': 0, 'achievements': 1, 'reach': 0, 'dreams': 1, 'willingness': 1, 'from': 1, 'a': 2, \n",
    "              'young': 1, 'age': 1, 'my': 1, 'parents': 1, 'impressed': 1, 'me': 2, 'keep': 1, 'promise': 1, \n",
    "              'they': 1, 'taught': 1, 'showed': 1, 'morals': 1, 'their': 1, 'daily': 1, 'lesson': 1, \n",
    "              'continue': 1, 'along': 1, 'son': 1, 'need': 1, 'those': 1, 'lessons': 1, 'generations': 1, \n",
    "              'follow': 1, 'strength': 1} \n",
    "\n",
    "angle1 = dictionary_angle(dict_Obama, dict_Trump)\n",
    "angle2 = dictionary_angle(dict_Trump, dict_Obama)\n",
    "\n",
    "assert angle1 == angle2\n",
    "\n",
    "### HIDDEN TESTS\n",
    "assert math.isclose(angle1, 0.578729546285134)\n",
    "\n",
    "dict1 = {'the': 2, 'dog': 1, 'ate': 1, 'homework': 1, 'cat': 0}\n",
    "dict2 = {'the': 2, 'dog': 0, 'ate': 1, 'homework': 1, 'cat': 1}\n",
    "assert math.isclose(dictionary_angle(dict1, dict2), 0.541099525957146)\n",
    "\n",
    "### HIDDEN TESTS"
   ]
  }
 ],
 "metadata": {
  "kernelspec": {
   "display_name": "Python 3",
   "language": "python",
   "name": "python3"
  },
  "language_info": {
   "codemirror_mode": {
    "name": "ipython",
    "version": 3
   },
   "file_extension": ".py",
   "mimetype": "text/x-python",
   "name": "python",
   "nbconvert_exporter": "python",
   "pygments_lexer": "ipython3",
   "version": "3.6.8"
  }
 },
 "nbformat": 4,
 "nbformat_minor": 4
}
